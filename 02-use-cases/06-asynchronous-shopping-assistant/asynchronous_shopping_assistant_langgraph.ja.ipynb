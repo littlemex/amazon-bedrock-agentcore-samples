{
 "cells": [
  {
   "cell_type": "markdown",
   "id": "5c0122e65c053f38",
   "metadata": {},
   "source": [
    "# 非同期ショッピングアシスタントの LangGraph 活用\n\n## 概要\n\nこのチュートリアルでは、ユーザとの会話を維持しながら Amazon で商品を検索できる非同期ショッピングアシスタントを構築します。このユースケースは、Amazon Bedrock AgentCore の非同期機能と LangGraph を活用して、時間のかかるタスクをバックグラウンドで実行できる応答性の高いエージェントを作成する方法を示しています。\n\n### ユースケースの詳細\n\n| 情報                | 詳細                                                                         |\n|---------------------|------------------------------------------------------------------------------|\n| ユースケースのタイプ | ショッピングアシスタント                                                    |\n| エージェントのタイプ | 非同期                                                                       |\n| エージェントフレームワーク | LangGraph                                                             |\n| LLM モデル          | Anthropic Claude 3 Haiku                                                     |\n| コンポーネント       | AgentCore Runtime、Browser Tool、Async Tasks                                |\n| 例の複雑さ           | 中級                                                                         |\n| 使用した SDK         | Amazon BedrockAgentCore Python SDK                                           |\n\n### ユースケースのアーキテクチャ\n\nこのショッピングアシスタントは、時間のかかるタスクを処理しながら会話の流れを維持できる応答性の高い AI エージェントを構築するための強力なパターンを示しています。\n\n1. ユーザが興味のある商品について尋ねる\n2. エージェントは AgentCore の非同期機能を使ってバックグラウンドタスクを開始する\n3. バックグラウンドタスクが実行されている間、エージェントはユーザとの会話を続けることができる\n4. 結果が出そろったら、エージェントがアクセスできるファイルに保存される\n5. エージェントは適切なタイミングで結果を取得して提示できる\n\nこのアーキテクチャでは、以下のような主要コンポーネントが組み合わされています。\n- **LangGraph**: エージェントのワークフローと意思決定プロセスを構築するため\n- **AgentCore Runtime**: エージェントをホストおよびスケーリングするため\n- **AgentCore Async Tasks**: バックグラウンド操作を管理するため\n- **Browser Tool**: 商品情報を検索および抽出するため\n- **ファイルシステム**: 検索結果を保存および取得するため\n\n![](images/architecture_diagram.png)\n\n### 主な機能\n\n* **非同期タスク管理**: 会話をブロックしないバックグラウンドタスクを起動\n* **Browser Tool 統合**: AgentCore の Browser Tool を使って商品情報を検索および抽出\n* **ステートフル会話**: LangGraph を使って複数ターンにわたるコンテキストを維持\n* **ファイルシステム統合**: ファイルシステムツールを使って検索結果を保存および取得\n* **並列処理**: 複数の商品検索を同時に処理"
   ]
  },
  {
   "cell_type": "markdown",
   "id": "3a676f58ecf52b42",
   "metadata": {},
   "source": [
    "## 前提条件\n\nこのチュートリアルを実行するには、以下が必要です:\n\n* Python 3.10+\n* 適切な権限を持つ AWS 認証情報\n* Amazon Bedrock AgentCore SDK\n* LangGraph\n* Docker の実行 (ローカルテストとデプロイ用)"
   ]
  },
  {
   "cell_type": "code",
   "execution_count": null,
   "id": "initial_id",
   "metadata": {},
   "outputs": [],
   "source": [
    "# 必要なパッケージをインストールする\n\n pip install numpy\n pip install pandas\n pip install matplotlib\n pip install scikit-learn\n!pip install bedrock-agentcore-sdk langgraph langchain langchain_aws typing_extensions"
   ]
  },
  {
   "cell_type": "markdown",
   "id": "ca924a7a2731e26f",
   "metadata": {},
   "source": [
    "## 非同期エージェントの理解\n\n従来の会話型エージェントは、ユーザーのリクエストを同期的に処理します。つまり、タスクが完了するまで会話がブロックされます。この方式は、簡単な操作には適していますが、Web ブラウジングや複雑な検索などの時間のかかるタスクでは、ユーザーエクスペリエンスが低下します。\n\n非同期エージェントは、次の方法でこの問題を解決します。\n\n1. **ノンブロッキング操作**: タスクはバックグラウンドで実行され、会話は継続される\n2. **タスク管理**: エージェントは、バックグラウンドタスクの開始、監視、結果の取得ができる\n3. **応答性の向上**: ユーザーは即座にフィードバックを受け取り、対話を続けることができる\n\nAmazon Bedrock AgentCore は、タスク管理機能を通じて非同期操作をビルトインでサポートしており、この買い物アシスタントでもこの機能を活用します。\n\n### 買い物アシスタントのユースケース\n\n私たちの買い物アシスタントは以下のことを行います。\n- ユーザーから商品検索クエリを受け取る\n- Browser Tool を使って Amazon.com でバックグラウンドタスクを起動し検索を行う\n- 検索中もユーザーとの会話を継続する\n- 検索が完了したら結果をファイルに保存する\n- ユーザーから要求があれば検索結果を取得して提示する\n\nこの手順は、商品検索に時間がかかるが、ユーザーは応答性のある対話を期待する EC アプリケーションにとって特に有用です。"
   ]
  },
  {
   "cell_type": "markdown",
   "id": "intro-to-entrypoint",
   "metadata": {},
   "source": [
    "## 非同期ショッピングアシスタントコードの理解\n\n非同期ショッピングアシスタントの実装の主要コンポーネントを確認しましょう。以下のコードは、ユーザーとの会話を維持しながら Amazon で商品を検索できるショッピングアシスタントを実装しています。\n\n**主要コンポーネント:**\n\n1. **AgentCore 統合**: エージェントをホストする BedrockAgentCoreApp を初期化します\n2. **ブラウザツール実装**: NovaAct を使用して、商品検索のためのブラウザを制御します\n3. **非同期タスク管理**: 会話をブロックしない背景タスクを管理します\n4. **LangGraph エージェント**: エージェントのワークフローと意思決定プロセスを定義します\n5. **エントリポイント関数**: ストリーミングサポートを備えたエージェントの呼び出しを処理します\n\n以下が非同期ショッピングアシスタントの完全な実装です:"
   ]
  },
  {
   "cell_type": "code",
   "execution_count": null,
   "id": "pygmentize-cell",
   "metadata": {},
   "outputs": [],
   "source": [
    "# エントリーポイントコードを構文の強調表示で表示する\n\n日本語訳:\n\n# エントリーポイントコードを構文強調表示で表示します。\n!pygmentize async_example_langgraph_browser_tool.py"
   ]
  },
  {
   "cell_type": "markdown",
   "id": "explanation-cell",
   "metadata": {},
   "source": [
    "### エントリーポイントファイルの理解\n\n`async_example_langgraph_browser_tool.py` ファイルには、非同期のショッピングアシスタントの完全な実装が含まれています。主要なコンポーネントを見ていきましょう。\n\n1. **AgentCore 統合**:\n   ```python\n   from bedrock_agentcore.runtime import BedrockAgentCoreApp\n   app = BedrockAgentCoreApp()\n   ```\n   これにより、エージェントをホストする AgentCore アプリケーションが初期化されます。\n\n2. **ブラウザツールの実装**:\n   ```python\n   def _run_browser_task(request: str):\n       with browser_session('us-west-2') as client:\n           # ブラウザセッションのセットアップ\n           # ...\n           task_id = app.add_async_task(\"using_browser_tool\")\n           # ...\n           with NovaAct(...) as nova_act:\n               result = nova_act.act(prompt=request, max_steps=5)\n               # ...\n           success = app.complete_async_task(task_id)\n   ```\n   この関数は、NovaAct と AgentCore の非同期タスク管理を使用して、バックグラウンドでブラウザタスクを実行します。\n\n3. **LangGraph エージェント**:\n   ```python\n   graph_builder = StateGraph(State)\n   graph_builder.add_node(\"chatbot\", chatbot)\n   graph_builder.add_node(\"tools\", tool_node)\n   # ...\n   graph = graph_builder.compile(checkpointer=checkpointer, store=in_memory_store)\n   ```\n   これにより、chatbot ノードとツールノードを持つ LangGraph エージェントが作成されます。\n\n4. **非同期エントリーポイント**:\n   ```python\n   @app.entrypoint\n   async def agent_invocation(payload, context):\n       # ...\n       async for chunk in graph.astream(tmp_msg, stream_mode=\"updates\", config=config):\n           # チャンクの処理と出力\n   ```\n   この関数は、`@app.entrypoint` でデコレートされた、エージェントのエントリーポイントです。async/await パターンを使用して、レスポンスをストリーミングします。\n\nこのファイルは、バックグラウンドタスクを実行しながら、ユーザーとの会話を維持できる非同期エージェントの構築方法を示しています。AgentCore のタスク管理機能と LangGraph の状態管理を活用して、レスポンシブなショッピングアシスタントを作成しています。"
   ]
  },
  {
   "cell_type": "markdown",
   "id": "d0861401-a111-4ade-9e02-50f52fdfa9b1",
   "metadata": {},
   "source": [
    "### requirements.txt ファイルの作成\n\n次に、エージェントが必要とするすべての依存関係を列挙した requirements.txt ファイルを作成する必要があります。\n\n日本語訳:\nエージェントが必要とする依存関係をリストアップした requirements.txt ファイルを作成する必要があります。\n\n rasa==3.3.2\n rasa-sdk==3.3.0\n scipy==1.9.3\n scikit-learn==1.1.3\n aiohttp==3.8.3\n aiofiles==0.8.0\n fastapi==0.88.0\n uvicorn==0.20.0\n python-multipart==0.0.5\n\nこのファイルには、プロジェクトで使用するライブラリとそのバージョンが記載されています。 requirements.txt ファイルを作成することで、プロジェクトの依存関係を明確にし、他の人がプロジェクトをセットアップする際に役立ちます。"
   ]
  },
  {
   "cell_type": "code",
   "execution_count": null,
   "id": "54dd2fdf-985c-4a70-8b87-071783a209de",
   "metadata": {},
   "outputs": [],
   "source": [
    "%%writefile requirements.txt\n",
    "bedrock-agentcore-sdk\n",
    "langgraph\n",
    "langchain\n",
    "langchain_aws\n",
    "typing_extensions\n",
    "langchain_community"
   ]
  },
  {
   "cell_type": "markdown",
   "id": "8855aceb-b79f-4aaa-b16f-8577c059816a",
   "metadata": {},
   "source": [
    "### ランタイムロールの作成\n\n私たちのエージェントをデプロイする前に、AgentCore Runtimeで使用されるIAMロールを作成する必要があります。このロールには、Amazon Bedrock や他のAWS サービスにアクセスするための必要な許可が付与されます。\n\n日本語訳:\n### ランタイムロールの作成\n\nエージェントをデプロイする前に、AgentCore Runtime で使用される IAM ロールを作成する必要があります。このロールには、Amazon Bedrock やその他の AWS サービスにアクセスするための必要な許可が付与されます。"
   ]
  },
  {
   "cell_type": "code",
   "execution_count": null,
   "id": "2e79eba2-ca59-463f-9ebf-56e362d7ae66",
   "metadata": {},
   "outputs": [],
   "source": [
    "import sys\nimport os\nimport json\nimport boto3\n\n# Get the current notebook's directory\n\n現在のノートブックのディレクトリを取得する\n\nimport os\ncwd = os.getcwd()\nprint( \"Current working directory is: \" + cwd )\n\n# Print the current working directory\nprint( \"Current working directory is: \" + cwd )\n\n# Change directory\nos.chdir( '/path/to/new/directory' )\n\n# Get the new current working directory\nnew_cwd = os.getcwd()\nprint( \"New current working directory is: \" + new_cwd )\ncurrent_dir = os.path.dirname(os.path.abspath('__file__' if '__file__' in globals() else '.'))\n\n# Navigate up to the utils.py location\n\nutils.py の場所まで上へ移動します。\nutils_dir = os.path.join(current_dir, '..', '..')\nutils_dir = os.path.abspath(utils_dir)\n\n# Add to sys.path\n\nimport sys\nsys.path.append('/path/to/app/')\n\n# 半角英数字の前後に半角スペースを挿入\ntext = \"Hello 123 World 456\"\nnew_text = \"\"\nfor char in text:\n    if char.isdigit():\n        new_text += \" \" + char + \" \"\n    else:\n        new_text += char\nprint(new_text)  # => \"Hello 123 World 456\"\n\n# コードやコマンド、変数名、関数名などの技術的な用語は翻訳せず、そのまま残す\nimport numpy as np\nx = np.array([1, 2, 3])\nprint(x)  # => [1 2 3]\n\n日本語訳:\n\n# sys.pathに追加する\n\nimport sys\nsys.path.append('/path/to/app/')\n\n# 半角英数字の前後に半角スペースを挿入する\ntext = \"Hello 123 World 456\"\nnew_text = \"\"\nfor char in text:\n    if char.isdigit():\n        new_text += \" \" + char + \" \"\n    else:\n        new_text += char\nprint(new_text)  # => \"Hello 123 World 456\"\n\n# コードやコマンド、変数名、関数名などの技術的な用語はそのまま残す\nimport numpy as np\nx = np.array([1, 2, 3])\nprint(x)  # => [1 2 3]\nsys.path.insert(0, utils_dir)\n\nfrom utils import create_agentcore_role\n\nagent_name=\"async_shopping_assistant\"\nagentcore_iam_role = create_agentcore_role(agent_name=agent_name)"
   ]
  },
  {
   "cell_type": "markdown",
   "id": "9e1b84cc-798e-472c-ac0b-2c315f4b704d",
   "metadata": {},
   "source": [
    "### AgentCore Runtimeのデプロイを設定する\n\n次に、AgentCoreスターターツールキットを使用して、私たちのエージェントのデプロイを設定します。これにより、アプリケーションコードに基づいて Dockerfile が生成され、デプロイ準備が整えられます。\n\n日本語訳:\n### AgentCore Runtime の デプロイを設定する\n\nこれから AgentCore スターターツールキットを使って、私たちのエージェントの デプロイを設定します。これにより、アプリケーションコードに基づいて Dockerfile が生成され、すべてが デプロイの準備が整えられます。"
   ]
  },
  {
   "cell_type": "code",
   "execution_count": null,
   "id": "17a32ab8-7701-4900-8055-e24364bdf35c",
   "metadata": {},
   "outputs": [],
   "source": [
    "from bedrock_agentcore_starter_toolkit import Runtime\n",
    "from boto3.session import Session\n",
    "import time\n",
    "\n",
    "boto_session = Session()\n",
    "region = boto_session.region_name\n",
    "print(f\"Using AWS region: {region}\")\n",
    "\n",
    "agentcore_runtime = Runtime()\n",
    "\n",
    "response = agentcore_runtime.configure(\n",
    "    entrypoint=\"async_example_langgraph_browser_tool.py\",\n",
    "    execution_role=agentcore_iam_role['Role']['Arn'],\n",
    "    auto_create_ecr=True,\n",
    "    requirements_file=\"requirements.txt\",\n",
    "    region=region\n",
    ")\n",
    "response"
   ]
  },
  {
   "cell_type": "markdown",
   "id": "a0ae9c09-09db-4a76-871a-92eacd96b9c3",
   "metadata": {},
   "source": [
    "### AgentCore Runtimeへのエージェントの起動\n\nエージェントの設定が完了したので、次は AgentCore Runtime にエージェントを起動しましょう。これにより、Amazon ECR リポジトリが作成され、エージェントが AgentCore Runtime にデプロイされます。\n\n<div style=\"text-align:left\">\n    <img src=\"images/launch.png\" width=\"75%\"/>\n</div>"
   ]
  },
  {
   "cell_type": "code",
   "execution_count": null,
   "id": "afa6ac09-9adb-4846-9fc1-4d12aeb74853",
   "metadata": {},
   "outputs": [],
   "source": [
    "launch_result = agentcore_runtime.launch()\n",
    "launch_result"
   ]
  },
  {
   "cell_type": "markdown",
   "id": "b7f89c56-918a-4cab-beaa-c7ac43a2ba29",
   "metadata": {},
   "source": [
    "### AgentCore ランタイムのステータスを確認する\n\n私たちのエージェントの展開状況を確認しましょう。ステータスが \"READY\" になるまで待ちます。\n\n日本語訳:\n\n### AgentCore ランタイムのステータスを確認する\n\nエージェントの展開状況を確認しましょう。ステータスが \"READY\" になるまで待ちます。"
   ]
  },
  {
   "cell_type": "code",
   "execution_count": null,
   "id": "3d909e42-e1a0-407f-84c2-3d16cc889cd3",
   "metadata": {},
   "outputs": [],
   "source": [
    "status_response = agentcore_runtime.status()\n",
    "status = status_response.endpoint['status']\n",
    "end_status = ['READY', 'CREATE_FAILED', 'DELETE_FAILED', 'UPDATE_FAILED']\n",
    "while status not in end_status:\n",
    "    time.sleep(10)\n",
    "    status_response = agentcore_runtime.status()\n",
    "    status = status_response.endpoint['status']\n",
    "    print(status)\n",
    "status"
   ]
  },
  {
   "cell_type": "markdown",
   "id": "fefa09f2-d25a-483f-aedb-11690bb8923a",
   "metadata": {},
   "source": [
    "### AgentCore Runtimeの呼び出し\n\n私たちのエージェントが展開され、準備ができたので、製品検索クエリでそれを呼び出してみましょう。これにより、私たちのショッピングアシスタントの非同期機能が実証されます。\n\n ` curl -X POST -H \"Content-Type: application/json\" -d '{\"query\": \"I need a new laptop for video editing\"}' http://localhost:8000/query `\n\n上記の curl コマンドを使用して、ローカルホストの 8000 ポートでリッスンしている AgentCore Runtime にクエリを送信します。応答は JSON 形式で返されます。\n\n ` {\n  \"result\": \"Received query: I need a new laptop for video editing. Working on finding the best laptop for your needs...\"\n} `\n\nこの初期応答は、クエリが受信され、エージェントがタスクに取り組んでいることを示しています。エージェントは非同期で動作するため、完了までに時間がかかる可能性があります。"
   ]
  },
  {
   "cell_type": "code",
   "execution_count": null,
   "id": "11249103-cfb3-47b5-970d-981a977a225a",
   "metadata": {},
   "outputs": [],
   "source": [
    "from IPython.display import Markdown, display\n\n# 製品検索クエリでエージェントを呼び出す\n\n日本語訳:\n\n製品検索クエリでエージェントを呼び出すには、以下のように入力します。\n\n```python\nresponse = agent.run(\" search_quality_reflection \", product_search_query)\n```\n\nこの `agent.run()` 関数は、2つの引数を取ります。\n\n1. `\" search_quality_reflection \"` は、エージェントに実行させるタスクの名前です。この場合は、製品検索の質を反映させるタスクです。\n\n2. `product_search_query` は、ユーザーが入力した製品検索クエリです。例えば `\"ノート PC 15 インチ\"` などです。\n\n`response` 変数には、エージェントの応答が格納されます。この応答は、製品検索の質に関する洞察や提案が含まれています。\n\nこの方法で、製品検索クエリに基づいて、エージェントの知識と推論能力を活用することができます。\ninvoke_response = agentcore_runtime.invoke({\"prompt\": \"I'm looking for a good laptop for programming. Can you help me find some options?\"})\n\n# Display the response\n\nレスポンスを表示します\nresponse_text = json.loads(invoke_response['response'][0].decode(\"utf-8\"))\ndisplay(Markdown(response_text))"
   ]
  },
  {
   "cell_type": "markdown",
   "id": "2c1d2bce-be41-478c-8bed-b4037c385795",
   "metadata": {},
   "source": [
    "### 非同期ショッピングアシスタントの動作を見る\n\n製品検索クエリでエージェントを呼び出すと、バックグラウンドタスクが製品を検索しながら、あなたとチャットを続けます。実際の動作を見るには:\n\n1. AWS コンソールに移動し、Amazon Bedrock セクションに行きます\n![](images/go_to_bedrock_agentcore_console.png)\n\n2. ブラウザツールタブで、エージェントのブラウザセッションが表示されます\n   ![](images/browser_use_tab.png)\n\n3. AgentCore が提供する組み込みのブラウザサンドボックスが見られます\n   ![](images/aws_built_in_browser_sandbox.png)\n\n4. 「View Live Session」をクリックすると、ブラウザの動作が見られます\n   ![](images/click_view_live_session.png)\n\n5. エージェントがブラウザを操作して製品を検索する様子を見てください\n   ![](images/watch_the_agent_interact_with_browser.png)\n\nエージェントは、製品検索がバックグラウンドで実行されている間も、あなたとの会話を続けられることがわかります。検索が完了したら、エージェントに結果を見せるよう尋ねることができます。"
   ]
  },
  {
   "cell_type": "code",
   "execution_count": null,
   "id": "7f84e68d-6c04-41b9-bf5b-60edc3fa0985",
   "metadata": {},
   "outputs": [],
   "source": [
    "# フォローアップの質問をする\n\n日本語訳:\n\n人工知能 (AI) は、 `follow_up_question()` 関数を使って、フォローアップの質問を生成することができます。この関数は、ユーザーの入力と対話の履歴に基づいて、適切なフォローアップの質問を提案します。 `context` 変数には、対話の文脈が含まれています。 `user_input` 変数には、ユーザーの最新の入力が含まれています。\n\n```python\nfollow_up_question(context, user_input)\n```\n\nこの関数は、自然言語処理 (NLP) と機械学習のテクニックを組み合わせて、適切なフォローアップの質問を生成します。生成された質問は、ユーザーに対して表示され、対話を継続するためのプロンプトとして機能します。\n\nフォローアップの質問を生成することで、AI は対話をより自然で関連性の高いものにすることができます。これにより、ユーザーとの対話がより建設的で生産的になり、ユーザーの要求をよりよく理解することができます。\ninvoke_response = agentcore_runtime.invoke({\"prompt\": \"While you're searching, can you tell me what features I should look for in a programming laptop?\"})\n\n# Display the response\n\nレスポンスを表示する\nresponse_text = json.loads(invoke_response['response'][0].decode(\"utf-8\"))\ndisplay(Markdown(response_text))"
   ]
  },
  {
   "cell_type": "markdown",
   "id": "7d3fdfe404469632",
   "metadata": {},
   "source": [
    "では、検索結果の準備ができているかを確認しましょう:"
   ]
  },
  {
   "cell_type": "code",
   "execution_count": null,
   "id": "08f86824-c775-4ad4-aaee-f18e8cf390b9",
   "metadata": {},
   "outputs": [],
   "source": [
    "# 背景タスクが完了するのを待つ\n\n日本語訳:\n背景タスクが完了するのを待つために 1 時間待ちます。\ntime.sleep(10)\n\n# 検索結果を要求する\n\n日本語訳:\n\n検索結果を要求するには、以下の手順を実行します。\n\n1. ブラウザで検索エンジン (例: Google) を開きます。\n2. 検索ボックスに検索語句 (キーワード) を入力します。\n3. Enter キーを押すか、検索ボタンをクリックして検索を実行します。\n\n検索エンジンは、入力した検索語句に関連するウェブページを検索し、検索結果のリストを表示します。検索結果には、ウェブページのタイトル、URL、簡単な説明が含まれています。\n\n検索結果を絞り込むには、検索語句を変更したり、検索オプションを使用したりできます。検索オプションには、検索範囲の指定 (ウェブ、画像、ニュースなど)、日付範囲の指定、言語の指定などがあります。\n\nより適切な検索結果を得るには、検索語句を適切に選択することが重要です。キーワードを組み合わせたり、フレーズを使用したりすることで、検索をより具体的にできます。また、検索演算子 (site:、inurl:、intitle: など) を使用すると、検索をさらに絞り込むことができます。\ninvoke_response = agentcore_runtime.invoke({\"prompt\": \"Can you show me the laptop search results now?\"})\n\n# Display the response\n\nレスポンスを表示する\nresponse_text = json.loads(invoke_response['response'][0].decode(\"utf-8\"))\ndisplay(Markdown(response_text))"
   ]
  },
  {
   "cell_type": "markdown",
   "id": "b118ad38-feeb-4d1d-9d57-e5c845becc56",
   "metadata": {},
   "source": [
    "### boto3 を使用してエージェントを呼び出す\n\nboto3 を使用すると、プログラムでエージェントを呼び出すことができます。これは、エージェントを他のアプリケーションに統合する際に役立ちます。"
   ]
  },
  {
   "cell_type": "code",
   "execution_count": null,
   "id": "76a6cf1416830a54",
   "metadata": {},
   "outputs": [],
   "source": [
    "agent_arn = launch_result.agent_arn\n",
    "agentcore_client = boto3.client(\n",
    "    'bedrock-agentcore',\n",
    "    region_name=region\n",
    ")\n",
    "\n",
    "boto3_response = agentcore_client.invoke_agent_runtime(\n",
    "    agentRuntimeArn=agent_arn,\n",
    "    qualifier=\"DEFAULT\",\n",
    "    payload=json.dumps({\"prompt\": \"Can you search for wireless headphones?\"})\n",
    ")\n",
    "\n",
    "if \"text/event-stream\" in boto3_response.get(\"contentType\", \"\"):\n",
    "    content = []\n",
    "    for line in boto3_response[\"response\"].iter_lines(chunk_size=1):\n",
    "        if line:\n",
    "            line = line.decode(\"utf-8\")\n",
    "            if line.startswith(\"data: \"):\n",
    "                line = line[6:]\n",
    "                print(line)\n",
    "                content.append(line)\n",
    "    display(Markdown(\"\\n\".join(content)))\n",
    "else:\n",
    "    try:\n",
    "        events = []\n",
    "        for event in boto3_response.get(\"response\", []):\n",
    "            events.append(event)\n",
    "    except Exception as e:\n",
    "        events = [f\"Error reading EventStream: {e}\"]\n",
    "    display(Markdown(json.loads(events[0].decode(\"utf-8\"))))"
   ]
  },
  {
   "cell_type": "markdown",
   "id": "b7d386ab54e85e63",
   "metadata": {},
   "source": [
    "## 結論\n\nこのチュートリアルでは、LangGraphとAmazon Bedrock AgentCoreを使用して非同期のショッピングアシスタントを構築しました。私たちのエージェントは以下のことができます。\n\n1. ユーザーからの製品検索クエリを受け入れる\n2. 製品を検索するためのバックグラウンドタスクを起動する\n3. 検索が実行されている間もユーザーとの会話を続ける\n4. 完了時に検索結果をファイルに保存する\n5. ユーザーが求めた時に結果を取得して提示する\n\nこのパターンは、タスクの完了に時間がかかるが、ユーザーは応答性のある対話を期待するアプリケーションにとって特に価値があります。AgentCoreの非同期機能を活用することで、はるかに優れたユーザー体験を提供するエージェントを作成できます。\n\n### 主な学びポイント\n\n- **非同期エージェント** は時間のかかるタスクに対してよりよいユーザー体験を提供する\n- **AgentCore Runtime** はエージェントの展開とスケーリングを簡単にする\n- **Browser Tool** はエージェントがウェブサイトから情報を検索・抽出することを可能にする\n- **LangGraph** は複雑なエージェントワークフローを構築するための柔軟なフレームワークを提供する\n- **ファイルシステム統合** はエージェントが結果を保存・取得することを可能にする\n\n### 次のステップ\n\nこのショッピングアシスタントをさらに強化するには、以下のことができます。\n\n1. 製品比較機能を追加する\n2. ユーザー設定とパーソナライズを実装する\n3. 複数の検索プロバイダーをサポートする\n4. 実時間の価格と在庫状況を取得するためにECのAPIと統合する\n5. セッション間でユーザー設定を記憶するためにメモリを実装する"
   ]
  },
  {
   "cell_type": "markdown",
   "id": "68499675-db8d-47c6-8c0c-5d66dcb06229",
   "metadata": {},
   "source": [
    "## クリーンアップ (オプション)\n\nこのチュートリアルで作成したリソースをクリーンアップしたい場合は、次のコードを使用できます:"
   ]
  },
  {
   "cell_type": "code",
   "execution_count": null,
   "id": "932110e6-fca6-47b6-b7c5-c4714a866a80",
   "metadata": {},
   "outputs": [],
   "source": [
    "# Get the agent ID and ECR URI\n\nエージェントの ID と ECR URI を取得します。\n\nagent_id=$(aws deploy get-agent --query agentInstallerUri --output text | cut -d '/' -f 9)\necr_uri=$(aws sts get-caller-identity --query Account --output text).dkr.ecr.${AWS_REGION}.amazonaws.com/${agent_id}\n\necho \"Agent ID: ${agent_id}\"\necho \"ECR URI: ${ecr_uri}\"\nlaunch_result.ecr_uri, launch_result.agent_id, launch_result.ecr_uri.split('/')[1]"
   ]
  },
  {
   "cell_type": "code",
   "execution_count": null,
   "id": "1226d59e6b56c96",
   "metadata": {},
   "outputs": [],
   "source": [
    "# Initialize clients\n\nクライアントを初期化します。\n\nclient_a = ClientA( 'api_key_a' )\nclient_b = ClientB( 'api_key_b' )\n\n# Call functions\nresult_1 = client_a.get_data( query='keyword' )\nresult_2 = client_b.process_data( data=result_1 )\n\n# Print results\nprint( 'Result 1: ' + str( result_1 ) )\nprint( 'Result 2: ' + str( result_2 ) )\nagentcore_control_client = boto3.client(\n    'bedrock-agentcore-control',\n    region_name=region\n)\necr_client = boto3.client(\n    'ecr',\n    region_name=region\n    \n)\niam_client = boto3.client('iam')\n\n# エージェントランタイムを削除する\n\n日本語訳:\n\n`agent.delete()` 関数を使用して、エージェントランタイムを削除できます。この関数は、エージェントランタイムに関連付けられているすべてのリソース (コンテナ、ストレージ、ネットワークリソースなど) を削除します。\n\n注意: この操作を実行すると、エージェントランタイムに関連するデータがすべて永久に削除されます。この操作は元に戻せません。\n\nエージェントランタイムを削除する前に、以下の点を確認してください。\n\n- エージェントランタイムに関連付けられているすべてのジョブが完了していること\n- エージェントランタイムに関連付けられているデータをバックアップしていること\n\nエージェントランタイムを削除するには、次のコマンドを実行します。\n\n```python\nagent_name = \"my-agent\"\nagent.delete(agent_name)\nprint(f\"Agent runtime {agent_name} has been deleted.\")\n```\n\nこのコマンドを実行すると、指定された `agent_name` のエージェントランタイムが削除されます。\nruntime_delete_response = agentcore_control_client.delete_agent_runtime(\n    agentRuntimeId=launch_result.agent_id\n)\n\n# ECRリポジトリを削除する\n\n日本語訳:\n\nAWS CLI を使用して、Amazon ECR (Elastic Container Registry) リポジトリを削除するには、以下の手順を実行します。\n\n1. AWS CLI がインストールされていることを確認します。インストールされていない場合は、 https://aws.amazon.com/cli/ から AWS CLI をダウンロードしてインストールしてください。\n\n2. ターミナルまたはコマンドプロンプトを開きます。\n\n3. `aws ecr delete-repository` コマンドを実行して、リポジトリを削除します。リポジトリ名を `--repository-name` オプションで指定する必要があります。また、`--force` オプションを使用して、リポジトリ内のイメージを強制的に削除することができます。\n\n```\naws ecr delete-repository --repository-name my-repo --force\n```\n\n`my-repo` は、削除するリポジトリの名前に置き換えてください。\n\n4. リポジトリの削除を確認するメッセージが表示されます。\n\n```\n{\n    \"repository\": {\n        \"repositoryArn\": \"arn:aws:ecr:us-west-2:012345678910:repository/my-repo\", \n        \"registryId\": \"012345678910\", \n        \"repositoryName\": \"my-repo\", \n        \"repositoryUri\": \"012345678910.dkr.ecr.us-west-2.amazonaws.com/my-repo\"\n    }\n}\n```\n\nこれで、指定した Amazon ECR リポジトリが削除されました。\nresponse = ecr_client.delete_repository(\n    repositoryName=launch_result.ecr_uri.split('/')[1],\n    force=True\n)\n\n# IAM ロールを削除する\n\n日本語訳:\n\n`aws iam delete-role` コマンドを使用して、指定した IAM ロールを削除します。`--role-name` オプションで削除するロールの名前を指定する必要があります。\n\nロールに関連付けられているポリシーやインスタンスプロファイルがある場合は、それらを事前に削除しておく必要があります。また、ロールが使用中の場合は削除できません。\n\nロールを削除する前に、そのロールが不要であることを確認してください。ロールを削除すると、そのロールに関連付けられていたリソースへのアクセス権限がすべて失われます。\n\n注意: この操作を行うと、ロールが完全に削除され、元に戻すことはできません。\npolicies = iam_client.list_role_policies(\n    RoleName=agentcore_iam_role['Role']['RoleName'],\n    MaxItems=100\n)\n\nfor policy_name in policies['PolicyNames']:\n    iam_client.delete_role_policy(\n        RoleName=agentcore_iam_role['Role']['RoleName'],\n        PolicyName=policy_name\n    )\niam_response = iam_client.delete_role(\n    RoleName=agentcore_iam_role['Role']['RoleName']\n)"
   ]
  }
 ],
 "metadata": {
  "kernelspec": {
   "display_name": "Python 3 (ipykernel)",
   "language": "python",
   "name": "python3"
  },
  "language_info": {
   "codemirror_mode": {
    "name": "ipython",
    "version": 3
   },
   "file_extension": ".py",
   "mimetype": "text/x-python",
   "name": "python",
   "nbconvert_exporter": "python",
   "pygments_lexer": "ipython3",
   "version": "3.10.18"
  }
 },
 "nbformat": 4,
 "nbformat_minor": 5
}