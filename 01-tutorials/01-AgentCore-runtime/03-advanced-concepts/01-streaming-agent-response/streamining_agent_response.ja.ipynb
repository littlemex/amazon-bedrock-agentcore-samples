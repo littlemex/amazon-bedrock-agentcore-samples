{
 "cells": [
  {
   "cell_type": "markdown",
   "id": "52dc9b17-1182-44b3-bebf-ae2f508675d3",
   "metadata": {},
   "source": [
    "# Amazon Bedrock AgentCore Runtime での Strands Agents を使用したストリーミングレスポンス\n",
    "\n",
    "## 概要\n",
    "\n",
    "このチュートリアルでは、Amazon Bedrock AgentCore Runtime を使用してストリーミングレスポンスを実装する方法を学びます。この例では、部分的な結果が利用可能になった時点でストリーミングする方法を示し、大量のコンテンツを生成したり、処理に時間がかかる操作に対してより応答性の高いユーザーエクスペリエンスを提供します。\n",
    "\n",
    "### チュートリアルの詳細\n",
    "\n",
    "|情報| 詳細|\n",
    "|:--------------------|:---------------------------------------------------------------------------------|\n",
    "| チュートリアルタイプ | ストリーミング機能付き会話型|\n",
    "| エージェントタイプ | 単一 |\n",
    "| エージェントフレームワーク | Strands Agents |\n",
    "| LLM モデル | Anthropic Claude Sonnet 4 |\n",
    "| チュートリアルコンポーネント | AgentCore Runtime でのストリーミングレスポンス、Strands Agent および Amazon Bedrock モデル |\n",
    "| チュートリアルの分野 | 分野横断的 |\n",
    "| 例の複雑さ | 簡単 |\n",
    "| 使用 SDK | Amazon BedrockAgentCore Python SDK および boto3|\n",
    "\n",
    "### チュートリアルのアーキテクチャ\n",
    "\n",
    "このチュートリアルでは、ストリーミングエージェントを AgentCore ランタイムにデプロイする方法について説明します。\n",
    "\n",
    "デモンストレーションのために、ストリーミング機能を備えた Amazon Bedrock モデルを使用する Strands Agent を使用します。\n",
    "\n",
    "この例では、`get_weather` と `get_time` という 2 つのツールを持つシンプルなエージェントを使用しますが、ストリーミングレスポンス機能を備えています。\n",
    "\n",
    "<div style=\"text-align:left\">\n",
    "    <img src=\"images/architecture_runtime.png\" width=\"60%\"/>\n",
    "</div>\n",
    "\n",
    "### チュートリアルの主な機能\n",
    "\n",
    "* Amazon Bedrock AgentCore Runtime 上のエージェントからのストリーミングレスポンス\n",
    "* リアルタイムの部分的結果配信\n",
    "* ストリーミング機能を持つ Amazon Bedrock モデルの使用\n",
    "* 非同期ストリーミングサポートを備えた Strands Agents の使用"
   ]
  },
  {
   "cell_type": "markdown",
   "id": "3a676f58ecf52b42",
   "metadata": {},
   "source": [
    "## 前提条件\n",
    "\n",
    "このチュートリアルを実行するには、以下が必要です：\n",
    "* Python 3.10+\n",
    "* AWS 認証情報\n",
    "* Amazon Bedrock AgentCore SDK\n",
    "* Strands Agents\n",
    "* Docker が稼働していること"
   ]
  },
  {
   "cell_type": "code",
   "execution_count": 1,
   "id": "initial_id",
   "metadata": {
    "jupyter": {
     "is_executing": true
    }
   },
   "outputs": [],
   "source": [
    "#!uv add -r requirements.txt --active\n",
    "import os\n",
    "os.environ[\"AWS_PROFILE\"] = \"cline2\""
   ]
  },
  {
   "cell_type": "markdown",
   "id": "932110e6-fca6-47b6-b7c5-c4714a866a80",
   "metadata": {},
   "source": [
    "# AgentCore Runtime へのストリーミングエージェントのデプロイ準備\n",
    "\n",
    "ストリーミングエージェントを AgentCore Runtime にデプロイしましょう。ストリーミング機能は、エントリーポイント関数で非同期ジェネレーターまたは yield ステートメントを使用すると、AgentCore SDK によって自動的に処理されます。\n",
    "\n",
    "ストリーミング実装のポイント：\n",
    "* エントリーポイント関数には `async def` を使用する\n",
    "* チャンクが利用可能になったら `yield` を使用してストリーミングする\n",
    "* AgentCore SDK は Server-Sent Events (SSE) 形式を自動的に処理する\n",
    "* クライアントは Content-Type: text/event-stream のレスポンスを受け取る\n",
    "\n",
    "### Amazon Bedrock モデルとストリーミングを使用した Strands エージェント\n",
    "Amazon Bedrock モデルを使用した Strands エージェントのストリーミング実装を見てみましょう。"
   ]
  },
  {
   "cell_type": "code",
   "execution_count": 2,
   "id": "3b845b32-a03e-45c2-a2f0-2afba8069f47",
   "metadata": {},
   "outputs": [
    {
     "name": "stdout",
     "output_type": "stream",
     "text": [
      "Overwriting strands_claude_streaming.py\n"
     ]
    }
   ],
   "source": [
    "%%writefile strands_claude_streaming.py\n",
    "from strands import Agent, tool\n",
    "from strands_tools import calculator # Import the calculator tool\n",
    "\n",
    "# 計算機ツールをインポートする\n",
    "import argparse\n",
    "import json\n",
    "from bedrock_agentcore.runtime import BedrockAgentCoreApp\n",
    "from strands.models import BedrockModel\n",
    "import asyncio\n",
    "from datetime import datetime\n",
    "\n",
    "app = BedrockAgentCoreApp()\n",
    "\n",
    "# カスタムツールの作成\n",
    "@tool\n",
    "def weather():\n",
    "    \"\"\" 天気を取得 \"\"\" # ダミー実装\n",
    "    return \"sunny\"\n",
    "\n",
    "@tool\n",
    "def get_time():\n",
    "    \"\"\" 現在時刻を取得する \"\"\"\n",
    "    return datetime.now().strftime(\"%Y-%m-%d %H:%M:%S\")\n",
    "\n",
    "model_id = \"us.anthropic.claude-sonnet-4-20250514-v1:0\"\n",
    "model = BedrockModel(\n",
    "    model_id=model_id,\n",
    ")\n",
    "agent = Agent(\n",
    "    model=model,\n",
    "    tools=[\n",
    "        calculator, weather, get_time\n",
    "    ],\n",
    "    system_prompt=\"\"\"あなたは役立つアシスタントです。簡単な計算ができ、天気を教え、現在の時刻を提供することができます。\"\"\"\n",
    ")\n",
    "\n",
    "@app.entrypoint\n",
    "async def strands_agent_bedrock_streaming(payload):\n",
    "    \"\"\"\n",
    "    ストリーミング機能を持つエージェントを呼び出す\n",
    "    この関数は、非同期ジェネレーターを使用して AgentCore Runtime で\n",
    "    ストリーミングレスポンスを実装する方法を示します\n",
    "    \"\"\"\n",
    "    user_input = payload.get(\"prompt\")\n",
    "    print(\"User input:\", user_input)\n",
    "    \n",
    "    try:\n",
    "        # 利用可能になった各チャンクをストリーミングする\n",
    "        async for event in agent.stream_async(user_input):\n",
    "            if \"data\" in event:\n",
    "                yield event[\"data\"]\n",
    "            \n",
    "    except Exception as e:\n",
    "        # ストリーミングコンテキストでエラーを適切に処理する\n",
    "        error_response = {\"error\": str(e), \"type\": \"stream_error\"}\n",
    "        print(f\"Streaming error: {error_response}\")\n",
    "        yield error_response\n",
    "\n",
    "if __name__ == \"__main__\":\n",
    "    app.run()"
   ]
  },
  {
   "cell_type": "markdown",
   "id": "c64db7b5-0f1b-475f-9bf2-467b4449d46a",
   "metadata": {},
   "source": [
    "# AgentCore Runtime におけるストリーミングの理解\n",
    "\n",
    "AgentCore Runtime でストリーミングを使用すると、いくつかのことが自動的に行われます：\n",
    "\n",
    "### サーバー送信イベント (SSE) 形式\n",
    "* AgentCore SDK は yield されたデータを自動的に SSE 形式に変換します\n",
    "* 各 yield は SSE ストリームの中で `data: ` イベントになります\n",
    "* Content-Type は自動的に `text/event-stream` に設定されます\n",
    "\n",
    "### クライアント処理\n",
    "* クライアントはエージェントがリクエストを処理する際にリアルタイムの更新を受け取ります\n",
    "* これにより、段階的なレスポンス表示とより良いユーザーエクスペリエンスが可能になります\n",
    "* クライアントは完全なレスポンスが準備される前に部分的な結果を処理できます\n",
    "\n",
    "### エラー処理\n",
    "* ストリーミングレスポンスには適切なエラー処理を含める必要があります\n",
    "* エラーはストリームの一部として yield できます\n",
    "* ストリームは関数が完了するか、未処理の例外が発生すると終了します"
   ]
  },
  {
   "cell_type": "markdown",
   "id": "6820ca8f-a8a8-4f34-b4ef-b6dad3776261",
   "metadata": {},
   "source": [
    "## AgentCore Runtime へのストリーミングエージェントのデプロイ\n",
    "\n",
    "`CreateAgentRuntime` 操作は包括的な設定オプションをサポートしており、コンテナイメージ、環境変数、暗号化設定を指定することができます。また、プロトコル設定 (HTTP、MCP) や認証メカニズムを構成して、クライアントがエージェントと通信する方法を制御することもできます。\n",
    "\n",
    "**注意:** 運用のベストプラクティスは、コードをコンテナとしてパッケージ化し、CI/CD パイプラインと IaC を使用して ECR にプッシュすることです\n",
    "\n",
    "このチュートリアルでは、Amazon Bedrock AgentCode Python SDK を使用して、アーティファクトを簡単にパッケージ化し、AgentCore ランタイムにデプロイします。"
   ]
  },
  {
   "cell_type": "markdown",
   "id": "d0861401-a111-4ade-9e02-50f52fdfa9b1",
   "metadata": {},
   "source": [
    "### ランタイムロールの作成\n",
    "\n",
    "始める前に、AgentCore ランタイム用の IAM ロールを作成しましょう。これは、あなたのために事前に開発されたユーティリティ関数を使用して行います。"
   ]
  },
  {
   "cell_type": "code",
   "execution_count": 3,
   "id": "54dd2fdf-985c-4a70-8b87-071783a209de",
   "metadata": {},
   "outputs": [
    {
     "name": "stdout",
     "output_type": "stream",
     "text": [
      "Role already exists -- deleting and creating it again\n",
      "policies: {'PolicyNames': ['AgentCorePolicy'], 'IsTruncated': False, 'ResponseMetadata': {'RequestId': '455f4f85-5be9-4d89-8642-d706b0143ce0', 'HTTPStatusCode': 200, 'HTTPHeaders': {'date': 'Fri, 01 Aug 2025 06:42:46 GMT', 'x-amzn-requestid': '455f4f85-5be9-4d89-8642-d706b0143ce0', 'content-type': 'text/xml', 'content-length': '380'}, 'RetryAttempts': 0}}\n",
      "deleting agentcore-strands_claude_streaming3-role\n",
      "recreating agentcore-strands_claude_streaming3-role\n",
      "attaching role policy agentcore-strands_claude_streaming3-role\n"
     ]
    }
   ],
   "source": [
    "import sys\n",
    "import os\n",
    "\n",
    "# 現在のノートブックのディレクトリを取得する\n",
    "current_dir = os.path.dirname(os.path.abspath('__file__' if '__file__' in globals() else '.'))\n",
    "\n",
    "# utils.py の場所まで上に移動する\n",
    "utils_dir = os.path.join(current_dir, '..')\n",
    "utils_dir = os.path.join(utils_dir, '..')\n",
    "utils_dir = os.path.abspath(utils_dir)\n",
    "\n",
    "# sys.path に追加する\n",
    "sys.path.insert(0, utils_dir)\n",
    "\n",
    "from utils import create_agentcore_role\n",
    "\n",
    "agent_name=\"strands_claude_streaming3\"\n",
    "agentcore_iam_role = create_agentcore_role(agent_name=agent_name)"
   ]
  },
  {
   "cell_type": "markdown",
   "id": "8855aceb-b79f-4aaa-b16f-8577c059816a",
   "metadata": {},
   "source": [
    "### AgentCore Runtime デプロイメントの構成\n",
    "\n",
    "次に、スターターツールキットを使用して、エントリーポイント、先ほど作成した実行ロール、および要件ファイルを含む AgentCore Runtime デプロイメントを構成します。また、起動時に Amazon ECR リポジトリを自動作成するようにスターターキットを構成します。\n",
    "\n",
    "構成ステップでは、アプリケーションコードに基づいて Docker ファイルが生成されます\n",
    "\n",
    "<div style=\"text-align:left\">\n",
    "    <img src=\"images/configure.png\" width=\"60%\"/>\n",
    "</div>"
   ]
  },
  {
   "cell_type": "code",
   "execution_count": 4,
   "id": "2e79eba2-ca59-463f-9ebf-56e362d7ae66",
   "metadata": {},
   "outputs": [
    {
     "name": "stderr",
     "output_type": "stream",
     "text": [
      "Entrypoint parsed: file=/home/coder/amazon-bedrock-agentcore-samples/01-tutorials/01-AgentCore-runtime/03-advanced-concepts/01-streaming-agent-response/strands_claude_streaming.py, bedrock_agentcore_name=strands_claude_streaming\n",
      "Configuring BedrockAgentCore agent: strands_claude_streaming3\n"
     ]
    },
    {
     "data": {
      "text/html": [
       "<pre style=\"white-space:pre;overflow-x:auto;line-height:normal;font-family:Menlo,'DejaVu Sans Mono',consolas,'Courier New',monospace\">\n",
       "<span style=\"color: #808000; text-decoration-color: #808000; font-weight: bold; text-decoration: underline\">⚠️  [WARNING] Platform mismatch: Current system is </span><span style=\"color: #008000; text-decoration-color: #008000; text-decoration: underline\">'linux/amd64'</span><span style=\"color: #808000; text-decoration-color: #808000; font-weight: bold; text-decoration: underline\"> but Bedrock AgentCore requires </span><span style=\"color: #008000; text-decoration-color: #008000; text-decoration: underline\">'linux/arm64'</span><span style=\"color: #808000; text-decoration-color: #808000; font-weight: bold; text-decoration: underline\">.</span>\n",
       "<span style=\"color: #808000; text-decoration-color: #808000; font-weight: bold; text-decoration: underline\">For deployment options and workarounds, see: </span>\n",
       "<span style=\"color: #0000ff; text-decoration-color: #0000ff; text-decoration: underline\">https://docs.aws.amazon.com/bedrock-agentcore/latest/devguide/getting-started-custom.html</span>\n",
       "\n",
       "</pre>\n"
      ],
      "text/plain": [
       "\n",
       "\u001b[1;4;33m⚠️  \u001b[0m\u001b[1;4;33m[\u001b[0m\u001b[1;4;33mWARNING\u001b[0m\u001b[1;4;33m]\u001b[0m\u001b[1;4;33m Platform mismatch: Current system is \u001b[0m\u001b[4;32m'linux/amd64'\u001b[0m\u001b[1;4;33m but Bedrock AgentCore requires \u001b[0m\u001b[4;32m'linux/arm64'\u001b[0m\u001b[1;4;33m.\u001b[0m\n",
       "\u001b[1;4;33mFor deployment options and workarounds, see: \u001b[0m\n",
       "\u001b[4;94mhttps://docs.aws.amazon.com/bedrock-agentcore/latest/devguide/getting-started-custom.html\u001b[0m\n",
       "\n"
      ]
     },
     "metadata": {},
     "output_type": "display_data"
    },
    {
     "name": "stderr",
     "output_type": "stream",
     "text": [
      "Generated Dockerfile: /home/coder/amazon-bedrock-agentcore-samples/01-tutorials/01-AgentCore-runtime/03-advanced-concepts/01-streaming-agent-response/Dockerfile\n",
      "Generated .dockerignore: /home/coder/amazon-bedrock-agentcore-samples/01-tutorials/01-AgentCore-runtime/03-advanced-concepts/01-streaming-agent-response/.dockerignore\n",
      "Keeping 'strands_claude_streaming3' as default agent\n",
      "Bedrock AgentCore configured: /home/coder/amazon-bedrock-agentcore-samples/01-tutorials/01-AgentCore-runtime/03-advanced-concepts/01-streaming-agent-response/.bedrock_agentcore.yaml\n"
     ]
    },
    {
     "data": {
      "text/plain": [
       "ConfigureResult(config_path=PosixPath('/home/coder/amazon-bedrock-agentcore-samples/01-tutorials/01-AgentCore-runtime/03-advanced-concepts/01-streaming-agent-response/.bedrock_agentcore.yaml'), dockerfile_path=PosixPath('/home/coder/amazon-bedrock-agentcore-samples/01-tutorials/01-AgentCore-runtime/03-advanced-concepts/01-streaming-agent-response/Dockerfile'), dockerignore_path=PosixPath('/home/coder/amazon-bedrock-agentcore-samples/01-tutorials/01-AgentCore-runtime/03-advanced-concepts/01-streaming-agent-response/.dockerignore'), runtime='Docker', region='us-east-1', account_id='320462930492', execution_role='arn:aws:iam::320462930492:role/agentcore-strands_claude_streaming3-role', ecr_repository=None, auto_create_ecr=True)"
      ]
     },
     "execution_count": 4,
     "metadata": {},
     "output_type": "execute_result"
    }
   ],
   "source": [
    "from bedrock_agentcore_starter_toolkit import Runtime\n",
    "from boto3.session import Session\n",
    "boto_session = Session()\n",
    "region = boto_session.region_name\n",
    "region\n",
    "\n",
    "agentcore_runtime = Runtime()\n",
    "\n",
    "response = agentcore_runtime.configure(\n",
    "    entrypoint=\"strands_claude_streaming.py\",\n",
    "    execution_role=agentcore_iam_role['Role']['Arn'],\n",
    "    auto_create_ecr=True,\n",
    "    requirements_file=\"requirements.txt\",\n",
    "    region=region,\n",
    "    agent_name=agent_name\n",
    ")\n",
    "response"
   ]
  },
  {
   "cell_type": "markdown",
   "id": "9e1b84cc-798e-472c-ac0b-2c315f4b704d",
   "metadata": {},
   "source": [
    "### AgentCore Runtime へのストリーミングエージェントの起動\n",
    "\n",
    "Docker ファイルができたので、ストリーミングエージェントを AgentCore Runtime に起動しましょう。これにより Amazon ECR リポジトリと AgentCore Runtime が作成されます。\n",
    "\n",
    "<div style=\"text-align:left\">\n",
    "    <img src=\"images/launch.png\" width=\"85%\"/>\n",
    "</div>"
   ]
  },
  {
   "cell_type": "code",
   "execution_count": 5,
   "id": "17a32ab8-7701-4900-8055-e24364bdf35c",
   "metadata": {},
   "outputs": [
    {
     "name": "stderr",
     "output_type": "stream",
     "text": [
      "Launching Bedrock AgentCore agent 'strands_claude_streaming3' to cloud\n",
      "Docker image built: bedrock_agentcore-strands_claude_streaming3:latest\n",
      "Using execution role from config: arn:aws:iam::320462930492:role/agentcore-strands_claude_streaming3-role\n",
      "✅ Execution role validation passed: arn:aws:iam::320462930492:role/agentcore-strands_claude_streaming3-role\n",
      "Uploading to ECR...\n",
      "Getting or creating ECR repository for agent: strands_claude_streaming3\n",
      "✅ ECR repository available: 320462930492.dkr.ecr.us-east-1.amazonaws.com/bedrock-agentcore-strands_claude_streaming3\n"
     ]
    },
    {
     "name": "stdout",
     "output_type": "stream",
     "text": [
      "✅ Reusing existing ECR repository: 320462930492.dkr.ecr.us-east-1.amazonaws.com/bedrock-agentcore-strands_claude_streaming3\n"
     ]
    },
    {
     "name": "stderr",
     "output_type": "stream",
     "text": [
      "Authenticating with registry...\n",
      "Registry authentication successful\n",
      "Tagging image: bedrock_agentcore-strands_claude_streaming3:latest -> 320462930492.dkr.ecr.us-east-1.amazonaws.com/bedrock-agentcore-strands_claude_streaming3:latest\n",
      "Pushing image to registry...\n"
     ]
    },
    {
     "name": "stdout",
     "output_type": "stream",
     "text": [
      "The push refers to repository [320462930492.dkr.ecr.us-east-1.amazonaws.com/bedrock-agentcore-strands_claude_streaming3]\n",
      "aa1ae2eeae7c: Preparing\n",
      "90f47ebac8eb: Preparing\n",
      "e19ff0bedb8e: Preparing\n",
      "b69d75e1a664: Preparing\n",
      "7c79870d7561: Preparing\n",
      "ce892b8d3e89: Preparing\n",
      "16cc4c7d5d83: Preparing\n",
      "329cb79996ca: Preparing\n",
      "e26286284f6e: Preparing\n",
      "dd97e58b4e81: Preparing\n",
      "ce892b8d3e89: Waiting\n",
      "16cc4c7d5d83: Waiting\n",
      "329cb79996ca: Waiting\n",
      "e26286284f6e: Waiting\n",
      "dd97e58b4e81: Waiting\n",
      "e19ff0bedb8e: Layer already exists\n",
      "7c79870d7561: Layer already exists\n",
      "b69d75e1a664: Layer already exists\n",
      "90f47ebac8eb: Layer already exists\n",
      "ce892b8d3e89: Layer already exists\n",
      "16cc4c7d5d83: Layer already exists\n",
      "e26286284f6e: Layer already exists\n",
      "329cb79996ca: Layer already exists\n",
      "dd97e58b4e81: Layer already exists\n",
      "aa1ae2eeae7c: Pushed\n"
     ]
    },
    {
     "name": "stderr",
     "output_type": "stream",
     "text": [
      "Image pushed successfully\n",
      "Image uploaded to ECR: 320462930492.dkr.ecr.us-east-1.amazonaws.com/bedrock-agentcore-strands_claude_streaming3\n",
      "Deploying to Bedrock AgentCore...\n"
     ]
    },
    {
     "name": "stdout",
     "output_type": "stream",
     "text": [
      "latest: digest: sha256:12ac582e9ea892a5ee579b2ba4d8abe5aa0a8cf4076617b9966a535996707cc0 size: 2415\n"
     ]
    },
    {
     "name": "stderr",
     "output_type": "stream",
     "text": [
      "✅ Agent created/updated: arn:aws:bedrock-agentcore:us-east-1:320462930492:runtime/strands_claude_streaming3-ECbdeg8Rpl\n",
      "Polling for endpoint to be ready...\n",
      "Agent endpoint: arn:aws:bedrock-agentcore:us-east-1:320462930492:runtime/strands_claude_streaming3-ECbdeg8Rpl/runtime-endpoint/DEFAULT\n",
      "Deployed to cloud: arn:aws:bedrock-agentcore:us-east-1:320462930492:runtime/strands_claude_streaming3-ECbdeg8Rpl\n",
      "🔍 Agent logs available at:\n",
      "   /aws/bedrock-agentcore/runtimes/strands_claude_streaming3-ECbdeg8Rpl-DEFAULT\n",
      "   /aws/bedrock-agentcore/runtimes/strands_claude_streaming3-ECbdeg8Rpl-DEFAULT/runtime-logs\n",
      "💡 Tail logs with: aws logs tail /aws/bedrock-agentcore/runtimes/strands_claude_streaming3-ECbdeg8Rpl-DEFAULT --follow\n",
      "💡 Or view recent logs: aws logs tail /aws/bedrock-agentcore/runtimes/strands_claude_streaming3-ECbdeg8Rpl-DEFAULT --since 1h\n"
     ]
    }
   ],
   "source": [
    "launch_result = agentcore_runtime.launch()"
   ]
  },
  {
   "cell_type": "markdown",
   "id": "a0ae9c09-09db-4a76-871a-92eacd96b9c3",
   "metadata": {},
   "source": [
    "### AgentCore ランタイムのステータス確認\n",
    "AgentCore ランタイムをデプロイしたので、そのデプロイ状況を確認しましょう"
   ]
  },
  {
   "cell_type": "code",
   "execution_count": 6,
   "id": "afa6ac09-9adb-4846-9fc1-4d12aeb74853",
   "metadata": {},
   "outputs": [
    {
     "name": "stderr",
     "output_type": "stream",
     "text": [
      "Retrieved Bedrock AgentCore status for: strands_claude_streaming3\n"
     ]
    },
    {
     "data": {
      "text/plain": [
       "'READY'"
      ]
     },
     "execution_count": 6,
     "metadata": {},
     "output_type": "execute_result"
    }
   ],
   "source": [
    "import time\n",
    "\n",
    "status_response = agentcore_runtime.status()\n",
    "status = status_response.endpoint['status']\n",
    "end_status = ['READY', 'CREATE_FAILED', 'DELETE_FAILED', 'UPDATE_FAILED']\n",
    "while status not in end_status:\n",
    "    time.sleep(10)\n",
    "    status_response = agentcore_runtime.status()\n",
    "    status = status_response.endpoint['status']\n",
    "    print(status)\n",
    "status"
   ]
  },
  {
   "cell_type": "markdown",
   "id": "b7f89c56-918a-4cab-beaa-c7ac43a2ba29",
   "metadata": {},
   "source": [
    "### AgentCore Runtime をストリーミングで呼び出す\n",
    "\n",
    "最後に、ペイロードを使って AgentCore Runtime を呼び出し、ストリーミングレスポンスを受け取ることができます\n",
    "\n",
    "<div style=\"text-align:left\">\n",
    "    <img src=\"images/invoke.png\" width=\"85%\"/>\n",
    "</div>"
   ]
  },
  {
   "cell_type": "code",
   "execution_count": 7,
   "id": "3d909e42-e1a0-407f-84c2-3d16cc889cd3",
   "metadata": {
    "scrolled": true
   },
   "outputs": [
    {
     "name": "stderr",
     "output_type": "stream",
     "text": [
      "Invoking BedrockAgentCore agent 'strands_claude_streaming3' via cloud endpoint\n"
     ]
    },
    {
     "data": {
      "text/plain": [
       "{'response': '\"I\\'ll check the current\"\\n\" weather for you.\"\\n\"The current\"\\n\" weather is\"\\n\" sunny!\"\\n\" It\"\\n\"\\'s a nice day with clear,\"\\n\" sunny\"\\n\" conditions\"\\n\".\"'}"
      ]
     },
     "execution_count": 7,
     "metadata": {},
     "output_type": "execute_result"
    }
   ],
   "source": [
    "invoke_response = agentcore_runtime.invoke({\n",
    "    \"prompt\": \n",
    "    \"what the weather is like?\"\n",
    "})\n",
    "invoke_response"
   ]
  },
  {
   "cell_type": "markdown",
   "id": "2c1d2bce-be41-478c-8bed-b4037c385795",
   "metadata": {},
   "source": [
    "### AgentCore Runtime を boto3 でストリーミングで呼び出す\n",
    "\n",
    "AgentCore Runtime が作成されたので、任意の AWS SDK で呼び出すことができます。ストリーミングレスポンスの場合は、Server-Sent Events 形式を処理する必要があります。"
   ]
  },
  {
   "cell_type": "code",
   "execution_count": 8,
   "id": "7f84e68d-6c04-41b9-bf5b-60edc3fa0985",
   "metadata": {
    "scrolled": true
   },
   "outputs": [
    {
     "name": "stdout",
     "output_type": "stream",
     "text": [
      "Processing streaming response with boto3:\n",
      "Received streaming chunk: 2 \n",
      "Received streaming chunk: + 1 = 3\n"
     ]
    },
    {
     "data": {
      "text/markdown": [
       "2  + 1 = 3"
      ],
      "text/plain": [
       "<IPython.core.display.Markdown object>"
      ]
     },
     "metadata": {},
     "output_type": "display_data"
    }
   ],
   "source": [
    "import boto3\n",
    "import json\n",
    "from IPython.display import Markdown, display\n",
    "\n",
    "agent_arn = launch_result.agent_arn\n",
    "agentcore_client = boto3.client(\n",
    "    'bedrock-agentcore',\n",
    "    region_name=region\n",
    ")\n",
    "\n",
    "# ストリーミングレスポンスの場合、EventStream を処理する必要があります\n",
    "boto3_response = agentcore_client.invoke_agent_runtime(\n",
    "    agentRuntimeArn=agent_arn,\n",
    "    qualifier=\"DEFAULT\",\n",
    "    payload=json.dumps({\"prompt\": \"How much is 2+1\"})\n",
    ")\n",
    "\n",
    "# レスポンスがストリーミングかどうかを確認する\n",
    "if \"text/event-stream\" in boto3_response.get(\"contentType\", \"\"):\n",
    "    print(\"Processing streaming response with boto3:\")\n",
    "    content = []\n",
    "    for line in boto3_response[\"response\"].iter_lines(chunk_size=1):\n",
    "        if line:\n",
    "            line = line.decode(\"utf-8\")\n",
    "            if line.startswith(\"data: \"):\n",
    "                data = line[6:].replace('\"', '')  # \"data: \" プレフィックスを削除する\n",
    "                print(f\"Received streaming chunk: {data}\")\n",
    "                content.append(data.replace('\"', ''))\n",
    "    \n",
    "    # ストリーミングされたレスポンスを完全に表示する\n",
    "    full_response = \" \".join(content)\n",
    "    display(Markdown(full_response))\n",
    "else:\n",
    "    # 非ストリーミング レスポンスの処理\n",
    "    try:\n",
    "        events = []\n",
    "        for event in boto3_response.get(\"response\", []):\n",
    "            events.append(event)\n",
    "    except Exception as e:\n",
    "        events = [f\"Error reading EventStream: {e}\"]\n",
    "    \n",
    "    if events:\n",
    "        try:\n",
    "            response_data = json.loads(events[0].decode(\"utf-8\"))\n",
    "            display(Markdown(response_data))\n",
    "        except:\n",
    "            print(f\"Raw response: {events[0]}\")"
   ]
  },
  {
   "cell_type": "markdown",
   "id": "streaming_benefits",
   "metadata": {},
   "source": [
    "# ストリーミングレスポンスの利点\n",
    "\n",
    "ストリーミングレスポンスには以下のような主要な利点があります：\n",
    "\n",
    "### ユーザーエクスペリエンス\n",
    "* **即時フィードバック**：ユーザーは結果が利用可能になるとすぐに部分的な結果を見ることができます\n",
    "* **体感パフォーマンス**：合計時間が同じであっても、レスポンスがより速く感じられます\n",
    "* **段階的表示**：長いレスポンスを徐々に表示することができます\n",
    "\n",
    "### 技術的メリット\n",
    "* **メモリ効率**：すべてをメモリにロードせずに大きなレスポンスを処理できます\n",
    "* **タイムアウト防止**：長時間実行される操作でのタイムアウトを回避できます\n",
    "* **リアルタイム処理**：利用可能になったデータをリアルタイムで処理できます\n",
    "\n",
    "### ユースケース\n",
    "* **コンテンツ生成**：長文の文章、レポート、ドキュメント\n",
    "* **データ分析**：複雑な計算からの段階的な結果\n",
    "* **マルチステップワークフロー**：複雑なエージェントの推論過程の進捗を表示\n",
    "* **リアルタイムモニタリング**：モニタリングエージェントからのライブアップデート"
   ]
  },
  {
   "cell_type": "markdown",
   "id": "7d3fdfe404469632",
   "metadata": {},
   "source": [
    "## クリーンアップ (任意)\n",
    "\n",
    "作成した AgentCore Runtime をクリーンアップしましょう"
   ]
  },
  {
   "cell_type": "code",
   "execution_count": 9,
   "id": "7c243e86-a214-483c-aef1-d5243f28ca9e",
   "metadata": {},
   "outputs": [
    {
     "data": {
      "text/plain": [
       "('320462930492.dkr.ecr.us-east-1.amazonaws.com/bedrock-agentcore-strands_claude_streaming3',\n",
       " 'strands_claude_streaming3-ECbdeg8Rpl',\n",
       " 'bedrock-agentcore-strands_claude_streaming3')"
      ]
     },
     "execution_count": 9,
     "metadata": {},
     "output_type": "execute_result"
    }
   ],
   "source": [
    "launch_result.ecr_uri, launch_result.agent_id, launch_result.ecr_uri.split('/')[1]"
   ]
  },
  {
   "cell_type": "code",
   "execution_count": 10,
   "id": "76a6cf1416830a54",
   "metadata": {},
   "outputs": [],
   "source": [
    "agentcore_control_client = boto3.client(\n",
    "    'bedrock-agentcore-control',\n",
    "    region_name=region\n",
    ")\n",
    "ecr_client = boto3.client(\n",
    "    'ecr',\n",
    "    region_name=region\n",
    "    \n",
    ")\n",
    "\n",
    "iam_client = boto3.client('iam')\n",
    "\n",
    "runtime_delete_response = agentcore_control_client.delete_agent_runtime(\n",
    "    agentRuntimeId=launch_result.agent_id,\n",
    "    \n",
    ")\n",
    "\n",
    "response = ecr_client.delete_repository(\n",
    "    repositoryName=launch_result.ecr_uri.split('/')[1],\n",
    "    force=True\n",
    ")\n",
    "\n",
    "policies = iam_client.list_role_policies(\n",
    "    RoleName=agentcore_iam_role['Role']['RoleName'],\n",
    "    MaxItems=100\n",
    ")\n",
    "\n",
    "for policy_name in policies['PolicyNames']:\n",
    "    iam_client.delete_role_policy(\n",
    "        RoleName=agentcore_iam_role['Role']['RoleName'],\n",
    "        PolicyName=policy_name\n",
    "    )\n",
    "iam_response = iam_client.delete_role(\n",
    "    RoleName=agentcore_iam_role['Role']['RoleName']\n",
    ")"
   ]
  },
  {
   "cell_type": "markdown",
   "id": "b118ad38-feeb-4d1d-9d57-e5c845becc56",
   "metadata": {},
   "source": [
    "# おめでとうございます！\n",
    "\n",
    "Amazon Bedrock AgentCore Runtime を使用したストリーミングエージェントの実装とデプロイに成功しました！\n",
    "\n",
    "## 学んだこと：\n",
    "* async ジェネレーターを使用したストリーミングレスポンスの実装方法\n",
    "* AgentCore Runtime が SSE フォーマットを自動的に処理する方法\n",
    "* クライアント側でストリーミングレスポンスを処理する方法\n",
    "* ユーザーエクスペリエンスとパフォーマンスにおけるストリーミングの利点\n",
    "\n",
    "## 次のステップ：\n",
    "* ユースケースに合わせて異なるストリーミングパターンを試す\n",
    "* 複雑なマルチステップワークフローのためのカスタムストリーミングロジックを実装する\n",
    "* ストリーミングと Memory や Gateway などの他の AgentCore 機能を組み合わせる方法を探る\n",
    "* より良い UX のためのクライアント側ストリーミング可視化の実装を検討する"
   ]
  }
 ],
 "metadata": {
  "kernelspec": {
   "display_name": ".venv",
   "language": "python",
   "name": "python3"
  },
  "language_info": {
   "codemirror_mode": {
    "name": "ipython",
    "version": 3
   },
   "file_extension": ".py",
   "mimetype": "text/x-python",
   "name": "python",
   "nbconvert_exporter": "python",
   "pygments_lexer": "ipython3",
   "version": "3.10.18"
  }
 },
 "nbformat": 4,
 "nbformat_minor": 5
}
