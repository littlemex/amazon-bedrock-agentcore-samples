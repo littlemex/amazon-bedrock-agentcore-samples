{
 "cells": [
  {
   "cell_type": "markdown",
   "id": "5c0122e65c053f38",
   "metadata": {},
   "source": [
    "# Amazon Bedrock AgentCore RuntimeでMCPサーバーをホスティングする\n\n## 概要\n\nこのチュートリアルでは、Amazon Bedrock AgentCore RuntimeでMCP(Model Context Protocol)サーバーをホスティングする方法を学びます。Amazon Bedrock AgentCore Python SDKを使用して、MCPツールをAmazon Bedrock AgentCoreと互換性のあるMCPサーバーとしてラップします。\n\nAmazon Bedrock AgentCore Python SDKは、MCPサーバーの実装の詳細を処理するため、ツールのコア機能に集中できます。コードをAgentCoreの標準化されたMCPプロトコル契約に変換し、直接通信できるようにします。\n\n### チュートリアルの詳細\n\n| 情報                | 詳細                                                      |\n|:--------------------|:----------------------------------------------------------|\n| チュートリアルの種類 | ツールのホスティング                                      |\n| ツールの種類         | MCPサーバー                                              |\n| チュートリアルの構成要素 | AgentCoreランタイムでMCPサーバーをホスティング           |\n| チュートリアルの分野 | 分野横断                                                 |\n| 例の複雑さ           | 簡単                                                     |\n| 使用するSDK          | Amazon BedrockAgentCore Python SDKとMCP                 |\n\n### チュートリアルのアーキテクチャ\n\nこのチュートリアルでは、MCPサーバーをAgentCoreランタイムにデプロイする方法を説明します。\n\nデモンストレーション目的で、`add_numbers`、`multiply_numbers`、`greet_user`の3つのツールを持つ簡単なMCPサーバーを使用します。\n\n<div style=\"text-align:left\">\n    <img src=\"images/hosting_mcp_server.png\" width=\"40%\"/>\n</div>\n\n### チュートリアルの主な機能\n\n* カスタムツールを持つMCPサーバーの作成\n* MCPサーバーをローカルでテスト\n* Amazon Bedrock AgentCore RuntimeでMCPサーバーをホスティング\n* 認証を使ってデプロイされたMCPサーバーを呼び出す"
   ]
  },
  {
   "cell_type": "markdown",
   "id": "3a676f58ecf52b42",
   "metadata": {},
   "source": [
    "## 前提条件\n\nこのチュートリアルを実行するには、以下が必要です:\n\n* Python 3.10+\n* 設定済みの AWS 認証情報\n* Amazon Bedrock AgentCore SDK\n* MCP (Model Context Protocol) ライブラリ\n* 動作中の Docker"
   ]
  },
  {
   "cell_type": "code",
   "execution_count": null,
   "id": "initial_id",
   "metadata": {
    "jupyter": {
     "is_executing": true
    }
   },
   "outputs": [],
   "source": [
    "#!uv add -r requirements.txt --active\n\n日本語訳:\n\nこのコマンドは、 requirements.txt ファイルに記載された依存関係をインストールするために使用されます。 --active オプションは、現在のアクティブな仮想環境にパッケージをインストールすることを指定しています。"
   ]
  },
  {
   "cell_type": "markdown",
   "id": "ca924a7a2731e26f",
   "metadata": {},
   "source": [
    "## MCPの理解 (Model Context Protocol)\n\nMCPは、AIモデルが外部データやツールに安全にアクセスできるようにするプロトコルです。主要な概念は次のとおりです。\n\n* **Tools**: AIが呼び出して操作を実行できる関数\n* **Streamable HTTP**: AgentCore Runtimeで使用される転送プロトコル\n* **Session Isolation**: `Mcp-Session-Id` ヘッダーを介して、各クライアントに分離されたセッションが提供される\n* **Stateless Operation**: スケーラビリティのため、サーバーはステートレス操作をサポートする必要がある\n\nAgentCore Runtimeは、デフォルトのパスとして `0.0.0.0:8000/mcp` でMCPサーバーがホストされることを期待しています。\n\n### プロジェクトの構造\n\n適切な構造でプロジェクトを設定しましょう。\n\n```\nmcp_server_project/\n├── mcp_server.py              # メインのMCPサーバーコード\n├── my_mcp_client.py           # ローカルテスト用クライアント\n├── my_mcp_client_remote.py    # リモートテスト用クライアント\n├── requirements.txt           # 依存関係\n└── __init__.py                # Pythonパッケージマーカー\n```"
   ]
  },
  {
   "cell_type": "markdown",
   "id": "step2_create_server",
   "metadata": {},
   "source": [
    "## MCP サーバーの作成\n\nさて、3 つの簡単なツールを使って MCP サーバーを作成しましょう。このサーバーは `stateless_http=True` の FastMCP を使用しており、これは AgentCore Runtime との互換性が必要とされています。"
   ]
  },
  {
   "cell_type": "code",
   "execution_count": null,
   "id": "b7d386ab54e85e63",
   "metadata": {},
   "outputs": [],
   "source": [
    "%%writefile mcp_server.py\nfrom mcp.server.fastmcp import FastMCP\nfrom starlette.responses import JSONResponse\n\nmcp = FastMCP(host=\"0.0.0.0\", stateless_http=True)\n\n@mcp.tool()\ndef add_numbers(a: int, b: int) -> int:\n    \"\"\" 2 つの数値を足し合わせる \"\"\"\n    return a + b\n\n@mcp.tool()\ndef multiply_numbers(a: int, b: int) -> int:\n    \"\"\" 2 つの数値を掛け合わせる \"\"\"\n    return a * b\n\n@mcp.tool()\ndef greet_user(name: str) -> str:\n    \"\"\" ユーザーに名前で挨拶する \"\"\"\n    return f\"Hello, {name}! Nice to meet you.\"\n\nif __name__ == \"__main__\":\n    mcp.run(transport=\"streamable-http\")"
   ]
  },
  {
   "cell_type": "markdown",
   "id": "understand_code",
   "metadata": {},
   "source": [
    "以下が日本語訳になります。\n\n### このコードの機能\n\n* **FastMCP**: ツールをホストできる MCP サーバーを作成します\n* **@mcp.tool()**: Python 関数を MCP ツールに変換するデコレーター\n* **stateless_http=True**: AgentCore Runtime との互換性に必要です\n* **Tools**: 異なる種類の操作を示す 3 つの簡単なツール"
   ]
  },
  {
   "cell_type": "markdown",
   "id": "step3_local_client",
   "metadata": {},
   "source": [
    "## ローカルテスト用クライアントの作成\n\nAgentCore Runtime にデプロイする前に、MCP サーバーをローカルでテストするためのクライアントを作成しましょう。"
   ]
  },
  {
   "cell_type": "code",
   "execution_count": null,
   "id": "1226d59e6b56c96",
   "metadata": {},
   "outputs": [],
   "source": [
    "%%writefile my_mcp_client.py\n",
    "import asyncio\n",
    "\n",
    "from mcp import ClientSession\n",
    "from mcp.client.streamable_http import streamablehttp_client\n",
    "\n",
    "async def main():\n",
    "    mcp_url = \"http://localhost:8000/mcp\"\n",
    "    headers = {}\n",
    "\n",
    "    async with streamablehttp_client(mcp_url, headers, timeout=120, terminate_on_close=False) as (\n",
    "        read_stream,\n",
    "        write_stream,\n",
    "        _,\n",
    "    ):\n",
    "        async with ClientSession(read_stream, write_stream) as session:\n",
    "            await session.initialize()\n",
    "            tool_result = await session.list_tools()\n",
    "            print(\"Available tools:\")\n",
    "            for tool in tool_result.tools:\n",
    "                print(f\"  - {tool.name}: {tool.description}\")\n",
    "\n",
    "if __name__ == \"__main__\":\n",
    "    asyncio.run(main())"
   ]
  },
  {
   "cell_type": "markdown",
   "id": "test_locally_instructions",
   "metadata": {},
   "source": [
    "### ローカルでのテスト\n\nMCP サーバーをローカルでテストするには:\n\n1. **ターミナル 1**: MCP サーバーを起動\n   ```bash\n   python mcp_server.py\n   ```\n\n2. **ターミナル 2**: テストクライアントを実行\n   ```bash\n   python my_mcp_client.py\n   ```\n\n出力に 3 つのツールが表示されるはずです。"
   ]
  },
  {
   "cell_type": "markdown",
   "id": "step4_cognito_setup",
   "metadata": {},
   "source": [
    "## 認証のための Amazon Cognito の設定\n\nAgentCore Runtime は認証が必要です。デプロイした MCP サーバーにアクセスするための JWT トークンを提供するために、Amazon Cognito を使用します。"
   ]
  },
  {
   "cell_type": "code",
   "execution_count": null,
   "id": "import_utils",
   "metadata": {},
   "outputs": [],
   "source": [
    "import sys\n",
    "import os\n",
    "\n",
    "current_dir = os.path.dirname(os.path.abspath('__file__' if '__file__' in globals() else '.'))\n",
    "\n",
    "utils_dir = os.path.join(current_dir, '.')\n",
    "utils_dir = os.path.abspath(utils_dir)\n",
    "\n",
    "sys.path.insert(0, utils_dir)\n",
    "\n",
    "from utils import create_agentcore_role, setup_cognito_user_pool"
   ]
  },
  {
   "cell_type": "code",
   "execution_count": null,
   "id": "setup_cognito",
   "metadata": {},
   "outputs": [],
   "source": [
    "print(\"Setting up Amazon Cognito user pool...\")\n",
    "cognito_config = setup_cognito_user_pool()\n",
    "print(\"Cognito setup completed ✓\")\n",
    "print(f\"User Pool ID: {cognito_config.get('user_pool_id', 'N/A')}\")\n",
    "print(f\"Client ID: {cognito_config.get('client_id', 'N/A')}\")"
   ]
  },
  {
   "cell_type": "markdown",
   "id": "step5_iam_role",
   "metadata": {},
   "source": [
    "## ステップ 5: IAM 実行ロールを作成する\n\n始める前に、AgentCore Runtime 用の IAM ロールを作成しましょう。このロールは、ランタイムが動作するために必要な許可を提供します。"
   ]
  },
  {
   "cell_type": "code",
   "execution_count": null,
   "id": "54dd2fdf-985c-4a70-8b87-071783a209de",
   "metadata": {},
   "outputs": [],
   "source": [
    "tool_name = \"mcp_server\"\n",
    "print(f\"Creating IAM role for {tool_name}...\")\n",
    "agentcore_iam_role = create_agentcore_role(agent_name=tool_name)\n",
    "print(f\"IAM role created ✓\")\n",
    "print(f\"Role ARN: {agentcore_iam_role['Role']['Arn']}\")"
   ]
  },
  {
   "cell_type": "markdown",
   "id": "step6_configure_deployment",
   "metadata": {},
   "source": [
    "## AgentCore Runtime デプロイの設定\n\n次に、スターターツールキットを使用して、エントリポイント、作成した実行ロール、および要件ファイルで AgentCore Runtime デプロイを設定します。また、スターターキットを設定して、起動時に Amazon ECR リポジトリを自動作成するようにします。\n\n設定ステップでは、アプリケーションコードに基づいて Dockerfile が生成されます。\n\n<div style=\"text-align:left\">\n    <img src=\"images/configure.png\" width=\"40%\"/>\n</div>"
   ]
  },
  {
   "cell_type": "code",
   "execution_count": null,
   "id": "configure_runtime",
   "metadata": {},
   "outputs": [],
   "source": [
    "from bedrock_agentcore_starter_toolkit import Runtime\n",
    "from boto3.session import Session\n",
    "import time\n",
    "\n",
    "boto_session = Session()\n",
    "region = boto_session.region_name\n",
    "print(f\"Using AWS region: {region}\")\n",
    "\n",
    "required_files = ['mcp_server.py', 'requirements.txt']\n",
    "for file in required_files:\n",
    "    if not os.path.exists(file):\n",
    "        raise FileNotFoundError(f\"Required file {file} not found\")\n",
    "print(\"All required files found ✓\")\n",
    "\n",
    "agentcore_runtime = Runtime()\n",
    "\n",
    "auth_config = {\n",
    "    \"customJWTAuthorizer\": {\n",
    "        \"allowedClients\": [\n",
    "            cognito_config['client_id']\n",
    "        ],\n",
    "        \"discoveryUrl\": cognito_config['discovery_url'],\n",
    "    }\n",
    "}\n",
    "\n",
    "print(\"Configuring AgentCore Runtime...\")\n",
    "response = agentcore_runtime.configure(\n",
    "    entrypoint=\"mcp_server.py\",\n",
    "    execution_role=agentcore_iam_role['Role']['Arn'],\n",
    "    auto_create_ecr=True,\n",
    "    requirements_file=\"requirements.txt\",\n",
    "    region=region,\n",
    "    authorizer_configuration=auth_config,\n",
    "    protocol=\"MCP\",\n",
    "    agent_name=tool_name\n",
    ")\n",
    "print(\"Configuration completed ✓\")"
   ]
  },
  {
   "cell_type": "markdown",
   "id": "step7_launch",
   "metadata": {},
   "source": [
    "## MCP サーバーを AgentCore Runtime に起動する\n\nここまでで Dockerfile を作成できました。次は MCP サーバーを AgentCore Runtime に起動しましょう。これにより、Amazon ECR リポジトリと AgentCore Runtime が作成されます。\n\n<div style=\"text-align:left\">\n    <img src=\"images/launch.png\" width=\"75%\"/>\n</div>"
   ]
  },
  {
   "cell_type": "code",
   "execution_count": null,
   "id": "17a32ab8-7701-4900-8055-e24364bdf35c",
   "metadata": {},
   "outputs": [],
   "source": [
    "print(\"Launching MCP server to AgentCore Runtime...\")\n",
    "print(\"This may take several minutes...\")\n",
    "launch_result = agentcore_runtime.launch()\n",
    "print(\"Launch completed ✓\")\n",
    "print(f\"Agent ARN: {launch_result.agent_arn}\")\n",
    "print(f\"Agent ID: {launch_result.agent_id}\")"
   ]
  },
  {
   "cell_type": "markdown",
   "id": "step8_check_status",
   "metadata": {},
   "source": [
    "## AgentCore ランタイムの状態を確認する\n\nAgentCore ランタイムをデプロイしたので、次はそのデプロイ状況を確認し、準備が整うのを待ちましょう。\n\n```\nkubectl get pods -n agentcore\n```\n\n出力例:\n\n```\nNAME                                    READY   STATUS    RESTARTS   AGE\nagentcore-controller-7d4459c6c8-8qlzm   1/1     Running   0          9m58s\nagentcore-runtime-5b9f6d5d5d-6jqrv      1/1     Running   0          9m58s\nagentcore-runtime-5b9f6d5d5d-jbhwn      1/1     Running   0          9m58s\nagentcore-runtime-5b9f6d5d5d-pxqxj      1/1     Running   0          9m58s\n```\n\nすべての Pod が `Running` 状態になるまで待ちます。"
   ]
  },
  {
   "cell_type": "code",
   "execution_count": null,
   "id": "afa6ac09-9adb-4846-9fc1-4d12aeb74853",
   "metadata": {},
   "outputs": [],
   "source": [
    "print(\"Checking AgentCore Runtime status...\")\n",
    "status_response = agentcore_runtime.status()\n",
    "status = status_response.endpoint['status']\n",
    "print(f\"Initial status: {status}\")\n",
    "\n",
    "end_status = ['READY', 'CREATE_FAILED', 'DELETE_FAILED', 'UPDATE_FAILED']\n",
    "while status not in end_status:\n",
    "    print(f\"Status: {status} - waiting...\")\n",
    "    time.sleep(10)\n",
    "    status_response = agentcore_runtime.status()\n",
    "    status = status_response.endpoint['status']\n",
    "\n",
    "if status == 'READY':\n",
    "    print(\"✓ AgentCore Runtime is READY!\")\n",
    "else:\n",
    "    print(f\"⚠ AgentCore Runtime status: {status}\")\n",
    "    \n",
    "print(f\"Final status: {status}\")"
   ]
  },
  {
   "cell_type": "markdown",
   "id": "step9_store_credentials",
   "metadata": {},
   "source": [
    "## リモートアクセスの設定を保存する\n\nデプロイした MCP サーバーを呼び出す前に、Agent ARN と Cognito の設定を AWS Systems Manager Parameter Store と AWS Secrets Manager に保存しておきましょう。これで簡単に取得できるようになります。"
   ]
  },
  {
   "cell_type": "code",
   "execution_count": null,
   "id": "store_config",
   "metadata": {},
   "outputs": [],
   "source": [
    "import boto3\n",
    "import json\n",
    "\n",
    "ssm_client = boto3.client('ssm', region_name=region)\n",
    "secrets_client = boto3.client('secretsmanager', region_name=region)\n",
    "\n",
    "try:\n",
    "    cognito_credentials_response = secrets_client.create_secret(\n",
    "        Name='mcp_server/cognito/credentials',\n",
    "        Description='Cognito credentials for MCP server',\n",
    "        SecretString=json.dumps(cognito_config)\n",
    "    )\n",
    "    print(\"✓ Cognito credentials stored in Secrets Manager\")\n",
    "except secrets_client.exceptions.ResourceExistsException:\n",
    "    secrets_client.update_secret(\n",
    "        SecretId='mcp_server/cognito/credentials',\n",
    "        SecretString=json.dumps(cognito_config)\n",
    "    )\n",
    "    print(\"✓ Cognito credentials updated in Secrets Manager\")\n",
    "\n",
    "agent_arn_response = ssm_client.put_parameter(\n",
    "    Name='/mcp_server/runtime/agent_arn',\n",
    "    Value=launch_result.agent_arn,\n",
    "    Type='String',\n",
    "    Description='Agent ARN for MCP server',\n",
    "    Overwrite=True\n",
    ")\n",
    "print(\"✓ Agent ARN stored in Parameter Store\")\n",
    "\n",
    "print(\"\\nConfiguration stored successfully!\")\n",
    "print(f\"Agent ARN: {launch_result.agent_arn}\")"
   ]
  },
  {
   "cell_type": "markdown",
   "id": "step10_remote_client",
   "metadata": {},
   "source": [
    "## リモートテスト用クライアントの作成\n\n次に、デプロイした MCP サーバーをテストするためのクライアントを作成しましょう。このクライアントは AWS から必要な認証情報を取得し、デプロイされたサーバーに接続します。"
   ]
  },
  {
   "cell_type": "code",
   "execution_count": null,
   "id": "create_remote_client",
   "metadata": {},
   "outputs": [],
   "source": [
    "%%writefile my_mcp_client_remote.py\n",
    "import asyncio\n",
    "import boto3\n",
    "import json\n",
    "import sys\n",
    "from boto3.session import Session\n",
    "\n",
    "from mcp import ClientSession\n",
    "from mcp.client.streamable_http import streamablehttp_client\n",
    "\n",
    "async def main():\n",
    "    boto_session = Session()\n",
    "    region = boto_session.region_name\n",
    "    \n",
    "    print(f\"Using AWS region: {region}\")\n",
    "    \n",
    "    try:\n",
    "        ssm_client = boto3.client('ssm', region_name=region)\n",
    "        agent_arn_response = ssm_client.get_parameter(Name='/mcp_server/runtime/agent_arn')\n",
    "        agent_arn = agent_arn_response['Parameter']['Value']\n",
    "        print(f\"Retrieved Agent ARN: {agent_arn}\")\n",
    "\n",
    "        secrets_client = boto3.client('secretsmanager', region_name=region)\n",
    "        response = secrets_client.get_secret_value(SecretId='mcp_server/cognito/credentials')\n",
    "        secret_value = response['SecretString']\n",
    "        parsed_secret = json.loads(secret_value)\n",
    "        bearer_token = parsed_secret['bearer_token']\n",
    "        print(\"✓ Retrieved bearer token from Secrets Manager\")\n",
    "        \n",
    "    except Exception as e:\n",
    "        print(f\"Error retrieving credentials: {e}\")\n",
    "        sys.exit(1)\n",
    "    \n",
    "    if not agent_arn or not bearer_token:\n",
    "        print(\"Error: AGENT_ARN or BEARER_TOKEN not retrieved properly\")\n",
    "        sys.exit(1)\n",
    "    \n",
    "    encoded_arn = agent_arn.replace(':', '%3A').replace('/', '%2F')\n",
    "    mcp_url = f\"https://bedrock-agentcore.{region}.amazonaws.com/runtimes/{encoded_arn}/invocations?qualifier=DEFAULT\"\n",
    "    headers = {\n",
    "        \"authorization\": f\"Bearer {bearer_token}\",\n",
    "        \"Content-Type\": \"application/json\"\n",
    "    }\n",
    "    \n",
    "    print(f\"\\nConnecting to: {mcp_url}\")\n",
    "    print(\"Headers configured ✓\")\n",
    "\n",
    "    try:\n",
    "        async with streamablehttp_client(mcp_url, headers, timeout=120, terminate_on_close=False) as (\n",
    "            read_stream,\n",
    "            write_stream,\n",
    "            _,\n",
    "        ):\n",
    "            async with ClientSession(read_stream, write_stream) as session:\n",
    "                print(\"\\n🔄 Initializing MCP session...\")\n",
    "                await session.initialize()\n",
    "                print(\"✓ MCP session initialized\")\n",
    "                \n",
    "                print(\"\\n🔄 Listing available tools...\")\n",
    "                tool_result = await session.list_tools()\n",
    "                \n",
    "                print(\"\\n📋 Available MCP Tools:\")\n",
    "                print(\"=\" * 50)\n",
    "                for tool in tool_result.tools:\n",
    "                    print(f\"🔧 {tool.name}\")\n",
    "                    print(f\"   Description: {tool.description}\")\n",
    "                    if hasattr(tool, 'inputSchema') and tool.inputSchema:\n",
    "                        properties = tool.inputSchema.get('properties', {})\n",
    "                        if properties:\n",
    "                            print(f\"   Parameters: {list(properties.keys())}\")\n",
    "                    print()\n",
    "                \n",
    "                print(f\"✅ Successfully connected to MCP server!\")\n",
    "                print(f\"Found {len(tool_result.tools)} tools available.\")\n",
    "                \n",
    "    except Exception as e:\n",
    "        print(f\"❌ Error connecting to MCP server: {e}\")\n",
    "        sys.exit(1)\n",
    "\n",
    "if __name__ == \"__main__\":\n",
    "    asyncio.run(main())"
   ]
  },
  {
   "cell_type": "markdown",
   "id": "step11_test_remote",
   "metadata": {},
   "source": [
    "以下が日本語訳になります。\n\n## デプロイした MCP サーバーのテスト\n\nリモートクライアントを使って、デプロイした MCP サーバーをテストしましょう:"
   ]
  },
  {
   "cell_type": "code",
   "execution_count": null,
   "id": "test_remote_server",
   "metadata": {},
   "outputs": [],
   "source": [
    "print(\"Testing deployed MCP server...\")\n",
    "print(\"=\" * 50)\n",
    "!python my_mcp_client_remote.py"
   ]
  },
  {
   "cell_type": "markdown",
   "id": "step12_invoke_tools",
   "metadata": {},
   "source": [
    "以下が日本語訳になります。\n\n## MCP ツールをリモートで呼び出す\n\nここでは、ツールを一覧表示するだけでなく、MCP の完全な機能を実演するためにそれらを呼び出す拡張クライアントを作成しましょう。\n\n```python\nimport os\nimport subprocess\nimport tempfile\n\nfrom mcp import mcp\n\n# MCP クライアントを作成\nclient = mcp.Client()\n\n# 利用可能なツールを一覧表示\ntools = client.list_tools()\nprint(f\"Available tools: {', '.join(tools)}\")\n\n# ツールを呼び出す\ntool_name = \"gpt-3.5-turbo\"\nprompt = \"Hello, how are you?\"\nresponse = client.invoke(\n    tool_name=tool_name,\n    prompt=prompt,\n)\nprint(f\"{tool_name} response: {response}\")\n\n# ツールを呼び出し、出力をファイルに保存\ntool_name = \"gpt-3.5-turbo\"\nprompt = \"Write a short poem about nature.\"\nwith tempfile.NamedTemporaryFile(mode=\"w+\", delete=False) as tmp:\n    tmp_path = tmp.name\n    response = client.invoke(\n        tool_name=tool_name,\n        prompt=prompt,\n        output_path=tmp_path,\n    )\n    print(f\"Output saved to: {tmp_path}\")\n    with open(tmp_path, \"r\") as f:\n        print(f.read())\n    os.remove(tmp_path)\n```"
   ]
  },
  {
   "cell_type": "code",
   "execution_count": null,
   "id": "invoke_mcp_tools",
   "metadata": {},
   "outputs": [],
   "source": [
    "%%writefile invoke_mcp_tools.py\n",
    "import asyncio\n",
    "import boto3\n",
    "import json\n",
    "import sys\n",
    "from boto3.session import Session\n",
    "\n",
    "from mcp import ClientSession\n",
    "from mcp.client.streamable_http import streamablehttp_client\n",
    "\n",
    "async def main():\n",
    "    boto_session = Session()\n",
    "    region = boto_session.region_name\n",
    "    \n",
    "    print(f\"Using AWS region: {region}\")\n",
    "    \n",
    "    try:\n",
    "        ssm_client = boto3.client('ssm', region_name=region)\n",
    "        agent_arn_response = ssm_client.get_parameter(Name='/mcp_server/runtime/agent_arn')\n",
    "        agent_arn = agent_arn_response['Parameter']['Value']\n",
    "        print(f\"Retrieved Agent ARN: {agent_arn}\")\n",
    "\n",
    "        secrets_client = boto3.client('secretsmanager', region_name=region)\n",
    "        response = secrets_client.get_secret_value(SecretId='mcp_server/cognito/credentials')\n",
    "        secret_value = response['SecretString']\n",
    "        parsed_secret = json.loads(secret_value)\n",
    "        bearer_token = parsed_secret['bearer_token']\n",
    "        print(\"✓ Retrieved bearer token from Secrets Manager\")\n",
    "        \n",
    "    except Exception as e:\n",
    "        print(f\"Error retrieving credentials: {e}\")\n",
    "        sys.exit(1)\n",
    "    \n",
    "    encoded_arn = agent_arn.replace(':', '%3A').replace('/', '%2F')\n",
    "    mcp_url = f\"https://bedrock-agentcore.{region}.amazonaws.com/runtimes/{encoded_arn}/invocations?qualifier=DEFAULT\"\n",
    "    headers = {\n",
    "        \"authorization\": f\"Bearer {bearer_token}\",\n",
    "        \"Content-Type\": \"application/json\"\n",
    "    }\n",
    "    \n",
    "    print(f\"\\nConnecting to: {mcp_url}\")\n",
    "\n",
    "    try:\n",
    "        async with streamablehttp_client(mcp_url, headers, timeout=120, terminate_on_close=False) as (\n",
    "            read_stream,\n",
    "            write_stream,\n",
    "            _,\n",
    "        ):\n",
    "            async with ClientSession(read_stream, write_stream) as session:\n",
    "                print(\"\\n🔄 Initializing MCP session...\")\n",
    "                await session.initialize()\n",
    "                print(\"✓ MCP session initialized\")\n",
    "                \n",
    "                print(\"\\n🔄 Listing available tools...\")\n",
    "                tool_result = await session.list_tools()\n",
    "                \n",
    "                print(\"\\n📋 Available MCP Tools:\")\n",
    "                print(\"=\" * 50)\n",
    "                for tool in tool_result.tools:\n",
    "                    print(f\"🔧 {tool.name}: {tool.description}\")\n",
    "                \n",
    "                print(\"\\n🧪 Testing MCP Tools:\")\n",
    "                print(\"=\" * 50)\n",
    "                \n",
    "                try:\n",
    "                    print(\"\\n➕ Testing add_numbers(5, 3)...\")\n",
    "                    add_result = await session.call_tool(\n",
    "                        name=\"add_numbers\",\n",
    "                        arguments={\"a\": 5, \"b\": 3}\n",
    "                    )\n",
    "                    print(f\"   Result: {add_result.content[0].text}\")\n",
    "                except Exception as e:\n",
    "                    print(f\"   Error: {e}\")\n",
    "                \n",
    "                try:\n",
    "                    print(\"\\n✖️  Testing multiply_numbers(4, 7)...\")\n",
    "                    multiply_result = await session.call_tool(\n",
    "                        name=\"multiply_numbers\",\n",
    "                        arguments={\"a\": 4, \"b\": 7}\n",
    "                    )\n",
    "                    print(f\"   Result: {multiply_result.content[0].text}\")\n",
    "                except Exception as e:\n",
    "                    print(f\"   Error: {e}\")\n",
    "                \n",
    "                try:\n",
    "                    print(\"\\n👋 Testing greet_user('Alice')...\")\n",
    "                    greet_result = await session.call_tool(\n",
    "                        name=\"greet_user\",\n",
    "                        arguments={\"name\": \"Alice\"}\n",
    "                    )\n",
    "                    print(f\"   Result: {greet_result.content[0].text}\")\n",
    "                except Exception as e:\n",
    "                    print(f\"   Error: {e}\")\n",
    "                \n",
    "                print(\"\\n✅ MCP tool testing completed!\")\n",
    "                \n",
    "    except Exception as e:\n",
    "        print(f\"❌ Error connecting to MCP server: {e}\")\n",
    "        sys.exit(1)\n",
    "\n",
    "if __name__ == \"__main__\":\n",
    "    asyncio.run(main())"
   ]
  },
  {
   "cell_type": "markdown",
   "id": "test_tool_invocation",
   "metadata": {},
   "source": [
    "## テストツールの呼び出し\n\n実際に MCP ツールを呼び出して、テストしましょう。"
   ]
  },
  {
   "cell_type": "code",
   "execution_count": null,
   "id": "run_tool_tests",
   "metadata": {},
   "outputs": [],
   "source": [
    "print(\"Testing MCP tool invocation...\")\n",
    "print(\"=\" * 50)\n",
    "!python invoke_mcp_tools.py"
   ]
  },
  {
   "cell_type": "markdown",
   "id": "next_steps",
   "metadata": {},
   "source": [
    "## 次のステップ\n\nAgentCore Runtime に MCP サーバーを正常にデプロイできたので、次のことができます。\n\n1. **ツールの追加**: 追加のツールで MCP サーバーを拡張する\n2. **カスタム認証**: カスタム JWT 認可者を実装する\n3. **統合**: 他の AgentCore サービスと統合する"
   ]
  },
  {
   "cell_type": "markdown",
   "id": "cleanup_section",
   "metadata": {},
   "source": [
    "## クリーンアップ (オプション)\n\nこのチュートリアルで作成したリソースを削除したい場合は、次のセルを実行してください:"
   ]
  },
  {
   "cell_type": "code",
   "execution_count": null,
   "id": "cleanup_resources",
   "metadata": {},
   "outputs": [],
   "source": [
    "import boto3\n",
    "\n",
    "print(\"🗑️  Starting cleanup process...\")\n",
    "\n",
    "agentcore_control_client = boto3.client('bedrock-agentcore-control', region_name=region)\n",
    "ecr_client = boto3.client('ecr', region_name=region)\n",
    "iam_client = boto3.client('iam')\n",
    "ssm_client = boto3.client('ssm', region_name=region)\n",
    "secrets_client = boto3.client('secretsmanager', region_name=region)\n",
    "\n",
    "try:\n",
    "    print(\"Deleting AgentCore Runtime...\")\n",
    "    runtime_delete_response = agentcore_control_client.delete_agent_runtime(\n",
    "        agentRuntimeId=launch_result.agent_id,\n",
    "    )\n",
    "    print(\"✓ AgentCore Runtime deletion initiated\")\n",
    "\n",
    "    print(\"Deleting ECR repository...\")\n",
    "    ecr_repo_name = launch_result.ecr_uri.split('/')[1]\n",
    "    ecr_client.delete_repository(\n",
    "        repositoryName=ecr_repo_name,\n",
    "        force=True\n",
    "    )\n",
    "    print(\"✓ ECR repository deleted\")\n",
    "\n",
    "    print(\"Deleting IAM role policies...\")\n",
    "    policies = iam_client.list_role_policies(\n",
    "        RoleName=agentcore_iam_role['Role']['RoleName'],\n",
    "        MaxItems=100\n",
    "    )\n",
    "\n",
    "    for policy_name in policies['PolicyNames']:\n",
    "        iam_client.delete_role_policy(\n",
    "            RoleName=agentcore_iam_role['Role']['RoleName'],\n",
    "            PolicyName=policy_name\n",
    "        )\n",
    "    \n",
    "    iam_client.delete_role(\n",
    "        RoleName=agentcore_iam_role['Role']['RoleName']\n",
    "    )\n",
    "    print(\"✓ IAM role deleted\")\n",
    "\n",
    "    try:\n",
    "        ssm_client.delete_parameter(Name='/mcp_server/runtime/agent_arn')\n",
    "        print(\"✓ Parameter Store parameter deleted\")\n",
    "    except ssm_client.exceptions.ParameterNotFound:\n",
    "        print(\"ℹ️  Parameter Store parameter not found\")\n",
    "\n",
    "    try:\n",
    "        secrets_client.delete_secret(\n",
    "            SecretId='mcp_server/cognito/credentials',\n",
    "            ForceDeleteWithoutRecovery=True\n",
    "        )\n",
    "        print(\"✓ Secrets Manager secret deleted\")\n",
    "    except secrets_client.exceptions.ResourceNotFoundException:\n",
    "        print(\"ℹ️  Secrets Manager secret not found\")\n",
    "\n",
    "    print(\"\\n✅ Cleanup completed successfully!\")\n",
    "    \n",
    "except Exception as e:\n",
    "    print(f\"❌ Error during cleanup: {e}\")\n",
    "    print(\"You may need to manually clean up some resources.\")"
   ]
  },
  {
   "cell_type": "markdown",
   "id": "congratulations",
   "metadata": {},
   "source": [
    "# 🎉 おめでとうございます!\n\nあなたは次の作業を無事に完了しました:\n\n✅ **カスタムツールを使用した MCP サーバーの作成**\n✅ **MCP クライアントを使用したローカルでのテスト**\n✅ **Amazon Cognito を使用した認証のセットアップ**\n✅ **AgentCore Runtime を使用した AWS へのデプロイ**\n✅ **適切な認証を使用したリモート呼び出し**\n✅ **MCP の概念とベストプラクティスの習得**\n\nあなたの MCP サーバーは現在、Amazon Bedrock AgentCore Runtime 上で実行されており、本番環境での使用が可能です!\n\n## 概要\n\nこのチュートリアルでは、以下の内容を学びました:\n- FastMCP を使用した MCP サーバーの構築\n- AgentCore 互換性のための状態レス HTTP トランスポートの設定\n- Amazon Cognito を使用した JWT 認証のセットアップ\n- AWS 上での MCP サーバーのデプロイと管理\n- ローカルとリモートの両方でのテスト\n- ツール呼び出しのための MCP クライアントの使用\n\nデプロイされた MCP サーバーは、今後、より大規模な AI アプリケーションやワークフローに統合することができます!"
   ]
  }
 ],
 "metadata": {
  "kernelspec": {
   "display_name": "Python 3 (ipykernel)",
   "language": "python",
   "name": "python3"
  },
  "language_info": {
   "codemirror_mode": {
    "name": "ipython",
    "version": 3
   },
   "file_extension": ".py",
   "mimetype": "text/x-python",
   "name": "python",
   "nbconvert_exporter": "python",
   "pygments_lexer": "ipython3",
   "version": "3.10.18"
  }
 },
 "nbformat": 4,
 "nbformat_minor": 5
}