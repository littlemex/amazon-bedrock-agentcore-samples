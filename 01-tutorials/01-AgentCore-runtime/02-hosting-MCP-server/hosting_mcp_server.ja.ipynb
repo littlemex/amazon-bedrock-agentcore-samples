{
 "cells": [
  {
   "cell_type": "markdown",
   "id": "5c0122e65c053f38",
   "metadata": {},
   "source": [
    "# Amazon Bedrock AgentCore Runtime での MCP サーバーのホスティング\n",
    "\n",
    "## 概要\n",
    "\n",
    "このチュートリアルでは、Amazon Bedrock AgentCore Runtime で MCP（Model Context Protocol）サーバーをホストする方法を学びます。Amazon Bedrock AgentCore Python SDK を使用して、MCP ツールを Amazon Bedrock AgentCore と互換性のある MCP サーバーとしてラップします。\n",
    "\n",
    "Amazon Bedrock AgentCore Python SDK は MCP サーバーの実装の詳細を処理するため、ツールのコア機能に集中できます。このSDKはあなたのコードを AgentCore 標準化された MCP プロトコル契約に変換し、直接通信を可能にします。\n",
    "\n",
    "### チュートリアルの詳細\n",
    "\n",
    "| 情報               | 詳細                                                   |\n",
    "|:------------------|:--------------------------------------------------------|\n",
    "| チュートリアルタイプ | ツールのホスティング                                     |\n",
    "| ツールタイプ       | MCP サーバー                                            |\n",
    "| チュートリアルコンポーネント | AgentCore Runtime での MCP サーバーのホスティング   |\n",
    "| チュートリアル分野   | 分野横断的                                             |\n",
    "| 例の複雑さ         | 簡単                                                   |\n",
    "| 使用 SDK          | Amazon BedrockAgentCore Python SDK と MCP              |\n",
    "\n",
    "### チュートリアルのアーキテクチャ\n",
    "\n",
    "このチュートリアルでは、MCP サーバーを AgentCore ランタイムにデプロイする方法について説明します。\n",
    "\n",
    "デモンストレーションのために、3 つのツール（`add_numbers`、`multiply_numbers`、`greet_user`）を持つシンプルな MCP サーバーを使用します。\n",
    "\n",
    "<div style=\"text-align:left\">\n",
    "    <img src=\"images/hosting_mcp_server.png\" width=\"40%\"/>\n",
    "</div>\n",
    "\n",
    "### チュートリアルの主な機能\n",
    "\n",
    "* カスタムツールを使用した MCP サーバーの作成\n",
    "* MCP サーバーのローカルでのテスト\n",
    "* Amazon Bedrock AgentCore Runtime での MCP サーバーのホスティング\n",
    "* 認証を使用したデプロイ済み MCP サーバーの呼び出し"
   ]
  },
  {
   "cell_type": "markdown",
   "id": "3a676f58ecf52b42",
   "metadata": {},
   "source": [
    "## 前提条件\n",
    "\n",
    "このチュートリアルを実行するには以下が必要です：\n",
    "* Python 3.10+\n",
    "* 設定済みの AWS 認証情報\n",
    "* Amazon Bedrock AgentCore SDK\n",
    "* MCP (Model Context Protocol) ライブラリ\n",
    "* 実行中の Docker"
   ]
  },
  {
   "cell_type": "code",
   "execution_count": null,
   "id": "initial_id",
   "metadata": {
    "jupyter": {
     "is_executing": true
    }
   },
   "outputs": [],
   "source": [
    "#!uv add -r requirements.txt --active"
   ]
  },
  {
   "cell_type": "code",
   "execution_count": 1,
   "id": "f6f61a85",
   "metadata": {},
   "outputs": [],
   "source": [
    "import os\n",
    "os.environ['AWS_PROFILE'] = 'cline2'\n",
    "\n",
    "# べき等ではないため完全に一から再実行する場合は `rm .bedrock_agentcore.yaml` を実行してください。"
   ]
  },
  {
   "cell_type": "markdown",
   "id": "ca924a7a2731e26f",
   "metadata": {},
   "source": [
    "## MCP（Model Context Protocol）の理解\n",
    "\n",
    "MCPは、AI モデルが外部データやツールに安全にアクセスできるようにするプロトコルです。主要な概念：\n",
    "\n",
    "* **ツール**：AI がアクションを実行するために呼び出せる関数\n",
    "* **Streamable HTTP**：AgentCore Runtime で使用される転送プロトコル\n",
    "* **セッション分離**：各クライアントは `Mcp-Session-Id` ヘッダーを介して分離されたセッションを取得\n",
    "* **ステートレス操作**：サーバーはスケーラビリティのためにステートレス操作をサポートする必要がある\n",
    "\n",
    "AgentCore Runtime は、MCP サーバーがデフォルトパスとして `0.0.0.0:8000/mcp` でホストされることを想定しています。\n",
    "\n",
    "### プロジェクト構造\n",
    "\n",
    "適切な構造でプロジェクトをセットアップしましょう：\n",
    "\n",
    "```\n",
    "mcp_server_project/\n",
    "├── mcp_server.py              # メイン MCP サーバーコード\n",
    "├── my_mcp_client.py          # ローカルテスト用クライアント\n",
    "├── my_mcp_client_remote.py   # リモートテスト用クライアント\n",
    "├── requirements.txt          # 依存関係\n",
    "└── __init__.py              # Python パッケージマーカー\n",
    "```"
   ]
  },
  {
   "cell_type": "markdown",
   "id": "step2_create_server",
   "metadata": {},
   "source": [
    "## MCP サーバーの作成\n",
    "\n",
    "ここでは、3 つのシンプルなツールを使って MCP サーバーを作成しましょう。このサーバーは AgentCore Runtime との互換性に必要な `stateless_http=True` を指定した FastMCP を使用します。"
   ]
  },
  {
   "cell_type": "code",
   "execution_count": 2,
   "id": "b7d386ab54e85e63",
   "metadata": {},
   "outputs": [
    {
     "name": "stdout",
     "output_type": "stream",
     "text": [
      "Overwriting mcp_server.py\n"
     ]
    }
   ],
   "source": [
    "%%writefile mcp_server.py\n",
    "from mcp.server.fastmcp import FastMCP\n",
    "from starlette.responses import JSONResponse\n",
    "\n",
    "mcp = FastMCP(host=\"0.0.0.0\", stateless_http=True)\n",
    "\n",
    "@mcp.tool()\n",
    "def add_numbers(a: int, b: int) -> int:\n",
    "    \"\"\"Add two numbers together\"\"\"\n",
    "    return a + b\n",
    "\n",
    "@mcp.tool()\n",
    "def multiply_numbers(a: int, b: int) -> int:\n",
    "    \"\"\"Multiply two numbers together\"\"\"\n",
    "    return a * b\n",
    "\n",
    "@mcp.tool()\n",
    "def greet_user(name: str) -> str:\n",
    "    \"\"\"Greet a user by name\"\"\"\n",
    "    return f\"こんにちは, {name}! はじめまして.\"\n",
    "\n",
    "if __name__ == \"__main__\":\n",
    "    mcp.run(transport=\"streamable-http\")"
   ]
  },
  {
   "cell_type": "markdown",
   "id": "understand_code",
   "metadata": {},
   "source": [
    "### このコードの機能\n",
    "\n",
    "* **FastMCP**: あなたのツールをホストできる MCP サーバーを作成します\n",
    "* **@mcp.tool()**: Python 関数を MCP ツールに変換するデコレーター\n",
    "* **stateless_http=True**: AgentCore Runtime との互換性に必要\n",
    "* **ツール**: 異なるタイプの操作を示す 3 つのシンプルなツール"
   ]
  },
  {
   "cell_type": "markdown",
   "id": "step3_local_client",
   "metadata": {},
   "source": [
    "## ローカルテスト用クライアントの作成\n",
    "\n",
    "AgentCore Runtime にデプロイする前に、MCP サーバーをローカルでテストするためのクライアントを作成しましょう："
   ]
  },
  {
   "cell_type": "code",
   "execution_count": 3,
   "id": "1226d59e6b56c96",
   "metadata": {},
   "outputs": [
    {
     "name": "stdout",
     "output_type": "stream",
     "text": [
      "Overwriting my_mcp_client.py\n"
     ]
    }
   ],
   "source": [
    "%%writefile my_mcp_client.py\n",
    "import asyncio\n",
    "\n",
    "from mcp import ClientSession\n",
    "from mcp.client.streamable_http import streamablehttp_client\n",
    "\n",
    "async def main():\n",
    "    mcp_url = \"http://localhost:18000/mcp\"\n",
    "    headers = {}\n",
    "\n",
    "    async with streamablehttp_client(mcp_url, headers, timeout=120, terminate_on_close=False) as (\n",
    "        read_stream,\n",
    "        write_stream,\n",
    "        _,\n",
    "    ):\n",
    "        async with ClientSession(read_stream, write_stream) as session:\n",
    "            await session.initialize()\n",
    "            tool_result = await session.list_tools()\n",
    "            print(\"Available tools:\")\n",
    "            for tool in tool_result.tools:\n",
    "                print(f\"  - {tool.name}: {tool.description}\")\n",
    "\n",
    "if __name__ == \"__main__\":\n",
    "    asyncio.run(main())"
   ]
  },
  {
   "cell_type": "markdown",
   "id": "test_locally_instructions",
   "metadata": {},
   "source": [
    "### ローカルでのテスト\n",
    "\n",
    "MCP サーバーをローカルでテストするには：\n",
    "\n",
    "1. **ターミナル 1**： MCP サーバーを起動する\n",
    "   ```bash\n",
    "   FASTMCP_PORT=18000 uv run mcp_server.py\n",
    "   ```\n",
    "   \n",
    "2. **ターミナル 2**： テストクライアントを実行する\n",
    "   ```bash\n",
    "   uv run my_mcp_client.py\n",
    "   ```\n",
    "\n",
    "出力に 3 つのツールが表示されるはずです。"
   ]
  },
  {
   "cell_type": "markdown",
   "id": "step4_cognito_setup",
   "metadata": {},
   "source": [
    "## Amazon Cognito による認証の設定\n",
    "\n",
    "AgentCore Runtime には認証が必要です。デプロイした MCP サーバーへのアクセスのために JWT トークンを提供する Amazon Cognito を使用します。\n",
    "\n",
    "この関数は、Amazon Cognito User Pool を作成し、アプリケーションクライアント、テストユーザーを設定して、認証トークンを取得するまでの一連のプロセスを自動化しています。主に MCP サーバーの認証に使用するための設定を行っています。\n",
    "\n",
    "1. Boto3 セッションの初期化(cognito-idp のクライアントを初期化)\n",
    "2. User Pool の作成(MCPServerPool という名前の User Pool を作成)\n",
    "3. アプリケーションクライアントの作成(User Pool に MCPServerPoolClient という名前のクライアントを追加)\n",
    "4. テストユーザーの作成(testuser というユーザー名でテストユーザーを作成)\n",
    "5. 永続的なパスワードの設定(MyPassword123!)\n",
    "6. ユーザー認証とトークン取得(作成したユーザーで認証を実行し、認証結果から Bearer Token を取得)\n",
    "\n",
    "セル実行のたびに新規で上記が作成されます。"
   ]
  },
  {
   "cell_type": "code",
   "execution_count": 4,
   "id": "import_utils",
   "metadata": {},
   "outputs": [],
   "source": [
    "import sys\n",
    "import os\n",
    "\n",
    "current_dir = os.path.dirname(os.path.abspath('__file__' if '__file__' in globals() else '.'))\n",
    "\n",
    "utils_dir = os.path.join(current_dir, '.')\n",
    "utils_dir = os.path.abspath(utils_dir)\n",
    "\n",
    "sys.path.insert(0, utils_dir)\n",
    "\n",
    "from utils import create_agentcore_role, setup_cognito_user_pool"
   ]
  },
  {
   "cell_type": "code",
   "execution_count": 5,
   "id": "setup_cognito",
   "metadata": {},
   "outputs": [
    {
     "name": "stdout",
     "output_type": "stream",
     "text": [
      "Setting up Amazon Cognito user pool...\n",
      "Pool id: us-east-1_1VKOs98iH\n",
      "Discovery URL: https://cognito-idp.us-east-1.amazonaws.com/us-east-1_1VKOs98iH/.well-known/openid-configuration\n",
      "Client ID: 5caa5p8ihkrc3m0h09814ph1n\n",
      "Bearer Token: eyJraWQiOiJIajZPemgxSFlNMGtOcDNsQmtZQmZYRmhuZWpFSTVHTU5RTll2RmREUnVjPSIsImFsZyI6IlJTMjU2In0.eyJzdWIiOiIzNGY4NjRlOC01MDMxLTcwZWItNGZjZi1kZGY0ODQ3NThmODAiLCJpc3MiOiJodHRwczpcL1wvY29nbml0by1pZHAudXMtZWFzdC0xLmFtYXpvbmF3cy5jb21cL3VzLWVhc3QtMV8xVktPczk4aUgiLCJjbGllbnRfaWQiOiI1Y2FhNXA4aWhrcmMzbTBoMDk4MTRwaDFuIiwib3JpZ2luX2p0aSI6Ijc2NTc1YjIwLWNmNzItNGYzMC1iMjU3LWUxZTE1NGE4ZTU4MCIsImV2ZW50X2lkIjoiMTU1ODc0ZTQtNGYzOS00ZDAxLWE4YzItY2MwOTc2ZTA0MWUyIiwidG9rZW5fdXNlIjoiYWNjZXNzIiwic2NvcGUiOiJhd3MuY29nbml0by5zaWduaW4udXNlci5hZG1pbiIsImF1dGhfdGltZSI6MTc1MzYwMzUwNiwiZXhwIjoxNzUzNjA3MTA2LCJpYXQiOjE3NTM2MDM1MDYsImp0aSI6Ijg2ZTIyZWEzLWZkYzQtNDNlMy1iNWJiLWFmOWViYTlkY2E0MiIsInVzZXJuYW1lIjoidGVzdHVzZXIifQ.oT_JlM12cl96mk9jXdxguRoPY3p2LfoeQw882WTExhpc8TgcnBQ6bb2NmsA8FHfByWdNz58l-sWJpsxVGYM8rAolP09b0eCGnSeQlfaZoxF-TXBCuI4VYNg2U0kOG2lO-yelGhKI6G-teWEiAI8-qRqxQKWGJMgQ-HJt3Na2y7Ucd1bnS27e6U9dC3Dy2izgNFP-ZvWeBNUZkwgjlhVUF9mtQR3GiJ107bJF8w0KV0Rqte10H1Cve8uO___HU2z4jQxDXy7A9CrmpjXOJDmKD9yXSC1YXhjY25oYsXbSfw_hqj3RobY88-iWwxF-P8c8t3TU2xjBLnmcufjCGPZ81w\n",
      "Cognito setup completed ✓\n",
      "User Pool ID: us-east-1_1VKOs98iH\n",
      "Client ID: 5caa5p8ihkrc3m0h09814ph1n\n"
     ]
    }
   ],
   "source": [
    "print(\"Setting up Amazon Cognito user pool...\")\n",
    "cognito_config = setup_cognito_user_pool()\n",
    "print(\"Cognito setup completed ✓\")\n",
    "print(f\"User Pool ID: {cognito_config.get('pool_id', 'N/A')}\")\n",
    "print(f\"Client ID: {cognito_config.get('client_id', 'N/A')}\")"
   ]
  },
  {
   "cell_type": "markdown",
   "id": "step5_iam_role",
   "metadata": {},
   "source": [
    "## ステップ 5: IAM 実行ロールの作成\n",
    "\n",
    "始める前に、AgentCore Runtime 用の IAM ロールを作成しましょう。このロールは、ランタイムが動作するために必要な権限を提供します。"
   ]
  },
  {
   "cell_type": "code",
   "execution_count": 6,
   "id": "54dd2fdf-985c-4a70-8b87-071783a209de",
   "metadata": {},
   "outputs": [
    {
     "name": "stdout",
     "output_type": "stream",
     "text": [
      "Creating IAM role for mcp_server...\n",
      "使用中のプロファイル: cline2\n",
      "使用中のリージョン: us-east-1\n",
      "アカウントID: 320462930492\n",
      "IAMロール agentcore-mcp_server-role の作成を試みます\n",
      "ロール agentcore-mcp_server-role は既に存在します - 削除して再作成します\n",
      "policies: {'PolicyNames': ['AgentCorePolicy'], 'IsTruncated': False, 'ResponseMetadata': {'RequestId': 'aab2edb7-40c4-4909-9089-a95ec8c4fdc9', 'HTTPStatusCode': 200, 'HTTPHeaders': {'date': 'Sun, 27 Jul 2025 08:05:09 GMT', 'x-amzn-requestid': 'aab2edb7-40c4-4909-9089-a95ec8c4fdc9', 'content-type': 'text/xml', 'content-length': '380'}, 'RetryAttempts': 0}}\n",
      "agentcore-mcp_server-role を削除中\n",
      "agentcore-mcp_server-role を再作成中\n",
      "attaching role policy agentcore-mcp_server-role\n",
      "IAM role created ✓\n",
      "Role ARN: arn:aws:iam::320462930492:role/agentcore-mcp_server-role\n"
     ]
    }
   ],
   "source": [
    "tool_name = \"mcp_server\"\n",
    "print(f\"Creating IAM role for {tool_name}...\")\n",
    "agentcore_iam_role = create_agentcore_role(agent_name=tool_name)\n",
    "print(f\"IAM role created ✓\")\n",
    "print(f\"Role ARN: {agentcore_iam_role['Role']['Arn']}\")"
   ]
  },
  {
   "cell_type": "markdown",
   "id": "step6_configure_deployment",
   "metadata": {},
   "source": [
    "## AgentCore ランタイムデプロイメントの設定\n",
    "\n",
    "次に、スターターツールキットを使用して、エントリーポイント、先ほど作成した実行ロール、および要件ファイルを含む AgentCore ランタイムデプロイメントを設定します。また、起動時に Amazon ECR リポジトリを自動作成するようにスターターキットを設定します。\n",
    "\n",
    "設定ステップでは、アプリケーションコードに基づいて Docker ファイルが生成されます\n",
    "\n",
    "<div style=\"text-align:left\">\n",
    "    <img src=\"images/configure.png\" width=\"40%\"/>\n",
    "</div>"
   ]
  },
  {
   "cell_type": "code",
   "execution_count": 7,
   "id": "configure_runtime",
   "metadata": {},
   "outputs": [
    {
     "name": "stderr",
     "output_type": "stream",
     "text": [
      "Entrypoint parsed: file=/home/coder/amazon-bedrock-agentcore-samples/01-tutorials/01-AgentCore-runtime/02-hosting-MCP-server/mcp_server.py, bedrock_agentcore_name=mcp_server\n",
      "Configuring BedrockAgentCore agent: mcp_server\n"
     ]
    },
    {
     "name": "stdout",
     "output_type": "stream",
     "text": [
      "Using AWS region: us-east-1\n",
      "All required files found ✓\n",
      "Configuring AgentCore Runtime...\n"
     ]
    },
    {
     "data": {
      "text/html": [
       "<pre style=\"white-space:pre;overflow-x:auto;line-height:normal;font-family:Menlo,'DejaVu Sans Mono',consolas,'Courier New',monospace\">\n",
       "<span style=\"color: #808000; text-decoration-color: #808000; font-weight: bold; text-decoration: underline\">⚠️  [WARNING] Platform mismatch: Current system is </span><span style=\"color: #008000; text-decoration-color: #008000; text-decoration: underline\">'linux/amd64'</span><span style=\"color: #808000; text-decoration-color: #808000; font-weight: bold; text-decoration: underline\"> but Bedrock AgentCore requires </span><span style=\"color: #008000; text-decoration-color: #008000; text-decoration: underline\">'linux/arm64'</span><span style=\"color: #808000; text-decoration-color: #808000; font-weight: bold; text-decoration: underline\">.</span>\n",
       "<span style=\"color: #808000; text-decoration-color: #808000; font-weight: bold; text-decoration: underline\">For deployment options and workarounds, see: </span>\n",
       "<span style=\"color: #0000ff; text-decoration-color: #0000ff; text-decoration: underline\">https://docs.aws.amazon.com/bedrock-agentcore/latest/devguide/getting-started-custom.html</span>\n",
       "\n",
       "</pre>\n"
      ],
      "text/plain": [
       "\n",
       "\u001b[1;4;33m⚠️  \u001b[0m\u001b[1;4;33m[\u001b[0m\u001b[1;4;33mWARNING\u001b[0m\u001b[1;4;33m]\u001b[0m\u001b[1;4;33m Platform mismatch: Current system is \u001b[0m\u001b[4;32m'linux/amd64'\u001b[0m\u001b[1;4;33m but Bedrock AgentCore requires \u001b[0m\u001b[4;32m'linux/arm64'\u001b[0m\u001b[1;4;33m.\u001b[0m\n",
       "\u001b[1;4;33mFor deployment options and workarounds, see: \u001b[0m\n",
       "\u001b[4;94mhttps://docs.aws.amazon.com/bedrock-agentcore/latest/devguide/getting-started-custom.html\u001b[0m\n",
       "\n"
      ]
     },
     "metadata": {},
     "output_type": "display_data"
    },
    {
     "name": "stderr",
     "output_type": "stream",
     "text": [
      "Generated Dockerfile: /home/coder/amazon-bedrock-agentcore-samples/01-tutorials/01-AgentCore-runtime/02-hosting-MCP-server/Dockerfile\n",
      "Generated .dockerignore: /home/coder/amazon-bedrock-agentcore-samples/01-tutorials/01-AgentCore-runtime/02-hosting-MCP-server/.dockerignore\n",
      "Keeping 'mcp_server' as default agent\n",
      "Bedrock AgentCore configured: /home/coder/amazon-bedrock-agentcore-samples/01-tutorials/01-AgentCore-runtime/02-hosting-MCP-server/.bedrock_agentcore.yaml\n"
     ]
    },
    {
     "name": "stdout",
     "output_type": "stream",
     "text": [
      "Configuration completed ✓\n"
     ]
    }
   ],
   "source": [
    "from bedrock_agentcore_starter_toolkit import Runtime\n",
    "from boto3.session import Session\n",
    "import time\n",
    "\n",
    "boto_session = Session()\n",
    "region = boto_session.region_name\n",
    "print(f\"Using AWS region: {region}\")\n",
    "\n",
    "required_files = ['mcp_server.py', 'requirements.txt']\n",
    "for file in required_files:\n",
    "    if not os.path.exists(file):\n",
    "        raise FileNotFoundError(f\"Required file {file} not found\")\n",
    "print(\"All required files found ✓\")\n",
    "\n",
    "agentcore_runtime = Runtime()\n",
    "\n",
    "auth_config = {\n",
    "    \"customJWTAuthorizer\": {\n",
    "        \"allowedClients\": [\n",
    "            cognito_config['client_id']\n",
    "        ],\n",
    "        \"discoveryUrl\": cognito_config['discovery_url'],\n",
    "    }\n",
    "}\n",
    "\n",
    "print(\"Configuring AgentCore Runtime...\")\n",
    "response = agentcore_runtime.configure(\n",
    "    entrypoint=\"mcp_server.py\",\n",
    "    execution_role=agentcore_iam_role['Role']['Arn'],\n",
    "    auto_create_ecr=True,\n",
    "    requirements_file=\"requirements.txt\",\n",
    "    region=region,\n",
    "    authorizer_configuration=auth_config,\n",
    "    protocol=\"MCP\",\n",
    "    agent_name=tool_name\n",
    ")\n",
    "print(\"Configuration completed ✓\")"
   ]
  },
  {
   "cell_type": "markdown",
   "id": "step7_launch",
   "metadata": {},
   "source": [
    "## MCP サーバーを AgentCore ランタイムに起動する\n",
    "\n",
    "Docker ファイルができたので、MCP サーバーを AgentCore ランタイムに起動しましょう。これにより Amazon ECR リポジトリと AgentCore ランタイムが作成されます。\n",
    "\n",
    "<div style=\"text-align:left\">\n",
    "    <img src=\"images/launch.png\" width=\"75%\"/>\n",
    "</div>"
   ]
  },
  {
   "cell_type": "code",
   "execution_count": 1,
   "id": "17a32ab8-7701-4900-8055-e24364bdf35c",
   "metadata": {},
   "outputs": [
    {
     "name": "stdout",
     "output_type": "stream",
     "text": [
      "Launching MCP server to AgentCore Runtime...\n",
      "This may take several minutes...\n"
     ]
    },
    {
     "ename": "NameError",
     "evalue": "name 'agentcore_runtime' is not defined",
     "output_type": "error",
     "traceback": [
      "\u001b[0;31m---------------------------------------------------------------------------\u001b[0m",
      "\u001b[0;31mNameError\u001b[0m                                 Traceback (most recent call last)",
      "Cell \u001b[0;32mIn[1], line 3\u001b[0m\n\u001b[1;32m      1\u001b[0m \u001b[38;5;28mprint\u001b[39m(\u001b[38;5;124m\"\u001b[39m\u001b[38;5;124mLaunching MCP server to AgentCore Runtime...\u001b[39m\u001b[38;5;124m\"\u001b[39m)\n\u001b[1;32m      2\u001b[0m \u001b[38;5;28mprint\u001b[39m(\u001b[38;5;124m\"\u001b[39m\u001b[38;5;124mThis may take several minutes...\u001b[39m\u001b[38;5;124m\"\u001b[39m)\n\u001b[0;32m----> 3\u001b[0m launch_result \u001b[38;5;241m=\u001b[39m \u001b[43magentcore_runtime\u001b[49m\u001b[38;5;241m.\u001b[39mlaunch(auto_update_on_conflict\u001b[38;5;241m=\u001b[39m\u001b[38;5;28;01mTrue\u001b[39;00m)\n\u001b[1;32m      4\u001b[0m \u001b[38;5;28mprint\u001b[39m(\u001b[38;5;124m\"\u001b[39m\u001b[38;5;124mLaunch completed ✓\u001b[39m\u001b[38;5;124m\"\u001b[39m)\n\u001b[1;32m      5\u001b[0m \u001b[38;5;28mprint\u001b[39m(\u001b[38;5;124mf\u001b[39m\u001b[38;5;124m\"\u001b[39m\u001b[38;5;124mAgent ARN: \u001b[39m\u001b[38;5;132;01m{\u001b[39;00mlaunch_result\u001b[38;5;241m.\u001b[39magent_arn\u001b[38;5;132;01m}\u001b[39;00m\u001b[38;5;124m\"\u001b[39m)\n",
      "\u001b[0;31mNameError\u001b[0m: name 'agentcore_runtime' is not defined"
     ]
    }
   ],
   "source": [
    "print(\"Launching MCP server to AgentCore Runtime...\")\n",
    "print(\"This may take several minutes...\")\n",
    "launch_result = agentcore_runtime.launch(auto_update_on_conflict=True)\n",
    "print(\"Launch completed ✓\")\n",
    "print(f\"Agent ARN: {launch_result.agent_arn}\")\n",
    "print(f\"Agent ID: {launch_result.agent_id}\")"
   ]
  },
  {
   "cell_type": "markdown",
   "id": "step8_check_status",
   "metadata": {},
   "source": [
    "## AgentCore ランタイムのステータス確認\n",
    "\n",
    "AgentCore ランタイムをデプロイしたので、そのデプロイ状況を確認し、準備が整うまで待ちましょう："
   ]
  },
  {
   "cell_type": "code",
   "execution_count": 9,
   "id": "afa6ac09-9adb-4846-9fc1-4d12aeb74853",
   "metadata": {},
   "outputs": [
    {
     "name": "stdout",
     "output_type": "stream",
     "text": [
      "Checking AgentCore Runtime status...\n"
     ]
    },
    {
     "name": "stderr",
     "output_type": "stream",
     "text": [
      "Retrieved Bedrock AgentCore status for: mcp_server\n"
     ]
    },
    {
     "name": "stdout",
     "output_type": "stream",
     "text": [
      "Initial status: READY\n",
      "✓ AgentCore Runtime is READY!\n",
      "Final status: READY\n"
     ]
    }
   ],
   "source": [
    "print(\"Checking AgentCore Runtime status...\")\n",
    "status_response = agentcore_runtime.status()\n",
    "status = status_response.endpoint['status']\n",
    "print(f\"Initial status: {status}\")\n",
    "\n",
    "end_status = ['READY', 'CREATE_FAILED', 'DELETE_FAILED', 'UPDATE_FAILED']\n",
    "while status not in end_status:\n",
    "    print(f\"Status: {status} - waiting...\")\n",
    "    time.sleep(10)\n",
    "    status_response = agentcore_runtime.status()\n",
    "    status = status_response.endpoint['status']\n",
    "\n",
    "if status == 'READY':\n",
    "    print(\"✓ AgentCore Runtime is READY!\")\n",
    "else:\n",
    "    print(f\"⚠ AgentCore Runtime status: {status}\")\n",
    "    \n",
    "print(f\"Final status: {status}\")"
   ]
  },
  {
   "cell_type": "markdown",
   "id": "step9_store_credentials",
   "metadata": {},
   "source": [
    "## リモートアクセスのための設定の保存\n",
    "\n",
    "デプロイされた MCP サーバーを呼び出す前に、Agent ARN と Cognito 設定を AWS Systems Manager Parameter Store および AWS Secrets Manager に保存して、簡単に取得できるようにしましょう："
   ]
  },
  {
   "cell_type": "code",
   "execution_count": 10,
   "id": "store_config",
   "metadata": {},
   "outputs": [
    {
     "name": "stdout",
     "output_type": "stream",
     "text": [
      "✓ Cognito credentials updated in Secrets Manager\n",
      "✓ Agent ARN stored in Parameter Store\n",
      "\n",
      "Configuration stored successfully!\n",
      "Agent ARN: arn:aws:bedrock-agentcore:us-east-1:320462930492:runtime/mcp_server-88vFBQ4ff8\n"
     ]
    }
   ],
   "source": [
    "import boto3\n",
    "import json\n",
    "\n",
    "ssm_client = boto3.client('ssm', region_name=region)\n",
    "secrets_client = boto3.client('secretsmanager', region_name=region)\n",
    "\n",
    "try:\n",
    "    cognito_credentials_response = secrets_client.create_secret(\n",
    "        Name='mcp_server/cognito/credentials',\n",
    "        Description='Cognito credentials for MCP server',\n",
    "        SecretString=json.dumps(cognito_config)\n",
    "    )\n",
    "    print(\"✓ Cognito credentials stored in Secrets Manager\")\n",
    "except secrets_client.exceptions.ResourceExistsException:\n",
    "    secrets_client.update_secret(\n",
    "        SecretId='mcp_server/cognito/credentials',\n",
    "        SecretString=json.dumps(cognito_config)\n",
    "    )\n",
    "    print(\"✓ Cognito credentials updated in Secrets Manager\")\n",
    "\n",
    "agent_arn_response = ssm_client.put_parameter(\n",
    "    Name='/mcp_server/runtime/agent_arn',\n",
    "    Value=launch_result.agent_arn,\n",
    "    Type='String',\n",
    "    Description='Agent ARN for MCP server',\n",
    "    Overwrite=True\n",
    ")\n",
    "print(\"✓ Agent ARN stored in Parameter Store\")\n",
    "\n",
    "print(\"\\nConfiguration stored successfully!\")\n",
    "print(f\"Agent ARN: {launch_result.agent_arn}\")"
   ]
  },
  {
   "cell_type": "markdown",
   "id": "step10_remote_client",
   "metadata": {},
   "source": [
    "## リモートテスト用クライアントの作成\n",
    "\n",
    "次に、デプロイした MCP サーバーをテストするためのクライアントを作成しましょう。このクライアントは AWS から必要な認証情報を取得し、デプロイされたサーバーに接続します："
   ]
  },
  {
   "cell_type": "code",
   "execution_count": 1,
   "id": "create_remote_client",
   "metadata": {},
   "outputs": [
    {
     "name": "stdout",
     "output_type": "stream",
     "text": [
      "Writing my_mcp_client_remote.py\n"
     ]
    }
   ],
   "source": [
    "%%writefile my_mcp_client_remote.py\n",
    "import asyncio\n",
    "import boto3\n",
    "import json\n",
    "import sys\n",
    "from boto3.session import Session\n",
    "\n",
    "from mcp import ClientSession\n",
    "from mcp.client.streamable_http import streamablehttp_client\n",
    "\n",
    "async def main():\n",
    "    boto_session = Session()\n",
    "    region = boto_session.region_name\n",
    "    \n",
    "    print(f\"Using AWS region: {region}\")\n",
    "    \n",
    "    try:\n",
    "        ssm_client = boto3.client('ssm', region_name=region)\n",
    "        agent_arn_response = ssm_client.get_parameter(Name='/mcp_server/runtime/agent_arn')\n",
    "        agent_arn = agent_arn_response['Parameter']['Value']\n",
    "        print(f\"Retrieved Agent ARN: {agent_arn}\")\n",
    "\n",
    "        secrets_client = boto3.client('secretsmanager', region_name=region)\n",
    "        response = secrets_client.get_secret_value(SecretId='mcp_server/cognito/credentials')\n",
    "        secret_value = response['SecretString']\n",
    "        parsed_secret = json.loads(secret_value)\n",
    "        bearer_token = parsed_secret['bearer_token']\n",
    "        print(\"✓ Retrieved bearer token from Secrets Manager\")\n",
    "        \n",
    "    except Exception as e:\n",
    "        print(f\"Error retrieving credentials: {e}\")\n",
    "        sys.exit(1)\n",
    "    \n",
    "    if not agent_arn or not bearer_token:\n",
    "        print(\"Error: AGENT_ARN or BEARER_TOKEN not retrieved properly\")\n",
    "        sys.exit(1)\n",
    "    \n",
    "    encoded_arn = agent_arn.replace(':', '%3A').replace('/', '%2F')\n",
    "    mcp_url = f\"https://bedrock-agentcore.{region}.amazonaws.com/runtimes/{encoded_arn}/invocations?qualifier=DEFAULT\"\n",
    "    headers = {\n",
    "        \"authorization\": f\"Bearer {bearer_token}\",\n",
    "        \"Content-Type\": \"application/json\"\n",
    "    }\n",
    "    \n",
    "    print(f\"\\nConnecting to: {mcp_url}\")\n",
    "    print(\"Headers configured ✓\")\n",
    "\n",
    "    try:\n",
    "        async with streamablehttp_client(mcp_url, headers, timeout=120, terminate_on_close=False) as (\n",
    "            read_stream,\n",
    "            write_stream,\n",
    "            _,\n",
    "        ):\n",
    "            async with ClientSession(read_stream, write_stream) as session:\n",
    "                print(\"\\n🔄 Initializing MCP session...\")\n",
    "                await session.initialize()\n",
    "                print(\"✓ MCP session initialized\")\n",
    "                \n",
    "                print(\"\\n🔄 Listing available tools...\")\n",
    "                tool_result = await session.list_tools()\n",
    "                \n",
    "                print(\"\\n📋 Available MCP Tools:\")\n",
    "                print(\"=\" * 50)\n",
    "                for tool in tool_result.tools:\n",
    "                    print(f\"🔧 {tool.name}\")\n",
    "                    print(f\"   Description: {tool.description}\")\n",
    "                    if hasattr(tool, 'inputSchema') and tool.inputSchema:\n",
    "                        properties = tool.inputSchema.get('properties', {})\n",
    "                        if properties:\n",
    "                            print(f\"   Parameters: {list(properties.keys())}\")\n",
    "                    print()\n",
    "                \n",
    "                print(f\"✅ Successfully connected to MCP server!\")\n",
    "                print(f\"Found {len(tool_result.tools)} tools available.\")\n",
    "                \n",
    "    except Exception as e:\n",
    "        print(f\"❌ Error connecting to MCP server: {e}\")\n",
    "        sys.exit(1)\n",
    "\n",
    "if __name__ == \"__main__\":\n",
    "    asyncio.run(main())"
   ]
  },
  {
   "cell_type": "markdown",
   "id": "step11_test_remote",
   "metadata": {},
   "source": [
    "## MCP サーバーのデプロイをテストする\n",
    "\n",
    "リモートクライアントを使用して、デプロイした MCP サーバーをテストしましょう："
   ]
  },
  {
   "cell_type": "code",
   "execution_count": null,
   "id": "test_remote_server",
   "metadata": {},
   "outputs": [],
   "source": [
    "print(\"Testing deployed MCP server...\")\n",
    "print(\"=\" * 50)\n",
    "!python my_mcp_client_remote.py"
   ]
  },
  {
   "cell_type": "markdown",
   "id": "step12_invoke_tools",
   "metadata": {},
   "source": [
    "## MCP ツールをリモートで呼び出す\n",
    "\n",
    "ここでは、ツールを一覧表示するだけでなく、MCP の完全な機能を実証するためにそれらを呼び出す拡張クライアントを作成しましょう："
   ]
  },
  {
   "cell_type": "code",
   "execution_count": null,
   "id": "invoke_mcp_tools",
   "metadata": {},
   "outputs": [],
   "source": [
    "%%writefile invoke_mcp_tools.py\n",
    "import asyncio\n",
    "import boto3\n",
    "import json\n",
    "import sys\n",
    "from boto3.session import Session\n",
    "\n",
    "from mcp import ClientSession\n",
    "from mcp.client.streamable_http import streamablehttp_client\n",
    "\n",
    "async def main():\n",
    "    boto_session = Session()\n",
    "    region = boto_session.region_name\n",
    "    \n",
    "    print(f\"Using AWS region: {region}\")\n",
    "    \n",
    "    try:\n",
    "        ssm_client = boto3.client('ssm', region_name=region)\n",
    "        agent_arn_response = ssm_client.get_parameter(Name='/mcp_server/runtime/agent_arn')\n",
    "        agent_arn = agent_arn_response['Parameter']['Value']\n",
    "        print(f\"Retrieved Agent ARN: {agent_arn}\")\n",
    "\n",
    "        secrets_client = boto3.client('secretsmanager', region_name=region)\n",
    "        response = secrets_client.get_secret_value(SecretId='mcp_server/cognito/credentials')\n",
    "        secret_value = response['SecretString']\n",
    "        parsed_secret = json.loads(secret_value)\n",
    "        bearer_token = parsed_secret['bearer_token']\n",
    "        print(\"✓ Retrieved bearer token from Secrets Manager\")\n",
    "        \n",
    "    except Exception as e:\n",
    "        print(f\"Error retrieving credentials: {e}\")\n",
    "        sys.exit(1)\n",
    "    \n",
    "    encoded_arn = agent_arn.replace(':', '%3A').replace('/', '%2F')\n",
    "    mcp_url = f\"https://bedrock-agentcore.{region}.amazonaws.com/runtimes/{encoded_arn}/invocations?qualifier=DEFAULT\"\n",
    "    headers = {\n",
    "        \"authorization\": f\"Bearer {bearer_token}\",\n",
    "        \"Content-Type\": \"application/json\"\n",
    "    }\n",
    "    \n",
    "    print(f\"\\nConnecting to: {mcp_url}\")\n",
    "\n",
    "    try:\n",
    "        async with streamablehttp_client(mcp_url, headers, timeout=120, terminate_on_close=False) as (\n",
    "            read_stream,\n",
    "            write_stream,\n",
    "            _,\n",
    "        ):\n",
    "            async with ClientSession(read_stream, write_stream) as session:\n",
    "                print(\"\\n🔄 Initializing MCP session...\")\n",
    "                await session.initialize()\n",
    "                print(\"✓ MCP session initialized\")\n",
    "                \n",
    "                print(\"\\n🔄 Listing available tools...\")\n",
    "                tool_result = await session.list_tools()\n",
    "                \n",
    "                print(\"\\n📋 Available MCP Tools:\")\n",
    "                print(\"=\" * 50)\n",
    "                for tool in tool_result.tools:\n",
    "                    print(f\"🔧 {tool.name}: {tool.description}\")\n",
    "                \n",
    "                print(\"\\n🧪 Testing MCP Tools:\")\n",
    "                print(\"=\" * 50)\n",
    "                \n",
    "                try:\n",
    "                    print(\"\\n➕ Testing add_numbers(5, 3)...\")\n",
    "                    add_result = await session.call_tool(\n",
    "                        name=\"add_numbers\",\n",
    "                        arguments={\"a\": 5, \"b\": 3}\n",
    "                    )\n",
    "                    print(f\"   Result: {add_result.content[0].text}\")\n",
    "                except Exception as e:\n",
    "                    print(f\"   Error: {e}\")\n",
    "                \n",
    "                try:\n",
    "                    print(\"\\n✖️  Testing multiply_numbers(4, 7)...\")\n",
    "                    multiply_result = await session.call_tool(\n",
    "                        name=\"multiply_numbers\",\n",
    "                        arguments={\"a\": 4, \"b\": 7}\n",
    "                    )\n",
    "                    print(f\"   Result: {multiply_result.content[0].text}\")\n",
    "                except Exception as e:\n",
    "                    print(f\"   Error: {e}\")\n",
    "                \n",
    "                try:\n",
    "                    print(\"\\n👋 Testing greet_user('Alice')...\")\n",
    "                    greet_result = await session.call_tool(\n",
    "                        name=\"greet_user\",\n",
    "                        arguments={\"name\": \"Alice\"}\n",
    "                    )\n",
    "                    print(f\"   Result: {greet_result.content[0].text}\")\n",
    "                except Exception as e:\n",
    "                    print(f\"   Error: {e}\")\n",
    "                \n",
    "                print(\"\\n✅ MCP tool testing completed!\")\n",
    "                \n",
    "    except Exception as e:\n",
    "        print(f\"❌ Error connecting to MCP server: {e}\")\n",
    "        sys.exit(1)\n",
    "\n",
    "if __name__ == \"__main__\":\n",
    "    asyncio.run(main())"
   ]
  },
  {
   "cell_type": "markdown",
   "id": "test_tool_invocation",
   "metadata": {},
   "source": [
    "## テスト ツールの呼び出し\n",
    "\n",
    "MCP ツールを実際に呼び出して、テストしてみましょう："
   ]
  },
  {
   "cell_type": "code",
   "execution_count": null,
   "id": "run_tool_tests",
   "metadata": {},
   "outputs": [],
   "source": [
    "print(\"Testing MCP tool invocation...\")\n",
    "print(\"=\" * 50)\n",
    "!python invoke_mcp_tools.py"
   ]
  },
  {
   "cell_type": "markdown",
   "id": "next_steps",
   "metadata": {},
   "source": [
    "## 次のステップ\n",
    "\n",
    "AgentCore Runtime に MCP サーバーを正常にデプロイしたので、次のことができます：\n",
    "\n",
    "1. **ツールの追加**: MCP サーバーに追加のツールを拡張する\n",
    "2. **カスタム認証**: カスタム JWT 認証機能を実装する\n",
    "3. **統合**: 他の AgentCore サービスと統合する"
   ]
  },
  {
   "cell_type": "markdown",
   "id": "cleanup_section",
   "metadata": {},
   "source": [
    "## クリーンアップ（任意）\n",
    "\n",
    "このチュートリアルで作成したリソースをクリーンアップしたい場合は、以下のセルを実行してください："
   ]
  },
  {
   "cell_type": "code",
   "execution_count": null,
   "id": "cleanup_resources",
   "metadata": {},
   "outputs": [],
   "source": [
    "import boto3\n",
    "\n",
    "print(\"🗑️  Starting cleanup process...\")\n",
    "\n",
    "agentcore_control_client = boto3.client('bedrock-agentcore-control', region_name=region)\n",
    "ecr_client = boto3.client('ecr', region_name=region)\n",
    "iam_client = boto3.client('iam')\n",
    "ssm_client = boto3.client('ssm', region_name=region)\n",
    "secrets_client = boto3.client('secretsmanager', region_name=region)\n",
    "\n",
    "try:\n",
    "    print(\"Deleting AgentCore Runtime...\")\n",
    "    runtime_delete_response = agentcore_control_client.delete_agent_runtime(\n",
    "        agentRuntimeId=launch_result.agent_id,\n",
    "    )\n",
    "    print(\"✓ AgentCore Runtime deletion initiated\")\n",
    "\n",
    "    print(\"Deleting ECR repository...\")\n",
    "    ecr_repo_name = launch_result.ecr_uri.split('/')[1]\n",
    "    ecr_client.delete_repository(\n",
    "        repositoryName=ecr_repo_name,\n",
    "        force=True\n",
    "    )\n",
    "    print(\"✓ ECR repository deleted\")\n",
    "\n",
    "    print(\"Deleting IAM role policies...\")\n",
    "    policies = iam_client.list_role_policies(\n",
    "        RoleName=agentcore_iam_role['Role']['RoleName'],\n",
    "        MaxItems=100\n",
    "    )\n",
    "\n",
    "    for policy_name in policies['PolicyNames']:\n",
    "        iam_client.delete_role_policy(\n",
    "            RoleName=agentcore_iam_role['Role']['RoleName'],\n",
    "            PolicyName=policy_name\n",
    "        )\n",
    "    \n",
    "    iam_client.delete_role(\n",
    "        RoleName=agentcore_iam_role['Role']['RoleName']\n",
    "    )\n",
    "    print(\"✓ IAM role deleted\")\n",
    "\n",
    "    try:\n",
    "        ssm_client.delete_parameter(Name='/mcp_server/runtime/agent_arn')\n",
    "        print(\"✓ Parameter Store parameter deleted\")\n",
    "    except ssm_client.exceptions.ParameterNotFound:\n",
    "        print(\"ℹ️  Parameter Store parameter not found\")\n",
    "\n",
    "    try:\n",
    "        secrets_client.delete_secret(\n",
    "            SecretId='mcp_server/cognito/credentials',\n",
    "            ForceDeleteWithoutRecovery=True\n",
    "        )\n",
    "        print(\"✓ Secrets Manager secret deleted\")\n",
    "    except secrets_client.exceptions.ResourceNotFoundException:\n",
    "        print(\"ℹ️  Secrets Manager secret not found\")\n",
    "\n",
    "    print(\"\\n✅ Cleanup completed successfully!\")\n",
    "    \n",
    "except Exception as e:\n",
    "    print(f\"❌ Error during cleanup: {e}\")\n",
    "    print(\"You may need to manually clean up some resources.\")"
   ]
  },
  {
   "cell_type": "markdown",
   "id": "congratulations",
   "metadata": {},
   "source": [
    "# 🎉 おめでとうございます！\n",
    "\n",
    "以下のことに成功しました：\n",
    "\n",
    "✅ カスタムツールを備えた **MCP サーバーの作成**  \n",
    "✅ MCP クライアントを使用した **ローカルでのテスト**  \n",
    "✅ Amazon Cognito による **認証の設定**  \n",
    "✅ AgentCore Runtime を使用した **AWS へのデプロイ**  \n",
    "✅ 適切な認証による **リモートからの呼び出し**  \n",
    "✅ **MCP の概念** とベストプラクティスの学習  \n",
    "\n",
    "あなたの MCP サーバーは現在 Amazon Bedrock AgentCore Runtime 上で実行されており、本番環境での使用準備が整いました！\n",
    "\n",
    "## 概要\n",
    "\n",
    "このチュートリアルでは、以下の方法を学びました：\n",
    "- FastMCP を使用した MCP サーバーの構築\n",
    "- AgentCore との互換性のためのステートレス HTTP トランスポートの設定\n",
    "- Amazon Cognito による JWT 認証の設定\n",
    "- AWS 上での MCP サーバーのデプロイと管理\n",
    "- ローカルとリモートの両方でのテスト\n",
    "- ツール呼び出しのための MCP クライアントの使用\n",
    "\n",
    "デプロイされた MCP サーバーは、より大規模な AI アプリケーションやワークフローに統合できるようになりました！"
   ]
  }
 ],
 "metadata": {
  "kernelspec": {
   "display_name": ".venv",
   "language": "python",
   "name": "python3"
  },
  "language_info": {
   "codemirror_mode": {
    "name": "ipython",
    "version": 3
   },
   "file_extension": ".py",
   "mimetype": "text/x-python",
   "name": "python",
   "nbconvert_exporter": "python",
   "pygments_lexer": "ipython3",
   "version": "3.10.18"
  }
 },
 "nbformat": 4,
 "nbformat_minor": 5
}
