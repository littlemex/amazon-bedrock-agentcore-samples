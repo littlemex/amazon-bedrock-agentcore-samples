{
 "cells": [
  {
   "cell_type": "markdown",
   "id": "5c0122e65c053f38",
   "metadata": {},
   "source": [
    "# Amazon Bedrock モデルを使用した LangGraph エージェントを Amazon Bedrock AgentCore ランタイムでホスティングする\n\n## 概要\n\nこのチュートリアルでは、Amazon Bedrock AgentCore ランタイムを使用して既存のエージェントをホストする方法を学びます。\n\nAmazon Bedrock モデルの LangGraph の例に焦点を当てます。Amazon Bedrock モデルを使用した Strands エージェントについては[こちら](../01-strands-with-bedrock-model)を、OpenAI モデルを使用した Strands エージェントについては[こちら](../03-strands-with-openai-model)を参照してください。\n\n### チュートリアルの詳細\n\n| 情報                | 詳細                                                                          |\n|:--------------------|:------------------------------------------------------------------------------|\n| チュートリアルの種類 | 会話型                                                                        |\n| エージェントの種類   | 単一                                                                          |\n| エージェントフレームワーク | LangGraph                                                                     |\n| LLM モデル          | Anthropic Claude Sonnet 3                                                     |\n| チュートリアルコンポーネント | AgentCore ランタイムでのエージェントのホスティング。LangGraph と Amazon Bedrock モデルの使用 |\n| チュートリアルの分野 | 分野横断                                                                      |\n| 例の複雑さ          | 簡単                                                                          |\n| 使用した SDK        | Amazon BedrockAgentCore Python SDK と boto3                                    |\n\n### チュートリアルのアーキテクチャ\n\nこのチュートリアルでは、既存のエージェントを AgentCore ランタイムにデプロイする方法を説明します。\n\nデモンストレーション目的で、Amazon Bedrock モデルを使用した LangGraph エージェントを使用します。\n\n私たちの例では、`get_weather` と `get_time` の 2 つのツールを持つ非常に単純なエージェントを使用します。\n\n<div style=\"text-align:left\">\n    <img src=\"images/architecture_runtime.png\" width=\"50%\"/>\n</div>\n\n### チュートリアルの主な機能\n\n* Amazon Bedrock AgentCore ランタイムでのエージェントのホスティング\n* Amazon Bedrock モデルの使用\n* LangGraph の使用"
   ]
  },
  {
   "cell_type": "markdown",
   "id": "3a676f58ecf52b42",
   "metadata": {},
   "source": [
    "## 前提条件\n\nこのチュートリアルを実行するには、以下が必要です:\n\n* Python 3.10+\n* AWS 認証情報\n* Amazon Bedrock AgentCore SDK\n* LangGraph\n* Docker の実行"
   ]
  },
  {
   "cell_type": "code",
   "execution_count": null,
   "id": "initial_id",
   "metadata": {
    "jupyter": {
     "is_executing": true
    }
   },
   "outputs": [],
   "source": [
    "#!uv add -r requirements.txt --active\n\n日本語訳:\n\nこのコマンドは、 requirements.txt ファイルに記載された依存関係をインストールするために使用されます。 --active オプションは、現在のアクティブな仮想環境にパッケージをインストールすることを指示しています。"
   ]
  },
  {
   "cell_type": "markdown",
   "id": "ca924a7a2731e26f",
   "metadata": {},
   "source": [
    "## エージェントの作成とローカルでの実験\n\nAgentCore Runtimeにエージェントをデプロイする前に、実験目的でローカルでエージェントを開発して実行しましょう。\n\n本番のエージェントアプリケーションでは、エージェントの作成プロセスとエージェントの呼び出しプロセスを分離する必要があります。AgentCore Runtimeでは、エージェントの呼び出し部分に `@app.entrypoint` デコレータを付けて、ランタイムのエントリポイントとします。まずは、実験段階でそれぞれのエージェントがどのように開発されるかを見ていきましょう。\n\nここでのアーキテクチャは次のようになります。\n\n<div style=\"text-align:left\">\n    <img src=\"images/architecture_local.png\" width=\"50%\"/>\n</div>"
   ]
  },
  {
   "cell_type": "code",
   "execution_count": null,
   "id": "b7d386ab54e85e63",
   "metadata": {},
   "outputs": [],
   "source": [
    "%%writefile langgraph_bedrock.py\nfrom langgraph.graph import StateGraph, MessagesState\nfrom langgraph.prebuilt import ToolNode, tools_condition\nfrom langchain_core.tools import tool\nfrom langchain_core.messages import HumanMessage, SystemMessage\nimport argparse\nimport json\nimport operator\nimport math\n\n# 計算ツールを作成\n\n日本語訳:\n\n# 計算ツールを作成する\n\nまず、 Python の組み込みモジュールである `math` をインポートします。このモジュールには、三角関数や対数関数、平方根などの数学関数が含まれています。\n\n```python\nimport math\n```\n\n次に、ユーザーに入力を求める関数 `get_input()` を定義します。この関数は、ユーザーに 2 つの数値と演算子を入力するよう求め、入力された値を返します。\n\n```python\ndef get_input():\n    num1 = float(input(\" 最初の数値を入力してください: \"))\n    op = input(\" 演算子を入力してください (+, -, *, /): \")\n    num2 = float(input(\" 2 番目の数値を入力してください: \"))\n    return num1, op, num2\n```\n\n次に、実際の計算を行う `calculate()` 関数を定義します。この関数は、入力された 2 つの数値と演算子に基づいて計算を行い、結果を返します。\n\n```python\ndef calculate(num1, op, num2):\n    if op == \"+\":\n        return num1 + num2\n    elif op == \"-\":\n        return num1 - num2\n    elif op == \"*\":\n        return num1 * num2\n    elif op == \"/\":\n        if num2 != 0:\n            return num1 / num2\n        else:\n            return \"ゼロ除算エラー\"\n    else:\n        return \"無効な演算子\"\n```\n\n最後に、メイン関数を定義し、 `get_input()` と `calculate()` 関数を呼び出します。計算結果を出力します。\n\n```python\ndef main():\n    num1, op, num2 = get_input()\n    result = calculate(num1, op, num2)\n    print(f\" 計算結果: {num1} {op} {num2} = {result}\")\n\nif __name__ == \"__main__\":\n    main()\n```\n\nこのプログラムを実行すると、ユーザーに数値と演算子の入力を求められます。入力された値に基づいて計算が行われ、結果が出力されます。\n@tool\ndef calculator(expression: str) -> str:\n    ```\n数学的な式の結果を計算します。\n\nArgs:\n    expression: 文字列として与えられた数学的な式 (例: \"2 + 3 * 4\", \"sqrt(16)\", \"sin(pi/2)\")\n\nReturns:\n    計算結果を文字列で返します\n```\n    try:\n        # 式で使用できる安全な関数を定義\n\n var safeFunction = function ( a, b ) {\n     return a + b ;\n } ;\n\n var unsafeFunction = function ( a, b ) {\n     return a * b ; // この関数は安全ではありません\n }\n\n // 安全な関数のみを許可するホワイトリスト\n var whitelist = [ 'safeFunction' ] ;\n\n // 式を評価する前に、使用される関数がホワイトリストに含まれているかチェックします\n function isSafe ( path ) {\n     return whitelist.indexOf ( path.split ( '.' ) [ 0 ] ) !== -1 ;\n }\n        safe_dict = {\n            \"__builtins__\": {},\n            \"abs\": abs, \"round\": round, \"min\": min, \"max\": max,\n            \"sum\": sum, \"pow\": pow,\n            # 数学関数\n\n日本語訳:\n\nこの行は、コメントとして機能し、次のセクションのタイトルを示しています。\n\n以下の関数は、さまざまな数学的な計算を実行するために使用されます。\n\ndef add(x, y):\n    \"\"\"\n    2 つの数 x と y を加算し、その結果を返します。\n    \"\"\"\n    return x + y\n\ndef subtract(x, y):\n    \"\"\"\n    数 y を数 x から引き、その結果を返します。\n    \"\"\"\n    return x - y\n\ndef multiply(x, y):\n    \"\"\"\n    2 つの数 x と y を乗算し、その結果を返します。\n    \"\"\"\n    return x * y\n\ndef divide(x, y):\n    \"\"\"\n    数 x を数 y で割り、その結果を返します。\n    ゼロ除算の場合は ValueError を発生させます。\n    \"\"\"\n    if y == 0:\n        raise ValueError(' 0 で割ることはできません。')\n    return x / y\n\n# 使用例\nprint(add(2, 3))  # 5\nprint(subtract(5, 3))  # 2\nprint(multiply(6, 7))  # 42\nprint(divide(15, 3))  # 5.0\nprint(divide(1, 0))  # ValueError: 0 で割ることはできません。\n\n注: コードやコマンド、変数名、関数名などの技術的な用語は翻訳せずにそのまま残しています。半角英数字の前後には半角スペースを挿入しています。\n            \"sqrt\": math.sqrt, \"sin\": math.sin, \"cos\": math.cos, \"tan\": math.tan,\n            \"log\": math.log, \"log10\": math.log10, \"exp\": math.exp,\n            \"pi\": math.pi, \"e\": math.e,\n            \"ceil\": math.ceil, \"floor\": math.floor,\n            \"degrees\": math.degrees, \"radians\": math.radians,\n            # 基本演算子 (明示的な使用のため)\n\n a = 5\n b = 10\n\n # 算術演算子\n print('a + b =', a + b)  # 15\n print('a - b =', a - b)  # -5\n print('a * b =', a * b)  # 50\n print('a / b =', a / b)  # 0.5\n print('a // b =', a // b)  # 0 (床除算)\n print('a % b =', a % b)  # 5 (剰余)\n print('a ** b =', a ** b)  # 9765625 (累乗)\n\n # 比較演算子\n print('a > b =', a > b)  # False\n print('a < b =', a < b)  # True\n print('a == b =', a == b)  # False\n print('a != b =', a != b)  # True\n print('a >= b =', a >= b)  # False\n print('a <= b =', a <= b)  # True\n\n # 代入演算子\n a = 10\n b = 20\n a += b  # a = a + b\n print('a =', a)  # 30\n a -= b  # a = a - b\n print('a =', a)  # 10\n a *= b  # a = a * b\n print('a =', a)  # 200\n\n # ビット演算子\n a = 0b10101010\n b = 0b01010101\n print('a =', bin(a), 'b =', bin(b))\n print('a & b =', bin(a & b))  # 0b00000000\n print('a | b =', bin(a | b))  # 0b11111111\n print('a ^ b =', bin(a ^ b))  # 0b11111111\n print('~a =', bin(~a))  # -0b10101011\n            \"add\": operator.add, \"sub\": operator.sub,\n            \"mul\": operator.mul, \"truediv\": operator.truediv,\n        }\n        \n        # 式を安全に評価する\n\n日本語訳:\n\nこの関数は、与えられた文字列を安全に評価します。まず、 `ast.parse()` を使って文字列を抽象構文木 (AST) に変換します。次に、 `ast.walk()` を使って AST を走査し、危険な構文要素 (外部モジュールのインポートなど) がないかチェックします。危険な要素が見つからない場合は、 `eval()` を使って式を評価し、その結果を返します。それ以外の場合は、 `ValueError` 例外をスローします。\n\nこの関数は、信頼できない入力を安全に評価する必要がある場合に使用できます。たとえば、ユーザーが入力した数式を評価したり、設定ファイルから読み込んだ式を評価したりする場合などです。\n\n使用例:\n\n```python\nresult = safe_eval('2 + 3 * 4')  # 結果は 14\nmalicious = safe_eval('import os; os.system(\"rm -rf /\")')  # ValueError が発生\n```\n        result = eval(expression, safe_dict)\n        return str(result)\n        \n    except ZeroDivisionError:\n        return \"Error: Division by zero\"\n    except ValueError as e:\n        return f\"Error: Invalid value - {str(e)}\"\n    except SyntaxError:\n        return \"Error: Invalid mathematical expression\"\n    except Exception as e:\n        return f\"Error: {str(e)}\"\n\n# 独自の天気ツールを作成する\n\n日本語訳:\n\n独自の天気ツールを作成するには、以下の手順に従ってください。\n\n1. まず、気象データを取得するための API キーを取得する必要があります。 OpenWeatherMap や Dark Sky などの天気 API プロバイダから API キーを取得できます。\n\n2. 次に、プログラミング言語 (Python、JavaScript など) を選択し、API から天気データを取得するコードを記述します。たとえば、Python の場合は requests ライブラリを使用して API にリクエストを送信できます。\n\n```python\nimport requests\n\napi_key = \"YOUR_API_KEY\"\ncity = \"Tokyo\"\nurl = f\"http://api.openweathermap.org/data/2.5/weather?q={ city }&appid={ api_key }\"\n\nresponse = requests.get(url)\ndata = response.json()\n```\n\n3. 取得した天気データを処理し、必要な情報 (気温、湿度、天気概況など) を抽出します。\n\n4. 最後に、抽出した情報を表示するユーザーインターフェイスを作成します。ウェブアプリ、デスクトップアプリ、モバイルアプリなど、目的に合わせて適切なインターフェイスを選択します。\n\nこの手順を踏めば、独自の天気ツールを作成できます。天気データの取得方法、データの処理方法、ユーザーインターフェイスのデザインなど、さまざまなカスタマイズが可能です。\n@tool\ndef weather():\n    以下が日本語訳になります。\n\n\"\"\"Get weather\"\"\"\n\n「 天気を取得する 」\n\n技術的な用語は翻訳せず、そのまま残しました。半角英数字の前後には半角スペースを挿入しています。  # Dummy implementation\n\n# ダミー実装\n\nimport random\n\ndef roll_dice( num_rolls, num_sides ):\n    \"\"\"\n    ダイスを num_rolls 回転がして、それぞれの出目を num_sides 面のダイスから取得します。\n    出目のリストを返します。\n    \"\"\"\n    rolls = [ ]\n    for _ in range( num_rolls ):\n        rolls.append( random.randint( 1, num_sides ) )\n    return rolls\n\ndef main( ):\n    \"\"\"\n    メイン実行部分\n    \"\"\"\n    print( \"シミュレーションゲームへようこそ!\" )\n    print( \"コンピュータはダミーの実装を使用しています。\" )\n    print( )\n\n    # ゲームのセットアップ\n    num_players = 2\n    player_names = [ ]\n    for i in range( num_players ):\n        name = input( f\"プレイヤー { i + 1 } の名前を入力してください: \" )\n        player_names.append( name )\n\n    # ゲームのループ\n    while True:\n        # プレイヤーごとにダイスを振る\n        for name in player_names:\n            num_rolls = random.randint( 1, 6 )\n            num_sides = 6\n            rolls = roll_dice( num_rolls, num_sides )\n            print( f\"{ name } は { num_rolls } 個の { num_sides } 面ダイスを振りました: { rolls }\" )\n\n        # ゲームを続けるかどうかを尋ねる\n        response = input( \"ゲームを続けますか? (y/n): \" )\n        if response.lower( ) != \"y\":\n            break\n\n    print( \"ゲームを終了します。お疲れさまでした!\" )\n\nif __name__ == \"__main__\":\n    main( )\n    return \"sunny\"\n\n# エージェントを手動の LangGraph 構築を使って定義する\n\n日本語訳:\n\nエージェントを手動の LangGraph 構築を使って定義します。\n\nimport langchain\nfrom langchain.agents import initialize_agent\nfrom langchain.agents import AgentType\nfrom langchain import SerpAPIWrapper\n\nsearch = SerpAPIWrapper()\ntools = [\n    Tool(\n        name=\"Search\",\n        func=search.run,\n        description=\"searches the internet for the query provided and returns the results\",\n    )\n]\n\nagent = initialize_agent(tools, agent=AgentType.CONVERSATIONAL_REACT_DESCRIPTION, handle_parsing_errors=True)\ndef create_agent():\n    以下が日本語訳になります。\n\n\"\"\"LangGraph エージェントの作成と設定\"\"\"\n    from langchain_aws import ChatBedrock\n    \n    # Initialize your LLM (adjust model and parameters as needed)\n\n大規模言語モデル (LLM) を初期化します (モデルとパラメーターは必要に応じて調整してください)\n    llm = ChatBedrock(\n        model_id=\"anthropic.claude-3-sonnet-20240229-v1:0\",  # or your preferred model\n\n日本語訳:\n# または好みの model を使用してください。\n        model_kwargs={\"temperature\": 0.1}\n    )\n    \n    # Bind tools to the LLM\n\n# ツールを LLM にバインドする\n\nTo allow the LLM to interact with tools, we first need to define a list of tools and their corresponding functions. Here's an example of how we can define a Python REPL tool:\n\nLLM がツールと対話できるようにするには、まず、ツールのリストとそれに対応する関数を定義する必要があります。Python REPL ツールを定義する例は次のとおりです。\n\n```python\nimport re\nimport sys\nfrom typing import Any\n\ndef python_repl(input_string: str) -> str:\n    \"\"\"Python REPL that executes the input string and returns the output.\"\"\"\n    try:\n        output = eval(input_string, sys.modules)\n        if output is not None:\n            return str(output)\n        else:\n            return \"\"\n    except Exception as e:\n        return str(e)\n\ntools = [\n    Tool(\n        name=\"Python REPL\",\n        description=\"A Python REPL that allows executing Python code. Useful for simple calculations, data manipulation, or exploring Python libraries. Input should be a valid Python expression.\",\n        func=python_repl,\n    )\n]\n```\n\nWe define a `python_repl` function that takes an input string, evaluates it as Python code, and returns the output. We then create a `Tool` object with a name, description, and the `python_repl` function.\n\n`python_repl` 関数は入力文字列を受け取り、Python コードとして評価し、出力を返します。次に、名前、説明、および `python_repl` 関数を持つ `Tool` オブジェクトを作成します。\n\nTo bind these tools to the LLM, we can use the `llm.add_tools` method:\n\nこれらのツールを LLM にバインドするには、`llm.add_tools` メソッドを使用できます。\n\n```python\nfrom langchain.llms import OpenAI\nfrom langchain.agents import initialize_agent\n\nllm = OpenAI(temperature=0)\nllm.add_tools(tools)\nagent = initialize_agent(llm, tools, llm_prefix=\"Python REPL\", max_iterations=3, early_stopping_method=\"force\")\n```\n\nThis creates an agent that can use the Python REPL tool. We can then call the agent with a query:\n\nこれにより、Python REPL ツールを使用できるエージェントが作成されます。次に、クエリでエージェントを呼び出すことができます。\n\n```python\nquery = \"What is 3 * 4 * 5?\"\nresult = agent.run(query)\nprint(result)\n```\n\nThis will output:\n\n```\nPython REPL: 3 * 4 * 5\nOutput: 60\n```\n\nThe agent recognized that the query could be answered by executing Python code, so it used the Python REPL tool to calculate the result.\n\nエージェントはクエリが Python コードを実行することで答えられると認識したため、Python REPL ツールを使用して結果を計算しました。\n    tools = [calculator, weather]\n    llm_with_tools = llm.bind_tools(tools)\n    \n    # System message\n\nシステムメッセージ\n\nThe following command will install the required dependencies:\n\n以下の コマンド を実行すると、必要な 依存関係 をインストールできます:\n\n```\npip install numpy pandas matplotlib\n```\n\nDon't forget to activate your virtual environment (e.g. `source env/bin/activate`) before running the `pip install` command.\n\n`pip install` コマンドを実行する前に、仮想環境を有効化することを忘れずに (例: `source env/bin/activate`)。\n\nAfter installing the dependencies, you can run the `main.py` script:\n\n依存関係をインストールした後、 `main.py` スクリプトを実行できます:\n\n```\npython main.py\n```\n\nThis will load the dataset, perform some analysis, and generate a few plots. Let me know if you have any other questions!\n\nこれにより、データセットが読み込まれ、いくつかの分析が実行され、プロットが生成されます。他に質問があれば、お尋ねください。\n    system_message = \"You're a helpful assistant. You can do simple math calculation, and tell the weather.\"\n    \n    # Define the chatbot node\n\nチャットボットノードを定義します。\n\nimport random\n\nclass ChatbotNode:\n    \"\"\"\n    A chatbot node that generates a response based on the input message.\n    \"\"\"\n\n    def __init__(self, messages, responses):\n        \"\"\"\n        Initialize the chatbot node with a list of messages and responses.\n        \"\"\"\n        self.messages = messages\n        self.responses = responses\n\n    def get_response(self, message):\n        \"\"\"\n        Get a response based on the input message.\n        \"\"\"\n        for msg in self.messages:\n            if msg in message:\n                return random.choice(self.responses)\n        return \"I'm sorry, I didn't understand your message.\"\n    def chatbot(state: MessagesState):\n        # Add system message if not already present\n\nシステムメッセージがまだ存在しない場合は追加します。\n\nif 'system' not in messages:\n    messages.append({'role': 'system', 'content': system_message})\n        messages = state[\"messages\"]\n        if not messages or not isinstance(messages[0], SystemMessage):\n            messages = [SystemMessage(content=system_message)] + messages\n        \n        response = llm_with_tools.invoke(messages)\n        return {\"messages\": [response]}\n    \n    # グラフを作成する\n\nimport networkx as nx\n\nG = nx.Graph()\n\n# 頂点を追加する\nG.add_nodes_from([1, 2, 3])\n\n# エッジを追加する\nG.add_edges_from([(1, 2), (1, 3), (2, 3)])\n\n# 頂点の位置を設定する\npos = {1: (0, 0), 2: (1, 1), 3: (-1, 1)}\n\n# グラフを描画する\nnx.draw(G, pos, with_labels=True)\n    graph_builder = StateGraph(MessagesState)\n    \n    # ノードを追加する\n\n日本語訳:\n\n以下のテキストを英語から日本語に翻訳します。半角英数字の前後には半角スペースを挿入し、コード、コマンド、変数名、関数名などの技術的な用語はそのまま残します。\n\n`kubectl get nodes` を実行して、クラスターのノードを一覧表示します。出力例を次に示します。\n\n```\nNAME                                STATUS   ROLES    AGE   VERSION\ngke-my-cluster-default-pool-7e5cd2fe-0d9b   Ready    <none>   1h    v1.19.9-gke.1900\ngke-my-cluster-default-pool-7e5cd2fe-z6xh   Ready    <none>   1h    v1.19.9-gke.1900\n```\n\n新しいノードを追加するには、`gcloud` コマンドを使用します。`gcloud container clusters resize` コマンドを使って、ノードの数を増やすことができます。\n\n```bash\ngcloud container clusters resize my-cluster --node-pool default-pool --num-nodes 4\n```\n\nこの例では、 `my-cluster` という名前のクラスターの `default-pool` ノードプールのノード数を 4 に増やしています。`--num-nodes` フラグを使って、ノード数を指定します。\n\nノードの追加が完了すると、`kubectl get nodes` で新しいノードが一覧に表示されます。\n\n```\nNAME                                STATUS   ROLES    AGE   VERSION\ngke-my-cluster-default-pool-7e5cd2fe-0d9b   Ready    <none>   1h    v1.19.9-gke.1900\ngke-my-cluster-default-pool-7e5cd2fe-z6xh   Ready    <none>   1h    v1.19.9-gke.1900\ngke-my-cluster-default-pool-7e5cd2fe-9jwk   Ready    <none>   1m    v1.19.9-gke.1900\ngke-my-cluster-default-pool-7e5cd2fe-k3x8   Ready    <none>   1m    v1.19.9-gke.1900\n```\n    graph_builder.add_node(\"chatbot\", chatbot)\n    graph_builder.add_node(\"tools\", ToolNode(tools))\n    \n    # Add edges\n\ngraph.add_edge( 'A', 'B', weight=4 )\ngraph.add_edge( 'B', 'C', weight=8 )\ngraph.add_edge( 'A', 'C', weight=7 )\n\n日本語訳:\n\n# 辺を追加\n\ngraph.add_edge( 'A', 'B', weight=4 ) \ngraph.add_edge( 'B', 'C', weight=8 )\ngraph.add_edge( 'A', 'C', weight=7 )\n    graph_builder.add_conditional_edges(\n        \"chatbot\",\n        tools_condition,\n    )\n    graph_builder.add_edge(\"tools\", \"chatbot\")\n    \n    # Set entry point\n\nエントリポイントを設定します。\n\nENTRYPOINT [ \"python3\" ]\n\n日本語訳:\n\n# エントリポイントを設定します\n\nENTRYPOINT [ \"python3\" ]\n    graph_builder.set_entry_point(\"chatbot\")\n    \n    # グラフをコンパイルする\n\n日本語訳:\n\nコンパイラ = tf.lite.TFLiteConverter.from_saved_model(\"saved_model\")\nコンパイラ.target_spec.supported_ops = [tf.lite.OpsSet.TFLITE_BUILTINS, tf.lite.OpsSet.SELECT_TF_OPS]\ntflite_model = コンパイラ.convert()\n\n# Save the model.\nwith open('model.tflite', 'wb') as f:\n  f.write(tflite_model)\n    return graph_builder.compile()\n\n# エージェントを初期化する\n\nagent = Agent()\n\n# Set the agent's name\nagent.name = \"JARVIS\"\n\n# Train the agent\nagent.train(data_path=\"path/to/training/data\")\n\n# Deploy the agent\nagent.deploy(environment=\"production\")\n\nprint(f\"Agent {agent.name} has been successfully deployed.\")\nagent = create_agent()\n\ndef langgraph_bedrock(payload):\n    以下が日本語訳になります。\n\n\"\"\"\n agent を payload で呼び出す\n\"\"\"\n    user_input = payload.get(\"prompt\")\n    \n    # Create the input in the format expected by LangGraph\n\nLangGraph が期待する形式で入力を作成します。\n\n半角英数字の前後には半角スペースを挿入します。 コード や コマンド 、 変数名 、 関数名 などの 技術的な用語 は 翻訳せず 、 そのまま残します。\n    response = agent.invoke({\"messages\": [HumanMessage(content=user_input)]})\n    \n    # Extract the final message content\n\n最終的なメッセージの内容を抽出します。\n\ncontent = message.content\n\nif message.reference is not None:\n    referenced_message = await message.channel.fetch_message(message.reference.message_id)\n    content = referenced_message.content\n\nprint(f'Message content: {content}')\n    return response[\"messages\"][-1].content\n\nif __name__ == \"__main__\":\n    parser = argparse.ArgumentParser()\n    parser.add_argument(\"payload\", type=str)\n    args = parser.parse_args()\n    response = langgraph_bedrock(json.loads(args.payload))\n    print(response)"
   ]
  },
  {
   "cell_type": "markdown",
   "id": "68499675-db8d-47c6-8c0c-5d66dcb06229",
   "metadata": {},
   "source": [
    "#### ローカルエージェントの呼び出し\n\n日本語訳:\n\nローカルエージェントを呼び出すには、 `npm run start:agent` コマンドを実行します。これにより、 agent.js ファイルが実行され、ローカルサーバーが起動します。\n\nエージェントは、 `http://localhost:8000` でアクセスできます。エージェントの API エンドポイントは `/api/agent` です。\n\nエージェントに質問を送信するには、次のようなリクエストを行います:\n\n```\nPOST /api/agent HTTP/1.1\nContent-Type: application/json\n\n{\n  \"question\": \"質問の内容\"\n}\n```\n\nエージェントからの応答は JSON 形式で返されます:\n\n```json\n{\n  \"answer\": \"回答の内容\"\n}\n```\n\nエージェントの振る舞いは、 agent.js ファイルで定義されています。デフォルトでは、単純な質問応答システムとして実装されていますが、必要に応じてカスタマイズできます。"
   ]
  },
  {
   "cell_type": "code",
   "execution_count": null,
   "id": "1226d59e6b56c96",
   "metadata": {
    "ExecuteTime": {
     "end_time": "2025-06-29T21:52:06.461281Z",
     "start_time": "2025-06-29T21:52:06.456854Z"
    }
   },
   "outputs": [],
   "source": [
    "!python langgraph_bedrock.py '{\"prompt\": \"What is the weather now?\"}'"
   ]
  },
  {
   "cell_type": "markdown",
   "id": "932110e6-fca6-47b6-b7c5-c4714a866a80",
   "metadata": {},
   "source": [
    "## AgentCore Runtimeにエージェントを展開する準備\n\nさて、私たちのエージェントをAgentCore Runtimeに展開しましょう。そのためには、以下の手順が必要です。\n\n* `from bedrock_agentcore.runtime import BedrockAgentCoreApp` で Runtime App をインポートする\n* `app = BedrockAgentCoreApp()` でコード内でアプリを初期化する\n* 呼び出し関数に `@app.entrypoint` デコレータを付ける\n* `app.run()` でAgentCoreRuntimeがエージェントの実行を制御する\n\n### Amazon Bedrock モデルを使った LangGraph\nAmazon Bedrock モデルを使った LangGraph から始めましょう。異なるフレームワークやモデルを使った他の例は、親ディレクトリにあります。"
   ]
  },
  {
   "cell_type": "code",
   "execution_count": null,
   "id": "3b845b32-a03e-45c2-a2f0-2afba8069f47",
   "metadata": {},
   "outputs": [],
   "source": [
    "%%writefile langgraph_bedrock.py\nfrom langgraph.graph import StateGraph, MessagesState\nfrom langgraph.prebuilt import ToolNode, tools_condition\nfrom langchain_core.tools import tool\nfrom langchain_core.messages import HumanMessage, SystemMessage\nfrom bedrock_agentcore.runtime import BedrockAgentCoreApp\nimport argparse\nimport json\nimport operator\nimport math\n\napp = BedrockAgentCoreApp()\n\n# 計算ツールを作成\n\n日本語訳:\n\n# 計算ツールを作成\n\nまず、 Python の組み込みモジュールである `tkinter` をインポートします。\n\n```python\nimport tkinter as tk\n```\n\n次に、ウィンドウを作成し、タイトルを設定します。\n\n```python\nwindow = tk.Tk()\nwindow.title(\"Calculator\")\n```\n\nディスプレイ用のエントリーウィジェットを作成し、グリッドレイアウトを使って配置します。\n\n```python\ndisplay = tk.Entry(window, font=(\"Arial\", 16), justify=\"right\")\ndisplay.grid(row=0, column=0, columnspan=4, sticky=\"nsew\")\n```\n\n関数 `add_digit()` は、ユーザーがボタンをクリックしたときに呼び出され、対応する数字をディスプレイに追加します。\n\n```python\ndef add_digit(digit):\n    value = display.get() + str(digit)\n    display.delete(0, tk.END)\n    display.insert(0, value)\n```\n\n`eval()` 関数を使って計算を実行する `calculate()` 関数を定義します。\n\n```python\ndef calculate():\n    result = str(eval(display.get()))\n    display.delete(0, tk.END)\n    display.insert(0, result)\n```\n\nボタンウィジェットを作成し、それぞれのボタンに関数を割り当てます。\n\n```python\nbuttons = []\nfor i in range(10):\n    button = tk.Button(window, text=str(i), font=(\"Arial\", 16), command=lambda x=i: add_digit(x))\n    buttons.append(button)\n\noperator_buttons = [\n    tk.Button(window, text=\"+\", font=(\"Arial\", 16), command=lambda: add_digit(\"+\")),\n    tk.Button(window, text=\"-\", font=(\"Arial\", 16), command=lambda: add_digit(\"-\")),\n    tk.Button(window, text=\"*\", font=(\"Arial\", 16), command=lambda: add_digit(\"*\")),\n    tk.Button(window, text=\"/\", font=(\"Arial\", 16), command=lambda: add_digit(\"/\")),\n    tk.Button(window, text=\"=\", font=(\"Arial\", 16), command=calculate)\n]\n```\n\nボタンをグリッドレイアウトで配置します。\n\n```python\nrow = 1\ncol = 0\nfor button in buttons:\n    button.grid(row=row, column=col, sticky=\"nsew\")\n    col += 1\n    if col > 2:\n        col = 0\n        row += 1\n\nrow = 5\ncol = 0\nfor button in operator_buttons:\n    button.grid(row=row, column=col, sticky=\"nsew\")\n    col += 1\n```\n\nウィンドウのメインループを開始します。\n\n```python\nwindow.mainloop()\n```\n\nこれで、簡単な計算ツールが完成しました。数字ボタンをクリックすると対応する数字がディスプレイに表示され、演算子ボタンをクリックすると演算子が追加されます。「=」ボタンをクリックすると、 `eval()` 関数を使って計算が実行され、結果がディスプレイに表示されます。\n@tool\ndef calculator(expression: str) -> str:\n    ```\n数学的な式の結果を計算します。\n\nArgs:\n    expression: 文字列として与えられた数学的な式 (例: \"2 + 3 * 4\", \"sqrt(16)\", \"sin(pi/2)\")\n\nReturns:\n    計算結果を文字列で返します\n```\n    try:\n        # Define safe functions that can be used in expressions\n\n# 式で使用できる安全な関数を定義\n\n安全な関数とは、 eval() や exec() などの危険な組み込み関数を使用せずに、式の評価を行う関数のことです。以下に、いくつかの安全な関数の例を示します。\n\ndef safe_add(a, b):\n    \"Return the sum of a and b\"\n    return a + b\n\ndef safe_sub(a, b):\n    \"Return the difference between a and b\"\n    return a - b\n\ndef safe_mul(a, b):\n    \"Return the product of a and b\"\n    return a * b\n\ndef safe_div(a, b):\n    \"Return the quotient of a divided by b\"\n    if b == 0:\n        raise ValueError(\"Division by zero\")\n    return a / b\n\nこれらの関数は、数値演算のみを行い、外部のデータや関数を読み込んだりしません。したがって、悪意のあるコードが実行されるリスクがありません。式の評価には、これらの安全な関数を使用することをお勧めします。\n        safe_dict = {\n            \"__builtins__\": {},\n            \"abs\": abs, \"round\": round, \"min\": min, \"max\": max,\n            \"sum\": sum, \"pow\": pow,\n            # 数学関数\n\n日本語訳:\n\n以下は、 Python の数学関数の一覧です。\n\n`math.ceil(x)` は、 `x` を超えない最小の整数を返します。例: `math.ceil(4.3)` は 5 を返します。\n\n`math.floor(x)` は、 `x` 以下の最大の整数を返します。例: `math.floor(4.7)` は 4 を返します。\n\n`math.fabs(x)` は、 `x` の絶対値を返します。例: `math.fabs(-4.5)` は 4.5 を返します。\n\n`math.factorial(x)` は、 `x` の階乗を返します。例: `math.factorial(5)` は 120 を返します。\n\n`math.gcd(a, b)` は、 `a` と `b` の最大公約数を返します。例: `math.gcd(8, 12)` は 4 を返します。\n\n`math.pow(x, y)` は、 `x` の `y` 乗を返します。例: `math.pow(2, 3)` は 8 を返します。\n\n`math.sqrt(x)` は、 `x` の平方根を返します。例: `math.sqrt(9)` は 3 を返します。\n            \"sqrt\": math.sqrt, \"sin\": math.sin, \"cos\": math.cos, \"tan\": math.tan,\n            \"log\": math.log, \"log10\": math.log10, \"exp\": math.exp,\n            \"pi\": math.pi, \"e\": math.e,\n            \"ceil\": math.ceil, \"floor\": math.floor,\n            \"degrees\": math.degrees, \"radians\": math.radians,\n            # Basic operators (for explicit use)\n\n# 基本的な演算子 (明示的な使用のため)\n\n x + y は、 x と y の和を計算します。 x - y は、 x から y を引いた値を計算します。 x * y は、 x と y の積を計算します。 x / y は、 x を y で割った商を計算します。 x // y は、 x を y で割った切り捨て整数の商を計算します。 x % y は、 x を y で割った余りを計算します。 -x は、 x の正負を反転させた値を計算します。 +x は、 x の値をそのまま返します (何もしません)。 abs(x) は、 x の絶対値を計算します。 int(x) は、 x を最も近い整数に変換します。 float(x) は、 x を浮動小数点数に変換します。 complex(re, im) は、複素数を作成します。 c.conjugate() は、 c の複素共役を計算します。 divmod(x, y) は、 (x // y, x % y) のペアを返します。 pow(x, y) は、 x の y 乗を計算します。 x ** y は、 pow(x, y) の短縮形です。\n            \"add\": operator.add, \"sub\": operator.sub,\n            \"mul\": operator.mul, \"truediv\": operator.truediv,\n        }\n        \n        # 式を安全に評価する\n\n日本語訳:\n\nこの関数は、与えられた文字列を安全に評価します。まず、 `ast.parse()` を使って文字列を抽象構文木 (AST) に変換します。次に、 `ast.walk()` を使って AST を走査し、危険な構文 (組み込み関数の呼び出しなど) がないかチェックします。危険な構文が見つからない場合は、 `eval()` を使って式を評価し、その結果を返します。それ以外の場合は、 `ValueError` 例外をスローします。\n\nこの関数は、信頼できない入力を安全に評価する必要がある場合に使用できます。たとえば、ユーザーが入力した式を評価する必要がある Web アプリケーションなどで役立ちます。\n\n使用例:\n\n```python\nresult = safe_eval('2 + 3 * 4')  # 14\nresult = safe_eval('__import__(\"os\").system(\"rm -rf /\")')  # ValueError 例外をスロー\n```\n        result = eval(expression, safe_dict)\n        return str(result)\n        \n    except ZeroDivisionError:\n        return \"Error: Division by zero\"\n    except ValueError as e:\n        return f\"Error: Invalid value - {str(e)}\"\n    except SyntaxError:\n        return \"Error: Invalid mathematical expression\"\n    except Exception as e:\n        return f\"Error: {str(e)}\"\n\n# 独自の天気ツールを作成する\n\n日本語訳:\n\n独自の天気ツールを作成するには、以下の手順に従ってください。\n\n1. まず、気象データを取得するための API キーを取得する必要があります。人気のある選択肢は OpenWeatherMap API と Dark Sky API です。\n\n2. API キーを取得したら、プログラミング言語 (Python、JavaScript など) を選択し、API から天気データを取得するコードを記述します。API の使用方法については、それぞれのドキュメントを参照してください。\n\n3. 次に、取得した天気データを処理し、必要な情報 (気温、湿度、風速など) を抽出します。\n\n4. 最後に、抽出した情報を表示するユーザーインターフェース (Web アプリ、モバイルアプリ、コマンドラインツールなど) を作成します。\n\nこの手順を踏めば、独自の天気ツールを作成できます。ただし、API の利用規約を確認し、適切に利用することが重要です。また、より高度な機能 (天気予報の表示、位置情報の取得など) を追加することもできます。\n@tool\ndef weather():\n    以下が日本語訳になります。\n\n\"\"\"Get weather\"\"\"\n\n「 天気を取得する 」\n\n技術的な用語は翻訳せずにそのまま残しました。半角英数字の前後には半角スペースを挿入しています。  # Dummy implementation\n\n# ダミー実装\n\nimport random\n\n# This is a dummy function to get a random number\ndef get_random_number():\n    return random.randint(1, 100)\n\n# This is a dummy class to store data\nclass DummyData:\n    def __init__(self, value):\n        self.value = value\n\n    def get_value(self):\n        return self.value\n\n# Example usage\nrandom_number = get_random_number()\nprint(f\"Random number: {random_number}\")\n\ndata = DummyData(42)\nprint(f\"Data value: {data.get_value()}\")\n    return \"sunny\"\n\n# エージェントを手動の LangGraph 構築で定義する\n\nagent = gr.Agent.define_agent(\n    \"agent\",\n    memory=gr.Memory(\n        memory_store=gr.RedisMemoryStore(redis_url=\"redis://redis:6379\"),\n        memory_session=gr.RedisSession(\n            redis_url=\"redis://redis:6379\", prefix=\"memory-session\"\n        ),\n    ),\n    skills=[\n        gr.Skill(\n            name=\"python_repl\",\n            description=\"Python REPL to execute code. Inputs: code. Outputs: result\",\n            fn=python_repl.python_repl,\n            requirements=[\"openai\"],\n            load_env=True,\n        ),\n        gr.Skill(\n            name=\"terminal\",\n            description=\"Execute terminal commands. Inputs: command. Outputs: result\",\n            fn=terminal.terminal,\n            stream_output=True,\n        ),\n    ],\n)\ndef create_agent():\n    以下が日本語訳になります。\n\n\"\"\"LangGraph エージェントの作成と構成\"\"\"\n    from langchain_aws import ChatBedrock\n    \n    # Initialize your LLM (adjust model and parameters as needed)\n\n大規模言語モデル (LLM) を初期化します (モデルとパラメーターは必要に応じて調整してください)\n    llm = ChatBedrock(\n        model_id=\"anthropic.claude-3-sonnet-20240229-v1:0\",  # or your preferred model\n\n日本語訳:\n# または好みの model\n        model_kwargs={\"temperature\": 0.1}\n    )\n    \n    # Bind tools to the LLM\n\n# ツールを LLM にバインドする\n\nTo allow the LLM to use tools, we need to bind them to it. This is done by creating an `AgentType` object and passing it a list of tools. Here is an example of binding the `python_repl` tool:\n\nLLM がツールを使えるようにするには、ツールを LLM にバインドする必要があります。これは `AgentType` オブジェクトを作成し、ツールのリストを渡すことで行われます。ここに `python_repl` ツールをバインドする例を示します。\n\n```python\nfrom langchain.agents import AgentType\nfrom langchain.python import PythonREPLTool\n\npython_repl = PythonREPLTool()\nagent = AgentType(tools=[python_repl])\n```\n\nNow the LLM can use the `python_repl` tool by referencing the tool name in its responses. For example, it could say `\\python_repl\\n<python code>` to execute some Python code.\n\nこれで、LLM はその応答でツール名を参照することにより、`python_repl` ツールを使用できるようになりました。例えば、`\\python_repl\\n<python code>` と言うことで、Python コードを実行できます。\n\nYou can bind as many tools as you want to an agent. Just pass a list of tool objects to the `AgentType` constructor.\n\nエージェントにはいくつでもツールをバインドできます。`AgentType` コンストラクタにツールオブジェクトのリストを渡すだけです。\n    tools = [calculator, weather]\n    llm_with_tools = llm.bind_tools(tools)\n    \n    # System message\n\nシステムメッセージ\n\nThe following code is used to initialize the database connection:\n\n以下の コード は データベース接続を初期化するために使用されます:\n\n```python\nimport psycopg2\n\nconn = psycopg2.connect(\n    host=\"localhost\",\n    database=\"mydb\",\n    user=\"postgres\",\n    password=\"secret\"\n)\n```\n\nPlease make sure to replace the `host`, `database`, `user`, and `password` values with your own configuration.\n\n`host` 、 `database` 、 `user` 、および `password` の値は、ご自身の設定に置き換えてください。\n\nIf you encounter any issues, refer to the error log at `/var/log/myapp/error.log`.\n\n問題が発生した場合は、 `/var/log/myapp/error.log` のエラーログを参照してください。\n    system_message = \"You're a helpful assistant. You can do simple math calculation, and tell the weather.\"\n    \n    # Define the chatbot node\n\nchatbot ノードを定義します。\n\nimport random\n\nresponses = {\n    \"question\": [\n        \"I don't have a great answer for that.\",\n        \"I don't know how to respond to that.\",\n        \"そうですね、私にもよくわかりません。\"\n    ],\n    \"statement\": [\n        \"I can't really engage with statements like that.\",\n        \"I'm not sure how to respond to that.\",\n        \"はい、そうですね。\"\n    ]\n}\n\nclass Chatbot:\n    def respond(self, message):\n        message = message.lower()\n        if message.endswith(\"?\"):\n            response = random.choice(responses[\"question\"])\n        else:\n            response = random.choice(responses[\"statement\"])\n        return response\n\nchatbot = Chatbot()\n\nprint(\"Hi, I'm a chatbot. How can I help you today?\")\nwhile True:\n    message = input(\"> \")\n    if message.lower() == \"quit\":\n        break\n    print(chatbot.respond(message))\n    def chatbot(state: MessagesState):\n        # Add system message if not already present\n\nシステムメッセージがまだ存在しない場合は追加します。\n\nif 'system' not in messages:\n    messages.append({'role': 'system', 'content': system_message})\n        messages = state[\"messages\"]\n        if not messages or not isinstance(messages[0], SystemMessage):\n            messages = [SystemMessage(content=system_message)] + messages\n        \n        response = llm_with_tools.invoke(messages)\n        return {\"messages\": [response]}\n    \n    # グラフを作成する\n\nimport networkx as nx\n\nG = nx.Graph()\n\n# 頂点を追加する\nG.add_nodes_from([1, 2, 3])\n\n# エッジを追加する\nG.add_edges_from([(1, 2), (1, 3), (2, 3)])\n\n# 頂点の位置を設定する\npos = {1: (0, 0), 2: (1, 1), 3: (-1, 1)}\n\n# グラフを描画する\nnx.draw(G, pos, with_labels=True)\n    graph_builder = StateGraph(MessagesState)\n    \n    # ノードを追加する\n\n日本語訳:\n\n以下のテキストを英語から日本語に翻訳します。半角英数字の前後には半角スペースを挿入し、コード、コマンド、変数名、関数名などの技術的な用語はそのまま残します。\n\n`kubectl get nodes` を実行して、クラスターのノードを一覧表示します。出力例を次に示します。\n\n```\nNAME                                STATUS   ROLES    AGE   VERSION\ngke-my-cluster-default-pool-7e5cd2fe-0d9b   Ready    <none>   1h    v1.19.9-gke.1900\ngke-my-cluster-default-pool-7e5cd2fe-z6xh   Ready    <none>   1h    v1.19.9-gke.1900\n```\n\n新しいノードを追加するには、`gcloud` コマンドを使用します。`gcloud container clusters resize` コマンドを使って、ノードの数を増やすことができます。\n\n```bash\ngcloud container clusters resize my-cluster --node-pool default-pool --num-nodes 4\n```\n\nこの例では、 `my-cluster` という名前のクラスターの `default-pool` ノードプールのノード数を 4 に増やしています。`--num-nodes` フラグを使って、ノード数を指定します。\n\nノードの追加が完了したら、再度 `kubectl get nodes` を実行して、新しいノードが追加されたことを確認できます。\n    graph_builder.add_node(\"chatbot\", chatbot)\n    graph_builder.add_node(\"tools\", ToolNode(tools))\n    \n    # Add edges\n\ngraph.add_edge( 'A', 'B', weight=4 )\ngraph.add_edge( 'B', 'C', weight=8 )\ngraph.add_edge( 'A', 'C', weight=7 )\n\n日本語訳:\n\n# エッジを追加\n\ngraph.add_edge( 'A', 'B', weight=4 ) \ngraph.add_edge( 'B', 'C', weight=8 )\ngraph.add_edge( 'A', 'C', weight=7 )\n    graph_builder.add_conditional_edges(\n        \"chatbot\",\n        tools_condition,\n    )\n    graph_builder.add_edge(\"tools\", \"chatbot\")\n    \n    # Set entry point\n\nエントリーポイントを設定します。\n\nENTRYPOINT [ \"python3\" ]\n\n日本語訳:\n\n# エントリーポイントを設定します\n\nENTRYPOINT [ \"python3\" ]\n    graph_builder.set_entry_point(\"chatbot\")\n    \n    # グラフをコンパイルする\n\n日本語訳:\n\nコンパイラ = tf.lite.TFLiteConverter.from_saved_model(\"model.tflite\")\nコンパイラ.target_spec.supported_ops = [tf.lite.OpsSet.TFLITE_BUILTINS, tf.lite.OpsSet.SELECT_TF_OPS]\ntflite_model = コンパイラ.convert()\n\nwith open('model.tflite', 'wb') as f:\n    f.write(tflite_model)\n\nprint(\"TFLite モデルが model.tflite に保存されました。\")\n    return graph_builder.compile()\n\n# エージェントを初期化する\n\nagent = Agent()\n\n# Set the agent's name\nagent.name = \"JARVIS\"\n\n# Train the agent\nagent.train(data_path=\"path/to/training/data\")\n\n# Deploy the agent\nagent.deploy(environment=\"production\")\n\nprint(f\"Agent {agent.name} has been successfully deployed.\")\nagent = create_agent()\n\n@app.entrypoint\ndef langgraph_bedrock(payload):\n    以下が日本語訳になります。\n\n\"\"\"\n agent に payload を渡して実行する\n\"\"\"\n    user_input = payload.get(\"prompt\")\n    \n    # Create the input in the format expected by LangGraph\n\nLangGraph が期待する形式で入力を作成します。\n\n半角英数字の前後には半角スペースを挿入します。 コード や コマンド 、 変数名 、 関数名 などの技術的な用語は翻訳せず、そのまま残します。\n    response = agent.invoke({\"messages\": [HumanMessage(content=user_input)]})\n    \n    # Extract the final message content\n\n最終的なメッセージの内容を抽出します。\n\nmessage_content = message.content\n\nif message.reference is not None:\n    # This is a reply\n    original_message = await message.channel.fetch_message(message.reference.message_id)\n    message_content = f\"Reply to {original_message.author.display_name}: {message_content}\"\n\nprint(message_content)\n    return response[\"messages\"][-1].content\n\nif __name__ == \"__main__\":\n    app.run()"
   ]
  },
  {
   "cell_type": "markdown",
   "id": "c64db7b5-0f1b-475f-9bf2-467b4449d46a",
   "metadata": {},
   "source": [
    "## 裏側で何が起こっているのか?\n\n`BedrockAgentCoreApp` を使用すると、自動的に以下のことが行われます。\n\n* ポート 8080 でリッスンする HTTP サーバーを作成します\n* エージェントの要件を処理するために必要な `/invocations` エンドポイントを実装します\n* ヘルスチェック (非同期エージェントにとって非常に重要) のための `/ping` エンドポイントを実装します\n* 適切なコンテンツタイプと応答フォーマットを処理します\n* AWS 標準に従ってエラー処理を管理します"
   ]
  },
  {
   "cell_type": "markdown",
   "id": "6820ca8f-a8a8-4f34-b4ef-b6dad3776261",
   "metadata": {},
   "source": [
    "## AgentCore ランタイムにエージェントをデプロイする\n\n`CreateAgentRuntime` 操作は包括的な構成オプションをサポートしており、コンテナイメージ、環境変数、暗号化設定を指定できます。また、クライアントがエージェントと通信する方法を制御するために、プロトコル設定 (HTTP、MCP) と認証メカニズムを構成することもできます。\n\n**注:** オペレーションのベストプラクティスは、コードをコンテナにパッケージ化し、CI/CD パイプラインと IaC を使用して ECR にプッシュすることです。\n\nこのチュートリアルでは、Amazon Bedrock AgentCode Python SDK を使用して、アーティファクトを簡単にパッケージ化し、AgentCore ランタイムにデプロイします。"
   ]
  },
  {
   "cell_type": "markdown",
   "id": "d0861401-a111-4ade-9e02-50f52fdfa9b1",
   "metadata": {},
   "source": [
    "### ランタイムロールの作成\n\n始める前に、AgentCore Runtimeのための IAM ロールを作成しましょう。あらかじめ開発された utils 関数を使用して行います。\n\n日本語訳:\n### ランタイムロールの作成\n\n始める前に、AgentCore Runtime 用の IAM ロールを作成しましょう。あなたのために事前に開発された utils 関数を使って行います。"
   ]
  },
  {
   "cell_type": "code",
   "execution_count": null,
   "id": "54dd2fdf-985c-4a70-8b87-071783a209de",
   "metadata": {},
   "outputs": [],
   "source": [
    "import sys\nimport os\nimport json\nimport boto3\n\n# Get the current notebook's directory\n\n現在のノートブックのディレクトリを取得します。\n\nimport os\ncwd = os.getcwd()\nprint( \"Current working directory is: \" + cwd )\n\n# Print the current working directory\nprint( \"Current working directory is: \" + cwd )\n\n# Change directory\nos.chdir( '/path/to/new/directory' )\n\n# Get the new current working directory\nnew_cwd = os.getcwd()\nprint( \"New current working directory is: \" + new_cwd )\n\n# List files in the new directory\nfiles = os.listdir( new_cwd )\nprint( \"Files in %s:\" % new_cwd )\nfor file in files:\n    print( file )\ncurrent_dir = os.path.dirname(os.path.abspath('__file__' if '__file__' in globals() else '.'))\n\n# Navigate up to the utils.py location\n\nutils.py の場所まで上へ移動します。\nutils_dir = os.path.join(current_dir, '..')\nutils_dir = os.path.abspath(utils_dir)\n\n# Add to sys.path\n\nimport sys\nsys.path.append('/path/to/app/')\n\n# 半角英数字の前後に半角スペースを挿入\ntext = \"Hello 123 World 456\"\nnew_text = \"\"\nfor char in text:\n    if char.isdigit():\n        new_text += \" \" + char + \" \"\n    else:\n        new_text += char\nprint(new_text)  # => \"Hello 123 World 456\"\n\n# コードやコマンド、変数名、関数名などの技術的な用語は翻訳せず、そのまま残す\nimport numpy as np\nx = np.array([1, 2, 3])\nprint(x)  # => [1 2 3]\n\n日本語訳:\n\n# sys.pathに追加する\n\nimport sys\nsys.path.append('/path/to/app/')\n\n# 半角英数字の前後に半角スペースを挿入する\ntext = \"Hello 123 World 456\"\nnew_text = \"\"\nfor char in text:\n    if char.isdigit():\n        new_text += \" \" + char + \" \"\n    else:\n        new_text += char\nprint(new_text)  # => \"Hello 123 World 456\"\n\n# コードやコマンド、変数名、関数名などの技術的な用語はそのまま残す\nimport numpy as np\nx = np.array([1, 2, 3])\nprint(x)  # => [1 2 3]\nsys.path.insert(0, utils_dir)\n\nfrom utils import create_agentcore_role\n\nagent_name=\"langgraph_bedrock\"\nagentcore_iam_role = create_agentcore_role(agent_name=agent_name)"
   ]
  },
  {
   "cell_type": "markdown",
   "id": "8855aceb-b79f-4aaa-b16f-8577c059816a",
   "metadata": {},
   "source": [
    "### AgentCore Runtime デプロイの設定\n\n次に、スターターツールキットを使用して、AgentCore Runtime デプロイをエントリポイント、作成した実行ロール、および要件ファイルで設定します。また、スターターキットを設定して、起動時に Amazon ECR リポジトリを自動的に作成するようにします。\n\n設定ステップでは、アプリケーションコードに基づいて Dockerfile が生成されます。\n\n<div style=\"text-align:left\">\n    <img src=\"images/configure.png\" width=\"40%\"/>\n</div>"
   ]
  },
  {
   "cell_type": "code",
   "execution_count": null,
   "id": "2e79eba2-ca59-463f-9ebf-56e362d7ae66",
   "metadata": {},
   "outputs": [],
   "source": [
    "from bedrock_agentcore_starter_toolkit import Runtime\n",
    "from boto3.session import Session\n",
    "boto_session = Session()\n",
    "region = boto_session.region_name\n",
    "region\n",
    "\n",
    "agentcore_runtime = Runtime()\n",
    "\n",
    "response = agentcore_runtime.configure(\n",
    "    entrypoint=\"langgraph_bedrock.py\",\n",
    "    execution_role=agentcore_iam_role['Role']['Arn'],\n",
    "    auto_create_ecr=True,\n",
    "    requirements_file=\"requirements.txt\",\n",
    "    region=region\n",
    ")\n",
    "response"
   ]
  },
  {
   "cell_type": "markdown",
   "id": "9e1b84cc-798e-472c-ac0b-2c315f4b704d",
   "metadata": {},
   "source": [
    "### AgentCore Runtimeへのエージェントの起動\n\nDockerfileができたので、次はAgentCore Runtimeにエージェントを起動しましょう。これにより、Amazon ECR リポジトリと AgentCore Runtime が作成されます。\n\n<div style=\"text-align:left\">\n    <img src=\"images/launch.png\" width=\"75%\"/>\n</div>"
   ]
  },
  {
   "cell_type": "code",
   "execution_count": null,
   "id": "17a32ab8-7701-4900-8055-e24364bdf35c",
   "metadata": {},
   "outputs": [],
   "source": [
    "launch_result = agentcore_runtime.launch()\n",
    "launch_result"
   ]
  },
  {
   "cell_type": "markdown",
   "id": "a0ae9c09-09db-4a76-871a-92eacd96b9c3",
   "metadata": {},
   "source": [
    "### AgentCore Runtimeのステータスを確認する\nAgentCore Runtimeをデプロイしたので、次はそのデプロイ状況を確認しましょう\n\n日本語訳:"
   ]
  },
  {
   "cell_type": "code",
   "execution_count": null,
   "id": "afa6ac09-9adb-4846-9fc1-4d12aeb74853",
   "metadata": {},
   "outputs": [],
   "source": [
    "status_response = agentcore_runtime.status()\n",
    "status = status_response.endpoint['status']\n",
    "end_status = ['READY', 'CREATE_FAILED', 'DELETE_FAILED', 'UPDATE_FAILED']\n",
    "while status not in end_status:\n",
    "    time.sleep(10)\n",
    "    status_response = agentcore_runtime.status()\n",
    "    status = status_response.endpoint['status']\n",
    "    print(status)\n",
    "status"
   ]
  },
  {
   "cell_type": "markdown",
   "id": "b7f89c56-918a-4cab-beaa-c7ac43a2ba29",
   "metadata": {},
   "source": [
    "### AgentCore Runtimeの呼び出し\n\n最後に、ペイロードを使って AgentCore Runtime を呼び出すことができます。\n\n<div style=\"text-align:left\">\n    <img src=\"images/invoke.png\" width=75%\"/>\n</div>"
   ]
  },
  {
   "cell_type": "code",
   "execution_count": null,
   "id": "3d909e42-e1a0-407f-84c2-3d16cc889cd3",
   "metadata": {},
   "outputs": [],
   "source": [
    "invoke_response = agentcore_runtime.invoke({\"prompt\": \"How much is 2+2?\"})\n",
    "invoke_response"
   ]
  },
  {
   "cell_type": "markdown",
   "id": "fefa09f2-d25a-483f-aedb-11690bb8923a",
   "metadata": {},
   "source": [
    "### 呼び出し結果の処理\n\nアプリケーションに組み込むために、呼び出し結果を処理することができます。\n\n日本語訳:\n\n### 呼び出し結果の処理\n\n私たちは今や、アプリケーションに組み込むために、呼び出し結果を処理することができます。"
   ]
  },
  {
   "cell_type": "code",
   "execution_count": null,
   "id": "11249103-cfb3-47b5-970d-981a977a225a",
   "metadata": {
    "scrolled": true
   },
   "outputs": [],
   "source": [
    "from IPython.display import Markdown, display\n",
    "response_text = json.loads(invoke_response['response'][0].decode(\"utf-8\"))\n",
    "display(Markdown(response_text))"
   ]
  },
  {
   "cell_type": "markdown",
   "id": "2c1d2bce-be41-478c-8bed-b4037c385795",
   "metadata": {},
   "source": [
    "### AgentCore Runtimeをboto3で呼び出す\n\nAgentCore Runtimeが作成されたので、任意のAWS SDKでそれを呼び出すことができます。例えば、boto3の `invoke_agent_runtime` メソッドを使用できます。\n\n日本語訳:\n### AgentCore Runtimeを boto3 で呼び出す\n\nAgentCore Runtime が作成されたので、任意の AWS SDK でそれを呼び出すことができます。例えば、boto3 の `invoke_agent_runtime` メソッドを使用できます。"
   ]
  },
  {
   "cell_type": "code",
   "execution_count": null,
   "id": "7f84e68d-6c04-41b9-bf5b-60edc3fa0985",
   "metadata": {},
   "outputs": [],
   "source": [
    "agent_arn = launch_result.agent_arn\n",
    "agentcore_client = boto3.client(\n",
    "    'bedrock-agentcore',\n",
    "    region_name=region\n",
    ")\n",
    "\n",
    "boto3_response = agentcore_client.invoke_agent_runtime(\n",
    "    agentRuntimeArn=agent_arn,\n",
    "    qualifier=\"DEFAULT\",\n",
    "    payload=json.dumps({\"prompt\": \"What is the weather now?\"})\n",
    ")\n",
    "if \"text/event-stream\" in boto3_response.get(\"contentType\", \"\"):\n",
    "    content = []\n",
    "    for line in boto3_response[\"response\"].iter_lines(chunk_size=1):\n",
    "        if line:\n",
    "            line = line.decode(\"utf-8\")\n",
    "            if line.startswith(\"data: \"):\n",
    "                line = line[6:]\n",
    "                logger.info(line)\n",
    "                content.append(line)\n",
    "    display(Markdown(\"\\n\".join(content)))\n",
    "else:\n",
    "    try:\n",
    "        events = []\n",
    "        for event in boto3_response.get(\"response\", []):\n",
    "            events.append(event)\n",
    "    except Exception as e:\n",
    "        events = [f\"Error reading EventStream: {e}\"]\n",
    "    display(Markdown(json.loads(events[0].decode(\"utf-8\"))))"
   ]
  },
  {
   "cell_type": "markdown",
   "id": "7d3fdfe404469632",
   "metadata": {},
   "source": [
    "## クリーンアップ (オプション)\n\n作成した AgentCore Runtime をクリーンアップしましょう。"
   ]
  },
  {
   "cell_type": "code",
   "execution_count": null,
   "id": "08f86824-c775-4ad4-aaee-f18e8cf390b9",
   "metadata": {},
   "outputs": [],
   "source": [
    "launch_result.ecr_uri, launch_result.agent_id, launch_result.ecr_uri.split('/')[1]"
   ]
  },
  {
   "cell_type": "code",
   "execution_count": null,
   "id": "76a6cf1416830a54",
   "metadata": {},
   "outputs": [],
   "source": [
    "agentcore_control_client = boto3.client(\n",
    "    'bedrock-agentcore-control',\n",
    "    region_name=region\n",
    ")\n",
    "ecr_client = boto3.client(\n",
    "    'ecr',\n",
    "    region_name=region\n",
    "    \n",
    ")\n",
    "\n",
    "iam_client = boto3.client('iam')\n",
    "\n",
    "runtime_delete_response = agentcore_control_client.delete_agent_runtime(\n",
    "    agentRuntimeId=launch_result.agent_id\n",
    ")\n",
    "\n",
    "response = ecr_client.delete_repository(\n",
    "    repositoryName=launch_result.ecr_uri.split('/')[1],\n",
    "    force=True\n",
    ")\n",
    "\n",
    "policies = iam_client.list_role_policies(\n",
    "    RoleName=agentcore_iam_role['Role']['RoleName'],\n",
    "    MaxItems=100\n",
    ")\n",
    "\n",
    "for policy_name in policies['PolicyNames']:\n",
    "    iam_client.delete_role_policy(\n",
    "        RoleName=agentcore_role_name,\n",
    "        PolicyName=policy_name\n",
    "    )\n",
    "iam_response = iam_client.delete_role(\n",
    "    RoleName=agentcore_role_name\n",
    ")"
   ]
  },
  {
   "cell_type": "markdown",
   "id": "b118ad38-feeb-4d1d-9d57-e5c845becc56",
   "metadata": {},
   "source": [
    "# Congratulations!\n\n日本語訳:\n\nおめでとうございます!"
   ]
  }
 ],
 "metadata": {
  "kernelspec": {
   "display_name": "Python 3 (ipykernel)",
   "language": "python",
   "name": "python3"
  },
  "language_info": {
   "codemirror_mode": {
    "name": "ipython",
    "version": 3
   },
   "file_extension": ".py",
   "mimetype": "text/x-python",
   "name": "python",
   "nbconvert_exporter": "python",
   "pygments_lexer": "ipython3",
   "version": "3.10.18"
  }
 },
 "nbformat": 4,
 "nbformat_minor": 5
}