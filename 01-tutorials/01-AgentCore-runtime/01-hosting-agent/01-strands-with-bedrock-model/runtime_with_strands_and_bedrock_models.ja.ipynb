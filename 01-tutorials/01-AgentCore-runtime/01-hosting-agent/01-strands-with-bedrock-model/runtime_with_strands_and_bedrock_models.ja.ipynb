{
 "cells": [
  {
   "cell_type": "markdown",
   "id": "5c0122e65c053f38",
   "metadata": {},
   "source": [
    "# Amazon Bedrock モデルを使用した Strands エージェントを Amazon Bedrock AgentCore Runtime でホスティングする\n",
    "\n",
    "## 概要\n",
    "\n",
    "このチュートリアルでは、既存のエージェントを Amazon Bedrock AgentCore Runtime を使用してホスティングする方法を学びます。Amazon Bedrock モデルや Azure OpenAI や Gemini などの非 Bedrock モデルを使用した例を提供します。\n",
    "\n",
    "\n",
    "### チュートリアルの詳細\n",
    "\n",
    "\n",
    "| 情報               | 詳細                                                                              |\n",
    "|:------------------|:---------------------------------------------------------------------------------|\n",
    "| チュートリアルタイプ   | 会話型                                                                           |\n",
    "| エージェントタイプ     | シングル                                                                         |\n",
    "| エージェントフレームワーク | Strands Agents                                                                |\n",
    "| LLM モデル         | Anthropic Claude Sonnet 4                                                        |\n",
    "| チュートリアルコンポーネント | AgentCore Runtime でのエージェントホスティング。Strands Agent と Amazon Bedrock モデルの使用 |\n",
    "| チュートリアル分野     | クロス分野                                                                       |\n",
    "| 例の複雑さ          | 簡単                                                                             |\n",
    "| 使用する SDK        | Amazon BedrockAgentCore Python SDK と boto3                                      |\n",
    "\n",
    "### チュートリアルのアーキテクチャ\n",
    "\n",
    "このチュートリアルでは、既存のエージェントを AgentCore ランタイムにデプロイする方法について説明します。\n",
    "\n",
    "デモンストレーションのために、Amazon Bedrock モデルを使用した Strands Agent を使用します。\n",
    "\n",
    "この例では、`get_weather` と `get_time` という 2 つのツールを持つ非常にシンプルなエージェントを使用します。\n",
    "\n",
    "<div style=\"text-align:left\">\n",
    "    <img src=\"images/architecture_runtime.png\" width=\"50%\"/>\n",
    "</div>\n",
    "\n",
    "### チュートリアルの主な機能\n",
    "\n",
    "* Amazon Bedrock AgentCore Runtime でのエージェントのホスティング\n",
    "* Amazon Bedrock モデルの使用\n",
    "* Strands Agents の使用"
   ]
  },
  {
   "cell_type": "markdown",
   "id": "3a676f58ecf52b42",
   "metadata": {},
   "source": [
    "## 前提条件\n",
    "\n",
    "このチュートリアルを実行するには以下が必要です：\n",
    "* Python 3.10+\n",
    "* AWS 認証情報\n",
    "* Amazon Bedrock AgentCore SDK\n",
    "* Strands Agents\n",
    "* Docker の実行環境"
   ]
  },
  {
   "cell_type": "code",
   "execution_count": null,
   "id": "initial_id",
   "metadata": {
    "jupyter": {
     "is_executing": true
    }
   },
   "outputs": [],
   "source": [
    "#!uv add -r requirements.txt --active\n",
    "\n",
    "import os\n",
    " #os.environ['AWS_PROFILE'] = 'your_profile_name'\n",
    "os.environ['AWS_PROFILE'] = 'cline2'"
   ]
  },
  {
   "cell_type": "markdown",
   "id": "ca924a7a2731e26f",
   "metadata": {},
   "source": [
    "## エージェントの作成とローカルでの実験\n",
    "\n",
    "AgentCore Runtime にエージェントをデプロイする前に、まずローカルで開発して実験目的で実行してみましょう。\n",
    "\n",
    "本番環境のエージェントアプリケーションでは、エージェント作成プロセスとエージェント呼び出しプロセスを分離する必要があります。AgentCore Runtime では、エージェントの呼び出し部分を `@app.entrypoint` デコレータで装飾し、ランタイムのエントリポイントとします。まず、実験段階で各エージェントがどのように開発されるかを見てみましょう。\n",
    "\n",
    "ここでのアーキテクチャは次のようになります：\n",
    "\n",
    "<div style=\"text-align:left\">\n",
    "    <img src=\"images/architecture_local.png\" width=\"50%\"/>\n",
    "</div>"
   ]
  },
  {
   "cell_type": "code",
   "execution_count": 7,
   "id": "b7d386ab54e85e63",
   "metadata": {},
   "outputs": [
    {
     "name": "stdout",
     "output_type": "stream",
     "text": [
      "Overwriting strands_claude.py\n"
     ]
    }
   ],
   "source": [
    "%%writefile strands_claude.py\n",
    "from strands import Agent, tool\n",
    "from strands_tools import calculator # calculator ツールをインポート\n",
    "import argparse\n",
    "import json\n",
    "from strands.models import BedrockModel\n",
    "\n",
    "# カスタムツールの作成\n",
    "@tool\n",
    "def weather():\n",
    "    \"\"\" 天気を取得 \"\"\" # ダミー実装\n",
    "    return \"sunny\"\n",
    "\n",
    "\n",
    "model_id = \"us.anthropic.claude-3-7-sonnet-20250219-v1:0\"\n",
    "# model_id = \"us.anthropic.claude-sonnet-4-20250514-v1:0\"\n",
    "model = BedrockModel(\n",
    "    model_id=model_id,\n",
    ")\n",
    "agent = Agent(\n",
    "    model=model,\n",
    "    tools=[calculator, weather],\n",
    "    system_prompt=\"You're a helpful assistant. You can do simple math calculation, and tell the weather.\"\n",
    ")\n",
    "\n",
    "def strands_agent_bedrock(payload):\n",
    "    \"\"\"\n",
    "    ペイロードでエージェントを呼び出す\n",
    "    \"\"\"\n",
    "    user_input = payload.get(\"prompt\")\n",
    "    response = agent(user_input)\n",
    "    return response.message['content'][0]['text']\n",
    "\n",
    "if __name__ == \"__main__\":\n",
    "    parser = argparse.ArgumentParser()\n",
    "    parser.add_argument(\"payload\", type=str)\n",
    "    args = parser.parse_args()\n",
    "    response = strands_agent_bedrock(json.loads(args.payload))\n",
    "    print(response)"
   ]
  },
  {
   "cell_type": "markdown",
   "id": "68499675-db8d-47c6-8c0c-5d66dcb06229",
   "metadata": {},
   "source": [
    "#### ローカルエージェントの呼び出し"
   ]
  },
  {
   "cell_type": "code",
   "execution_count": 8,
   "id": "1226d59e6b56c96",
   "metadata": {
    "ExecuteTime": {
     "end_time": "2025-06-29T21:52:06.461281Z",
     "start_time": "2025-06-29T21:52:06.456854Z"
    }
   },
   "outputs": [
    {
     "name": "stdout",
     "output_type": "stream",
     "text": [
      "現在の天気情報を取得いたします。\n",
      "Tool #1: weather\n",
      "現在の天気は「晴れ(sunny)」です。お出かけには良い天気ですね。現在の天気は「晴れ(sunny)」です。お出かけには良い天気ですね。\n"
     ]
    }
   ],
   "source": [
    "!python strands_claude.py '{\"prompt\": \"今の天気は?\"}'"
   ]
  },
  {
   "cell_type": "markdown",
   "id": "932110e6-fca6-47b6-b7c5-c4714a866a80",
   "metadata": {},
   "source": [
    "## AgentCore Runtime へのデプロイ準備\n",
    "\n",
    "それでは、エージェントを AgentCore Runtime にデプロイしましょう。そのためには以下が必要です：\n",
    "* `from bedrock_agentcore.runtime import BedrockAgentCoreApp` で Runtime App をインポート\n",
    "* `app = BedrockAgentCoreApp()` でコード内に App を初期化\n",
    "* `@app.entrypoint` デコレータで呼び出し関数を装飾\n",
    "* `app.run()` で AgentCoreRuntime にエージェントの実行を制御させる\n",
    "\n",
    "### Amazon Bedrock モデルを使用した Strands Agents\n",
    "まずは Amazon Bedrock モデルを使用した Strands Agent から始めましょう。他のすべても全く同じように動作します。"
   ]
  },
  {
   "cell_type": "code",
   "execution_count": 28,
   "id": "3b845b32-a03e-45c2-a2f0-2afba8069f47",
   "metadata": {},
   "outputs": [
    {
     "name": "stdout",
     "output_type": "stream",
     "text": [
      "Overwriting strands_claude.py\n"
     ]
    }
   ],
   "source": [
    "%%writefile strands_claude.py\n",
    "from strands import Agent, tool\n",
    "from strands_tools import calculator # calculator ツールをインポート\n",
    "import argparse\n",
    "import json\n",
    "from bedrock_agentcore.runtime import BedrockAgentCoreApp\n",
    "from strands.models import BedrockModel\n",
    "import os\n",
    "\n",
    "app = BedrockAgentCoreApp()\n",
    "\n",
    "# カスタムツールの作成\n",
    "@tool\n",
    "def weather():\n",
    "    \"\"\" 天気を取得 \"\"\" # ダミー実装\n",
    "    return \"sunny\"\n",
    "\n",
    "\n",
    "model_id = \"us.anthropic.claude-sonnet-4-20250514-v1:0\"\n",
    "model = BedrockModel(\n",
    "    model_id=model_id,\n",
    ")\n",
    "agent = Agent(\n",
    "    model=model,\n",
    "    tools=[calculator, weather],\n",
    "    system_prompt=\"You're a helpful assistant. You can do simple math calculation, and tell the weather.\"\n",
    ")\n",
    "\n",
    "@app.entrypoint\n",
    "def strands_agent_bedrock(payload):\n",
    "    \"\"\"\n",
    "    ペイロードでエージェントを呼び出す\n",
    "    \"\"\"\n",
    "    user_input = payload.get(\"prompt\")\n",
    "    print(\"User input:\", user_input)\n",
    "    response = agent(user_input)\n",
    "    return response.message['content'][0]['text']\n",
    "\n",
    "if __name__ == \"__main__\":\n",
    "    app.run()"
   ]
  },
  {
   "cell_type": "markdown",
   "id": "c64db7b5-0f1b-475f-9bf2-467b4449d46a",
   "metadata": {},
   "source": [
    "## 裏側で何が起こっているか\n",
    "\n",
    "`BedrockAgentCoreApp` を使用すると、自動的に以下のことが行われます：\n",
    "\n",
    "* ポート 8080 でリッスンする HTTP サーバーを作成\n",
    "* エージェントの要件を処理するための `/invocations` エンドポイントを実装\n",
    "* ヘルスチェック用の `/ping` エンドポイントを実装（非同期エージェントには非常に重要）\n",
    "* 適切なコンテンツタイプとレスポンス形式を処理\n",
    "* AWS 標準に従ったエラー処理を管理"
   ]
  },
  {
   "cell_type": "markdown",
   "id": "6820ca8f-a8a8-4f34-b4ef-b6dad3776261",
   "metadata": {},
   "source": [
    "## エージェントを AgentCore Runtime にデプロイする\n",
    "\n",
    "`CreateAgentRuntime` 操作は包括的な設定オプションをサポートしており、コンテナイメージ、環境変数、暗号化設定を指定できます。また、クライアントがエージェントと通信する方法を制御するためのプロトコル設定（HTTP、MCP）や認証メカニズムも設定できます。\n",
    "\n",
    "**注意:** 運用のベストプラクティスは、CI/CD パイプラインと IaC を使用してコードをコンテナとしてパッケージ化し、ECR にプッシュすることです。\n",
    "\n",
    "このチュートリアルでは、Amazon Bedrock AgentCode Python SDK を使用して、アーティファクトを簡単にパッケージ化し、AgentCore ランタイムにデプロイします。"
   ]
  },
  {
   "cell_type": "markdown",
   "id": "d0861401-a111-4ade-9e02-50f52fdfa9b1",
   "metadata": {},
   "source": [
    "### ランタイムロールの作成\n",
    "\n",
    "まず、AgentCore Runtime 用の IAM ロールを作成しましょう。これは、あらかじめ開発されたユーティリティ関数を使用して行います。"
   ]
  },
  {
   "cell_type": "code",
   "execution_count": 29,
   "id": "54dd2fdf-985c-4a70-8b87-071783a209de",
   "metadata": {},
   "outputs": [
    {
     "name": "stdout",
     "output_type": "stream",
     "text": [
      "attaching role policy agentcore-strands_claude-role\n"
     ]
    }
   ],
   "source": [
    "import sys\n",
    "import os\n",
    "\n",
    "# 現在のノートブックのディレクトリを取得\n",
    "current_dir = os.path.dirname(os.path.abspath('__file__' if '__file__' in globals() else '.'))\n",
    "\n",
    "# utils.py の場所に移動\n",
    "utils_dir = os.path.join(current_dir, '..')\n",
    "utils_dir = os.path.abspath(utils_dir)\n",
    "\n",
    "# sys.path に追加\n",
    "sys.path.insert(0, utils_dir)\n",
    "\n",
    "from utils import create_agentcore_role\n",
    "\n",
    "agent_name=\"strands_claude\"\n",
    "agentcore_iam_role = create_agentcore_role(agent_name=agent_name)"
   ]
  },
  {
   "cell_type": "markdown",
   "id": "8855aceb-b79f-4aaa-b16f-8577c059816a",
   "metadata": {},
   "source": [
    "### AgentCore Runtime デプロイの設定\n",
    "\n",
    "次に、スターターツールキットを使用して、エントリポイント、先ほど作成した実行ロール、および要件ファイルを使用して AgentCore Runtime デプロイを設定します。また、起動時に Amazon ECR リポジトリを自動作成するようにスターターキットを設定します。\n",
    "\n",
    "設定ステップでは、アプリケーションコードに基づいて Docker ファイルが生成されます。\n",
    "\n",
    "<div style=\"text-align:left\">\n",
    "    <img src=\"images/configure.png\" width=\"40%\"/>\n",
    "</div>"
   ]
  },
  {
   "cell_type": "code",
   "execution_count": 35,
   "id": "2e79eba2-ca59-463f-9ebf-56e362d7ae66",
   "metadata": {},
   "outputs": [
    {
     "data": {
      "text/html": [
       "<pre style=\"white-space:pre;overflow-x:auto;line-height:normal;font-family:Menlo,'DejaVu Sans Mono',consolas,'Courier New',monospace\">\n",
       "<span style=\"color: #808000; text-decoration-color: #808000; font-weight: bold; text-decoration: underline\">⚠️  [WARNING] Platform mismatch: Current system is </span><span style=\"color: #008000; text-decoration-color: #008000; text-decoration: underline\">'linux/amd64'</span><span style=\"color: #808000; text-decoration-color: #808000; font-weight: bold; text-decoration: underline\"> but Bedrock AgentCore requires </span><span style=\"color: #008000; text-decoration-color: #008000; text-decoration: underline\">'linux/arm64'</span><span style=\"color: #808000; text-decoration-color: #808000; font-weight: bold; text-decoration: underline\">.</span>\n",
       "<span style=\"color: #808000; text-decoration-color: #808000; font-weight: bold; text-decoration: underline\">For deployment options and workarounds, see: </span>\n",
       "<span style=\"color: #0000ff; text-decoration-color: #0000ff; text-decoration: underline\">https://docs.aws.amazon.com/bedrock-agentcore/latest/devguide/getting-started-custom.html</span>\n",
       "\n",
       "</pre>\n"
      ],
      "text/plain": [
       "\n",
       "\u001b[1;4;33m⚠️  \u001b[0m\u001b[1;4;33m[\u001b[0m\u001b[1;4;33mWARNING\u001b[0m\u001b[1;4;33m]\u001b[0m\u001b[1;4;33m Platform mismatch: Current system is \u001b[0m\u001b[4;32m'linux/amd64'\u001b[0m\u001b[1;4;33m but Bedrock AgentCore requires \u001b[0m\u001b[4;32m'linux/arm64'\u001b[0m\u001b[1;4;33m.\u001b[0m\n",
       "\u001b[1;4;33mFor deployment options and workarounds, see: \u001b[0m\n",
       "\u001b[4;94mhttps://docs.aws.amazon.com/bedrock-agentcore/latest/devguide/getting-started-custom.html\u001b[0m\n",
       "\n"
      ]
     },
     "metadata": {},
     "output_type": "display_data"
    },
    {
     "name": "stderr",
     "output_type": "stream",
     "text": [
      "Bedrock AgentCore configured: /home/coder/amazon-bedrock-agentcore-samples/01-tutorials/01-AgentCore-runtime/01-hosting-agent/01-strands-with-bedrock-model/.bedrock_agentcore.yaml\n"
     ]
    },
    {
     "data": {
      "text/plain": [
       "ConfigureResult(config_path=PosixPath('/home/coder/amazon-bedrock-agentcore-samples/01-tutorials/01-AgentCore-runtime/01-hosting-agent/01-strands-with-bedrock-model/.bedrock_agentcore.yaml'), dockerfile_path=PosixPath('/home/coder/amazon-bedrock-agentcore-samples/01-tutorials/01-AgentCore-runtime/01-hosting-agent/01-strands-with-bedrock-model/Dockerfile'), dockerignore_path=PosixPath('/home/coder/amazon-bedrock-agentcore-samples/01-tutorials/01-AgentCore-runtime/01-hosting-agent/01-strands-with-bedrock-model/.dockerignore'), runtime='Docker', region='us-east-1', account_id='320462930492', execution_role='arn:aws:iam::320462930492:role/agentcore-strands_claude-role', ecr_repository=None, auto_create_ecr=True)"
      ]
     },
     "execution_count": 35,
     "metadata": {},
     "output_type": "execute_result"
    }
   ],
   "source": [
    "from bedrock_agentcore_starter_toolkit import Runtime\n",
    "from boto3.session import Session\n",
    "boto_session = Session()\n",
    "region = boto_session.region_name\n",
    "region\n",
    "\n",
    "agentcore_runtime = Runtime()\n",
    "\n",
    "response = agentcore_runtime.configure(\n",
    "    entrypoint=\"strands_claude.py\",\n",
    "    execution_role=agentcore_iam_role['Role']['Arn'],\n",
    "    auto_create_ecr=True,\n",
    "    requirements_file=\"requirements.txt\",\n",
    "    region=region,\n",
    "    agent_name=agent_name+\"2\"\n",
    ")\n",
    "response"
   ]
  },
  {
   "cell_type": "markdown",
   "id": "9e1b84cc-798e-472c-ac0b-2c315f4b704d",
   "metadata": {},
   "source": [
    "### AgentCore Runtime へのエージェントの起動\n",
    "\n",
    "Docker ファイルができたので、エージェントを AgentCore Runtime に起動しましょう。これにより、Amazon ECR リポジトリと AgentCore Runtime が作成されます。\n",
    "\n",
    "<div style=\"text-align:left\">\n",
    "    <img src=\"images/launch.png\" width=\"75%\"/>\n",
    "</div>"
   ]
  },
  {
   "cell_type": "code",
   "execution_count": 40,
   "id": "17a32ab8-7701-4900-8055-e24364bdf35c",
   "metadata": {},
   "outputs": [
    {
     "name": "stderr",
     "output_type": "stream",
     "text": [
      "Build: #10 9.802 ERROR: pip's dependency resolver does not currently take into account all the packages that are installed. This behaviour is the source of the following dependency conflicts.\n"
     ]
    },
    {
     "name": "stdout",
     "output_type": "stream",
     "text": [
      "The push refers to repository [320462930492.dkr.ecr.us-east-1.amazonaws.com/bedrock_agentcore-strands_claude2]\n",
      "1926f4b05988: Preparing\n",
      "a83b51ec752e: Preparing\n",
      "e930bf0031c8: Preparing\n",
      "42730df720ac: Preparing\n",
      "aa3c12b4e2d7: Preparing\n",
      "7e96e04df626: Preparing\n",
      "f6dc80d9d167: Preparing\n",
      "3ba4af0751c6: Preparing\n",
      "d379451f91b6: Preparing\n",
      "7cc7fe68eff6: Preparing\n",
      "7e96e04df626: Waiting\n",
      "f6dc80d9d167: Waiting\n",
      "3ba4af0751c6: Waiting\n",
      "d379451f91b6: Waiting\n",
      "7cc7fe68eff6: Waiting\n",
      "e930bf0031c8: Pushed\n",
      "1926f4b05988: Pushed\n",
      "aa3c12b4e2d7: Pushed\n",
      "7e96e04df626: Pushed\n",
      "f6dc80d9d167: Pushed\n",
      "a83b51ec752e: Pushed\n",
      "d379451f91b6: Pushed\n",
      "3ba4af0751c6: Pushed\n",
      "7cc7fe68eff6: Pushed\n",
      "42730df720ac: Pushed\n",
      "latest: digest: sha256:34febf5f1cbb7d63ea1b5dd9ef5dd4e7a0cb8e77cad5adcf2f57f261f16d6684 size: 2414\n"
     ]
    },
    {
     "name": "stderr",
     "output_type": "stream",
     "text": [
      "Deployed to cloud: arn:aws:bedrock-agentcore:us-east-1:320462930492:runtime/strands_claude2-dMXCq2GOUP\n",
      "🔍 Agent logs available at:\n",
      "   /aws/bedrock-agentcore/runtimes/strands_claude2-dMXCq2GOUP-DEFAULT\n",
      "   /aws/bedrock-agentcore/runtimes/strands_claude2-dMXCq2GOUP-DEFAULT/runtime-logs\n",
      "💡 Tail logs with: aws logs tail /aws/bedrock-agentcore/runtimes/strands_claude2-dMXCq2GOUP-DEFAULT --follow\n",
      "💡 Or view recent logs: aws logs tail /aws/bedrock-agentcore/runtimes/strands_claude2-dMXCq2GOUP-DEFAULT --since 1h\n"
     ]
    },
    {
     "data": {
      "text/plain": [
       "LaunchResult(mode='cloud', tag='bedrock_agentcore-strands_claude2:latest', env_vars=None, port=None, runtime=None, ecr_uri='320462930492.dkr.ecr.us-east-1.amazonaws.com/bedrock_agentcore-strands_claude2', agent_id='strands_claude2-dMXCq2GOUP', agent_arn='arn:aws:bedrock-agentcore:us-east-1:320462930492:runtime/strands_claude2-dMXCq2GOUP', build_output=['#0 building with \"default\" instance using docker driver', '#1 [internal] load build definition from Dockerfile', '#1 transferring dockerfile: 895B done', '#1 WARN: FromPlatformFlagConstDisallowed: FROM --platform flag should not use constant value \"linux/amd64\" (line 1)', '#1 DONE 0.0s', '#2 [internal] load metadata for public.ecr.aws/docker/library/python:3.10-slim', '#2 DONE 0.2s', '#3 [internal] load .dockerignore', '#3 transferring context: 744B done', '#3 DONE 0.0s', '#4 [1/7] FROM public.ecr.aws/docker/library/python:3.10-slim@sha256:81f1cdb3770d54ecfdbddcc52c2125fce674c14a1d976dfd8f65dc0734f9c3c5', '#4 DONE 0.0s', '#5 [internal] load build context', '#5 transferring context: 26.01kB done', '#5 DONE 0.0s', '#6 [2/7] WORKDIR /app', '#6 CACHED', '#7 [3/7] COPY . .', '#7 DONE 0.0s', '#8 [4/7] RUN python -m pip install --no-cache-dir -e .', '#8 2.174 Obtaining file:///app', '#8 2.177   Installing build dependencies: started', \"#8 4.260   Installing build dependencies: finished with status 'done'\", '#8 4.261   Checking if build backend supports build_editable: started', \"#8 4.455   Checking if build backend supports build_editable: finished with status 'done'\", '#8 4.456   Getting requirements to build editable: started', \"#8 4.673   Getting requirements to build editable: finished with status 'done'\", '#8 4.675   Preparing editable metadata (pyproject.toml): started', \"#8 4.916   Preparing editable metadata (pyproject.toml): finished with status 'done'\", '#8 5.674 Collecting boto3>=1.39.9', '#8 5.716   Downloading boto3-1.39.14-py3-none-any.whl (139 kB)', '#8 5.739      ━━━━━━━━━━━━━━━━━━━━━━━━━━━━━━━━━━━━━━━ 139.9/139.9 kB 6.5 MB/s eta 0:00:00', '#8 5.753 Collecting bedrock-agentcore>=0.1.0', '#8 5.758   Downloading bedrock_agentcore-0.1.1-py3-none-any.whl (48 kB)', '#8 5.760      ━━━━━━━━━━━━━━━━━━━━━━━━━━━━━━━━━━━━━━━ 48.9/48.9 kB 278.9 MB/s eta 0:00:00', '#8 5.776 Collecting bedrock-agentcore-starter-toolkit>=0.1.0', '#8 5.780   Downloading bedrock_agentcore_starter_toolkit-0.1.2-py3-none-any.whl (77 kB)', '#8 5.783      ━━━━━━━━━━━━━━━━━━━━━━━━━━━━━━━━━━━━━━━ 77.9/77.9 kB 290.4 MB/s eta 0:00:00', '#8 5.802 Collecting strands-agents>=1.0.1', '#8 5.806   Downloading strands_agents-1.1.0-py3-none-any.whl (163 kB)', '#8 5.809      ━━━━━━━━━━━━━━━━━━━━━━━━━━━━━━━━━━━━━ 163.8/163.8 kB 327.9 MB/s eta 0:00:00', '#8 5.827 Collecting strands-agents-tools>=0.2.1', '#8 5.833   Downloading strands_agents_tools-0.2.2-py3-none-any.whl (247 kB)', '#8 5.836      ━━━━━━━━━━━━━━━━━━━━━━━━━━━━━━━━━━━━━ 247.7/247.7 kB 325.5 MB/s eta 0:00:00', '#8 6.391 Collecting uv>=0.8.0', '#8 6.396   Downloading uv-0.8.3-py3-none-manylinux_2_17_x86_64.manylinux2014_x86_64.whl (18.7 MB)', '#8 6.479      ━━━━━━━━━━━━━━━━━━━━━━━━━━━━━━━━━━━━━━━ 18.7/18.7 MB 271.8 MB/s eta 0:00:00', '#8 6.578 Collecting typing-extensions<5.0.0,>=4.13.2', '#8 6.581   Downloading typing_extensions-4.14.1-py3-none-any.whl (43 kB)', '#8 6.584      ━━━━━━━━━━━━━━━━━━━━━━━━━━━━━━━━━━━━━━━ 43.9/43.9 kB 259.2 MB/s eta 0:00:00', '#8 6.639 Collecting urllib3>=1.26.0', '#8 6.643   Downloading urllib3-2.5.0-py3-none-any.whl (129 kB)', '#8 6.646      ━━━━━━━━━━━━━━━━━━━━━━━━━━━━━━━━━━━━━ 129.8/129.8 kB 305.3 MB/s eta 0:00:00', '#8 6.691 Collecting uvicorn>=0.34.2', '#8 6.694   Downloading uvicorn-0.35.0-py3-none-any.whl (66 kB)', '#8 6.697      ━━━━━━━━━━━━━━━━━━━━━━━━━━━━━━━━━━━━━━━ 66.4/66.4 kB 295.7 MB/s eta 0:00:00', '#8 7.619 Collecting botocore>=1.39.7', '#8 7.623   Downloading botocore-1.39.14-py3-none-any.whl (13.9 MB)', '#8 7.674      ━━━━━━━━━━━━━━━━━━━━━━━━━━━━━━━━━━━━━━━ 13.9/13.9 MB 306.0 MB/s eta 0:00:00', '#8 7.783 Collecting starlette>=0.46.2', '#8 7.787   Downloading starlette-0.47.2-py3-none-any.whl (72 kB)', '#8 7.792      ━━━━━━━━━━━━━━━━━━━━━━━━━━━━━━━━━━━━━━━ 73.0/73.0 kB 160.8 MB/s eta 0:00:00', '#8 8.090 Collecting pydantic<3.0.0,>=2.0.0', '#8 8.094   Downloading pydantic-2.11.7-py3-none-any.whl (444 kB)', '#8 8.098      ━━━━━━━━━━━━━━━━━━━━━━━━━━━━━━━━━━━━━ 444.8/444.8 kB 353.5 MB/s eta 0:00:00', '#8 8.138 Collecting jinja2>=3.1.6', '#8 8.141   Downloading jinja2-3.1.6-py3-none-any.whl (134 kB)', '#8 8.144      ━━━━━━━━━━━━━━━━━━━━━━━━━━━━━━━━━━━━━ 134.9/134.9 kB 318.5 MB/s eta 0:00:00', '#8 8.249 Collecting rich<15.0.0,>=14.0.0', '#8 8.253   Downloading rich-14.1.0-py3-none-any.whl (243 kB)', '#8 8.257      ━━━━━━━━━━━━━━━━━━━━━━━━━━━━━━━━━━━━━ 243.4/243.4 kB 344.7 MB/s eta 0:00:00', '#8 8.297 Collecting httpx>=0.28.1', '#8 8.301   Downloading httpx-0.28.1-py3-none-any.whl (73 kB)', '#8 8.303      ━━━━━━━━━━━━━━━━━━━━━━━━━━━━━━━━━━━━━━━ 73.5/73.5 kB 276.0 MB/s eta 0:00:00', '#8 8.321 Collecting docstring-parser<1.0,>=0.15', '#8 8.324   Downloading docstring_parser-0.17.0-py3-none-any.whl (36 kB)', '#8 8.338 Collecting toml>=0.10.2', '#8 8.341   Downloading toml-0.10.2-py2.py3-none-any.whl (16 kB)', '#8 8.398 Collecting prompt-toolkit>=3.0.51', '#8 8.402   Downloading prompt_toolkit-3.0.51-py3-none-any.whl (387 kB)', '#8 8.406      ━━━━━━━━━━━━━━━━━━━━━━━━━━━━━━━━━━━━━ 387.8/387.8 kB 349.3 MB/s eta 0:00:00', '#8 8.440 Collecting typer>=0.16.0', '#8 8.444   Downloading typer-0.16.0-py3-none-any.whl (46 kB)', '#8 8.447      ━━━━━━━━━━━━━━━━━━━━━━━━━━━━━━━━━━━━━━━ 46.3/46.3 kB 251.4 MB/s eta 0:00:00', '#8 8.494 Collecting requests>=2.25.0', '#8 8.497   Downloading requests-2.32.4-py3-none-any.whl (64 kB)', '#8 8.500      ━━━━━━━━━━━━━━━━━━━━━━━━━━━━━━━━━━━━━━━ 64.8/64.8 kB 283.6 MB/s eta 0:00:00', '#8 8.583 Collecting pyyaml>=6.0.2', '#8 8.587   Downloading PyYAML-6.0.2-cp310-cp310-manylinux_2_17_x86_64.manylinux2014_x86_64.whl (751 kB)', '#8 8.592      ━━━━━━━━━━━━━━━━━━━━━━━━━━━━━━━━━━━━━ 751.2/751.2 kB 359.5 MB/s eta 0:00:00', '#8 8.616 Collecting jmespath<2.0.0,>=0.7.1', '#8 8.620   Downloading jmespath-1.0.1-py3-none-any.whl (20 kB)', '#8 8.651 Collecting s3transfer<0.14.0,>=0.13.0', '#8 8.654   Downloading s3transfer-0.13.1-py3-none-any.whl (85 kB)', '#8 8.657      ━━━━━━━━━━━━━━━━━━━━━━━━━━━━━━━━━━━━━━━ 85.3/85.3 kB 297.4 MB/s eta 0:00:00', '#8 8.991 Collecting opentelemetry-instrumentation-threading<1.00b0,>=0.51b0', '#8 8.995   Downloading opentelemetry_instrumentation_threading-0.56b0-py3-none-any.whl (9.3 kB)', '#8 9.110 Collecting watchdog<7.0.0,>=6.0.0', '#8 9.114   Downloading watchdog-6.0.0-py3-none-manylinux2014_x86_64.whl (79 kB)', '#8 9.117      ━━━━━━━━━━━━━━━━━━━━━━━━━━━━━━━━━━━━━━━ 79.1/79.1 kB 301.0 MB/s eta 0:00:00', '#8 9.304 Collecting opentelemetry-api<2.0.0,>=1.30.0', '#8 9.308   Downloading opentelemetry_api-1.35.0-py3-none-any.whl (65 kB)', '#8 9.311      ━━━━━━━━━━━━━━━━━━━━━━━━━━━━━━━━━━━━━━━ 65.6/65.6 kB 223.1 MB/s eta 0:00:00', '#8 9.349 Collecting opentelemetry-sdk<2.0.0,>=1.30.0', '#8 9.352   Downloading opentelemetry_sdk-1.35.0-py3-none-any.whl (119 kB)', '#8 9.355      ━━━━━━━━━━━━━━━━━━━━━━━━━━━━━━━━━━━━━ 119.4/119.4 kB 323.4 MB/s eta 0:00:00', '#8 9.380 Collecting mcp<2.0.0,>=1.8.0', '#8 9.386   Downloading mcp-1.12.2-py3-none-any.whl (158 kB)', '#8 9.390      ━━━━━━━━━━━━━━━━━━━━━━━━━━━━━━━━━━━━━ 158.5/158.5 kB 303.7 MB/s eta 0:00:00', '#8 9.756 Collecting slack-bolt<2.0.0,>=1.23.0', '#8 9.767   Downloading slack_bolt-1.23.0-py2.py3-none-any.whl (229 kB)', '#8 9.770      ━━━━━━━━━━━━━━━━━━━━━━━━━━━━━━━━━━━━━ 229.7/229.7 kB 325.3 MB/s eta 0:00:00', '#8 9.793 Collecting dill<0.5.0,>=0.4.0', '#8 9.797   Downloading dill-0.4.0-py3-none-any.whl (119 kB)', '#8 9.800      ━━━━━━━━━━━━━━━━━━━━━━━━━━━━━━━━━━━━━ 119.7/119.7 kB 323.6 MB/s eta 0:00:00', '#8 9.816 Collecting aws-requests-auth<0.5.0,>=0.4.3', '#8 9.820   Downloading aws_requests_auth-0.4.3-py2.py3-none-any.whl (6.8 kB)', '#8 10.24 Collecting pillow<12.0.0,>=11.2.1', '#8 10.24   Downloading pillow-11.3.0-cp310-cp310-manylinux_2_27_x86_64.manylinux_2_28_x86_64.whl (6.6 MB)', '#8 10.28      ━━━━━━━━━━━━━━━━━━━━━━━━━━━━━━━━━━━━━━━━ 6.6/6.6 MB 182.0 MB/s eta 0:00:00', '#8 10.33 Collecting sympy<2.0.0,>=1.12.0', '#8 10.34   Downloading sympy-1.14.0-py3-none-any.whl (6.3 MB)', '#8 10.36      ━━━━━━━━━━━━━━━━━━━━━━━━━━━━━━━━━━━━━━━━ 6.3/6.3 MB 307.0 MB/s eta 0:00:00', '#8 10.42 Collecting pyjwt<3.0.0,>=2.10.1', '#8 10.42   Downloading PyJWT-2.10.1-py3-none-any.whl (22 kB)', '#8 10.45 Collecting tenacity<10.0.0,>=9.1.2', '#8 10.45   Downloading tenacity-9.1.2-py3-none-any.whl (28 kB)', '#8 10.47 Collecting markdownify<2.0.0,>=1.0.0', '#8 10.48   Downloading markdownify-1.1.0-py3-none-any.whl (13 kB)', '#8 10.50 Collecting readabilipy<1.0.0,>=0.2.0', '#8 10.50   Downloading readabilipy-0.3.0-py3-none-any.whl (22 kB)', '#8 10.56 Collecting python-dateutil<3.0.0,>=2.1', '#8 10.56   Downloading python_dateutil-2.9.0.post0-py2.py3-none-any.whl (229 kB)', '#8 10.57      ━━━━━━━━━━━━━━━━━━━━━━━━━━━━━━━━━━━━━ 229.9/229.9 kB 344.6 MB/s eta 0:00:00', '#8 10.63 Collecting anyio', '#8 10.63   Downloading anyio-4.9.0-py3-none-any.whl (100 kB)', '#8 10.63      ━━━━━━━━━━━━━━━━━━━━━━━━━━━━━━━━━━━━━ 100.9/100.9 kB 301.4 MB/s eta 0:00:00', '#8 10.65 Collecting idna', '#8 10.66   Downloading idna-3.10-py3-none-any.whl (70 kB)', '#8 10.66      ━━━━━━━━━━━━━━━━━━━━━━━━━━━━━━━━━━━━━━━ 70.4/70.4 kB 311.3 MB/s eta 0:00:00', '#8 10.69 Collecting certifi', '#8 10.69   Downloading certifi-2025.7.14-py3-none-any.whl (162 kB)', '#8 10.69      ━━━━━━━━━━━━━━━━━━━━━━━━━━━━━━━━━━━━━ 162.7/162.7 kB 344.1 MB/s eta 0:00:00', '#8 10.73 Collecting httpcore==1.*', '#8 10.73   Downloading httpcore-1.0.9-py3-none-any.whl (78 kB)', '#8 10.73      ━━━━━━━━━━━━━━━━━━━━━━━━━━━━━━━━━━━━━━━ 78.8/78.8 kB 304.2 MB/s eta 0:00:00', '#8 10.76 Collecting h11>=0.16', '#8 10.76   Downloading h11-0.16.0-py3-none-any.whl (37 kB)', '#8 10.95 Collecting MarkupSafe>=2.0', '#8 10.96   Downloading MarkupSafe-3.0.2-cp310-cp310-manylinux_2_17_x86_64.manylinux2014_x86_64.whl (20 kB)', '#8 10.99 Collecting beautifulsoup4<5,>=4.9', '#8 11.00   Downloading beautifulsoup4-4.13.4-py3-none-any.whl (187 kB)', '#8 11.00      ━━━━━━━━━━━━━━━━━━━━━━━━━━━━━━━━━━━━━ 187.3/187.3 kB 332.0 MB/s eta 0:00:00', '#8 11.02 Collecting six<2,>=1.15', '#8 11.02   Downloading six-1.17.0-py2.py3-none-any.whl (11 kB)', '#8 11.07 Collecting sse-starlette>=1.6.1', '#8 11.07   Downloading sse_starlette-2.4.1-py3-none-any.whl (10 kB)', '#8 11.12 Collecting jsonschema>=4.20.0', '#8 11.12   Downloading jsonschema-4.25.0-py3-none-any.whl (89 kB)', '#8 11.13      ━━━━━━━━━━━━━━━━━━━━━━━━━━━━━━━━━━━━━━━ 89.2/89.2 kB 315.8 MB/s eta 0:00:00', '#8 11.14 Collecting python-multipart>=0.0.9', '#8 11.15   Downloading python_multipart-0.0.20-py3-none-any.whl (24 kB)', '#8 11.18 Collecting httpx-sse>=0.4', '#8 11.19   Downloading httpx_sse-0.4.1-py3-none-any.whl (8.1 kB)', '#8 11.23 Collecting pydantic-settings>=2.5.2', '#8 11.23   Downloading pydantic_settings-2.10.1-py3-none-any.whl (45 kB)', '#8 11.23      ━━━━━━━━━━━━━━━━━━━━━━━━━━━━━━━━━━━━━━━ 45.2/45.2 kB 193.4 MB/s eta 0:00:00', '#8 11.32 Collecting importlib-metadata<8.8.0,>=6.0', '#8 11.32   Downloading importlib_metadata-8.7.0-py3-none-any.whl (27 kB)', '#8 11.36 Collecting opentelemetry-instrumentation==0.56b0', '#8 11.36   Downloading opentelemetry_instrumentation-0.56b0-py3-none-any.whl (31 kB)', '#8 11.59 Collecting wrapt<2.0.0,>=1.0.0', '#8 11.59   Downloading wrapt-1.17.2-cp310-cp310-manylinux_2_5_x86_64.manylinux1_x86_64.manylinux_2_17_x86_64.manylinux2014_x86_64.whl (82 kB)', '#8 11.60      ━━━━━━━━━━━━━━━━━━━━━━━━━━━━━━━━━━━━━━━ 82.8/82.8 kB 295.1 MB/s eta 0:00:00', '#8 11.65 Collecting packaging>=18.0', '#8 11.66   Downloading packaging-25.0-py3-none-any.whl (66 kB)', '#8 11.66      ━━━━━━━━━━━━━━━━━━━━━━━━━━━━━━━━━━━━━━━ 66.5/66.5 kB 271.4 MB/s eta 0:00:00', '#8 11.69 Collecting opentelemetry-semantic-conventions==0.56b0', '#8 11.69   Downloading opentelemetry_semantic_conventions-0.56b0-py3-none-any.whl (201 kB)', '#8 11.69      ━━━━━━━━━━━━━━━━━━━━━━━━━━━━━━━━━━━━━ 201.6/201.6 kB 335.0 MB/s eta 0:00:00', '#8 11.76 Collecting wcwidth', '#8 11.76   Downloading wcwidth-0.2.13-py2.py3-none-any.whl (34 kB)', '#8 11.78 Collecting typing-inspection>=0.4.0', '#8 11.79   Downloading typing_inspection-0.4.1-py3-none-any.whl (14 kB)', '#8 13.59 Collecting pydantic-core==2.33.2', '#8 13.59   Downloading pydantic_core-2.33.2-cp310-cp310-manylinux_2_17_x86_64.manylinux2014_x86_64.whl (2.0 MB)', '#8 13.60      ━━━━━━━━━━━━━━━━━━━━━━━━━━━━━━━━━━━━━━━━ 2.0/2.0 MB 301.9 MB/s eta 0:00:00', '#8 13.63 Collecting annotated-types>=0.6.0', '#8 13.63   Downloading annotated_types-0.7.0-py3-none-any.whl (13 kB)', '#8 14.50 Collecting regex', '#8 14.50   Downloading regex-2024.11.6-cp310-cp310-manylinux_2_17_x86_64.manylinux2014_x86_64.whl (781 kB)', '#8 14.51      ━━━━━━━━━━━━━━━━━━━━━━━━━━━━━━━━━━━━━ 781.7/781.7 kB 360.0 MB/s eta 0:00:00', '#8 15.12 Collecting lxml', '#8 15.13   Downloading lxml-6.0.0-cp310-cp310-manylinux_2_27_x86_64.manylinux_2_28_x86_64.whl (5.3 MB)', '#8 15.15      ━━━━━━━━━━━━━━━━━━━━━━━━━━━━━━━━━━━━━━━━ 5.3/5.3 MB 265.2 MB/s eta 0:00:00', '#8 15.18 Collecting html5lib', '#8 15.18   Downloading html5lib-1.1-py2.py3-none-any.whl (112 kB)', '#8 15.19      ━━━━━━━━━━━━━━━━━━━━━━━━━━━━━━━━━━━━━ 112.2/112.2 kB 334.5 MB/s eta 0:00:00', '#8 15.41 Collecting charset_normalizer<4,>=2', '#8 15.41   Downloading charset_normalizer-3.4.2-cp310-cp310-manylinux_2_17_x86_64.manylinux2014_x86_64.whl (149 kB)', '#8 15.41      ━━━━━━━━━━━━━━━━━━━━━━━━━━━━━━━━━━━━━ 149.5/149.5 kB 342.0 MB/s eta 0:00:00', '#8 15.46 Collecting pygments<3.0.0,>=2.13.0', '#8 15.47   Downloading pygments-2.19.2-py3-none-any.whl (1.2 MB)', '#8 15.47      ━━━━━━━━━━━━━━━━━━━━━━━━━━━━━━━━━━━━━━━━ 1.2/1.2 MB 377.7 MB/s eta 0:00:00', '#8 15.51 Collecting markdown-it-py>=2.2.0', '#8 15.51   Downloading markdown_it_py-3.0.0-py3-none-any.whl (87 kB)', '#8 15.51      ━━━━━━━━━━━━━━━━━━━━━━━━━━━━━━━━━━━━━━━ 87.5/87.5 kB 319.6 MB/s eta 0:00:00', '#8 15.73 Collecting slack_sdk<4,>=3.35.0', '#8 15.74   Downloading slack_sdk-3.36.0-py2.py3-none-any.whl (293 kB)', '#8 15.74      ━━━━━━━━━━━━━━━━━━━━━━━━━━━━━━━━━━━━━ 293.9/293.9 kB 241.0 MB/s eta 0:00:00', '#8 15.79 Collecting mpmath<1.4,>=1.1.0', '#8 15.79   Downloading mpmath-1.3.0-py3-none-any.whl (536 kB)', '#8 15.80      ━━━━━━━━━━━━━━━━━━━━━━━━━━━━━━━━━━━━━ 536.2/536.2 kB 364.1 MB/s eta 0:00:00', '#8 15.87 Collecting shellingham>=1.3.0', '#8 15.88   Downloading shellingham-1.5.4-py2.py3-none-any.whl (9.8 kB)', '#8 15.90 Collecting click>=8.0.0', '#8 15.91   Downloading click-8.2.1-py3-none-any.whl (102 kB)', '#8 15.91      ━━━━━━━━━━━━━━━━━━━━━━━━━━━━━━━━━━━━━ 102.2/102.2 kB 325.2 MB/s eta 0:00:00', '#8 16.01 Collecting sniffio>=1.1', '#8 16.01   Downloading sniffio-1.3.1-py3-none-any.whl (10 kB)', '#8 16.03 Collecting exceptiongroup>=1.0.2', '#8 16.04   Downloading exceptiongroup-1.3.0-py3-none-any.whl (16 kB)', '#8 16.08 Collecting soupsieve>1.2', '#8 16.08   Downloading soupsieve-2.7-py3-none-any.whl (36 kB)', '#8 16.19 Collecting zipp>=3.20', '#8 16.19   Downloading zipp-3.23.0-py3-none-any.whl (10 kB)', '#8 16.23 Collecting jsonschema-specifications>=2023.03.6', '#8 16.23   Downloading jsonschema_specifications-2025.4.1-py3-none-any.whl (18 kB)', '#8 16.28 Collecting referencing>=0.28.4', '#8 16.29   Downloading referencing-0.36.2-py3-none-any.whl (26 kB)', '#8 16.97 Collecting rpds-py>=0.7.1', '#8 16.98   Downloading rpds_py-0.26.0-cp310-cp310-manylinux_2_17_x86_64.manylinux2014_x86_64.whl (383 kB)', '#8 16.98      ━━━━━━━━━━━━━━━━━━━━━━━━━━━━━━━━━━━━━ 383.8/383.8 kB 330.9 MB/s eta 0:00:00', '#8 17.01 Collecting attrs>=22.2.0', '#8 17.01   Downloading attrs-25.3.0-py3-none-any.whl (63 kB)', '#8 17.02      ━━━━━━━━━━━━━━━━━━━━━━━━━━━━━━━━━━━━━━━ 63.8/63.8 kB 269.7 MB/s eta 0:00:00', '#8 17.06 Collecting mdurl~=0.1', '#8 17.06   Downloading mdurl-0.1.2-py3-none-any.whl (10.0 kB)', '#8 17.12 Collecting python-dotenv>=0.21.0', '#8 17.13   Downloading python_dotenv-1.1.1-py3-none-any.whl (20 kB)', '#8 17.27 Collecting webencodings', '#8 17.28   Downloading webencodings-0.5.1-py2.py3-none-any.whl (11 kB)', '#8 17.53 Building wheels for collected packages: 01-strands-with-bedrock-model', '#8 17.53   Building editable for 01-strands-with-bedrock-model (pyproject.toml): started', \"#8 17.78   Building editable for 01-strands-with-bedrock-model (pyproject.toml): finished with status 'done'\", '#8 17.78   Created wheel for 01-strands-with-bedrock-model: filename=01_strands_with_bedrock_model-0.1.0-0.editable-py3-none-any.whl size=3691 sha256=e816a7b57b4c08f03735004192f977e8bdcced6dfc9e44d966c1f40a6350df6f', '#8 17.78   Stored in directory: /tmp/pip-ephem-wheel-cache-alxcr51o/wheels/9b/2c/d1/15e20a2b97f37ccf65a87ba1049c73a9076d0bf0fbaf814e83', '#8 17.78 Successfully built 01-strands-with-bedrock-model', '#8 18.34 Installing collected packages: webencodings, wcwidth, mpmath, zipp, wrapt, watchdog, uv, urllib3, typing-extensions, toml, tenacity, sympy, soupsieve, sniffio, slack_sdk, six, shellingham, rpds-py, regex, pyyaml, python-multipart, python-dotenv, pyjwt, pygments, prompt-toolkit, pillow, packaging, mdurl, MarkupSafe, lxml, jmespath, idna, httpx-sse, h11, docstring-parser, dill, click, charset_normalizer, certifi, attrs, annotated-types, uvicorn, typing-inspection, slack-bolt, requests, referencing, python-dateutil, pydantic-core, markdown-it-py, jinja2, importlib-metadata, httpcore, html5lib, exceptiongroup, beautifulsoup4, rich, readabilipy, pydantic, opentelemetry-api, markdownify, jsonschema-specifications, botocore, aws-requests-auth, anyio, typer, starlette, sse-starlette, s3transfer, pydantic-settings, opentelemetry-semantic-conventions, jsonschema, httpx, opentelemetry-sdk, opentelemetry-instrumentation, mcp, boto3, opentelemetry-instrumentation-threading, bedrock-agentcore, strands-agents, bedrock-agentcore-starter-toolkit, strands-agents-tools, 01-strands-with-bedrock-model', '#8 30.64 Successfully installed 01-strands-with-bedrock-model-0.1.0 MarkupSafe-3.0.2 annotated-types-0.7.0 anyio-4.9.0 attrs-25.3.0 aws-requests-auth-0.4.3 beautifulsoup4-4.13.4 bedrock-agentcore-0.1.1 bedrock-agentcore-starter-toolkit-0.1.2 boto3-1.39.14 botocore-1.39.14 certifi-2025.7.14 charset_normalizer-3.4.2 click-8.2.1 dill-0.4.0 docstring-parser-0.17.0 exceptiongroup-1.3.0 h11-0.16.0 html5lib-1.1 httpcore-1.0.9 httpx-0.28.1 httpx-sse-0.4.1 idna-3.10 importlib-metadata-8.7.0 jinja2-3.1.6 jmespath-1.0.1 jsonschema-4.25.0 jsonschema-specifications-2025.4.1 lxml-6.0.0 markdown-it-py-3.0.0 markdownify-1.1.0 mcp-1.12.2 mdurl-0.1.2 mpmath-1.3.0 opentelemetry-api-1.35.0 opentelemetry-instrumentation-0.56b0 opentelemetry-instrumentation-threading-0.56b0 opentelemetry-sdk-1.35.0 opentelemetry-semantic-conventions-0.56b0 packaging-25.0 pillow-11.3.0 prompt-toolkit-3.0.51 pydantic-2.11.7 pydantic-core-2.33.2 pydantic-settings-2.10.1 pygments-2.19.2 pyjwt-2.10.1 python-dateutil-2.9.0.post0 python-dotenv-1.1.1 python-multipart-0.0.20 pyyaml-6.0.2 readabilipy-0.3.0 referencing-0.36.2 regex-2024.11.6 requests-2.32.4 rich-14.1.0 rpds-py-0.26.0 s3transfer-0.13.1 shellingham-1.5.4 six-1.17.0 slack-bolt-1.23.0 slack_sdk-3.36.0 sniffio-1.3.1 soupsieve-2.7 sse-starlette-2.4.1 starlette-0.47.2 strands-agents-1.1.0 strands-agents-tools-0.2.2 sympy-1.14.0 tenacity-9.1.2 toml-0.10.2 typer-0.16.0 typing-extensions-4.14.1 typing-inspection-0.4.1 urllib3-2.5.0 uv-0.8.3 uvicorn-0.35.0 watchdog-6.0.0 wcwidth-0.2.13 webencodings-0.5.1 wrapt-1.17.2 zipp-3.23.0', \"#8 30.64 WARNING: Running pip as the 'root' user can result in broken permissions and conflicting behaviour with the system package manager. It is recommended to use a virtual environment instead: https://pip.pypa.io/warnings/venv\", '#8 30.76', '#8 30.76 [notice] A new release of pip is available: 23.0.1 -> 25.1.1', '#8 30.76 [notice] To update, run: pip install --upgrade pip', '#8 DONE 32.0s', '#9 [5/7] RUN python -m pip install --no-cache-dir -r requirements.txt', '#9 0.557 Requirement already satisfied: strands-agents in /usr/local/lib/python3.10/site-packages (from -r requirements.txt (line 1)) (1.1.0)', '#9 0.558 Requirement already satisfied: strands-agents-tools in /usr/local/lib/python3.10/site-packages (from -r requirements.txt (line 2)) (0.2.2)', '#9 0.558 Requirement already satisfied: uv in /usr/local/lib/python3.10/site-packages (from -r requirements.txt (line 3)) (0.8.3)', '#9 0.559 Requirement already satisfied: boto3 in /usr/local/lib/python3.10/site-packages (from -r requirements.txt (line 4)) (1.39.14)', '#9 0.560 Requirement already satisfied: bedrock-agentcore in /usr/local/lib/python3.10/site-packages (from -r requirements.txt (line 5)) (0.1.1)', '#9 0.560 Requirement already satisfied: bedrock-agentcore-starter-toolkit in /usr/local/lib/python3.10/site-packages (from -r requirements.txt (line 6)) (0.1.2)', '#9 0.622 Requirement already satisfied: opentelemetry-api<2.0.0,>=1.30.0 in /usr/local/lib/python3.10/site-packages (from strands-agents->-r requirements.txt (line 1)) (1.35.0)', '#9 0.623 Requirement already satisfied: typing-extensions<5.0.0,>=4.13.2 in /usr/local/lib/python3.10/site-packages (from strands-agents->-r requirements.txt (line 1)) (4.14.1)', '#9 0.624 Requirement already satisfied: pydantic<3.0.0,>=2.0.0 in /usr/local/lib/python3.10/site-packages (from strands-agents->-r requirements.txt (line 1)) (2.11.7)', '#9 0.624 Requirement already satisfied: mcp<2.0.0,>=1.8.0 in /usr/local/lib/python3.10/site-packages (from strands-agents->-r requirements.txt (line 1)) (1.12.2)', '#9 0.625 Requirement already satisfied: opentelemetry-instrumentation-threading<1.00b0,>=0.51b0 in /usr/local/lib/python3.10/site-packages (from strands-agents->-r requirements.txt (line 1)) (0.56b0)', '#9 0.627 Requirement already satisfied: watchdog<7.0.0,>=6.0.0 in /usr/local/lib/python3.10/site-packages (from strands-agents->-r requirements.txt (line 1)) (6.0.0)', '#9 0.627 Requirement already satisfied: opentelemetry-sdk<2.0.0,>=1.30.0 in /usr/local/lib/python3.10/site-packages (from strands-agents->-r requirements.txt (line 1)) (1.35.0)', '#9 0.628 Requirement already satisfied: botocore<2.0.0,>=1.29.0 in /usr/local/lib/python3.10/site-packages (from strands-agents->-r requirements.txt (line 1)) (1.39.14)', '#9 0.629 Requirement already satisfied: docstring-parser<1.0,>=0.15 in /usr/local/lib/python3.10/site-packages (from strands-agents->-r requirements.txt (line 1)) (0.17.0)', '#9 0.670 Requirement already satisfied: dill<0.5.0,>=0.4.0 in /usr/local/lib/python3.10/site-packages (from strands-agents-tools->-r requirements.txt (line 2)) (0.4.0)', '#9 0.671 Requirement already satisfied: slack-bolt<2.0.0,>=1.23.0 in /usr/local/lib/python3.10/site-packages (from strands-agents-tools->-r requirements.txt (line 2)) (1.23.0)', '#9 0.672 Requirement already satisfied: prompt-toolkit<4.0.0,>=3.0.51 in /usr/local/lib/python3.10/site-packages (from strands-agents-tools->-r requirements.txt (line 2)) (3.0.51)', '#9 0.673 Requirement already satisfied: rich<15.0.0,>=14.0.0 in /usr/local/lib/python3.10/site-packages (from strands-agents-tools->-r requirements.txt (line 2)) (14.1.0)', '#9 0.674 Requirement already satisfied: markdownify<2.0.0,>=1.0.0 in /usr/local/lib/python3.10/site-packages (from strands-agents-tools->-r requirements.txt (line 2)) (1.1.0)', '#9 0.675 Requirement already satisfied: pillow<12.0.0,>=11.2.1 in /usr/local/lib/python3.10/site-packages (from strands-agents-tools->-r requirements.txt (line 2)) (11.3.0)', '#9 0.676 Requirement already satisfied: pyjwt<3.0.0,>=2.10.1 in /usr/local/lib/python3.10/site-packages (from strands-agents-tools->-r requirements.txt (line 2)) (2.10.1)', '#9 0.677 Requirement already satisfied: aws-requests-auth<0.5.0,>=0.4.3 in /usr/local/lib/python3.10/site-packages (from strands-agents-tools->-r requirements.txt (line 2)) (0.4.3)', '#9 0.678 Requirement already satisfied: tenacity<10.0.0,>=9.1.2 in /usr/local/lib/python3.10/site-packages (from strands-agents-tools->-r requirements.txt (line 2)) (9.1.2)', '#9 0.679 Requirement already satisfied: sympy<2.0.0,>=1.12.0 in /usr/local/lib/python3.10/site-packages (from strands-agents-tools->-r requirements.txt (line 2)) (1.14.0)', '#9 0.680 Requirement already satisfied: readabilipy<1.0.0,>=0.2.0 in /usr/local/lib/python3.10/site-packages (from strands-agents-tools->-r requirements.txt (line 2)) (0.3.0)', '#9 0.686 Requirement already satisfied: s3transfer<0.14.0,>=0.13.0 in /usr/local/lib/python3.10/site-packages (from boto3->-r requirements.txt (line 4)) (0.13.1)', '#9 0.687 Requirement already satisfied: jmespath<2.0.0,>=0.7.1 in /usr/local/lib/python3.10/site-packages (from boto3->-r requirements.txt (line 4)) (1.0.1)', '#9 0.694 Requirement already satisfied: starlette>=0.46.2 in /usr/local/lib/python3.10/site-packages (from bedrock-agentcore->-r requirements.txt (line 5)) (0.47.2)', '#9 0.694 Requirement already satisfied: urllib3>=1.26.0 in /usr/local/lib/python3.10/site-packages (from bedrock-agentcore->-r requirements.txt (line 5)) (2.5.0)', '#9 0.695 Requirement already satisfied: uvicorn>=0.34.2 in /usr/local/lib/python3.10/site-packages (from bedrock-agentcore->-r requirements.txt (line 5)) (0.35.0)', '#9 0.705 Requirement already satisfied: toml>=0.10.2 in /usr/local/lib/python3.10/site-packages (from bedrock-agentcore-starter-toolkit->-r requirements.txt (line 6)) (0.10.2)', '#9 0.706 Requirement already satisfied: requests>=2.25.0 in /usr/local/lib/python3.10/site-packages (from bedrock-agentcore-starter-toolkit->-r requirements.txt (line 6)) (2.32.4)', '#9 0.708 Requirement already satisfied: jinja2>=3.1.6 in /usr/local/lib/python3.10/site-packages (from bedrock-agentcore-starter-toolkit->-r requirements.txt (line 6)) (3.1.6)', '#9 0.709 Requirement already satisfied: httpx>=0.28.1 in /usr/local/lib/python3.10/site-packages (from bedrock-agentcore-starter-toolkit->-r requirements.txt (line 6)) (0.28.1)', '#9 0.710 Requirement already satisfied: typer>=0.16.0 in /usr/local/lib/python3.10/site-packages (from bedrock-agentcore-starter-toolkit->-r requirements.txt (line 6)) (0.16.0)', '#9 0.711 Requirement already satisfied: pyyaml>=6.0.2 in /usr/local/lib/python3.10/site-packages (from bedrock-agentcore-starter-toolkit->-r requirements.txt (line 6)) (6.0.2)', '#9 0.721 Requirement already satisfied: python-dateutil<3.0.0,>=2.1 in /usr/local/lib/python3.10/site-packages (from botocore<2.0.0,>=1.29.0->strands-agents->-r requirements.txt (line 1)) (2.9.0.post0)', '#9 0.742 Requirement already satisfied: idna in /usr/local/lib/python3.10/site-packages (from httpx>=0.28.1->bedrock-agentcore-starter-toolkit->-r requirements.txt (line 6)) (3.10)', '#9 0.743 Requirement already satisfied: anyio in /usr/local/lib/python3.10/site-packages (from httpx>=0.28.1->bedrock-agentcore-starter-toolkit->-r requirements.txt (line 6)) (4.9.0)', '#9 0.744 Requirement already satisfied: httpcore==1.* in /usr/local/lib/python3.10/site-packages (from httpx>=0.28.1->bedrock-agentcore-starter-toolkit->-r requirements.txt (line 6)) (1.0.9)', '#9 0.744 Requirement already satisfied: certifi in /usr/local/lib/python3.10/site-packages (from httpx>=0.28.1->bedrock-agentcore-starter-toolkit->-r requirements.txt (line 6)) (2025.7.14)', '#9 0.751 Requirement already satisfied: h11>=0.16 in /usr/local/lib/python3.10/site-packages (from httpcore==1.*->httpx>=0.28.1->bedrock-agentcore-starter-toolkit->-r requirements.txt (line 6)) (0.16.0)', '#9 0.755 Requirement already satisfied: MarkupSafe>=2.0 in /usr/local/lib/python3.10/site-packages (from jinja2>=3.1.6->bedrock-agentcore-starter-toolkit->-r requirements.txt (line 6)) (3.0.2)', '#9 0.761 Requirement already satisfied: beautifulsoup4<5,>=4.9 in /usr/local/lib/python3.10/site-packages (from markdownify<2.0.0,>=1.0.0->strands-agents-tools->-r requirements.txt (line 2)) (4.13.4)', '#9 0.763 Requirement already satisfied: six<2,>=1.15 in /usr/local/lib/python3.10/site-packages (from markdownify<2.0.0,>=1.0.0->strands-agents-tools->-r requirements.txt (line 2)) (1.17.0)', '#9 0.779 Requirement already satisfied: httpx-sse>=0.4 in /usr/local/lib/python3.10/site-packages (from mcp<2.0.0,>=1.8.0->strands-agents->-r requirements.txt (line 1)) (0.4.1)', '#9 0.780 Requirement already satisfied: python-multipart>=0.0.9 in /usr/local/lib/python3.10/site-packages (from mcp<2.0.0,>=1.8.0->strands-agents->-r requirements.txt (line 1)) (0.0.20)', '#9 0.781 Requirement already satisfied: pydantic-settings>=2.5.2 in /usr/local/lib/python3.10/site-packages (from mcp<2.0.0,>=1.8.0->strands-agents->-r requirements.txt (line 1)) (2.10.1)', '#9 0.782 Requirement already satisfied: jsonschema>=4.20.0 in /usr/local/lib/python3.10/site-packages (from mcp<2.0.0,>=1.8.0->strands-agents->-r requirements.txt (line 1)) (4.25.0)', '#9 0.783 Requirement already satisfied: sse-starlette>=1.6.1 in /usr/local/lib/python3.10/site-packages (from mcp<2.0.0,>=1.8.0->strands-agents->-r requirements.txt (line 1)) (2.4.1)', '#9 0.787 Requirement already satisfied: importlib-metadata<8.8.0,>=6.0 in /usr/local/lib/python3.10/site-packages (from opentelemetry-api<2.0.0,>=1.30.0->strands-agents->-r requirements.txt (line 1)) (8.7.0)', '#9 0.793 Requirement already satisfied: wrapt<2.0.0,>=1.0.0 in /usr/local/lib/python3.10/site-packages (from opentelemetry-instrumentation-threading<1.00b0,>=0.51b0->strands-agents->-r requirements.txt (line 1)) (1.17.2)', '#9 0.794 Requirement already satisfied: opentelemetry-instrumentation==0.56b0 in /usr/local/lib/python3.10/site-packages (from opentelemetry-instrumentation-threading<1.00b0,>=0.51b0->strands-agents->-r requirements.txt (line 1)) (0.56b0)', '#9 0.800 Requirement already satisfied: packaging>=18.0 in /usr/local/lib/python3.10/site-packages (from opentelemetry-instrumentation==0.56b0->opentelemetry-instrumentation-threading<1.00b0,>=0.51b0->strands-agents->-r requirements.txt (line 1)) (25.0)', '#9 0.801 Requirement already satisfied: opentelemetry-semantic-conventions==0.56b0 in /usr/local/lib/python3.10/site-packages (from opentelemetry-instrumentation==0.56b0->opentelemetry-instrumentation-threading<1.00b0,>=0.51b0->strands-agents->-r requirements.txt (line 1)) (0.56b0)', '#9 0.833 Requirement already satisfied: wcwidth in /usr/local/lib/python3.10/site-packages (from prompt-toolkit<4.0.0,>=3.0.51->strands-agents-tools->-r requirements.txt (line 2)) (0.2.13)', '#9 0.844 Requirement already satisfied: annotated-types>=0.6.0 in /usr/local/lib/python3.10/site-packages (from pydantic<3.0.0,>=2.0.0->strands-agents->-r requirements.txt (line 1)) (0.7.0)', '#9 0.845 Requirement already satisfied: typing-inspection>=0.4.0 in /usr/local/lib/python3.10/site-packages (from pydantic<3.0.0,>=2.0.0->strands-agents->-r requirements.txt (line 1)) (0.4.1)', '#9 0.846 Requirement already satisfied: pydantic-core==2.33.2 in /usr/local/lib/python3.10/site-packages (from pydantic<3.0.0,>=2.0.0->strands-agents->-r requirements.txt (line 1)) (2.33.2)', '#9 0.903 Requirement already satisfied: html5lib in /usr/local/lib/python3.10/site-packages (from readabilipy<1.0.0,>=0.2.0->strands-agents-tools->-r requirements.txt (line 2)) (1.1)', '#9 0.904 Requirement already satisfied: lxml in /usr/local/lib/python3.10/site-packages (from readabilipy<1.0.0,>=0.2.0->strands-agents-tools->-r requirements.txt (line 2)) (6.0.0)', '#9 0.905 Requirement already satisfied: regex in /usr/local/lib/python3.10/site-packages (from readabilipy<1.0.0,>=0.2.0->strands-agents-tools->-r requirements.txt (line 2)) (2024.11.6)', '#9 0.914 Requirement already satisfied: charset_normalizer<4,>=2 in /usr/local/lib/python3.10/site-packages (from requests>=2.25.0->bedrock-agentcore-starter-toolkit->-r requirements.txt (line 6)) (3.4.2)', '#9 0.921 Requirement already satisfied: pygments<3.0.0,>=2.13.0 in /usr/local/lib/python3.10/site-packages (from rich<15.0.0,>=14.0.0->strands-agents-tools->-r requirements.txt (line 2)) (2.19.2)', '#9 0.922 Requirement already satisfied: markdown-it-py>=2.2.0 in /usr/local/lib/python3.10/site-packages (from rich<15.0.0,>=14.0.0->strands-agents-tools->-r requirements.txt (line 2)) (3.0.0)', '#9 0.933 Requirement already satisfied: slack_sdk<4,>=3.35.0 in /usr/local/lib/python3.10/site-packages (from slack-bolt<2.0.0,>=1.23.0->strands-agents-tools->-r requirements.txt (line 2)) (3.36.0)', '#9 0.951 Requirement already satisfied: mpmath<1.4,>=1.1.0 in /usr/local/lib/python3.10/site-packages (from sympy<2.0.0,>=1.12.0->strands-agents-tools->-r requirements.txt (line 2)) (1.3.0)', '#9 0.969 Requirement already satisfied: click>=8.0.0 in /usr/local/lib/python3.10/site-packages (from typer>=0.16.0->bedrock-agentcore-starter-toolkit->-r requirements.txt (line 6)) (8.2.1)', '#9 0.970 Requirement already satisfied: shellingham>=1.3.0 in /usr/local/lib/python3.10/site-packages (from typer>=0.16.0->bedrock-agentcore-starter-toolkit->-r requirements.txt (line 6)) (1.5.4)', '#9 1.031 Requirement already satisfied: exceptiongroup>=1.0.2 in /usr/local/lib/python3.10/site-packages (from anyio->httpx>=0.28.1->bedrock-agentcore-starter-toolkit->-r requirements.txt (line 6)) (1.3.0)', '#9 1.032 Requirement already satisfied: sniffio>=1.1 in /usr/local/lib/python3.10/site-packages (from anyio->httpx>=0.28.1->bedrock-agentcore-starter-toolkit->-r requirements.txt (line 6)) (1.3.1)', '#9 1.043 Requirement already satisfied: soupsieve>1.2 in /usr/local/lib/python3.10/site-packages (from beautifulsoup4<5,>=4.9->markdownify<2.0.0,>=1.0.0->strands-agents-tools->-r requirements.txt (line 2)) (2.7)', '#9 1.097 Requirement already satisfied: zipp>=3.20 in /usr/local/lib/python3.10/site-packages (from importlib-metadata<8.8.0,>=6.0->opentelemetry-api<2.0.0,>=1.30.0->strands-agents->-r requirements.txt (line 1)) (3.23.0)', '#9 1.117 Requirement already satisfied: jsonschema-specifications>=2023.03.6 in /usr/local/lib/python3.10/site-packages (from jsonschema>=4.20.0->mcp<2.0.0,>=1.8.0->strands-agents->-r requirements.txt (line 1)) (2025.4.1)', '#9 1.118 Requirement already satisfied: rpds-py>=0.7.1 in /usr/local/lib/python3.10/site-packages (from jsonschema>=4.20.0->mcp<2.0.0,>=1.8.0->strands-agents->-r requirements.txt (line 1)) (0.26.0)', '#9 1.119 Requirement already satisfied: referencing>=0.28.4 in /usr/local/lib/python3.10/site-packages (from jsonschema>=4.20.0->mcp<2.0.0,>=1.8.0->strands-agents->-r requirements.txt (line 1)) (0.36.2)', '#9 1.120 Requirement already satisfied: attrs>=22.2.0 in /usr/local/lib/python3.10/site-packages (from jsonschema>=4.20.0->mcp<2.0.0,>=1.8.0->strands-agents->-r requirements.txt (line 1)) (25.3.0)', '#9 1.145 Requirement already satisfied: mdurl~=0.1 in /usr/local/lib/python3.10/site-packages (from markdown-it-py>=2.2.0->rich<15.0.0,>=14.0.0->strands-agents-tools->-r requirements.txt (line 2)) (0.1.2)', '#9 1.174 Requirement already satisfied: python-dotenv>=0.21.0 in /usr/local/lib/python3.10/site-packages (from pydantic-settings>=2.5.2->mcp<2.0.0,>=1.8.0->strands-agents->-r requirements.txt (line 1)) (1.1.1)', '#9 1.246 Requirement already satisfied: webencodings in /usr/local/lib/python3.10/site-packages (from html5lib->readabilipy<1.0.0,>=0.2.0->strands-agents-tools->-r requirements.txt (line 2)) (0.5.1)', \"#9 1.463 WARNING: Running pip as the 'root' user can result in broken permissions and conflicting behaviour with the system package manager. It is recommended to use a virtual environment instead: https://pip.pypa.io/warnings/venv\", '#9 1.579', '#9 1.579 [notice] A new release of pip is available: 23.0.1 -> 25.1.1', '#9 1.579 [notice] To update, run: pip install --upgrade pip', '#9 DONE 1.7s', '#10 [6/7] RUN python -m pip install aws_opentelemetry_distro_genai_beta>=0.1.2', \"#10 9.802 ERROR: pip's dependency resolver does not currently take into account all the packages that are installed. This behaviour is the source of the following dependency conflicts.\", '#10 9.802 opentelemetry-instrumentation-threading 0.56b0 requires opentelemetry-instrumentation==0.56b0, but you have opentelemetry-instrumentation 0.54b1 which is incompatible.', \"#10 9.803 WARNING: Running pip as the 'root' user can result in broken permissions and conflicting behaviour with the system package manager. It is recommended to use a virtual environment instead: https://pip.pypa.io/warnings/venv\", '#10 9.816', '#10 9.816 [notice] A new release of pip is available: 23.0.1 -> 25.1.1', '#10 9.816 [notice] To update, run: pip install --upgrade pip', '#10 DONE 10.3s', '#11 [7/7] RUN useradd -m -u 1000 bedrock_agentcore', '#11 DONE 0.3s', '#12 exporting to image', '#12 exporting layers', '#12 exporting layers 2.6s done', '#12 writing image sha256:d749aeb96602372c10cc3ce8e74e7a0653a416628e0c728e555b8a73f0b3b6df done', '#12 naming to docker.io/library/bedrock_agentcore-strands_claude2:latest done', '#12 DONE 2.6s', ' \\x1b[33m1 warning found (use docker --debug to expand):', '\\x1b[0m - FromPlatformFlagConstDisallowed: FROM --platform flag should not use constant value \"linux/amd64\" (line 1)'])"
      ]
     },
     "execution_count": 40,
     "metadata": {},
     "output_type": "execute_result"
    }
   ],
   "source": [
    "launch_result = agentcore_runtime.launch()\n",
    "launch_result"
   ]
  },
  {
   "cell_type": "markdown",
   "id": "a0ae9c09-09db-4a76-871a-92eacd96b9c3",
   "metadata": {},
   "source": [
    "### AgentCore Runtime のステータス確認\n",
    "AgentCore Runtime をデプロイしたので、そのデプロイステータスを確認しましょう。"
   ]
  },
  {
   "cell_type": "code",
   "execution_count": null,
   "id": "afa6ac09-9adb-4846-9fc1-4d12aeb74853",
   "metadata": {},
   "outputs": [],
   "source": [
    "status_response = agentcore_runtime.status()\n",
    "status = status_response.endpoint['status']\n",
    "end_status = ['READY', 'CREATE_FAILED', 'DELETE_FAILED', 'UPDATE_FAILED']\n",
    "while status not in end_status:\n",
    "    time.sleep(10)\n",
    "    status_response = agentcore_runtime.status()\n",
    "    status = status_response.endpoint['status']\n",
    "    print(status)\n",
    "status"
   ]
  },
  {
   "cell_type": "markdown",
   "id": "b7f89c56-918a-4cab-beaa-c7ac43a2ba29",
   "metadata": {},
   "source": [
    "### Invoking AgentCore Runtime\n",
    "\n",
    "Finally, we can invoke our AgentCore Runtime with a payload\n",
    "\n",
    "<div style=\"text-align:left\">\n",
    "    <img src=\"images/invoke.png\" width=75%\"/>\n",
    "</div>"
   ]
  },
  {
   "cell_type": "code",
   "execution_count": null,
   "id": "3d909e42-e1a0-407f-84c2-3d16cc889cd3",
   "metadata": {},
   "outputs": [],
   "source": [
    "invoke_response = agentcore_runtime.invoke({\"prompt\": \"How is the weather now?\"})\n",
    "invoke_response"
   ]
  },
  {
   "cell_type": "markdown",
   "id": "fefa09f2-d25a-483f-aedb-11690bb8923a",
   "metadata": {},
   "source": [
    "### Processing invocation results\n",
    "\n",
    "We can now process our invocation results to include it in an application"
   ]
  },
  {
   "cell_type": "code",
   "execution_count": null,
   "id": "11249103-cfb3-47b5-970d-981a977a225a",
   "metadata": {},
   "outputs": [],
   "source": [
    "from IPython.display import Markdown, display\n",
    "import json\n",
    "response_text = json.loads(invoke_response['response'][0].decode(\"utf-8\"))\n",
    "display(Markdown(response_text))"
   ]
  },
  {
   "cell_type": "markdown",
   "id": "2c1d2bce-be41-478c-8bed-b4037c385795",
   "metadata": {},
   "source": [
    "### Invoking AgentCore Runtime with boto3\n",
    "\n",
    "Now that your AgentCore Runtime was created you can invoke it with any AWS SDK. For instance, you can use the boto3 `invoke_agent_runtime` method for it."
   ]
  },
  {
   "cell_type": "code",
   "execution_count": null,
   "id": "7f84e68d-6c04-41b9-bf5b-60edc3fa0985",
   "metadata": {},
   "outputs": [],
   "source": [
    "import boto3\n",
    "agent_arn = launch_result.agent_arn\n",
    "agentcore_client = boto3.client(\n",
    "    'bedrock-agentcore',\n",
    "    region_name=region\n",
    ")\n",
    "\n",
    "boto3_response = agentcore_client.invoke_agent_runtime(\n",
    "    agentRuntimeArn=agent_arn,\n",
    "    qualifier=\"DEFAULT\",\n",
    "    payload=json.dumps({\"prompt\": \"What is 2+2?\"})\n",
    ")\n",
    "if \"text/event-stream\" in boto3_response.get(\"contentType\", \"\"):\n",
    "    content = []\n",
    "    for line in boto3_response[\"response\"].iter_lines(chunk_size=1):\n",
    "        if line:\n",
    "            line = line.decode(\"utf-8\")\n",
    "            if line.startswith(\"data: \"):\n",
    "                line = line[6:]\n",
    "                logger.info(line)\n",
    "                content.append(line)\n",
    "    display(Markdown(\"\\n\".join(content)))\n",
    "else:\n",
    "    try:\n",
    "        events = []\n",
    "        for event in boto3_response.get(\"response\", []):\n",
    "            events.append(event)\n",
    "    except Exception as e:\n",
    "        events = [f\"Error reading EventStream: {e}\"]\n",
    "    display(Markdown(json.loads(events[0].decode(\"utf-8\"))))"
   ]
  },
  {
   "cell_type": "markdown",
   "id": "7d3fdfe404469632",
   "metadata": {},
   "source": [
    "## Cleanup (Optional)\n",
    "\n",
    "Let's now clean up the AgentCore Runtime created"
   ]
  },
  {
   "cell_type": "code",
   "execution_count": null,
   "id": "7c243e86-a214-483c-aef1-d5243f28ca9e",
   "metadata": {},
   "outputs": [],
   "source": [
    "launch_result"
   ]
  },
  {
   "cell_type": "code",
   "execution_count": null,
   "id": "76a6cf1416830a54",
   "metadata": {},
   "outputs": [],
   "source": [
    "agentcore_control_client = boto3.client(\n",
    "    'bedrock-agentcore-control',\n",
    "    region_name=region\n",
    ")\n",
    "ecr_client = boto3.client(\n",
    "    'ecr',\n",
    "    region_name=region\n",
    "    \n",
    ")\n",
    "\n",
    "iam_client = boto3.client('iam')\n",
    "\n",
    "runtime_delete_response = agentcore_control_client.delete_agent_runtime(\n",
    "    agentRuntimeId=launch_result.agent_id,\n",
    "    \n",
    ")\n",
    "\n",
    "response = ecr_client.delete_repository(\n",
    "    repositoryName=launch_result.ecr_uri.split('/')[1],\n",
    "    force=True\n",
    ")\n",
    "\n",
    "policies = iam_client.list_role_policies(\n",
    "    RoleName=agentcore_iam_role['Role']['RoleName'],\n",
    "    MaxItems=100\n",
    ")\n",
    "\n",
    "for policy_name in policies['PolicyNames']:\n",
    "    iam_client.delete_role_policy(\n",
    "        RoleName=agentcore_iam_role['Role']['RoleName'],\n",
    "        PolicyName=policy_name\n",
    "    )\n",
    "iam_response = iam_client.delete_role(\n",
    "    RoleName=agentcore_iam_role['Role']['RoleName']\n",
    ")"
   ]
  },
  {
   "cell_type": "markdown",
   "id": "b118ad38-feeb-4d1d-9d57-e5c845becc56",
   "metadata": {},
   "source": [
    "# Congratulations!"
   ]
  }
 ],
 "metadata": {
  "kernelspec": {
   "display_name": ".venv",
   "language": "python",
   "name": "python3"
  },
  "language_info": {
   "codemirror_mode": {
    "name": "ipython",
    "version": 3
   },
   "file_extension": ".py",
   "mimetype": "text/x-python",
   "name": "python",
   "nbconvert_exporter": "python",
   "pygments_lexer": "ipython3",
   "version": "3.10.18"
  }
 },
 "nbformat": 4,
 "nbformat_minor": 5
}
