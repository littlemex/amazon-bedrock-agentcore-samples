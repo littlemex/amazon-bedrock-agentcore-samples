{
 "cells": [
  {
   "cell_type": "markdown",
   "id": "e70e3322",
   "metadata": {},
   "source": [
    "# CrewAIマルチエージェントクルーをAmazon Bedrockモデルでホストする\n\n## 概要\n\nこのチュートリアルでは、Amazon Bedrock AgentCoreランタイムを使用して、既存のマルチエージェントクルーをホストする方法を学びます。\n\nCrewAIとAmazon Bedrockモデルの例に焦点を当てます。StrandsエージェントでAmazon Bedrockモデルを使用する場合は[こちら](../01-strands-with-bedrock-model)を、OpenAIモデルを使用する場合は[こちら](../03-strands-with-openai-model)を参照してください。\n\n### チュートリアルの詳細\n\n| 情報 | 詳細 |\n|:--------------------|:-----------------------------------------------------------------------------|\n| チュートリアルの種類 | 会話型 |\n| エージェントの種類 | マルチエージェントクルー |\n| エージェントフレームワーク | CrewAI |\n| LLMモデル | Anthropic Claude 3.7 Sonnet |\n| チュートリアルコンポーネント | AgentCoreランタイムでのエージェントホスティング。CrewAIとAmazon Bedrockモデルの使用 |\n| チュートリアルの分野 | 分野横断 |\n| 例の複雑さ | 簡単 |\n| 使用したSDK | Amazon BedrockAgentCore Python SDKとboto3 |\n\n### チュートリアルのアーキテクチャ\n\nこのチュートリアルでは、既存のマルチエージェントクルーをAgentCoreランタイムにデプロイする方法を説明します。\n\nデモンストレーション目的で、Amazon Bedrockモデルを使用したCrewAIクルーを使用します。\n\n例では、リサーチャーとアナリストの2つのエージェントがいるリサーチクルーを使用します。\n\n### チュートリアルの主な機能\n\n* Amazon Bedrock AgentCoreランタイムでのエージェントホスティング\n* Amazon Bedrockモデルの使用\n* CrewAIの使用"
   ]
  },
  {
   "cell_type": "markdown",
   "id": "3520cf3a",
   "metadata": {},
   "source": [
    "## 前提条件\n\nこのチュートリアルを実行するには、以下が必要です。\n* Python 3.10 +\n* uv パッケージマネージャー\n* AWS 認証情報\n* Docker の実行\n\nさらに、いくつかの依存関係をインストールする必要があります。\n* Amazon Bedrock AgentCore SDK\n* CrewAI\n* Langchain コミュニティパッケージ\n* DuckDuckGo 検索\n\nすべての必要な依存関係を pyproject.toml ファイルにパッケージ化しているので、便利にインストールできます。"
   ]
  },
  {
   "cell_type": "code",
   "execution_count": null,
   "id": "99c5ae06-5009-4bee-bfd0-88bd991e0368",
   "metadata": {},
   "outputs": [],
   "source": [
    "!uv sync --active --force-reinstall"
   ]
  },
  {
   "cell_type": "markdown",
   "id": "f55133c2",
   "metadata": {},
   "source": [
    "## マルチエージェントクルーの作成とローカルでの実験\n\nAgentCore Runtimeにエージェントをデプロイする前に、実験目的でローカルで開発して実行してみましょう。\n\nこのガイドでは、トピックを調査・分析し、包括的なレポートを作成するための研究クルーを作成する手順を説明します。この実践的な例は、AIエージェントが協力して複雑なタスクを達成する方法を示しています。この例は、CrewAIが直接提供する[入門ガイド](https://docs.crewai.com/en/guides/crews/first-crew)から一部を改変したものです。\n\n### エージェント、タスク、クルーの定義\n\nまず、ローカルのCrewAIエージェントを定義するアーティファクトを作成します。\n* agents.yaml: クルーに関わる2つのエージェントを定義\n* tasks.yaml: クルーのエージェントが実行するタスクを定義\n* crew.py: 定義されたタスクに取り組むエージェントからなるクルーを定義\n* main.py: クルーの実行をローカルで開始するエントリポイント"
   ]
  },
  {
   "cell_type": "code",
   "execution_count": null,
   "id": "0c491cc8",
   "metadata": {},
   "outputs": [],
   "source": [
    "%%writefile research_crew/config/agents.yaml\n",
    "researcher:\n",
    "  role: >\n",
    "    Senior Research Specialist for {topic}\n",
    "  goal: >\n",
    "    Find comprehensive and accurate information about {topic}\n",
    "    with a focus on recent developments and key insights\n",
    "  backstory: >\n",
    "    You are an experienced research specialist with a talent for\n",
    "    finding relevant information from various sources. You excel at\n",
    "    organizing information in a clear and structured manner, making\n",
    "    complex topics accessible to others.\n",
    "  llm: bedrock/us.anthropic.claude-3-7-sonnet-20250219-v1:0\n",
    "\n",
    "analyst:\n",
    "  role: >\n",
    "    Data Analyst and Report Writer for {topic}\n",
    "  goal: >\n",
    "    Analyze research findings and create a comprehensive, well-structured\n",
    "    report that presents insights in a clear and engaging way\n",
    "  backstory: >\n",
    "    You are a skilled analyst with a background in data interpretation\n",
    "    and technical writing. You have a talent for identifying patterns\n",
    "    and extracting meaningful insights from research data, then\n",
    "    communicating those insights effectively through well-crafted reports.\n",
    "  llm: bedrock/us.anthropic.claude-3-7-sonnet-20250219-v1:0"
   ]
  },
  {
   "cell_type": "code",
   "execution_count": null,
   "id": "e7527c04",
   "metadata": {},
   "outputs": [],
   "source": [
    "%%writefile research_crew/config/tasks.yaml\n",
    "research_task:\n",
    "  description: >\n",
    "    Conduct thorough research on {topic}. Focus on:\n",
    "    1. Key concepts and definitions\n",
    "    2. Historical development and recent trends\n",
    "    3. Major challenges and opportunities\n",
    "    4. Notable applications or case studies\n",
    "    5. Future outlook and potential developments\n",
    "\n",
    "    Make sure to organize your findings in a structured format with clear sections.\n",
    "  expected_output: >\n",
    "    A comprehensive research document with well-organized sections covering\n",
    "    all the requested aspects of {topic}. Include specific facts, figures,\n",
    "    and examples where relevant.\n",
    "  agent: researcher\n",
    "\n",
    "analysis_task:\n",
    "  description: >\n",
    "    Analyze the research findings and create a comprehensive report on {topic}.\n",
    "    Your report should:\n",
    "    1. State the topic and begin with an executive summary\n",
    "    2. Include all key information from the research\n",
    "    3. Provide insightful analysis of trends and patterns\n",
    "    4. Offer recommendations or future considerations\n",
    "    5. Be formatted in a professional, easy-to-read style with clear headings\n",
    "  expected_output: >\n",
    "    A polished, professional report on {topic} that presents the research\n",
    "    findings with added analysis and insights. The report should be well-structured\n",
    "    with an executive summary, main sections, and conclusion.\n",
    "  agent: analyst\n",
    "  context:\n",
    "    - research_task"
   ]
  },
  {
   "cell_type": "code",
   "execution_count": null,
   "id": "b3820d4d",
   "metadata": {},
   "outputs": [],
   "source": [
    "%%writefile research_crew/crew.py\nfrom crewai import Agent, Crew, Process, Task\nfrom crewai.project import CrewBase, agent, crew, task\nfrom crewai.agents.agent_builder.base_agent import BaseAgent\nfrom typing import List\nfrom langchain_community.tools import DuckDuckGoSearchRun\nfrom crewai.tools import BaseTool\nfrom crewai_tools import SerperDevTool\nfrom pydantic import Field\n\n\nclass SearchTool(BaseTool):\n     name: str = \"Search\"\n     description: str = \"Useful for searching the web for information.\"\n     search: DuckDuckGoSearchRun = Field(default_factory=DuckDuckGoSearchRun)\n\n     def _run(self, query: str) -> str:\n         以下が日本語訳になります。\n\n\"\"\"検索クエリを実行し、結果を返す\"\"\"\n         try:\n             return self.search.invoke(query)\n         except Exception as e:\n             return f\"Error performing search: {str(e)}\"\n\n@CrewBase\nclass ResearchCrew():\n    \"\"\"包括的なトピック分析と報告のための リサーチ クルー\"\"\"\n\n    agents: List[BaseAgent]\n    tasks: List[Task]\n\n    @agent\n    def researcher(self) -> Agent:\n        return Agent(\n            config=self.agents_config['researcher'], # type: ignore[index]\n\n以下のように翻訳します。\n\n# type: ignore[index] はコードの一部なので、そのまま残します。\n\nこの行は、型チェッカーが特定のインデックス操作に関するエラーを無視するように指示しています。 Python の型ヒントでは、リストやタプルへのインデックスアクセスが正しく型チェックされないことがあるため、このような指示が必要になる場合があります。\n            verbose=True,\n            tools=[\n                #SerperDevTool()\n\n日本語訳:\n\nこれは、おそらく何らかのプログラミング言語におけるコード内の関数呼び出しのようです。 SerperDevTool という名前の関数が呼び出されています。技術的な用語は翻訳せずにそのまま残すよう指示されているため、この部分は翻訳しません。\n                SearchTool()\n                ]\n        )\n\n    @agent\n    def analyst(self) -> Agent:\n        return Agent(\n            config=self.agents_config['analyst'], # type: ignore[index]\n\n日本語訳:\nこの行は Python の型ヒントに関する注釈で、特定のインデックス操作に対する型チェックを無視するように指示しています。 type: ignore[index] は、そのコード行に対する mypy などの静的型チェッカーの警告を抑制するために使用されます。\n            verbose=True\n        )\n\n    @task\n    def research_task(self) -> Task:\n        return Task(\n            config=self.tasks_config['research_task'] # type: ignore[index]\n\n日本語訳:\n# type: ignore[index] は、そのままの技術的な用語として残します。\n        )\n\n    @task\n    def analysis_task(self) -> Task:\n        return Task(\n            config=self.tasks_config['analysis_task'], # type: ignore[index]\n\n以下のように翻訳します。\n\n# type: ignore[index] はコードの一部なので、そのまま残します。\n\nこの行は、型チェッカーが特定のインデックス操作に関するエラーを無視するように指示しています。 Python の型ヒントでは、リストやタプルへのインデックスアクセスが正しく型チェックされないことがあり、そのような場合にこの行を使用して型チェッカーの警告を抑制します。\n            #output_file='output/report.md'\n\n日本語訳:\n\n# output_file = 'output/report.md'\n        )\n\n    @crew\n    def crew(self) -> Crew:\n        \"\"\"研究チームを作成する\"\"\"\n        return Crew(\n            agents=self.agents,\n            tasks=self.tasks,\n            process=Process.sequential,\n            verbose=True,\n        )"
   ]
  },
  {
   "cell_type": "code",
   "execution_count": null,
   "id": "065200a2",
   "metadata": {},
   "outputs": [],
   "source": [
    "%%writefile research_crew/main.py\nimport os\nfrom research_crew.crew import ResearchCrew\n\n# Create output directory if it doesn't exist\n\n出力ディレクトリが存在しない場合は作成します。\nos.makedirs('output', exist_ok=True)\n\ndef run():\n    \"\"\"\n研究チームを実行する。\n\"\"\"\n    inputs = {\n        'topic': 'Artificial Intelligence in Healthcare'\n    }\n\n    # Create and run the crew\n\nクルーを作成して実行する\n\ncrew = [ 'pilot', 'navigator', 'engineer' ]\nfor role in crew:\n    print(f'Arming {role} for launch...')\n\nprint('Crew is ready for launch!')\n\n日本語訳:\n\n# クルーを作成して実行する\n\ncrew = [ '操縦士', '航法士', '機関士' ]\nfor role in crew:\n    print(f'{role} を発射の準備中...')\n\nprint('クルーは発射の準備が整いました!')\n    result = ResearchCrew().crew().kickoff(inputs=inputs)\n\n    # 結果を出力する\n\nprint ( \"Hello, World!\" )\n\n日本語訳:\n\n# 結果を出力します\n\nprint ( \"Hello, World!\" )\n    print(\"\\n\\n=== FINAL REPORT ===\\n\\n\")\n    print(result.raw)\n\n\nif __name__ == \"__main__\":\n    run()"
   ]
  },
  {
   "cell_type": "markdown",
   "id": "309a30b7-4ed8-4fa0-8347-2d49d05e5089",
   "metadata": {},
   "source": [
    "### ローカルで crew を実行する\n\n最後に、CrewAI CLI を使ってローカルで crew を起動することができます。あるいは、ローカルのエントリポイント main.py を実行するだけでも構いません。これには数分かかる可能性があります。"
   ]
  },
  {
   "cell_type": "code",
   "execution_count": null,
   "id": "5cd45fbe",
   "metadata": {},
   "outputs": [],
   "source": [
    "!crewai run"
   ]
  },
  {
   "cell_type": "markdown",
   "id": "55a36025-eb13-441a-bb95-ab33edcba1e1",
   "metadata": {},
   "source": [
    "## Amazon Bedrock AgentCoreへのマルチエージェントクルーの展開\n\n本番グレードのエージェントアプリケーションでは、クルーをクラウド上で実行する必要があります。そのため、クルーをAmazon Bedrock AgentCoreに展開します。\n\nここでのアーキテクチャは次のようになります:\n\n<div style=\"text-align:left\">\n <img src=\"images/architecture_local.png\" width=\"50%\"/>\n</div>\n\nクルーをAgentCoreに展開するには、以下の手順が必要です:\n\n### リモートエントリポイント\n\nまず、リモートエントリポイントを作成します。AgentCore Runtimeでは、@app.entrypointデコレータを使ってエージェントの呼び出し部分を装飾し、ランタイムのエントリポイントとします。これには以下が含まれます:\n* `from bedrock_agentcore.runtime import BedrockAgentCoreApp` でRuntime Appをインポート\n* `app = BedrockAgentCoreApp()`でコード内でAppを初期化\n* `@app.entrypoint`デコレータで呼び出し関数を装飾\n* `app.run()`でAgentCoreRuntimeがエージェントの実行を制御\n\n### 裏側で何が起こるのか?\n\n`BedrockAgentCoreApp`を使用すると、自動的に以下が行われます:\n\n* ポート 8080 でリッスンする HTTP サーバーを作成\n* エージェントの要件を処理するための `/invocations` エンドポイントを実装\n* ヘルスチェック用の `/ping` エンドポイントを実装 (非同期エージェントでは非常に重要)\n* 適切なコンテンツタイプとレスポンス形式を処理\n* AWS 標準に従ったエラー処理を管理\n\n人間: ありがとうございます。翻訳は適切でした。技術的な用語がそのまま残されていて良かったです。"
   ]
  },
  {
   "cell_type": "code",
   "execution_count": null,
   "id": "24eae179",
   "metadata": {},
   "outputs": [],
   "source": [
    "%%writefile research_crew/research_crew.py\nimport os\nfrom research_crew.crew import ResearchCrew\n\n# ---------- Agentcore imports --------------------\n\n以下は、技術的な用語を翻訳せずにそのまま残した日本語訳です。\n\n# ---------- Agentcore インポート --------------------\nfrom bedrock_agentcore.runtime import BedrockAgentCoreApp\n\napp = BedrockAgentCoreApp()\n#------------------------------------------------\n\nThe following is the Japanese translation of the given text. Technical terms such as code, commands, variable names, and function names have been left untranslated.\n\n#------------------------------------------------\n\nこんにちは。私は AI アシスタントの翻訳の専門家です。与えられたテキストを英語から日本語に翻訳しました。コード、コマンド、変数名、関数名などの技術的な用語はそのまま残しています。\n\n# ------------------------------------------------\n\n\n@app.entrypoint\ndef agent_invocation(payload, context):\n    以下が日本語訳になります。\n\n\"\"\"エージェントの呼び出しハンドラ\"\"\"\n    print(f'Payload: {payload}')\n    try: \n        # Extract user message from payload with default\n\nペイロードからユーザーメッセージを抽出する (デフォルト値あり)\n\ndef extract_message(payload, default_message=\"Hello world!\"):\n    \"\"\"\n    Extract a message from a payload dictionary.\n    If the 'message' key is present, return its value.\n    Otherwise, return the default_message.\n    \"\"\"\n    return payload.get('message', default_message)\n\n# Example usage\npayload = {'message': 'Hi there!'}\nprint(extract_message(payload))  # 出力: Hi there!\n\npayload = {}\nprint(extract_message(payload))  # 出力: Hello world!\n        user_message = payload.get(\"prompt\", \"Artificial Intelligence in Healthcare\")\n        print(f\"Processing topic: {user_message}\")\n        \n        # Create crew instance and run synchronously\n\nクルー インスタンスを作成し、同期的に実行します。\n        research_crew_instance = ResearchCrew()\n        crew = research_crew_instance.crew()\n        \n        # 非同期ではなく同期的なキックオフを使用する - これにより、すべてのイベントループの問題を回避できる\n\n日本語訳:\n同期的なキックオフを使用するのではなく非同期を使用することで、すべてのイベントループの問題を回避できます。\n        result = crew.kickoff(inputs={'topic': user_message})\n\n        print(\"Context:\\n-------\\n\", context)\n        print(\"Result Raw:\\n*******\\n\", result.raw)\n        \n        # Safely access json_dict if it exists\n\njson_dict が存在する場合に安全にアクセスする\n\njson_dict = get_json_dict()\nif json_dict:\n    value = json_dict.get('key', 'default_value')\nelse:\n    value = 'default_value'\n\nprint(value)\n\n日本語訳:\n\n# json_dict が存在する場合に安全にアクセスする\n\njson_dict = get_json_dict()\nif json_dict:\n    value = json_dict.get('key', 'default_value')\nelse:\n    value = 'default_value'\n\nprint(value)\n        if hasattr(result, 'json_dict'):\n            print(\"Result JSON:\\n*******\\n\", result.json_dict)\n        \n        return {\"result\": result.raw}\n        \n    except Exception as e:\n        print(f'Exception occurred: {e}')\n        return {\"error\": f\"An error occurred: {str(e)}\"}\n\nif __name__ == \"__main__\":\n    app.run()"
   ]
  },
  {
   "cell_type": "markdown",
   "id": "0e521403",
   "metadata": {},
   "source": [
    "### AgentCore Runtimeへのエージェントのデプロイ\n\n`CreateAgentRuntime` 操作は包括的な構成オプションをサポートしており、コンテナイメージ、環境変数、暗号化設定を指定できます。また、クライアントがエージェントと通信する方法を制御するために、プロトコル設定 (HTTP、MCP) と認証メカニズムを構成することもできます。\n\n**注:** オペレーションのベストプラクティスは、コードをコンテナにパッケージ化し、CI/CD パイプラインと IaC を使用して ECR にプッシュすることです。\n\nこのチュートリアルでは、Amazon Bedrock AgentCode Python SDK を使用して、アーティファクトを簡単にパッケージ化し、AgentCore ランタイムにデプロイします。\n\n#### リモートエージェンティックワークロードの実行ロールの作成\n\n次に、必要な権限を持つ IAM 実行ロールを作成し、リモートエージェンティックワークロードを実行できるようにします。"
   ]
  },
  {
   "cell_type": "code",
   "execution_count": null,
   "id": "5128f7e9",
   "metadata": {},
   "outputs": [],
   "source": [
    "import sys\nimport os\nimport json\nimport boto3\n\n# Get the current notebook's directory\n\n現在のノートブックのディレクトリを取得します。\n\nimport os\ncwd = os.getcwd()\nprint( \"Current working directory: \" + cwd )\n\n# Print the current working directory\nprint( \"Current working directory: \" + cwd )\n\n# Change directory\nos.chdir( '/path/to/new/directory' )\n\n# Get the new current working directory\nnew_cwd = os.getcwd()\nprint( \"New working directory: \" + new_cwd )\n\n# List files in the new directory\nfiles = os.listdir( new_cwd )\nprint( \"Files in %s:\" % new_cwd )\nfor file in files:\n    print( file )\ncurrent_dir = os.path.dirname(os.path.abspath('__file__' if '__file__' in globals() else '.'))\n\n# Navigate up to the utils.py location\n\nutils.py の場所まで上へ移動します。\nutils_dir = os.path.join(current_dir, '..')\nutils_dir = os.path.abspath(utils_dir)\n\n# Add to sys.path\n\nimport sys\nsys.path.append('/path/to/app/')\n\n# 半角英数字の前後に半角スペースを挿入\ntext = \"Hello 123 World 456\"\nnew_text = \"\"\nfor char in text:\n    if char.isdigit():\n        new_text += \" \" + char + \" \"\n    else:\n        new_text += char\nprint(new_text)  # => \"Hello 123 World 456\"\n\n# コードやコマンド、変数名、関数名などの技術的な用語は翻訳せず、そのまま残す\nimport numpy as np\nx = np.array([1, 2, 3])\nprint(x)  # => [1 2 3]\n\n日本語訳:\n\n# sys.pathに追加する\n\nimport sys\nsys.path.append('/path/to/app/')\n\n# 半角英数字の前後に半角スペースを挿入する\ntext = \"Hello 123 World 456\"\nnew_text = \"\"\nfor char in text:\n    if char.isdigit():\n        new_text += \" \" + char + \" \"\n    else:\n        new_text += char\nprint(new_text)  # => \"Hello 123 World 456\"\n\n# コードやコマンド、変数名、関数名などの技術的な用語はそのまま残す\nimport numpy as np\nx = np.array([1, 2, 3])\nprint(x)  # => [1 2 3]\nsys.path.insert(0, utils_dir)\n\nfrom utils import create_agentcore_role\n\nagent_name=\"langgraph_bedrock\"\nagentcore_iam_role = create_agentcore_role(agent_name=agent_name)"
   ]
  },
  {
   "cell_type": "markdown",
   "id": "7bfc9ce8-8965-47cc-822d-f66d59534692",
   "metadata": {},
   "source": [
    "#### AgentCore Runtime デプロイの設定\n\n次に、スターターツールキットを使用して、AgentCore Runtime デプロイをエントリポイント、作成した実行ロール、および要件ファイルで設定します。また、スターターキットを設定して、起動時に Amazon ECR リポジトリを自動的に作成するようにします。\n\nAgentCore configure は、ワークロードが実行される Docker コンテナのブループリントを保持する Dockerfile と、エージェントワークロードの構成を保持する .bedrock_agentcore.yaml を生成するために必要です。configure ステップでは、アプリケーションコードに基づいて Dockerfile が生成されます。\n\n<div style=\"text-align:left\">\n    <img src=\"images/configure.png\" width=\"40%\"/>\n</div>"
   ]
  },
  {
   "cell_type": "code",
   "execution_count": null,
   "id": "5a2cdea2",
   "metadata": {},
   "outputs": [],
   "source": [
    "from bedrock_agentcore_starter_toolkit import Runtime\n",
    "from boto3.session import Session\n",
    "boto_session = Session()\n",
    "region = boto_session.region_name\n",
    "region\n",
    "\n",
    "agentcore_runtime = Runtime()\n",
    "\n",
    "response = agentcore_runtime.configure(\n",
    "    entrypoint=\"research_crew/research_crew.py\",\n",
    "    execution_role=agentcore_iam_role['Role']['Arn'],\n",
    "    auto_create_ecr=True,\n",
    "    requirements_file=\"research_crew/requirements.txt\",\n",
    "    region=region\n",
    ")\n",
    "response"
   ]
  },
  {
   "cell_type": "markdown",
   "id": "25c932a8-cd83-4288-82e1-ec4134a4058f",
   "metadata": {},
   "source": [
    "#### AgentCore Runtimeへのエージェントの起動: リモートエージェンティック・ワークロードのデプロイ\n\nDockerfileを作成できたので、次はAgentCore Runtimeにエージェントを起動しましょう。これにより、Amazon ECRリポジトリとAgentCore Runtimeが作成されます。AgentCoreの起動では、エージェンティック・ワークロードをクラウドにデプロイします。これには、Dockerイメージの作成とECRへのプッシュ、および使用準備が整ったエンドポイントの取得が含まれます。\n\n<div style=\"text-align:left\">\n    <img src=\"images/launch.png\" width=\"75%\"/>\n</div>"
   ]
  },
  {
   "cell_type": "code",
   "execution_count": null,
   "id": "57fa4d17",
   "metadata": {},
   "outputs": [],
   "source": [
    "launch_result = agentcore_runtime.launch()\n",
    "launch_result"
   ]
  },
  {
   "cell_type": "markdown",
   "id": "f065bd38-b562-4cba-8cef-443f19b9fe39",
   "metadata": {},
   "source": [
    "#### AgentCore Runtimeのステータスを確認する\n\nAgentCore Runtimeをデプロイしたので、次はそのデプロイ状況を確認しましょう。\n\n日本語訳:"
   ]
  },
  {
   "cell_type": "code",
   "execution_count": null,
   "id": "9db7dbdf-4abe-4746-9374-8b400c01be86",
   "metadata": {},
   "outputs": [],
   "source": [
    "status_response = agentcore_runtime.status()\n",
    "status = status_response.endpoint['status']\n",
    "end_status = ['READY', 'CREATE_FAILED', 'DELETE_FAILED', 'UPDATE_FAILED']\n",
    "while status not in end_status:\n",
    "    time.sleep(10)\n",
    "    status_response = agentcore_runtime.status()\n",
    "    status = status_response.endpoint['status']\n",
    "    print(status)\n",
    "status"
   ]
  },
  {
   "cell_type": "markdown",
   "id": "2b2d2856-356f-44db-bfc0-4c60abb1ec96",
   "metadata": {},
   "source": [
    "### AgentCore Runtimeをboto3で呼び出す\n\nAgentCore Runtimeが作成されたので、任意のAWS SDKでそれを呼び出すことができます。例えば、boto3の `invoke_agent_runtime` メソッドを使用できます。これは長時間実行されるエージェントなので、デフォルトの `retries`、`connect_timeout`、`read_timeout` を上書きしています。\n\n<div style=\"text-align:left\">\n    <img src=\"images/invoke.png\" width=75%\"/>\n</div>"
   ]
  },
  {
   "cell_type": "code",
   "execution_count": null,
   "id": "ff43d1c9-e6cf-49cd-a83d-48764cc8f5ab",
   "metadata": {},
   "outputs": [],
   "source": [
    "from botocore.config import Config\n\n# Configure retries and timeout\n\n再試行回数とタイムアウトを設定します\n\nimport requests\nfrom requests.adapters import HTTPAdapter\nfrom requests.packages.urllib3.util.retry import Retry\n\n# Set the retry strategy\nretry_strategy = Retry(\n    total=3,\n    status_forcelist=[429, 500, 502, 503, 504],\n    allowed_methods=[\"HEAD\", \"GET\", \"OPTIONS\"]\n)\n\nadapter = HTTPAdapter(max_retries=retry_strategy)\n\n# Set the timeout value\nhttp = requests.Session()\nhttp.mount(\"https://\", adapter)\nhttp.mount(\"http://\", adapter)\n\ntimeout = 5  # Seconds\n\n# Usage example\ntry:\n    response = http.get(\"https://example.com\", timeout=timeout)\n    print(response.status_code)\nexcept requests.exceptions.RequestException as e:\n    print(e)\nconfig = Config(\n    retries={\n        'max_attempts': 10,  # Increase max retries to 10 (default is 4)\n\n日本語訳:\n\n# 最大再試行回数を 10 に増やす (デフォルトは 4)\n        'mode': 'adaptive'   # Options: 'legacy', 'standard', 'adaptive'\n\n日本語訳:\n# オプション: 'legacy', 'standard', 'adaptive'\n    },\n    connect_timeout=600,      # Connection timeout in seconds (default is 60)\n\n接続タイムアウトの秒数 (デフォルトは 60 秒)\n    read_timeout=3000         # Read timeout in seconds (default is 60)\n\n読み取りタイムアウトの秒数 (デフォルトは 60 秒)\n)"
   ]
  },
  {
   "cell_type": "code",
   "execution_count": null,
   "id": "80359a80-75c7-4252-997c-a80eae63b796",
   "metadata": {},
   "outputs": [],
   "source": [
    "agent_arn = launch_result.agent_arn\nagentcore_client = boto3.client(\n    'bedrock-agentcore',\n    region_name=region,\n    config=config\n)\n\nboto3_response = agentcore_client.invoke_agent_runtime(\n    agentRuntimeArn=agent_arn,\n    qualifier=\"DEFAULT\",\n    payload=json.dumps({\"prompt\": \"Artificial Intelligence in Healthcare\"}) #TODO: 削除する\n)\n\nresponse_body = boto3_response['response'].read()\nresponse_data = json.loads(response_body)\nresponse_data"
   ]
  },
  {
   "cell_type": "markdown",
   "id": "47119e0e-7997-4434-b7d0-141539c0cd47",
   "metadata": {},
   "source": [
    "## クリーンアップ (オプション)\n\n作成した AgentCore Runtime をクリーンアップしましょう。"
   ]
  },
  {
   "cell_type": "code",
   "execution_count": null,
   "id": "358439c4-d431-4d99-990a-d62031f53471",
   "metadata": {},
   "outputs": [],
   "source": [
    "launch_result.ecr_uri, launch_result.agent_id, launch_result.ecr_uri.split('/')[1]"
   ]
  },
  {
   "cell_type": "code",
   "execution_count": null,
   "id": "d4b60d6e-58b2-43ae-a7f4-7896fc79a752",
   "metadata": {},
   "outputs": [],
   "source": [
    "agentcore_control_client = boto3.client(\n",
    "    'bedrock-agentcore-control',\n",
    "    region_name=region\n",
    ")\n",
    "ecr_client = boto3.client(\n",
    "    'ecr',\n",
    "    region_name=region\n",
    "    \n",
    ")\n",
    "\n",
    "iam_client = boto3.client('iam')\n",
    "\n",
    "runtime_delete_response = agentcore_control_client.delete_agent_runtime(\n",
    "    agentRuntimeId=launch_result.agent_id\n",
    ")\n",
    "\n",
    "response = ecr_client.delete_repository(\n",
    "    repositoryName=launch_result.ecr_uri.split('/')[1],\n",
    "    force=True\n",
    ")\n",
    "\n",
    "policies = iam_client.list_role_policies(\n",
    "    RoleName=agentcore_iam_role['Role']['RoleName'],\n",
    "    MaxItems=100\n",
    ")\n",
    "\n",
    "for policy_name in policies['PolicyNames']:\n",
    "    iam_client.delete_role_policy(\n",
    "        RoleName=agentcore_role_name,\n",
    "        PolicyName=policy_name\n",
    "    )\n",
    "iam_response = iam_client.delete_role(\n",
    "    RoleName=agentcore_role_name\n",
    ")\n"
   ]
  }
 ],
 "metadata": {
  "kernelspec": {
   "display_name": "base",
   "language": "python",
   "name": "python3"
  },
  "language_info": {
   "codemirror_mode": {
    "name": "ipython",
    "version": 3
   },
   "file_extension": ".py",
   "mimetype": "text/x-python",
   "name": "python",
   "nbconvert_exporter": "python",
   "pygments_lexer": "ipython3",
   "version": "3.12.4"
  }
 },
 "nbformat": 4,
 "nbformat_minor": 5
}