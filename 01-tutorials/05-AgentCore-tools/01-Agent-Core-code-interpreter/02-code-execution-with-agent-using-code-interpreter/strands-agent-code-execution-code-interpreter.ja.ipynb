{
 "cells": [
  {
   "cell_type": "markdown",
   "metadata": {},
   "source": [
    "## Amazon AgentCore Bedrock Code Interpreterを使用したエージェントベースのコード実行 - チュートリアル(Strands)\n\nこのチュートリアルでは、Pythonを使ってコードの実行によって回答を検証するAIエージェントを作成する方法を示します。LLMが生成したコードを実行するために、Amazon Bedrock AgentCore Code Interpreterを使用します。\n\nこのチュートリアルでは、AgentCore Bedrock Code Interpreterを使用して以下のことを実演します。\n1. サンドボックス環境のセットアップ\n2. ユーザーのクエリに基づいてコードを生成するストランドベースのエージェントの構成\n3. Code Interpreterを使用してサンドボックス環境でコードを実行\n4. 結果をユーザーに表示\n\n## 前提条件\n- Bedrock AgentCore Code Interpreterにアクセスできる AWS アカウント\n- コードインタープリターリソースを作成および管理するための必要な IAM 権限\n- 必要な Python パッケージがインストールされている (boto3、bedrock-agentcore、strands を含む)\n- IAM ロールには Amazon Bedrock でモデルを呼び出す権限が必要\n - 米国オレゴン (us-west-2) リージョンで Claude 3.7 Sonnet モデルにアクセスできる (Strands SDK のデフォルトモデル)\n\n## IAM 実行ロールには、以下の IAM ポリシーが添付されている必要があります"
   ]
  },
  {
   "metadata": {},
   "cell_type": "markdown",
   "source": [
    "~~~ {\n\"Version\": \"2012-10-17\",\n\"Statement\": [\n    {\n        \"Effect\": \"Allow\",\n        \"Action\": [\n            \"bedrock-agentcore:CreateCodeInterpreter\",\n            \"bedrock-agentcore:StartCodeInterpreterSession\",\n            \"bedrock-agentcore:InvokeCodeInterpreter\",\n            \"bedrock-agentcore:StopCodeInterpreterSession\",\n            \"bedrock-agentcore:DeleteCodeInterpreter\",\n            \"bedrock-agentcore:ListCodeInterpreters\",\n            \"bedrock-agentcore:GetCodeInterpreter\"\n        ],\n        \"Resource\": \"*\"\n    },\n    {\n        \"Effect\": \"Allow\",\n        \"Action\": [\n            \"logs:CreateLogGroup\",\n            \"logs:CreateLogStream\",\n            \"logs:PutLogEvents\"\n        ],\n        \"Resource\": \"arn:aws:logs:*:*:log-group:/aws/bedrock-agentcore/code-interpreter*\"\n    }\n]\n}\n\n日本語訳:\n\"バージョン\": \"2012-10-17\",\n\"ステートメント\": [\n    {\n        \"効果\": \"許可\",\n        \"アクション\": [\n            \"bedrock-agentcore:CreateCodeInterpreter\",\n            \"bedrock-agentcore:StartCodeInterpreterSession\",\n            \"bedrock-agentcore:InvokeCodeInterpreter\",\n            \"bedrock-agentcore:StopCodeInterpreterSession\",\n            \"bedrock-agentcore:DeleteCodeInterpreter\",\n            \"bedrock-agentcore:ListCodeInterpreters\",\n            \"bedrock-agentcore:GetCodeInterpreter\"\n        ],\n        \"リソース\": \"*\"\n    },\n    {\n        \"効果\": \"許可\",\n        \"アクション\": [\n            \"logs:CreateLogGroup\",\n            \"logs:CreateLogStream\",\n            \"logs:PutLogEvents\"\n        ],\n        \"リソース\": \"arn:aws:logs:*:*:log-group:/aws/bedrock-agentcore/code-interpreter*\"\n    }\n]\n~~~"
   ]
  },
  {
   "metadata": {},
   "cell_type": "markdown",
   "source": [
    "## 動作の仕組み\n\nコード実行サンドボックスは、コード インタプリター、シェル、ファイル システムを備えた分離された環境を作成することで、エージェントがユーザーのクエリを安全に処理できるようにします。大規模言語モデルがツールの選択を支援した後、コードがこのセッション内で実行され、その結果がユーザーまたはエージェントに合成のために返されます。\n\n![architecture local](code-interpreter.png)"
   ]
  },
  {
   "metadata": {},
   "cell_type": "markdown",
   "source": [
    "## 1. 環境のセットアップ\n\nまず、必要なライブラリをインポートし、Code Interpreter セッションを初期化しましょう。"
   ]
  },
  {
   "metadata": {},
   "cell_type": "code",
   "outputs": [],
   "execution_count": null,
   "source": "!pip install --upgrade -r requirements.txt"
  },
  {
   "cell_type": "code",
   "metadata": {
    "ExecuteTime": {
     "end_time": "2025-07-13T05:14:23.977088Z",
     "start_time": "2025-07-13T05:14:23.974553Z"
    }
   },
   "source": [
    "from bedrock_agentcore.tools.code_interpreter_client import code_session\n",
    "from strands import Agent, tool\n",
    "import json\n",
    "from typing import Dict, Any, List\n"
   ],
   "outputs": [],
   "execution_count": 4
  },
  {
   "cell_type": "markdown",
   "metadata": {},
   "source": [
    "## 2. システムプロンプトの定義\nAI アシスタントの振る舞いと機能を定義します。私たちはアシスタントに、常にコードの実行とデータベースの推論を通じて回答を検証するよう指示しています。"
   ]
  },
  {
   "cell_type": "code",
   "metadata": {
    "ExecuteTime": {
     "end_time": "2025-07-13T08:26:36.770586Z",
     "start_time": "2025-07-13T08:26:36.734153Z"
    }
   },
   "source": [
    "SYSTEM_PROMPT = あなたは、すべての回答をコード実行によって検証する、役立つAIアシスタントです。\n\n検証の原則:\n1. コード、アルゴリズム、または計算について主張する場合は、それを検証するコードを書きます\n2. execute_python を使って、数学的な計算、アルゴリズム、論理を検証します\n3. 回答を出す前に、理解度を検証するためのテストスクリプトを作成します\n4. 実際のコード実行によって作業過程を示します\n5. 不確かな場合は、制限を明示的に述べ、検証可能な部分を検証します\n\nアプローチ:\n- プログラミングの概念について尋ねられた場合は、コードで実装して説明します\n- 計算を求められた場合は、プログラムで計算し、コードを示します\n- アルゴリズムを実装する場合は、正しさを証明するためのテストケースを含めます\n- 透明性を確保するため、検証プロセスを文書化します\n- サンドボックスでは実行間で状態が維持されるため、前の結果を参照できます\n\n利用可能なツール:\n- execute_python: Python コードを実行し、出力を確認できます\n\nレスポンス形式: execute_python ツールは、以下の JSON レスポンスを返します:\n- sessionId: サンドボックスセッション ID\n- id: リクエスト ID\n- isError: エラーが発生したかどうかを示すブール値\n- content: type と text/data を持つコンテンツオブジェクトの配列\n- structuredContent: コード実行の場合、stdout、stderr、exitCode、executionTime が含まれます"
   ],
   "outputs": [],
   "execution_count": 12
  },
  {
   "cell_type": "markdown",
   "metadata": {},
   "source": [
    "## 3. コード実行ツールの定義\n次に、エージェントがコードサンドボックスでコードを実行するためのツールとして使用する関数を定義します。@tool デコレータを使って、この関数をエージェントのカスタムツールとしてアノテーションします。\n\nアクティブなコード インタープリター セッション内では、サポートされている言語 (Python、JavaScript) でコードを実行し、依存関係の構成に基づいてライブラリにアクセスし、可視化を生成し、実行間で状態を維持できます。"
   ]
  },
  {
   "cell_type": "code",
   "metadata": {
    "ExecuteTime": {
     "end_time": "2025-07-13T05:21:39.317191Z",
     "start_time": "2025-07-13T05:21:39.311550Z"
    }
   },
   "source": [
    "@tool\ndef execute_python(code: str, description: str = \"\") -> str:\n    翻訳するテキスト:\n\"\"\"Execute Python code in the sandbox.\"\"\"\n\n日本語訳:\n\"\"\"サンドボックス内で Python コードを実行します。\"\"\"\n    \n    if description:\n        code = f\"# {description}の説明\\n{code}のコード\n    \n    print(f\"\\n Generated Code: {code}\")\n    \n    with code_session(\"us-west-2\") as code_client:\n        response = code_client.invoke(\"executeCode\", {\n            \"code\": code,\n            \"language\": \"python\",\n            \"clearContext\": False\n        })\n    \n    for event in response[\"stream\"]:\n        return json.dumps(event[\"result\"])"
   ],
   "outputs": [],
   "execution_count": 6
  },
  {
   "cell_type": "markdown",
   "metadata": {},
   "source": [
    "## 4. エージェントの設定\nStrands SDK を使用してエージェントを作成し、設定します。上で定義したシステムプロンプトとツールを提供して、コード生成を実行します。\n\n日本語訳:\n## 4. エージェントの設定\nStrands SDK を使用して エージェント を作成し、設定します。上で定義した system prompt と tool を提供して、コード生成を実行します。"
   ]
  },
  {
   "cell_type": "code",
   "metadata": {
    "ExecuteTime": {
     "end_time": "2025-07-13T05:21:49.992168Z",
     "start_time": "2025-07-13T05:21:49.793089Z"
    }
   },
   "source": [
    "agent = Agent(\n",
    "    tools=[execute_python],\n",
    "    system_prompt=SYSTEM_PROMPT,\n",
    "    callback_handler=None\n",
    ")"
   ],
   "outputs": [],
   "execution_count": 9
  },
  {
   "cell_type": "markdown",
   "metadata": {},
   "source": [
    "## 5. クエリの定義\nコード実行機能を持つエージェントをテストするためのサンプルクエリを定義します。"
   ]
  },
  {
   "cell_type": "code",
   "metadata": {
    "ExecuteTime": {
     "end_time": "2025-07-13T05:22:54.216172Z",
     "start_time": "2025-07-13T05:22:54.211344Z"
    }
   },
   "source": "query = \"Tell me the largest random prime number between 1 and 100, which is less than 84 and more that 9\"",
   "outputs": [],
   "execution_count": 10
  },
  {
   "cell_type": "markdown",
   "metadata": {},
   "source": [
    "## 6. エージェントの呼び出しと応答処理\n私たちはクエリを使ってエージェントを呼び出し、エージェントの応答を処理します\n\n注意: 非同期実行には非同期環境での実行が必要です"
   ]
  },
  {
   "cell_type": "code",
   "metadata": {
    "ExecuteTime": {
     "end_time": "2025-07-13T05:23:14.612468Z",
     "start_time": "2025-07-13T05:22:58.624128Z"
    }
   },
   "source": [
    "try:\n",
    "    response_text = \"\"\n",
    "    async for event in agent.stream_async(query):\n",
    "        if \"data\" in event:\n",
    "            chunk = event[\"data\"]\n",
    "            response_text += chunk\n",
    "            print(chunk, end=\"\")\n",
    "except Exception as e:\n",
    "    print(f\"Error occurred: {str(e)}\")"
   ],
   "outputs": [
    {
     "name": "stdout",
     "output_type": "stream",
     "text": [
      "I'll find the largest random prime number between 1 and 100 that is less than 84 and more than 9. To do this, I'll write code to:\n",
      "\n",
      "1. Generate all prime numbers in the specified range\n",
      "2. Filter to keep only those > 9 and < 84\n",
      "3. Find the largest one\n",
      "\n",
      "Let me implement this:\n",
      " Generated Code: import random\n",
      "\n",
      "def is_prime(n):\n",
      "    \"\"\"Check if a number is prime\"\"\"\n",
      "    if n <= 1:\n",
      "        return False\n",
      "    if n <= 3:\n",
      "        return True\n",
      "    if n % 2 == 0 or n % 3 == 0:\n",
      "        return False\n",
      "    i = 5\n",
      "    while i * i <= n:\n",
      "        if n % i == 0 or n % (i + 2) == 0:\n",
      "            return False\n",
      "        i += 6\n",
      "    return True\n",
      "\n",
      "# Find all primes in the range\n",
      "primes_in_range = [n for n in range(10, 84) if is_prime(n)]\n",
      "\n",
      "print(\"All prime numbers between 10 and 83:\")\n",
      "print(primes_in_range)\n",
      "\n",
      "# Get the largest prime in the range\n",
      "largest_prime = max(primes_in_range)\n",
      "print(f\"\\nThe largest prime number between 10 and 83 is: {largest_prime}\")\n",
      "\n",
      "# For verification, let's check that it's actually prime\n",
      "print(f\"Verification - is {largest_prime} prime? {is_prime(largest_prime)}\")\n",
      "Based on the code execution, I can tell you that the largest prime number between 1 and 100, which is less than 84 and more than 9, is **83**.\n",
      "\n",
      "I verified this by:\n",
      "1. Writing a function to check if a number is prime\n",
      "2. Generating all prime numbers in the range 10-83\n",
      "3. Finding the maximum value in that list\n",
      "\n",
      "The complete list of primes in your specified range is: 11, 13, 17, 19, 23, 29, 31, 37, 41, 43, 47, 53, 59, 61, 67, 71, 73, 79, and 83.\n",
      "\n",
      "Since 83 is the largest among these primes, it is the answer to your question."
     ]
    }
   ],
   "execution_count": 11
  }
 ],
 "metadata": {
  "kernelspec": {
   "display_name": "Python 3",
   "language": "python",
   "name": "python3"
  },
  "language_info": {
   "codemirror_mode": {
    "name": "ipython",
    "version": 3
   },
   "file_extension": ".py",
   "mimetype": "text/x-python",
   "name": "python",
   "nbconvert_exporter": "python",
   "pygments_lexer": "ipython3",
   "version": "3.8.0"
  }
 },
 "nbformat": 4,
 "nbformat_minor": 4
}