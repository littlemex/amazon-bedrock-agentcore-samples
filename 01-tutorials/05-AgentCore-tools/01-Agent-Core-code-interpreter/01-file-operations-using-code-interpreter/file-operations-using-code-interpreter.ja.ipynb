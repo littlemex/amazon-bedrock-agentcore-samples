{
 "cells": [
  {
   "cell_type": "markdown",
   "metadata": {},
   "source": [
    "## Amazon AgentCore Bedrock コード インタープリター チュートリアル\n\nこのチュートリアルでは、AgentCore Bedrock コード インタープリターを使用して以下の作業を行う方法を示します。\n1. サンドボックス環境のセットアップ\n2. データの読み込みと分析\n3. サンドボックス環境でのコードの実行\n4. 結果の処理と取得\n\n## 前提条件\n- Bedrock AgentCore コード インタープリターへのアクセス権を持つ AWS アカウント\n- コード インタープリター リソースの作成と管理に必要な IAM 権限\n- 必要な Python パッケージがインストールされていること (boto3 & bedrock-agentcore を含む)\n- サンプル データ ファイル (data.csv)\n- 分析スクリプト (stats.py)\n\n## あなたの IAM 実行ロールには、以下の IAM ポリシーが付与されている必要があります\n\n```json\n{\n \"Version\": \"2012-10-17\",\n \"Statement\": [\n  {\n   \"Effect\": \"Allow\",\n   \"Action\": [\n    \"agentcore:CreateCodeInterpreter\",\n    \"agentcore:DeleteCodeInterpreter\",\n    \"agentcore:GetCodeInterpreter\",\n    \"agentcore:ListCodeInterpreters\",\n    \"agentcore:StartCodeInterpreter\",\n    \"agentcore:StopCodeInterpreter\",\n    \"agentcore:UploadCode\",\n    \"agentcore:GetCodeOutput\",\n    \"agentcore:GetCodeStatus\"\n   ],\n   \"Resource\": \"*\"\n  }\n ]\n}\n```"
   ]
  },
  {
   "metadata": {},
   "cell_type": "markdown",
   "source": [
    "~~~ {\n    \"Version\": \"2012-10-17\",\n    \"Statement\": [\n        {\n            \"Effect\": \"Allow\",\n            \"Action\": [\n                \"bedrock-agentcore:CreateCodeInterpreter\",\n                \"bedrock-agentcore:StartCodeInterpreterSession\",\n                \"bedrock-agentcore:InvokeCodeInterpreter\",\n                \"bedrock-agentcore:StopCodeInterpreterSession\",\n                \"bedrock-agentcore:DeleteCodeInterpreter\",\n                \"bedrock-agentcore:ListCodeInterpreters\",\n                \"bedrock-agentcore:GetCodeInterpreter\"\n            ],\n            \"Resource\": \"*\"\n        },\n        {\n            \"Effect\": \"Allow\",\n            \"Action\": [\n                \"logs:CreateLogGroup\",\n                \"logs:CreateLogStream\",\n                \"logs:PutLogEvents\"\n            ],\n            \"Resource\": \"arn:aws:logs:*:*:log-group:/aws/bedrock-agentcore/code-interpreter*\"\n        }\n    ]\n}\n\n日本語訳:\n~~~ {\n    \"Version\": \"2012-10-17\",\n    \"Statement\": [\n        {\n            \"Effect\": \"許可\",\n            \"Action\": [\n                \"bedrock-agentcore:CreateCodeInterpreter\",\n                \"bedrock-agentcore:StartCodeInterpreterSession\",\n                \"bedrock-agentcore:InvokeCodeInterpreter\",\n                \"bedrock-agentcore:StopCodeInterpreterSession\",\n                \"bedrock-agentcore:DeleteCodeInterpreter\",\n                \"bedrock-agentcore:ListCodeInterpreters\",\n                \"bedrock-agentcore:GetCodeInterpreter\"\n            ],\n            \"Resource\": \"*\"\n        },\n        {\n            \"Effect\": \"許可\",\n            \"Action\": [\n                \"logs:CreateLogGroup\",\n                \"logs:CreateLogStream\",\n                \"logs:PutLogEvents\"\n            ],\n            \"Resource\": \"arn:aws:logs:*:*:log-group:/aws/bedrock-agentcore/code-interpreter*\"\n        }\n    ]\n}"
   ]
  },
  {
   "metadata": {},
   "cell_type": "markdown",
   "source": [
    "## 動作の仕組み\n\nコード実行サンドボックスは、コード インタプリター、シェル、ファイル システムを備えた分離された環境を作成することで、エージェントがユーザーのクエリを安全に処理できるようにします。大規模言語モデルがツールの選択を支援した後、コードがこのセッション内で実行され、その後ユーザーまたはエージェントに合成のために返されます。\n\n![architecture local](code-interpreter.png)"
   ]
  },
  {
   "cell_type": "markdown",
   "metadata": {},
   "source": [
    "## 1. 環境のセットアップ\n\nまず、必要なライブラリをインポートし、 Code Interpreter クライアントを初期化しましょう。"
   ]
  },
  {
   "metadata": {},
   "cell_type": "code",
   "outputs": [],
   "execution_count": null,
   "source": "!pip install --upgrade -r requirements.txt"
  },
  {
   "cell_type": "code",
   "metadata": {
    "ExecuteTime": {
     "end_time": "2025-07-13T04:01:17.925083Z",
     "start_time": "2025-07-13T04:01:16.036433Z"
    }
   },
   "source": [
    "from bedrock_agentcore.tools.code_interpreter_client import CodeInterpreter\nimport json\nfrom typing import Dict, Any, List\n\n# AWS リージョンでコード インタープリターを初期化する\n\n日本語訳:\n\n# AWS リージョンで Code Interpreter を初期化してください。\ncode_client = CodeInterpreter('us-west-2')\ncode_client.start()"
   ],
   "outputs": [
    {
     "data": {
      "text/plain": [
       "'01K00Z3F8WZ9KBBW4QGRJCVBHH'"
      ]
     },
     "execution_count": 21,
     "metadata": {},
     "output_type": "execute_result"
    }
   ],
   "execution_count": 21
  },
  {
   "cell_type": "markdown",
   "metadata": {},
   "source": [
    "## 2. ローカルファイルの読み込み\n\nここでは、サンプルデータファイルとanalysis スクリプトの内容を読み込みます。"
   ]
  },
  {
   "cell_type": "code",
   "metadata": {
    "ExecuteTime": {
     "end_time": "2025-07-13T04:01:17.953880Z",
     "start_time": "2025-07-13T04:01:17.942684Z"
    }
   },
   "source": [
    "def read_file(file_path: str) -> str:\n    \"\"\"ファイルの内容を読み込むためのヘルパー関数 (エラー処理付き)\"\"\"\n    try:\n        with open(file_path, 'r', encoding='utf-8') as file:\n            return file.read()\n    except FileNotFoundError:\n        print(f\"Error: The file '{file_path}' was not found.\")\n        return \"\"\n    except Exception as e:\n        print(f\"An error occurred: {e}\")\n        return \"\"\n\n# Read both files\n\nwith open('file1.txt', 'r') as file1, open('file2.txt', 'r') as file2:\n    contents1 = file1.read()\n    contents2 = file2.read()\n\nprint('Contents of file1.txt: ')\nprint(contents1)\n\nprint('Contents of file2.txt: ')\nprint(contents2)\n\n日本語訳:\n\n# 両方のファイルを読み込む\n\nwith open('file1.txt', 'r') as file1, open('file2.txt', 'r') as file2:\n    contents1 = file1.read()\n    contents2 = file2.read()\n\nprint('file1.txt の内容: ')\nprint(contents1)\n\nprint('file2.txt の内容: ')\nprint(contents2)\ndata_file_content = read_file(\"samples/data.csv\")\ncode_file_content = read_file(\"samples/stats.py\")"
   ],
   "outputs": [],
   "execution_count": 22
  },
  {
   "cell_type": "markdown",
   "metadata": {},
   "source": [
    "## 3. Sandbox 環境のファイルの準備\n\nSandbox 環境で作成したいファイルを定義する構造を作成します。"
   ]
  },
  {
   "cell_type": "code",
   "metadata": {
    "ExecuteTime": {
     "end_time": "2025-07-13T04:01:17.966573Z",
     "start_time": "2025-07-13T04:01:17.964099Z"
    }
   },
   "source": [
    "files_to_create = [\n",
    "    {\n",
    "        \"path\": \"data.csv\",\n",
    "        \"text\": data_file_content\n",
    "    },\n",
    "    {\n",
    "        \"path\": \"stats.py\",\n",
    "        \"text\": code_file_content\n",
    "    }\n",
    "]"
   ],
   "outputs": [],
   "execution_count": 23
  },
  {
   "cell_type": "markdown",
   "metadata": {},
   "source": [
    "以下が日本語訳になります。\n\n## 4. ツール呼び出し用のヘルパー関数の作成\n\nこのヘルパー関数を使うと、サンドボックスツールの呼び出しとその応答の処理が簡単になります。アクティブなセッション内では、サポートされている言語 (Python、JavaScript) でコードを実行したり、依存関係の設定に基づいてライブラリにアクセスしたり、可視化を生成したり、実行間で状態を維持したりできます。"
   ]
  },
  {
   "cell_type": "code",
   "metadata": {
    "ExecuteTime": {
     "end_time": "2025-07-13T04:01:18.358299Z",
     "start_time": "2025-07-13T04:01:18.354409Z"
    }
   },
   "source": [
    "def call_tool(tool_name: str, arguments: Dict[str, Any]) -> Dict[str, Any]:\n    以下が日本語訳になります。\n\n\"\"\"サンドボックスツールを呼び出すためのヘルパー関数\n\n    引数:\n        tool_name (str): 呼び出すツールの名前\n        arguments (Dict[str, Any]): ツールに渡す引数\n\n    返り値:\n        Dict[str, Any]: JSON 形式の結果\n\"\"\"\n    response = code_client.invoke(tool_name, arguments)\n    for event in response[\"stream\"]:\n        return json.dumps(event[\"result\"])"
   ],
   "outputs": [],
   "execution_count": 24
  },
  {
   "cell_type": "markdown",
   "metadata": {},
   "source": [
    "## 5. サンドボックスへのファイル書き込み\n\n次に、ファイルをサンドボックス環境に書き込み、正常に作成されたことを確認します。\n\n```python\nwith open('hello.txt', 'w') as f:\n    f.write('Hello World!')\n\nwith open('example.py', 'w') as f:\n    f.write('print(\"Hello from Python!\")')\n```\n\n上記の `open()` 関数を使って、 `hello.txt` と `example.py` という 2 つのファイルを作成しています。最初の引数がファイル名、2 番目の引数 `'w'` が書き込みモードを表します。\n\n`with` 文を使うと、ファイルを自動的に閉じることができるので、リソースの解放を気にする必要がありません。\n\nファイルが正しく作成されたかを確認するには、サンドボックスの左側にあるファイルツリーを確認します。 `hello.txt` と `example.py` が表示されていれば成功です。"
   ]
  },
  {
   "cell_type": "code",
   "metadata": {
    "ExecuteTime": {
     "end_time": "2025-07-13T04:01:26.265552Z",
     "start_time": "2025-07-13T04:01:20.088758Z"
    }
   },
   "source": [
    "# Write files to sandbox\n\n日本語訳:\n# サンドボックスにファイルを書き込む\n\nThe `write_file` function allows you to write data to a file in the sandbox. Here's an example:\n\n`write_file` 関数を使うと、サンドボックス内のファイルにデータを書き込むことができます。例を示します:\n\n```python\nopen('hello.txt', 'w').write('Hello, World!')\n```\n\nThis will create a new file called `hello.txt` in the sandbox, and write the string `'Hello, World!'` to it.\n\nこれにより、サンドボックス内に `hello.txt` という新しいファイルが作成され、その中に文字列 `'Hello, World!'` が書き込まれます。\n\nNote that every time you re-run your code, the sandbox will be reset and any files you've written will be deleted. If you want to keep the files, you'll need to download them before re-running.\n\nコードを再実行するたびにサンドボックスがリセットされ、書き込んだファイルは削除されることに注意してください。ファイルを保持したい場合は、再実行する前にダウンロードする必要があります。\nwriting_files = call_tool(\"writeFiles\", {\"content\": files_to_create})\nprint(\"Writing files result:\")\nprint(writing_files)\n\n# Verify files were created\n\nファイルが作成されたことを確認する\nlisting_files = call_tool(\"listFiles\", {\"path\": \"\"})\nprint(\"\\nFiles in sandbox:\")\nprint(listing_files)"
   ],
   "outputs": [
    {
     "name": "stdout",
     "output_type": "stream",
     "text": [
      "Writing files result:\n",
      "{\"content\": [{\"type\": \"text\", \"text\": \"Successfully wrote all 2 files\"}], \"isError\": false}\n",
      "\n",
      "Files in sandbox:\n",
      "{\"content\": [{\"type\": \"resource_link\", \"uri\": \"file:///log\", \"name\": \"log\", \"description\": \"Directory\"}, {\"type\": \"resource_link\", \"mimeType\": \"text/csv\", \"uri\": \"file:///data.csv\", \"name\": \"data.csv\", \"description\": \"File\"}, {\"type\": \"resource_link\", \"mimeType\": \"text/x-python\", \"uri\": \"file:///stats.py\", \"name\": \"stats.py\", \"description\": \"File\"}, {\"type\": \"resource_link\", \"uri\": \"file:///.ipython\", \"name\": \".ipython\", \"description\": \"Directory\"}], \"isError\": false}\n"
     ]
    }
   ],
   "execution_count": 25
  },
  {
   "cell_type": "markdown",
   "metadata": {},
   "source": [
    "## 6. 分析の実行\n\nここでは、サンドボックス環境で分析スクリプトを実行し、結果を処理します。"
   ]
  },
  {
   "cell_type": "code",
   "metadata": {
    "ExecuteTime": {
     "end_time": "2025-07-13T04:01:35.818531Z",
     "start_time": "2025-07-13T04:01:34.446242Z"
    }
   },
   "source": [
    "import pprint\n\n# 分析スクリプトを実行する\n\n日本語訳:\n\n分析スクリプトを実行するには、次のコマンドを実行します。\n\n```\npython3 analyze_data.py --input_file data.csv --output_dir analysis_output\n```\n\nこのコマンドでは、 `analyze_data.py` スクリプトが実行され、 `data.csv` ファイルからデータを読み込み、分析結果を `analysis_output` ディレクトリに出力します。\n\nスクリプトの主な機能は以下の通りです。\n\n1. `load_data()` 関数で `data.csv` からデータを読み込む\n2. `preprocess_data()` 関数でデータを前処理する\n3. `run_analysis()` 関数で実際の分析を実行する\n4. `save_results()` 関数で分析結果を `analysis_output` ディレクトリに保存する\n\n分析の詳細な手順は、スクリプトのソースコードを参照してください。\ncode_execute_result = call_tool(\"executeCode\", {\n    \"code\": files_to_create[1]['text'],\n    \"language\": \"python\",\n    \"clearContext\": True\n})\n\n# Parse and display results\n\n# 結果を解析して表示する\n\nresults = parse_data( raw_data )\nfor result in results:\n    print( f\"Name: { result['name'] }\" )\n    print( f\"Score: { result['score'] }\" )\n    print( )  # 空行を挿入\n\n# 結果を JSON ファイルに書き出す\noutput_json( results, \"output.json\" )\nanalysis_results = json.loads(code_execute_result)\nprint(\"Full analysis results:\")\npprint.pprint(analysis_results)\n\nprint(\"\\nStandard output from analysis:\")\nprint(analysis_results['structuredContent']['stdout'])"
   ],
   "outputs": [
    {
     "name": "stdout",
     "output_type": "stream",
     "text": [
      "Full analysis results:\n",
      "{'content': [{'text': 'Name   Place  Animal   Thing\\n'\n",
      "                      'count       299130  299130  299130  299130\\n'\n",
      "                      'unique        1722      55      50      51\\n'\n",
      "                      'top     Lisa White  Prague    Goat  Pencil\\n'\n",
      "                      'freq           222    5587    6141    6058',\n",
      "              'type': 'text'}],\n",
      " 'isError': False,\n",
      " 'structuredContent': {'executionTime': 0.7111423015594482,\n",
      "                       'exitCode': 0,\n",
      "                       'stderr': '',\n",
      "                       'stdout': 'Name   Place  Animal   Thing\\n'\n",
      "                                 'count       299130  299130  299130  299130\\n'\n",
      "                                 'unique        1722      55      50      51\\n'\n",
      "                                 'top     Lisa White  Prague    Goat  Pencil\\n'\n",
      "                                 'freq           222    5587    6141    6058'}}\n",
      "\n",
      "Standard output from analysis:\n",
      "Name   Place  Animal   Thing\n",
      "count       299130  299130  299130  299130\n",
      "unique        1722      55      50      51\n",
      "top     Lisa White  Prague    Goat  Pencil\n",
      "freq           222    5587    6141    6058\n"
     ]
    }
   ],
   "execution_count": 26
  },
  {
   "cell_type": "markdown",
   "metadata": {},
   "source": [
    "## 7. クリーンアップ\n\n最後に、Code Interpreter セッションを停止してクリーンアップを行います。セッションの使用が終わったら、リソースを解放し、不要な課金を避けるためにセッションを停止する必要があります。"
   ]
  },
  {
   "cell_type": "code",
   "metadata": {
    "ExecuteTime": {
     "end_time": "2025-07-13T04:01:39.838014Z",
     "start_time": "2025-07-13T04:01:39.208092Z"
    }
   },
   "source": [
    "# コードインタープリターセッションを停止する\n\n session = PromptSession(cli=cli)\n try:\n     session.app()\n except KeyboardInterrupt:\n     print('無事終了しました')\n finally:\n     session.exit()\ncode_client.stop()\nprint(\"Code Interpreter session stopped successfully!\")"
   ],
   "outputs": [
    {
     "name": "stdout",
     "output_type": "stream",
     "text": [
      "Code Interpreter session stopped successfully!\n"
     ]
    }
   ],
   "execution_count": 27
  },
  {
   "cell_type": "markdown",
   "metadata": {},
   "source": [
    "## 結論\n\nこのチュートリアルでは、以下の内容を学びました:\n\n- Code Interpreter セッションを初期化する方法\n- ファイルを読み込み、解析の準備をする方法\n- サンドボックス環境でコードを実行する方法\n- 結果を処理して表示する方法\n- リソースをクリーンアップする方法"
   ]
  }
 ],
 "metadata": {
  "kernelspec": {
   "display_name": "Python 3",
   "language": "python",
   "name": "python3"
  },
  "language_info": {
   "codemirror_mode": {
    "name": "ipython",
    "version": 3
   },
   "file_extension": ".py",
   "mimetype": "text/x-python",
   "name": "python",
   "nbconvert_exporter": "python",
   "pygments_lexer": "ipython3",
   "version": "3.8.0"
  }
 },
 "nbformat": 4,
 "nbformat_minor": 4
}