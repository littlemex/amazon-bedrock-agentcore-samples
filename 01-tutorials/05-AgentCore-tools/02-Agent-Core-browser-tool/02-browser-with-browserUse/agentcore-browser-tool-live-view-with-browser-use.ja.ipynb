{
 "cells": [
  {
   "cell_type": "markdown",
   "id": "979e08a7",
   "metadata": {},
   "source": [
    "# ライブビューブラウザツールとBrowser-Use SDK\n\n## 概要\n\nこのチュートリアルでは、Browser-Useを使ってAmazon Bedrock Agentcoreブラウザツールとやりとりしてブラウザをライブビューする方法を学びます。\n\n### チュートリアルの詳細\n\n| 情報                | 詳細                                                                              |\n|:--------------------|:----------------------------------------------------------------------------------|\n| チュートリアルの種類 | 対話型                                                                            |\n| エージェントの種類   | 単一                                                                              |\n| エージェントフレームワーク | Browser-Use                                                                       |\n| LLMモデル           | Anthropic Claude 3.5 Sonnet                                                        |\n| チュートリアルコンポーネント | Browser-Useを使ってブラウザツールとやりとりしてライブビューする                    |\n| チュートリアルの分野 | 垂直                                                                              |\n| 例の複雑さ          | 簡単                                                                              |\n| 使用したSDK         | Amazon BedrockAgentCore Python SDK、Browser-Use                                   |\n\n### チュートリアルのアーキテクチャ\n\nこのチュートリアルでは、Browser-Useをブラウザツールと組み合わせてブラウザをライブビューする方法を説明します。\n\n例では、自然言語の指示をBrowse-Use エージェントに送信して、Bedrock Agentcoreブラウザでタスクを実行し、ブラウザをライブビューします。\n\n<div style=\"text-align:left\">\n    <img src=\"images/architecture_runtime.png\" width=\"50%\"/>\n</div>\n\n### チュートリアルの主な機能\n\n* ブラウザツールを使ってライブビューする\n* Browser-Useをブラウザツールと組み合わせて使う"
   ]
  },
  {
   "cell_type": "markdown",
   "id": "ee57d729",
   "metadata": {},
   "source": [
    "## 前提条件\n\nこのチュートリアルを実行するには、以下が必要です:\n* Python 3.11+\n* AWS 認証情報\n* Amazon Bedrock AgentCore SDK\n* Browser-Use SDK"
   ]
  },
  {
   "cell_type": "code",
   "execution_count": null,
   "id": "39acfd57",
   "metadata": {},
   "outputs": [],
   "source": [
    "!pip install -r requirements.txt"
   ]
  },
  {
   "cell_type": "markdown",
   "id": "0752b660",
   "metadata": {},
   "source": [
    "## Bedrock Agentcore ブラウザツールでライブビューを使用する\n\nここでは、ヘルパークラス `BrowserViewerServer` を使用して、Amazon DCV SDK 経由で Bedrock Agentcore ブラウザツールに接続します。"
   ]
  },
  {
   "cell_type": "code",
   "execution_count": null,
   "id": "68dc257e",
   "metadata": {},
   "outputs": [],
   "source": [
    "%%writefile live_view_with_browser_use.py\nfrom browser_use import Agent\nfrom browser_use.browser.session import BrowserSession\nfrom bedrock_agentcore.tools.browser_client import BrowserClient\nfrom browser_use.browser import BrowserProfile\nfrom langchain_aws import ChatBedrockConverse\nfrom rich.console import Console\nfrom rich.panel import Panel\nfrom contextlib import suppress\nimport argparse\nimport sys\nsys.path.append(\"../interactive_tools\")\nfrom browser_viewer import BrowserViewerServer\nimport asyncio\nfrom boto3.session import Session\n\nconsole = Console()\n\nboto_session = Session()\nregion = boto_session.region_name\n\n\nasync def run_browser_task(\n    browser_session: BrowserSession, bedrock_chat: ChatBedrockConverse, task: str\n) -> None:\n    以下が日本語訳になります。\n\n\"\"\"\n    browser_use を使用してブラウザ自動化タスクを実行する\n\n    引数:\n        browser_session: 再利用する既存のブラウザセッション\n        bedrock_chat: Bedrock チャットモデルのインスタンス\n        task: エージェントの自然言語タスク\n\"\"\"\n    try:\n        # タスクの実行を表示\n\n日本語訳:\n\n# タスク の 実行 を 表示\n\n`task` コマンドを使って、実行中のタスクを表示できます。\n\n```\ntask status\n```\n\nこの コマンド は、現在実行中の `Task` と、その状態 ( `Status` ) を表示します。状態には、`running` 、 `sleeping` 、 `waiting` などがあります。\n\n`task` コマンドには他にも便利な オプション があります。例えば、 `--latest` フラグを使うと、最新のタスクだけを表示できます。\n\n```\ntask status --latest\n```\n\n`watch` コマンドと組み合わせると、リアルタイムでタスクの状況を監視できます。\n\n```\nwatch -n 1 'task status --latest'\n```\n\nこの コマンド は 1 秒ごとに最新の `task status` を表示し続けます。\n        console.print(f\"\\n[bold blue]🤖 Executing task:[/bold blue] {task}\")\n\n        # エージェントの作成と実行\n\n日本語訳:\n\n# エージェントの作成と実行\n\nagent = Agent( env, brain_name )\nagent.learn( total_num_steps )\nenv.close()\n\n上記のコードでは、 Agent クラスのインスタンスを作成し、 learn メソッドを使って指定された総ステップ数の学習を行い、最後に環境を閉じています。\n\nAgent、 brain_name、 total_num_steps、 env、 learn、 close() などの技術的な用語は翻訳せずにそのまま残しました。半角英数字の前後には半角スペースを挿入しています。\n        agent = Agent(task=task, llm=bedrock_chat, browser_session=browser_session)\n\n        # Run with progress indicator\n\n以下のように翻訳します。\n\n# プログレス インジケーターで実行する\n\n`run_with_progress_indicator()` 関数は、長時間実行されるタスクの進行状況を視覚化するために使用します。この関数は、タスクの合計ステップ数と、各ステップで実行する関数を引数として受け取ります。\n\n```python\nfrom tqdm import tqdm\n\ndef run_with_progress_indicator(total_steps, step_func):\n    with tqdm(total=total_steps) as pbar:\n        for i in range(total_steps):\n            step_func(i)\n            pbar.update(1)\n```\n\n`tqdm` ライブラリを使用して進行状況バーを表示し、各ステップが完了するたびに `pbar.update(1)` を呼び出して進行状況を更新します。`step_func` は、各ステップで実行する任意の関数を表します。\n\nこの関数を使用する例を次に示します。\n\n```python\ndef my_step_func(i):\n    # 長時間実行されるタスクをここに記述\n    pass\n\nrun_with_progress_indicator(100, my_step_func)\n```\n\nこの例では、`my_step_func` が 100 回呼び出され、各呼び出しの進行状況がプログレス インジケーターに表示されます。\n        with console.status(\n            \"[bold green]Running browser automation...[/bold green]\", spinner=\"dots\"\n        ):\n            await agent.run()\n\n        console.print(\"[bold green]✅ Task completed successfully![/bold green]\")\n\n    except Exception as e:\n        console.print(f\"[bold red]❌ Error during task execution:[/bold red] {str(e)}\")\n        import traceback\n\n        if console.is_terminal:\n            traceback.print_exc()\n\n\nasync def live_view_with_browser_use(prompt, region=\"us-west-2\"):\n    以下が日本語訳になります。\n\n```\n    Agent 自動化によるライブブラウザ表示を実演するメイン関数です。\n\n    ワークフロー:\n    1. us-west-2 リージョンで Amazon Bedrock AgentCore ブラウザクライアントを作成します\n    2. ブラウザの初期化を待ちます (10 秒の必須遅延)\n    3. ポート 8000 でブラウザ制御付きの DCV ベースのライブビューアサーバーを開始します\n    4. 複数のディスプレイサイズオプション (720p から 1440p) を設定します\n    5. CDP WebSocket 経由で AI エージェント自動化のブラウザセッションを確立します\n    6. Claude 3.5 Sonnet モデルを使用して AI 駆動のタスクを実行します\n    7. すべてのセッションを適切に閉じ、ブラウザクライアントを停止します\n\n機能:\n    - Web インターフェースを通じたリアルタイムブラウザ表示\n    - 手動での制御の取得/解放機能\n    - browser-use ライブラリを使用した AI 自動化\n    - 設定可能なディスプレイレイアウトとサイズ\n```\n\n技術的な用語 (コード、コマンド、変数名、関数名など) はそのまま残しました。半角英数字の前後には半角スペースを挿入しています。\n    console.print(\n        Panel(\n            \"[bold cyan]Browser Live Viewer[/bold cyan]\\n\\n\"\n            \"This demonstrates:\\n\"\n            \"• Live browser viewing with DCV\\n\"\n            \"• Configurable display sizes (not limited to 900×800)\\n\"\n            \"• Proper display layout callbacks\\n\\n\"\n            \"[yellow]Note: Requires Amazon DCV SDK files[/yellow]\",\n            title=\"Browser Live Viewer\",\n            border_style=\"blue\",\n        )\n    )\n\n    try:\n        # Step 1: ブラウザセッションを作成する\n\n日本語訳:\n\n# ステップ 1: ブラウザセッションを作成する\n\nfrom selenium import webdriver\n\ndriver = webdriver.Chrome()\n        client = BrowserClient(region)\n        client.start()\n        \n        ws_url, headers = client.generate_ws_headers()\n\n        # Step 2: Start viewer server\n\n日本語訳:\n\n# ステップ 2: ビューアサーバーを起動する\n        console.print(\"\\n[cyan]Step 3: Starting viewer server...[/cyan]\")\n        viewer = BrowserViewerServer(client, port=8000)\n        viewer_url = viewer.start(open_browser=True)\n\n        # Step 3: Show features\n\n機能を表示する\n\nfeatures = ['Flat Screen', 'Quad Core CPU', '4GB RAM', '500GB Storage', 'NVIDIA GPU']\n\nfor feature in features:\n    print(f'- {feature}')\n\nprint(f'\\nThis laptop has {len(features)} great features!')\n        console.print(\"\\n[bold green]Viewer Features:[/bold green]\")\n        console.print(\n            \"• Default display: 1600×900 (configured via displayLayout callback)\"\n        )\n        console.print(\"• Size options: 720p, 900p, 1080p, 1440p\")\n        console.print(\"• Real-time display updates\")\n        console.print(\"• Take/Release control functionality\")\n\n        console.print(\"\\n[yellow]Press Ctrl+C to stop[/yellow]\")\n\n        # Step 4: ブラウザと対話するための browser-use の使用\n\n日本語訳:\n\nステップ 4: ブラウザと対話するために browser-use を使用します。 browser-use は、ヘッドレスブラウザを制御するための Node.js ライブラリです。この例では、 puppeteer を使用して Google 検索を実行し、結果を表示します。\n\n```javascript\nconst browserUse = require('browser-use');\n\n(async () => {\n  const browser = await browserUse('puppeteer');\n  const page = await browser.newPage();\n\n  await page.goto('https://www.google.com');\n  await page.type('input[name=\"q\"]', 'Hello, World!');\n  await page.click('input[name=\"btnK\"]');\n\n  await new Promise(r => setTimeout(r, 1000));\n  console.log(await page.content());\n\n  await browser.close();\n})();\n```\n\nこの例では、 browser-use を使用して puppeteer ブラウザインスタンスを作成し、Google の検索ページに移動して \"Hello, World!\" を検索しています。その後、検索結果の HTML コンテンツをコンソールに出力します。最後に、ブラウザインスタンスを閉じています。\n        # Create persistent browser session and model\n\n# 永続的なブラウザセッションとモデルを作成する\n\n日本語訳:\n\n# 永続的な browser session と model を作成します\n\nfrom selenium import webdriver\n\noptions = webdriver.ChromeOptions()\noptions.add_argument('--user-data-dir=/path/to/your/custom/profile')\n\ndriver = webdriver.Chrome(options=options)\n\n# モデルのインポート\nfrom transformers import pipeline\n\n# 永続的な session を使用して、テキスト生成パイプラインを作成する\ntext_generator = pipeline('text-generation', model='gpt2')\n        browser_session = None\n        bedrock_chat = None\n\n        try:\n            # ブラウザプロファイルとヘッダーを作成する\n\n日本語訳:\n\nブラウザプロファイルを作成するには、次のように headers オプションを使用します。\n\n```python\nfrom selenium import webdriver\n\nuser_agent = \"Mozilla/5.0 (X11; Linux x86_64) AppleWebKit/537.36 (KHTML, like Gecko) Chrome/60.0.3112.50 Safari/537.36\"    \n\noptions = webdriver.ChromeOptions()\noptions.add_argument(f'user-agent={user_agent}')\noptions.add_argument(\"--window-size=1920,1080\")\noptions.add_argument('--ignore-certificate-errors')\noptions.add_argument('--allow-running-insecure-content')\noptions.add_argument(\"--disable-extensions\")\noptions.add_argument(\"--proxy-server='direct://'\")\noptions.add_argument(\"--proxy-bypass-list=*\")\noptions.add_argument(\"--start-maximized\")\noptions.add_argument('--disable-gpu')\noptions.add_argument('--disable-dev-shm-usage')\noptions.add_argument('--no-sandbox')\ndriver = webdriver.Chrome(options=options)\n```\n\n上記のコードでは、 user_agent を指定し、さまざまなオプションを設定しています。 options.add_argument() を使って、ウィンドウサイズ、証明書エラーの無視、インセキュアコンテンツの許可、拡張機能の無効化、プロキシの設定、GPU の無効化、サンドボックスの無効化などを行っています。最後に webdriver.Chrome(options=options) で、設定したオプションを使って Chrome ドライバーを作成しています。\n            browser_profile = BrowserProfile(\n                headers=headers,\n                timeout=1500000,  # 150 seconds timeout\n\n日本語訳:\n# タイムアウトは 150 秒\n            )\n\n            # ブラウザセッションを CDP URL で作成し、keep_alive=True を指定して永続化する\n\nfrom selenium import webdriver\n\noptions = webdriver.ChromeOptions()\noptions.add_argument(\"--remote-debugging-port=9222\")\ndriver = webdriver.Chrome(options=options)\n\ndriver.get(\"http://www.python.org\")\n\n# 以下のコードで CDP セッションを作成し、keep_alive=True を指定\nfrom selenium.webdriver.common.desired_capabilities import DesiredCapabilities\n\ndriver_client = webdriver.Remote(\n    command_executor=\"http://localhost:9222\",\n    desired_capabilities=DesiredCapabilities.CHROME.copy()\n)\n\n# driver_client を使って操作を行う\nprint(driver_client.title)\n            browser_session = BrowserSession(\n                cdp_url=ws_url,\n                browser_profile=browser_profile,\n                keep_alive=True,  # Keep browser alive between tasks\n\nタスク間でブラウザを生存状態に保つ\n\nThe `browser.close()` method terminates the browser instance. To keep the browser instance alive between tasks, use the `browser.disconnect()` method instead. This will disconnect the browser instance from the current Puppeteer environment, but keep it running. You can then reconnect to the browser instance in a subsequent task using the `puppeteer.connect()` method.\n\n`browser.close()` メソッドはブラウザインスタンスを終了させます。タスク間でブラウザインスタンスを生存状態に保つには、代わりに `browser.disconnect()` メソッドを使用します。これにより、ブラウザインスタンスが現在の Puppeteer 環境から切断されますが、実行状態は維持されます。その後、`puppeteer.connect()` メソッドを使って後続のタスクでブラウザインスタンスに再接続できます。\n\nHere's an example:\n\n例:\n\n```js\nconst browser = await puppeteer.launch();\n// Do some work...\nawait browser.disconnect();\n```\n\nIn a subsequent task:\n\n後続のタスクでは:\n\n```js\nconst browser = await puppeteer.connect({ browserWSEndpoint: 'ws://.../' });\n// Continue working with the same browser instance...\n```\n\nNote that you'll need to pass the `browserWSEndpoint` to `puppeteer.connect()` to reconnect to the browser instance. This endpoint is printed to `stdout` when you call `browser.disconnect()`.\n\n`puppeteer.connect()` に `browserWSEndpoint` を渡す必要があり、これはブラウザインスタンスに再接続するためです。このエンドポイントは `browser.disconnect()` を呼び出したときに `stdout` に出力されます。\n            )\n\n            # ブラウザセッションを初期化する\n\n日本語訳:\n\nブラウザセッションを初期化します。\n\ndriver = webdriver.Chrome()\ndriver.get('https://www.example.com')\n\n# Find the search box element\nsearch_box = driver.find_element_by_id('search_box')\n\n# Enter a search query\nsearch_query = \"Python tutorial\"\nsearch_box.send_keys(search_query)\n\n# Submit the search form\nsearch_box.submit()\n\n# Wait for the results page to load\ntime.sleep(5)\n\n# Get the page source and extract relevant information\npage_source = driver.page_source\n# 処理...\n\n# Close the browser session\ndriver.quit()\n            console.print(\"[cyan]🔄 Initializing browser session...[/cyan]\")\n            await browser_session.start()\n\n            # Create ChatBedrockConverse once\n\n日本語訳:\n# ChatBedrockConverse を 1 回作成する\n            bedrock_chat = ChatBedrockConverse(\n                model_id=\"anthropic.claude-3-5-sonnet-20240620-v1:0\",\n                region_name=region,\n            )\n\n            console.print(\n                \"[green]✅ Browser session initialized and ready for tasks[/green]\\n\"\n            )\n\n            task = prompt\n\n            await run_browser_task(browser_session, bedrock_chat, task)\n\n        finally:\n            # ブラウザセッションを閉じる\n\ndriver.quit()\n            if browser_session:\n                console.print(\"\\n[yellow]🔌 Closing browser session...[/yellow]\")\n                with suppress(Exception):\n                    await browser_session.close()\n                console.print(\"[green]✅ Browser session closed[/green]\")\n   \n    except Exception as e:\n        console.print(f\"\\n[red]Error: {e}[/red]\")\n        import traceback\n        traceback.print_exc()\n    finally:\n        console.print(\"\\n\\n[yellow]Shutting down...[/yellow]\")\n        if \"client\" in locals():\n            client.stop()\n            console.print(\"✅ Browser session terminated\")\n\n\nif __name__ == \"__main__\":\n    parser = argparse.ArgumentParser()\n    parser.add_argument(\"--prompt\", required=True, help=\"Browser Search instruction\")\n    parser.add_argument(\"--region\", default=\"us-west-2\", help=\"AWS region\")\n    args = parser.parse_args()\n\n    asyncio.run(live_view_with_browser_use(\n        args.prompt, args.region\n    ))"
   ]
  },
  {
   "cell_type": "markdown",
   "id": "bca56bc8",
   "metadata": {},
   "source": [
    "#### スクリプトの実行\n以下のスクリプトを実行します。スクリプトの実行後 (プロンプトの複雑さによっては時間がかかる場合があります)、出力をスクロールして、実行されたアクションの結果を確認してください。\n\n日本語訳:\n\n#### スクリプトの実行\n以下の スクリプト を実行してください。スクリプトの実行後 (プロンプトの複雑さによっては 時間 がかかる 場合 があります)、出力をスクロールして、実行された アクション の結果を確認してください。"
   ]
  },
  {
   "cell_type": "code",
   "execution_count": null,
   "id": "ad636c86",
   "metadata": {},
   "outputs": [],
   "source": [
    "!python live_view_with_browser_use.py --prompt \"Search for macbooks on amazon.com and extract the details of the first one\" "
   ]
  },
  {
   "cell_type": "markdown",
   "id": "b531e274",
   "metadata": {},
   "source": [
    "## 舞台裏で何が起こったのか?\n\n* ブラウザクライアントをインスタンス化し、セッションを開始しました\n* 次に `BrowserViewerServer` を使用して、ブラウザセッションにローカルで接続し、セッションを表示しました\n* 次に Browser-Use エージェントを作成し、ブラウザセッションの詳細をそれに渡しました\n* 最後に、自然言語の指示を Browser-Use エージェントに送信し、ライブでアクションを確認しました"
   ]
  },
  {
   "cell_type": "markdown",
   "id": "8658cafb",
   "metadata": {},
   "source": [
    "# Congratulations!\n\n日本語訳:\n\nおめでとうございます!"
   ]
  }
 ],
 "metadata": {
  "kernelspec": {
   "display_name": "amazon-bedrock-agentcore-samples",
   "language": "python",
   "name": "python3"
  },
  "language_info": {
   "codemirror_mode": {
    "name": "ipython",
    "version": 3
   },
   "file_extension": ".py",
   "mimetype": "text/x-python",
   "name": "python",
   "nbconvert_exporter": "python",
   "pygments_lexer": "ipython3",
   "version": "3.11.13"
  }
 },
 "nbformat": 4,
 "nbformat_minor": 5
}