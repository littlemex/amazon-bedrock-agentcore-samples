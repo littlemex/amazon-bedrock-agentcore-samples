{
 "cells": [
  {
   "cell_type": "markdown",
   "id": "c6430ac3",
   "metadata": {},
   "source": [
    "# Browser-Use SDK を使った基本的なブラウザツールの使用方法\n\n## 概要\n\nこのチュトリアルでは、オープンソースの Browser-Use SDK を Amazon Bedrock Agentcore ブラウザツールと共に使用する方法を学びます。ヘッドレスでブラウザツールを使用する例と、ブラウザをライブで表示する例を提供します。\n\n### チュトリアルの詳細\n\n| 情報                | 詳細                                                                                       |\n|:--------------------|:------------------------------------------------------------------------------------------|\n| チュトリアルの種類  | 対話型                                                                                     |\n| エージェントの種類  | 単一                                                                                       |\n| エージェントフレームワーク | Broeser-Use                                                                        |\n| LLM モデル          | Anthropic Claude 3.5 Sonnet                                                                |\n| チュトリアルコンポーネント | Browser-Use SDK を使ってヘッドレスで Bedrock Agentcore ブラウザツールと対話する |\n| チュトリアルの分野  | 分野横断                                                                                   |\n| 例の複雑さ          | 簡単                                                                                       |\n| 使用する SDK        | Amazon BedrockAgentCore Python SDK、Browser-Use                                            |\n\n### チュトリアルのアーキテクチャ\n\nこのチュトリアルでは、Browser-Use SDK を Agentcore ブラウザツールと共に使用する方法を説明します。\n\n例では、自然言語の指示を Browser-Use エージェントに送信し、ヘッドレスで Bedrock Agentcore ブラウザでタスクを実行します。\n\n<div style=\"text-align:left\">\n    <img src=\"images/architecture_runtime.png\" width=\"50%\"/>\n</div>\n\n### チュトリアルの主な機能\n\n* ヘッドレスでブラウザツールを使用する\n* ブラウザツールで Browser-Use を使用する"
   ]
  },
  {
   "cell_type": "markdown",
   "id": "0ea131f7",
   "metadata": {},
   "source": [
    "## 前提条件\n\nこのチュートリアルを実行するには、以下が必要です:\n\n* Python 3.11+\n* AWS 認証情報\n* Amazon Bedrock AgentCore SDK\n* Browser-Use SDK"
   ]
  },
  {
   "cell_type": "markdown",
   "id": "1212a355",
   "metadata": {},
   "source": [
    "## 動作原理\n\nブラウザツールサンドボックスは、AI エージェントがウェブブラウザと安全に対話できる実行環境です。ユーザーがリクエストを行うと、大規模言語モデル (LLM) が適切なツールを選択し、コマンドを翻訳します。これらのコマンドは、ヘッドレスブラウザとホストされたライブラリサーバー (Playwright などのツールを使用) を含む制御されたサンドボックス環境内で実行されます。サンドボックスは、Web 対話を制限された空間に閉じ込めることで、システムへの不正アクセスを防ぎ、分離とセキュリティを提供します。エージェントはスクリーンショットによってフィードバックを受け取り、システムのセキュリティを維持しながら自動タスクを実行できます。\n\n![architecture local](../images//browser-tool.png)"
   ]
  },
  {
   "cell_type": "markdown",
   "id": "564f8445",
   "metadata": {},
   "source": [
    "## 1. 環境のセットアップ\n\nまず、ブラウザツールサンドボックスクライアントを初期化するために必要なライブラリをインストールしてインポートしましょう。"
   ]
  },
  {
   "cell_type": "code",
   "execution_count": null,
   "id": "714f2462",
   "metadata": {},
   "outputs": [],
   "source": [
    "!pip install -r requirements.txt"
   ]
  },
  {
   "cell_type": "code",
   "execution_count": null,
   "id": "a89f7eab",
   "metadata": {},
   "outputs": [],
   "source": [
    "from bedrock_agentcore.tools.browser_client import BrowserClient\n",
    "from browser_use import Agent\n",
    "from browser_use.browser.session import BrowserSession\n",
    "from browser_use.browser import BrowserProfile\n",
    "from langchain_aws import ChatBedrockConverse\n",
    "from rich.console import Console\n",
    "from contextlib import suppress\n",
    "import asyncio"
   ]
  },
  {
   "cell_type": "code",
   "execution_count": null,
   "id": "dad07098",
   "metadata": {},
   "outputs": [],
   "source": [
    "console = Console()"
   ]
  },
  {
   "cell_type": "markdown",
   "id": "093f3090",
   "metadata": {},
   "source": [
    "## 2. ブラウザクライアントのセットアップ\nブラウザクライアントをセットアップし、準備ができるまで待ちます。次に、 web-socket url とヘッダーを生成します。"
   ]
  },
  {
   "cell_type": "code",
   "execution_count": null,
   "id": "c532d851",
   "metadata": {},
   "outputs": [],
   "source": [
    "from boto3.session import Session\nboto_session = Session()\nregion = boto_session.region_name\n\nclient = BrowserClient(region)\nclient.start()\n\n# Extract ws_url and headers\n\nws_url = re.search(r'wss?://\\S+', response.text).group()\nheaders = {\n    header.split(':')[0].strip(): header.split(':')[1].strip()\n    for header in re.split(r'\\r\\n', response.text.split('\\n\\n')[-1])\n}\n\n日本語訳:\n\n# ws_url と headers を抽出\n\nws_url = re.search(r'wss?://\\S+', response.text).group()\nheaders = {\n    header.split(':')[0].strip(): header.split(':')[1].strip()\n    for header in re.split(r'\\r\\n', response.text.split('\\n\\n')[-1])\n}\nws_url, headers = client.generate_ws_headers()"
   ]
  },
  {
   "cell_type": "markdown",
   "id": "a10a5875",
   "metadata": {},
   "source": [
    "## 4. ブラウザタスクを実行するヘルパー関数\nbrowser-use Agent を使用してブラウザ自動化タスクを実行します。"
   ]
  },
  {
   "cell_type": "code",
   "execution_count": null,
   "id": "9084345a",
   "metadata": {},
   "outputs": [],
   "source": [
    "async def run_browser_task(browser_session: BrowserSession, bedrock_chat: ChatBedrockConverse, task: str) -> None:\n    以下が日本語訳になります。\n\n\"\"\"\n    browser_use を使ってブラウザ自動化タスクを実行する\n\n    引数:\n        browser_session: 再利用する既存のブラウザセッション\n        bedrock_chat: Bedrock チャットモデルのインスタンス\n        task: エージェントの自然言語タスク\n\"\"\"\n    try:\n        # タスクの実行を表示\n\n日本語訳:\n\n# タスク の 実行 を 表示\n\n`task` コマンドを使って、実行中のタスクを表示できます。\n\n```\ntask status\n```\n\nこの コマンド は、現在実行中の `Task` と、その状態 ( `Status` ) を表示します。状態には、`running` 、 `sleeping` 、 `waiting` などがあります。\n\n`task` コマンドには、他にも便利なオプションがあります。例えば、 `--latest` フラグを使うと、最新のタスクだけを表示できます。\n\n```\ntask status --latest\n```\n\n`watch` コマンドと組み合わせると、リアルタイムでタスクの状況を監視できます。\n\n```\nwatch -n 1 'task status'\n```\n\nこの コマンド は、1 秒ごとに `task status` を実行し、その出力を表示します。\n        console.print(f\"\\n[bold blue]🤖 Executing task:[/bold blue] {task}\")\n        \n        # Create and run the agent\n\n# エージェントを作成して実行する\n\nagent = Agent( model_name )\nagent.run( instructions )\n\n# Specify the model\nmodel_name = \"anthropic/claude-v1\"\n\n# Define the instructions\ninstructions = \"\"\"\nあなたは翻訳の専門家です。以下のテキストを英語から日本語に翻訳してください。\n半角英数字の前後には半角スペースを挿入する。コードやコマンド、変数名、関数名などの技術的な用語は翻訳せず、そのまま残してください。\n\n翻訳するテキスト:\nYou are a highly skilled translator specializing in technical documents. Please translate the following text from English to Japanese, inserting spaces before and after any alphanumeric characters. Leave any code, commands, variable names, function names, and other technical terms untranslated.\n\nText to translate:\nThe quick brown fox jumps over the lazy dog. \nTo run the program, type: python main.py --mode=test\n\n\"\"\"\n        agent = Agent(\n            task=task,\n            llm=bedrock_chat,\n            browser_session=browser_session\n        )\n        \n        # Run with progress indicator\n\n以下のように翻訳します。\n\n# プログレス インジケーターで実行する\n\n`run_with_progress_indicator()` 関数は、長時間実行されるタスクの進行状況を視覚化するために使用されます。この関数は、タスクの合計ステップ数と、各ステップで実行する関数を引数として受け取ります。\n\n```python\nfrom tqdm import tqdm\n\ndef run_with_progress_indicator(total_steps, step_func):\n    with tqdm(total=total_steps) as pbar:\n        for i in range(total_steps):\n            step_func(i)\n            pbar.update(1)\n```\n\n`tqdm` ライブラリは、進捗状況を表示するための優れたツールです。`with tqdm(total=total_steps) as pbar:` という構文を使うと、`pbar` オブジェクトが作成され、合計ステップ数が設定されます。その後、各ステップで `pbar.update(1)` を呼び出すことで、プログレス バーが更新されます。\n\nこの `run_with_progress_indicator()` 関数を使って、たとえば 100 万回のループを実行する場合は次のようになります。\n\n```python\ndef my_step(i):\n    # 何らかの処理を行う\n    pass\n\nrun_with_progress_indicator(1000000, my_step)\n```\n\nこれにより、ループの実行中にプログレス バーが表示され、処理の進行状況を視覚的に確認できます。\n        with console.status(\"[bold green]Running browser automation...[/bold green]\", spinner=\"dots\"):\n            await agent.run()\n        \n        console.print(\"[bold green]✅ Task completed successfully![/bold green]\")\n        \n    except Exception as e:\n        console.print(f\"[bold red]❌ Error during task execution:[/bold red] {str(e)}\")\n        import traceback\n        if console.is_terminal:\n            traceback.print_exc()"
   ]
  },
  {
   "cell_type": "markdown",
   "id": "9b9f974e",
   "metadata": {},
   "source": [
    "## 5. Browser-use プロファイルを使用してブラウザタスクを呼び出す\nCDP WebSocket 接続を使用して永続的なブラウザセッションを作成し、自動化された Web タスクのために Bedrock Claude モデルを初期化します。適切なクリーンアップでセッションライフサイクルを処理し、AI 駆動のコマンドを介してブラウザ自動化タスクを実行します。"
   ]
  },
  {
   "cell_type": "code",
   "execution_count": null,
   "id": "5b3706b7",
   "metadata": {},
   "outputs": [],
   "source": [
    "# ブラウザの永続的なセッションとモデルを作成する\n\n日本語訳:\n\nブラウザの永続的なセッションを作成し、モデルを定義します。\n\nfrom selenium import webdriver\n\nPATH = \"/path/to/chromedriver\"\ndriver = webdriver.Chrome(PATH)\n\ndriver.get(\"https://www.example.com\")\n\nclass Page(object):\n    def __init__(self, my_driver):\n        self.driver = my_driver\n\nclass HomePage(Page):\n    search_box = \"q\"\n\n    def enter_search_text(self, text):\n        search_input = self.driver.find_element_by_name(self.search_box)\n        search_input.clear()\n        search_input.send_keys(text)\n\nhome_page = HomePage(driver)\nhome_page.enter_search_text(\"Hello World\")\nbrowser_session = None\nbedrock_chat = None\n\ntry:\n    # ブラウザプロファイルとヘッダーを作成する\n\n日本語訳:\n\nブラウザプロファイルを作成するには、次のようにします。\n\n```python\nfrom selenium import webdriver\n\nprofile = webdriver.FirefoxProfile()\nprofile.set_preference(\"general.useragent.override\", \"Mozilla/5.0 (X11; Ubuntu; Linux x86_64; rv:57.0) Gecko/20100101 Firefox/57.0\")\ndriver = webdriver.Firefox(firefox_profile=profile)\n```\n\n上記のコードでは、 `webdriver.FirefoxProfile()` を使用して新しいFirefoxプロファイルを作成し、 `set_preference()` メソッドを使用してユーザーエージェントをカスタマイズしています。次に、 `webdriver.Firefox(firefox_profile=profile)` を使用してFirefoxドライバーを初期化し、カスタマイズされたプロファイルを渡しています。\n\nヘッダーを追加するには、次のようにします。\n\n```python\ndriver.get(\"https://www.whatismybrowser.com/developers/tools/user-agent\")\nprint(driver.execute_script(\"return navigator.userAgent\"))\n```\n\n上記のコードでは、 `driver.get()` を使用してWebサイトを開き、 `execute_script()` メソッドを使用してJavaScriptコードを実行し、ユーザーエージェントを取得しています。\n    browser_profile = BrowserProfile(\n        headers=headers,\n        timeout=1500000,  # 150 seconds timeout\n\n日本語訳:\n# 150 秒のタイムアウト\n    )\n    \n    # ブラウザセッションを CDP URL で作成し、keep_alive=True で永続化する\n\nfrom selenium import webdriver\n\noptions = webdriver.ChromeOptions()\noptions.add_argument(\"--remote-debugging-port=9222\")\ndriver = webdriver.Chrome(options=options)\n\ndriver.get(\"http://www.python.org\")\n\n# 以下のコードで CDP セッションを作成し、keep_alive=True を設定\nfrom selenium.webdriver.common.desired_capabilities import DesiredCapabilities\n\ndriver_client = webdriver.Remote(\n    command_executor=\"http://localhost:9222\",\n    desired_capabilities=DesiredCapabilities.CHROME.copy()\n)\n\n# driver_client を使って操作を行う\nprint(driver_client.title)\n    browser_session = BrowserSession(\n        cdp_url=ws_url,\n        browser_profile=browser_profile,\n        keep_alive=True  # Keep browser alive between tasks\n\nタスク間でブラウザを生存させる\n\nThe following code will keep the browser alive between tasks:\n\n以下のコードは、タスク間でブラウザを生存させます:\n\n```py\nfrom playwright.sync_api import sync_playwright\n\ndef run(playwright):\n    browser = playwright.chromium.launch(headless=False)\n    context = browser.new_context()\n\n    # Open a new page\n    page = context.new_page()\n\n    # Navigate to the website\n    page.goto(\"https://www.example.com\")\n\n    # Keep the browser open for manual testing\n    print(\"Browser is open. Press any key to exit.\")\n    input()\n\n    # Close the browser\n    context.close()\n    browser.close()\n\nwith sync_playwright() as playwright:\n    run(playwright)\n```\n\nThis code uses the `sync_playwright` context manager to launch a new instance of the Chromium browser in non-headless mode (`headless=False`). It then creates a new browser context (`context`) and a new page (`page`). The page navigates to `https://www.example.com`.\n\nこのコードでは、`sync_playwright` コンテキストマネージャを使用して、ヘッドレスモードではない新しいChromiumブラウザインスタンス (`headless=False`) を起動しています。次に、新しいブラウザコンテキスト (`context`) と新しいページ (`page`) を作成します。ページは `https://www.example.com` に移動します。\n\nThe `input()` function is used to keep the browser open and wait for user input before closing the browser. This allows for manual testing and inspection of the website.\n\n`input()` 関数は、ブラウザを開いたままにし、ブラウザを閉じる前にユーザー入力を待機するために使用されています。これにより、ウェブサイトの手動テストと検査が可能になります。\n\nNote that this code is specific to the Playwright Python library, which is a high-level browser automation library that can automate Chromium, Firefox, and WebKit browsers.\n\nこのコードは、Chromium、Firefox、WebKitブラウザを自動化できる高レベルのブラウザ自動化ライブラリであるPlaywright Pythonライブラリ専用のものであることに注意してください。\n    )\n    \n    # ブラウザセッションを初期化する\n\n日本語訳:\n\nブラウザセッションを初期化します。\n\nfrom selenium import webdriver\n\nwebdriver_path = \"/path/to/chromedriver\"\nbrowser = webdriver.Chrome(executable_path=webdriver_path)\n\nurl = \"https://www.example.com\"\nbrowser.get(url)\n\n# Do something on the web page...\n\nprint(\"ページのタイトル: \" + browser.title)\n\n# Close the browser session\nbrowser.quit()\n    console.print(\"[cyan]🔄 Initializing browser session...[/cyan]\")\n    await browser_session.start()\n    \n    # Create ChatBedrockConverse once\n\n日本語訳:\n# ChatBedrockConverse を 1 回作成する\n    bedrock_chat = ChatBedrockConverse(\n        model_id=\"anthropic.claude-3-5-sonnet-20240620-v1:0\",\n        region_name=\"us-west-2\"\n    )\n    \n    console.print(\"[green]✅ Browser session initialized and ready for tasks[/green]\\n\")\n\n    task = \"Search for a coffee maker on amazon.com and extract details of the first one\" ## タスクを変更して他のタスクを実行する\n\n日本語訳:\n\nAnsible の `meta` モジュールを使用すると、プレイの実行中に条件に基づいてタスクを動的に追加または削除できます。これにより、プレイの制御フローを変更できます。\n\nたとえば、`register` キーワードを使用して変数に値を格納し、その値に基づいてタスクを条件付きで実行できます。\n\n```yaml\n- name: Check if /path/to/file exists\n  stat:\n    path: /path/to/file\n  register: file_status\n\n- name: Create file if it doesn't exist\n  file:\n    path: /path/to/file\n    state: touch\n  when: not file_status.stat.exists\n\n- meta: flush_handlers\n```\n\n上記の例では、最初のタスクで `/path/to/file` の存在を確認し、その結果を `file_status` 変数に格納しています。次に、ファイルが存在しない場合にのみ、2 番目のタスクが実行されてファイルが作成されます。最後に、`meta` モジュールを使用して、すべての保留中のハンドラを実行しています。\n\n`meta` モジュールには、他にも `clear_facts`、`end_play`、`refresh_inventory` などの機能があります。詳細については、Ansible のドキュメントを参照してください。\n\n    await run_browser_task(browser_session, bedrock_chat, task)\n\nfinally:\n    # ブラウザセッションを閉じる\n\ndriver.quit()\n    if browser_session:\n        console.print(\"\\n[yellow]🔌 Closing browser session...[/yellow]\")\n        with suppress(Exception):\n            await browser_session.close()\n        console.print(\"[green]✅ Browser session closed[/green]\")\n"
   ]
  },
  {
   "cell_type": "markdown",
   "id": "c6597132",
   "metadata": {},
   "source": [
    "## 6. クリーンアップ\nブラウザセッションが停止していない場合は停止します"
   ]
  },
  {
   "cell_type": "code",
   "execution_count": null,
   "id": "99a79405",
   "metadata": {},
   "outputs": [],
   "source": [
    "client.stop()\n",
    "print(\"Browser session stopped successfully!\")"
   ]
  }
 ],
 "metadata": {
  "kernelspec": {
   "display_name": "amazon-bedrock-agentcore-samples",
   "language": "python",
   "name": "python3"
  },
  "language_info": {
   "codemirror_mode": {
    "name": "ipython",
    "version": 3
   },
   "file_extension": ".py",
   "mimetype": "text/x-python",
   "name": "python",
   "nbconvert_exporter": "python",
   "pygments_lexer": "ipython3",
   "version": "3.11.13"
  }
 },
 "nbformat": 4,
 "nbformat_minor": 5
}