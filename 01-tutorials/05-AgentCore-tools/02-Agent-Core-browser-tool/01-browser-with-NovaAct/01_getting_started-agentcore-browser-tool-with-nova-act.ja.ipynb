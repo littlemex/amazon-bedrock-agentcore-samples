{
 "cells": [
  {
   "cell_type": "markdown",
   "id": "b29d23c8",
   "metadata": {},
   "source": [
    "# Amazon Nova Act SDK を使った基本的なブラウザツールの使用方法\n\n## 概要\n\nこのチュートリアルでは、Amazon Bedrock Agentcore ブラウザツールと共に Nova Act SDK を使用する方法を学びます。ヘッドレスでブラウザツールを使用する例と、ブラウザをライブで表示する例を提供します。\n\n### チュートリアルの詳細\n\n| 情報                | 詳細                                                                              |\n|:--------------------|:---------------------------------------------------------------------------------|\n| チュートリアルの種類 | 会話形式                                                                          |\n| エージェントの種類   | 単一                                                                             |\n| エージェントフレームワーク | Nova Act                                                                         |\n| LLM モデル          | Amazon Nova Act モデル                                                            |\n| チュートリアルコンポーネント | ヘッドレスでブラウザツールと対話するための NovaAct の使用                           |\n| チュートリアルの分野 | 分野                                                                             |\n| 例の複雑さ           | 簡単                                                                             |\n| 使用する SDK        | Amazon BedrockAgentCore Python SDK、Nova Act                                     |\n\n### チュートリアルのアーキテクチャ\n\nこのチュートリアルでは、ブラウザツールと Nova Act を使用する方法を説明します。\n\n例では、自然言語の指示を Nova Act エージェントに送信し、ヘッドレスでBedrock Agentcoreブラウザでタスクを実行します。\n\n<div style=\"text-align:left\">\n    <img src=\"images/architecture_runtime.png\" width=\"50%\"/>\n</div>\n\n### チュートリアルの主な機能\n\n* ヘッドレスでブラウザツールを使用する\n* ブラウザツールと共に Nova Act を使用する"
   ]
  },
  {
   "cell_type": "markdown",
   "id": "41b469ca",
   "metadata": {},
   "source": [
    "## 前提条件\n\nこのチュートリアルを実行するには、以下が必要です:\n* Python 3.10+\n* AWS 認証情報\n* Amazon Bedrock AgentCore SDK\n* Nova Act SDK と API キー"
   ]
  },
  {
   "cell_type": "code",
   "execution_count": null,
   "id": "33245169",
   "metadata": {},
   "outputs": [],
   "source": [
    "!pip install -r requirements.txt"
   ]
  },
  {
   "cell_type": "markdown",
   "id": "513a5a71",
   "metadata": {},
   "source": [
    "## Bedrock Agentcore ブラウザツールで NovaAct を使用する\nローカルで実行できる Python スクリプトを作成します。スクリプトでは、NovaAct がブラウザセッションの CDP エンドポイントに接続し、playwright アクチュエーションを実行します。"
   ]
  },
  {
   "cell_type": "code",
   "execution_count": null,
   "id": "ff93fb3f",
   "metadata": {},
   "outputs": [],
   "source": [
    "%%writefile basic_browser_with_nova_act.py\n以下が日本語訳になります。\n\n\"\"\"Amazon Bedrock AgentCore と Nova Act を使用したブラウザ自動化スクリプト\n\nこのスクリプトは、以下の方法で AI 駆動の Web 自動化を実演します。\n- Amazon Bedrock AgentCore を通じてブラウザセッションを初期化\n- 自然言語による Web インタラクションのために Nova Act に接続\n- ブラウザを使用した自動検索とデータ抽出の実行\n\"\"\"\n\nfrom bedrock_agentcore.tools.browser_client import browser_session\nfrom nova_act import NovaAct\nfrom rich.console import Console\nimport argparse\nimport json\n\nconsole = Console()\n\nfrom boto3.session import Session\n\nboto_session = Session()\nregion = boto_session.region_name\nprint(\"using region\", region)\n\ndef browser_with_nova_act(prompt, starting_page, nova_act_key, region=\"us-west-2\"):\n    with browser_session(region) as client:\n        ws_url, headers = client.generate_ws_headers()\n        try:\n            with NovaAct(\n                cdp_endpoint_url=ws_url,\n                cdp_headers=headers,\n                preview={\"playwright_actuation\": True},\n                nova_act_api_key=nova_act_key,\n                starting_page=starting_page,\n            ) as nova_act:\n                result = nova_act.act(prompt)\n        except Exception as e:\n            console.print(f\"NovaAct error: {e}\")\n        return result\n\n\nif __name__ == \"__main__\":\n    parser = argparse.ArgumentParser()\n    parser.add_argument(\"--prompt\", required=True, help=\"Browser Search instruction\")\n    parser.add_argument(\"--starting-page\", required=True, help=\"Starting URL\")\n    parser.add_argument(\"--nova-act-key\", required=True, help=\"Nova Act API key\")\n    parser.add_argument(\"--region\", default=\"us-west-2\", help=\"AWS region\")\n    args = parser.parse_args()\n\n    result = browser_with_nova_act(\n        args.prompt, args.starting_page, args.nova_act_key, args.region\n    )\n    console.print(f\"\\n[cyan] Response[/cyan] {result.response}\")\n    console.print(f\"\\n[bold green]Nova Act Result:[/bold green] {result}\")"
   ]
  },
  {
   "cell_type": "markdown",
   "id": "242ce323",
   "metadata": {},
   "source": [
    "#### スクリプトの実行\nスクリプトを実行する前に、以下にあなたの Nova Act API キーを貼り付けてください。"
   ]
  },
  {
   "cell_type": "code",
   "execution_count": 6,
   "id": "a1a93105",
   "metadata": {},
   "outputs": [],
   "source": [
    "NOVA_ACT_KEY= '' ### Paste your Nova Act Key here\n\n日本語訳:\n### Nova Act キーをここに貼り付けてください"
   ]
  },
  {
   "cell_type": "code",
   "execution_count": null,
   "id": "405a6753",
   "metadata": {},
   "outputs": [],
   "source": [
    "!python basic_browser_with_nova_act.py --prompt \"Search for macbooks and extract the details of the first one\" --starting-page \"https://www.amazon.com/\" --nova-act-key {NOVA_ACT_KEY}"
   ]
  },
  {
   "cell_type": "code",
   "execution_count": null,
   "id": "84a53dff",
   "metadata": {},
   "outputs": [],
   "source": [
    "!python basic_browser_with_nova_act.py --prompt \"Extract and return today's market gainer and loser's details\" --starting-page \"https://finance.yahoo.com/\" --nova-act-key {NOVA_ACT_KEY}"
   ]
  },
  {
   "cell_type": "markdown",
   "id": "b1bc93bb",
   "metadata": {},
   "source": [
    "## 舞台裏で何が起こったのか?\n\n* `browser_session` を使用してブラウザクライアントをインスタンス化したとき、ブラウザクライアントが作成され、セッションが開始されました\n* 次に、`cdp_endpoint_url` と `cdp_headers` を使用して、Nova Act がそのブラウザセッションを指すように設定しました\n* Nova ACT SDK は、あなたの自然言語の指示を受け取り、ブラウザ上で Playwright の実行を作成しました"
   ]
  },
  {
   "cell_type": "markdown",
   "id": "2945f9ba",
   "metadata": {},
   "source": [
    "# 翻訳するテキスト:\n# Congratulations!\n\n日本語訳:\n# おめでとうございます!"
   ]
  }
 ],
 "metadata": {
  "kernelspec": {
   "display_name": "agentcore",
   "language": "python",
   "name": "agentcore"
  },
  "language_info": {
   "codemirror_mode": {
    "name": "ipython",
    "version": 3
   },
   "file_extension": ".py",
   "mimetype": "text/x-python",
   "name": "python",
   "nbconvert_exporter": "python",
   "pygments_lexer": "ipython3",
   "version": "3.10.18"
  }
 },
 "nbformat": 4,
 "nbformat_minor": 5
}