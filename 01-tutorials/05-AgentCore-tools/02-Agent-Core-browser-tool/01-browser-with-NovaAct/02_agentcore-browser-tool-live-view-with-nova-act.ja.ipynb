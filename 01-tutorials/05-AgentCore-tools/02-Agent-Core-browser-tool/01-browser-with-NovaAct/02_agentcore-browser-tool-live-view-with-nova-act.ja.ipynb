{
 "cells": [
  {
   "cell_type": "markdown",
   "id": "979e08a7",
   "metadata": {},
   "source": [
    "# ライブビューブラウザツールと Amazon Nova Act SDK\n\n## 概要\n\nこのチュートリアルでは、Nova Act SDK を使用して Amazon Bedrock Agentcore ブラウザツールと対話し、ブラウザをライブで表示する方法を学びます。\n\n### チュートリアルの詳細\n\n| 情報                | 詳細                                                                              |\n|:--------------------|:----------------------------------------------------------------------------------|\n| チュートリアルの種類 | 会話形式                                                                          |\n| エージェントの種類   | 単一                                                                              |\n| エージェントフレームワーク | Nova Act                                                                           |\n| LLM モデル          | Amazon Nova Act モデル                                                            |\n| チュートリアルコンポーネント | NovaAct を使用してブラウザツールとライブで対話する                                     |\n| チュートリアルの分野 | 分野横断                                                                          |\n| 例の複雑さ          | 簡単                                                                              |\n| 使用する SDK        | Amazon BedrockAgentCore Python SDK、Nova Act                                     |\n\n### チュートリアルのアーキテクチャ\n\nこのチュートリアルでは、ブラウザツールと Nova Act を使用してブラウザをライブで表示する方法を説明します。\n\n例では、自然言語の指示を Nova Act エージェントに送信し、Bedrock Agentcore ブラウザでタスクを実行し、ブラウザをライブで表示します。\n\n<div style=\"text-align:left\">\n    <img src=\"./images/browser-tool.png\" width=\"50%\"/>\n</div>\n\n### チュートリアルの主な機能\n\n* ブラウザツールを使用し、ライブで表示する\n* Nova Act をブラウザツールで使用する"
   ]
  },
  {
   "cell_type": "markdown",
   "id": "ee57d729",
   "metadata": {},
   "source": [
    "## 前提条件\n\nこのチュートリアルを実行するには、以下が必要です:\n\n* Python 3.10+\n* AWS 認証情報\n* Amazon Bedrock AgentCore SDK\n* Nova Act SDK と API キー"
   ]
  },
  {
   "cell_type": "code",
   "execution_count": null,
   "id": "39acfd57",
   "metadata": {},
   "outputs": [],
   "source": [
    "!pip install -r requirements.txt"
   ]
  },
  {
   "cell_type": "markdown",
   "id": "0752b660",
   "metadata": {},
   "source": [
    "## Bedrock Agentcore ブラウザツールでライブビューを使用した NovaAct の使用\n\nここでは、Amazon DCV SDK を介して Bedrock Agentcore ブラウザツールに接続するためのヘルパー関数を使用します。"
   ]
  },
  {
   "cell_type": "code",
   "execution_count": null,
   "id": "68dc257e",
   "metadata": {},
   "outputs": [],
   "source": [
    "%%writefile live_view_with_nova_act.py\nfrom bedrock_agentcore.tools.browser_client import browser_session\nfrom nova_act import NovaAct\nfrom rich.console import Console\nfrom rich.panel import Panel\nimport sys\nimport json\nimport argparse\nsys.path.append(\"../interactive_tools\")\nfrom browser_viewer import BrowserViewerServer\n\nconsole = Console()\n\nfrom boto3.session import Session\n\nboto_session = Session()\nregion = boto_session.region_name\nprint(\"using region\", region)\n\ndef live_view_with_nova_act(prompt, starting_page, nova_act_key, region=\"us-west-2\"):\n    以下が日本語訳になります。\n\n\"\"\"ディスプレイのサイズに合わせて browser live viewer を実行します。\"\"\"\n    console.print(\n        Panel(\n            \"[bold cyan]Browser Live Viewer[/bold cyan]\\n\\n\"\n            \"This demonstrates:\\n\"\n            \"• Live browser viewing with DCV\\n\"\n            \"• Configurable display sizes (not limited to 900×800)\\n\"\n            \"• Proper display layout callbacks\\n\\n\"\n            \"[yellow]Note: Requires Amazon DCV SDK files[/yellow]\",\n            title=\"Browser Live Viewer\",\n            border_style=\"blue\",\n        )\n    )\n\n    try:\n        # Step 1: ブラウザセッションを作成する\n\n日本語訳:\n\nステップ 1: browser session を作成します。\n\nbrowser session は技術用語なので、そのまま残しました。\n半角英数字の前後に半角スペースを挿入しました。\n        with browser_session(region) as client:\n            ws_url, headers = client.generate_ws_headers()\n\n            # Step 2: Start viewer server\n\n日本語訳:\n\n# ステップ 2: ビューアサーバーを起動する\n            console.print(\"\\n[cyan]Step 3: Starting viewer server...[/cyan]\")\n            viewer = BrowserViewerServer(client, port=8000)\n            viewer_url = viewer.start(open_browser=True)\n\n            # Step 3: Show features\n\n機能を表示する\n\n以下のように、半角英数字の前後に半角スペースを挿入し、コード、コマンド、変数名、関数名などの技術的な用語はそのまま残しました。\n\n# Step 3: Show features\n            console.print(\"\\n[bold green]Viewer Features:[/bold green]\")\n            console.print(\n                \"• Default display: 1600×900 (configured via displayLayout callback)\"\n            )\n            console.print(\"• Size options: 720p, 900p, 1080p, 1440p\")\n            console.print(\"• Real-time display updates\")\n            console.print(\"• Take/Release control functionality\")\n\n            console.print(\"\\n[yellow]Press Ctrl+C to stop[/yellow]\")\n\n            # Step 4: Use Nova Act to interact with the browser\n\nステップ 4: Nova Act を使ってブラウザと対話する\n\n日本語訳:\n\n# ステップ 4: Nova Act を使って ブラウザ と対話する\n\nNova Act は、ブラウザ内の要素を操作したり、ブラウザの動作をシミュレートしたりするための強力な機能を提供します。以下の例では、Google の検索ページを開き、\"Hello World\" と入力して検索を実行する方法を示します。\n\n```python\nimport time\nfrom playwright.sync_api import sync_playwright\n\nwith sync_playwright() as p:\n    browser = p.chromium.launch()\n    page = browser.new_page()\n    page.goto(\"https://google.com\")\n    \n    # 検索ボックスを探す\n    search_box = page.query_selector(\"input[name='q']\")\n    \n    # 検索ボックスに \"Hello World\" と入力する\n    search_box.fill(\"Hello World\")\n    \n    # Enter キーを押して検索を実行する\n    search_box.press(\"Enter\")\n    \n    # 5 秒待つ\n    time.sleep(5)\n    \n    browser.close()\n```\n\nこの例では、 `sync_playwright()` を使って Playwright のインスタンスを作成し、 `chromium.launch()` でブラウザを起動しています。次に `new_page()` で新しいページを開き、 `goto()` メソッドで Google の検索ページに移動しています。\n\n`query_selector()` メソッドを使って検索ボックスの要素を取得し、 `fill()` メソッドで \"Hello World\" と入力しています。最後に `press()` メソッドで Enter キーを押して検索を実行しています。\n\n`time.sleep(5)` で 5 秒待ってからブラウザを閉じています。この待ち時間は、検索結果を確認するために設けられています。\n            with NovaAct(\n                cdp_endpoint_url=ws_url,\n                cdp_headers=headers,\n                preview={\"playwright_actuation\": True},\n                nova_act_api_key=nova_act_key,\n                starting_page=starting_page,\n            ) as nova_act:\n                result = nova_act.act(prompt)\n                console.print(f\"\\n[bold green]Nova Act Result:[/bold green] {result}\")\n        \n    except Exception as e:\n        console.print(f\"\\n[red]Error: {e}[/red]\")\n        import traceback\n        traceback.print_exc()\n    finally:\n        console.print(\"\\n\\n[yellow]Shutting down...[/yellow]\")\n        if \"client\" in locals():\n            client.stop()\n            console.print(\"✅ Browser session terminated\")\n    return result\n\n\nif __name__ == \"__main__\":\n    parser = argparse.ArgumentParser()\n    parser.add_argument(\"--prompt\", required=True, help=\"Browser Search instruction\")\n    parser.add_argument(\"--starting-page\", required=True, help=\"Starting URL\")\n    parser.add_argument(\"--nova-act-key\", required=True, help=\"Nova Act API key\")\n    parser.add_argument(\"--region\", default=\"us-west-2\", help=\"AWS region\")\n    args = parser.parse_args()\n\n    result = live_view_with_nova_act(\n        args.prompt, args.starting_page, args.nova_act_key, args.region\n    )\n\n    with open('result.txt', 'w') as f:\n        f.write(str(result))\n\n    console.print(f\"\\n[bold green]Nova Act Result:[/bold green] {result}\")"
   ]
  },
  {
   "cell_type": "markdown",
   "id": "bca56bc8",
   "metadata": {},
   "source": [
    "#### スクリプトの実行\nスクリプトを実行する前に、以下に Nova Act API キーを貼り付けてください。"
   ]
  },
  {
   "cell_type": "code",
   "execution_count": null,
   "id": "b4164963",
   "metadata": {},
   "outputs": [],
   "source": [
    "NOVA_ACT_KEY= '' ### Paste your Nova Act Key here\n\n日本語訳:\n### Nova Act キーをここに貼り付けてください"
   ]
  },
  {
   "cell_type": "code",
   "execution_count": null,
   "id": "ad636c86",
   "metadata": {},
   "outputs": [],
   "source": [
    "!python live_view_with_nova_act.py --prompt \"Search for macboks and extract the details of the first one\" --starting-page \"https://www.amazon.com/\" --nova-act-key {NOVA_ACT_KEY}"
   ]
  },
  {
   "cell_type": "markdown",
   "id": "156a2b78",
   "metadata": {},
   "source": [
    "## 舞台裏で何が起こったのか?\n* ブラウザクライアントをインスタンス化し、セッションを開始しました\n* 次に `BrowserViewerServer` を使用して、ブラウザセッションに接続し、ローカルでセッションを表示しました\n* 次に Nova Act エージェントを作成し、ブラウザセッションの詳細をそれに渡しました\n* 最後に、自然言語の指示を Nova Act エージェントに送信し、アクションをライブで確認しました"
   ]
  },
  {
   "cell_type": "markdown",
   "id": "9b305069",
   "metadata": {},
   "source": [
    "# 祝賀!\n\n日本語訳:\n\nおめでとうございます!"
   ]
  }
 ],
 "metadata": {
  "kernelspec": {
   "display_name": "amazon-bedrock-agentcore-samples",
   "language": "python",
   "name": "python3"
  },
  "language_info": {
   "codemirror_mode": {
    "name": "ipython",
    "version": 3
   },
   "file_extension": ".py",
   "mimetype": "text/x-python",
   "name": "python",
   "nbconvert_exporter": "python",
   "pygments_lexer": "ipython3",
   "version": "3.11.13"
  }
 },
 "nbformat": 4,
 "nbformat_minor": 5
}