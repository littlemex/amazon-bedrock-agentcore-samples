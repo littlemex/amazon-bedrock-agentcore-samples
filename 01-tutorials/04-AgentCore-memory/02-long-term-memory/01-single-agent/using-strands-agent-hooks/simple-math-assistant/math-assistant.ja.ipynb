{
 "cells": [
  {
   "cell_type": "markdown",
   "id": "overview",
   "metadata": {},
   "source": [
    "# Strands Agent with AgentCore Memory チュートリアル (Hooks を使用)\n\n## 概要\n\nこのチュートリアルでは、Hooks を介して AgentCore Memory と統合された Strands エージェントを使用して、インテリジェントな個人アシスタントを構築する方法を示します。エージェントは会話コンテキストを維持し、インタラクションから学習して、パーソナライズされた応答を提供します。\n\n## チュートリアルの詳細\n\n**ユースケース**: 数学アシスタント\n\n| 情報                | 詳細                                                                              |\n|:--------------------|:----------------------------------------------------------------------------------|\n| チュートリアルの種類 | 長期会話                                                                         |\n| エージェントの種類   | 数学アシスタント                                                                 |\n| エージェントフレームワーク | Strands Agents                                                            |\n| LLM モデル          | Anthropic Claude Sonnet 3.7                                                       |\n| チュートリアルコンポーネント | メモリのための AgentCore Summary 戦略、メモリの保存と取得のための Hooks |\n| 例の複雑さ           | 中級                                                                              |\n\n\n学習内容:\n- 会話の要約を使用して AgentCore Memory を設定する\n- 自動保存と取得のためのメモリ Hooks を作成する\n- 永続的なメモリを持つ Strands エージェントを構築する\n- 会話間でメモリ機能をテストする\n\n### シナリオコンテキスト\n\nこの例では、前の会話の要約を保存する数学アシスタントの例を作成します。\nこの例の主な機能:\n- **自動メモリ保存**: 会話が自動的に保存されます\n- **コンテキスト取得**: 前の会話が現在の応答に反映されます\n- **要約生成**: 重要な情報が抽出され要約されます\n- **ツール統合**: 数学演算のための電卓ツール\n\n## アーキテクチャ\n<div style=\"text-align:left\">\n    <img src=\"architecture.png\" width=\"65%\" />\n</div>\n\n\n## 前提条件\n\nこのチュートリアルを実行するには、以下が必要です:\n- Python 3.10 以上\n- Amazon Bedrock AgentCore Memory の許可を持つ AWS 認証情報\n- Amazon Bedrock AgentCore SDK"
   ]
  },
  {
   "cell_type": "markdown",
   "id": "917e6ed5-ca98-4a5a-a569-3a1ab68998e5",
   "metadata": {},
   "source": [
    "## ステップ 1: 環境設定\n必要なすべてのライブラリをインポートし、このノートブックを動作させるためのクライアントを定義しましょう。"
   ]
  },
  {
   "cell_type": "code",
   "execution_count": null,
   "id": "404db75f-614e-4152-af9a-5b28afb56e33",
   "metadata": {},
   "outputs": [],
   "source": [
    "!pip install -qr requirements.txt"
   ]
  },
  {
   "cell_type": "code",
   "execution_count": null,
   "id": "0a2e1911-a9fa-4578-868b-a22bff8ab298",
   "metadata": {},
   "outputs": [],
   "source": [
    "from bedrock_agentcore.memory import MemoryClient\n",
    "from bedrock_agentcore.memory.constants import StrategyType"
   ]
  },
  {
   "cell_type": "code",
   "execution_count": null,
   "id": "imports",
   "metadata": {},
   "outputs": [],
   "source": [
    "import os\nimport logging\nfrom strands import Agent\nfrom datetime import datetime\nfrom strands_tools import calculator\nfrom strands.hooks import AfterInvocationEvent, HookProvider, HookRegistry, MessageAddedEvent\n\n# ロギングのセットアップ\n\nimport logging\n\nlogger = logging.getLogger(__name__)\nlogger.setLevel(logging.DEBUG)\n\nfile_handler = logging.FileHandler('app.log')\nformatter = logging.Formatter('%(asctime)s : %(levelname)s : %(name)s : %(message)s')\nfile_handler.setFormatter(formatter)\n\nlogger.addHandler(file_handler)\nlogging.basicConfig(level=logging.INFO, format=\"%(asctime)s - %(levelname)s - %(message)s\")\nlogger = logging.getLogger(\"memory-tutorial\")\n\n# Configuration - replace with your values\n\n# 設定 - あなたの値に置き換えてください\nREGION = os.getenv('AWS_REGION', 'us-west-2')\nROLE_ARN = \"<<INSERT-YOUR-IAM-ROLE>>\"\nACTOR_ID = f\"actor-{datetime.now().strftime('%Y%m%d%H%M%S')}\"\nSESSION_ID = f\"tutorial-{datetime.now().strftime('%Y%m%d%H%M%S')}\""
   ]
  },
  {
   "cell_type": "markdown",
   "id": "step2-desc",
   "metadata": {},
   "source": [
    "## ステップ 2: メモリリソースの作成\n\nこのステップでは、要約戦略を使ってメモリリソースを作成します。このリソースは会話データを保存して整理するために使用されます。定義する戦略は、会話の要約を自動的に生成し、それらを体系的な名前空間に保存します。\n\nまず、数学アシスタント用のカスタムプロンプトを作成しましょう。"
   ]
  },
  {
   "cell_type": "code",
   "execution_count": null,
   "id": "a5315e29",
   "metadata": {},
   "outputs": [],
   "source": [
    "CUSTOM_PROMPT = 以下が日本語訳になります。\n\n\"\"\"\nあなたの課題は、ユーザーとの会話から数学の学習データを抽出することです。ユーザーの進捗状況をメモリシステムに保存し、彼らの数学レベルを理解して進歩を助けます。\n\n会話を分析してユーザーの数学学習パターンを抽出するよう求められています。2 つのデータセットを分析します。\n\n<past_conversation>\n[ユーザーと数学講師の過去の会話がここにコンテキストとして配置されます]\n</past_conversation>\n\n<current_conversation>\n[ユーザーと数学講師の現在の会話がここに配置されます]\n</current_conversation>\n\nあなたの仕事は、ユーザーの数学学習プロファイルを特定し分類することです。\n- 正解/不正解の問題からユーザーの現在の数学レベルを抽出します\n- 質問の仕方や説明への反応からユーザーの学習スタイルを抽出します\n- 実績パターンからトピックの長所と短所を抽出します\n- 学習の進捗を追跡し、強化が必要な分野を特定します\n\"\"\"\n\n注: コード、コマンド、変数名、関数名などの技術的な用語は翻訳せずにそのまま残しました。半角英数字の前後には半角スペースを挿入しています。"
   ]
  },
  {
   "cell_type": "code",
   "execution_count": null,
   "id": "create_memory",
   "metadata": {},
   "outputs": [],
   "source": [
    "from botocore.exceptions import ClientError\n\n# メモリクライアントの初期化\n\nmemory_client = MemoryClient( host = \"localhost\", port = 6379 )\n\n日本語訳:\n\n# メモリクライアントの初期化\n\nmemory_client = MemoryClient( host = \"localhost\", port = 6379 )\nclient = MemoryClient(region_name=REGION)\nmemory_name = \"MathAssistant\"\n# Define memory strategy for conversation summaries\n\n会話の要約のためのメモリ戦略を定義します。\n\nThe memory strategy determines how the AI 's memory is managed during a conversation. There are two main options:\n\nメモリ戦略は、会話中に AI のメモリがどのように管理されるかを決定します。主な選択肢は 2 つあります。\n\n1. `token_bucket_memory` (default): The AI's memory is a token bucket that can hold up to a fixed number of tokens (words or word pieces). When the token limit is reached, the oldest tokens are removed to make room for new ones.\n\n1. `token_bucket_memory` (デフォルト): AI のメモリはトークンバケットで、固定数のトークン (単語またはその一部) を保持できます。トークンの制限に達すると、新しいトークンを収容するために最も古いトークンが削除されます。\n\n2. `no_memory`: The AI does not have any memory of previous exchanges in the conversation. Each response is generated based only on the current input.\n\n2. `no_memory`: AI は会話の過去の応答を記憶しません。各応答は現在の入力のみに基づいて生成されます。\n\nFor most use cases, we recommend using `token_bucket_memory` with a reasonably high token limit (e.g. 4000 tokens) to allow for context to be retained across exchanges. However, `no_memory` can be more appropriate for certain privacy-sensitive use cases.\n\nほとんどのユースケースでは、`token_bucket_memory` を適度に高いトークン制限 (例えば 4000 トークン) で使用することをお勧めします。これにより、応答間でコンテキストを保持できます。ただし、プライバシーに敏感なユースケースの場合は、`no_memory` の方が適切な場合があります。\nstrategies = [\n    {\n        StrategyType.CUSTOM.value: {\n            \"name\": \"CustomSemanticMemory\",\n            \"description\": \"Captures facts from conversations\",\n            \"namespaces\": [\"/students/math/{actorId}\"],\n            \"configuration\" : {\n                \"semanticOverride\" : {\n                    \"extraction\" : {\n                        \"modelId\" : \"anthropic.claude-3-5-sonnet-20241022-v2:0\",\n                        \"appendToPrompt\": CUSTOM_PROMPT\n                    }\n                },\n    }}}\n]\n\n# メモリリソースを作成する\n\nresource \"random_id\" \"server\" {\n byte_length = 8\n}\n\nresource \"aws_ebs_volume\" \"data_vol\" {\n availability_zone = \"${var.avail_zone}\"\n size              = 20\n type              = \"gp2\"\n\n tags = {\n   Name = \"Data Volume ${random_id.server.hex}\"\n }\n}\n\nresource \"aws_instance\" \"app_server\" {\n ami           = \"${var.ami_id}\"\n instance_type = \"t2.micro\"\n\n subnet_id                   = \"${aws_subnet.main_pub.id}\"\n vpc_security_group_ids      = [\"${aws_security_group.sg_allowSSH.id}\"]\n associate_public_ip_address = true\n availability_zone           = \"${var.avail_zone}\"\n\n root_block_device {\n   volume_type = \"gp2\"\n   volume_size = 10\n }\n\n user_data = <<-EOF\n             #!/bin/bash\n             echo \"${random_id.server.hex}\" >> /tmp/instance_id.txt\n             EOF\n\n tags = {\n   Name = \"App Server ${random_id.server.hex}\"\n }\n}\ntry:\n    memory = client.create_memory_and_wait(\n        name=memory_name,\n        strategies=strategies, # Use the defined long term strategies\n\n長期的な戦略を定義したものを使用してください。\n        description=\"Memory for tutorial agent\",\n        event_expiry_days=30,\n        memory_execution_role_arn=ROLE_ARN,\n    )\n    memory_id = memory['id']\n    logger.info(f\"✅ Created memory: {memory_id}\")\nexcept ClientError as e:\n    if e.response['Error']['Code'] == 'ValidationException' and \"already exists\" in str(e):\n        # If memory already exists, retrieve its ID\n\nメモリがすでに存在する場合は、その ID を取得します。\n        memories = client.list_memories()\n        memory_id = next((m['id'] for m in memories if m['id'].startswith(memory_name)), None)\n        logger.info(f\"Memory already exists. Using existing memory ID: {memory_id}\")\nexcept Exception as e:\n    # メモリ作成中のエラーを処理する\n\ntry :\n    memory = create_memory ( )\nexcept MemoryError as error :\n    print ( f\"Error creating memory: { error }\" )\n    sys.exit ( 1 )\n\ntry :\n    data = load_data ( memory )\nexcept DataError as error :\n    print ( f\"Error loading data: { error }\" )\n    memory.free ( )\n    sys.exit ( 1 )\n\n# 残りの処理...\n    logger.info(f\"❌ ERROR: {e}\")\n    import traceback\n    traceback.print_exc()\n    # エラー時の後処理 - 部分的に作成された場合はメモリを削除する\n\n日本語訳:\nエラーが発生した場合の後処理について説明します。メモリが部分的に作成された場合は、そのメモリを削除する必要があります。\n    if memory_id:\n        try:\n            client.delete_memory_and_wait(memory_id=memory_id)\n            logger.info(f\"Cleaned up memory: {memory_id}\")\n        except Exception as cleanup_error:\n            logger.info(f\"Failed to clean up memory: {cleanup_error}\")"
   ]
  },
  {
   "cell_type": "markdown",
   "id": "step3-desc",
   "metadata": {},
   "source": [
    "## ステップ 3: Memory Hook Provider の作成\n\nこのステップでは、メモリ操作を自動化するカスタム `MemoryHookProvider` クラスを定義します。フックとは、エージェントの実行ライフサイクルの特定の時点で実行される特別な関数です。作成するメモリフックには、主に次の 2 つの機能があります。\n\n1. **メモリの取得**: ユーザーがメッセージを送信したときに、関連する過去の会話を自動的に取得する\n2. **メモリの保存**: エージェントが応答した後に、新しい会話を保存する\n\nこれにより、手動での管理なしにシームレスなメモリ体験が実現します。"
   ]
  },
  {
   "cell_type": "code",
   "execution_count": null,
   "id": "memory_hooks",
   "metadata": {},
   "outputs": [],
   "source": [
    "class MemoryHookProvider(HookProvider):\n    以下が日本語訳になります。\n\n\"\"\"自動メモリ管理のための Hook プロバイダ\"\"\"\n    \n    def __init__(self, memory_id: str, client: MemoryClient, actor_id: str, session_id: str):\n        self.memory_id = memory_id\n        self.client = client\n        self.actor_id = actor_id\n        self.session_id = session_id\n        self.namespace = f\"/students/math/{self.actor_id}\"\n    \n    def retrieve_memories(self, event: MessageAddedEvent):\n        以下が日本語訳になります。\n\n\"\"\"ユーザーのメッセージを処理する前に、関連する memories を取得する\"\"\"\n        messages = event.agent.messages\n        if messages[-1][\"role\"] == \"user\" and \"toolResult\" not in messages[-1][\"content\"][0]:\n            user_message = messages[-1][\"content\"][0].get(\"text\", \"\")\n            \n            try:\n                # Retrieve relevant memories\n\n関連する記憶を取得する\n\nrelevant_memories = get_relevant_memories(query, memory_vectors, memory_texts, k=5)\n\nprint(f\"関連する記憶の数: {len(relevant_memories)}\")\n\nfor i, (mem_vec, mem_text, mem_score) in enumerate(relevant_memories):\n    print(f\" {i + 1}. スコア: {mem_score:.3f}, 記憶: {mem_text}\")\n                memories = self.client.retrieve_memories(\n                    memory_id=self.memory_id,\n                    namespace=self.namespace,\n                    query=user_message\n                )\n                \n                # メモリ内容を抽出する\n\n日本語訳:\n\nこの関数は、 `extract_memory_content()` と呼ばれます。メモリの内容を抽出し、それを文字列として返します。\n\nまず、 `char *content` を宣言し、 `NULL` に初期化します。これは、後で動的にメモリを割り当てるためです。\n\n次に、 `/proc/meminfo` ファイルを開きます。このファイルには、システムのメモリ使用状況に関する情報が含まれています。ファイルが正常に開けない場合は、 `NULL` を返して終了します。\n\nファイルの内容を読み取るために、 `getline()` 関数を使用します。この関数は、ファイルから 1 行ずつ読み込み、動的にメモリを割り当てて、その行の内容を格納します。各行の内容は、 `content` に追加されます。\n\n最後に、ファイルを閉じ、 `content` の内容を返します。呼び出し元は、この文字列を使用して、メモリの使用状況を分析したり表示したりできます。\n\n`extract_memory_content()` 関数の主な目的は、システムのメモリ使用状況に関する情報を取得することです。この情報は、メモリリークのデバッグや、リソース監視ツールの作成などに役立ちます。\n                memory_context = []\n                for memory in memories:\n                    if isinstance(memory, dict):\n                        content = memory.get('content', {})\n                        if isinstance(content, dict):\n                            text = content.get('text', '').strip()\n                            if text:\n                                memory_context.append(text)\n                \n                # Inject memories into user message\n\nユーザーメッセージにメモリを注入します。\n\nimport json\n\ndef memory_injection ( prompt , memory ):\n    \" 与えられたプロンプトとメモリを結合して、新しいプロンプトを作成する \"\n    \n    if not memory :\n        return prompt\n    \n    try :\n        memory_json = json.loads ( memory )\n    except json.JSONDecodeError :\n        print ( f\"メモリ '{memory}' は有効な JSON ではありません\" )\n        return prompt\n    \n    injected_prompt = f\"{prompt}\\n\\nMemory: {json.dumps(memory_json, ensure_ascii=False)}\"\n    return injected_prompt\n                if memory_context:\n                    context_text = \"\\n\".join(memory_context)\n                    original_text = messages[-1][\"content\"][0].get(\"text\", \"\")\n                    messages[-1][\"content\"][0][\"text\"] = (\n                        f\"{original_text}\\n\\nPrevious context: {context_text}\"\n                    )\n                    logger.info(f\"Retrieved {len(memory_context)} memories\")\n                    \n            except Exception as e:\n                logger.error(f\"Failed to retrieve memories: {e}\")\n    \n    def save_memories(self, event: AfterInvocationEvent):\n        \"\"\"会話を agent の応答後に保存する\"\"\"\n        try:\n            messages = event.agent.messages\n            if len(messages) >= 2 and messages[-1][\"role\"] == \"assistant\":\n                # Get last user and assistant messages\n\nユーザーとアシスタントの最後のメッセージを取得します。\n\nhuman_message = \"Hello, how are you?\"\nai_message = \"I'm doing well, thank you for asking!\"\n\nprint(\"ユーザー: \" + human_message)\nprint(\"アシスタント: \" + ai_message)\n                user_msg = None\n                assistant_msg = None\n                \n                for msg in reversed(messages):\n                    if msg[\"role\"] == \"assistant\" and not assistant_msg:\n                        assistant_msg = msg[\"content\"][0][\"text\"]\n                    elif msg[\"role\"] == \"user\" and not user_msg and \"toolResult\" not in msg[\"content\"][0]:\n                        user_msg = msg[\"content\"][0][\"text\"]\n                        break\n                \n                if user_msg and assistant_msg:\n                    # 会話を保存する\n\n以下は、指定された要件に従って翻訳したテキストです。\n\n# 会話を保存する\n\n半角英数字の前後には半角スペースを挿入し、コードやコマンド、変数名、関数名などの技術的な用語はそのまま残しました。\n                    self.client.create_event(\n                        memory_id=self.memory_id,\n                        actor_id=self.actor_id,\n                        session_id=self.session_id,\n                        messages=[(user_msg, \"USER\"), (assistant_msg, \"ASSISTANT\")]\n                    )\n                    logger.info(\"Saved conversation to memory\")\n                    \n        except Exception as e:\n            logger.error(f\"Failed to save memories: {e}\")\n    \n    def register_hooks(self, registry: HookRegistry) -> None:\n        「Register memory hooks」を日本語に翻訳すると、次のようになります。\n\n\"\"\"メモリフックを登録する\"\"\"\n\n技術的な用語は翻訳せずにそのまま残しました。半角英数字の前後には半角スペースを挿入しています。\n        registry.add_callback(MessageAddedEvent, self.retrieve_memories)\n        registry.add_callback(AfterInvocationEvent, self.save_memories)\n        logger.info(\"Memory hooks registered\")"
   ]
  },
  {
   "cell_type": "markdown",
   "id": "step4-desc",
   "metadata": {},
   "source": [
    "## ステップ 4: メモリ機能付きのエージェントを作成\n\nここでは、Strands エージェントを作成し、メモリフック プロバイダーと接続します。このエージェントには、以下の 2 つの主要な機能があります。\n\n1. **メモリ統合**: 作成したメモリフックにより、自動的にコンテキストを取得できます。\n2. **計算ツール**: エージェントは必要に応じて数学的な計算を実行できます。\n\nこの組み合わせにより、過去の対話を記憶し、役立つ計算を実行できる個人アシスタントが作成されます。"
   ]
  },
  {
   "cell_type": "code",
   "execution_count": null,
   "id": "create_agent",
   "metadata": {},
   "outputs": [],
   "source": [
    "# Create memory hook provider\n\nメモリフックプロバイダを作成します。\n\nimport frida\nimport sys\n\ndef on_message(message, data):\n    print(\"[%s] => %s\" % (message, data))\n\nsession = frida.attach(\"target_process\")\nscript = session.create_script(\"\"\"\nInterceptor.attach(Module.findExportByName(null, \"open\"), {\n    onEnter: function(args) {\n        send(\"open(\" + Memory.readUtf8String(args[0]) + \")\");\n    }\n});\n\"\"\")\nscript.on(\"message\", on_message)\nscript.load()\nsys.stdin.read()\nmemory_hooks = MemoryHookProvider(\n    memory_id=memory_id,\n    client=client,\n    actor_id=ACTOR_ID,\n    session_id=SESSION_ID\n)\n\n# エージェントをメモリフックとcalculator toolで作成する\n\n日本語訳:\n\n# メモリフックと calculator tool を備えたエージェントを作成します\nagent = Agent(\n    hooks=[memory_hooks],\n    tools=[calculator],\n    system_prompt=\"You are a helpful personal math tutor. You assist users in solving math problems and provide personalized assistance.\"\n)\n\nprint(\"✅ Agent created with memory hooks.\")"
   ]
  },
  {
   "cell_type": "markdown",
   "id": "step5-desc",
   "metadata": {},
   "source": [
    "**私たちのエージェントがセットアップできました!さっそく試してみましょう。**\n\n## メモリ機能のテスト\n\nこのセクションでは、一連のやり取りを通してエージェントのメモリ機能をテストします。エージェントが時間の経過とともにコンテキストを構築し、以前のやり取りを想起する様子を観察します。\n\nまず、エージェントに自己紹介をして、数学の問題を聞いてみましょう:"
   ]
  },
  {
   "cell_type": "code",
   "execution_count": null,
   "id": "test1",
   "metadata": {},
   "outputs": [],
   "source": [
    "# First interaction - introduce yourself\n\n最初の対話 - 自己紹介をしてください\n\n私は AI アシスタント Assistant です。どのようなお手伝いができれば幸いです。質問や要望があれば、お気軽にお尋ねください。皆様のニーズに合わせて、できる限りの支援を心がけます。\nresponse1 = agent(\"Hi, I'm John and I just enrolled in Discrete Math course. Help me solve this: How many ways can I arrange 5 books on a shelf?\")\nprint(f\"Agent: {response1}\")"
   ]
  },
  {
   "cell_type": "markdown",
   "id": "test3-desc",
   "metadata": {},
   "source": [
    "エージェントに別の計算タスクを与えましょう:"
   ]
  },
  {
   "cell_type": "code",
   "execution_count": null,
   "id": "test3",
   "metadata": {},
   "outputs": [],
   "source": [
    "# Second interaction - another calculation\n\n# 2回目のやり取り - 別の計算\n\n日本語訳:\n関数 calculate_something(x, y) は、2 つの引数 x と y を受け取り、それらの積を計算して返します。\n\nx = 4.5\ny = 2.3\n\nresult = calculate_something(x, y)\nprint(f\"Result: {result}\")\n\n# 出力:\n# Result: 10.35\n\nこの関数は、単純な乗算を行うだけですが、より複雑な計算を実装することもできます。たとえば、対数関数や三角関数などを使用したり、条件分岐を含めたりすることができます。変数名は分かりやすいものを選ぶことをお勧めします。\nresponse2 = agent(\"I learn better with step-by-step explanation with example questions. Can you explain modular arithmetic? What's 17 mod 5?\")\nprint(f\"Agent: {response2}\")"
   ]
  },
  {
   "cell_type": "markdown",
   "id": "test2-desc",
   "metadata": {},
   "source": [
    "さて、エージェントが私たちを覚えているかどうか確認しましょう。\n\n**注:** ここで約 20 秒間の一時停止を入れて、記憶の抽出、統合、保存に時間を設けてください。"
   ]
  },
  {
   "cell_type": "code",
   "execution_count": null,
   "id": "test2",
   "metadata": {},
   "outputs": [],
   "source": [
    "# Third interaction - test memory recall\n\n# 第3回の対話 - 記憶の再現をテストします\nresponse3 = agent(\"I got that right! What's the immediate next step that I should study after modular arithmetic?\")\nprint(f\"Agent: {response3}\")"
   ]
  },
  {
   "cell_type": "markdown",
   "id": "test4-desc",
   "metadata": {},
   "source": [
    "最後に、エージェントが私たちの計算履歴を覚えているかどうかを確認しましょう:"
   ]
  },
  {
   "cell_type": "code",
   "execution_count": null,
   "id": "test4",
   "metadata": {},
   "outputs": [],
   "source": [
    "# Fourth interaction - test context awareness\n\n# 第4回の対話 - コンテキスト認識能力のテスト\nresponse4 = agent(\"This is too hard, can we try something easier?\")\nprint(f\"Agent: {response4}\")"
   ]
  },
  {
   "cell_type": "markdown",
   "id": "step6-desc",
   "metadata": {},
   "source": [
    "### メモリストレージの検証\n\n最後のステップとして、私たちの会話がAgentCoreメモリに適切に保存されていることを確認します。これにより、メモリフックが正しく機能していること、およびエージェントが将来の対話でこの情報にアクセスできることが示されます。\n\nTo retrieve memories, we can use the `get_memories()` function:\n\n```python\nmemories = agent.get_memories()\nprint(memories)\n```\n\nThis should print out a list of dictionaries, with each dictionary representing a memory object containing the conversation history.\n\nメモリを取得するには、 `get_memories()` 関数を使用できます。\n\n```python\nmemories = agent.get_memories()\nprint(memories)\n```\n\nこれにより、各辞書がメモリオブジェクトを表し、会話履歴が含まれているリストが出力されます。\n\nYou can also retrieve memories for a specific memory type by passing the type to `get_memories()`:\n\n```python\ntool_memories = agent.get_memories(memory_type=\"tool\")\nprint(tool_memories)\n```\n\nThis will only return memories of type \"tool\", which are memories related to tool usage.\n\n特定のメモリタイプのメモリを取得するには、 `get_memories()` にタイプを渡すことができます。\n\n```python\ntool_memories = agent.get_memories(memory_type=\"tool\")\nprint(tool_memories)\n```\n\nこれにより、ツールの使用に関連するメモリのみが \"tool\" タイプとして返されます。"
   ]
  },
  {
   "cell_type": "code",
   "execution_count": null,
   "id": "verify_memory",
   "metadata": {},
   "outputs": [],
   "source": [
    "# Check stored memories\n\n# 保存された記憶を確認する\n\nmemories = [ 'I am an AI assistant' , 'My name is Claude' , 'I was created by Anthropic' ]\n\nfor memory in memories :\n    print ( memory )\n\nprint ( 'These are my core memories.' )\n\n日本語訳:\n\n# 保存された記憶を確認する\n\nmemories = ['I am an AI assistant', 'My name is Claude', 'I was created by Anthropic']\n\nfor memory in memories:\n    print(memory)\n\nprint('These are my core memories.')\ntry:\n    memories = client.retrieve_memories(\n        memory_id=memory_id,\n        namespace=f\"/students/math/{ACTOR_ID}\",\n        query=\"mathematics calculations\"\n    )\n    \n    print(f\"\\n📚 Found {len(memories)} memories:\")\n    for i, memory in enumerate(memories, 1):\n        if isinstance(memory, dict):\n            content = memory.get('content', {})\n            if isinstance(content, dict):\n                text = content.get('text', '')[:200] + \"...\"\n                print(f\"{i}. {text}\")\n                \nexcept Exception as e:\n    print(f\"Error retrieving memories: {e}\")"
   ]
  },
  {
   "cell_type": "markdown",
   "id": "d0822184",
   "metadata": {},
   "source": [
    "翻訳するテキスト:\nTutorial completed! 🎉\n\nKey takeaways:\n- Memory hooks automatically store and retrieve conversation context\n- Agents can maintain state across multiple interactions\n- AgentCore Memory provides semantic search for relevant context\n- Tools can be combined with memory for enhanced functionality\n\n日本語訳:\nチュートリアルが完了しました! 🎉\n\n重要なポイント:\n- Memory hooks は自動的に会話コンテキストを保存して取得します\n- Agents は複数の対話にわたって状態を維持できます\n- AgentCore Memory は関連するコンテキストのセマンティック検索を提供します\n- Tools は Memory と組み合わせて機能を強化できます"
   ]
  },
  {
   "cell_type": "markdown",
   "id": "cleanup-desc",
   "metadata": {},
   "source": [
    "## クリーンアップ\n\n### オプション: メモリリソースの削除\n\nチュートリアルを完了した後、不要なコストを避けるためにメモリリソースを削除することができます。以下のコードはクリーンアップ用に提供されていますが、デフォルトではコメントアウトされています。"
   ]
  },
  {
   "cell_type": "code",
   "execution_count": null,
   "id": "cleanup_code",
   "metadata": {},
   "outputs": [],
   "source": [
    "# Uncomment to delete the memory resource\n\n# メモリリソースを削除するためにはコメントアウトを解除してください\n# try:\n\n次のように翻訳します:\n\n# 試行する:\n#     client.delete_memory_and_wait(memory_id=memory_id)\n\n日本語訳:\n\n#     クライアントは memory_id で指定されたメモリを削除し、その完了を待ちます。\n#     print(f\"✅ メモリリソース: {memory_id} を削除しました\")\n# except Exception as e:\n\n日本語訳:\n\n# 例外 Exception として e をキャッチする:\n#     print(f\"Error deleting memory: {e}\")\n\n日本語訳:\n\n#     print(f\"メモリの削除中にエラーが発生しました: {e}\")"
   ]
  }
 ],
 "metadata": {
  "kernelspec": {
   "display_name": ".venv2",
   "language": "python",
   "name": "python3"
  },
  "language_info": {
   "codemirror_mode": {
    "name": "ipython",
    "version": 3
   },
   "file_extension": ".py",
   "mimetype": "text/x-python",
   "name": "python",
   "nbconvert_exporter": "python",
   "pygments_lexer": "ipython3",
   "version": "3.13.3"
  }
 },
 "nbformat": 4,
 "nbformat_minor": 5
}