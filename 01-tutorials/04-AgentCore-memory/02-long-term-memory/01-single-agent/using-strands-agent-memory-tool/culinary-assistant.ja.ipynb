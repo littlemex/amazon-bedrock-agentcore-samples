{
 "cells": [
  {
   "cell_type": "markdown",
   "id": "b71c4556-da01-4860-b4d8-a4981431bf31",
   "metadata": {},
   "source": [
    "# Strands Agents with AgentCore Memory (Long-term) using tools\n\n日本語訳:\n\n# ツールを使用した AgentCore メモリ (長期) を持つ Strands エージェント\n\nStrands エージェントは、長期的な記憶を持つ AgentCore を使用しています。これにより、エージェントは以前の対話を覚えており、コンテキストに基づいて応答できます。また、エージェントはツールを使用して、さまざまなタスクを実行できます。たとえば、 search_quality_reflection ツールを使用して、検索結果の質を評価したり、 search_quality_score を使用して検索結果の質を 0 ～ 5 の範囲で数値化したりできます。 result_quality_reflection ツールを使用すると、最終的な結果の質を評価できます。"
   ]
  },
  {
   "attachments": {},
   "cell_type": "markdown",
   "id": "580a2aa3-6a72-4c2f-bfea-9964822c4f24",
   "metadata": {},
   "source": [
    "## 概要\n\nこのノートブックでは、Strands と AgentCore Memory を使用して会話 AI エージェントに長期記憶機能を実装する方法を示します。短期的な対話から重要な情報を抽出して統合する方法を学び、エージェントが複数の会話セッションにわたって重要な詳細を想起できるようになります。\n\n## チュートリアルの詳細\n\n**ユースケース:** 永続的なメモリを持つ料理アシスタント\n\n| 情報                | 詳細                                                                              |\n|:--------------------|:----------------------------------------------------------------------------------|\n| チュートリアルの種類 | 長期会話                                                                         |\n| エージェントの種類   | 料理アシスタント                                                                 |\n| エージェントフレームワーク | Strands Agents                                                                   |\n| LLM モデル          | Anthropic Claude Sonnet 3.7                                                      |\n| チュートリアルコンポーネント | AgentCore 'User Preferences' Memory Extraction、メモリの保存と取得のための Memory Tool |\n| 例の複雑さ          | 初級                                                                             |\n\n以下のことを学びます:\n- 長期保持のための抽出戦略を使用して AgentCore Memory を構成する\n- 前の会話履歴でメモリを初期化する\n- 長期記憶を使用して、会話セッションにわたって個人化された体験を提供する\n- Strands Agent Framework と AgentCore Memory ツールを統合する\n\n## シナリオのコンテキスト\n\nこのチュートリアルでは、非常に個人化されたレストラン推薦を提供するように設計された料理アシスタントの役割を担います。AgentCore Memory の長期保持と自動情報抽出機能を活用することで、エージェントはユーザーの食事制限や好みの料理などの嗜好を複数の会話にわたって記憶できます。この永続的なメモリにより、会話が数日または数週間に及んでも、エージェントはユーザーに合わせた提案とシームレスな体験を提供できます。このシナリオでは、構造化されたメモリ構成と設定可能な戦略が、会話 AI に短期的な想起を超えた真に魅力的で状況を認識したインタラクションを実現する力を与えることを示しています。\n\n## アーキテクチャ\n\n<div style=\"text-align:left\">\n    <img src=\"architecture.png\" width=\"65%\" />\n</div>\n\n## 前提条件\n\nこのチュートリアルを実行するには、以下が必要です:\n- Python 3.10 以上\n- Amazon Bedrock AgentCore Memory の許可を持つ AWS 認証情報\n- Amazon Bedrock AgentCore SDK\n\n適切な抽出戦略を使用して長期メモリリソースを作成し、環境をセットアップしましょう!"
   ]
  },
  {
   "cell_type": "markdown",
   "id": "e081f107-453e-4297-8b54-52f09dc9de9a",
   "metadata": {},
   "source": [
    "## ステップ 1: 環境設定\n必要なすべてのライブラリをインポートし、このノートブックを動作させるためのクライアントを定義しましょう。"
   ]
  },
  {
   "cell_type": "code",
   "execution_count": null,
   "id": "27c1a741-4244-4e21-b383-1d4d1b306c3e",
   "metadata": {},
   "outputs": [],
   "source": [
    "!pip install -qr requirements.txt"
   ]
  },
  {
   "cell_type": "code",
   "execution_count": null,
   "id": "d988b230-549f-44c8-8a9c-66bdda8e4505",
   "metadata": {},
   "outputs": [],
   "source": [
    "import time\n",
    "import logging\n",
    "import time\n",
    "from datetime import datetime"
   ]
  },
  {
   "cell_type": "markdown",
   "id": "5b0236d0-6b5e-4dd9-96fc-c02709fcc6e3",
   "metadata": {},
   "source": [
    "以下が日本語訳になります。\n\nAmazon Bedrock models と AgentCore に適切な権限を持つリージョンとロールを定義してください。"
   ]
  },
  {
   "cell_type": "code",
   "execution_count": null,
   "id": "33337482-9a1e-4d6c-8d2f-80e394d4f230",
   "metadata": {},
   "outputs": [],
   "source": [
    "import os\n",
    "\n",
    "logging.basicConfig(level=logging.INFO, format=\"%(asctime)s - %(levelname)s - %(message)s\", datefmt=\"%Y-%m-%d %H:%M:%S\")\n",
    "logger = logging.getLogger(\"culinary-memory\")\n",
    "\n",
    "region = os.getenv('AWS_REGION', 'us-west-2')"
   ]
  },
  {
   "cell_type": "markdown",
   "id": "54f57dad-9309-46fa-a0b6-f1dceadfb65b",
   "metadata": {},
   "source": [
    "## ステップ 2: 長期戦略を使ってメモリを作成する\n\nこのセクションでは、長期メモリ機能を備えたメモリリソースを作成します。前の短期メモリの例とは異なり、この実装には統合された情報を保持できる特定のメモリ戦略が含まれています。"
   ]
  },
  {
   "cell_type": "code",
   "execution_count": null,
   "id": "dc4cbd5d-ed80-4ed8-a214-161f568abf2a",
   "metadata": {},
   "outputs": [],
   "source": [
    "from bedrock_agentcore.memory import MemoryClient\n",
    "from bedrock_agentcore.memory.constants import StrategyType\n",
    "\n",
    "client = MemoryClient(region_name=region)\n",
    "\n",
    "memory_name = \"CulinaryAssistant\"\n",
    "memory_id = None"
   ]
  },
  {
   "cell_type": "code",
   "execution_count": null,
   "id": "b30affac-ba24-4b66-9c30-d20f46b46c55",
   "metadata": {},
   "outputs": [],
   "source": [
    "from botocore.exceptions import ClientError\n\ntry:\n    print(\"Creating Long-Term Memory...\")\n\n    # We use a more descriptive name for our long-term memory resource\n\n長期記憶リソースにより説明的な名前を使用します。\n    memory_name = memory_name\n\n    # Create memory with user preference strategy\n    memory = client.create_memory_and_wait(\n        name=memory_name,\n        description=\"Culinary Assistant Agent with long term memory\",\n        strategies=[{\n                    StrategyType.USER_PREFERENCE.value: {\n                        \"name\": \"UserPreferences\",\n                        \"description\": \"Captures user preferences\",\n                        \"namespaces\": [\"user/{actorId}/preferences\"]\n                    }\n                }],\n        event_expiry_days=7,\n        max_wait=300,\n        poll_interval=10\n    )\n\n    memory_id = memory['memoryId']\n    print(f\"Memory created successfully with ID: {memory_id}\")\n    \nexcept ClientError as e:\n    if e.response['Error']['Code'] == 'ValidationException' and \"already exists\" in str(e):\n        # If memory already exists, retrieve its ID\n\nメモリがすでに存在する場合は、その ID を取得します。\n        memories = client.list_memories()\n        memory_id = next((m['id'] for m in memories if m['id'].startswith(memory_name)), None)\n        logger.info(f\"Memory already exists. Using existing memory ID: {memory_id}\")\nexcept Exception as e:\n    # メモリ作成中のエラーを処理する\n\ntry :\n    memory = create_memory ( )\nexcept MemoryError as error :\n    print ( f\"Error creating memory: { error }\" )\n    sys.exit ( 1 )\n\ntry :\n    data = load_data ( )\n    memory.load ( data )\nexcept ( DataError , MemoryError ) as error :\n    print ( f\"Error loading data into memory: { error }\" )\n    sys.exit ( 1 )\n\nprint ( \"Memory loaded successfully.\" )\n    logger.info(f\"❌ ERROR: {e}\")\n    import traceback\n    traceback.print_exc()\n    # エラー時の後処理 - 部分的に作成された場合はメモリを削除する\n\n日本語訳:\nエラー発生時の後処理として、メモリが部分的に作成された場合は削除します。 malloc() 関数が失敗した場合、つまり NULL ポインタが返された場合は、すでに割り当てられたメモリを解放する必要があります。そのため、以下のように処理を行います。\n\n```c\nvoid * ptr = malloc(size);\nif (ptr == NULL) {\n    /* エラー処理 */\n    return NULL;\n}\n\n/* 部分的に割り当てられたメモリを解放する */\nfor (int i = 0; i < num_chunks; i++) {\n    if (chunks[i] != NULL) {\n        free(chunks[i]);\n    }\n}\n\nfree(ptr);\nreturn NULL;\n```\n\nこの例では、 malloc() が失敗した場合、すでに割り当てられた chunks[i] のメモリを解放し、最後に ptr のメモリを解放しています。このようにして、リソースの漏れを防ぐことができます。\n    if memory_id:\n        try:\n            client.delete_memory_and_wait(memory_id=memory_id)\n            logger.info(f\"Cleaned up memory: {memory_id}\")\n        except Exception as cleanup_error:\n            logger.info(f\"Failed to clean up memory: {cleanup_error}\")"
   ]
  },
  {
   "cell_type": "markdown",
   "id": "d07c1923-ab99-48ac-a0cd-20e99ac19ae4",
   "metadata": {},
   "source": [
    "### 長期メモリ戦略の理解\n\nこの記憶の作成における重要な違いは、**メモリ戦略**の追加です。構成要素を分解しましょう。\n\n#### 1. ユーザー設定メモリ戦略\n\nこの戦略は、会話からユーザーの設定を自動的に特定して抽出します。\n\n```python\n\"userPreferenceMemoryStrategy\": {\n    \"name\": \"UserPreferences\",\n    \"description\": \"Captures user preferences\",\n    \"namespaces\": [\"user/{actorId}/preferences\"]\n}\n```\n\n#### 2. メモリ名前空間\n\n`namespaces` パラメータは、抽出された情報が格納される場所を定義します。\n\n```python\n\"namespaces\": [\"user/{actorId}/preferences\"]\n```"
   ]
  },
  {
   "cell_type": "markdown",
   "id": "42caddab-067b-4149-bc89-49e326b63e6f",
   "metadata": {},
   "source": [
    "この memory 戦略は、単に会話を記憶するだけでなく、その会話の中の重要な情報を実際に理解し、将来の使用のために整理する、より洗練されたメモリシステムを作り出します。"
   ]
  },
  {
   "cell_type": "markdown",
   "id": "f1286ee9-1c6a-4dcd-a8fd-09a2c3b44327",
   "metadata": {},
   "source": [
    "## ステップ 3: 過去の会話をメモリに保存する\n\nこのセクションでは、短期メモリを水和する方法を示します。これにより、バックグラウンドで長期メモリの抽出プロセスが自動的にトリガーされます。\n\n### 短期メモリの水和\n\n会話を抽出戦略で構成されたメモリリソースに保存すると、システムは追加のコードを必要とせずに、この情報を自動的に処理して長期保持します。"
   ]
  },
  {
   "cell_type": "code",
   "execution_count": null,
   "id": "c9acdc73-191f-4bd5-8ae4-049bd29cffb9",
   "metadata": {},
   "outputs": [],
   "source": [
    "actor_id = f\"user-{datetime.now().strftime('%Y%m%d%H%M%S')}\"\n",
    "session_id = f\"foodie-{datetime.now().strftime('%Y%m%d%H%M%S')}\"\n",
    "namespace = f\"user/{actor_id}/preferences\""
   ]
  },
  {
   "cell_type": "code",
   "execution_count": null,
   "id": "ff244b8d-945e-4a9c-a9fb-076b85ef6340",
   "metadata": {},
   "outputs": [],
   "source": [
    "previous_messages = [\n",
    "    (\"Hi, I'm John\", \"USER\"),\n",
    "    (\"Hi John, how can I help you with food recommendations today?\", \"ASSISTANT\"),\n",
    "    (\"I'm looking for some vegetarian dishes to try this weekend.\", \"USER\"),\n",
    "    (\"That sounds great! I'd be happy to help with vegetarian recommendations. Do you have any specific ingredients or cuisine types you prefer?\", \"ASSISTANT\"),\n",
    "    (\"Yes, I really like tofu and fresh vegetables in my dishes\", \"USER\"),\n",
    "    (\"Perfect! Tofu and fresh vegetables make for excellent vegetarian meals. I can suggest some stir-fries, Buddha bowls, or tofu curries. Do you have any other preferences?\", \"ASSISTANT\"),\n",
    "    (\"I also really enjoy Italian cuisine. I love pasta dishes and would like them to be vegetarian-friendly.\", \"USER\"),\n",
    "    (\"Excellent! Italian cuisine has wonderful vegetarian options. I can recommend pasta primavera, mushroom risotto, eggplant parmesan, or penne arrabbiata. The combination of Italian flavors with vegetarian ingredients creates delicious meals!\", \"ASSISTANT\"),\n",
    "    (\"I spent 2 hours looking through cookbooks but couldn't find inspiring vegetarian Italian recipes\", \"USER\"),\n",
    "    (\"I'm sorry you had trouble finding inspiring recipes! Let me help you with some creative vegetarian Italian dishes. How about stuffed bell peppers with Italian herbs and rice, spinach and ricotta cannelloni, or a Mediterranean vegetable lasagna?\", \"ASSISTANT\"),\n",
    "    (\"Hey, I appreciate food assistants with good taste\", \"USER\"),\n",
    "    (\"Ha! I definitely try to bring good taste to the table! Speaking of which, shall we explore some more vegetarian Italian recipes that might inspire you?\", \"ASSISTANT\")\n",
    "]"
   ]
  },
  {
   "cell_type": "code",
   "execution_count": null,
   "id": "3207c445-7da2-48b0-a5f7-7d1cfbf1d275",
   "metadata": {},
   "outputs": [],
   "source": [
    "print(\"\\nHydrating short term memory with previous conversations...\")\n\n# 会話履歴をショートターム メモリに保存する\n\n日本語訳:\n\n# 会話履歴を short-term memory に保存します\ninitial = client.create_event(\n    memory_id=memory_id,\n    actor_id=actor_id,\n    session_id=session_id,\n    messages=previous_messages,\n)\nprint(\"✓ Conversation saved in short term memory\")"
   ]
  },
  {
   "cell_type": "markdown",
   "id": "d3fc66c0-5f52-424b-a0c3-caebdee7614d",
   "metadata": {},
   "source": [
    "会話メッセージを含むイベントが正しく保存されたことを確認しましょう。"
   ]
  },
  {
   "cell_type": "code",
   "execution_count": null,
   "id": "e9f78246-d518-49fd-af76-bb0c9c0add82",
   "metadata": {},
   "outputs": [],
   "source": [
    "events = client.list_events(\n",
    "    memory_id=memory_id,\n",
    "    actor_id=actor_id,\n",
    "    session_id=session_id,\n",
    "    max_results=5\n",
    ")\n",
    "events"
   ]
  },
  {
   "cell_type": "markdown",
   "id": "dc7bdb56-bc81-4d16-b86a-a8485bb1643e",
   "metadata": {},
   "source": [
    "以下が日本語訳になります。\n\nこの セル は、実行中に情報を伝える メッセージ を 表示する よう ロギング システム を 設定し ます。これにより、コード が 実行される 際に 何が 起こっている か を 追跡する の に 役立ち ます。"
   ]
  },
  {
   "cell_type": "markdown",
   "id": "b8a5e4ea-cc67-46ac-957a-7a1c9cc2e71e",
   "metadata": {},
   "source": [
    "### 裏側で起こること\n\n`create_event` の呼び出し後、以下が自動的に発生します。\n\n1. **短期ストレージ**: 完全な会話が生のままで保存されます\n2. **抽出トリガー**: メモリシステムは、このメモリに UserPreference 戦略が設定されていることを検出します\n3. **バックグラウンド処理**: 追加のコードなしで、システムは以下を行います。\n   - 会話を分析して嗜好指標を探します\n   - \"私は菜食主義者です\" や \"本当にイタリア料理が好きです\" などの発言を特定します\n   - これらの嗜好を構造化されたデータとして抽出します\n4. **長期統合**: 抽出された嗜好は、設定された名前空間 (`user/{actorId}/preferences`) に保存されます\n\n抽出と統合は自動的に行われます。エージェントとの会話を維持するか、短期メモリを注入するだけで、メモリ作成時に設定した戦略が残りの処理を行います。\n\nこの自動プロセスにより、短期会話記録の有効期限が切れた後でも、重要な情報が長期メモリに保存されます。"
   ]
  },
  {
   "cell_type": "markdown",
   "id": "ef17bb40-66f8-406e-ac63-2da53d9c5468",
   "metadata": {},
   "source": [
    "## 長期記憶の取得\n\nこのセクションでは、長期記憶に保存された抽出された設定を取得する方法を探ります。会話のターンに焦点を当てる短期記憶の取得とは異なり、長期記憶の取得は抽出され統合された構造化された情報にアクセスすることに焦点を当てています。"
   ]
  },
  {
   "cell_type": "markdown",
   "id": "0ab1ab05-a759-41a4-b558-8a0dcc3086cd",
   "metadata": {},
   "source": [
    "### 長期メモリからユーザー設定にアクセスする\n\n長期メモリから情報を取得するには、メモリ作成時に定義された namespace 構造を使用します。\n\n日本語訳:"
   ]
  },
  {
   "cell_type": "code",
   "execution_count": null,
   "id": "4b3b1f3f-cd32-418e-ad04-af8736907e83",
   "metadata": {},
   "outputs": [],
   "source": [
    "# Adding a 30s wait to ensure the memory extraction has time to process the event\n\n日本語訳:\n# メモリ抽出がイベントを処理するのに十分な時間があることを確認するために 30 秒の待ち時間を追加します\ntime.sleep(30)\n\ntry:\n    # Query the memory system for food preferences\n\nメモリシステムに食べ物の好みを問い合わせる\n    food_preferences = client.retrieve_memories(\n        memory_id=memory_id,\n        namespace=namespace,\n        query=\"food preferences\",\n        top_k=3  # Return up to 3 most relevant results\n\nこの行は翻訳せずにそのまま残します。\n\n上記の行は、コードやコマンドの一部であると判断されるためです。 \n\nコードやコマンド、変数名、関数名などの技術的な用語は翻訳せずにそのまま残すよう、指示されています。\n    )\n\n    if food_preferences:\n        print(f\"Retrieved {len(food_preferences)} relevant preference records:\")\n        for i, record in enumerate(food_preferences):\n            print(f\"\\nMemory {i+1}:\")\n            print(f\"- Content: {record.get('content', 'Not specified')}\")\n    else:\n        print(\"No matching preference records found.\")\n\nexcept Exception as e:\n    print(f\"Error retrieving preference records: {e}\")"
   ]
  },
  {
   "cell_type": "markdown",
   "id": "b6402f50-318f-4c1c-94d5-6dedf3494022",
   "metadata": {},
   "source": [
    "以下が日本語訳になります。\n\nこの方法により、必要に応じて関連する記憶を取り出すことができます。基本を学んだので、次は私たちのエージェントを構築しましょう!"
   ]
  },
  {
   "cell_type": "markdown",
   "id": "b7fad557-0390-4027-b45e-0de74fd92f50",
   "metadata": {},
   "source": [
    "## ステップ 4: エージェントの作成\nこのセクションでは、ネイティブの `agent_core_memory` ツールを使用して、AgentCore Memory を Strands エージェントと統合する方法を説明します。\n\n#### 長期記憶機能を備えたエージェントのセットアップ\n記憶機能付きのエージェントを作成するには、Strands フレームワークを使用し、AgentCore Memory リソースに接続します。"
   ]
  },
  {
   "cell_type": "code",
   "execution_count": null,
   "id": "1ace0e24-6856-48f2-8038-4bade9858937",
   "metadata": {},
   "outputs": [],
   "source": [
    "from strands import tool, Agent\n",
    "from strands_tools.agent_core_memory import AgentCoreMemoryToolProvider"
   ]
  },
  {
   "cell_type": "code",
   "execution_count": null,
   "id": "195c3775-cce3-4b47-8d9e-db1d7e8dcae8",
   "metadata": {},
   "outputs": [],
   "source": [
    "system_prompt = f\"\"\"あなたは Culinary Assistant という高度な飲食店推薦アシスタントです。\n\n目的:\n- ユーザーの好みに基づいて飲食店を見つけるのを支援する\n- 会話を通してユーザーの好みを記憶する\n- パーソナライズされた飲食店の推薦を行う\n\n\"\"\""
   ]
  },
  {
   "cell_type": "code",
   "execution_count": null,
   "id": "da9a8ec9-547e-466a-bdc8-0e68f46b02d2",
   "metadata": {},
   "outputs": [],
   "source": [
    "provider = AgentCoreMemoryToolProvider(\n",
    "    memory_id=memory_id,\n",
    "    actor_id=actor_id,\n",
    "    session_id=session_id,\n",
    "    namespace=namespace\n",
    ")\n",
    "\n",
    "agent = Agent(tools=provider.tools, system_prompt=system_prompt)"
   ]
  },
  {
   "cell_type": "markdown",
   "id": "984cbf6c-ddfa-494a-b0c2-f03947b39e22",
   "metadata": {},
   "source": [
    "私たちはすでに短期記憶と長期記憶を構築しましたので、エージェントから直接記憶を取り出しましょう!\n\n日本語訳: 短期記憶と長期記憶を既に構築済みですので、エージェントから直接 memory を取り出しましょう!"
   ]
  },
  {
   "cell_type": "code",
   "execution_count": null,
   "id": "60c57280-7072-4890-9a98-944708906cda",
   "metadata": {},
   "outputs": [],
   "source": [
    "agent(\"Give me restaurant recommendations in Irvine based on my food preferences\")"
   ]
  },
  {
   "cell_type": "markdown",
   "id": "410a16bf-f99d-4f46-92b1-7ed7da8feebf",
   "metadata": {},
   "source": [
    "エージェントは retrieve_memory_records メソッドを使用して、ユーザーの記憶を取得する必要がありました。"
   ]
  },
  {
   "cell_type": "markdown",
   "id": "6c43fcdc-a8f6-4da7-8dd9-d34a1a619237",
   "metadata": {},
   "source": [
    "素晴らしい! あなたは AgentCore の長期記憶から記憶を取り出すことができる Strands Agent を手に入れました!"
   ]
  },
  {
   "cell_type": "markdown",
   "id": "3105d43e-0795-42c6-8b1c-e6425983de57",
   "metadata": {},
   "source": [
    "## リソースの解放\nこのノートブックで使用したリソースを解放するため、メモリを削除しましょう。"
   ]
  },
  {
   "cell_type": "code",
   "execution_count": null,
   "id": "af61a83e-2128-4a79-a9cc-49dbee2d70c8",
   "metadata": {},
   "outputs": [],
   "source": [
    "#client.delete_memory_and_wait(\n\n日本語訳:\n# client.delete_memory_and_wait( は、技術的な用語のため翻訳せずにそのまま残します。この関数は、おそらくクライアントのメモリを削除し、その処理が完了するまで待機することを意味しています。\n#        memory_id = memory_id,\n\n日本語訳:\n\n#        memory_id = memory_id,\n#        max_wait = 300,\n\n日本語訳:\n#        max_wait = 300,\n#        poll_interval =10\n\n日本語訳:\n\n#        poll_interval = 10\n翻訳するテキスト:\n\n# )\n\n日本語訳:\n\n# ) は空のコメントです。"
   ]
  }
 ],
 "metadata": {
  "kernelspec": {
   "display_name": "conda_python3",
   "language": "python",
   "name": "conda_python3"
  },
  "language_info": {
   "codemirror_mode": {
    "name": "ipython",
    "version": 3
   },
   "file_extension": ".py",
   "mimetype": "text/x-python",
   "name": "python",
   "nbconvert_exporter": "python",
   "pygments_lexer": "ipython3",
   "version": "3.10.18"
  }
 },
 "nbformat": 4,
 "nbformat_minor": 5
}