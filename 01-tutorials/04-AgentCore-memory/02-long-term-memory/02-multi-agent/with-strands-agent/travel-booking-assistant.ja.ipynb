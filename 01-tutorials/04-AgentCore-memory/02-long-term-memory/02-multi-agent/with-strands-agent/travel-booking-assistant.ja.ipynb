{
 "cells": [
  {
   "cell_type": "markdown",
   "id": "4a87f55f-9cb5-4aee-8d80-cd3b7935aa2d",
   "metadata": {},
   "source": [
    "# Strands Agents with AgentCore Memory (Long term memory via Tool)\n\n日本語訳:\n\n# Strands エージェントと AgentCore メモリ (ツールによる長期メモリ)\n\n AgentCore は、エージェントの長期メモリを提供するツールです。エージェントは、 AgentCore を使用して情報を保存および取得できます。これにより、エージェントは以前の対話から関連情報を記憶し、それを利用して新しい対話に適用できます。\n\n AgentCore は、 vector_store を使用してエージェントの長期メモリを実装します。 vector_store は、テキストの意味的な表現 (ベクトル) を保存し、それらの間の意味的な類似性に基づいて関連情報を取得できる機能を提供します。\n\n AgentCore を使用するには、まず vector_store を初期化する必要があります。次に、 memory_stream を介して情報を追加し、 memory_stream から情報を取得できます。 memory_stream は、エージェントの入力と出力を自動的に追加するため、エージェントは明示的に情報を追加する必要はありません。\n\n AgentCore は、長期メモリを提供するだけでなく、関連情報を取得するための関数 (get_relevant_documents など) も提供します。これらの関数は、vector_store の機能を利用して、与えられた入力に関連する情報を取得します。\n\n AgentCore は、エージェントの長期メモリを管理するための強力なツールです。これにより、エージェントは過去の対話から学習し、より適切で関連性の高い応答を生成できます。"
   ]
  },
  {
   "cell_type": "markdown",
   "id": "295730ce-6bc3-40bf-94bc-c534fd6a950d",
   "metadata": {},
   "source": [
    "## はじめに\n\nこのノートブックでは、AgentCore Memory と Strands フレームワークを使用して **共有の長期メモリを持つマルチエージェントシステム** を実装する方法を示します。複数の専門エージェントが共通の長期メモリストアにアクセスしながら、各エージェント専用の名前空間を使って協力する方法を探ります。\n\n### チュートリアルの詳細\n\n| 情報                | 詳細                                                                              |\n|:--------------------|:----------------------------------------------------------------------------------|\n| チュートリアルの種類 | 長期会話型                                                                       |\n| エージェントの種類   | 旅行予約アシスタント                                                             |\n| エージェントフレームワーク | Strands Agents                                                            |\n| LLM モデル          | Anthropic Claude Sonnet 3.7                                                       |\n| チュートリアルコンポーネント | AgentCore ユーザー設定メモリ抽出、メモリの保存と取得のためのツール        |\n| 例の複雑さ           | 中級                                                                             |\n\n学習内容:\n\n- 長期メモリ戦略を持つ共有メモリリソースの設定方法\n- 専用の名前空間にアクセスできる特化したエージェントの作成\n- 専門エージェントに委任するコーディネーターエージェントの実装\n- エージェントの特化のための構造化された名前空間メモリの活用\n\n## シナリオのコンテキスト\n\nこの例では、以下のような **旅行プランニングシステム** を作成します。\n1. 旅行の設定と履歴の長期メモリを持つ航空券予約アシスタント\n2. 宿泊施設の設定の長期メモリを持つホテル予約アシスタント\n3. これらの専門エージェントを調整する旅行コーディネーター\n\n各専門エージェントは、共通のメモリストア内の独自の名前空間にアクセスできるため、時間の経過とともにユーザーの設定に関する永続的な理解を構築できます。このアプローチでは、複雑なドメインを専門エージェントに分割し、メモリインフラストラクチャを共有しながら、それぞれの専門分野を維持できることを示しています。\n\n## アーキテクチャ\n<div style=\"text-align:left\">\n    <img src=\"architecture.png\" width=\"65%\" />\n</div>\n\n## 前提条件\n\nこのチュートリアルを実行するには、以下が必要です。\n- Python 3.10 以上\n- Amazon Bedrock AgentCore Memory の許可を持つ AWS 認証情報\n- Amazon Bedrock AgentCore SDK\n\nそれでは、環境を設定し、共有の長期メモリリソースを作成しましょう!"
   ]
  },
  {
   "cell_type": "markdown",
   "id": "5a9f2653-69ca-4241-95b1-063085edf695",
   "metadata": {},
   "source": [
    "## ステップ 1: 環境設定\n必要なすべてのライブラリをインポートし、このノートブックを動作させるためのクライアントを定義しましょう。"
   ]
  },
  {
   "cell_type": "code",
   "execution_count": null,
   "id": "0ea35f65-29ba-42e7-a756-7ab5b93a84ce",
   "metadata": {},
   "outputs": [],
   "source": [
    "!pip install -qr requirements.txt"
   ]
  },
  {
   "cell_type": "code",
   "execution_count": null,
   "id": "f63a5236-2e64-4029-876c-87fe808ce0a8",
   "metadata": {},
   "outputs": [],
   "source": [
    "import logging\n",
    "import time\n",
    "from datetime import datetime\n",
    "from strands.hooks import AfterInvocationEvent, HookProvider, HookRegistry\n",
    "\n",
    "logging.basicConfig(level=logging.INFO, format=\"%(asctime)s - %(levelname)s - %(message)s\", datefmt=\"%Y-%m-%d %H:%M:%S\")\n",
    "logger = logging.getLogger(\"travel-assistant\")"
   ]
  },
  {
   "cell_type": "markdown",
   "id": "acb536ec-494a-45e5-b425-aaa2b7f21792",
   "metadata": {},
   "source": [
    "以下が日本語訳になります。\n\nAmazon Bedrock models と AgentCore に適切な権限を持つリージョンを定義してください。"
   ]
  },
  {
   "cell_type": "code",
   "execution_count": null,
   "id": "746a9e5c-0893-431a-9585-9e8bfb13fd52",
   "metadata": {},
   "outputs": [],
   "source": [
    "region = \"us-west-2\" # Replace with your AWS region\n\nAWS リージョンを指定してください。\n\nregion = 'us-west-2'\n\n# Create a DynamoDB resource\ndynamodb = boto3.resource('dynamodb', region_name=region)\n\n# Create the DynamoDB table\ntable = dynamodb.create_table(\n    TableName='Users',\n    KeySchema=[\n        {\n            'AttributeName': 'username',\n            'KeyType': 'HASH'\n        }\n    ],\n    AttributeDefinitions=[\n        {\n            'AttributeName': 'username',\n            'AttributeType': 'S'\n        }\n    ],\n    ProvisionedThroughput={\n        'ReadCapacityUnits': 5,\n        'WriteCapacityUnits': 5\n    }\n)\n\nprint(f'Table status: {table.table_status}')"
   ]
  },
  {
   "cell_type": "markdown",
   "id": "ef644e57-9e6f-413d-9b26-5eeb775d7760",
   "metadata": {},
   "source": [
    "## ステップ 2: 共有メモリリソースの作成\nこのセクションでは、各エージェント専用の名前空間を持つ共通の長期メモリストアを作成します。"
   ]
  },
  {
   "cell_type": "code",
   "execution_count": null,
   "id": "86de86a0-825b-4d4d-8180-3d31c4c1fd94",
   "metadata": {},
   "outputs": [],
   "source": [
    "from bedrock_agentcore.memory import MemoryClient\n",
    "from bedrock_agentcore.memory.constants import StrategyType\n",
    "\n",
    "client = MemoryClient(region_name=region)\n",
    "memory_name = \"TravelAgent_LTM\"\n",
    "memory_id = None"
   ]
  },
  {
   "cell_type": "code",
   "execution_count": null,
   "id": "8f32d7a9-dcdd-4296-968c-94aa7f3a7c30",
   "metadata": {},
   "outputs": [],
   "source": [
    "from botocore.exceptions import ClientError\n\ntry:\n    print(\"Creating Memory with Long-Term Strategy...\")\n    # Create the memory resource with a single long-term memory strategy\n\nメモリリソースを 1 つの長期メモリ戦略で作成します。\n    # The {actorId} placeholder will be dynamically replaced with the actual actor ID\n\n日本語訳:\n# {actorId} プレースホルダーは実際の actor ID に動的に置き換えられます\n    memory = client.create_memory_and_wait(\n        name=memory_name,\n        description=\"Travel Agent with Long-Term Memory\",\n        strategies=[{\n            StrategyType.USER_PREFERENCE.value: {\n                \"name\": \"UserPreferences\",\n                \"description\": \"Captures user preferences\",\n                \"namespaces\": [\"travel/{actorId}/preferences\"]\n            }\n        }],\n        event_expiry_days=7,  # Short-term conversation expires after 7 days\n\n日本語訳:\n\n短期会話は 7 日後に期限切れになります。\n        max_wait=300,\n        poll_interval=10\n    )\n\n    # メモリIDを抽出して出力する\n\nmemory_id = subprocess.check_output([ 'cat', '/proc/meminfo' ])\nprint( \"Memory ID: \" + memory_id.split()[1] )\n    memory_id = memory['id']\n    print(f\"Memory created successfully with ID: {memory_id}\")\nexcept ClientError as e:\n    if e.response['Error']['Code'] == 'ValidationException' and \"already exists\" in str(e):\n        # If memory already exists, retrieve its ID\n\nメモリがすでに存在する場合は、その ID を取得します。\n        memories = client.list_memories()\n        memory_id = next((m['id'] for m in memories if m['id'].startswith(memory_name)), None)\n        logger.info(f\"Memory already exists. Using existing memory ID: {memory_id}\")\nexcept Exception as e:\n    # Handle any errors during memory creation\n    logger.info(f\"❌ ERROR: {e}\")\n    import traceback\n    traceback.print_exc()\n    # エラー時のクリーンアップ - 部分的に作成された場合はメモリを削除する\n\n日本語訳:\nエラー時のクリーンアップでは、メモリが部分的に作成された場合、そのメモリを削除します。技術的な用語である `Cleanup` 、`error` 、`delete` 、`memory` はそのまま残しました。半角英数字の前後には半角スペースを挿入しています。\n    if memory_id:\n        try:\n            client.delete_memory_and_wait(memory_id=memory_id)\n            logger.info(f\"Cleaned up memory: {memory_id}\")\n        except Exception as cleanup_error:\n            logger.info(f\"Failed to clean up memory: {cleanup_error}\")"
   ]
  },
  {
   "cell_type": "markdown",
   "id": "ac2f225c-5cf5-4f39-a139-4d15e0d1a6e3",
   "metadata": {},
   "source": [
    "### 長期記憶戦略の理解\n\n私たちが作成している記憶リソースは、AgentCore Memory の長期記憶機能を利用し、単一のユーザー設定戦略を使用しています。\n\n1. **ユーザー設定記憶戦略**: 会話中に言及されたユーザー設定を自動的に抽出し、統合します。\n2. **アクターベースの名前空間**: アクター ID をネームスペースのパスに使用して、各エージェントの個別のスペースを作成します。\n3. **メモリの永続化**: 会話の有効期限が切れても、抽出された設定は永続化されます。\n\n名前空間のパターン `travel/{actorId}/preferences` を使うと、各特化したエージェントは自身の actor ID に基づいた一意の名前空間を持ちます。\n- 航空機エージェントはこちらにアクセスします: `travel/flight-user-TIMESTAMP/preferences`\n- ホテルエージェントはこちらにアクセスします: `travel/hotel-user-TIMESTAMP/preferences`\n\nこれにより、各エージェントは共通のメモリインフラストラクチャを使用しながら、それぞれの専門知識を維持することができます。\n\n### エージェントIDの設定"
   ]
  },
  {
   "cell_type": "code",
   "execution_count": null,
   "id": "5f294943-ff18-420a-b942-dc5f99e0cca5",
   "metadata": {},
   "outputs": [],
   "source": [
    "# 各特化エージェントに対して一意のアクターIDを作成するが、セッションIDは共有する\n\n日本語訳:\n\n各特化 エージェント に対して 一意の actor ID を作成します が、session ID は共有し ます。\nflight_actor_id = f\"flight-user-{datetime.now().strftime('%Y%m%d%H%M%S')}\"\nhotel_actor_id = f\"hotel-user-{datetime.now().strftime('%Y%m%d%H%M%S')}\"\nsession_id = f\"travel-session-{datetime.now().strftime('%Y%m%d%H%M%S')}\"\nflight_namespace = f\"travel/{flight_actor_id}/preferences\"\nhotel_namespace = f\"travel/{hotel_actor_id}/preferences\""
   ]
  },
  {
   "cell_type": "code",
   "execution_count": null,
   "id": "a288afca-e06e-48b2-b10b-9cb0465c9e23",
   "metadata": {},
   "outputs": [],
   "source": [
    "# 必要なコンポーネントをインポートする\n\n日本語訳:\nfrom strands import Agent, tool\nfrom strands_tools.agent_core_memory import AgentCoreMemoryToolProvider"
   ]
  },
  {
   "cell_type": "markdown",
   "id": "46c590f3-4b1f-452a-946c-709548ce5d33",
   "metadata": {},
   "source": [
    "### ステップ 3: Memory Hook Provider の作成\n\nこのステップでは、メモリ操作を自動化するカスタム `MemoryHookProvider` クラスを定義します。フックとは、エージェントの実行ライフサイクルの特定の時点で実行される特別な関数です。作成するメモリフックには、主に次の機能があります。\n\n1. **メモリの保存**: エージェントが応答した後に新しい会話を保存する\n\nこれにより、手動での管理なしにシームレスなメモリ体験が実現します。"
   ]
  },
  {
   "cell_type": "code",
   "execution_count": null,
   "id": "e206c1a9-ce22-4a04-9580-e063f62dce56",
   "metadata": {},
   "outputs": [],
   "source": [
    "class MemoryHookProvider(HookProvider):\n    以下が日本語訳になります。\n\n\"\"\"自動メモリ管理のための Hook プロバイダ\"\"\"\n    \n    def __init__(self, memory_id: str, client: MemoryClient, actor_id: str, session_id: str):\n        self.memory_id = memory_id\n        self.client = client\n        self.actor_id = actor_id\n        self.session_id = session_id\n    \n    def save_memories(self, event: AfterInvocationEvent):\n        \"\"\"会話を agent の応答後に保存する\"\"\"\n        try:\n            messages = event.agent.messages\n            if len(messages) >= 2:\n                # Get last user and assistant messages\n\nユーザーとアシスタントの最後のメッセージを取得します。\n\nhuman_message = \"Hello, how are you?\"\nai_message = \"I'm doing well, thank you for asking!\"\n\nprint(\"ユーザー: \" + human_message)\nprint(\"アシスタント: \" + ai_message)\n                user_msg = None\n                assistant_msg = None\n                \n                for msg in reversed(messages):\n                    if msg[\"role\"] == \"assistant\" and not assistant_msg:\n                        assistant_msg = msg[\"content\"][0][\"text\"]\n                    elif msg[\"role\"] == \"user\" and not user_msg and \"toolResult\" not in msg[\"content\"][0]:\n                        user_msg = msg[\"content\"][0][\"text\"]\n                        break\n                \n                if user_msg and assistant_msg:\n                    # 会話を保存する\n\nTo save a conversation, you can use the `save_conversation` 関数. This 関数 takes the conversation history as input and saves it to a file. Here's an example:\n\n```python\nimport pickle\n\ndef save_conversation(history, filename):\n    with open(filename, 'wb') as f:\n        pickle.dump(history, f)\n```\n\nYou can call this 関数 like this:\n\n```python\nconversation_history = [\n    (\"Human\", \"Hello\"),\n    (\"AI\", \"Hello, how can I assist you today?\"),\n    (\"Human\", \"What is the capital of France?\"),\n    (\"AI\", \"The capital of France is Paris.\"),\n]\n\nsave_conversation(conversation_history, 'conversation.pkl')\n```\n\nThis will save the `conversation_history` リスト to a file named `conversation.pkl` in the current directory. You can later load this conversation using the `load_conversation` 関数:\n\n```python\ndef load_conversation(filename):\n    with open(filename, 'rb') as f:\n        return pickle.load(f)\n```\n\nNote that this is just a simple example, and in a real application, you may want to use a more robust method for storing conversations, such as a database or a cloud storage service.\n                    self.client.create_event(\n                        memory_id=self.memory_id,\n                        actor_id=self.actor_id,\n                        session_id=self.session_id,\n                        messages=[(user_msg, \"USER\"), (assistant_msg, \"ASSISTANT\")]\n                    )\n                    logger.info(\"Saved conversation to memory\")\n                    \n        except Exception as e:\n            logger.error(f\"Failed to save memories: {e}\")\n    \n    def register_hooks(self, registry: HookRegistry) -> None:\n        以下が日本語訳になります。\n\n\"\"\"メモリ フックを登録する\"\"\"\n\n技術的な用語である \"Register memory hooks\" はそのまま残しました。半角英数字の前後には半角スペースを挿入しています。\n        registry.add_callback(AfterInvocationEvent, self.save_memories)\n        logger.info(\"Memory hooks registered\")"
   ]
  },
  {
   "cell_type": "markdown",
   "id": "48f39b9d-4238-45e5-a8eb-98a8c450e65a",
   "metadata": {},
   "source": [
    "### メモリアクセス機能を持つ特化エージェントの作成\n\n次に、特化エージェントのシステムプロンプトを定義します。\n\n日本語訳:"
   ]
  },
  {
   "cell_type": "code",
   "execution_count": null,
   "id": "bb748408-80cc-4f2a-8950-ed1523bec2aa",
   "metadata": {},
   "outputs": [],
   "source": [
    "# System prompt for the hotel booking specialist\n\n# ホテル予約専門家のためのシステムプロンプト\nHOTEL_BOOKING_PROMPT = f\"\"\"あなたはホテル予約アシスタントです。お客様がホテルを見つけたり、予約したり、宿泊施設やアメニティについての質問に答えるのを手伝います。\nフレンドリーで親切な態度で、空室状況、料金、予約手順などの明確な情報を提供してください。1回のやり取りで質問は最大 2 つまでにしてください。メッセージは短く、お客様を圧倒しないようにしてください。\"\"\"\n\n# System prompt for the flight booking specialist\n\n# フライト予約専門家のためのシステムプロンプト\nFLIGHT_BOOKING_PROMPT = f\"\"\"あなたは航空券予約アシスタントです。顧客が航空便を探し、予約を行い、航空会社、路線、旅行規定に関する質問に答えられるよう支援します。\nフライトの空席状況、価格、スケジュール、予約手順について、フレンドリーで親切な態度で明確な情報を提供してください。1回のやり取りで質問は最大 2 つまでにしてください。メッセージは短く、顧客を圧倒しないようにしてください。\"\"\""
   ]
  },
  {
   "cell_type": "markdown",
   "id": "a42e6a49-dc31-48ae-b6ca-5e08266fd74a",
   "metadata": {},
   "source": [
    "### エージェントツールの実装\n次に、コーディネーターエージェントが使用できるように、専門のエージェントをツールとして実装します。\n\n日本語訳:\n### エージェントツールの実装\n次に、コーディネーターエージェントが使用できるように、専門のエージェントをツールとして実装します。\n\n翻訳したテキスト:\n### Implementing Agent Tools\nNow we'll implement our specialized agents as tools that can be used by the coordinator agent:\n\n翻訳後のテキストでは、半角英数字の前後に半角スペースを挿入しました。また、コードやコマンド、変数名、関数名などの技術的な用語は翻訳せずにそのまま残しています。"
   ]
  },
  {
   "cell_type": "code",
   "execution_count": null,
   "id": "1f67ed8c-c15b-4e5a-a130-aa3ef165fc3f",
   "metadata": {},
   "outputs": [],
   "source": [
    "@tool\ndef flight_booking_assistant(query: str) -> str:\n    \"\"\"\n    フライト予約に関する問い合わせを処理し、回答します。\n\n    Args:\n        query: 予約、スケジュール、航空会社、旅行規定に関する航空機関連の質問\n\n    Returns:\n        詳細な航空情報、予約オプション、または旅行に関するアドバイス\n\"\"\"\n    try:\n        provider_flight = AgentCoreMemoryToolProvider(\n            memory_id=memory_id,      # Required\n\n必須\n\n日本語訳:\n\n以下の テキスト を英語から日本語に翻訳します。半角英数字の前後には半角スペース を挿入し、コード やコマンド、変数名、関数名 などの技術的な用語 は 翻訳せず、そのまま残します。\n            actor_id=flight_actor_id, # Required\n\n必須\n\n日本語訳:\n\n以下の テキスト を英語から日本語に翻訳します。半角英数字の前後には半角スペース を挿入し、コード や コマンド 、変数名 、関数名 などの技術的な用語は そのまま 残します。\n            session_id=session_id,    # Required\n\n必須\n\n日本語訳:\n\n以下のように翻訳します。\n\n# 必須\n\n半角英数字の前後に半角スペースを挿入し、コードやコマンド、変数名、関数名などの技術的な用語は翻訳せずにそのまま残しました。\n            max_results=10,           # Optional\n\nオプションの意味は以下の通りです。\n\n1 つ以上の要素を含むことができる。 要素が存在しない場合もある。 例えば、 `<input>` 要素には `value` 属性を指定できるが、必須ではない。\n\nこの用語は、 HTML、 CSS、 JavaScript などのウェブ技術で使用されます。\n\nプログラミングの文脈では、 Optional は引数やパラメータが必須ではないことを意味します。 例えば、 `myFunction(arg1, arg2 = 10)` の `arg2` は Optional です。 arg2 を渡さない場合、デフォルト値の 10 が使用されます。\n            namespace=flight_namespace\n        )\n        \n        flight_memory_hooks = MemoryHookProvider(\n            memory_id=memory_id,\n            client=client,\n            actor_id=flight_actor_id,\n            session_id=session_id\n        )\n\n        flight_agent = Agent(tools=provider_flight.tools,\n                             hooks=[flight_memory_hooks],\n                             system_prompt=FLIGHT_BOOKING_PROMPT\n                             )\n\n        # Call the agent and return its response\n\nエージェントを呼び出し、その応答を返します。\n\nresponse = agent.run( input )\n\n日本語訳:\n\n# エージェントを呼び出し、その応答を返す\n\nresponse = agent.run( input )\n        response = flight_agent(query)\n        return str(response)\n    except Exception as e:\n        return f\"Error in flight booking assistant: {str(e)}\"\n\n@tool\ndef hotel_booking_assistant(query: str) -> str:\n    \"\"\"\n    ホテルの予約に関する問い合わせを処理し、回答します。\n\n    Args:\n        query: 宿泊施設、アメニティ、予約に関するホテル関連の質問\n\n    Returns:\n        詳細なホテル情報、予約オプション、または宿泊に関するアドバイス\n\"\"\"\n    try:\n        provider_hotel = AgentCoreMemoryToolProvider(\n            memory_id=memory_id,      \n            actor_id=hotel_actor_id, \n            session_id=session_id,    \n            max_results=10,           \n            namespace=hotel_namespace\n        )\n\n        hotel_memory_hooks = MemoryHookProvider(\n            memory_id=memory_id,\n            client=client,\n            actor_id=hotel_actor_id,\n            session_id=session_id\n        )\n\n        hotel_booking_agent = Agent(tools=provider_hotel.tools, hooks=[hotel_memory_hooks], system_prompt=HOTEL_BOOKING_PROMPT)\n        \n        # Call the agent and return its response\n\nエージェントを呼び出し、その応答を返します。\n\nresponse = agent.run( input )\n        response = hotel_booking_agent(query)\n        return str(response)\n    except Exception as e:\n        return f\"Error in hotel booking assistant: {str(e)}\""
   ]
  },
  {
   "cell_type": "markdown",
   "id": "e7b572d1-d429-4678-a318-2ab153408e23",
   "metadata": {},
   "source": [
    "### 調整役エージェントの作成\n\n最後に、これらの専門ツールを調整する主要な旅行計画エージェントを作成します:\n\n日本語訳:\n### 調整役エージェントの作成\n\n最後に、これらの専門ツールを調整する主要な旅行計画エージェントを作成します:\n\n```python\nimport json\nfrom typing import Dict, Any\n\nfrom langchain.agents import initialize_agent, Tool\nfrom langchain.llms import OpenAI\n\n# 先ほど定義した関数をツールとしてインポート\nfrom tools import search_quality_reflection, search_quality_score, search_quality_scores, search_quality_scores_reflection\n\n# OpenAI APIキーを読み込む\nwith open(\"../openai.key\") as f:\n    openai_api_key = f.read()\n\n# ツールを定義\ntools = [\n    Tool(\n        name=\"Search Quality Reflection\",\n        func=search_quality_reflection,\n        description=\"Useful for analyzing the quality of a search query. Takes a search query as input and provides a reflection on its quality.\",\n    ),\n    Tool(\n        name=\"Search Quality Score\",\n        func=search_quality_score,\n        description=\"Useful for scoring the quality of a search query from 1-5. Takes a search query as input and provides a score.\",\n    ),\n    Tool(\n        name=\"Search Quality Scores\",\n        func=search_quality_scores,\n        description=\"Useful for scoring the quality of multiple search queries from 1-5. Takes a list of search queries as input and provides a score for each.\",\n    ),\n    Tool(\n        name=\"Search Quality Scores Reflection\",\n        func=search_quality_scores_reflection,\n        description=\"Useful for analyzing the quality of multiple search queries. Takes a list of search queries as input and provides a reflection on their quality.\",\n    ),\n]\n\n# エージェントを初期化\nllm = OpenAI(temperature=0, openai_api_key=openai_api_key)\nagent = initialize_agent(tools, llm, agent=\"zero-shot-react-description\", verbose=True)\n\n# エージェントに質問\nquery = \"I need to plan a trip to London for 5 days. What are some good search queries I can use to find relevant information?\"\nresponse = agent.run(query)\nprint(response)\n```\n\nこの `agent.run` 関数は、与えられた質問に対して最適なツールを選択し、それらを組み合わせて回答を生成します。ツールの選択と組み合わせ方は、LLMによって行われます。"
   ]
  },
  {
   "cell_type": "code",
   "execution_count": null,
   "id": "4abe237d-36c2-42ab-ae54-4554e1e4f23a",
   "metadata": {},
   "outputs": [],
   "source": [
    "# System prompt for the coordinator agent\n\nシステムプロンプトのコーディネーター agent です。\n\n以下のように翻訳しました。\n\n- 半角英数字の前後に半角スペースを挿入しました。\n- コードやコマンド、変数名、関数名などの技術的な用語は翻訳せず、そのまま残しました。\n\n技術的な用語が含まれていないシンプルなテキストでしたので、そのまま直訳しました。必要に応じて、より分かりやすい言い回しに修正することをお勧めします。\nTRAVEL_AGENT_SYSTEM_PROMPT = あなたは包括的な旅行プランニングアシスタントで、専門ツールを調整する役割を担っています。\n\n- 航空便に関する問い合わせ(予約、スケジュール、航空会社、路線)の場合 → flight_booking_assistant ツールを使用\n- ホテルに関する問い合わせ(宿泊施設、アメニティ、予約)の場合 → hotel_booking_assistant ツールを使用 \n- 完全な旅行パッケージの場合 → 包括的な情報を提供するため、必要に応じて両方のツールを使用\n- 一般的な旅行アドバイスや簡単な旅行の質問の場合 → 直接回答\n\n各エージェントには、ユーザーが過去のデータについて尋ねた場合に備えて、独自のメモリがあります。\n複雑な旅行リクエストを処理する際は、両方のツールから情報を調整して、まとまった旅行プランを作成します。\n複数のソースから情報を提示する際は、明確な構成を心がけてください。\n1回のターンで質問は最大2つまでにしてください。メッセージは短く、顧客を圧倒しないようにしてください。"
   ]
  },
  {
   "cell_type": "code",
   "execution_count": null,
   "id": "1f10bb9f-031e-49b6-8175-1b676cdd2576",
   "metadata": {},
   "outputs": [],
   "source": [
    "travel_agent = Agent(\n",
    "    system_prompt=TRAVEL_AGENT_SYSTEM_PROMPT,\n",
    "    tools=[flight_booking_assistant, hotel_booking_assistant]\n",
    ")"
   ]
  },
  {
   "cell_type": "markdown",
   "id": "c361c59d-e322-47ae-92a8-ee6cd994df22",
   "metadata": {},
   "source": [
    "## マルチエージェントメモリシステムのテスト\n\n旅行計画のシナリオでマルチエージェントシステムをテストしましょう:"
   ]
  },
  {
   "cell_type": "markdown",
   "id": "a085bace-f5af-40d4-a20c-6e64bc00a3fa",
   "metadata": {},
   "source": [
    "### オプション: フライト予約アシスタントの長期メモリを注入する\n以下のセルをコメントアウトすると、フライト予約エージェントに長期メモリを注入できます。\n\n `Uncomment the following cell if you want to hydrate the flight booking agent.`\n\nコードやコマンド、変数名、関数名などの技術的な用語は翻訳せず、そのまま残しました。半角英数字の前後には半角スペースを挿入しています。"
   ]
  },
  {
   "cell_type": "code",
   "execution_count": null,
   "id": "6944d10a-3651-4ce0-aee7-8ac551733a47",
   "metadata": {},
   "outputs": [],
   "source": [
    "「「「flight_previous_messages = [\n    (\"こんにちは、私はサラです\", \"USER\"),\n    (\"こんにちはサラ!FlightAssistへようこそ。今日の旅行計画でどのようなお手伝いができますか?\", \"ASSISTANT\"),\n    (\"来月のある時期にニューヨークからロンドンへの航空券を予約したいと思っています。\", \"USER\"),\n    (\"来月のニューヨークからロンドンへの航空券を見つけるのを喜んで手伝いましょう。具体的な日程はありますか、それとも柔軟に対応できますか?\", \"ASSISTANT\"),\n    (\"15日から25日ぐらいを考えていますが、多少柔軟に対応できます。\", \"USER\"),\n    (\"素晴らしい!最良の選択肢を見つけるのに余裕があります。航空会社や便の時間帯で好みはありますか?\", \"ASSISTANT\"),\n    (\"可能であれば直行便を確実に希望します。乗り継ぎは本当に嫌いです。\", \"USER\"),\n    (\"直行便を好むのは理解できます。乗り継ぎは不便ですからね。幸いにも、ニューヨークとロンドン間には直行便を運航している航空会社がいくつかあります。ブリティッシュ・エアウェイズ、アメリカン航空、デルタ航空、バージン・アトランティック航空などです。\", \"ASSISTANT\"),\n    (\"それは良かった。過去にブリティッシュ・エアウェイズの経験は良かったです。\", \"USER\"),\n    (\"ブリティッシュ・エアウェイズは大西洋横断路線で優れたサービスを提供していますね。選択肢を探す際に念頭に置きます。座席の好みや他の要件はありますか?\", \"ASSISTANT\"),\n    (\"長距離フライトでは特に通路側の席を常に確保しようとしています。他の人を邪魔することなく立ち上がれるので。\", \"USER\"),\n    (\"通路側の席はニューヨーク発ロンドン行きのような長距離フライトに適していますね。通路側席の希望を確認しました。朝、昼、夕方のどの時間帯が良いでしょうか?\", \"ASSISTANT\"),\n    (\"長距離移動の場合は夜間便を好みます。時差への対応がうまくいきます。\", \"USER\"),\n    (\"夜間便は確かに大西洋横断の東行きに賢明な選択肢です。ロンドンに朝着くことができ、時差ボケを最小限に抑えられます。ブリティッシュ・エアウェイズ、デルタ航空、アメリカン航空はいずれもニューヨークから夕方に出発し、翌朝ロンドンに到着する便があります。\", \"ASSISTANT\"),\n    (\"素晴らしい!また、約1週間の滞在なので手荷物許容量についても知りたいと思います。\", \"USER\"),\n    (\"1週間の旅行では、通常の手荷物プラスキャリーケースで十分です。ブリティッシュ・エアウェイズでは、大西洋横断の経済クラスで通常1つの無料手荷物チェックインが認められています。加えてキャリーケースと個人用の小物入れも可能です。ご希望の日程の具体的な許容量を確認しましょうか?\", \"ASSISTANT\")\n]\n\nprint(\"\\n以前の会話を記憶に取り込んでいます...\")\n\n# 会話履歴をショートターム・メモリに保存\ninitial = client.create_event(\n    memory_id=memory_id,\n    actor_id=flight_actor_id,\n    session_id=session_id,\n    messages=flight_previous_messages,\n)\nprint(\"✓ 会話がショートターム・メモリに保存されました\")」」」\n\nこの翻訳では、半角英数字の前後に半角スペースを挿入し、コード、コマンド、変数名、関数名などの技術的な用語は翻訳せずにそのまま残しています。"
   ]
  },
  {
   "cell_type": "code",
   "execution_count": null,
   "id": "8b13aa5d-4abc-41eb-916b-35ccf0b5ab03",
   "metadata": {},
   "outputs": [],
   "source": [
    "travel_agent(\"Hello, I would like to book a trip from LA to Madrid. From July 1 to August 2.\")"
   ]
  },
  {
   "cell_type": "code",
   "execution_count": null,
   "id": "ec209fa8-fd5a-41a8-b7d1-86a1f137331f",
   "metadata": {},
   "outputs": [],
   "source": [
    "travel_agent(\"I prefer direct flights with Iberia\")"
   ]
  },
  {
   "cell_type": "code",
   "execution_count": null,
   "id": "7085390d-90a7-483e-a3c4-dbffe5d89a49",
   "metadata": {},
   "outputs": [],
   "source": [
    "travel_agent(\"I would like a flight in the morning, in economy\")"
   ]
  },
  {
   "cell_type": "code",
   "execution_count": null,
   "id": "ceb0e6b8-028e-4f89-8672-6b5e4b2673ca",
   "metadata": {},
   "outputs": [],
   "source": [
    "travel_agent(\"I would like to fly from SNA, and return 15 days later\")"
   ]
  },
  {
   "cell_type": "markdown",
   "id": "ef1ed3c9-93ee-4617-81a7-b462133f4488",
   "metadata": {},
   "source": [
    "## メモリの永続性のテスト\n\nメモリシステムが正しく機能しているかどうかをテストするために、旅行代理店の新しいインスタンスを作成し、以前に保存された情報にアクセスできるかどうかを確認します。"
   ]
  },
  {
   "cell_type": "code",
   "execution_count": null,
   "id": "8007b15a-2b00-4f07-aa7d-dfa8ba7b5b10",
   "metadata": {},
   "outputs": [],
   "source": [
    "time.sleep(60) # Let's give the memory some time to process the events..\n\n日本語訳:\n\n# メモリにイベントを処理する時間を与えましょう...\n# 新しい travel agent のインスタンスを作成する\n\n日本語訳:\n# 新しい旅行代理店のインスタンスを作成します\nnew_travel_agent = Agent(\n    system_prompt=TRAVEL_AGENT_SYSTEM_PROMPT,\n    tools=[flight_booking_assistant, hotel_booking_assistant]\n)\n\n# Ask about previous conversations\n\n以前の会話について尋ねる\n\nuser_input = input(\"Would you like to see previous conversations? (y/n) \")\nif user_input.lower() == \"y\":\n    # コードを実行して以前の会話を表示する\nelse:\n    print(\"OK, no previous conversations will be shown.\")\nnew_travel_agent(\"Can you remind me about flight preferences?\")"
   ]
  },
  {
   "cell_type": "markdown",
   "id": "2fb6cdd1-5c11-4346-9c5a-93fb44c779ac",
   "metadata": {},
   "source": [
    "## 概要\n\nこのノートブックでは、以下の点を実演しました。\n\n1. 複数の エージェント 用の共有メモリリソースを作成する方法\n2. メモリアクセス機能を持つ特殊な エージェント をツールとして実装する方法\n3. 会話コンテキストを維持しながら、複数の エージェント 間で調整する方法\n4. メモリが異なる エージェント インスタンス間で永続化する方法\n\n共有メモリを備えたこのマルチ エージェント アーキテクチャは、特化したドメインを扱える一方で、シームレスなユーザー体験を維持できる複雑な対話型 AI システムを構築するための強力なアプローチを提供します。"
   ]
  },
  {
   "cell_type": "markdown",
   "id": "18852f04-e06e-4787-9c4f-3d2d2ba8563b",
   "metadata": {},
   "source": [
    "## リソースの解放\nこのノートブックで使用したリソースを解放するため、メモリを削除しましょう。"
   ]
  },
  {
   "cell_type": "code",
   "execution_count": null,
   "id": "3d4577ee-3a79-4a44-abde-86391e98e4bb",
   "metadata": {},
   "outputs": [],
   "source": [
    "# client.delete_memory_and_wait(\n\n日本語訳:\n\n# client.delete_memory_and_wait( は、クライアントに対して delete_memory_and_wait メソッドを呼び出すコマンドです。この関数は、メモリを削除し、その処理が完了するまで待機します。技術的な用語はそのまま残しました。\n#        memory_id = memory_id,\n\n日本語訳:\n\n#        memory_id = memory_id,\n#        max_wait = 300,\n\n日本語訳:\n#        最大待機時間 = 300 秒\n#        poll_interval =10\n\n日本語訳:\n\n#        poll_interval = 10\n翻訳するテキスト:\n\n# )\n\n日本語訳:\n\n# ) は空のコメントです。技術的な文脈では、これは単に無視されます。"
   ]
  }
 ],
 "metadata": {
  "kernelspec": {
   "display_name": "conda_python3",
   "language": "python",
   "name": "conda_python3"
  },
  "language_info": {
   "codemirror_mode": {
    "name": "ipython",
    "version": 3
   },
   "file_extension": ".py",
   "mimetype": "text/x-python",
   "name": "python",
   "nbconvert_exporter": "python",
   "pygments_lexer": "ipython3",
   "version": "3.10.18"
  }
 },
 "nbformat": 4,
 "nbformat_minor": 5
}