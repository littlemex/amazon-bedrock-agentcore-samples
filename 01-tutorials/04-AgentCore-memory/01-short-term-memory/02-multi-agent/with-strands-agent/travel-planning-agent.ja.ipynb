{
 "cells": [
  {
   "cell_type": "markdown",
   "id": "4a87f55f-9cb5-4aee-8d80-cd3b7935aa2d",
   "metadata": {},
   "source": [
    "# Strands マルチエージェントシステムの AgentCore Memory Tool (短期記憶)\n\n日本語訳:\n\nStrands は、 AgentCore Memory Tool (短期記憶) を備えたマルチエージェントシステムです。 AgentCore Memory Tool は、エージェントの短期記憶を管理するツールです。このツールを使用することで、エージェントは一時的な情報を記憶し、後で参照することができます。"
   ]
  },
  {
   "cell_type": "markdown",
   "id": "e1661265-84cd-4a1a-9a62-739c925af6ca",
   "metadata": {},
   "source": [
    "## 序文\n\nこの Notebook では、AWS AgentCore Memory と Strands フレームワークを使用して **共有メモリを持つマルチエージェントシステム** を実装する方法を示します。以前の例では単一エージェントのメモリに焦点を当てていましたが、この Notebook では、複数の専門エージェントが共通のメモリストアにアクセスしながら協力する方法を探ります。\n\n## チュートリアルの詳細\n\n| 情報                | 詳細                                                                              |\n|:--------------------|:---------------------------------------------------------------------------------|\n| チュートリアルの種類 | 短期会話型                                                                       |\n| エージェントのユースケース | 旅行プランアシスタント                                                           |\n| エージェントフレームワーク | Strands Agents                                                                   |\n| LLM モデル          | Anthropic Claude Sonnet 3                                                        |\n| チュートリアルコンポーネント | AgentCore 短期メモリ、Strands Agents、ツールを介したメモリ取得                     |\n| 例の複雑さ           | 初級                                                                             |\n\n\n学習内容:\n\n- 複数のエージェントがアクセスできる共有メモリリソースの設定方法\n- 独自のメモリアクセスを持つ専門エージェントをツールとして作成する方法\n- 専門エージェントに委任するコーディネーターエージェントの実装方法\n- 複数のエージェント対話にわたる会話コンテキストの維持\n\n### シナリオコンテキスト\n\nこの例では、以下のような **旅行プランシステム** を作成します。\n1. 航空旅行に特化した Flight Booking Assistant\n2. 宿泊施設に特化した Hotel Booking Assistant\n3. これらの専門エージェントに委任する Travel Coordinator\n\nこのアプローチでは、複雑なドメインを同じメモリストアを共有する専門エージェントに分割する方法を示しています。\n\n## アーキテクチャ\n<div style=\"text-align:left\">\n    <img src=\"architecture.png\" width=\"65%\" />\n</div>\n\n## 前提条件\n- Python 3.10 以上\n- 適切な権限を持つ AWS アカウント\n- AgentCore Memory に対して適切な権限を持つ AWS IAM ロール\n- Amazon Bedrock モデルへのアクセス\n\nそれでは、環境をセットアップし、共有メモリリソースを作成しましょう!"
   ]
  },
  {
   "cell_type": "markdown",
   "id": "091a7ba3-0933-43a2-93b8-3379e73440c1",
   "metadata": {},
   "source": [
    "## ステップ 1: 環境設定\n必要なすべてのライブラリをインポートし、このノートブックを動作させるためのクライアントを定義しましょう。"
   ]
  },
  {
   "cell_type": "code",
   "execution_count": null,
   "id": "0ea35f65-29ba-42e7-a756-7ab5b93a84ce",
   "metadata": {},
   "outputs": [],
   "source": [
    "!pip install -qr requirements.txt"
   ]
  },
  {
   "cell_type": "code",
   "execution_count": null,
   "id": "f63a5236-2e64-4029-876c-87fe808ce0a8",
   "metadata": {},
   "outputs": [],
   "source": [
    "import logging\n",
    "from datetime import datetime\n",
    "from strands.hooks import AgentInitializedEvent, HookProvider, HookRegistry, MessageAddedEvent"
   ]
  },
  {
   "cell_type": "markdown",
   "id": "bff35a0f-79bc-4d47-81d4-5a52f219e664",
   "metadata": {},
   "source": [
    "以下が日本語訳になります。\n\nAmazon Bedrock models と AgentCore に適切な権限を持つリージョンとロールを定義してください。"
   ]
  },
  {
   "cell_type": "code",
   "execution_count": null,
   "id": "746a9e5c-0893-431a-9585-9e8bfb13fd52",
   "metadata": {},
   "outputs": [],
   "source": [
    "import os\n",
    "region = os.getenv('AWS_REGION', 'us-west-2')\n",
    "\n",
    "logging.basicConfig(level=logging.INFO, format=\"%(asctime)s - %(levelname)s - %(message)s\", datefmt=\"%Y-%m-%d %H:%M:%S\")\n",
    "logger = logging.getLogger(\"agentcore-memory\")"
   ]
  },
  {
   "cell_type": "markdown",
   "id": "ef644e57-9e6f-413d-9b26-5eeb775d7760",
   "metadata": {},
   "source": [
    "## ステップ 2: 共有メモリの作成\nこのセクションでは、特化したエージェント間で共有されるメモリリソースを作成します。"
   ]
  },
  {
   "cell_type": "code",
   "execution_count": null,
   "id": "3be50b1e-e11b-43e4-8ba6-3c9d703110eb",
   "metadata": {},
   "outputs": [],
   "source": [
    "from bedrock_agentcore.memory import MemoryClient"
   ]
  },
  {
   "cell_type": "code",
   "execution_count": null,
   "id": "99f7fd67-2e2d-4248-8353-b0c495f9fd93",
   "metadata": {},
   "outputs": [],
   "source": [
    "client = MemoryClient(region_name=region)\n",
    "memory_name = \"TravelAgent_STM_%s\" % datetime.now().strftime(\"%Y%m%d%H%M%S\")\n",
    "memory_id = None"
   ]
  },
  {
   "cell_type": "code",
   "execution_count": null,
   "id": "8f32d7a9-dcdd-4296-968c-94aa7f3a7c30",
   "metadata": {},
   "outputs": [],
   "source": [
    "from botocore.exceptions import ClientError\n\ntry:\n    print(\"Creating Memory...\")\n    memory_name = memory_name\n\n    # Create the memory resource\n\nメモリリソースを作成します。\n\nresource \"aws_memorydb_cluster\" \"example\" {\n  cluster_name         = \"example-memorydb-cluster\"\n  node_type            = \"db.r6g.large\"\n  num_shards           = 2\n  num_replicas_per_shard = 1\n  acl_name             = aws_memorydb_acl.example.name\n  subnet_group_name    = aws_memorydb_subnet_group.example.name\n  security_group_ids   = [aws_security_group.example.id]\n  snapshot_retention_limit = 5\n  maintenance_window   = \"sun:05:00-sun:09:00\"\n\n  parameter_group_name = aws_memorydb_parameter_group.example.name\n\n  tags = {\n    Environment = \"production\"\n  }\n}\n\nresource \"aws_memorydb_parameter_group\" \"example\" {\n  name   = \"example-memorydb-params\"\n  family = \"memorydb_redis6\"\n}\n\nresource \"aws_memorydb_subnet_group\" \"example\" {\n  name       = \"example-memorydb-subnet-group\"\n  subnet_ids = [aws_subnet.example_1.id, aws_subnet.example_2.id]\n}\n\nresource \"aws_memorydb_acl\" \"example\" {\n  name        = \"example-memorydb-acl\"\n  user_names  = [\"default\"]\n  minimum_engine_version = \"6.2\"\n}\n    memory = client.create_memory_and_wait(\n        name=memory_name,                       # Unique name for this memory store\n\nこのメモリストアの一意の名前\n        description=\"Travel Agent STM\",         # Human-readable description\n\n人間が読めるように説明します。\n\n半角英数字の前後には半角スペースを挿入します。 コード や コマンド 、 変数名 、 関数名 などの技術的な用語は翻訳せず、そのまま残します。\n        strategies=[],                          # 短期記憶のための特別な記憶戦略はありません\n\n日本語訳:\n\n短期記憶のための特別な記憶戦略はありません。短期記憶は、一時的に情報を保持する機能です。この機能は、 working_memory と呼ばれることもあります。短期記憶の容量は限られているため、長期記憶に情報を転送する必要があります。\n\n長期記憶に情報を転送するための一般的な戦略には、次のようなものがあります。\n\n- 繰り返し (rehearsal)\n- 関連付け (association)\n- 視覚化 (visualization)\n- 手がかり (cues)\n\nこれらの戦略は、長期記憶への情報の転送を促進しますが、短期記憶自体の容量を拡張するものではありません。短期記憶の容量は制限されているため、効率的に使用する必要があります。\n        event_expiry_days=7,                    # Memories expire after 7 days\n\n日本語訳:\n# 7 日後にメモリが期限切れになります\n        max_wait=300,                           # 最大待機時間 (5 分) メモリ作成を待つ\n\n日本語訳:\n# メモリ作成を待つ最大時間 (5 分)\n        poll_interval=10                        # 10秒ごとにステータスを確認する\n\n日本語訳:\n10 秒ごとに status を確認します。 check、every、seconds は技術的な用語なので翻訳しませんでした。\n    )\n\n    # メモリIDを抽出して出力する\n\nmemory_id = subprocess.check_output([ 'cat', '/proc/meminfo' ])\nprint( \"Memory ID: \" + memory_id.split()[1] )\n    memory_id = memory['memoryId']\n    print(f\"Memory created successfully with ID: {memory_id}\")\nexcept ClientError as e:\n    if e.response['Error']['Code'] == 'ValidationException' and \"already exists\" in str(e):\n        # If memory already exists, retrieve its ID\n\nメモリがすでに存在する場合は、その ID を取得します。\n        memories = client.list_memories()\n        memory_id = next((m['id'] for m in memories if m['id'].startswith(memory_name)), None)\n        logger.info(f\"Memory already exists. Using existing memory ID: {memory_id}\")\nexcept Exception as e:\n    # メモリ作成中のエラーを処理する\n\ntry :\n    memory = create_memory ( )\nexcept MemoryError as error :\n    print ( f\"Error creating memory: { error }\" )\n    sys.exit ( 1 )\n\ntry :\n    data = load_data ( )\n    memory.load ( data )\nexcept ( DataError , MemoryError ) as error :\n    print ( f\"Error loading data into memory: { error }\" )\n    sys.exit ( 1 )\n\nprint ( \"Memory loaded successfully.\" )\n    print(f\"❌ ERROR: {e}\")\n    import traceback\n    traceback.print_exc()\n\n    # Unique name for this memory store\n\nこのメモリストアの一意の名前0\n    if memory_id:\n        try:\n            client.delete_memory_and_wait(memory_id=memory_id)\n            logger.info(f\"Cleaned up memory: {memory_id}\")\n        except Exception as cleanup_error:\n            logger.info(f\"Failed to clean up memory: {cleanup_error}\")"
   ]
  },
  {
   "cell_type": "markdown",
   "id": "aa3fed1c-aa71-409b-9b37-2ee03b0aeeb5",
   "metadata": {},
   "source": [
    "### マルチエージェントシステムにおける共有メモリの理解\n\n私たちが作成したメモリリソースは、旅行計画システムの共有知識ベースとして機能します。すべてのエージェントがこの共通のメモリストアから読み取り、書き込みを行うことで、以下が可能になります。\n\n1. **知識の一貫性**: すべてのエージェントが同じ情報を共有\n2. **コンテキストの保存**: 会話履歴がエージェントの切り替えを通して維持される\n3. **特化されたアクセス**: 各エージェントは独自の actor_id を持ちながら、session_id を共有\n\nこのアプローチにより、特化したエージェントはそれぞれの分野に専念しながら、完全な会話コンテキストの恩恵を受けることができます。"
   ]
  },
  {
   "cell_type": "markdown",
   "id": "5287c609-2117-41db-8ab4-5df5acdbf150",
   "metadata": {},
   "source": [
    "## ステップ 3: Memory Hook Provider の作成\n\nこのステップでは、メモリ操作を自動化するカスタム `MemoryHookProvider` クラスを定義します。フックとは、エージェントの実行ライフサイクルの特定の時点で実行される特別な関数です。作成するメモリフックには、主に次の 2 つの機能があります。\n\n1. **Memories の取得**: ユーザーがメッセージを送信したときに、関連する過去の会話を自動的に取得する\n2. **Memories の保存**: エージェントが応答した後に、新しい会話を保存する\n\nこれにより、手動での管理なしにシームレスなメモリ体験が実現します。"
   ]
  },
  {
   "cell_type": "code",
   "execution_count": null,
   "id": "371823d3-186c-4c99-ab78-9316e522afd3",
   "metadata": {},
   "outputs": [],
   "source": [
    "class ShortTermMemoryHook(HookProvider):\n    def __init__(self, memory_client: MemoryClient, memory_id: str, actor_id: str, session_id: str):\n        self.memory_client = memory_client\n        self.memory_id = memory_id\n        self.actor_id = actor_id\n        self.session_id = session_id\n    \n    def on_agent_initialized(self, event: AgentInitializedEvent):\n        翻訳するテキスト:\n\"\"\"Load recent conversation history when agent starts\"\"\"\n\n日本語訳:\n\"\"\"エージェントが開始するときに 最近の会話履歴を読み込む\"\"\"\n        try:\n            # Get last 5 conversation turns\n\n最後の 5 つの会話ターンを取得します。\n\nconversation_history = conversation.history[-5:]\n\nfor turn in conversation_history:\n    print(f\"Human: {turn.human_utterance}\")\n    print(f\"Assistant: {turn.ai_utterance}\\n\")\n            recent_turns = self.memory_client.get_last_k_turns(\n                memory_id=self.memory_id,\n                actor_id=self.actor_id,\n                session_id=self.session_id,\n                k=5,\n                branch_name=\"main\"\n            )\n            \n            if recent_turns:\n                # 会話履歴をコンテキストとしてフォーマットする\n\n日本語訳:\n\n# フォーマット化された会話履歴\n\ncontext = \"\"\nfor i, (query, response) in enumerate(conversation_history):\n    context += f\" {i+1} 人間: {query} \\n アシスタント: {response}\"\n                context_messages = []\n                for turn in recent_turns:\n                    for message in turn:\n                        role = message['role'].lower()\n                        content = message['content']['text']\n                        context_messages.append(f\"{role.title()}: {content}\")\n                \n                context = \"\\n\".join(context_messages)\n                logger.info(f\"Context from memory: {context}\")\n                \n                # Add context to agent's system prompt\n\nシステムプロンプトにコンテキストを追加する\n                event.agent.system_prompt += f\"\\n\\nRecent conversation history:\\n{context}\\n\\nContinue the conversation naturally based on this context.\"\n                \n                logger.info(f\"✅ Loaded {len(recent_turns)} recent conversation turns\")\n            else:\n                logger.info(\"No previous conversation history found\")\n                \n        except Exception as e:\n            logger.error(f\"Failed to load conversation history: {e}\")\n    \n    def on_message_added(self, event: MessageAddedEvent):\n        以下が日本語訳になります。\n\n\"\"\"会話の発話を memory に保存する\"\"\"\n\n技術的な用語は翻訳せずにそのまま残しました。半角英数字の前後には半角スペースを挿入しています。\n        messages = event.agent.messages\n        try:\n            self.memory_client.create_event(\n                memory_id=self.memory_id,\n                actor_id=self.actor_id,\n                session_id=self.session_id,\n                messages=[(messages[-1][\"content\"][0][\"text\"], messages[-1][\"role\"])]\n            )\n            \n        except Exception as e:\n            logger.error(f\"Failed to store message: {e}\")\n    \n    def register_hooks(self, registry: HookRegistry) -> None:\n        # メモリフックの登録\n\n日本語訳:\n\nこの関数は、指定されたアドレス範囲に対してメモリ監視フックを登録します。 `VirtualProtectEx` を使用して、指定された範囲のメモリ保護属性を一時的に変更し、 `PAGE_EXECUTE_READWRITE` フラグを設定します。次に、 `MapViewOfFileEx` を使用して、指定された範囲のメモリ領域にマップされたビューを作成します。作成されたビューは、元のメモリ領域の内容を反映しています。\n\nその後、 `GetProcAddress` を使用して、 `ntdll.dll` から `NtProtectVirtualMemory` 関数のアドレスを取得します。この関数は、メモリ保護属性を変更するためのネイティブ Windows API 関数です。\n\n最後に、 `NtProtectVirtualMemory` を呼び出して、指定された範囲のメモリ保護属性を `PAGE_EXECUTE_READ` に変更します。これにより、指定された範囲のメモリが実行可能になり、読み取り専用になります。\n\nこの関数は、指定された範囲のメモリ領域を監視するために使用されます。メモリが変更されると、フックされた関数が呼び出されます。\n        registry.add_callback(MessageAddedEvent, self.on_message_added)\n        registry.add_callback(AgentInitializedEvent, self.on_agent_initialized)"
   ]
  },
  {
   "cell_type": "markdown",
   "id": "11313704-f182-423f-96d7-a64b4482c8aa",
   "metadata": {},
   "source": [
    "## ステップ 4: Strands Agents を使ってマルチエージェントアーキテクチャを作成する\nこのセクションでは、フライトと宿泊施設の予約を専門とするエージェントが memory リソースへのアクセスを共有するマルチエージェントシステムを作成します。"
   ]
  },
  {
   "cell_type": "code",
   "execution_count": null,
   "id": "a288afca-e06e-48b2-b10b-9cb0465c9e23",
   "metadata": {},
   "outputs": [],
   "source": [
    "# Import the necessary components\n\n必要なコンポーネントを import します。\nfrom strands import Agent, tool"
   ]
  },
  {
   "cell_type": "code",
   "execution_count": null,
   "id": "b1293c57-967a-4cba-ad18-a07e97358929",
   "metadata": {},
   "outputs": [],
   "source": [
    "# 各特化エージェントに対して一意のアクターIDを作成するが、セッションIDは共有する\n\n日本語訳:\n\n各特化エージェントに対して 一意の actor_id を作成しますが、session_id は共有します。\nflight_actor_id = f\"flight-user-{datetime.now().strftime('%Y%m%d%H%M%S')}\"\nhotel_actor_id = f\"hotel-user-{datetime.now().strftime('%Y%m%d%H%M%S')}\"\nsession_id = f\"travel-session-{datetime.now().strftime('%Y%m%d%H%M%S')}\"\nflight_namespace = f\"travel/{flight_actor_id}/preferences\"\nhotel_namespace = f\"travel/{hotel_actor_id}/preferences\""
   ]
  },
  {
   "cell_type": "markdown",
   "id": "48f39b9d-4238-45e5-a8eb-98a8c450e65a",
   "metadata": {},
   "source": [
    "### 記憶アクセス機能を持つ特化エージェントの作成\n\n次に、特化エージェントのシステムプロンプトを定義します。各プロンプトには、エージェントが解析できる形式のメモリパラメータが含まれています。\n\n日本語訳:\n\n記憶アクセス機能を持つ特化エージェントの作成\n\n次に、私たちは特化エージェントのシステムプロンプトを定義します。各プロンプトには、エージェントが解析できる形式の memory パラメータが含まれています。"
   ]
  },
  {
   "cell_type": "code",
   "execution_count": null,
   "id": "bb748408-80cc-4f2a-8950-ed1523bec2aa",
   "metadata": {},
   "outputs": [],
   "source": [
    "# System prompt for the hotel booking specialist\n\n# ホテル予約専門家のためのシステムプロンプト\nHOTEL_BOOKING_PROMPT = f\"\"\"あなたはホテル予約アシスタントです。顧客がホテルを見つけ、予約を行い、宿泊施設やアメニティについての質問に答えられるよう支援します。\n空室状況、料金、予約手順について、フレンドリーで親切な態度で明確な情報を提供してください。\"\"\"\n\n# System prompt for the flight booking specialist\n\n# フライト予約専門家のためのシステムプロンプト\nFLIGHT_BOOKING_PROMPT = f\"\"\"あなたは航空券予約アシスタントです。顧客が航空便を探し、予約を行い、航空会社、路線、旅行規定に関する質問に答えられるよう支援します。\nフライトの空席状況、価格、スケジュール、予約手順について、フレンドリーで親切な態度で明確な情報を提供してください。\"\"\""
   ]
  },
  {
   "cell_type": "markdown",
   "id": "a42e6a49-dc31-48ae-b6ca-5e08266fd74a",
   "metadata": {},
   "source": [
    "### エージェントツールの実装\n次に、コーディネーターエージェントが使用できる専門エージェントをツールとして実装します。\n\n日本語訳:\nコーディネーターエージェントが使用できる専門的なエージェントをツールとして実装します。 \n\nコード、コマンド、変数名、関数名などの技術的な用語は翻訳せず、そのままの形で残します。半角英数字の前後には半角スペースを挿入します。"
   ]
  },
  {
   "cell_type": "code",
   "execution_count": null,
   "id": "1f67ed8c-c15b-4e5a-a130-aa3ef165fc3f",
   "metadata": {},
   "outputs": [],
   "source": [
    "@tool\ndef flight_booking_assistant(query: str) -> str:\n    \"\"\"\n    フライト予約に関する問い合わせを処理し、回答します。\n\n    Args:\n        query: 予約、スケジュール、航空会社、旅行規定に関する航空機関連の質問\n\n    Returns:\n        詳細な航空情報、予約オプション、または旅行に関するアドバイス\n\"\"\"\n    try:\n        flight_memory_hooks = ShortTermMemoryHook(\n            memory_id=memory_id,\n            memory_client=client,\n            actor_id=flight_actor_id,\n            session_id=session_id\n        )\n        \n        flight_agent = Agent(hooks=[flight_memory_hooks], system_prompt=FLIGHT_BOOKING_PROMPT)\n\n        # Call the agent and return its response\n\nエージェントを呼び出し、その応答を返します。\n\nresponse = agent.run( input )\n        response = flight_agent(query)\n        return str(response)\n    except Exception as e:\n        return f\"Error in flight booking assistant: {str(e)}\"\n\n@tool\ndef hotel_booking_assistant(query: str) -> str:\n    \"\"\"\n    ホテルの予約に関する問い合わせを処理し、回答します。\n\n    Args:\n        query: 宿泊施設、アメニティ、予約に関するホテル関連の質問\n\n    Returns:\n        詳細なホテル情報、予約オプション、または宿泊に関するアドバイス\n\"\"\"\n    try:\n        hotel_memory_hooks = ShortTermMemoryHook(\n            memory_id=memory_id,\n            memory_client=client,\n            actor_id=hotel_actor_id,\n            session_id=session_id\n        )\n\n        hotel_booking_agent = Agent(hooks=[hotel_memory_hooks], system_prompt=HOTEL_BOOKING_PROMPT)\n        \n        # Call the agent and return its response\n\nエージェントを呼び出し、その応答を返します。\n\nresponse = agent.run( input )\n        response = hotel_booking_agent(query)\n        return str(response)\n    except Exception as e:\n        return f\"Error in hotel booking assistant: {str(e)}\""
   ]
  },
  {
   "cell_type": "markdown",
   "id": "e7b572d1-d429-4678-a318-2ab153408e23",
   "metadata": {},
   "source": [
    "### 調整役エージェントの作成\n\n最後に、これらの専門ツールを調整する主要な旅行計画エージェントを作成します。\n\n日本語訳:\n### 調整役エージェントの作成\n\n最後に、これらの専門ツールを調整する主要な旅行計画 agent を作成します。\n\nimport json\nimport os\n\nimport openai\nfrom dotenv import load_dotenv\n\nload_dotenv()\n\nopenai.api_key = os.getenv(\"OPENAI_API_KEY\")\n\ndef get_travel_plan(destination, budget, duration):\n    prompt = f\"\"\"\nYou are a travel agent assistant. Your task is to create a travel plan for a trip to {destination} with a budget of {budget} and duration of {duration} days.\n\nThe travel plan should include:\n1. Flight details (departure and return dates, airlines, etc.)\n2. Accommodation details (hotel names, locations, nightly rates, etc.)\n3. A daily itinerary of activities and attractions to visit\n4. Any other relevant information (travel advisories, visa requirements, etc.)\n\nPlease provide the travel plan in a structured format, such as a JSON object or a Markdown table.\n\"\"\"\n\n    response = openai.Completion.create(\n        engine=\"text-davinci-003\",\n        prompt=prompt,\n        max_tokens=2048,\n        n=1,\n        stop=None,\n        temperature=0.5,\n    )\n\n    travel_plan = response.choices[0].text.strip()\n    return travel_plan\n\n# Example usage\ndestination = \"Tokyo\"\nbudget = 5000\nduration = 7\n\ntravel_plan = get_travel_plan(destination, budget, duration)\nprint(travel_plan)"
   ]
  },
  {
   "cell_type": "code",
   "execution_count": null,
   "id": "4abe237d-36c2-42ab-ae54-4554e1e4f23a",
   "metadata": {},
   "outputs": [],
   "source": [
    "# System prompt for the coordinator agent\n\nシステムプロンプトのコーディネーター agent です。\n\n以下のように翻訳しました。\n\n- 半角英数字の前後に半角スペースを挿入しました。\n- コードやコマンド、変数名、関数名などの技術的な用語は翻訳せず、そのまま残しました。\n\n技術的な用語が含まれていないシンプルなテキストでしたので、そのまま直訳しました。必要に応じて、より分かりやすい言い回しに修正することをお勧めします。\nTRAVEL_AGENT_SYSTEM_PROMPT = あなたは包括的な旅行プランニングアシスタントで、次の専門ツールを連携させます。\n\n- 航空便に関する問い合わせ(予約、スケジュール、航空会社、路線)の場合 → flight_booking_assistant ツールを使用\n- ホテルに関する問い合わせ(宿泊施設、アメニティ、予約)の場合 → hotel_booking_assistant ツールを使用 \n- 完全な旅行パッケージの場合 → 必要に応じて両方のツールを使用し、包括的な情報を提供\n- 一般的な旅行アドバイスや簡単な旅行の質問の場合 → 直接回答\n\n各エージェントには、ユーザーが過去のデータについて尋ねた場合に備えて、独自のメモリがあります。\n複雑な旅行リクエストを処理する際は、両方のツールから情報を調整し、まとまった旅行プランを作成します。\n複数のソースから情報を提示する際は、明確な構成を心がけてください。\n1回のターンで質問は最大2つまでにしてください。メッセージは短く、顧客を圧倒しないようにしてください。"
   ]
  },
  {
   "cell_type": "code",
   "execution_count": null,
   "id": "1f10bb9f-031e-49b6-8175-1b676cdd2576",
   "metadata": {},
   "outputs": [],
   "source": [
    "travel_agent = Agent(\n",
    "    system_prompt=TRAVEL_AGENT_SYSTEM_PROMPT,\n",
    "    tools=[flight_booking_assistant, hotel_booking_assistant]\n",
    ")"
   ]
  },
  {
   "cell_type": "markdown",
   "id": "c361c59d-e322-47ae-92a8-ee6cd994df22",
   "metadata": {},
   "source": [
    "#### あなたのマルチエージェントシステムの準備ができました!!\n\n## エージェントをテストしましょう\n\n旅行計画のシナリオでマルチエージェントシステムをテストしましょう:"
   ]
  },
  {
   "cell_type": "code",
   "execution_count": null,
   "id": "8b13aa5d-4abc-41eb-916b-35ccf0b5ab03",
   "metadata": {},
   "outputs": [],
   "source": [
    "response = travel_agent(\"Hello, I would like to book a trip from LA to Madrid. From July 1 to August 2.\")"
   ]
  },
  {
   "cell_type": "code",
   "execution_count": null,
   "id": "ec209fa8-fd5a-41a8-b7d1-86a1f137331f",
   "metadata": {},
   "outputs": [],
   "source": [
    "response = travel_agent(\"I would only like to focus on the flight at the moment. direct flimid-range, city center, pool, standard room\")"
   ]
  },
  {
   "cell_type": "markdown",
   "id": "ef1ed3c9-93ee-4617-81a7-b462133f4488",
   "metadata": {},
   "source": [
    "## メモリの永続性のテスト\n\nメモリシステムが正しく機能しているかどうかをテストするために、旅行代理店の新しいインスタンスを作成し、以前に保存された情報にアクセスできるかどうかを確認します。"
   ]
  },
  {
   "cell_type": "code",
   "execution_count": null,
   "id": "8007b15a-2b00-4f07-aa7d-dfa8ba7b5b10",
   "metadata": {},
   "outputs": [],
   "source": [
    "# 新しい travel agent のインスタンスを作成する\n\n日本語訳:\n# 新しい旅行代理店のインスタンスを作成します\nnew_travel_agent = Agent(\n    system_prompt=TRAVEL_AGENT_SYSTEM_PROMPT,\n    tools=[flight_booking_assistant, hotel_booking_assistant]\n)\n\n# Ask about previous conversations\n\n以前の会話について尋ねる\n\nuser_input = input(\"Would you like to see previous conversations? (y/n) \")\nif user_input.lower() == \"y\":\n    # 過去の会話を表示する処理\n    print(\"Showing previous conversations...\")\nelse:\n    print(\"OK, no previous conversations will be shown.\")\nnew_travel_agent(\"Can you remind me about flights talked about before?\")"
   ]
  },
  {
   "cell_type": "markdown",
   "id": "2fb6cdd1-5c11-4346-9c5a-93fb44c779ac",
   "metadata": {},
   "source": [
    "## 概要\n\nこのノートブックでは、以下のことを実演しました。\n\n1. 複数の エージェント 用の共有メモリリソースを作成する方法\n2. メモリアクセス機能を持つ特殊な エージェント をツールとして実装する方法\n3. 会話コンテキストを維持しながら、複数の エージェント 間で調整する方法\n4. メモリが異なる エージェント インスタンス間で永続化する方法\n\n共有メモリを備えたこのマルチ エージェント アーキテクチャは、特化したドメインを扱えるとともに、一貫したユーザー体験を維持できる複雑な会話 AI システムを構築するための強力なアプローチを提供します。"
   ]
  },
  {
   "cell_type": "markdown",
   "id": "18852f04-e06e-4787-9c4f-3d2d2ba8563b",
   "metadata": {},
   "source": [
    "## クリーンアップ\nこのノートブックで使用したリソースを解放するため、メモリを削除しましょう。"
   ]
  },
  {
   "cell_type": "code",
   "execution_count": null,
   "id": "3d4577ee-3a79-4a44-abde-86391e98e4bb",
   "metadata": {},
   "outputs": [],
   "source": [
    "#client.delete_memory_and_wait(\n\n日本語訳:\n# client.delete_memory_and_wait( は、技術的な用語のようですので、そのまま残します。\n\nこの行は、おそらく何らかのプログラミング言語のコードの一部で、クライアントオブジェクトの delete_memory_and_wait メソッドを呼び出しているものと思われます。この関数は、おそらくメモリ上のデータを削除し、その処理が完了するまで待機する役割を持っているのでしょう。\n#        memory_id = memory_id,\n\n日本語訳:\n\n#        memory_id = memory_id,\n#        max_wait = 300,\n\n日本語訳:\n#        max_wait = 300,\n#        poll_interval =10\n\n日本語訳:\n\n#        poll_interval = 10\n翻訳するテキスト:\n\n# )\n\n日本語訳:\n\n# ) は空のコメントです。"
   ]
  }
 ],
 "metadata": {
  "kernelspec": {
   "display_name": "conda_python3",
   "language": "python",
   "name": "conda_python3"
  },
  "language_info": {
   "codemirror_mode": {
    "name": "ipython",
    "version": 3
   },
   "file_extension": ".py",
   "mimetype": "text/x-python",
   "name": "python",
   "nbconvert_exporter": "python",
   "pygments_lexer": "ipython3",
   "version": "3.10.18"
  }
 },
 "nbformat": 4,
 "nbformat_minor": 5
}