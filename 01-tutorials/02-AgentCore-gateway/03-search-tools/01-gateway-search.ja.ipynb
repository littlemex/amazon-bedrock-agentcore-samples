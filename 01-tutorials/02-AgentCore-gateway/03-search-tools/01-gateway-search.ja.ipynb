{
 "cells": [
  {
   "cell_type": "markdown",
   "id": "0f80631b",
   "metadata": {},
   "source": [
    "# Amazon Bedrock AgentCore Gateway - セマンティック検索チュートリアル"
   ]
  },
  {
   "cell_type": "markdown",
   "id": "5b6a992b",
   "metadata": {},
   "source": [
    "### チュートリアルの詳細\n",
    "\n",
    "\n",
    "| 情報                 | 詳細                                                                              |\n",
    "|:--------------------|:---------------------------------------------------------------------------------|\n",
    "| チュートリアルの種類   | 会話形式                                                                          |\n",
    "| エージェントの種類     | 単一                                                                             |\n",
    "| AgentCore サービス   | AgentCore Gateway、AgentCore Identity                                             |\n",
    "| エージェントフレームワーク | Strands Agents                                                                |\n",
    "| LLM モデル          | Anthropic Claude Sonnet 4                                                        |\n",
    "| チュートリアルのコンポーネント | Strands Agent からの Lambda バックアップ AgentCore Gateway の作成と使用        |\n",
    "| チュートリアルの分野   | 分野横断的                                                                        |\n",
    "| 例の複雑さ           | 簡単                                                                              |\n",
    "| 使用する SDK         | Amazon BedrockAgentCore Python SDK と boto3"
   ]
  },
  {
   "cell_type": "markdown",
   "id": "61187ab7",
   "metadata": {},
   "source": [
    "### チュートリアルのアーキテクチャ\n",
    "Amazon Bedrock AgentCore Gateway は、エージェントとそれらが対話するために必要なツールやリソースとの間の統一された接続性を提供します。Gateway はこの接続層で複数の役割を果たします：\n",
    "\n",
    "1. **セキュリティガード**：Gateway は OAuth 認証を管理し、有効なユーザー/エージェントのみがツール/リソースにアクセスできるようにします。\n",
    "2. **翻訳者**：Gateway は、Model Context Protocol (MCP) などの一般的なプロトコルを使用したエージェントのリクエストを API リクエストや Lambda 呼び出しに変換します。これにより、開発者はサーバーのホスティング、プロトコル統合の管理、バージョンサポート、バージョンパッチなどを行う必要がなくなります。\n",
    "3. **コンポーザー**：Gateway は、複数の API、関数、ツールをエージェントが使用できる単一の MCP エンドポイントにシームレスに組み合わせることを可能にします。\n",
    "4. **キーチェーン**：Gateway は、適切なツールで使用する適切な認証情報の挿入を処理し、エージェントが異なる認証情報セットを必要とするツールをシームレスに活用できるようにします。\n",
    "5. **リサーチャー**：Gateway は、エージェントが全てのツールを検索して、特定のコンテキストや質問に最適なツールのみを見つけることを可能にします。これにより、エージェントは少数ではなく何千ものツールを利用できるようになります。また、エージェントの LLM プロンプトに提供する必要があるツールのセットを最小限に抑え、レイテンシーとコストを削減します。\n",
    "6. **インフラストラクチャマネージャー**：Gateway は完全にサーバーレスであり、組み込みの可観測性と監査機能を備えているため、開発者はエージェントとツールを統合するための追加のインフラストラクチャを管理する必要がありません。\n",
    "\n",
    "![仕組み](images/gw-arch-overview.png)\n",
    "\n",
    "### チュートリアルの主な機能\n",
    "\n",
    "* AWS Lambda バックエンドのターゲットを持つ Amazon Bedrock AgentCore Gateway の作成\n",
    "* AgentCore Gateway のセマンティック検索の使用\n",
    "* Strands Agents を使用して AgentCore Gateway 検索がレイテンシーをどのように改善するかを示す"
   ]
  },
  {
   "cell_type": "markdown",
   "id": "fa1feb54",
   "metadata": {},
   "source": [
    "## 前提条件\n",
    "\n",
    "このチュートリアルを実行するには、以下が必要です：\n",
    "* Python 3.10+\n",
    "* AWS 認証情報\n",
    "* Amazon Bedrock AgentCore SDK\n",
    "* Strands Agents"
   ]
  },
  {
   "cell_type": "markdown",
   "id": "fb01ea0d",
   "metadata": {},
   "source": [
    "# AgentCore Gateway は、多数のツールを持つ MCP サーバーの課題解決に役立ちます\n",
    "一般的な企業環境では、エージェント開発者は数百、あるいは数千もの MCP ツールを持つ MCP サーバーに遭遇します。このような大量のツールは、ツール選択の精度低下、コスト増加、過剰なツールメタデータによるトークン使用量の増加に起因する高いレイテンシーなど、AI エージェントにとって課題をもたらします。\n",
    "これは、エージェントをサードパーティのサービス（Zendesk、Salesforce、Slack、JIRA など）や既存の企業 REST サービスに接続する際に発生する可能性があります。\n",
    "AgentCore Gateway はツール間の組み込みセマンティック検索を提供し、エージェントに必要なツールを与えながら、エージェントのレイテンシー、コスト、精度を向上させます。\n",
    "ユースケース、LLM モデル、エージェントフレームワークによっては、典型的な MCP サーバーから数百のツールをすべて提供するのではなく、関連するツールにエージェントを集中させることで、最大 3 倍のレイテンシー改善が見られる場合があります。\n",
    "\n",
    "![どのように機能するか](images/gateway_tool_search.png)\n",
    "\n",
    "## このノートブックで学ぶこと\n",
    "このノートブックでは、AgentCore Gateway 検索のチュートリアルを提供します。このステップバイステップのチュートリアルを終えると、以下のことが理解できるようになります：\n",
    "\n",
    "- 関連ツールを素早く見つけるための AgentCore Gateway の組み込み検索ツールの使用方法\n",
    "- ツール検索結果を Strands Agents に統合してレイテンシーを改善しコストを削減する方法\n",
    "\n",
    "## ノートブック構造の概要\n",
    "このノートブックは以下のセクションで構成されています：\n",
    "\n",
    "1. AgentCore Gateway 検索の基本原理の理解\n",
    "2. ノートブック環境の準備\n",
    "3. 数百のツールを持つ Gateway のセットアップ\n",
    "4. Gateway からのツール検索\n",
    "5. 多数のツールを持つ MCP サーバーでの Strands Agents の使用\n",
    "6. ツール検索結果を Strands Agent に追加する\n",
    "7. ツール検索を使用して 3 倍のレイテンシー改善を示す"
   ]
  },
  {
   "cell_type": "markdown",
   "id": "06b7852f",
   "metadata": {},
   "source": [
    "# AgentCore Gateway 検索の基本を理解する\n",
    "\n",
    "AgentCore Gateway を作成する際、検索を有効にするオプションがあります。\n",
    "検索が有効化された Gateway では、次の 3 つのことが起こります：\n",
    "\n",
    "1. **ベクトルストアが作成される**。Gateway サービスは、新しい Gateway 用にサーバーレスで完全に管理されたベクトルストアを自動的に作成します。これにより、Gateway ツール全体にわたる完全な意味検索が可能になります。\n",
    "3. **ベクトルストアにデータが格納される**。Gateway に Gateway Target を追加すると、サービスは自動的にバックグラウンドで埋め込みを使用して、新しい Target からのツールに基づいてベクトルストアにデータを格納します。ツールのメタデータは、ツールの JSON 定義または REST サービスターゲットの OpenAPI スキーマ仕様から取得されます。\n",
    "2. **検索ツール（MCP ベース）が提供される**。ユーザー定義のすべてのツール（AWS Lambda ターゲットまたは REST サービス）に加えて、Gateway は意味検索を提供する追加の MCP ツールを 1 つ取得します。これは `x-amz-bedrock-agentcore-search` という名前です。このプレフィックスにより、ユーザー定義のツールとの名前の衝突がなくなります。将来的には、同様のツールをさらに追加する可能性もあります。検索ツールには `query` という単一の引数があります。検索ツールが呼び出されると、Gateway サービスはそのクエリを使用して意味検索を実行し、利用可能なツールのメタデータ（名前、説明、入力および出力スキーマ）と照合して、関連性の高い順に最も関連性の高いツールを返します。"
   ]
  },
  {
   "cell_type": "markdown",
   "id": "b39c756c",
   "metadata": {},
   "source": [
    "# ノートブック環境の準備"
   ]
  },
  {
   "cell_type": "code",
   "execution_count": null,
   "id": "2045271e",
   "metadata": {},
   "outputs": [],
   "source": [
    "#!uv add -r requirements.txt\n",
    "\n",
    "import os\n",
    "os.environ['AWS_PROFILE'] = 'cline2'"
   ]
  },
  {
   "cell_type": "markdown",
   "id": "4dec9b4b",
   "metadata": {},
   "source": [
    "必要な Python ライブラリをすべてインポートし、環境変数を読み込む"
   ]
  },
  {
   "cell_type": "code",
   "execution_count": null,
   "id": "10100b26",
   "metadata": {},
   "outputs": [],
   "source": [
    "from strands import Agent\n",
    "from strands.models import BedrockModel\n",
    "from strands.handlers import null_callback_handler\n",
    "\n",
    "from strands.tools.mcp.mcp_client import MCPClient, MCPAgentTool\n",
    "\n",
    "from mcp.client.streamable_http import streamablehttp_client\n",
    "from mcp.types import Tool as MCPTool\n",
    "\n",
    "import logging\n",
    "import time\n",
    "import json\n",
    "import boto3\n",
    "import requests\n",
    "import utils\n",
    "\n",
    "GATEWAY_NAME = \"gateway-search-tutorial\""
   ]
  },
  {
   "cell_type": "markdown",
   "id": "e76ded57",
   "metadata": {},
   "source": [
    "ロガーを設定する"
   ]
  },
  {
   "cell_type": "code",
   "execution_count": null,
   "id": "ea5ab3da",
   "metadata": {},
   "outputs": [],
   "source": [
    "# ルートストランドロガーを設定する\n",
    "logging.getLogger(\"strands\").setLevel(logging.ERROR)  # INFO) #DEBUG) #\n",
    "\n",
    "# ログを確認するためのハンドラーを追加する\n",
    "logging.basicConfig(\n",
    "    format=\"%(levelname)s | %(name)s | %(message)s\", handlers=[logging.StreamHandler()]\n",
    ")"
   ]
  },
  {
   "cell_type": "markdown",
   "id": "1dc97c60",
   "metadata": {},
   "source": [
    "boto3 バージョンを確認する"
   ]
  },
  {
   "cell_type": "code",
   "execution_count": null,
   "id": "9258624c",
   "metadata": {},
   "outputs": [],
   "source": [
    "boto3.__version__"
   ]
  },
  {
   "cell_type": "markdown",
   "id": "59719b74",
   "metadata": {},
   "source": [
    "AgentCore コントロールプレーン API 用の boto3 クライアントを取得します。"
   ]
  },
  {
   "cell_type": "code",
   "execution_count": null,
   "id": "c2eafe7c",
   "metadata": {},
   "outputs": [],
   "source": [
    "session = boto3.Session()\n",
    "agentcore_client = session.client(\n",
    "    \"bedrock-agentcore-control\",\n",
    ")"
   ]
  },
  {
   "cell_type": "markdown",
   "id": "eb9fec29",
   "metadata": {},
   "source": [
    "# 数百のツールを持つゲートウェイのセットアップ\n",
    "\n",
    "AgentCore Gateway は、既存の API を厳選されたセットとして MCP ツールとしてエージェントに公開するための安全でスケーラブルな方法を提供します。本番環境では、Gateway リソースは CloudFormation、CDK、または Terraform などのツールを使用したインフラストラクチャ・アズ・コードで作成されるでしょう。このチュートリアルでは、リソースと API をより効果的に理解できるように、boto3 コントロールプレーン API を直接使用します。これにより、独自のゲートウェイの構築と使用、そしてより強力で安全なエージェントの作成をより簡単に始めることができます。\n",
    "\n",
    "高レベルでは、Gateway のセットアップ手順は次のとおりです：\n",
    "\n",
    "1. インバウンド（エージェントが Gateway を呼び出す）とアウトバウンド（Gateway がツールを呼び出す）のセキュリティに使用するアイデンティティプロバイダーと認証情報プロバイダーを定義します。\n",
    "2. `create_gateway` を使用して Gateway を作成します。\n",
    "3. `create_gateway_target` を使用して Gateway ターゲットを追加し、AWS Lambda または既存の RESTful サービスで実装される MCP ツールを公開します。\n",
    "\n",
    "このチュートリアルでは、アイデンティティプロバイダー（IdP）として Amazon Cognito を、ターゲットとして AWS Lambda 関数を、そしてアウトバウンド認証に AWS IAM を使用します。このチュートリアルで示される概念は、他の IdP や他のターゲットタイプを使用する場合にも同様に適用されます。"
   ]
  },
  {
   "cell_type": "markdown",
   "id": "d896e613",
   "metadata": {},
   "source": [
    "### Amazon Cognito リソースの作成"
   ]
  },
  {
   "cell_type": "markdown",
   "id": "bb02989f",
   "metadata": {},
   "source": [
    "このチュートリアルでは、以下のリソースをすでに作成し、対応する環境変数を設定していることを前提としています：\n",
    "\n",
    "- AWS Lambda 実行用の IAM ロール (`gateway_lambda_iam_role`)\n",
    "- シンプルな数学ツール用の AWS Lambda 関数 (`calc_lambda_arn`)\n",
    "- レストラン予約ツール用の AWS Lambda 関数 (`restaurant_lambda_arn`)\n",
    "- Amazon Cognito ユーザープール（クライアント ID (`cognito_client_id`) とディスカバリー URL (`cognito_discovery_url`) を提供）"
   ]
  },
  {
   "cell_type": "markdown",
   "id": "c9cb9eb5",
   "metadata": {},
   "source": [
    "レストラン API の JSON ツールメタデータを見てみましょう。既存の REST サービスと統合する場合、API 仕様は代わりに OpenAPI Schema を使用して提供されることに注意してください。"
   ]
  },
  {
   "cell_type": "code",
   "execution_count": null,
   "id": "e953add5",
   "metadata": {},
   "outputs": [],
   "source": [
    "with open(\"./restaurant/restaurant-api.json\") as f:\n",
    "    data = json.load(f)\n",
    "print(json.dumps(data, indent=4))"
   ]
  },
  {
   "cell_type": "markdown",
   "id": "a0758917",
   "metadata": {},
   "source": [
    "以下は簡単な計算機 API です。"
   ]
  },
  {
   "cell_type": "code",
   "execution_count": null,
   "id": "ef1a47e2",
   "metadata": {},
   "outputs": [],
   "source": [
    "with open(\"./calc/calc-api.json\") as f:\n",
    "    data = json.load(f)[0:3]\n",
    "print(json.dumps(data, indent=4))"
   ]
  },
  {
   "cell_type": "markdown",
   "id": "414b7a8a",
   "metadata": {},
   "source": [
    "以下は電卓ツール用の AWS Lambda 関数の実装です。"
   ]
  },
  {
   "cell_type": "code",
   "execution_count": null,
   "id": "48160295",
   "metadata": {},
   "outputs": [],
   "source": [
    "from IPython.display import display, Code\n",
    "\n",
    "with open(\"./calc/lambda_function_code.py\", \"r\") as f:\n",
    "    code_content = f.read()\n",
    "display(Code(code_content, language=\"python\"))"
   ]
  },
  {
   "cell_type": "code",
   "execution_count": null,
   "id": "b25b7e35",
   "metadata": {},
   "outputs": [],
   "source": [
    "with open(\"./restaurant/lambda_function_code.py\", \"r\") as f:\n",
    "    code_content = f.read()\n",
    "display(Code(code_content, language=\"python\"))"
   ]
  },
  {
   "cell_type": "code",
   "execution_count": null,
   "id": "2f400f4b",
   "metadata": {},
   "outputs": [],
   "source": [
    "#### AWS Lambda 関数のサンプルを作成し、MCP ツールに変換する\n",
    "calc_lambda_resp = utils.create_gateway_lambda(\n",
    "    \"calc/lambda_function_code.zip\", lambda_function_name=\"calc_lambda_gateway\"\n",
    ")\n",
    "\n",
    "if calc_lambda_resp is not None:\n",
    "    if calc_lambda_resp[\"exit_code\"] == 0:\n",
    "        print(\n",
    "            \"Lambda function created with ARN: \",\n",
    "            calc_lambda_resp[\"lambda_function_arn\"],\n",
    "        )\n",
    "    else:\n",
    "        print(\n",
    "            \"Lambda function creation failed with message: \",\n",
    "            calc_lambda_resp[\"lambda_function_arn\"],\n",
    "        )"
   ]
  },
  {
   "cell_type": "code",
   "execution_count": null,
   "id": "176e24bf",
   "metadata": {},
   "outputs": [],
   "source": [
    "calc_lambda_resp[\"lambda_function_arn\"]"
   ]
  },
  {
   "cell_type": "code",
   "execution_count": null,
   "id": "2db00b43",
   "metadata": {},
   "outputs": [],
   "source": [
    "#### AWS Lambda 関数のサンプルを作成し、それを MCP ツールに変換する\n",
    "restaurant_lambda_resp = utils.create_gateway_lambda(\n",
    "    \"restaurant/lambda_function_code.zip\",\n",
    "    lambda_function_name=\"restaurant_lambda_gateway\",\n",
    ")\n",
    "\n",
    "if restaurant_lambda_resp is not None:\n",
    "    if restaurant_lambda_resp[\"exit_code\"] == 0:\n",
    "        print(\n",
    "            \"Lambda function created with ARN: \",\n",
    "            restaurant_lambda_resp[\"lambda_function_arn\"],\n",
    "        )\n",
    "    else:\n",
    "        print(\n",
    "            \"Lambda function creation failed with message: \",\n",
    "            restaurant_lambda_resp[\"lambda_function_arn\"],\n",
    "        )"
   ]
  },
  {
   "cell_type": "code",
   "execution_count": null,
   "id": "bc46a911",
   "metadata": {},
   "outputs": [],
   "source": [
    "restaurant_lambda_resp[\"lambda_function_arn\"]"
   ]
  },
  {
   "cell_type": "code",
   "execution_count": null,
   "id": "a929d763",
   "metadata": {},
   "outputs": [],
   "source": [
    "cognito_response = utils.setup_cognito_user_pool()"
   ]
  },
  {
   "cell_type": "code",
   "execution_count": null,
   "id": "b1b3ba4c",
   "metadata": {},
   "outputs": [],
   "source": [
    "bearer_token = utils.get_bearer_token(\n",
    "    client_id=cognito_response[\"client_id\"],\n",
    "    username=\"testuser\",\n",
    "    password=\"MyPassword123!\",\n",
    ")"
   ]
  },
  {
   "cell_type": "code",
   "execution_count": null,
   "id": "5d2571fe",
   "metadata": {},
   "outputs": [],
   "source": [
    "gateway_role_arn = utils.create_gateway_iam_role(\n",
    "    lambda_arns=[\n",
    "        calc_lambda_resp[\"lambda_function_arn\"],\n",
    "        restaurant_lambda_resp[\"lambda_function_arn\"],\n",
    "    ]\n",
    ")"
   ]
  },
  {
   "cell_type": "markdown",
   "id": "b9de9ef7",
   "metadata": {},
   "source": [
    "#### コントロールプレーン API を使用するためのヘルパー関数をいくつか作成しましょう"
   ]
  },
  {
   "cell_type": "code",
   "execution_count": null,
   "id": "a6a3cb63",
   "metadata": {},
   "outputs": [],
   "source": [
    "def read_apispec(json_file_path):\n",
    "    try:\n",
    "        # JSON ファイルを読み込み、内容を文字列として返す\n",
    "        with open(json_file_path, \"r\") as file:\n",
    "            # JSON を Python オブジェクトに解析する\n",
    "            api_spec = json.load(file)\n",
    "            return api_spec\n",
    "\n",
    "    except FileNotFoundError:\n",
    "        return f\"Error: File {json_file_path} not found\"\n",
    "    except Exception as e:\n",
    "        return f\"An unexpected error occurred: {str(e)}\"\n",
    "\n",
    "\n",
    "def list_gateways():\n",
    "    response = agentcore_client.list_gateways()\n",
    "    print(json.dumps(response, indent=2, default=str))\n",
    "    return response"
   ]
  },
  {
   "cell_type": "markdown",
   "id": "60d8aa76",
   "metadata": {},
   "source": [
    "#### Gateway ヘルパー関数の作成\n",
    "ここでは、名前と説明を指定して AgentCore Gateway を作成するためのヘルパー関数を紹介します。この関数は IdP として Amazon Cognito を使用し、許可されたクライアント ID とディスカバリー URL を環境変数から取得します（これらは既に定義されています）。また、作成される Gateway ではデフォルトでセマンティック検索を有効にし、事前定義された IAM ロールを使用します。"
   ]
  },
  {
   "cell_type": "code",
   "execution_count": null,
   "id": "ffac7f83",
   "metadata": {},
   "outputs": [],
   "source": [
    "def create_gateway(gateway_name, gateway_desc):\n",
    "    # Gateway へのインバウンド OAuth に Cognito を使用する\n",
    "    auth_config = {\n",
    "        \"customJWTAuthorizer\": {\n",
    "            \"allowedClients\": [cognito_response[\"client_id\"]],\n",
    "            \"discoveryUrl\": cognito_response[\"discovery_url\"],\n",
    "        }\n",
    "    }\n",
    "    # ツールのセマンティック検索を有効にする\n",
    "    search_config = {\n",
    "        \"mcp\": {\"searchType\": \"SEMANTIC\", \"supportedVersions\": [\"2025-03-26\"]}\n",
    "    }\n",
    "    # ゲートウェイを作成する\n",
    "    response = agentcore_client.create_gateway(\n",
    "        name=gateway_name,\n",
    "        roleArn=gateway_role_arn,\n",
    "        authorizerType=\"CUSTOM_JWT\",\n",
    "        description=gateway_desc,\n",
    "        protocolType=\"MCP\",\n",
    "        authorizerConfiguration=auth_config,\n",
    "        protocolConfiguration=search_config,\n",
    "    )\n",
    "\n",
    "    return response[\"gatewayId\"]"
   ]
  },
  {
   "cell_type": "markdown",
   "id": "3d45dd92",
   "metadata": {},
   "source": [
    "#### ゲートウェイターゲットヘルパー関数の作成\n",
    "この関数は、既存のゲートウェイ上に新しい AWS Lambda ターゲットを作成します。\n",
    "ゲートウェイ ID、新しいターゲットの名前と説明、既存の AWS Lambda 関数の ARN、そしてゲートウェイから公開したいツールのインターフェースを記述する JSON スキーマを提供するだけです。"
   ]
  },
  {
   "cell_type": "code",
   "execution_count": null,
   "id": "9d03d7c8",
   "metadata": {},
   "outputs": [],
   "source": [
    "def create_gatewaytarget(gateway_id, target_name, target_descr, lambda_arn, api_spec):\n",
    "    # Lambda ターゲットをゲートウェイに追加する\n",
    "    response = agentcore_client.create_gateway_target(\n",
    "        gatewayIdentifier=gateway_id,\n",
    "        name=target_name,\n",
    "        description=target_descr,\n",
    "        targetConfiguration={\n",
    "            \"mcp\": {\n",
    "                \"lambda\": {\n",
    "                    \"lambdaArn\": lambda_arn,\n",
    "                    \"toolSchema\": {\"inlinePayload\": api_spec},\n",
    "                }\n",
    "            }\n",
    "        },\n",
    "        # IAM を認証情報プロバイダーとして使用する\n",
    "        credentialProviderConfigurations=[\n",
    "            {\"credentialProviderType\": \"GATEWAY_IAM_ROLE\"}\n",
    "        ],\n",
    "    )\n",
    "    return response[\"targetId\"]"
   ]
  },
  {
   "cell_type": "markdown",
   "id": "2084feec",
   "metadata": {},
   "source": [
    "### 最初の AgentCore Gateway の作成\n",
    "最初の Gateway をセットアップする前に、Gateway がどのように MCP ツールを使用するための受信リクエストと、Gateway からツールやリソースへの送信アクセスの両方に対してセキュリティを提供するかを簡単に見てみましょう。\n",
    "\n",
    "![どのように機能するか](images/gateway_secure_access.png)\n",
    "\n",
    "では、このチュートリアル用の gateway を作成しましょう。名前と説明を提供します。"
   ]
  },
  {
   "cell_type": "code",
   "execution_count": null,
   "id": "175d1ef3",
   "metadata": {},
   "outputs": [],
   "source": [
    "print(f\"Create gateway with name: {GATEWAY_NAME}\")\n",
    "gatewayId = create_gateway(\n",
    "    gateway_name=GATEWAY_NAME, gateway_desc=\"AgentCore Gateway Tutorial\"\n",
    ")\n",
    "print(f\"Gateway created with id: {gatewayId}.\")"
   ]
  },
  {
   "cell_type": "markdown",
   "id": "c878491f",
   "metadata": {},
   "source": [
    "### AgentCore Gateway ターゲットの追加\n",
    "\n",
    "このチュートリアルでは、すでに 2 つの Lambda 関数をインストールしていることを前提としています。1 つは単純な数学計算を行うもの、もう 1 つはレストラン予約の作成をシミュレートするものです。これらの関数それぞれに Gateway ターゲットを追加します。\n",
    "\n",
    "これらのターゲットを追加した後、さらに追加のターゲットを加えて、より多くの MCP ツール数を実現し、AgentCore Gateway 検索の能力を実証するのに役立てます。"
   ]
  },
  {
   "cell_type": "markdown",
   "id": "d4d24edb",
   "metadata": {},
   "source": [
    "ゲートウェイが作成されたので、Lambda 関数を介してレストランの予約を行うためのターゲットを追加しましょう。"
   ]
  },
  {
   "cell_type": "code",
   "execution_count": null,
   "id": "58d04ee4",
   "metadata": {},
   "outputs": [],
   "source": [
    "restaurant_api_spec = read_apispec(\"./restaurant/restaurant-api.json\")\n",
    "restaurant_lambda_arn = restaurant_lambda_resp[\"lambda_function_arn\"]\n",
    "print(f\"Restaurant Lambda ARN: {restaurant_lambda_arn}\")\n",
    "\n",
    "restaurantTargetId = create_gatewaytarget(\n",
    "    gateway_id=gatewayId,\n",
    "    lambda_arn=restaurant_lambda_arn,\n",
    "    target_name=\"FoodTools\",\n",
    "    target_descr=\"Restaurant Tools\",\n",
    "    api_spec=restaurant_api_spec,\n",
    ")\n",
    "print(f\"RestaurantTarget created with id: {restaurantTargetId} on gateway: {gatewayId}\")"
   ]
  },
  {
   "cell_type": "markdown",
   "id": "4da14900",
   "metadata": {},
   "source": [
    "ここでは 2 つ目のターゲットを追加します。今回は 4 つの基本的なツール（加算、減算、乗算、除算）を実装する Lambda と、投資管理用に生成された 75 個のツール定義（取引、信用調査、定量分析、ポートフォリオ管理）のセットを使用します。投資管理ツールの定義は実際には Lambda 関数内に実装されていません。これらは大量のツールを示すためだけに追加しています。"
   ]
  },
  {
   "cell_type": "code",
   "execution_count": null,
   "id": "b2599c9f",
   "metadata": {},
   "outputs": [],
   "source": [
    "calc_api_spec = read_apispec(\"./calc/calc-api.json\")\n",
    "print(f\"API spec for calc has {len(calc_api_spec)} functions\\n\")\n",
    "calc_lambda_arn = calc_lambda_resp[\"lambda_function_arn\"]\n",
    "print(f\"Calc Lambda ARN: {calc_lambda_arn}\")\n",
    "\n",
    "time.sleep(5)\n",
    "calcTargetId = create_gatewaytarget(\n",
    "    gateway_id=gatewayId,\n",
    "    lambda_arn=calc_lambda_arn,\n",
    "    target_name=\"CalcTools\",\n",
    "    target_descr=\"Calculation Tools\",\n",
    "    api_spec=calc_api_spec,\n",
    ")\n",
    "print(f\"CalcTools Target created with id: {calcTargetId} on gateway: {gatewayId}\")"
   ]
  },
  {
   "cell_type": "markdown",
   "id": "3200dc9f",
   "metadata": {},
   "source": [
    "ゲートウェイ検索の力を示すために、Calculator ターゲットをさらにいくつか追加して、300 個以上の MCP ツールが公開されるようにします。"
   ]
  },
  {
   "cell_type": "code",
   "execution_count": null,
   "id": "6b3aedf2",
   "metadata": {},
   "outputs": [],
   "source": [
    "def add_more_tools(gatewayId):\n",
    "    time.sleep(10)\n",
    "    calcTargetId = create_gatewaytarget(\n",
    "        gateway_id=gatewayId,\n",
    "        lambda_arn=calc_lambda_arn,\n",
    "        target_name=\"Calc2\",\n",
    "        target_descr=\"Calculation 2 Tools\",\n",
    "        api_spec=calc_api_spec,\n",
    "    )\n",
    "    print(f\"Calc2 Target created with id: {calcTargetId} on gateway: {gatewayId}\")\n",
    "    time.sleep(10)\n",
    "    calcTargetId = create_gatewaytarget(\n",
    "        gateway_id=gatewayId,\n",
    "        lambda_arn=calc_lambda_arn,\n",
    "        target_name=\"Calc3\",\n",
    "        target_descr=\"Calculation 3 Tools\",\n",
    "        api_spec=calc_api_spec,\n",
    "    )\n",
    "    print(f\"Calc3 Target created with id: {calcTargetId} on gateway: {gatewayId}\")\n",
    "    time.sleep(10)\n",
    "    calcTargetId = create_gatewaytarget(\n",
    "        gateway_id=gatewayId,\n",
    "        lambda_arn=calc_lambda_arn,\n",
    "        target_name=\"Calc4\",\n",
    "        target_descr=\"Calculation 4 Tools\",\n",
    "        api_spec=calc_api_spec,\n",
    "    )\n",
    "    print(f\"Calc4 Target created with id: {calcTargetId} on gateway: {gatewayId}\")"
   ]
  },
  {
   "cell_type": "code",
   "execution_count": null,
   "id": "62852ae9",
   "metadata": {},
   "outputs": [],
   "source": [
    "add_more_tools(gatewayId=gatewayId)"
   ]
  },
  {
   "cell_type": "code",
   "execution_count": null,
   "id": "c3717e2b",
   "metadata": {},
   "outputs": [],
   "source": [
    "resp = agentcore_client.list_gateway_targets(gatewayIdentifier=gatewayId)\n",
    "targets = resp[\"items\"]\n",
    "for target in resp[\"items\"]:\n",
    "    print(f\"{target['name']} - {target['description']}\")"
   ]
  },
  {
   "cell_type": "markdown",
   "id": "b701bf49",
   "metadata": {},
   "source": [
    "# Gateway からツールを検索する"
   ]
  },
  {
   "cell_type": "markdown",
   "id": "e5599870",
   "metadata": {},
   "source": [
    "### MCP リスト ツールに慣れる前に検索を行う"
   ]
  },
  {
   "cell_type": "markdown",
   "id": "e6dbea12",
   "metadata": {},
   "source": [
    "特定の Gateway ID に対する MCP エンドポイント URL を取得するため、また Gateway を安全に使用するための JWT OAuth アクセストークンを取得するためのユーティリティ関数をいくつか定義しましょう。"
   ]
  },
  {
   "cell_type": "code",
   "execution_count": null,
   "id": "d15ac0f2",
   "metadata": {},
   "outputs": [],
   "source": [
    "def get_gateway_endpoint(gateway_id):\n",
    "    response = agentcore_client.get_gateway(gatewayIdentifier=gateway_id)\n",
    "    gateway_url = response[\"gatewayUrl\"]\n",
    "    return gateway_url"
   ]
  },
  {
   "cell_type": "markdown",
   "id": "2cac832e",
   "metadata": {},
   "source": [
    "今、私たちの Gateway が作成され、ターゲットを持っているので、その Gateway への MCP URL を取得しましょう。Gateway ID に基づいて Gateway コントロールプレーンからエンドポイント URL を取得することができます。"
   ]
  },
  {
   "cell_type": "markdown",
   "id": "96c4708f",
   "metadata": {},
   "source": [
    "#### Gateway に対する MCP Inspector の使用\n",
    "\n",
    "MCP サーバーのエンドポイント URL と JWT ベアラートークンを取得したので、MCP Inspector ツールを使用して MCP サーバーを探索したいかもしれません。MCP Inspector は、任意の MCP サーバーに接続でき、提供されているツールを一覧表示し、さらに使いやすいツール呼び出し体験を提供するオープンソースツールです。\n",
    "\n",
    "ターミナルウィンドウから、単に `npx @modelcontextprotocol/inspector` と入力して MCP Inspector を起動します。次に、Gateway エンドポイント URL と JWT トークンを貼り付けて接続します。接続したら、「List Tools」と「Invoke Tool」を試してみてください。\n",
    "\n",
    "以下はサンプルのスクリーンショットです。\n",
    "\n",
    "![MCP Inspector](images/mcp_inspector.png)"
   ]
  },
  {
   "cell_type": "code",
   "execution_count": null,
   "id": "97f5f769",
   "metadata": {},
   "outputs": [],
   "source": [
    "gatewayEndpoint = get_gateway_endpoint(gateway_id=gatewayId)\n",
    "print(f\"Gateway Endpoint - MCP URL: {gatewayEndpoint}\")"
   ]
  },
  {
   "cell_type": "markdown",
   "id": "a99920e9",
   "metadata": {},
   "source": [
    "MCP サーバーセキュリティは OAuth に基づいています。私たちの Gateway と対話するためには、IdP から JWT OAuth アクセストークンを取得する必要があります。"
   ]
  },
  {
   "cell_type": "code",
   "execution_count": null,
   "id": "bb2525ec",
   "metadata": {},
   "outputs": [],
   "source": [
    "jwtToken = utils.get_bearer_token(\n",
    "    client_id=cognito_response[\"client_id\"],\n",
    "    username=\"testuser\",\n",
    "    password=\"MyPassword123!\",\n",
    ")\n",
    "print(f\"Bearer token: {jwtToken}\")"
   ]
  },
  {
   "cell_type": "code",
   "execution_count": null,
   "id": "68bcd0e0",
   "metadata": {},
   "outputs": [],
   "source": [
    "# !npx @modelcontextprotocol/inspector"
   ]
  },
  {
   "cell_type": "markdown",
   "id": "de5f7d58",
   "metadata": {},
   "source": [
    "#### MCP ツールを呼び出したり一覧表示したりするための jsonrpc を使用するヘルパー関数の作成\n",
    "`invoke_gateway_tool` という名前のヘルパー関数を定義しましょう。これは jsonrpc を使用して、MCP サーバーによって公開されている任意の MCP ツールを呼び出すためのものです。もちろん、あなたの Gateway も含まれます。エンドポイント URL と JWT トークンがあれば、このユーティリティを使用して、Gateway に Gateway ターゲットを追加したときに AgentCore Gateway が利用可能にした任意の MCP ツールを呼び出すことができます。"
   ]
  },
  {
   "cell_type": "code",
   "execution_count": null,
   "id": "430730db",
   "metadata": {},
   "outputs": [],
   "source": [
    "def invoke_gateway_tool(gateway_endpoint, jwt_token, tool_params):\n",
    "\n",
    "    # print(f\"ツール {tool_params['name']} を呼び出しています\")\n",
    "\n",
    "    requestBody = {\n",
    "        \"jsonrpc\": \"2.0\",\n",
    "        \"id\": 2,\n",
    "        \"method\": \"tools/call\",\n",
    "        \"params\": tool_params,\n",
    "    }\n",
    "    response = requests.post(\n",
    "        gateway_endpoint,\n",
    "        json=requestBody,\n",
    "        headers={\n",
    "            \"Authorization\": f\"Bearer {jwt_token}\",\n",
    "            \"Content-Type\": \"application/json\",\n",
    "        },\n",
    "    )\n",
    "\n",
    "    return response.json()"
   ]
  },
  {
   "cell_type": "markdown",
   "id": "f38bb52f",
   "metadata": {},
   "source": [
    "こちらは Gateway から利用可能な MCP ツールをリストアップするための MCP の `tools/list` メソッドを使用するためのもう一つのユーティリティ関数です。Gateway ID と JWT トークンを与えると、その Gateway から完全なツールセットを取得し、エージェントですぐに使える形式でリストを返します。返されるリストには、あなたのエージェントに渡すのに適した Strands Agents MCPAgentTool オブジェクトが含まれています。\n",
    "\n",
    "`tools/list` 呼び出しはページ分割されているため、この関数はループして一度に 1 ページのツールを取得し、`nextCursor` フィールドが設定されなくなるまで続ける必要があります。このユーティリティ関数は HTTPS と jsonrpc プロトコルを使用してエンドポイントを直接呼び出します。これは Strands Agents が提供する `MCPClient` クラスと比較して、ツールをリストアップするためのより低レベルな方法です。この体験については後ほど見ていきます。"
   ]
  },
  {
   "cell_type": "code",
   "execution_count": null,
   "id": "7d21a000",
   "metadata": {},
   "outputs": [],
   "source": [
    "def get_all_agent_tools_from_mcp_endpoint(gateway_endpoint, jwt_token, client):\n",
    "    more_tools = True\n",
    "    tools_count = 0\n",
    "    tools_list = []\n",
    "\n",
    "    requestBody = {\"jsonrpc\": \"2.0\", \"id\": 2, \"method\": \"tools/list\", \"params\": {}}\n",
    "    next_cursor = \"\"\n",
    "\n",
    "    while more_tools:\n",
    "        if tools_count == 0:\n",
    "            requestBody[\"params\"] = {}\n",
    "        else:\n",
    "            print(f\"\\nGetting next page of tools since a next cursor was returned\\n\")\n",
    "            requestBody[\"params\"] = {\"cursor\": next_cursor}\n",
    "\n",
    "        headers = {\n",
    "            \"Authorization\": f\"Bearer {jwt_token}\",\n",
    "            \"Content-Type\": \"application/json\",\n",
    "        }\n",
    "\n",
    "        print(f\"\\n\\nListing tools for gateway {gateway_endpoint}\")\n",
    "\n",
    "        response = requests.post(gateway_endpoint, json=requestBody, headers=headers)\n",
    "\n",
    "        tools_json = response.json()\n",
    "        tools_count += len(tools_json[\"result\"][\"tools\"])\n",
    "\n",
    "        for tool in tools_json[\"result\"][\"tools\"]:\n",
    "            mcp_tool = MCPTool(\n",
    "                name=tool[\"name\"],\n",
    "                description=tool[\"description\"],\n",
    "                inputSchema=tool[\"inputSchema\"],\n",
    "            )\n",
    "            mcp_agent_tool = MCPAgentTool(mcp_tool, client)\n",
    "            short_descr = tool[\"description\"][0:40] + \"...\"\n",
    "            print(f\"adding tool '{mcp_agent_tool.tool_name}' - {short_descr}\")\n",
    "            tools_list.append(mcp_agent_tool)\n",
    "\n",
    "        if \"nextCursor\" in tools_json[\"result\"]:\n",
    "            next_cursor = tools_json[\"result\"][\"nextCursor\"]\n",
    "            more_tools = True\n",
    "        else:\n",
    "            more_tools = False\n",
    "\n",
    "    print(f\"\\nTotal tools found: {tools_count}\\n\")\n",
    "    return tools_list"
   ]
  },
  {
   "cell_type": "markdown",
   "id": "29ea36db",
   "metadata": {},
   "source": [
    "この補助関数を使用して結果を確認しましょう。"
   ]
  },
  {
   "cell_type": "code",
   "execution_count": null,
   "id": "b3eff51d",
   "metadata": {},
   "outputs": [],
   "source": [
    "client = MCPClient(\n",
    "    lambda: streamablehttp_client(\n",
    "        f\"{gatewayEndpoint}\", headers={\"Authorization\": f\"Bearer {jwtToken}\"}\n",
    "    )\n",
    ")\n",
    "with client:\n",
    "    all_tools = get_all_agent_tools_from_mcp_endpoint(\n",
    "        gateway_endpoint=gatewayEndpoint, jwt_token=jwtToken, client=client\n",
    "    )\n",
    "    print(f\"\\nFound {len(all_tools)} tools using jsonrpc to list MCP tools\\n\")"
   ]
  },
  {
   "cell_type": "markdown",
   "id": "271d04ef",
   "metadata": {},
   "source": [
    "#### Strands Agents の list_tools_sync() をページネーションで使用する\n",
    "Python ベースの MCP クライアントを書いたことがあれば、クライアントが関連付けられている MCP サーバーから利用可能なツールのセットを返す `list_tools_sync()` メソッドに馴染みがあるでしょう。しかし、MCP の list tools もページネーションされていることをご存知でしたか？ デフォルトでは、最初の小さなサブセットのツールのみが返されます。シンプルな MCP サーバーでは気づかなかったかもしれませんが、多くの実際の MCP サーバーでは、ページが残っていなくなるまで、一度に 1 ページずつツールを取得するループが必要です。以下のユーティリティ `get_all_mcp_tools_from_mcp_client` はまさにそれを行います。これは指定された Strands Agent MCP クライアントからツールの完全なリストを返します。"
   ]
  },
  {
   "cell_type": "code",
   "execution_count": null,
   "id": "ef10b8c7",
   "metadata": {},
   "outputs": [],
   "source": [
    "def get_all_mcp_tools_from_mcp_client(client):\n",
    "    more_tools = True\n",
    "    tools = []\n",
    "    pagination_token = None\n",
    "    while more_tools:\n",
    "        tmp_tools = client.list_tools_sync(pagination_token=pagination_token)\n",
    "        tools.extend(tmp_tools)\n",
    "        if tmp_tools.pagination_token is None:\n",
    "            more_tools = False\n",
    "        else:\n",
    "            more_tools = True\n",
    "            pagination_token = tmp_tools.pagination_token\n",
    "    return tools"
   ]
  },
  {
   "cell_type": "markdown",
   "id": "e519196b",
   "metadata": {},
   "source": [
    "Gateway を使って Python クライアントが見つけるツールの数を確認してみましょう。\n",
    "まず、エンドポイント URL と JWT ベアラートークンに基づいて MCPClient オブジェクトを作成します。次に、\n",
    "MCP サーバーから返される多くのページにわたるツールの完全なセットを取得します。\n",
    "先ほど追加したターゲットを考慮すると、300 以上のツールが返されるはずです。"
   ]
  },
  {
   "cell_type": "code",
   "execution_count": null,
   "id": "817d1e48",
   "metadata": {},
   "outputs": [],
   "source": [
    "client = MCPClient(\n",
    "    lambda: streamablehttp_client(\n",
    "        f\"{gatewayEndpoint}\", headers={\"Authorization\": f\"Bearer {jwtToken}\"}\n",
    "    )\n",
    ")\n",
    "with client:\n",
    "    all_tools = get_all_mcp_tools_from_mcp_client(client)\n",
    "    print(f\"\\nFound {len(all_tools)} tools from list_tools_sync() on mcp client\\n\")"
   ]
  },
  {
   "cell_type": "markdown",
   "id": "ba410062",
   "metadata": {},
   "source": [
    "私たちは、Gateway を MCP サーバーとして使用して、Gateway からツールの完全なセットを取得する 3 つの異なる方法を見てきました：\n",
    "\n",
    "1. jsonrpc を直接使用する\n",
    "2. Strands Agent MCPClient の `list_tools_sync()` メソッドを使用する\n",
    "3. MCP Inspector ツールを使用する（これは裏側で jsonrpc を使用しています）\n",
    "\n",
    "エージェントを構築する一般的な開発者の場合、オプション 2 を使用することになります。"
   ]
  },
  {
   "cell_type": "markdown",
   "id": "af97ef22",
   "metadata": {},
   "source": [
    "### 組み込みのゲートウェイセマンティック検索ツールの使用\n",
    "ここで、MCP ツールリストに追加される追加の MCP ツールとして提供されている組み込みの検索ツールを使用して、ゲートウェイでの最初のセマンティック検索を試してみましょう。"
   ]
  },
  {
   "cell_type": "markdown",
   "id": "9de8a698",
   "metadata": {},
   "source": [
    "まず、MCP を使用して検索ツールを実行するためのシンプルなユーティリティ関数を定義しましょう。\n",
    "ツールの一覧表示と同様に、ゲートウェイエンドポイントと JWT トークンが必要です。それ以外には、\n",
    "検索クエリを渡すだけです。Gateway 検索ツールが残りの処理を行い、\n",
    "自動的に管理しているサーバーレスベクトルストアに対してそのクエリを照合します。"
   ]
  },
  {
   "cell_type": "code",
   "execution_count": null,
   "id": "04d868a8",
   "metadata": {},
   "outputs": [],
   "source": [
    "def tool_search(gateway_endpoint, jwt_token, query):\n",
    "    toolParams = {\n",
    "        \"name\": \"x_amz_bedrock_agentcore_search\",\n",
    "        \"arguments\": {\"query\": query},\n",
    "    }\n",
    "    toolResp = invoke_gateway_tool(\n",
    "        gateway_endpoint=gateway_endpoint, jwt_token=jwt_token, tool_params=toolParams\n",
    "    )\n",
    "    tools = toolResp[\"result\"][\"structuredContent\"][\"tools\"]\n",
    "    return tools"
   ]
  },
  {
   "cell_type": "code",
   "execution_count": null,
   "id": "939755a5",
   "metadata": {},
   "outputs": [],
   "source": [
    "start_time = time.time()\n",
    "tools_found = tool_search(\n",
    "    gateway_endpoint=gatewayEndpoint,\n",
    "    jwt_token=jwtToken,\n",
    "    query=\"find me 3 credit research tools\",\n",
    ")\n",
    "end_time = time.time()\n",
    "print(\n",
    "    f\"tool search via direct Gateway invocation took {(end_time - start_time):.2f} seconds\"\n",
    ")\n",
    "print(f\"Top tool: {tools_found[0]['name']}\")"
   ]
  },
  {
   "cell_type": "markdown",
   "id": "602cbd2d",
   "metadata": {},
   "source": [
    "検索がほとんどの場合 1 秒以内に返ってくる速さに注目してください。結果はクエリとツールのメタデータのマッチングに基づく検索関連性の降順で返されます。最も関連性の高いツールがリストの最初に表示されます。検索の初期実装では最大 10 件の結果が返されます。これらのツールをすべてエージェントで使用することも、最も関連性の高い一部のマッチだけを選ぶこともできます。"
   ]
  },
  {
   "cell_type": "markdown",
   "id": "7cc03391",
   "metadata": {},
   "source": [
    "# MCP サーバーに多数のツールがある場合の Strands Agents の使用"
   ]
  },
  {
   "cell_type": "markdown",
   "id": "433d0f3f",
   "metadata": {},
   "source": [
    "まず、Strands Agent で使用するモデルを選択します。\n",
    "このノートブックでは、Amazon Bedrock モデルを使用していますが、Strands と AgentCore\n",
    "はどの LLM でも動作することができます。"
   ]
  },
  {
   "cell_type": "code",
   "execution_count": null,
   "id": "b18c10bb",
   "metadata": {},
   "outputs": [],
   "source": [
    "bedrockmodel = BedrockModel(\n",
    "    model_id=\"us.anthropic.claude-3-7-sonnet-20250219-v1:0\",\n",
    "    temperature=0.7,\n",
    "    streaming=True,\n",
    "    boto_session=session,\n",
    ")"
   ]
  },
  {
   "cell_type": "markdown",
   "id": "ee8a436a",
   "metadata": {},
   "source": [
    "#### シンプルな Strands Agent を使用して AgentCore Gateway のエージェントツールを活用する\n",
    "ここでは、Strands Agent を使用して AgentCore Gateway が提供する MCP サーバーを活用する方法がいかに簡単かを示します。この\n",
    "シンプルな例では、エージェントにいくつかの数字を足すように依頼します。"
   ]
  },
  {
   "cell_type": "code",
   "execution_count": null,
   "id": "2086a0d6",
   "metadata": {},
   "outputs": [],
   "source": [
    "jwtToken = utils.get_bearer_token(\n",
    "    client_id=cognito_response[\"client_id\"],\n",
    "    username=\"testuser\",\n",
    "    password=\"MyPassword123!\",\n",
    ")\n",
    "client = MCPClient(\n",
    "    lambda: streamablehttp_client(\n",
    "        f\"{gatewayEndpoint}\", headers={\"Authorization\": f\"Bearer {jwtToken}\"}\n",
    "    )\n",
    ")\n",
    "with client:\n",
    "    all_tools = get_all_mcp_tools_from_mcp_client(client)\n",
    "    print(f\"\\nFound {len(all_tools)} tools from list_tools_sync() on mcp client\\n\")\n",
    "\n",
    "    simple_agent = Agent(\n",
    "        model=bedrockmodel, tools=all_tools, callback_handler=null_callback_handler\n",
    "    )\n",
    "    result = simple_agent(\"add 100 plus 50 pass \")\n",
    "    print(f\"{result.message['content'][0]['text']}\")"
   ]
  },
  {
   "cell_type": "markdown",
   "id": "bd8d6b33",
   "metadata": {},
   "source": [
    "Strands Agents フレームワークでは、エージェントのイベントループをバイパスして、MCP ツールを直接呼び出すこともできます。\n",
    "Gateway ツールはネイティブの MCP ツールとして公開されているため、Gateway ツールに対しても同様に行うことができます。ここでは\n",
    "`agent.tool.<tool_name>(args)` 構文を使用して Gateway MCP ツールを呼び出します：\n",
    "\n",
    "```python\n",
    "direct_result = simple_agent.tool.Calc2___add_numbers(firstNumber=10, secondNumber=20)\n",
    "resp_json = json.loads(direct_result['content'][0]['text'])\n",
    "```"
   ]
  },
  {
   "cell_type": "code",
   "execution_count": null,
   "id": "ddda7a89",
   "metadata": {},
   "outputs": [],
   "source": [
    "jwtToken = utils.get_bearer_token(\n",
    "    client_id=cognito_response[\"client_id\"],\n",
    "    username=\"testuser\",\n",
    "    password=\"MyPassword123!\",\n",
    ")\n",
    "client = MCPClient(\n",
    "    lambda: streamablehttp_client(\n",
    "        f\"{gatewayEndpoint}\", headers={\"Authorization\": f\"Bearer {jwtToken}\"}\n",
    "    )\n",
    ")\n",
    "with client:\n",
    "    all_tools = get_all_mcp_tools_from_mcp_client(client)\n",
    "    print(f\"\\nFound {len(all_tools)} tools from list_tools_sync() on mcp client\\n\")\n",
    "\n",
    "    simple_agent = Agent(\n",
    "        model=bedrockmodel, tools=all_tools, callback_handler=null_callback_handler\n",
    "    )\n",
    "    direct_result = simple_agent.tool.Calc2___add_numbers(\n",
    "        firstNumber=10, secondNumber=20\n",
    "    )\n",
    "    print(f\"direct result = {direct_result}\")"
   ]
  },
  {
   "cell_type": "code",
   "execution_count": null,
   "id": "92d3f963",
   "metadata": {},
   "outputs": [],
   "source": [
    "def get_search_tool(client):\n",
    "    mcp_tool = MCPTool(\n",
    "        name=\"x_amz_bedrock_agentcore_search\",\n",
    "        description=\"A special tool that returns a trimmed down list of tools given a context. Use this tool only when there are many tools available and you want to get a subset that matches the provided context.\",\n",
    "        inputSchema={\n",
    "            \"type\": \"object\",\n",
    "            \"properties\": {\n",
    "                \"query\": {\n",
    "                    \"type\": \"string\",\n",
    "                    \"description\": \"search query to use for finding tools\",\n",
    "                }\n",
    "            },\n",
    "            \"required\": [\"query\"],\n",
    "        },\n",
    "    )\n",
    "    return MCPAgentTool(mcp_tool, client)"
   ]
  },
  {
   "cell_type": "code",
   "execution_count": null,
   "id": "c04e47cc",
   "metadata": {},
   "outputs": [],
   "source": [
    "def search_using_strands(client, query):\n",
    "    simple_agent = Agent(\n",
    "        model=bedrockmodel,\n",
    "        tools=[get_search_tool(client)],\n",
    "        callback_handler=null_callback_handler,\n",
    "    )\n",
    "\n",
    "    direct_result = simple_agent.tool.x_amz_bedrock_agentcore_search(query=query)\n",
    "\n",
    "    resp_json = json.loads(direct_result[\"content\"][0][\"text\"])\n",
    "    search_results = resp_json[\"tools\"]\n",
    "    # print(json.dumps(search_results, indent=4))\n",
    "    return search_results"
   ]
  },
  {
   "cell_type": "code",
   "execution_count": null,
   "id": "1f07719a",
   "metadata": {},
   "outputs": [],
   "source": [
    "def find_strands_tools(client, query, top_n):\n",
    "    strands_mcp_tools = []\n",
    "    results = search_using_strands(client, query)\n",
    "    for tool in results[:top_n]:\n",
    "        mcp_tool = MCPTool(\n",
    "            name=tool[\"name\"],\n",
    "            description=tool[\"description\"],\n",
    "            inputSchema=tool[\"inputSchema\"],\n",
    "        )\n",
    "        strands_mcp_tools.append(MCPAgentTool(mcp_tool, client))\n",
    "    return strands_mcp_tools"
   ]
  },
  {
   "cell_type": "code",
   "execution_count": null,
   "id": "dc40ff86",
   "metadata": {},
   "outputs": [],
   "source": [
    "jwtToken = utils.get_bearer_token(\n",
    "    client_id=cognito_response[\"client_id\"],\n",
    "    username=\"testuser\",\n",
    "    password=\"MyPassword123!\",\n",
    ")\n",
    "client = MCPClient(\n",
    "    lambda: streamablehttp_client(\n",
    "        f\"{gatewayEndpoint}\", headers={\"Authorization\": f\"Bearer {jwtToken}\"}\n",
    "    )\n",
    ")\n",
    "with client:\n",
    "    simple_agent = Agent(\n",
    "        model=bedrockmodel,\n",
    "        tools=[get_search_tool(client)],\n",
    "        callback_handler=null_callback_handler,\n",
    "    )\n",
    "\n",
    "    direct_result = simple_agent.tool.x_amz_bedrock_agentcore_search(\n",
    "        query=\"find equity trading tools\"\n",
    "    )\n",
    "\n",
    "    resp_json = json.loads(direct_result[\"content\"][0][\"text\"])\n",
    "    search_results = resp_json[\"tools\"]\n",
    "    print(json.dumps(search_results, indent=4))"
   ]
  },
  {
   "cell_type": "code",
   "execution_count": null,
   "id": "09bd76c4",
   "metadata": {},
   "outputs": [],
   "source": [
    "jwtToken = utils.get_bearer_token(\n",
    "    client_id=cognito_response[\"client_id\"],\n",
    "    username=\"testuser\",\n",
    "    password=\"MyPassword123!\",\n",
    ")\n",
    "client = MCPClient(\n",
    "    lambda: streamablehttp_client(\n",
    "        f\"{gatewayEndpoint}\", headers={\"Authorization\": f\"Bearer {jwtToken}\"}\n",
    "    )\n",
    ")\n",
    "with client:\n",
    "    results = search_using_strands(client, \"find trading tools\")\n",
    "    print(json.dumps(search_results[0], indent=4))\n",
    "\n",
    "    results = search_using_strands(client, \"find credit research tools\")\n",
    "    print(json.dumps(search_results[0], indent=4))"
   ]
  },
  {
   "cell_type": "markdown",
   "id": "5c0dcc80",
   "metadata": {},
   "source": [
    "# Strands Agent へのツール検索結果の追加"
   ]
  },
  {
   "cell_type": "markdown",
   "id": "374bc324",
   "metadata": {},
   "source": [
    "ここでは、検索から返されたツールを Strands Agent に追加する方法を見ていきましょう。コーディングを簡単にするために、ツール検索結果を Strands MCPAgentTool オブジェクトにマッピングするユーティリティ関数を提供しましょう。単に検索結果を渡し、それらの結果のうち何個をエージェントに渡したいかを指定するだけです。"
   ]
  },
  {
   "cell_type": "code",
   "execution_count": null,
   "id": "df1e3efe",
   "metadata": {},
   "outputs": [],
   "source": [
    "def tools_to_strands_mcp_tools(tools, top_n):\n",
    "    strands_mcp_tools = []\n",
    "    for tool in tools[:top_n]:\n",
    "        mcp_tool = MCPTool(\n",
    "            name=tool[\"name\"],\n",
    "            description=tool[\"description\"],\n",
    "            inputSchema=tool[\"inputSchema\"],\n",
    "        )\n",
    "        strands_mcp_tools.append(MCPAgentTool(mcp_tool, client))\n",
    "    return strands_mcp_tools"
   ]
  },
  {
   "cell_type": "code",
   "execution_count": null,
   "id": "57d35be1",
   "metadata": {},
   "outputs": [],
   "source": [
    "%%time\n",
    "\n",
    "jwtToken = utils.get_bearer_token(\n",
    "    client_id=cognito_response[\"client_id\"],\n",
    "    username=\"testuser\",\n",
    "    password=\"MyPassword123!\",\n",
    ")\n",
    "client = MCPClient(\n",
    "    lambda: streamablehttp_client(\n",
    "        f\"{gatewayEndpoint}\", headers={\"Authorization\": f\"Bearer {jwtToken}\"}\n",
    "    )\n",
    ")\n",
    "with client:\n",
    "    agent = Agent(\n",
    "        model=bedrockmodel,\n",
    "        tools=find_strands_tools(\n",
    "            client,\n",
    "            \"tools for doing addition, subtraction, multiplication, division\",\n",
    "            10,\n",
    "        ),\n",
    "    )\n",
    "    result = agent(\"(10*2)/(5-3)\")\n",
    "    print(f\"{result.message['content'][0]['text']}\")"
   ]
  },
  {
   "cell_type": "code",
   "execution_count": null,
   "id": "6de85475",
   "metadata": {},
   "outputs": [],
   "source": [
    "%%time\n",
    "\n",
    "jwtToken = utils.get_bearer_token(\n",
    "    client_id=cognito_response[\"client_id\"],\n",
    "    username=\"testuser\",\n",
    "    password=\"MyPassword123!\",\n",
    ")\n",
    "client = MCPClient(\n",
    "    lambda: streamablehttp_client(\n",
    "        f\"{gatewayEndpoint}\", headers={\"Authorization\": f\"Bearer {jwtToken}\"}\n",
    "    )\n",
    ")\n",
    "with client:\n",
    "    print(\"Searching for an ADDING tool from endpoint with full set of tools...\")\n",
    "    tools_found = tool_search(\n",
    "        gateway_endpoint=gatewayEndpoint,\n",
    "        jwt_token=jwtToken,\n",
    "        query=\"tools for multiplying two numbers\",\n",
    "    )\n",
    "    print(f\"Top tool found: {tools_found[0]['name']}\\n\")\n",
    "\n",
    "    agent = Agent(model=bedrockmodel, tools=tools_to_strands_mcp_tools(tools_found, 1))\n",
    "    result = agent(\"10 * 70\")\n",
    "    print(f\"{result.message['content'][0]['text']}\")"
   ]
  },
  {
   "cell_type": "markdown",
   "id": "6a41cfa0",
   "metadata": {},
   "source": [
    "レイテンシの改善に注目してください。Gateway 検索からのツールのサブセットを使用したこの例は、何百ものツールに依存する場合、エージェント呼び出しよりも大幅に高速です。"
   ]
  },
  {
   "cell_type": "markdown",
   "id": "78c1e64e",
   "metadata": {},
   "source": [
    "# ツール検索を使用して 3 倍のレイテンシ改善を示す"
   ]
  },
  {
   "cell_type": "markdown",
   "id": "1bc164be",
   "metadata": {},
   "source": [
    "# 日本語訳:\n",
    "\n",
    "Strands エージェントから Gateway MCP ツールを使用する方法と、ツールを検索してエージェントに追加する方法がわかったところで、検索の力を示しましょう。実現できる大幅なレイテンシー削減と入力トークン使用量の削減について説明します。\n",
    "\n",
    "レイテンシーとトークン削減を実証するために、2 つのアプローチを並べて比較します：\n",
    "\n",
    "1. **検索なし**。MCP サーバーが公開する MCP ツールの完全なセット（私たちの場合は 300 以上）をエージェントに追加し、エージェントにツールの選択と呼び出しを任せます。\n",
    "2. **検索を使用**。2 つ目のアプローチでは、対象となるトピックに基づいて検索を行い、最も関連性の高いツールのみをエージェントに送ります。この点を証明するために、数学（数字の足し算）と食べ物（レストラン予約）という 2 つの異なるトピックを使用し、それぞれ異なるツールセットを必要とします。\n",
    "\n",
    "レイテンシー分布を正規化し、意味のある比較を得るために、各アプローチで複数の反復を実行します。また、効果を過大評価しないために、検索アプローチを行う際には、エージェント呼び出しのレイテンシーだけでなく、ツール検索を実行するレイテンシーも含めています。各反復で、エージェントに 2 つのタスクを与えます：\n",
    "\n",
    "1. 数学タスク - 2 つの数字を足す\n",
    "2. 食べ物タスク - レストランの予約をする\n",
    "\n",
    "以下の結果は、3 倍のレイテンシー削減と、さらに大きな入力トークン使用量の削減という利点を示しています。トークン使用量の節約はコスト削減につながりますが、入力トークンの相対的に低いコストのため、それほど大きな影響がない場合があることに注意してください（多くのモデルプロバイダーでは、入力トークンははるかに安価です）。それでも、大規模なエージェントデプロイメントでは、入力トークン使用コストも積み重なるため、動的検索はエージェントの実行時コストの削減にも役立ちます。"
   ]
  },
  {
   "cell_type": "markdown",
   "id": "e24ad450",
   "metadata": {},
   "source": [
    "#### MCP ツールの全セットを使用するエージェントの遅延とトークン使用量を測定する"
   ]
  },
  {
   "cell_type": "code",
   "execution_count": null,
   "id": "1e67f2ed",
   "metadata": {},
   "outputs": [],
   "source": [
    "iterations = 2\n",
    "full_tokens = light_tokens = 0\n",
    "full_elapsed_time = light_elapsed_time = 0\n",
    "\n",
    "jwtToken = utils.get_bearer_token(\n",
    "    client_id=cognito_response[\"client_id\"],\n",
    "    username=\"testuser\",\n",
    "    password=\"MyPassword123!\",\n",
    ")\n",
    "client = MCPClient(\n",
    "    lambda: streamablehttp_client(\n",
    "        f\"{gatewayEndpoint}\", headers={\"Authorization\": f\"Bearer {jwtToken}\"}\n",
    "    )\n",
    ")"
   ]
  },
  {
   "cell_type": "code",
   "execution_count": null,
   "id": "0bdf1296",
   "metadata": {},
   "outputs": [],
   "source": [
    "with client:\n",
    "    all_tools = get_all_mcp_tools_from_mcp_client(client)\n",
    "    print(f\"\\nFound {len(all_tools)} tools from list_tools_sync() on mcp client\\n\")\n",
    "    heavy_agent = Agent(\n",
    "        model=bedrockmodel, tools=all_tools, callback_handler=null_callback_handler\n",
    "    )\n",
    "\n",
    "    math_input = \"add 100 plus <iteration>\"\n",
    "    food_input = (\n",
    "        \"book me a table for 2 at Burger King under name Jo Smith at 7pm August <day>\"\n",
    "    )\n",
    "\n",
    "    print(\"using agent with ALL tools...\")\n",
    "    start_time = time.time()\n",
    "\n",
    "    for i in range(iterations):\n",
    "        result = heavy_agent(math_input.replace(\"<iteration>\", str(i + 1)))\n",
    "        print(f\"{i+1}) {result.message['content'][0]['text']}\")\n",
    "\n",
    "        result = heavy_agent(food_input.replace(\"<day>\", str(i + 1)))\n",
    "        print(f\"{i+1}) {result.message['content'][0]['text']}\")\n",
    "\n",
    "    end_time = time.time()\n",
    "    full_tokens = result.metrics.accumulated_usage[\"totalTokens\"]\n",
    "    full_elapsed_time = end_time - start_time\n",
    "    print(f\"\\nTotal time: {full_elapsed_time:.1f} s, tokens: {full_tokens:,d}\\n\")"
   ]
  },
  {
   "cell_type": "markdown",
   "id": "be6b20a3",
   "metadata": {},
   "source": [
    "#### エージェントの Gateway Search を使用したレイテンシーとトークン使用量の測定\n",
    "ここでは動的なアプローチを使用し、検索を呼び出して関連ツールを見つけ、その後、それらの関連ツールのみを使用してエージェントを呼び出します。各会話ターンでエージェントをリセットしているため、前のターンの会話履歴からメッセージリストも初期化していることに注意してください。"
   ]
  },
  {
   "cell_type": "code",
   "execution_count": null,
   "id": "80296fb8",
   "metadata": {},
   "outputs": [],
   "source": [
    "with client:\n",
    "    print(\"using agent with ONLY tools from focused search...\")\n",
    "    start_time = time.time()\n",
    "    messages = []\n",
    "\n",
    "    light_agent = Agent()\n",
    "\n",
    "    for i in range(iterations):\n",
    "        print(\"Searching for an ADDING tool from endpoint with full set of tools...\")\n",
    "        tools_found = tool_search(\n",
    "            gateway_endpoint=gatewayEndpoint,\n",
    "            jwt_token=jwtToken,\n",
    "            query=\"tools for simply adding two numbers\",\n",
    "        )\n",
    "        print(f\"Top tool found: {tools_found[0]['name']}\\n\")\n",
    "        light_agent = Agent(\n",
    "            model=bedrockmodel,\n",
    "            tools=tools_to_strands_mcp_tools(tools_found, 1),\n",
    "            messages=messages,\n",
    "            callback_handler=null_callback_handler,\n",
    "        )\n",
    "        light_result = light_agent(math_input.replace(\"<iteration>\", str(i + 1)))\n",
    "        print(f\"{i+1}) {light_result.message['content'][0]['text']}\")\n",
    "        messages = light_agent.messages\n",
    "\n",
    "        print(\n",
    "            \"Searching for a RESTAURANT BOOKING tool from endpoint with full set of tools...\"\n",
    "        )\n",
    "        tools_found = tool_search(\n",
    "            gateway_endpoint=gatewayEndpoint,\n",
    "            jwt_token=jwtToken,\n",
    "            query=\"tools for booking a restaurant reservation\",\n",
    "        )\n",
    "        print(f\"Top tool found: {tools_found[0]['name']}\\n\")\n",
    "        light_agent = Agent(\n",
    "            model=bedrockmodel,\n",
    "            tools=tools_to_strands_mcp_tools(tools_found, 1),\n",
    "            messages=messages,\n",
    "            callback_handler=null_callback_handler,\n",
    "        )\n",
    "        light_result = light_agent(food_input.replace(\"<day>\", str(i + 1)))\n",
    "        print(f\"{i+1}) {light_result.message['content'][0]['text']}\")\n",
    "        messages = light_agent.messages\n",
    "        light_tokens = light_result.metrics.accumulated_usage[\"totalTokens\"]\n",
    "    end_time = time.time()\n",
    "\n",
    "    light_elapsed_time = end_time - start_time\n",
    "    print(f\"\\nTotal time: {light_elapsed_time:.1f} s, tokens: {light_tokens:,d}\\n\")"
   ]
  },
  {
   "cell_type": "markdown",
   "id": "a2647422",
   "metadata": {},
   "source": [
    "#### 結果を比較し、検索の利点を強調する"
   ]
  },
  {
   "cell_type": "code",
   "execution_count": null,
   "id": "eef22580",
   "metadata": {},
   "outputs": [],
   "source": [
    "print(\n",
    "    f\"\\n\\nLatency without search: {full_elapsed_time:.1f}s, using search: {light_elapsed_time:.1f}s\"\n",
    ")\n",
    "print(f\"Tokens without search: {full_tokens:,d}, using search: {light_tokens:,d}\")"
   ]
  },
  {
   "cell_type": "markdown",
   "id": "a7a0d35e",
   "metadata": {},
   "source": [
    "# 結論\n",
    "このチュートリアルでは、Amazon Bedrock AgentCore Gateway とその組み込みの完全マネージド型セマンティック検索機能について学びました。以下の内容を見てきました：\n",
    "\n",
    "- セマンティック検索を有効にしたゲートウェイの作成方法\n",
    "- 単一のエンドポイントから 300 以上の MCP ツールを提供するための複数のゲートウェイターゲットの追加方法\n",
    "- 3 つの異なるアプローチを使用してゲートウェイ上のツールを一覧表示する方法\n",
    "- 関連ツールを見つけるための組み込みセマンティック検索ツールの使用方法\n",
    "- 検索と Strands Agent の統合方法\n",
    "- 何百ものツールを使用するサーバーを使用するエージェントと、セマンティック検索を使用して特定のトピックにツールを絞り込むエージェントのパフォーマンスを比較する方法\n",
    "\n",
    "AgentCore Gateway の検索は、より高度なユースケースにも役立ちます。検索をコントロールプレーン API だけでなくネイティブな MCP ツールとして提供することで、エージェントに新しい MCP サーバーを発見し、実行時に新しい機能を見つける自律性を与えることができ、より困難な問題を解決するためのブレークスルーにつながることが想像できます。さらに、検索は MCP レジストリの重要な基盤であり、エージェント開発者が新しいエージェントを設計・構築する際のサポートとなります。"
   ]
  },
  {
   "cell_type": "markdown",
   "id": "3c569fc6",
   "metadata": {},
   "source": [
    "# リソースのクリーンアップ"
   ]
  },
  {
   "cell_type": "markdown",
   "id": "8c51ae00",
   "metadata": {},
   "source": [
    "AgentCore Gateway リソースをクリーンアップするためのヘルパー関数をいくつか定義しましょう。"
   ]
  },
  {
   "cell_type": "code",
   "execution_count": null,
   "id": "81ce65be",
   "metadata": {},
   "outputs": [],
   "source": [
    "def delete_gatewaytarget(gateway_id):\n",
    "    response = agentcore_client.list_gateway_targets(gatewayIdentifier=gateway_id)\n",
    "\n",
    "    print(f\"Found {len(response['items'])} targets for the gateway\")\n",
    "\n",
    "    for target in response[\"items\"]:\n",
    "        print(\n",
    "            f\"Deleting target with Name: {target['name']} and Id: {target['targetId']}\"\n",
    "        )\n",
    "\n",
    "        response = agentcore_client.delete_gateway_target(\n",
    "            gatewayIdentifier=gateway_id, targetId=target[\"targetId\"]\n",
    "        )\n",
    "        time.sleep(20)\n",
    "\n",
    "\n",
    "def delete_gateway(gateway_id):\n",
    "    response = agentcore_client.delete_gateway(gatewayIdentifier=gateway_id)"
   ]
  },
  {
   "cell_type": "markdown",
   "id": "ecaade0e",
   "metadata": {},
   "source": [
    "### ゲートウェイターゲットの削除"
   ]
  },
  {
   "cell_type": "code",
   "execution_count": null,
   "id": "930b0d93",
   "metadata": {},
   "outputs": [],
   "source": [
    "delete_gatewaytarget(gateway_id=gatewayId)"
   ]
  },
  {
   "cell_type": "markdown",
   "id": "77c008ef",
   "metadata": {},
   "source": [
    "### ゲートウェイ自体の削除"
   ]
  },
  {
   "cell_type": "code",
   "execution_count": null,
   "id": "78916cc5",
   "metadata": {},
   "outputs": [],
   "source": [
    "delete_gateway(gateway_id=gatewayId)"
   ]
  },
  {
   "cell_type": "code",
   "execution_count": null,
   "id": "aa6fc55e",
   "metadata": {},
   "outputs": [],
   "source": [
    "lambda_arns = [\n",
    "    calc_lambda_resp[\"lambda_function_arn\"],\n",
    "    restaurant_lambda_resp[\"lambda_function_arn\"],\n",
    "]\n",
    "\n",
    "for arn in lambda_arns:\n",
    "    if utils.delete_gateway_lambda(arn):\n",
    "        print(f\"Deleted Lambda: {arn}\")\n",
    "    else:\n",
    "        print(f\"Lambda {arn} not found or deletion failed\")"
   ]
  },
  {
   "cell_type": "code",
   "execution_count": null,
   "id": "0f507063",
   "metadata": {},
   "outputs": [],
   "source": [
    "# Gateway role cleanup\n",
    "\n",
    "# ゲートウェイ ロールのクリーンアップ\n",
    "if utils.delete_gateway_iam_role():\n",
    "    print(\"Gateway IAM role deleted\")\n",
    "else:\n",
    "    print(\"Gateway IAM role not found or deletion failed\")\n",
    "\n",
    "# Cognito クリーンアップ\n",
    "if utils.delete_cognito_user_pool():\n",
    "    print(\"Cognito pool deleted\")\n",
    "else:\n",
    "    print(\"✗ Failed to delete Cognito pool\")"
   ]
  },
  {
   "cell_type": "markdown",
   "id": "3bdb4509",
   "metadata": {},
   "source": []
  }
 ],
 "metadata": {
  "kernelspec": {
   "display_name": ".venv",
   "language": "python",
   "name": "python3"
  },
  "language_info": {
   "codemirror_mode": {
    "name": "ipython",
    "version": 3
   },
   "file_extension": ".py",
   "mimetype": "text/x-python",
   "name": "python",
   "nbconvert_exporter": "python",
   "pygments_lexer": "ipython3",
   "version": "3.10.18"
  }
 },
 "nbformat": 4,
 "nbformat_minor": 5
}
