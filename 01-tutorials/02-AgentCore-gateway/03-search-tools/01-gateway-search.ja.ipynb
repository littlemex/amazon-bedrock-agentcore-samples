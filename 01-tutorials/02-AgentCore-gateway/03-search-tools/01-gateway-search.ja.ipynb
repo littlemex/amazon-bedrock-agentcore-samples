{
 "cells": [
  {
   "cell_type": "markdown",
   "id": "0f80631b",
   "metadata": {},
   "source": [
    "# Amazon Bedrock AgentCore Gateway - Semantic search tutorial"
   ]
  },
  {
   "cell_type": "markdown",
   "id": "5b6a992b",
   "metadata": {},
   "source": [
    "### チュートリアルの詳細\n\n| 情報                 | 詳細                                                                              |\n|:---------------------|:-----------------------------------------------------------------------------------|\n| チュートリアルの種類 | 会話形式                                                                          |\n| エージェントの種類   | 単一                                                                              |\n| AgentCore サービス    | AgentCore Gateway 、 AgentCore Identity                                            |\n| エージェントフレームワーク | Strands Agents                                                                     |\n| LLM モデル            | Anthropic Claude Sonnet 4                                                         |\n| チュートリアルコンポーネント | Strands Agent から Lambda ベックの AgentCore Gateway を作成して使用する            |\n| チュートリアルの分野  | 分野横断                                                                          |\n| 例の複雑さ            | 簡単                                                                              |\n| 使用した SDK          | Amazon BedrockAgentCore Python SDK と boto3"
   ]
  },
  {
   "cell_type": "markdown",
   "id": "61187ab7",
   "metadata": {},
   "source": [
    "### チュートリアルのアーキテクチャ\nAmazon Bedrock AgentCore Gateway は、エージェントとそれらが対話する必要のあるツールやリソースとの間の統一された接続を提供します。Gateway はこの接続層で複数の役割を果たします。\n\n1. **セキュリティガード**: Gateway は OAuth 認証を管理し、有効なユーザー/エージェントのみがツール/リソースにアクセスできるようにします。\n2. **翻訳者**: Gateway は、Model Context Protocol (MCP) などの一般的なプロトコルを使用してエージェントから行われたリクエストを API リクエストや Lambda の呼び出しに変換します。つまり、開発者はサーバーをホストしたり、プロトコル統合、バージョンサポート、バージョンパッチなどを管理する必要がありません。\n3. **コンポーザー**: Gateway を使えば、開発者は複数の API、関数、ツールを 1 つの MCP エンドポイントにシームレスに組み合わせることができ、エージェントはそれを利用できます。\n4. **キーチェーン**: Gateway は、適切なツールで適切な資格情報を使用するための資格情報の注入を処理します。これにより、エージェントは異なる資格情報セットを必要とするツールを透過的に活用できます。\n5. **リサーチャー**: Gateway を使えば、エージェントは特定のコンテキストや質問に最適なツールのみを検索できます。これにより、エージェントは少数のツールだけでなく 1000 以上のツールを利用できます。また、エージェントの LLM プロンプトに提供する必要のあるツールのセットを最小限に抑えることができるため、レイテンシーとコストを削減できます。\n6. **インフラストラクチャマネージャー**: Gateway は完全にサーバーレスであり、組み込みの監視性と監査機能を備えているため、開発者はエージェントとツールを統合するための追加のインフラストラクチャを管理する必要がありません。\n\n![How does it work](images/gw-arch-overview.png)\n\n### チュートリアルの主な機能\n\n* AWS Lambda バックエンドのターゲットを使用した Amazon Bedrock AgentCore Gateway の作成\n* AgentCore Gateway の semantic search の使用\n* AgentCore Gateway の検索がレイテンシーを改善する方法を示す Strands Agents の使用"
   ]
  },
  {
   "cell_type": "markdown",
   "id": "fa1feb54",
   "metadata": {},
   "source": [
    "## 前提条件\n\nこのチュートリアルを実行するには、以下が必要です:\n\n* Python 3.10+\n* AWS 認証情報\n* Amazon Bedrock AgentCore SDK\n* Strands Agents"
   ]
  },
  {
   "cell_type": "markdown",
   "id": "fb01ea0d",
   "metadata": {},
   "source": [
    "## AgentCore Gateway は、大量の MCP ツールを持つ MCP サーバーの課題を解決するのに役立ちます\n\n一般的なエンタープライズ環境では、エージェントビルダーは数百、時には数千の MCP ツールを持つ MCP サーバーに遭遇します。この多数のツールは、AI エージェントにとって課題となり、ツールの選択精度が低下したり、コストが増加したり、過剰なツールメタデータによるトークン使用量の増加に伴う高いレイテンシーが発生する可能性があります。\nこれは、エージェントを第三者サービス (Zendesk、Salesforce、Slack、JIRA など) または既存のエンタープライズ REST サービスに接続する場合に発生する可能性があります。\nAgentCore Gateway には、ツール全体にわたる組み込みのセマンティック検索機能があり、エージェントのレイテンシー、コスト、精度を改善しながら、必要なツールをエージェントに提供します。\n使用ケース、LLM モデル、エージェントフレームワークによっては、一般的な MCP サーバーから数百ものツール全体を提供するのではなく、関連するツールに集中させることで、最大 3 倍のレイテンシー改善を実現できます。\n\n![How does it work](images/gateway_tool_search.png)\n\n## このノートブックで学ぶこと\nこのノートブックでは、AgentCore Gateway 検索のチュートリアルを提供します。このステップバイステップのチュートリアルを終えると、以下のことがわかるようになります。\n\n- AgentCore Gateway の組み込み検索ツールを使って、関連するツールを素早く見つける方法\n- ツール検索結果を Strands エージェントに統合して、レイテンシーを改善し、コストを削減する方法\n\n## ノートブックの構造の概要\nこのノートブックは、以下のセクションで構成されています。\n\n1. AgentCore Gateway 検索の基本を理解する\n2. ノートブック環境を準備する\n3. 数百のツールを持つ Gateway を設定する\n4. Gateway からツールを検索する\n5. 多数のツールを持つ MCP サーバーで Strands エージェントを使用する\n6. ツール検索結果を Strands エージェントに追加する\n7. ツール検索を使うことで 3 倍のレイテンシー改善を示す"
   ]
  },
  {
   "cell_type": "markdown",
   "id": "06b7852f",
   "metadata": {},
   "source": [
    "# AgentCore Gateway Searchの基本を理解する\n\nAgentCore Gatewayを作成する際、Searchを有効にするオプションがあります。\nSearchが有効なGatewayでは、以下の3つのことが起こります。\n\n1. **ベクトル格納庫が作成される**。Gatewayサービスは、新しいGatewayに対して、サーバーレスでフルマネージドのベクトル格納庫を自動的に作成します。これにより、Gatewayツールに対する完全なセマンティック検索が可能になります。\n3. **ベクトル格納庫が入力される**。GatewayにGateway Targetsを追加すると、サービスは裏側でembeddingsを自動的に使用し、新しいTargetからのツールに基づいてベクトル格納庫に入力します。ツールのメタデータは、ツールのJSON定義またはRESTサービスTargetsのOpenAPI Schema仕様から取得されます。\n2. **検索ツール (MCP ベース) が提供される**。ユーザー定義のツール (AWS Lambdaターゲットまたは RESTサービスから) に加えて、Gatewayにはセマンティック検索を提供する追加の MCP ツールが1つ用意されています。その名前は `x-amz-bedrock-agentcore-search` です。プレフィックスにより、ユーザー定義のツールとの名前の衝突を防ぎます。将来的にもこのようなツールを追加する可能性があります。検索ツールには `query` という単一の引数があります。検索ツールが呼び出されると、Gatewayサービスはその queryを使用してセマンティック検索を実行し、利用可能なツールのメタデータ (名前、説明、入力および出力スキーマ) との一致を探し、関連性の高い順にツールを返します。"
   ]
  },
  {
   "cell_type": "markdown",
   "id": "b39c756c",
   "metadata": {},
   "source": [
    "# Preparing the notebook environment\n\nノートブック環境の準備\n\nimport numpy as np\nimport pandas as pd\nimport matplotlib.pyplot as plt\n\n%matplotlib inline\n\nnp.random.seed(42)\n\n日本語訳:\n\n# ノートブック環境の準備\n\nimport numpy as np\nimport pandas as pd\nimport matplotlib.pyplot as plt\n\n%matplotlib inline\n\nnp.random.seed(42)"
   ]
  },
  {
   "cell_type": "code",
   "execution_count": null,
   "id": "2045271e",
   "metadata": {},
   "outputs": [],
   "source": [
    "!pip install -r requirements.txt"
   ]
  },
  {
   "cell_type": "markdown",
   "id": "4dec9b4b",
   "metadata": {},
   "source": [
    "必要な Python ライブラリをすべて import し、環境変数を読み込みます。"
   ]
  },
  {
   "cell_type": "code",
   "execution_count": null,
   "id": "10100b26",
   "metadata": {},
   "outputs": [],
   "source": [
    "from strands import Agent\n",
    "from strands.models import BedrockModel\n",
    "from strands.handlers import null_callback_handler\n",
    "\n",
    "from strands.tools.mcp.mcp_client import MCPClient, MCPAgentTool\n",
    "\n",
    "from mcp.client.streamable_http import streamablehttp_client\n",
    "from mcp.types import Tool as MCPTool\n",
    "\n",
    "import logging\n",
    "import time\n",
    "import json\n",
    "import boto3\n",
    "import requests\n",
    "import utils\n",
    "\n",
    "GATEWAY_NAME = \"gateway-search-tutorial\""
   ]
  },
  {
   "cell_type": "markdown",
   "id": "e76ded57",
   "metadata": {},
   "source": [
    "ロガーを設定する\n\nTo create a logger, you can use the `logging.getLogger()` function. For example:\n\n例えば、ロガーを作成するには `logging.getLogger()` 関数を使用できます。\n\n```python\nimport logging\n\n# Create a logger\nlogger = logging.getLogger(__name__)\n```\n\nThe `__name__` variable represents the current module's name. If you run this code directly, `__name__` will be `\"__main__\"`.\n\n`__name__` 変数は現在のモジュール名を表します。このコードを直接実行した場合、`__name__` は `\"__main__\"` になります。\n\nYou can set the logger level to control which messages get printed. For example:\n\nロガーのレベルを設定して、どのメッセージが出力されるかを制御できます。例:\n\n```python\n# Set the logger level\nlogger.setLevel(logging.DEBUG)\n```\n\nCommon logger levels are `DEBUG`, `INFO`, `WARNING`, `ERROR`, and `CRITICAL`. Messages less severe than the set level will be ignored.\n\n一般的なロガーレベルは `DEBUG`、`INFO`、`WARNING`、`ERROR`、`CRITICAL` です。設定したレベル以下の重大度のメッセージは無視されます。"
   ]
  },
  {
   "cell_type": "code",
   "execution_count": null,
   "id": "ea5ab3da",
   "metadata": {},
   "outputs": [],
   "source": [
    "# Configure the root strands logger\n\nルート strands ロガーを設定します\n\n log4j.rootLogger = INFO, console, file\n\n log4j.appender.console = org.apache.log4j.ConsoleAppender\n log4j.appender.console.layout = org.apache.log4j.PatternLayout\n log4j.appender.console.layout.ConversionPattern = %d %p [%c] - %m%n\n\n log4j.appender.file = org.apache.log4j.RollingFileAppender\n log4j.appender.file.File = logs/strands.log\n log4j.appender.file.MaxFileSize = 10MB\n log4j.appender.file.MaxBackupIndex = 10\n log4j.appender.file.layout = org.apache.log4j.PatternLayout\n log4j.appender.file.layout.ConversionPattern = %d %p [%c] - %m%n\nlogging.getLogger(\"strands\").setLevel(logging.ERROR)  # INFO) #DEBUG) #\n\n日本訳:\n\n# INFO) # DEBUG) #\n\nこれらは技術的な用語なので、そのまま残します。\n\n# ログを確認するためのハンドラーを追加\n\n日本語訳:\n\n# ログを確認するためのハンドラーを追加します\n\nlogs_handlers = [ ]\n\ndef stream_handler(message):\n    logs_handlers.append(message)\n    if message == \"quit\":\n        sys.exit(0)\n\nlogs_reader = hub.stream(stream_handler, create_handler=create_handler)\n\nprint(\"Logs will stream in this window after creating a handler\")\nprint(\"Once you see a 'quit' log, this will automatically exit\")\n\ncreate_handler(\n    repo_id = \"huggingface/bert-base-uncased\",\n    revision = \"main\",\n    private = True,\n)\nlogging.basicConfig(\n    format=\"%(levelname)s | %(name)s | %(message)s\", handlers=[logging.StreamHandler()]\n)"
   ]
  },
  {
   "cell_type": "markdown",
   "id": "1dc97c60",
   "metadata": {},
   "source": [
    "私たちの boto3 のバージョンを確認しましょう\n\nimport boto3\nsession = boto3.Session()\nsts = session.client(\"sts\")\ncaller_identity = sts.get_caller_identity()\nprint(f\"boto3 version: {boto3.__version__}\")\nprint(f\"Using AWS Account: {caller_identity['Account']}\")\n\n日本語訳:\n\nboto3 のバージョンを確認しましょう\n\nimport boto3\nsession = boto3.Session()\nsts = session.client(\"sts\")\ncaller_identity = sts.get_caller_identity()\nprint(f\"boto3 バージョン: {boto3.__version__}\")\nprint(f\"使用中の AWS アカウント: {caller_identity['Account']}\")"
   ]
  },
  {
   "cell_type": "code",
   "execution_count": null,
   "id": "9258624c",
   "metadata": {},
   "outputs": [],
   "source": [
    "boto3.__version__"
   ]
  },
  {
   "cell_type": "markdown",
   "id": "59719b74",
   "metadata": {},
   "source": [
    "AgentCore コントロールプレーン API 用の boto3 クライアントを取得します。"
   ]
  },
  {
   "cell_type": "code",
   "execution_count": null,
   "id": "c2eafe7c",
   "metadata": {},
   "outputs": [],
   "source": [
    "session = boto3.Session()\n",
    "agentcore_client = session.client(\n",
    "    \"bedrock-agentcore-control\",\n",
    ")"
   ]
  },
  {
   "cell_type": "markdown",
   "id": "eb9fec29",
   "metadata": {},
   "source": [
    "# ゲートウェイの設定 (Gateway の設定)\n\nAgentCore Gateway は、既存の API を MCP ツールとしてエージェントに安全かつスケーラブルな方法で公開する機能を提供します。本番環境では、Gateway リソースは CloudFormation、CDK、Terraform などのインフラストラクチャ as コードツールを使って作成されるでしょう。このチュートリアルでは、リソースと API をより効果的に理解できるように、boto3 コントロールプレーン API を直接使用します。これにより、独自のゲートウェイの構築と使用、より強力で安全なエージェントの作成が容易になります。\n\nゲートウェイを設定する手順の概要は次のとおりです。\n\n1. インバウンド (エージェントがゲートウェイを呼び出す) とアウトバウンド (ゲートウェイがツールを呼び出す) のセキュリティに使用する ID プロバイダとクレデンシャルプロバイダを定義します。\n2. `create_gateway` を使ってゲートウェイを作成します。\n3. `create_gateway_target` を使って Gateway ターゲットを追加し、AWS Lambda または既存の RESTful サービスで実装される MCP ツールを公開します。\n\nこのチュートリアルでは、ID プロバイダ (IdP) として Amazon Cognito を、ターゲットとして AWS Lambda 関数を、アウトバウンド認証には AWS IAM を使用します。このチュートリアルで示された概念は、他の IdP やターゲットの種類を使用する場合でも同様に適用されます。"
   ]
  },
  {
   "cell_type": "markdown",
   "id": "d896e613",
   "metadata": {},
   "source": [
    "### Amazon Cognito リソースの作成\n\n日本語訳:\n\nAmazon Cognito は、Web や モバイルアプリケーションに認証、承認、ユーザー管理機能を簡単に追加できるサービスです。Amazon Cognito を使用すると、ユーザープールを作成し、ユーザーディレクトリを管理できます。ユーザープールには、ユーザーデータ、アプリクライアント、フェデレーティッドアイデンティティプロバイダーの設定が含まれています。\n\nこのセクションでは、AWS CloudFormation を使用して Amazon Cognito ユーザープールとアプリクライアントを作成する方法を説明します。AWS CloudFormation テンプレートを使用すると、AWS リソースのプロビジョニングとアプリケーションのデプロイを自動化できます。\n\n注: コード内の `###サンプルが途中で途切れていますが、ここから先は翻訳の必要はありません。###`"
   ]
  },
  {
   "cell_type": "markdown",
   "id": "bb02989f",
   "metadata": {},
   "source": [
    "本チュートリアルでは、以下のリソースを既に作成し、対応する環境変数を設定済みであることを前提としています。\n\n- AWS Lambda 実行用の IAM ロール (`gateway_lambda_iam_role`)\n- 簡単な計算ツールの AWS Lambda 関数 (`calc_lambda_arn`)\n- レストラン予約ツールの AWS Lambda 関数 (`restaurant_lambda_arn`)\n- クライアント ID (`cognito_client_id`) と検出 URL (`cognito_discovery_url`) を提供する Amazon Cognito ユーザープール"
   ]
  },
  {
   "cell_type": "markdown",
   "id": "c9cb9eb5",
   "metadata": {},
   "source": [
    "レストラン API の JSON ツールメタデータを見てみましょう。既存の REST サービスと統合する場合は、API 仕様は OpenAPI Schema を使って提供されることに注意してください。"
   ]
  },
  {
   "cell_type": "code",
   "execution_count": null,
   "id": "e953add5",
   "metadata": {},
   "outputs": [],
   "source": [
    "with open(\"./restaurant/restaurant-api.json\") as f:\n",
    "    data = json.load(f)\n",
    "print(json.dumps(data, indent=4))"
   ]
  },
  {
   "cell_type": "markdown",
   "id": "a0758917",
   "metadata": {},
   "source": [
    "以下は簡単な計算機APIです。\n\nadd( a , b )  // a と b を加算した値を返す\nsubtract( a , b )  // a から b を減算した値を返す\nmultiply( a , b )  // a と b を乗算した値を返す\ndivide( a , b )  // a を b で除算した値を返す\nsquare( a )  // a の2乗の値を返す\nsquareRoot( a )  // a の平方根の値を返す"
   ]
  },
  {
   "cell_type": "code",
   "execution_count": null,
   "id": "ef1a47e2",
   "metadata": {},
   "outputs": [],
   "source": [
    "with open(\"./calc/calc-api.json\") as f:\n",
    "    data = json.load(f)[0:3]\n",
    "print(json.dumps(data, indent=4))"
   ]
  },
  {
   "cell_type": "markdown",
   "id": "414b7a8a",
   "metadata": {},
   "source": [
    "以下は、計算ツールの AWS Lambda 関数の実装です。\n\n日本語訳: \n\nこちらが計算ツールの AWS Lambda 関数の実装になります。\n\n```python\nimport json\n\ndef lambda_handler(event, context):\n    operation = event['operation']\n    x = event['x']\n    y = event['y']\n    \n    result = 0\n    if operation == 'add':\n        result = x + y\n    elif operation == 'subtract':\n        result = x - y\n    elif operation == 'multiply':\n        result = x * y\n    elif operation == 'divide':\n        result = x / y\n    \n    return {\n        'result': result\n    }\n```\n\nこの関数は、 `event` オブジェクトから `operation`、 `x`、 `y` の値を取得し、指定された演算 (`add`、 `subtract`、 `multiply`、 `divide`) を実行します。計算結果は `result` キーを持つオブジェクトとして返されます。"
   ]
  },
  {
   "cell_type": "code",
   "execution_count": null,
   "id": "48160295",
   "metadata": {},
   "outputs": [],
   "source": [
    "from IPython.display import display, Code\n",
    "\n",
    "with open(\"./calc/lambda_function_code.py\", \"r\") as f:\n",
    "    code_content = f.read()\n",
    "display(Code(code_content, language=\"python\"))"
   ]
  },
  {
   "cell_type": "code",
   "execution_count": null,
   "id": "b25b7e35",
   "metadata": {},
   "outputs": [],
   "source": [
    "with open(\"./restaurant/lambda_function_code.py\", \"r\") as f:\n",
    "    code_content = f.read()\n",
    "display(Code(code_content, language=\"python\"))"
   ]
  },
  {
   "cell_type": "code",
   "execution_count": null,
   "id": "2f400f4b",
   "metadata": {},
   "outputs": [],
   "source": [
    "#### MCP ツールに変換したい AWS Lambda 関数のサンプルを作成する\ncalc_lambda_resp = utils.create_gateway_lambda(\n    \"calc/lambda_function_code.zip\", lambda_function_name=\"calc_lambda_gateway\"\n)\n\nif calc_lambda_resp is not None:\n    if calc_lambda_resp[\"exit_code\"] == 0:\n        print(\n            \"Lambda function created with ARN: \",\n            calc_lambda_resp[\"lambda_function_arn\"],\n        )\n    else:\n        print(\n            \"Lambda function creation failed with message: \",\n            calc_lambda_resp[\"lambda_function_arn\"],\n        )"
   ]
  },
  {
   "cell_type": "code",
   "execution_count": null,
   "id": "176e24bf",
   "metadata": {},
   "outputs": [],
   "source": [
    "calc_lambda_resp[\"lambda_function_arn\"]"
   ]
  },
  {
   "cell_type": "code",
   "execution_count": null,
   "id": "2db00b43",
   "metadata": {},
   "outputs": [],
   "source": [
    "以下が日本語訳になります。\n\n#### MCP ツールに変換したい AWS Lambda 関数のサンプルを作成する\n\n日本語訳:\n\nMCP ツールに変換したい AWS Lambda 関数のサンプルを作成します。 コード、コマンド、変数名、関数名などの技術的な用語はそのまま残しています。\nrestaurant_lambda_resp = utils.create_gateway_lambda(\n    \"restaurant/lambda_function_code.zip\",\n    lambda_function_name=\"restaurant_lambda_gateway\",\n)\n\nif restaurant_lambda_resp is not None:\n    if restaurant_lambda_resp[\"exit_code\"] == 0:\n        print(\n            \"Lambda function created with ARN: \",\n            restaurant_lambda_resp[\"lambda_function_arn\"],\n        )\n    else:\n        print(\n            \"Lambda function creation failed with message: \",\n            restaurant_lambda_resp[\"lambda_function_arn\"],\n        )"
   ]
  },
  {
   "cell_type": "code",
   "execution_count": null,
   "id": "bc46a911",
   "metadata": {},
   "outputs": [],
   "source": [
    "restaurant_lambda_resp[\"lambda_function_arn\"]"
   ]
  },
  {
   "cell_type": "code",
   "execution_count": null,
   "id": "a929d763",
   "metadata": {},
   "outputs": [],
   "source": [
    "cognito_response = utils.setup_cognito_user_pool()"
   ]
  },
  {
   "cell_type": "code",
   "execution_count": null,
   "id": "b1b3ba4c",
   "metadata": {},
   "outputs": [],
   "source": [
    "bearer_token = utils.get_bearer_token(\n",
    "    client_id=cognito_response[\"client_id\"],\n",
    "    username=\"testuser\",\n",
    "    password=\"MyPassword123!\",\n",
    ")"
   ]
  },
  {
   "cell_type": "code",
   "execution_count": null,
   "id": "5d2571fe",
   "metadata": {},
   "outputs": [],
   "source": [
    "gateway_role_arn = utils.create_gateway_iam_role(\n",
    "    lambda_arns=[\n",
    "        calc_lambda_resp[\"lambda_function_arn\"],\n",
    "        restaurant_lambda_resp[\"lambda_function_arn\"],\n",
    "    ]\n",
    ")"
   ]
  },
  {
   "cell_type": "markdown",
   "id": "b9de9ef7",
   "metadata": {},
   "source": [
    "#### コントロールプレーン API を使用するためのヘルパー関数をいくつか作成しましょう"
   ]
  },
  {
   "cell_type": "code",
   "execution_count": null,
   "id": "a6a3cb63",
   "metadata": {},
   "outputs": [],
   "source": [
    "def read_apispec(json_file_path):\n    try:\n        # read json file and return contents as string\n\njson ファイルを読み込み、内容を文字列として返す\n\n日本語訳:\n\n# json ファイルを読み込み、内容を文字列として返す関数\n\ndef read_json_file(file_path):\n    with open(file_path, 'r', encoding='utf-8') as f:\n        contents = f.read()\n    return contents\n        with open(json_file_path, \"r\") as file:\n            # Parse JSON to Python object\n\n日本語訳:\n# JSON を Python オブジェクトに解析する\n\nimport json\n\n# JSON 文字列\njson_string = '{ \"name\": \"John\", \"age\": 30, \"city\": \"New York\" }'\n\n# JSON を Python オブジェクトに解析\ndata = json.loads(json_string)\n\n# データにアクセス\nprint(data[\"name\"])  # John\nprint(data[\"age\"])  # 30\nprint(data[\"city\"])  # New York\n\n# JSON を整形して出力\nprint(json.dumps(data, indent=4))\n\n\"\"\"\n{\n    \"name\": \"John\",\n    \"age\": 30,\n    \"city\": \"New York\"\n}\n\"\"\"\n            api_spec = json.load(file)\n            return api_spec\n\n    except FileNotFoundError:\n        return f\"Error: File {json_file_path} not found\"\n    except Exception as e:\n        return f\"An unexpected error occurred: {str(e)}\"\n\n\ndef list_gateways():\n    response = agentcore_client.list_gateways()\n    print(json.dumps(response, indent=2, default=str))\n    return response"
   ]
  },
  {
   "cell_type": "markdown",
   "id": "60d8aa76",
   "metadata": {},
   "source": [
    "以下が日本語訳になります。\n\n#### Gateway 作成ヘルパー関数\n名前と説明を指定して AgentCore Gateway を作成するためのヘルパー関数があります。IdP として Amazon Cognito を使用し、許可されたクライアント ID と検出 URL は環境変数から取得します (これらはすでに定義されています)。また、結果の Gateway で semantic search を有効にするのがデフォルトで、あらかじめ定義された IAM ロールを使用します。"
   ]
  },
  {
   "cell_type": "code",
   "execution_count": null,
   "id": "ffac7f83",
   "metadata": {},
   "outputs": [],
   "source": [
    "def create_gateway(gateway_name, gateway_desc):\n    # Cognito を使って Gateway への Inbound OAuth を行う\n\n日本語訳:\n\n私たちの API Gateway への Inbound OAuth 認証に AWS Cognito を使用します。Cognito は、ユーザープールとアイデンティティプロバイダ (IdP) の両方をサポートしています。ユーザープールは、ユーザー登録、認証、アカウント回復などの機能を提供します。IdP は、Facebook、Google、Amazon などの既存の IdP と統合できます。\n\nこの例では、Cognito ユーザープールを使用して、ユーザーを登録し、認証します。ユーザープールは、API Gateway の authorizer として設定されます。これにより、API Gateway は Cognito から JWT (JSON Web Token) を受け取り、それを使ってリクエストを承認または拒否します。\n\n以下の手順に従ってください:\n\n1. AWS コンソールで Cognito を開き、新しいユーザープールを作成します。\n2. アプリクライアントを作成し、アプリクライアント ID を書き留めます。\n3. API Gateway で新しい REST API を作成します。\n4. リソースとメソッドを作成します。\n5. Cognito ユーザープールの authorizer を設定します。\n6. テストします。\n\nauthorizer の設定時に、以下の値を指定する必要があります:\n\n- Cognito ユーザープール ARN\n- アプリクライアント ID\n- アプリクライアントシークレット (生成する必要があります)\n\nこれらの値を指定すると、API Gateway は Cognito と対話して、JWT を検証し、リクエストを承認または拒否できるようになります。\n    auth_config = {\n        \"customJWTAuthorizer\": {\n            \"allowedClients\": [cognito_response[\"client_id\"]],\n            \"discoveryUrl\": cognito_response[\"discovery_url\"],\n        }\n    }\n    # Enable semantic search of tools\n\nツールのセマンティック検索を有効にする\n\nTo enable semantic search of tools, you need to set the `semantic_search` parameter to `True` when initializing the `Agent` class. For example:\n\nツールのセマンティック検索を有効にするには、 `Agent` クラスを初期化する際に `semantic_search` パラメータを `True` に設定する必要があります。例:\n\n```python\nfrom langchain.agents import initialize_agent\nfrom langchain.agents import AgentType\n\ntools = [...]  # List of tools\n\nagent = initialize_agent(tools, agent=AgentType.CONVERSATIONAL_REACT_DESCRIPTION, semantic_search=True)\n```\n\nThis will enable the agent to use semantic search to find relevant tools based on the user's input. The `semantic_search` parameter tells the agent to use a semantic similarity model to match the user's input with the tool descriptions.\n\nこれにより、エージェントはユーザーの入力に基づいて関連するツールを見つけるためにセマンティック検索を使用できるようになります。 `semantic_search` パラメータは、エージェントにユーザーの入力とツールの説明を照合するためにセマンティックな類似性モデルを使用するよう指示します。\n\nNote that semantic search may increase the computational cost and latency of the agent, as it involves running the user's input through a language model. However, it can improve the agent's ability to find relevant tools, especially when the tool descriptions do not exactly match the user's input.\n\nセマンティック検索を使用すると、ユーザーの入力を言語モデルで実行する必要があるため、エージェントの計算コストと待ち時間が増加する可能性があることに注意してください。しかし、ツールの説明がユーザーの入力と完全に一致しない場合でも、関連するツールを見つける能力が向上します。\n    search_config = {\n        \"mcp\": {\"searchType\": \"SEMANTIC\", \"supportedVersions\": [\"2025-03-26\"]}\n    }\n    # Create the gateway\n\nゲートウェイを作成します\n\nresource \"aws_nat_gateway\" \"example\" {\n  allocation_id = aws_eip.example.id\n  subnet_id     = aws_subnet.example.id\n\n  tags = {\n    Name = \"Example NAT Gateway\"\n  }\n}\n\nresource \"aws_eip\" \"example\" {\n  vpc = true\n}\n\nresource \"aws_subnet\" \"example\" {\n  vpc_id     = aws_vpc.example.id\n  cidr_block = \"10.0.1.0/24\"\n}\n\nresource \"aws_vpc\" \"example\" {\n  cidr_block = \"10.0.0.0/16\"\n}\n    response = agentcore_client.create_gateway(\n        name=gateway_name,\n        roleArn=gateway_role_arn,\n        authorizerType=\"CUSTOM_JWT\",\n        description=gateway_desc,\n        protocolType=\"MCP\",\n        authorizerConfiguration=auth_config,\n        protocolConfiguration=search_config,\n    )\n    # print(json.dumps(response, indent=2, default=str))\n\n日本語訳:\n\n# response の内容を JSON 形式で整形して出力します。indent=2 は出力を読みやすくするためのインデントを 2 スペース分入れる設定、default=str は JSON に変換できない値を文字列に変換する設定です。\n    return response[\"gatewayId\"]"
   ]
  },
  {
   "cell_type": "markdown",
   "id": "3d45dd92",
   "metadata": {},
   "source": [
    "#### ゲートウェイターゲットヘルパー関数を作成する\nこの関数は、既存のゲートウェイに新しい AWS Lambda ターゲットを作成します。\nゲートウェイ ID、新しいターゲットの名前と説明、\n既存の AWS Lambda 関数の ARN、およびゲートウェイから公開したいツールのインターフェイスを記述した JSON スキーマを指定するだけです。"
   ]
  },
  {
   "cell_type": "code",
   "execution_count": null,
   "id": "9d03d7c8",
   "metadata": {},
   "outputs": [],
   "source": [
    "def create_gatewaytarget(gateway_id, target_name, target_descr, lambda_arn, api_spec):\n    # ゲートウェイに Lambda ターゲットを追加する\n\n日本語訳:\n\nゲートウェイに Lambda 関数を追加するには、以下の手順に従います。\n\n1. Amazon API Gateway コンソールを開きます。\n2. 左側のナビゲーションペインで、「リソース」を選択します。\n3. リソースツリーで、Lambda 関数を統合するリソースを選択します。\n4. 「アクション」ドロップダウンリストから、「Lambda 関数の作成」を選択します。\n5. 「Lambda 関数の選択」ドロップダウンリストから、既存の Lambda 関数を選択するか、「新しい関数を作成」を選択して新しい関数を作成します。\n6. 「Lambda プロキシ統合の使用」チェックボックスをオンにします。\n7. 「保存」をクリックして変更を保存します。\n\nこれで、API Gateway リソースに Lambda 関数が統合されました。API Gateway から Lambda 関数を呼び出すことができるようになりました。\n    response = agentcore_client.create_gateway_target(\n        gatewayIdentifier=gateway_id,\n        name=target_name,\n        description=target_descr,\n        targetConfiguration={\n            \"mcp\": {\n                \"lambda\": {\n                    \"lambdaArn\": lambda_arn,\n                    \"toolSchema\": {\"inlinePayload\": api_spec},\n                }\n            }\n        },\n        # Use IAM as credential provider\n\n日本語訳:\n# 認証情報プロバイダとして IAM を使用する\n\nAWS SDK は、認証情報を取得するための複数の方法をサポートしています。デフォルトでは、SDK は次の順序で認証情報プロバイダを検索します。\n\n1. 環境変数 (AWS_ACCESS_KEY_ID と AWS_SECRET_ACCESS_KEY)\n2. Java システム プロパティ (aws.accessKeyId と aws.secretKey)\n3. Web Identity Token 認証情報ファイル ( ~/.aws/credentials )\n4. インスタンスプロファイルの認証情報を使用 (EC2 インスタンスの場合)\n\nこの順序は、 `DefaultCredentialProviderChain` クラスで定義されています。認証情報プロバイダの検索順序をカスタマイズすることも可能です。\n\nこの例では、IAM ロールを使用して認証情報を取得する方法を示します。これは、EC2 インスタンスで実行されているアプリケーションに最適な方法です。IAM ロールを使用すると、アクセスキーや秘密キーを含むコードを書く必要がなくなります。\n        credentialProviderConfigurations=[\n            {\"credentialProviderType\": \"GATEWAY_IAM_ROLE\"}\n        ],\n    )\n    return response[\"targetId\"]"
   ]
  },
  {
   "cell_type": "markdown",
   "id": "2084feec",
   "metadata": {},
   "source": [
    "あなたは翻訳の専門家です。以下のテキストを英語から日本語に翻訳してください。\n半角英数字の前後には半角スペースを挿入する。コードやコマンド、変数名、関数名などの技術的な用語は翻訳せず、そのまま残してください。\n\n翻訳するテキスト:\n### 最初の AgentCore Gateway の作成\n最初の Gateway をセットアップする前に、Gateway がどのように MCP ツールへの\nインバウンド要求とGateway からツールやリソースへのアウトバウンドアクセスの両方に対してセキュリティを提供するかを簡単に見ていきましょう。\n\n![How does it work](images/gateway_secure_access.png)\n\nさて、このチュートリアル用の gateway を作成しましょう。名前と説明を付けます。\n\n日本語訳:\n### 最初の AgentCore Gateway の作成\n最初の Gateway をセットアップする前に、Gateway がどのように MCP ツールへの\nインバウンド要求と Gateway からツールやリソースへのアウトバウンドアクセスの両方に対して セキュリティを提供するかを簡単に見ていきましょう。\n\n![How does it work](images/gateway_secure_access.png)\n\nさて、このチュートリアル用の gateway を作成しましょう。名前と説明を付けます。"
   ]
  },
  {
   "cell_type": "code",
   "execution_count": null,
   "id": "175d1ef3",
   "metadata": {},
   "outputs": [],
   "source": [
    "print(f\"Create gateway with name: {GATEWAY_NAME}\")\n",
    "gatewayId = create_gateway(\n",
    "    gateway_name=GATEWAY_NAME, gateway_desc=\"AgentCore Gateway Tutorial\"\n",
    ")\n",
    "print(f\"Gateway created with id: {gatewayId}.\")"
   ]
  },
  {
   "cell_type": "markdown",
   "id": "c878491f",
   "metadata": {},
   "source": [
    "### AgentCore Gateway ターゲットの追加\nこのチュートリアルでは、簡単な数学計算を行う Lambda 関数と、レストラン予約の作成をシミュレートする別の Lambda 関数がすでにインストールされていることを前提としています。これらの関数それぞれに対して Gateway ターゲットを追加します。\n\nターゲットを追加した後、MCP ツールの数を増やすためにさらにターゲットを追加し、AgentCore Gateway 検索の強力な機能を実演します。"
   ]
  },
  {
   "cell_type": "markdown",
   "id": "d4d24edb",
   "metadata": {},
   "source": [
    "ゲートウェイが作成されたので、次は Lambda 関数を使ってレストラン予約を行うターゲットを追加しましょう。"
   ]
  },
  {
   "cell_type": "code",
   "execution_count": null,
   "id": "58d04ee4",
   "metadata": {},
   "outputs": [],
   "source": [
    "restaurant_api_spec = read_apispec(\"./restaurant/restaurant-api.json\")\n",
    "restaurant_lambda_arn = restaurant_lambda_resp[\"lambda_function_arn\"]\n",
    "print(f\"Restaurant Lambda ARN: {restaurant_lambda_arn}\")\n",
    "\n",
    "restaurantTargetId = create_gatewaytarget(\n",
    "    gateway_id=gatewayId,\n",
    "    lambda_arn=restaurant_lambda_arn,\n",
    "    target_name=\"FoodTools\",\n",
    "    target_descr=\"Restaurant Tools\",\n",
    "    api_spec=restaurant_api_spec,\n",
    ")\n",
    "print(f\"RestaurantTarget created with id: {restaurantTargetId} on gateway: {gatewayId}\")"
   ]
  },
  {
   "cell_type": "markdown",
   "id": "4da14900",
   "metadata": {},
   "source": [
    "ここでは 2 つ目のターゲットを追加します。今回は、4 つの基本ツール (add、subtract、multiply、divide) を実装した Lambda と、投資運用 (トレーディング、クレジット調査、量的分析、ポートフォリオ管理) のための 75 の生成されたツール定義のセットを使用します。投資運用のツール定義は実際には Lambda 関数内で実装されていません。大量のツールを示すためにそれらを追加しているだけです。"
   ]
  },
  {
   "cell_type": "code",
   "execution_count": null,
   "id": "b2599c9f",
   "metadata": {},
   "outputs": [],
   "source": [
    "calc_api_spec = read_apispec(\"./calc/calc-api.json\")\n",
    "print(f\"API spec for calc has {len(calc_api_spec)} functions\\n\")\n",
    "calc_lambda_arn = calc_lambda_resp[\"lambda_function_arn\"]\n",
    "print(f\"Calc Lambda ARN: {calc_lambda_arn}\")\n",
    "\n",
    "time.sleep(5)\n",
    "calcTargetId = create_gatewaytarget(\n",
    "    gateway_id=gatewayId,\n",
    "    lambda_arn=calc_lambda_arn,\n",
    "    target_name=\"CalcTools\",\n",
    "    target_descr=\"Calculation Tools\",\n",
    "    api_spec=calc_api_spec,\n",
    ")\n",
    "print(f\"CalcTools Target created with id: {calcTargetId} on gateway: {gatewayId}\")"
   ]
  },
  {
   "cell_type": "markdown",
   "id": "3200dc9f",
   "metadata": {},
   "source": [
    "以下が日本語訳になります。\n\nゲートウェイ検索の威力を示すために、今回は Calculator ターゲットのコピーをいくつか追加して、\n300 以上の MCP ツールを公開することにしました。"
   ]
  },
  {
   "cell_type": "code",
   "execution_count": null,
   "id": "6b3aedf2",
   "metadata": {},
   "outputs": [],
   "source": [
    "def add_more_tools(gatewayId):\n",
    "    time.sleep(10)\n",
    "    calcTargetId = create_gatewaytarget(\n",
    "        gateway_id=gatewayId,\n",
    "        lambda_arn=calc_lambda_arn,\n",
    "        target_name=\"Calc2\",\n",
    "        target_descr=\"Calculation 2 Tools\",\n",
    "        api_spec=calc_api_spec,\n",
    "    )\n",
    "    print(f\"Calc2 Target created with id: {calcTargetId} on gateway: {gatewayId}\")\n",
    "    time.sleep(10)\n",
    "    calcTargetId = create_gatewaytarget(\n",
    "        gateway_id=gatewayId,\n",
    "        lambda_arn=calc_lambda_arn,\n",
    "        target_name=\"Calc3\",\n",
    "        target_descr=\"Calculation 3 Tools\",\n",
    "        api_spec=calc_api_spec,\n",
    "    )\n",
    "    print(f\"Calc3 Target created with id: {calcTargetId} on gateway: {gatewayId}\")\n",
    "    time.sleep(10)\n",
    "    calcTargetId = create_gatewaytarget(\n",
    "        gateway_id=gatewayId,\n",
    "        lambda_arn=calc_lambda_arn,\n",
    "        target_name=\"Calc4\",\n",
    "        target_descr=\"Calculation 4 Tools\",\n",
    "        api_spec=calc_api_spec,\n",
    "    )\n",
    "    print(f\"Calc4 Target created with id: {calcTargetId} on gateway: {gatewayId}\")"
   ]
  },
  {
   "cell_type": "code",
   "execution_count": null,
   "id": "62852ae9",
   "metadata": {},
   "outputs": [],
   "source": [
    "add_more_tools(gatewayId=gatewayId)"
   ]
  },
  {
   "cell_type": "code",
   "execution_count": null,
   "id": "c3717e2b",
   "metadata": {},
   "outputs": [],
   "source": [
    "resp = agentcore_client.list_gateway_targets(gatewayIdentifier=gatewayId)\n",
    "targets = resp[\"items\"]\n",
    "for target in resp[\"items\"]:\n",
    "    print(f\"{target['name']} - {target['description']}\")"
   ]
  },
  {
   "cell_type": "markdown",
   "id": "b701bf49",
   "metadata": {},
   "source": [
    "# ゲートウェイからツールを検索する\n\n日本語訳:\n\nゲートウェイから利用可能なツールを検索するには、次の手順に従います。\n\n1. ゲートウェイの URL にアクセスします。例: `https://gateway.example.com`\n2. 左側のナビゲーションメニューから `Tools` を選択します。\n3. `Search` ボックスに検索語句を入力します。例: `aws`\n4. 検索結果が表示されます。ツール名、説明、バージョン、作成者などの情報が表示されます。\n5. 利用したいツールの `Use` ボタンをクリックすると、そのツールを実行できます。\n\n検索結果は `Name`、`Description`、`Version`、`Author` の各列でソートできます。また、`Tags` フィルターを使って特定のタグに一致するツールのみを表示することもできます。\n\n`Search` ボックスの下には、最近使用したツールの一覧が表示されます。ここからも直接ツールを起動できます。"
   ]
  },
  {
   "cell_type": "markdown",
   "id": "e5599870",
   "metadata": {},
   "source": [
    "### MCP リストツールに慣れる前に検索する\n\n日本語訳:\n\nMCP リストツールを使用する前に、それらがどのように機能するかを理解することが重要です。\n\nこの記事では、次のコマンドについて説明します。\n\n- `mcp list` - MCP リソースのリストを表示します。\n- `mcp list types` - 利用可能な MCP リソースの種類を一覧表示します。\n- `mcp list <type>` - 指定された種類の MCP リソースを一覧表示します。例: `mcp list pods`。\n- `mcp get <type> <name>` - 指定された名前の MCP リソースの詳細を取得します。例: `mcp get pod my-pod`。\n\nこれらのコマンドを使用すると、クラスター内の MCP リソースを簡単に検査できます。次に、より高度な検索とフィルタリングについて説明します。"
   ]
  },
  {
   "cell_type": "markdown",
   "id": "e6dbea12",
   "metadata": {},
   "source": [
    "以下が日本語訳になります。\n\nゲートウェイ ID から MCP エンドポイント URL を取得し、ゲートウェイを安全に使用するための JWT OAuth アクセストークンを取得するためのユーティリティ関数をいくつか定義しましょう。"
   ]
  },
  {
   "cell_type": "code",
   "execution_count": null,
   "id": "d15ac0f2",
   "metadata": {},
   "outputs": [],
   "source": [
    "def get_gateway_endpoint(gateway_id):\n",
    "    response = agentcore_client.get_gateway(gatewayIdentifier=gateway_id)\n",
    "    gateway_url = response[\"gatewayUrl\"]\n",
    "    return gateway_url"
   ]
  },
  {
   "cell_type": "markdown",
   "id": "2cac832e",
   "metadata": {},
   "source": [
    "Gateway が作成され、ターゲットが設定されたので、次はその Gateway の MCP URL を取得しましょう。Gateway ID に基づいて、Gateway コントロールプレーンからエンドポイント URL を取得することができます。"
   ]
  },
  {
   "cell_type": "markdown",
   "id": "96c4708f",
   "metadata": {},
   "source": [
    "#### ゲートウェイに対して MCP Inspector を使用する\n\nMCP サーバーのエンドポイント URL と JWT ベアラートークンを取得できたので、MCP Inspector ツールを使って MCP サーバーを探索したくなるかもしれません。MCP Inspector はオープンソースのツールで、任意の MCP サーバーに接続し、提供されているツールを一覧表示できます。さらに、ツールの呼び出しを簡単に行うことができます。\n\nターミナルウィンドウで `npx @modelcontextprotocol/inspector` と入力すると、MCP Inspector が起動します。次に、ゲートウェイのエンドポイント URL と JWT トークンを貼り付けて接続します。接続できたら、List Tools と Invoke Tool を試してみてください。\n\n以下はサンプルのスクリーンショットです。\n\n![MCP Inspector](images/mcp_inspector.png)"
   ]
  },
  {
   "cell_type": "code",
   "execution_count": null,
   "id": "97f5f769",
   "metadata": {},
   "outputs": [],
   "source": [
    "gatewayEndpoint = get_gateway_endpoint(gateway_id=gatewayId)\n",
    "print(f\"Gateway Endpoint - MCP URL: {gatewayEndpoint}\")"
   ]
  },
  {
   "cell_type": "markdown",
   "id": "a99920e9",
   "metadata": {},
   "source": [
    "MCP サーバーのセキュリティは OAuth に基づいています。Gateway と対話するには、IdP から JWT OAuth アクセストークンを取得する必要があります。"
   ]
  },
  {
   "cell_type": "code",
   "execution_count": null,
   "id": "bb2525ec",
   "metadata": {},
   "outputs": [],
   "source": [
    "jwtToken = utils.get_bearer_token(\n",
    "    client_id=cognito_response[\"client_id\"],\n",
    "    username=\"testuser\",\n",
    "    password=\"MyPassword123!\",\n",
    ")\n",
    "print(f\"Bearer token: {jwtToken}\")"
   ]
  },
  {
   "cell_type": "code",
   "execution_count": null,
   "id": "68bcd0e0",
   "metadata": {},
   "outputs": [],
   "source": [
    "# !npx @modelcontextprotocol/inspector\n\n日本語訳:\n\n# !npx @modelcontextprotocol/inspector は翻訳せずにそのままにします。\n\nこれは、 npm パッケージ実行ツール npx を使って、 @modelcontextprotocol/inspector という npm パッケージをインストールおよび実行するコマンドです。 npx コマンドは、一時的にパッケージをインストールし、実行した後に削除します。 @modelcontextprotocol/inspector は、モデルのコンテキストを検査するためのツールと思われます。"
   ]
  },
  {
   "cell_type": "markdown",
   "id": "de5f7d58",
   "metadata": {},
   "source": [
    "#### jsonrpcを使ってMCPツールを呼び出したり一覧表示するヘルパー関数の作成\njsonrpcを使って MCP Server によって公開されている MCP ツール (もちろん Gateway を含む) を呼び出すための `invoke_gateway_tool` というヘルパー関数を定義しましょう。エンドポイント URL と JWT トークンが与えられれば、Gateway にゲートウェイターゲットを追加したときに AgentCore Gateway があなたに提供した MCP ツールのどれでも呼び出すことができるユーティリティです。"
   ]
  },
  {
   "cell_type": "code",
   "execution_count": null,
   "id": "430730db",
   "metadata": {},
   "outputs": [],
   "source": [
    "def invoke_gateway_tool(gateway_endpoint, jwt_token, tool_params):\n    # print(f\"Invoking tool {tool_params['name']}\")\n\n日本語訳:\n\n# print(f\"ツール {tool_params['name']} を呼び出しています\")\n\n    requestBody = {\n        \"jsonrpc\": \"2.0\",\n        \"id\": 2,\n        \"method\": \"tools/call\",\n        \"params\": tool_params,\n    }\n    response = requests.post(\n        gateway_endpoint,\n        json=requestBody,\n        headers={\n            \"Authorization\": f\"Bearer {jwt_token}\",\n            \"Content-Type\": \"application/json\",\n        },\n    )\n\n    return response.json()"
   ]
  },
  {
   "cell_type": "markdown",
   "id": "f38bb52f",
   "metadata": {},
   "source": [
    "以下が日本語訳になります。\n\nMCP の `tools/list` メソッドを使用してゲートウェイから利用可能な MCP ツールを一覧表示するための別のユーティリティ関数があります。ゲートウェイ ID と JWT トークンが与えられると、その関数はそのゲートウェイからツール全体のセットを取得し、エージェント対応の形式でリストを返します。返されたリストには、エージェントに渡すのに適した Strands Agents MCPAgentTool オブジェクトが含まれています。\n\n`tools/list` 呼び出しはページ分割されているため、関数はページごとにツールを取得し、`nextCursor` フィールドが設定されなくなるまでループする必要があります。ユーティリティ関数は、HTTPS と jsonrpc プロトコルを使用してエンドポイントを直接呼び出します。これは、Strands Agents が提供する `MCPClient` クラスと比較して、ツールを一覧表示する低レベルの方法です。後でその経験を見ていきます。"
   ]
  },
  {
   "cell_type": "code",
   "execution_count": null,
   "id": "7d21a000",
   "metadata": {},
   "outputs": [],
   "source": [
    "def get_all_agent_tools_from_mcp_endpoint(gateway_endpoint, jwt_token, client):\n",
    "    more_tools = True\n",
    "    tools_count = 0\n",
    "    tools_list = []\n",
    "\n",
    "    requestBody = {\"jsonrpc\": \"2.0\", \"id\": 2, \"method\": \"tools/list\", \"params\": {}}\n",
    "    next_cursor = \"\"\n",
    "\n",
    "    while more_tools:\n",
    "        if tools_count == 0:\n",
    "            requestBody[\"params\"] = {}\n",
    "        else:\n",
    "            print(f\"\\nGetting next page of tools since a next cursor was returned\\n\")\n",
    "            requestBody[\"params\"] = {\"cursor\": next_cursor}\n",
    "\n",
    "        headers = {\n",
    "            \"Authorization\": f\"Bearer {jwt_token}\",\n",
    "            \"Content-Type\": \"application/json\",\n",
    "        }\n",
    "\n",
    "        print(f\"\\n\\nListing tools for gateway {gateway_endpoint}\")\n",
    "\n",
    "        response = requests.post(gateway_endpoint, json=requestBody, headers=headers)\n",
    "\n",
    "        tools_json = response.json()\n",
    "        tools_count += len(tools_json[\"result\"][\"tools\"])\n",
    "\n",
    "        for tool in tools_json[\"result\"][\"tools\"]:\n",
    "            mcp_tool = MCPTool(\n",
    "                name=tool[\"name\"],\n",
    "                description=tool[\"description\"],\n",
    "                inputSchema=tool[\"inputSchema\"],\n",
    "            )\n",
    "            mcp_agent_tool = MCPAgentTool(mcp_tool, client)\n",
    "            short_descr = tool[\"description\"][0:40] + \"...\"\n",
    "            print(f\"adding tool '{mcp_agent_tool.tool_name}' - {short_descr}\")\n",
    "            tools_list.append(mcp_agent_tool)\n",
    "\n",
    "        if \"nextCursor\" in tools_json[\"result\"]:\n",
    "            next_cursor = tools_json[\"result\"][\"nextCursor\"]\n",
    "            more_tools = True\n",
    "        else:\n",
    "            more_tools = False\n",
    "\n",
    "    print(f\"\\nTotal tools found: {tools_count}\\n\")\n",
    "    return tools_list"
   ]
  },
  {
   "cell_type": "markdown",
   "id": "29ea36db",
   "metadata": {},
   "source": [
    "以下のように翻訳します。\n\nこの helper 関数を使って結果を見てみましょう。"
   ]
  },
  {
   "cell_type": "code",
   "execution_count": null,
   "id": "b3eff51d",
   "metadata": {},
   "outputs": [],
   "source": [
    "client = MCPClient(\n",
    "    lambda: streamablehttp_client(\n",
    "        f\"{gatewayEndpoint}\", headers={\"Authorization\": f\"Bearer {jwtToken}\"}\n",
    "    )\n",
    ")\n",
    "with client:\n",
    "    all_tools = get_all_agent_tools_from_mcp_endpoint(\n",
    "        gateway_endpoint=gatewayEndpoint, jwt_token=jwtToken, client=client\n",
    "    )\n",
    "    print(f\"\\nFound {len(all_tools)} tools using jsonrpc to list MCP tools\\n\")"
   ]
  },
  {
   "cell_type": "markdown",
   "id": "271d04ef",
   "metadata": {},
   "source": [
    "#### Strands Agents の list_tools_sync() でページネーションを使う\nPython ベースの MCP クライアントを書いたことがある場合、クライアントが関連付けられている MCP サーバーから利用可能なツールのセットを返す `list_tools_sync()` メソッドをご存知でしょう。しかし、MCP の list tools にもページネーションが備わっていることをご存知でしたか? デフォルトでは、最初の少数のツールしか返されません。単純な MCP サーバーの場合は気づかなかったかもしれませんが、実際の多くの MCP サーバーでは、ツールのページを順に取得し、ページがなくなるまでループする必要があります。以下のユーティリティ `get_all_mcp_tools_from_mcp_client` がまさにそれを行います。指定された Strands Agent MCP クライアントからツール全体のリストを返します。"
   ]
  },
  {
   "cell_type": "code",
   "execution_count": null,
   "id": "ef10b8c7",
   "metadata": {},
   "outputs": [],
   "source": [
    "def get_all_mcp_tools_from_mcp_client(client):\n",
    "    more_tools = True\n",
    "    tools = []\n",
    "    pagination_token = None\n",
    "    while more_tools:\n",
    "        tmp_tools = client.list_tools_sync(pagination_token=pagination_token)\n",
    "        tools.extend(tmp_tools)\n",
    "        if tmp_tools.pagination_token is None:\n",
    "            more_tools = False\n",
    "        else:\n",
    "            more_tools = True\n",
    "            pagination_token = tmp_tools.pagination_token\n",
    "    return tools"
   ]
  },
  {
   "cell_type": "markdown",
   "id": "e519196b",
   "metadata": {},
   "source": [
    "Gateway を使って試してみましょう。Python クライアントが何のツールを見つけるか確認しましょう。\nまず、エンドポイント URL と JWT ベアラートークンに基づいて MCPClient オブジェクトを作成します。次に、\nMCP サーバーから返されるツールの多くのページにわたる完全なツールセットを取得します。\n前に追加したターゲットを考えると、300 以上のツールが返されるはずです。"
   ]
  },
  {
   "cell_type": "code",
   "execution_count": null,
   "id": "817d1e48",
   "metadata": {},
   "outputs": [],
   "source": [
    "client = MCPClient(\n",
    "    lambda: streamablehttp_client(\n",
    "        f\"{gatewayEndpoint}\", headers={\"Authorization\": f\"Bearer {jwtToken}\"}\n",
    "    )\n",
    ")\n",
    "with client:\n",
    "    all_tools = get_all_mcp_tools_from_mcp_client(client)\n",
    "    print(f\"\\nFound {len(all_tools)} tools from list_tools_sync() on mcp client\\n\")"
   ]
  },
  {
   "cell_type": "markdown",
   "id": "ba410062",
   "metadata": {},
   "source": [
    "We have now seen 3 different ways to get the full set of tools from your Gateway using it\nas an MCP Server: \n\n1. directly using jsonrpc\n2. using the `list_tools_sync()` method on the Strands Agent MCPClient\n3. using the MCP Inspector tool (which uses jsonrpc behind the scenes). \n\nFor typical developers building agents, you'll be using option 2."
   ]
  },
  {
   "cell_type": "markdown",
   "id": "af97ef22",
   "metadata": {},
   "source": [
    "### Gateway の組み込みセマンティック検索ツールの使用\nGateway に組み込まれた検索ツールを使って、最初のセマンティック検索を試してみましょう。\nこの検索ツールは追加の MCP ツールとしてあなたの MCP ツールリストに追加されます。"
   ]
  },
  {
   "cell_type": "markdown",
   "id": "9de8a698",
   "metadata": {},
   "source": [
    "最初に、MCPを使用して検索ツールを実行するための簡単なユーティリティ関数を定義しましょう。\n\nツールの一覧表示と同様に、ゲートウェイエンドポイントとJWT トークンが必要です。それ以外に必要なのは、検索クエリを渡すことだけです。ゲートウェイの検索ツールが残りの作業を行い、自動的に管理されるサーバーレスベクトルストアに対してそのクエリをマッチングします。"
   ]
  },
  {
   "cell_type": "code",
   "execution_count": null,
   "id": "04d868a8",
   "metadata": {},
   "outputs": [],
   "source": [
    "def tool_search(gateway_endpoint, jwt_token, query):\n",
    "    toolParams = {\n",
    "        \"name\": \"x_amz_bedrock_agentcore_search\",\n",
    "        \"arguments\": {\"query\": query},\n",
    "    }\n",
    "    toolResp = invoke_gateway_tool(\n",
    "        gateway_endpoint=gateway_endpoint, jwt_token=jwt_token, tool_params=toolParams\n",
    "    )\n",
    "    tools = toolResp[\"result\"][\"structuredContent\"][\"tools\"]\n",
    "    return tools"
   ]
  },
  {
   "cell_type": "code",
   "execution_count": null,
   "id": "939755a5",
   "metadata": {},
   "outputs": [],
   "source": [
    "start_time = time.time()\n",
    "tools_found = tool_search(\n",
    "    gateway_endpoint=gatewayEndpoint,\n",
    "    jwt_token=jwtToken,\n",
    "    query=\"find me 3 credit research tools\",\n",
    ")\n",
    "end_time = time.time()\n",
    "print(\n",
    "    f\"tool search via direct Gateway invocation took {(end_time - start_time):.2f} seconds\"\n",
    ")\n",
    "print(f\"Top tool: {tools_found[0]['name']}\")"
   ]
  },
  {
   "cell_type": "markdown",
   "id": "602cbd2d",
   "metadata": {},
   "source": [
    "検索結果が大半の場合1秒以内で返ってくるのに注目してください。結果は、クエリをツールのメタデータと照合して、検索の関連性の高い順に降順で返されます。最も関連性の高いツールがリストの先頭に表示されます。検索の初期実装では、最大10件の結果が返されます。これらのツールをすべてエージェントで使用するか、最も関連性の高い一部のマッチだけを選択することができます。"
   ]
  },
  {
   "cell_type": "markdown",
   "id": "7cc03391",
   "metadata": {},
   "source": [
    "# MCP サーバーに多くのツールがある場合の Strands エージェントの使用方法\n\n日本語訳:\n\nMCP サーバーには、 `git` 、 `docker` 、 `kubectl` などの多くのツールが含まれています。Strands エージェントは、これらのツールを使用して、アプリケーションのビルド、デプロイ、テストなどの多くのタスクを自動化できます。\n\nStrands エージェントを使用するには、まず MCP サーバーにログインする必要があります。 `strand auth login` コマンドを使用して認証を行います。次に、 `strand run` コマンドを使用してジョブを実行できます。たとえば、 `strand run build` は、アプリケーションをビルドします。\n\nStrands エージェントは、ジョブの実行時に必要なツールを自動的にダウンロードし、インストールします。つまり、ローカル環境にツールをインストールする必要はありません。\n\nStrands エージェントは、ジョブの進行状況を表示し、エラーが発生した場合はその詳細を示します。ジョブが完了すると、その結果が表示されます。\n\nStrands エージェントの使用により、複雑なワークフローを簡単に自動化でき、一貫した方法でアプリケーションを構築、テスト、デプロイできます。"
   ]
  },
  {
   "cell_type": "markdown",
   "id": "433d0f3f",
   "metadata": {},
   "source": [
    "最初に、Strands Agent で使用するモデルを選択します。\nこのノートブックでは、Amazon Bedrock モデルを使用していますが、Strands と AgentCore は任意の LLM で動作できます。"
   ]
  },
  {
   "cell_type": "code",
   "execution_count": null,
   "id": "b18c10bb",
   "metadata": {},
   "outputs": [],
   "source": [
    "bedrockmodel = BedrockModel(\n",
    "    model_id=\"us.anthropic.claude-3-7-sonnet-20250219-v1:0\",\n",
    "    temperature=0.7,\n",
    "    streaming=True,\n",
    "    boto_session=session,\n",
    ")"
   ]
  },
  {
   "cell_type": "markdown",
   "id": "ee8a436a",
   "metadata": {},
   "source": [
    "#### AgentCore Gateway を使用した単純な Strands エージェントによるエージェントツール\nAgentCore Gateway が提供する MCP サーバーを活用するために、Strands エージェントを使用するのがどれほど簡単かを示します。\n簡単な例では、エージェントにいくつかの数値を加算させます。"
   ]
  },
  {
   "cell_type": "code",
   "execution_count": null,
   "id": "2086a0d6",
   "metadata": {},
   "outputs": [],
   "source": [
    "jwtToken = utils.get_bearer_token(\n",
    "    client_id=cognito_response[\"client_id\"],\n",
    "    username=\"testuser\",\n",
    "    password=\"MyPassword123!\",\n",
    ")\n",
    "client = MCPClient(\n",
    "    lambda: streamablehttp_client(\n",
    "        f\"{gatewayEndpoint}\", headers={\"Authorization\": f\"Bearer {jwtToken}\"}\n",
    "    )\n",
    ")\n",
    "with client:\n",
    "    all_tools = get_all_mcp_tools_from_mcp_client(client)\n",
    "    print(f\"\\nFound {len(all_tools)} tools from list_tools_sync() on mcp client\\n\")\n",
    "\n",
    "    simple_agent = Agent(\n",
    "        model=bedrockmodel, tools=all_tools, callback_handler=null_callback_handler\n",
    "    )\n",
    "    result = simple_agent(\"add 100 plus 50 pass \")\n",
    "    print(f\"{result.message['content'][0]['text']}\")"
   ]
  },
  {
   "cell_type": "markdown",
   "id": "bd8d6b33",
   "metadata": {},
   "source": [
    "Strands Agents フレームワークでは、エージェントのイベントループをバイパスし、直接 MCP ツールを呼び出すこともできます。\nGateway ツールはネイティブの MCP ツールとして公開されているため、Gateway ツールに対しても同様のことができます。ここでは、`agent.tool.<tool_name>(args)` の構文を使って Gateway の MCP ツールを呼び出しています。\n\n```python\ndirect_result = simple_agent.tool.Calc2___add_numbers(firstNumber=10, secondNumber=20)\nresp_json = json.loads(direct_result['content'][0]['text'])\n```"
   ]
  },
  {
   "cell_type": "code",
   "execution_count": null,
   "id": "ddda7a89",
   "metadata": {},
   "outputs": [],
   "source": [
    "jwtToken = utils.get_bearer_token(\n",
    "    client_id=cognito_response[\"client_id\"],\n",
    "    username=\"testuser\",\n",
    "    password=\"MyPassword123!\",\n",
    ")\n",
    "client = MCPClient(\n",
    "    lambda: streamablehttp_client(\n",
    "        f\"{gatewayEndpoint}\", headers={\"Authorization\": f\"Bearer {jwtToken}\"}\n",
    "    )\n",
    ")\n",
    "with client:\n",
    "    all_tools = get_all_mcp_tools_from_mcp_client(client)\n",
    "    print(f\"\\nFound {len(all_tools)} tools from list_tools_sync() on mcp client\\n\")\n",
    "\n",
    "    simple_agent = Agent(\n",
    "        model=bedrockmodel, tools=all_tools, callback_handler=null_callback_handler\n",
    "    )\n",
    "    direct_result = simple_agent.tool.Calc2___add_numbers(\n",
    "        firstNumber=10, secondNumber=20\n",
    "    )\n",
    "    print(f\"direct result = {direct_result}\")"
   ]
  },
  {
   "cell_type": "code",
   "execution_count": null,
   "id": "92d3f963",
   "metadata": {},
   "outputs": [],
   "source": [
    "def get_search_tool(client):\n",
    "    mcp_tool = MCPTool(\n",
    "        name=\"x_amz_bedrock_agentcore_search\",\n",
    "        description=\"A special tool that returns a trimmed down list of tools given a context. Use this tool only when there are many tools available and you want to get a subset that matches the provided context.\",\n",
    "        inputSchema={\n",
    "            \"type\": \"object\",\n",
    "            \"properties\": {\n",
    "                \"query\": {\n",
    "                    \"type\": \"string\",\n",
    "                    \"description\": \"search query to use for finding tools\",\n",
    "                }\n",
    "            },\n",
    "            \"required\": [\"query\"],\n",
    "        },\n",
    "    )\n",
    "    return MCPAgentTool(mcp_tool, client)"
   ]
  },
  {
   "cell_type": "code",
   "execution_count": null,
   "id": "c04e47cc",
   "metadata": {},
   "outputs": [],
   "source": [
    "def search_using_strands(client, query):\n    simple_agent = Agent(\n        model=bedrockmodel,\n        tools=[get_search_tool(client)],\n        callback_handler=null_callback_handler,\n    )\n\n    direct_result = simple_agent.tool.x_amz_bedrock_agentcore_search(query=query)\n\n    resp_json = json.loads(direct_result[\"content\"][0][\"text\"])\n    search_results = resp_json[\"tools\"]\n    # print(json.dumps(search_results, indent=4))\n\n日本語訳:\n\n# print(json.dumps(search_results, indent= 4 ))\n    return search_results"
   ]
  },
  {
   "cell_type": "code",
   "execution_count": null,
   "id": "1f07719a",
   "metadata": {},
   "outputs": [],
   "source": [
    "def find_strands_tools(client, query, top_n):\n",
    "    strands_mcp_tools = []\n",
    "    results = search_using_strands(client, query)\n",
    "    for tool in results[:top_n]:\n",
    "        mcp_tool = MCPTool(\n",
    "            name=tool[\"name\"],\n",
    "            description=tool[\"description\"],\n",
    "            inputSchema=tool[\"inputSchema\"],\n",
    "        )\n",
    "        strands_mcp_tools.append(MCPAgentTool(mcp_tool, client))\n",
    "    return strands_mcp_tools"
   ]
  },
  {
   "cell_type": "code",
   "execution_count": null,
   "id": "dc40ff86",
   "metadata": {},
   "outputs": [],
   "source": [
    "jwtToken = utils.get_bearer_token(\n",
    "    client_id=cognito_response[\"client_id\"],\n",
    "    username=\"testuser\",\n",
    "    password=\"MyPassword123!\",\n",
    ")\n",
    "client = MCPClient(\n",
    "    lambda: streamablehttp_client(\n",
    "        f\"{gatewayEndpoint}\", headers={\"Authorization\": f\"Bearer {jwtToken}\"}\n",
    "    )\n",
    ")\n",
    "with client:\n",
    "    simple_agent = Agent(\n",
    "        model=bedrockmodel,\n",
    "        tools=[get_search_tool(client)],\n",
    "        callback_handler=null_callback_handler,\n",
    "    )\n",
    "\n",
    "    direct_result = simple_agent.tool.x_amz_bedrock_agentcore_search(\n",
    "        query=\"find equity trading tools\"\n",
    "    )\n",
    "\n",
    "    resp_json = json.loads(direct_result[\"content\"][0][\"text\"])\n",
    "    search_results = resp_json[\"tools\"]\n",
    "    print(json.dumps(search_results, indent=4))"
   ]
  },
  {
   "cell_type": "code",
   "execution_count": null,
   "id": "09bd76c4",
   "metadata": {},
   "outputs": [],
   "source": [
    "jwtToken = utils.get_bearer_token(\n",
    "    client_id=cognito_response[\"client_id\"],\n",
    "    username=\"testuser\",\n",
    "    password=\"MyPassword123!\",\n",
    ")\n",
    "client = MCPClient(\n",
    "    lambda: streamablehttp_client(\n",
    "        f\"{gatewayEndpoint}\", headers={\"Authorization\": f\"Bearer {jwtToken}\"}\n",
    "    )\n",
    ")\n",
    "with client:\n",
    "    results = search_using_strands(client, \"find trading tools\")\n",
    "    print(json.dumps(search_results[0], indent=4))\n",
    "\n",
    "    results = search_using_strands(client, \"find credit research tools\")\n",
    "    print(json.dumps(search_results[0], indent=4))"
   ]
  },
  {
   "cell_type": "markdown",
   "id": "5c0dcc80",
   "metadata": {},
   "source": [
    "# Strands Agentにツール検索結果を追加する\n\n以下は、英語から日本語への翻訳です。半角英数字の前後に半角スペースを挿入し、コード、コマンド、変数名、関数名などの技術的な用語はそのまま残しています。\n\nStrands Agent は、ユーザーが指定したツールの検索結果を表示できます。これは、ユーザーが必要なツールを見つけるのを支援するのに役立ちます。ツール検索結果を追加するには、以下の手順に従ってください。\n\n1. ツール検索の結果を取得するには、 `tool_search_quality_reflection()` 関数を使用します。この関数は、ツール検索の質を 0 から 5 の範囲で評価し、その値を返します。\n\n2. 次に、 `tool_search_quality_reflection()` の結果に基づいて、 `search_quality_reflection` を設定します。この値は、ツール検索の質を表す文字列です。\n\n3. 最後に、 `search_quality_score` を設定します。これは、 `tool_search_quality_reflection()` から返された数値です。\n\n以下に、この手順を実装したコードの例を示します。\n\n```python\nsearch_quality_reflection = \"\"\nsearch_quality_score = tool_search_quality_reflection()\n\nif search_quality_score == 5:\n    search_quality_reflection = \"I was able to find highly relevant tools for this task.\"\nelif search_quality_score == 4:\n    search_quality_reflection = \"I found some relevant tools, but they may not be perfect for this task.\"\nelif search_quality_score == 3:\n    search_quality_reflection = \"I found a few potentially useful tools, but nothing outstanding.\"\nelif search_quality_score == 2:\n    search_quality_reflection = \"The tools I found are not very relevant to this task.\"\nelif search_quality_score == 1:\n    search_quality_reflection = \"I could not find any relevant tools for this task.\"\nelse:\n    search_quality_reflection = \"I did not find any tools related to this task.\"\n\nagent.memory.update({\"search_quality_reflection\": search_quality_reflection,\n                     \"search_quality_score\": search_quality_score})\n```\n\nこの例では、 `tool_search_quality_reflection()` の結果に基づいて `search_quality_reflection` を設定し、その値と `search_quality_score` を Strands Agent のメモリに保存しています。これにより、ユーザーはツール検索の質を確認でき、必要に応じて追加の支援を求めることができます。"
   ]
  },
  {
   "cell_type": "markdown",
   "id": "374bc324",
   "metadata": {},
   "source": [
    "ここでは、検索から返されたツールを Strands Agent に追加する方法を見ていきましょう。コーディングを簡単にするために、ツール検索結果を Strands MCPAgentTool オブジェクトにマッピングするユーティリティ関数を提供しましょう。検索結果を渡し、その結果のうち何個をあなたのエージェントに渡したいかを示すだけです。"
   ]
  },
  {
   "cell_type": "code",
   "execution_count": null,
   "id": "df1e3efe",
   "metadata": {},
   "outputs": [],
   "source": [
    "def tools_to_strands_mcp_tools(tools, top_n):\n",
    "    strands_mcp_tools = []\n",
    "    for tool in tools[:top_n]:\n",
    "        mcp_tool = MCPTool(\n",
    "            name=tool[\"name\"],\n",
    "            description=tool[\"description\"],\n",
    "            inputSchema=tool[\"inputSchema\"],\n",
    "        )\n",
    "        strands_mcp_tools.append(MCPAgentTool(mcp_tool, client))\n",
    "    return strands_mcp_tools"
   ]
  },
  {
   "cell_type": "code",
   "execution_count": null,
   "id": "57d35be1",
   "metadata": {},
   "outputs": [],
   "source": [
    "jwtToken = utils.get_bearer_token(\n",
    "    client_id=cognito_response[\"client_id\"],\n",
    "    username=\"testuser\",\n",
    "    password=\"MyPassword123!\",\n",
    ")\n",
    "client = MCPClient(\n",
    "    lambda: streamablehttp_client(\n",
    "        f\"{gatewayEndpoint}\", headers={\"Authorization\": f\"Bearer {jwtToken}\"}\n",
    "    )\n",
    ")\n",
    "with client:\n",
    "    agent = Agent(\n",
    "        model=bedrockmodel,\n",
    "        tools=find_strands_tools(\n",
    "            client,\n",
    "            \"tools for doing addition, subtraction, multiplication, division\",\n",
    "            10,\n",
    "        ),\n",
    "    )\n",
    "    result = agent(\"(10*2)/(5-3)\")\n",
    "    print(f\"{result.message['content'][0]['text']}\")"
   ]
  },
  {
   "cell_type": "code",
   "execution_count": null,
   "id": "6de85475",
   "metadata": {},
   "outputs": [],
   "source": [
    "%%time\n",
    "\n",
    "jwtToken = utils.get_bearer_token(\n",
    "    client_id=cognito_response[\"client_id\"],\n",
    "    username=\"testuser\",\n",
    "    password=\"MyPassword123!\",\n",
    ")\n",
    "client = MCPClient(\n",
    "    lambda: streamablehttp_client(\n",
    "        f\"{gatewayEndpoint}\", headers={\"Authorization\": f\"Bearer {jwtToken}\"}\n",
    "    )\n",
    ")\n",
    "with client:\n",
    "    print(\"Searching for an ADDING tool from endpoint with full set of tools...\")\n",
    "    tools_found = tool_search(\n",
    "        gateway_endpoint=gatewayEndpoint,\n",
    "        jwt_token=jwtToken,\n",
    "        query=\"tools for multiplying two numbers\",\n",
    "    )\n",
    "    print(f\"Top tool found: {tools_found[0]['name']}\\n\")\n",
    "\n",
    "    agent = Agent(model=bedrockmodel, tools=tools_to_strands_mcp_tools(tools_found, 1))\n",
    "    result = agent(\"10 * 70\")\n",
    "    print(f\"{result.message['content'][0]['text']}\")"
   ]
  },
  {
   "cell_type": "markdown",
   "id": "6a41cfa0",
   "metadata": {},
   "source": [
    "レイテンシの改善に注目してください。 Gateway search のツールのサブセットを使用したこの例は、数百のツールに依存する場合の agent 呼び出しよりも大幅に高速です。"
   ]
  },
  {
   "cell_type": "markdown",
   "id": "78c1e64e",
   "metadata": {},
   "source": [
    "# Showing 3x latency improvement by using tool search\n\n日本語訳:\n\n# tool search を使用することで 3 倍の待ち時間改善を実現\n\ntool search は、大規模言語モデルが外部ツールやウェブサービスにアクセスして、より良い応答を生成できるようにする機能です。この機能を使うと、モデルは必要な情報を取得したり、タスクを実行したりできるようになります。\n\n例えば、tool search を使えば、モデルは Wikipedia から関連情報を取得したり、計算を実行したり、翻訳を行ったりできます。つまり、モデルの知識と能力が大幅に拡張されるのです。\n\nこの事例では、tool search を使用することで、応答の待ち時間が 3 倍改善されました。つまり、モデルが適切なツールを選択し、効率的に利用することで、タスクをより迅速に処理できるようになったということです。\n\ntool search は、大規模言語モデルの有用性を大きく高める重要な機能であり、今後ますます発展が期待されています。"
   ]
  },
  {
   "cell_type": "markdown",
   "id": "1bc164be",
   "metadata": {},
   "source": [
    "以下が日本語訳になります。\n\nゲートウェイ MCP ツールを Strands エージェントから使用する方法と、ツールを検索してエージェントに追加する方法がわかったので、検索の力を示しましょう。大幅な待ち時間の短縮と入力トークン使用量の削減が可能であることを強調します。\n\n待ち時間とトークン使用量の削減を実証するために、2 つのアプローチを並べて比較します。\n\n1. **検索なし**。MCP サーバーが公開する MCP ツールの全セット (私たちの場合は 300 以上) をエージェントに追加し、エージェントがツールの選択と呼び出しを適宜行います。\n2. **検索を使用**。2 番目のアプローチでは、対象のトピックに基づいて検索を行い、最も関連性の高いツールのみをエージェントに送信します。この点を証明するために、数学 (数値の加算) と食べ物 (レストランの予約) の 2 つの異なるトピックを使用し、それぞれ異なるツールセットが必要になります。\n\n待ち時間分布を正規化し、意味のある比較を行うために、各アプローチを複数回繰り返します。また、利得を過大評価しないように、検索アプローチでは、エージェントの呼び出し待ち時間だけでなく、ツール検索の待ち時間も含めます。各反復で、エージェントに 2 つのタスクを与えます。\n\n1. 数学タスク - 2 つの数値を加算する\n2. 食べ物タスク - レストランの予約をする\n\n以下の結果は、3 倍の待ち時間短縮と、さらに大きな入力トークン使用量の削減を示しており、利点を示しています。入力トークン使用量の削減はコスト削減につながりますが、入力トークンのコストが比較的低いため (多くのモデルプロバイダーでは入力トークンのコストが非常に低い)、その影響は大きくありません。それでも、大規模なエージェントの展開では、入力トークン使用量のコストも積み重なるため、動的検索によってエージェントの実行コストを削減できます。"
   ]
  },
  {
   "cell_type": "markdown",
   "id": "e24ad450",
   "metadata": {},
   "source": [
    "以下が日本語訳になります。\n\n#### MCP ツール全体を使用してエージェントの待ち時間とトークン使用量を測定する\n\n日本語訳:\n\nMCP ツール全体を使用して、エージェントの待ち時間 (latency) とトークン使用量を測定します。コード、コマンド、変数名、関数名などの技術的な用語はそのまま残しました。"
   ]
  },
  {
   "cell_type": "code",
   "execution_count": null,
   "id": "1e67f2ed",
   "metadata": {},
   "outputs": [],
   "source": [
    "iterations = 2\n",
    "full_tokens = light_tokens = 0\n",
    "full_elapsed_time = light_elapsed_time = 0\n",
    "\n",
    "jwtToken = utils.get_bearer_token(\n",
    "    client_id=cognito_response[\"client_id\"],\n",
    "    username=\"testuser\",\n",
    "    password=\"MyPassword123!\",\n",
    ")\n",
    "client = MCPClient(\n",
    "    lambda: streamablehttp_client(\n",
    "        f\"{gatewayEndpoint}\", headers={\"Authorization\": f\"Bearer {jwtToken}\"}\n",
    "    )\n",
    ")"
   ]
  },
  {
   "cell_type": "code",
   "execution_count": null,
   "id": "0bdf1296",
   "metadata": {},
   "outputs": [],
   "source": [
    "with client:\n",
    "    all_tools = get_all_mcp_tools_from_mcp_client(client)\n",
    "    print(f\"\\nFound {len(all_tools)} tools from list_tools_sync() on mcp client\\n\")\n",
    "    heavy_agent = Agent(\n",
    "        model=bedrockmodel, tools=all_tools, callback_handler=null_callback_handler\n",
    "    )\n",
    "\n",
    "    math_input = \"add 100 plus <iteration>\"\n",
    "    food_input = (\n",
    "        \"book me a table for 2 at Burger King under name Jo Smith at 7pm August <day>\"\n",
    "    )\n",
    "\n",
    "    print(\"using agent with ALL tools...\")\n",
    "    start_time = time.time()\n",
    "\n",
    "    for i in range(iterations):\n",
    "        result = heavy_agent(math_input.replace(\"<iteration>\", str(i + 1)))\n",
    "        print(f\"{i+1}) {result.message['content'][0]['text']}\")\n",
    "\n",
    "        result = heavy_agent(food_input.replace(\"<day>\", str(i + 1)))\n",
    "        print(f\"{i+1}) {result.message['content'][0]['text']}\")\n",
    "\n",
    "    end_time = time.time()\n",
    "    full_tokens = result.metrics.accumulated_usage[\"totalTokens\"]\n",
    "    full_elapsed_time = end_time - start_time\n",
    "    print(f\"\\nTotal time: {full_elapsed_time:.1f} s, tokens: {full_tokens:,d}\\n\")"
   ]
  },
  {
   "cell_type": "markdown",
   "id": "be6b20a3",
   "metadata": {},
   "source": [
    "以下が日本語訳になります。\n\n#### Gateway Search を使ってエージェントの待ち時間とトークン使用量を測定する\n今回は動的なアプローチを使用し、検索を呼び出して関連するツールを見つけ、次にそれらの関連するツールのみでエージェントを呼び出します。各会話ターンでエージェントをリセットしているため、前のターンの会話履歴からメッセージリストを初期化していることに注意してください。"
   ]
  },
  {
   "cell_type": "code",
   "execution_count": null,
   "id": "80296fb8",
   "metadata": {},
   "outputs": [],
   "source": [
    "with client:\n",
    "    print(\"using agent with ONLY tools from focused search...\")\n",
    "    start_time = time.time()\n",
    "    messages = []\n",
    "\n",
    "    light_agent = Agent()\n",
    "\n",
    "    for i in range(iterations):\n",
    "        print(\"Searching for an ADDING tool from endpoint with full set of tools...\")\n",
    "        tools_found = tool_search(\n",
    "            gateway_endpoint=gatewayEndpoint,\n",
    "            jwt_token=jwtToken,\n",
    "            query=\"tools for simply adding two numbers\",\n",
    "        )\n",
    "        print(f\"Top tool found: {tools_found[0]['name']}\\n\")\n",
    "        light_agent = Agent(\n",
    "            model=bedrockmodel,\n",
    "            tools=tools_to_strands_mcp_tools(tools_found, 1),\n",
    "            messages=messages,\n",
    "            callback_handler=null_callback_handler,\n",
    "        )\n",
    "        light_result = light_agent(math_input.replace(\"<iteration>\", str(i + 1)))\n",
    "        print(f\"{i+1}) {light_result.message['content'][0]['text']}\")\n",
    "        messages = light_agent.messages\n",
    "\n",
    "        print(\n",
    "            \"Searching for a RESTAURANT BOOKING tool from endpoint with full set of tools...\"\n",
    "        )\n",
    "        tools_found = tool_search(\n",
    "            gateway_endpoint=gatewayEndpoint,\n",
    "            jwt_token=jwtToken,\n",
    "            query=\"tools for booking a restaurant reservation\",\n",
    "        )\n",
    "        print(f\"Top tool found: {tools_found[0]['name']}\\n\")\n",
    "        light_agent = Agent(\n",
    "            model=bedrockmodel,\n",
    "            tools=tools_to_strands_mcp_tools(tools_found, 1),\n",
    "            messages=messages,\n",
    "            callback_handler=null_callback_handler,\n",
    "        )\n",
    "        light_result = light_agent(food_input.replace(\"<day>\", str(i + 1)))\n",
    "        print(f\"{i+1}) {light_result.message['content'][0]['text']}\")\n",
    "        messages = light_agent.messages\n",
    "        light_tokens = light_result.metrics.accumulated_usage[\"totalTokens\"]\n",
    "    end_time = time.time()\n",
    "\n",
    "    light_elapsed_time = end_time - start_time\n",
    "    print(f\"\\nTotal time: {light_elapsed_time:.1f} s, tokens: {light_tokens:,d}\\n\")"
   ]
  },
  {
   "cell_type": "markdown",
   "id": "a2647422",
   "metadata": {},
   "source": [
    "#### 結果を比較し、検索の利点を強調する\n\n検索は、大量のデータから関連する情報を効率的に見つけ出すことができます。たとえば、ある query に対して、検索エンジンは数百万件の文書の中から関連する結果を瞬時に特定し、ランク付けして表示することができます。一方、手作業で同じ作業を行うとすれば、莫大な時間と労力を要することでしょう。\n\n検索機能を実装することで、ユーザーは以下のような利点を享受できます:\n\n- 迅速な情報検索\n- 関連性の高い結果の取得\n- 大量のデータからの効率的な情報抽出\n\nさらに、検索機能には以下のような付加価値もあります:\n\n- 検索ログの分析による利用動向の把握\n- 関連性スコアの改善による検索精度の向上\n- 検索インターフェースの改善によるユーザー体験の向上\n\nこのように、検索機能は情報システムにおいて非常に重要な役割を果たしています。検索の利点を最大限に活かすためには、適切なデータ構造、インデックス作成、ランキングアルゴリズムなどの工夫が必要不可欠です。"
   ]
  },
  {
   "cell_type": "code",
   "execution_count": null,
   "id": "eef22580",
   "metadata": {},
   "outputs": [],
   "source": [
    "print(\n",
    "    f\"\\n\\nLatency without search: {full_elapsed_time:.1f}s, using search: {light_elapsed_time:.1f}s\"\n",
    ")\n",
    "print(f\"Tokens without search: {full_tokens:,d}, using search: {light_tokens:,d}\")"
   ]
  },
  {
   "cell_type": "markdown",
   "id": "a7a0d35e",
   "metadata": {},
   "source": [
    "# 結論\nこのチュートリアルでは、Amazon Bedrock AgentCore Gateway とその組み込みの完全マネージド型セマンティック検索機能について学びました。以下の内容を確認しました。\n\n- セマンティック検索を有効にしてゲートウェイを作成する方法\n- 単一のエンドポイントから 300 以上の MCP ツールを提供するために、複数のゲートウェイターゲットを追加する方法\n- 3 つの異なるアプローチを使用してゲートウェイ上のツールを一覧表示する方法\n- 組み込みのセマンティック検索ツールを使用して関連するツールを見つける方法\n- 検索を Strands Agent に統合する方法\n- 数百のツールを持つサーバを使用するエージェントのパフォーマンスと、特定のトピックにツールを絞り込むためにセマンティック検索を使用するエージェントのパフォーマンスを比較する方法\n\nAgentCore Gateway 検索は、より高度な使用例でも役立ちます。ネイティブの MCP ツールとしてではなく、コントロールプレーン API としてのみ検索を提供することで、エージェントに新しい MCP サーバーを検出し、実行時に新しい機能を見つけて、より難しい問題を解決するブレークスルーにつながる可能性があります。さらに、検索は MCP レジストリの重要な基盤であり、エージェント開発者が新しいエージェントを設計および構築する際の支援にもなります。"
   ]
  },
  {
   "cell_type": "markdown",
   "id": "3c569fc6",
   "metadata": {},
   "source": [
    "# リソースのクリーンアップ\n\n以下は、テキストの英語から日本語への翻訳です。半角英数字の前後に半角スペースを挿入し、コード、コマンド、変数名、関数名などの技術的な用語はそのまま残しました。\n\nWhen you are done using your resources, it is a good practice to clean them up. This will help you avoid unnecessary charges and keep your environment organized. Here are some steps to clean up your resources:\n\nリソースの使用が終わったら、クリーンアップすることをお勧めします。これにより、不要な課金を避け、環境を整理することができます。リソースをクリーンアップするための手順は次のとおりです。\n\n1. Delete the Cloud Storage bucket you created by running the following gsutil command:\n\n   gsutil rm -r gs:// $BUCKET\n\n作成した Cloud Storage バケットを削除するには、次の gsutil コマンドを実行します。\n\n   gsutil rm -r gs:// $BUCKET\n\n2. Delete the Cloud Pub/Sub topic by running the following gcloud command:\n\n   gcloud pubsub topics delete $TOPIC\n\nCloud Pub/Sub トピックを削除するには、次の gcloud コマンドを実行します。\n\n   gcloud pubsub topics delete $TOPIC\n\n3. Delete the Cloud Function by running the following gcloud command:\n\n   gcloud functions delete $FUNCTION_NAME\n\nCloud Function を削除するには、次の gcloud コマンドを実行します。\n\n   gcloud functions delete $FUNCTION_NAME"
   ]
  },
  {
   "cell_type": "markdown",
   "id": "8c51ae00",
   "metadata": {},
   "source": [
    "まず、 AgentCore Gateway リソースをクリーンアップするためのヘルパー関数を定義しましょう。"
   ]
  },
  {
   "cell_type": "code",
   "execution_count": null,
   "id": "81ce65be",
   "metadata": {},
   "outputs": [],
   "source": [
    "def delete_gatewaytarget(gateway_id):\n",
    "    response = agentcore_client.list_gateway_targets(gatewayIdentifier=gateway_id)\n",
    "\n",
    "    print(f\"Found {len(response['items'])} targets for the gateway\")\n",
    "\n",
    "    for target in response[\"items\"]:\n",
    "        print(\n",
    "            f\"Deleting target with Name: {target['name']} and Id: {target['targetId']}\"\n",
    "        )\n",
    "\n",
    "        response = agentcore_client.delete_gateway_target(\n",
    "            gatewayIdentifier=gateway_id, targetId=target[\"targetId\"]\n",
    "        )\n",
    "        time.sleep(20)\n",
    "\n",
    "\n",
    "def delete_gateway(gateway_id):\n",
    "    response = agentcore_client.delete_gateway(gatewayIdentifier=gateway_id)"
   ]
  },
  {
   "cell_type": "markdown",
   "id": "ecaade0e",
   "metadata": {},
   "source": [
    "### ゲートウェイターゲットの削除\n\n日本語訳:\n\nYou can delete a gateway target using the AWS CLI or AWS CloudFormation. \n\nAWS CLI を使用してゲートウェイターゲットを削除するには、以下の delete-gateway-target コマンドを実行します。\n\n```\naws apigatewayv2 delete-gateway-target \\\n    --gateway-id a1b2c3d4 \\\n    --target-id abcd1234\n```\n\nAWS CloudFormation を使用してゲートウェイターゲットを削除するには、AWS::ApiGatewayV2::GatewayTarget リソースを CloudFormation テンプレートから削除します。\n\nゲートウェイターゲットを削除すると、そのターゲットへのすべてのルートも削除されます。ゲートウェイターゲットを削除する前に、関連するルートを削除することをお勧めします。"
   ]
  },
  {
   "cell_type": "code",
   "execution_count": null,
   "id": "930b0d93",
   "metadata": {},
   "outputs": [],
   "source": [
    "delete_gatewaytarget(gateway_id=gatewayId)"
   ]
  },
  {
   "cell_type": "markdown",
   "id": "77c008ef",
   "metadata": {},
   "source": [
    "### ゲートウェイ自体の削除\n\n日本語訳:\n\nゲートウェイ自体を削除するには、次の手順に従います。\n\n1. `kubectl get deployments` を実行して、 `istio-ingressgateway` Deployment が存在することを確認します。\n\n2. `istio-ingressgateway` Deployment を削除します。\n   ```\n   kubectl delete deployment istio-ingressgateway\n   ```\n\n3. 次に、 `istio-ingressgateway` Service を削除します。\n   ```\n   kubectl delete service istio-ingressgateway\n   ```\n\n4. 最後に、 `istio-ingressgateway` の Pod が削除されたことを確認します。\n   ```\n   kubectl get pods -l app=istio-ingressgateway\n   ```\n\nこれで、ゲートウェイが完全に削除されました。"
   ]
  },
  {
   "cell_type": "code",
   "execution_count": null,
   "id": "78916cc5",
   "metadata": {},
   "outputs": [],
   "source": [
    "delete_gateway(gateway_id=gatewayId)"
   ]
  },
  {
   "cell_type": "code",
   "execution_count": null,
   "id": "aa6fc55e",
   "metadata": {},
   "outputs": [],
   "source": [
    "lambda_arns = [\n",
    "    calc_lambda_resp[\"lambda_function_arn\"],\n",
    "    restaurant_lambda_resp[\"lambda_function_arn\"],\n",
    "]\n",
    "\n",
    "for arn in lambda_arns:\n",
    "    if utils.delete_gateway_lambda(arn):\n",
    "        print(f\"Deleted Lambda: {arn}\")\n",
    "    else:\n",
    "        print(f\"Lambda {arn} not found or deletion failed\")"
   ]
  },
  {
   "cell_type": "code",
   "execution_count": null,
   "id": "0f507063",
   "metadata": {},
   "outputs": [],
   "source": [
    "# Gateway ロールのクリーンアップ\n\n日本語訳:\n\nこの スクリプト は、古い Gateway ロール を削除し、新しい Gateway ロール を作成します。\n\n最初に、既存の \"Gateway\" ロール を削除します。その後、新しい \"Gateway\" ロール を作成し、必要な権限 ( permissions ) を割り当てます。\n\n注意: このスクリプトを実行する前に、影響を受ける可能性のあるリソースをよく確認してください。運用環境で実行する場合は、十分に注意してください。\n\n使用方法:\n\n```\n$ terraform init\n$ terraform apply\n```\n\n変数:\n\n- `aws_region` - AWS リージョン ( デフォルト: us-east-1 )\n\n出力:\n\n- `gateway_role_arn` - 新しい Gateway ロールの ARN\nif utils.delete_gateway_iam_role():\n    print(\"Gateway IAM role deleted\")\nelse:\n    print(\"Gateway IAM role not found or deletion failed\")\n\n# Cognito のクリーンアップ\n\n日本語訳:\n\nAmazon Cognito は、Web や モバイルアプリケーションに認証、承認、ユーザー管理機能を簡単に追加できる AWS のサービスです。Cognito を使用すると、ユーザープールやアイデンティティプールを作成し、管理することができます。\n\n時間が経つにつれて、これらのリソースが不要になる可能性があります。そのような場合は、AWS アカウントからそれらを削除する必要があります。これを行うには、以下の手順に従ってください。\n\n1. AWS マネジメントコンソールにサインインします。\n2. Cognito コンソールを開きます。\n3. 削除するユーザープールまたはアイデンティティプールを選択します。\n4. 「削除」ボタンをクリックします。\n5. 確認ダイアログで「削除」を入力し、「削除」ボタンをクリックして削除を確定します。\n\n注意: ユーザープールまたはアイデンティティプールを削除すると、そのリソースに関連付けられているすべてのデータが永久に失われます。この操作は元に戻せません。\n\nCognito のクリーンアップを行うことで、不要なリソースを削除し、AWS アカウントの請求額を削減できます。定期的にリソースを確認し、不要なものを削除することをお勧めします。\nif utils.delete_cognito_user_pool():\n    print(\"Cognito pool deleted\")\nelse:\n    print(\"✗ Failed to delete Cognito pool\")"
   ]
  },
  {
   "cell_type": "markdown",
   "id": "3bdb4509",
   "metadata": {},
   "source": []
  }
 ],
 "metadata": {
  "kernelspec": {
   "display_name": ".venv",
   "language": "python",
   "name": "python3"
  },
  "language_info": {
   "codemirror_mode": {
    "name": "ipython",
    "version": 3
   },
   "file_extension": ".py",
   "mimetype": "text/x-python",
   "name": "python",
   "nbconvert_exporter": "python",
   "pygments_lexer": "ipython3",
   "version": "3.13.3"
  }
 },
 "nbformat": 4,
 "nbformat_minor": 5
}