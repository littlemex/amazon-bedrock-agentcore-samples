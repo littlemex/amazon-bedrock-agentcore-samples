{
 "cells": [
  {
   "attachments": {},
   "cell_type": "markdown",
   "id": "4ba51a29-a566-4b5a-97f0-10e634567e40",
   "metadata": {
    "collapsed": true,
    "jupyter": {
     "outputs_hidden": true
    }
   },
   "source": [
    "# AWS Lambda を MCPify する\n",
    "## AWS Lambda 関数を Bedrock AgentCore Gateway で安全な MCP ツールに変換する\n",
    "\n",
    "## 概要\n",
    "Bedrock AgentCore Gateway は、お客様が既存の AWS Lambda 関数をインフラやホスティングを管理することなく、完全に管理された MCP サーバーに変換する方法を提供します。Gateway はこれらすべてのツールに対して統一された Model Context Protocol (MCP) インターフェースを提供します。Gateway は、ターゲットリソースへの着信リクエストと送信接続の両方に対して安全なアクセス制御を確保するために、二重認証モデルを採用しています。このフレームワークは 2 つの主要コンポーネントで構成されています：インバウンド認証（ゲートウェイターゲットへのアクセスを試みるユーザーを検証して承認する）と、アウトバウンド認証（認証されたユーザーに代わってゲートウェイがバックエンドリソースに安全に接続できるようにする）です。Gateway はアウトバウンド認証のために AWS Lambda 関数への呼び出しを承認するために IAM ロールを使用します。\n",
    "\n",
    "![仕組み](images/lambda-iam-gateway.png)\n",
    "\n",
    "### チュートリアルの詳細\n",
    "\n",
    "| 情報                 | 詳細                                                     |\n",
    "|:---------------------|:----------------------------------------------------------|\n",
    "| チュートリアルタイプ | インタラクティブ                                         |\n",
    "| AgentCore コンポーネント | AgentCore Gateway, AgentCore Identity                     |\n",
    "| エージェントフレームワーク | Strands Agents                                            |\n",
    "| Gateway ターゲットタイプ | AWS Lambda                                                |\n",
    "| インバウンド認証 IdP | Amazon Cognito                                            |\n",
    "| アウトバウンド認証   | AWS IAM                                                   |\n",
    "| LLM モデル           | Anthropic Claude Sonnet 3.7, Amazon Nova Pro              |\n",
    "| チュートリアルコンポーネント | AgentCore Gateway の作成と AgentCore Gateway の呼び出し |\n",
    "| チュートリアル分野   | 分野横断的                                               |\n",
    "| 例の複雑さ           | 簡単                                                     |\n",
    "| 使用する SDK         | boto3                                                     |\n",
    "\n",
    "チュートリアルの最初のパートでは、いくつかの AmazonCore Gateway ターゲットを作成します\n",
    "\n",
    "### チュートリアルのアーキテクチャ\n",
    "このチュートリアルでは、AWS Lambda 関数で定義された操作を MCP ツールに変換し、Bedrock AgentCore Gateway でホストします。\n",
    "デモンストレーションの目的で、Amazon Bedrock モデルを使用する Strands Agent を使用します。\n",
    "この例では、get_order と update_order という 2 つのツールを持つ非常にシンプルなエージェントを使用します。"
   ]
  },
  {
   "cell_type": "markdown",
   "id": "5362e1ad-f027-4452-a8d9-0b861c0115c2",
   "metadata": {},
   "source": [
    "## 前提条件\n",
    "\n",
    "このチュートリアルを実行するには、以下が必要です：\n",
    "* Jupyter notebook（Python カーネル）\n",
    "* uv\n",
    "* AWS 認証情報\n",
    "* Amazon Cognito"
   ]
  },
  {
   "attachments": {},
   "cell_type": "markdown",
   "id": "e93da982-0d11-427c-9958-fff3c80b32f1",
   "metadata": {},
   "source": [
    "## AgentCore Gateway への受信リクエストの認証設定\n",
    "AgentCore Gateway は、インバウンドおよびアウトバウンド認証を通じて安全な接続を提供します。インバウンド認証では、AgentCore Gateway は呼び出し時に渡される OAuth トークンを分析し、ゲートウェイ内のツールへのアクセスを許可または拒否するかを決定します。ツールが外部リソースにアクセスする必要がある場合、AgentCore Gateway は API キー、IAM、または OAuth トークンを介したアウトバウンド認証を使用して、外部リソースへのアクセスを許可または拒否することができます。\n",
    "\n",
    "インバウンド認証フローでは、エージェントまたは MCP クライアントが、OAuth アクセストークン（ユーザーの IdP から生成された）を追加して AgentCore Gateway 内の MCP ツールを呼び出します。AgentCore Gateway はその後、OAuth アクセストークンを検証し、インバウンド認証を実行します。\n",
    "\n",
    "AgentCore Gateway で実行されているツールが外部リソースにアクセスする必要がある場合、OAuth はゲートウェイターゲットのリソース認証情報プロバイダーを使用して、下流リソースの認証情報を取得します。AgentCore Gateway は、下流 API へのアクセスを得るために、認証情報を呼び出し元に渡します。"
   ]
  },
  {
   "cell_type": "code",
   "execution_count": null,
   "id": "e326677b-11b5-4488-b01b-573ad275a764",
   "metadata": {},
   "outputs": [],
   "source": [
    "# 最新の botocore と boto3 ライブラリをダウンロードしていることを確認してください。\n",
    "import shutil\n",
    "import subprocess\n",
    "import sys\n",
    "\n",
    "def ensure_uv_installed():\n",
    "    if shutil.which(\"uv\") is None:\n",
    "        print(\"🔧 'uv' not found. Installing with pip...\")\n",
    "        subprocess.check_call([sys.executable, \"-m\", \"pip\", \"install\", \"uv\"])\n",
    "    else:\n",
    "        print(\"✅ 'uv' is already installed.\")\n",
    "\n",
    "def uv_install(*packages):\n",
    "    ensure_uv_installed()\n",
    "    uv_path = shutil.which(\"uv\")\n",
    "    print(f\"📦 Installing {', '.join(packages)} using uv...\")\n",
    "    subprocess.check_call([uv_path, \"pip\", \"install\", *packages])\n",
    "\n",
    "uv_install(\"botocore\", \"boto3\")"
   ]
  },
  {
   "cell_type": "code",
   "execution_count": null,
   "id": "a4e6248d-b740-418b-ae0d-c0a9623e43e1",
   "metadata": {},
   "outputs": [],
   "source": [
    "# Amazon SageMaker ノートブックを使用していない場合は AWS 認証情報を設定する\n",
    "import os\n",
    "os.environ['AWS_ACCESS_KEY_ID'] = '' # アクセスキーを設定する\n",
    "os.environ['AWS_SECRET_ACCESS_KEY'] = '' # シークレットを設定する\n",
    "os.environ['AWS_PROFILE'] = 'cline2'\n",
    "os.environ['AWS_DEFAULT_REGION'] = 'us-east-1' # AWS リージョンを設定する"
   ]
  },
  {
   "cell_type": "code",
   "execution_count": null,
   "id": "cd5f3851-d0ca-484f-bb41-68f66ddbea44",
   "metadata": {},
   "outputs": [],
   "source": [
    "import os\n",
    "import sys\n",
    "\n",
    "# 現在のスクリプトのディレクトリを取得する\n",
    "if '__file__' in globals():\n",
    "    current_dir = os.path.dirname(os.path.abspath(__file__))\n",
    "else:\n",
    "    current_dir = os.getcwd()  # __file__ が定義されていない場合のフォールバック（例：Jupyter）\n",
    "\n",
    "# utils.py があるディレクトリ（1 レベル上）に移動する\n",
    "utils_dir = os.path.abspath(os.path.join(current_dir, '..'))\n",
    "\n",
    "# Add to sys.path\n",
    "sys.path.insert(0, utils_dir)\n",
    "\n",
    "# 今、 utils をインポートできます\n",
    "import utils"
   ]
  },
  {
   "cell_type": "code",
   "execution_count": null,
   "id": "ddf8bfe9-8435-44cc-9e8a-ed8ece48f6a6",
   "metadata": {},
   "outputs": [],
   "source": [
    "import time\n",
    "\n",
    "#### AWS Lambda 関数のサンプルを作成し、MCP ツールに変換する\n",
    "lambda_resp = utils.create_gateway_lambda(\"lambda_function_code.zip\")\n",
    "\n",
    "if lambda_resp is not None:\n",
    "    if lambda_resp['exit_code'] == 0:\n",
    "        print(\"Lambda function created with ARN: \", lambda_resp['lambda_function_arn'])\n",
    "    else:\n",
    "        print(\"Lambda function creation failed with message: \", lambda_resp['lambda_function_arn'])\n",
    "\n",
    "# IAMロールの伝播を待つ\n",
    "print(\"Waiting for IAM role to propagate...\")\n",
    "time.sleep(15)  # 15秒待機\n",
    "\n",
    "# Lambda関数を作成\n",
    "lambda_resp = utils.create_gateway_lambda(\"lambda_function_code.zip\")\n",
    "\n",
    "if lambda_resp is not None:\n",
    "    if lambda_resp['exit_code'] == 0:\n",
    "        print(\"Lambda function created with ARN: \", lambda_resp['lambda_function_arn'])\n",
    "    else:\n",
    "        print(\"Lambda function creation failed with message: \", lambda_resp['lambda_function_arn'])"
   ]
  },
  {
   "cell_type": "code",
   "execution_count": null,
   "id": "9ef17018-d2be-40e3-a892-55dd420297f9",
   "metadata": {},
   "outputs": [],
   "source": [
    "#### Gateway が引き受ける IAM ロールを作成する\n",
    "import utils\n",
    "agentcore_gateway_iam_role = utils.create_agentcore_gateway_role(\"sample-lambdagateway\")\n",
    "print(\"Agentcore gateway role ARN: \", agentcore_gateway_iam_role['Role']['Arn'])"
   ]
  },
  {
   "cell_type": "markdown",
   "id": "65120594-c3ec-4d51-810b-8d478851d8d2",
   "metadata": {},
   "source": [
    "# Gateway へのインバウンド認証のための Amazon Cognito プールの作成"
   ]
  },
  {
   "cell_type": "code",
   "execution_count": null,
   "id": "0bbbc736-6f5e-4a60-a598-ead43a0c1f90",
   "metadata": {},
   "outputs": [],
   "source": [
    "# Cognito ユーザープールの作成\n",
    "import os\n",
    "import boto3\n",
    "import requests\n",
    "import time\n",
    "from botocore.exceptions import ClientError\n",
    "\n",
    "REGION = os.environ['AWS_DEFAULT_REGION']\n",
    "USER_POOL_NAME = \"sample-agentcore-gateway-pool\"\n",
    "RESOURCE_SERVER_ID = \"sample-agentcore-gateway-id\"\n",
    "RESOURCE_SERVER_NAME = \"sample-agentcore-gateway-name\"\n",
    "CLIENT_NAME = \"sample-agentcore-gateway-client\"\n",
    "SCOPES = [\n",
    "    {\"ScopeName\": \"gateway:read\", \"ScopeDescription\": \"Read access\"},\n",
    "    {\"ScopeName\": \"gateway:write\", \"ScopeDescription\": \"Write access\"}\n",
    "]\n",
    "scopeString = f\"{RESOURCE_SERVER_ID}/gateway:read {RESOURCE_SERVER_ID}/gateway:write\"\n",
    "\n",
    "cognito = boto3.client(\"cognito-idp\", region_name=REGION)\n",
    "\n",
    "print(\"Creating or retrieving Cognito resources...\")\n",
    "user_pool_id = utils.get_or_create_user_pool(cognito, USER_POOL_NAME)\n",
    "print(f\"User Pool ID: {user_pool_id}\")\n",
    "\n",
    "utils.get_or_create_resource_server(cognito, user_pool_id, RESOURCE_SERVER_ID, RESOURCE_SERVER_NAME, SCOPES)\n",
    "print(\"Resource server ensured.\")\n",
    "\n",
    "client_id, client_secret  = utils.get_or_create_m2m_client(cognito, user_pool_id, CLIENT_NAME, RESOURCE_SERVER_ID)\n",
    "print(f\"Client ID: {client_id}\")\n",
    "\n",
    "# ディスカバリー URL の取得\n",
    "cognito_discovery_url = f'https://cognito-idp.{REGION}.amazonaws.com/{user_pool_id}/.well-known/openid-configuration'\n",
    "print(cognito_discovery_url)"
   ]
  },
  {
   "cell_type": "markdown",
   "id": "f1a63450-7fb9-42fc-ab4f-3d86c27bb2f8",
   "metadata": {},
   "source": [
    "# Amazon Cognito オーソライザーを使用したインバウンド認可のためのゲートウェイの作成"
   ]
  },
  {
   "cell_type": "code",
   "execution_count": null,
   "id": "72f2cd57-7777-42d3-b6f3-c45ed0a935c4",
   "metadata": {},
   "outputs": [],
   "source": [
    "# CMK なしで Cognito オーソライザーを使用して CreateGateway。前のステップで作成した Cognito ユーザープールを使用する\n",
    "gateway_client = boto3.client('bedrock-agentcore-control', region_name = os.environ['AWS_DEFAULT_REGION'])\n",
    "auth_config = {\n",
    "    \"customJWTAuthorizer\": { \n",
    "        \"allowedClients\": [client_id],  # クライアントは Cognito で設定された ClientId と一致する必要があります。例： 7rfbikfsm51j2fpaggacgng84g\n",
    "        \"discoveryUrl\": cognito_discovery_url\n",
    "    }\n",
    "}\n",
    "create_response = gateway_client.create_gateway(name='TestGWforLambda',\n",
    "    roleArn = agentcore_gateway_iam_role['Role']['Arn'], # IAM ロールは Gateway の作成・一覧表示・取得・削除の権限を持っている必要があります\n",
    "    protocolType='MCP',\n",
    "    authorizerType='CUSTOM_JWT',\n",
    "    authorizerConfiguration=auth_config, \n",
    "    description='AgentCore Gateway with AWS Lambda target type'\n",
    ")\n",
    "print(create_response)\n",
    "# GatewayTarget 作成に使用される GatewayID を取得する\n",
    "gatewayID = create_response[\"gatewayId\"]\n",
    "gatewayURL = create_response[\"gatewayUrl\"]\n",
    "print(gatewayID)"
   ]
  },
  {
   "cell_type": "markdown",
   "id": "94dc57be-e50e-4997-a440-3bcf582d09bc",
   "metadata": {},
   "source": [
    "# AWS Lambda ターゲットを作成し MCP ツールに変換する"
   ]
  },
  {
   "cell_type": "code",
   "execution_count": null,
   "id": "8c1474da-cdd6-4dbd-84e7-3fdad018647d",
   "metadata": {},
   "outputs": [],
   "source": [
    "# AWS Lambda 関数の ARN を以下に置き換えてください\n",
    "lambda_target_config = {\n",
    "    \"mcp\": {\n",
    "        \"lambda\": {\n",
    "            \"lambdaArn\": lambda_resp['lambda_function_arn'], # AWS Lambda 関数 ARN をここに置き換えてください\n",
    "            \"toolSchema\": {\n",
    "                \"inlinePayload\": [\n",
    "                    {\n",
    "                        \"name\": \"get_order_tool\",\n",
    "                        \"description\": \"tool to get the order\",\n",
    "                        \"inputSchema\": {\n",
    "                            \"type\": \"object\",\n",
    "                            \"properties\": {\n",
    "                                \"orderId\": {\n",
    "                                    \"type\": \"string\"\n",
    "                                }\n",
    "                            },\n",
    "                            \"required\": [\"orderId\"]\n",
    "                        }\n",
    "                    },                    \n",
    "                    {\n",
    "                        \"name\": \"update_order_tool\",\n",
    "                        \"description\": \"tool to update the orderId\",\n",
    "                        \"inputSchema\": {\n",
    "                            \"type\": \"object\",\n",
    "                            \"properties\": {\n",
    "                                \"orderId\": {\n",
    "                                    \"type\": \"string\"\n",
    "                                }\n",
    "                            },\n",
    "                            \"required\": [\"orderId\"]\n",
    "                        }\n",
    "                    }\n",
    "                ]\n",
    "            }\n",
    "        }\n",
    "    }\n",
    "}\n",
    "\n",
    "credential_config = [ \n",
    "    {\n",
    "        \"credentialProviderType\" : \"GATEWAY_IAM_ROLE\"\n",
    "    }\n",
    "]\n",
    "targetname='LambdaUsingSDK'\n",
    "response = gateway_client.create_gateway_target(\n",
    "    gatewayIdentifier=gatewayID,\n",
    "    name=targetname,\n",
    "    description='Lambda Target using SDK',\n",
    "    targetConfiguration=lambda_target_config,\n",
    "    credentialProviderConfigurations=credential_config)"
   ]
  },
  {
   "cell_type": "markdown",
   "id": "d3ac6532-5299-4024-917d-bcd60caea6ed",
   "metadata": {},
   "source": [
    "# Strands エージェントから Bedrock AgentCore Gateway を呼び出す\n",
    "\n",
    "Strands エージェントは、Model Context Protocol (MCP) 仕様を実装する Bedrock AgentCore Gateway を通じて AWS ツールとシームレスに統合されています。この統合により、AI エージェントと AWS サービス間の安全で標準化された通信が可能になります。\n",
    "\n",
    "その核心部分として、Bedrock AgentCore Gateway は基本的な MCP API である ListTools と InvokeTools を公開するプロトコル準拠のゲートウェイとして機能します。これらの API により、MCP 準拠のクライアントや SDK は、安全で標準化された方法で利用可能なツールを発見し、対話することができます。Strands エージェントが AWS サービスにアクセスする必要がある場合、これらの MCP 標準化されたエンドポイントを使用してゲートウェイと通信します。\n",
    "\n",
    "ゲートウェイの実装は (MCP 認証仕様)[https://modelcontextprotocol.org/specification/draft/basic/authorization] に厳密に準拠しており、堅牢なセキュリティとアクセス制御を確保しています。これは、Strands エージェントによるすべてのツール呼び出しが認証ステップを経ることを意味し、強力な機能を提供しながらセキュリティを維持します。\n",
    "\n",
    "例えば、Strands エージェントが MCP ツールにアクセスする必要がある場合、まず ListTools を呼び出して利用可能なツールを発見し、次に InvokeTools を使用して特定のアクションを実行します。ゲートウェイは必要なすべてのセキュリティ検証、プロトコル変換、サービス連携を処理し、プロセス全体をシームレスかつ安全にします。\n",
    "\n",
    "このアーキテクチャアプローチにより、MCP 仕様を実装するあらゆるクライアントや SDK がゲートウェイを通じて AWS サービスと対話できるようになり、AI エージェント統合のための汎用性と将来性のあるソリューションとなっています。\n",
    "\n",
    "![Strands エージェントがゲートウェイを呼び出す](images/strands-lambda-gateway.png)"
   ]
  },
  {
   "cell_type": "code",
   "execution_count": null,
   "id": "60756f03-352b-46bc-9cb6-c845bae7acc0",
   "metadata": {},
   "outputs": [],
   "source": [
    "uv_install(\"mcp[cli]\", \"strands-agents\")"
   ]
  },
  {
   "cell_type": "markdown",
   "id": "873031fe-62b5-4196-91be-500c1f87dfd4",
   "metadata": {},
   "source": [
    "# インバウンド認証のために Amazon Cognito からアクセストークンをリクエストする"
   ]
  },
  {
   "cell_type": "code",
   "execution_count": null,
   "id": "3ed1d1d6-e84c-4286-bf25-3ad6a49723b9",
   "metadata": {},
   "outputs": [],
   "source": [
    "print(\"Requesting the access token from Amazon Cognito authorizer...May fail for some time till the domain name propogation completes\")\n",
    "token_response = utils.get_token(user_pool_id, client_id, client_secret,scopeString,REGION)\n",
    "token = token_response[\"access_token\"]\n",
    "print(\"Token response:\", token)"
   ]
  },
  {
   "attachments": {},
   "cell_type": "markdown",
   "id": "6fd0379d-9576-43cb-aa9b-72b86c43b472",
   "metadata": {},
   "source": [
    "# AWS Lambda の MCP ツールを Bedrock AgentCore Gateway を使用して呼び出す Strands エージェント"
   ]
  },
  {
   "cell_type": "code",
   "execution_count": null,
   "id": "be4b39c4-7387-4ce8-b728-f2347fbdaa36",
   "metadata": {},
   "outputs": [],
   "source": [
    "from strands.models import BedrockModel\n",
    "from mcp.client.streamable_http import streamablehttp_client \n",
    "from strands.tools.mcp.mcp_client import MCPClient\n",
    "from strands import Agent\n",
    "\n",
    "def create_streamable_http_transport():\n",
    "    return streamablehttp_client(gatewayURL,headers={\"Authorization\": f\"Bearer {token}\"})\n",
    "\n",
    "client = MCPClient(create_streamable_http_transport)\n",
    "\n",
    "## ~/.aws/credentials で設定された IAM 認証情報は Bedrock モデルへのアクセス権を持っている必要があります\n",
    "yourmodel = BedrockModel(\n",
    "    model_id=\"us.amazon.nova-pro-v1:0\",\n",
    "    temperature=0.7,\n",
    ")"
   ]
  },
  {
   "cell_type": "code",
   "execution_count": null,
   "id": "e64794e7-4e5f-4fc5-824a-61c901e356c4",
   "metadata": {},
   "outputs": [],
   "source": [
    "from strands import Agent\n",
    "import logging\n",
    "\n",
    "# ルートの strands ロガーを設定します。問題をデバッグしている場合は、DEBUG に変更してください。\n",
    "logging.getLogger(\"strands\").setLevel(logging.INFO)\n",
    "\n",
    "# ログを確認するためのハンドラーを追加する\n",
    "logging.basicConfig(\n",
    "    format=\"%(levelname)s | %(name)s | %(message)s\", \n",
    "    handlers=[logging.StreamHandler()]\n",
    ")\n",
    "\n",
    "with client:\n",
    "    # Call the listTools\n",
    "    tools = client.list_tools_sync()\n",
    "    # モデルとツールを使用したエージェントの作成\n",
    "    agent = Agent(model=yourmodel, tools=tools) ## あなたは どのモデルでも 好きなものに 置き換えることができます\n",
    "    print(f\"Tools loaded in the agent are {agent.tool_names}\")\n",
    "    \n",
    "    # 修正: tool_config の代わりに tool_registry を使用\n",
    "    print(f\"Tools registry in the agent: {agent.tool_registry}\")\n",
    "    \n",
    "    # サンプルプロンプトでエージェントを呼び出します。これは MCP listTools のみを呼び出し、LLM がアクセスできるツールのリストを取得します。以下は実際にはどのツールも呼び出しません。\n",
    "    agent(\"Hi , can you list all tools available to you\")\n",
    "    # エージェントをサンプルプロンプトで呼び出し、ツールを実行して応答を表示する\n",
    "    agent(\"Check the order status for order id 123 and show me the exact response from the tool\")\n",
    "    # MCP ツールを明示的に呼び出します。MCP ツール名と引数は、AWS Lambda 関数または OpenAPI/Smithy API と一致する必要があります\n",
    "    result = client.call_tool_sync(\n",
    "    tool_use_id=\"get-order-id-123-call-1\", # あなたはこれを一意の識別子に置き換えることができます。\n",
    "    name=targetname+\"___get_order_tool\", # これは AWS Lambda ターゲットタイプに基づくツール名です。ターゲット名に応じて変更されます\n",
    "    arguments={\"orderId\": \"123\"}\n",
    "    )\n",
    "    # ログを確認するためのハンドラーを追加する\n",
    "    print(f\"Tool Call result: {result['content'][0]['text']}\")\n"
   ]
  },
  {
   "cell_type": "markdown",
   "id": "73169486-2fa0-42b5-8a8f-d6bdcc532159",
   "metadata": {},
   "source": [
    "**問題: 以下のセルを実行中に下記のエラーが表示される場合、pydantic と pydantic-core のバージョン間に互換性がないことを示しています。**\n",
    "\n",
    "```\n",
    "TypeError: model_schema() got an unexpected keyword argument 'generic_origin'\n",
    "```\n",
    "\n",
    "**解決方法は？**\n",
    "\n",
    "互換性のある pydantic==2.7.2 と pydantic-core 2.27.2 をインストールする必要があります。インストール完了後、カーネルを再起動してください。"
   ]
  },
  {
   "cell_type": "markdown",
   "id": "fa8dd91d-15a6-45b2-b539-bb3eaf0e0e08",
   "metadata": {},
   "source": [
    "# クリーンアップ\n",
    "\n",
    "IAM ロール、IAM ポリシー、認証情報プロバイダー、AWS Lambda 関数、Cognito ユーザープール、S3 バケットなどの追加リソースも作成されており、クリーンアップの一環として手動で削除する必要があるかもしれません。これは実行する例によって異なります。"
   ]
  },
  {
   "cell_type": "markdown",
   "id": "a22f158d-83b6-4d65-892f-9a208af3d742",
   "metadata": {},
   "source": [
    "## ゲートウェイの削除 (オプション)"
   ]
  },
  {
   "cell_type": "code",
   "execution_count": null,
   "id": "c3edc5b6-e5f0-47b9-994f-378415bad50d",
   "metadata": {},
   "outputs": [],
   "source": [
    "import utils\n",
    "utils.delete_gateway(gateway_client,gatewayID)"
   ]
  }
 ],
 "metadata": {
  "kernelspec": {
   "display_name": ".venv",
   "language": "python",
   "name": "python3"
  },
  "language_info": {
   "codemirror_mode": {
    "name": "ipython",
    "version": 3
   },
   "file_extension": ".py",
   "mimetype": "text/x-python",
   "name": "python",
   "nbconvert_exporter": "python",
   "pygments_lexer": "ipython3",
   "version": "3.10.18"
  }
 },
 "nbformat": 4,
 "nbformat_minor": 5
}
