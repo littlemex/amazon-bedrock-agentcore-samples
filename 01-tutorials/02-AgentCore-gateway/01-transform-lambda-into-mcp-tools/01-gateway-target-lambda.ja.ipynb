{
 "cells": [
  {
   "attachments": {},
   "cell_type": "markdown",
   "id": "4ba51a29-a566-4b5a-97f0-10e634567e40",
   "metadata": {
    "collapsed": true,
    "jupyter": {
     "outputs_hidden": true
    }
   },
   "source": [
    "# AWS Lambdaを MCPify する\n## Bedrock AgentCore Gatewayを使って、AWS Lambdaの関数をセキュアなMCPツールに変換する\n\n## 概要\nBedrock AgentCore Gatewayは、お客様が既存のAWS Lambdaの関数を、インフラやホスティングを管理する必要なく、完全に管理されたMCPサーバーに変換する方法を提供します。Gatewayは、これらすべてのツールに対して統一されたModel Context Protocol (MCP)インターフェイスを提供します。Gatewayは、双方向の認証モデルを採用しており、インバウンド要求とターゲットリソースへのアウトバウンド接続の両方に対してセキュアなアクセス制御を保証します。このフレームワークは、2つの主要コンポーネントで構成されています。Inbound Authは、ゲートウェイターゲットにアクセスしようとするユーザーを検証および承認します。Outbound Authは、ゲートウェイが認証されたユーザーに代わって、バックエンドリソースに安全に接続できるようにします。Gatewayは、アウトバウンド認証のためにIAMロールを使用して、AWS Lambdaの関数への呼び出しを承認します。\n\n![How does it work](images/lambda-iam-gateway.png)\n\n### チュートリアルの詳細\n\n| 情報                 | 詳細                                                      |\n|:---------------------|:----------------------------------------------------------|\n| チュートリアルの種類 | インタラクティブ                                          |\n| AgentCoreコンポーネント | AgentCore Gateway、AgentCore Identity                    |\n| Agenticフレームワーク | Strands Agents                                           |\n| ゲートウェイターゲットの種類 | AWS Lambda                                         |\n| インバウンド認証IdP  | Amazon Cognito                                            |\n| アウトバウンド認証   | AWS IAM                                                   |\n| LLMモデル            | Anthropic Claude Sonnet 3.7、Amazon Nova Pro              |\n| チュートリアルコンポーネント | AgentCore Gatewayの作成とAgentCore Gatewayの呼び出し     |\n| チュートリアルの分野 | 分野横断                                                  |\n| 例の複雑さ           | 簡単                                                      |\n| 使用したSDK          | boto3                                                     |\n\nチュートリアルの最初の部分では、いくつかのAmazonCore Gatewayターゲットを作成します。\n\n### チュートリアルのアーキテクチャ\nこのチュートリアルでは、AWS Lambdaの関数で定義された操作をMCPツールに変換し、Bedrock AgentCore Gatewayでホストします。\nデモンストレーション目的で、Amazon Bedrockモデルを使用するStrands Agentを使用します。\n私たちの例では、get_orderとupdate_orderの2つのツールを持つ非常に単純なエージェントを使用します。"
   ]
  },
  {
   "cell_type": "markdown",
   "id": "5362e1ad-f027-4452-a8d9-0b861c0115c2",
   "metadata": {},
   "source": [
    "## 前提条件\n\nこのチュートリアルを実行するには、以下が必要です:\n* Jupyter notebook (Python kernel)\n* uv\n* AWS 認証情報\n* Amazon Cognito"
   ]
  },
  {
   "attachments": {},
   "cell_type": "markdown",
   "id": "e93da982-0d11-427c-9958-fff3c80b32f1",
   "metadata": {},
   "source": [
    "## AgentCore Gateway への着信リクエストの認証設定\n\nAgentCore Gateway は、着信認証と発信認証を通じて安全な接続を提供します。着信認証では、AgentCore Gateway は呼び出し時に渡された OAuth トークンを分析し、ゲートウェイ内のツールへのアクセスを許可または拒否します。ツールが外部リソースへのアクセスを必要とする場合、AgentCore Gateway は API キー、IAM、または OAuth トークンを使って発信認証を行い、外部リソースへのアクセスを許可または拒否できます。\n\n着信認証フローでは、エージェントまたは MCP クライアントが、ユーザーの IdP から生成された OAuth アクセストークンを付加して、AgentCore Gateway 内の MCP ツールを呼び出します。AgentCore Gateway は OAuth アクセストークンを検証し、着信認証を実行します。\n\nAgentCore Gateway 内で実行されるツールが外部リソースにアクセスする必要がある場合、OAuth はゲートウェイターゲットのリソース認証情報プロバイダを使って、下流のリソースの認証情報を取得します。AgentCore Gateway は認証情報を呼び出し元に渡し、下流の API へのアクセスを許可します。"
   ]
  },
  {
   "cell_type": "code",
   "execution_count": null,
   "id": "e326677b-11b5-4488-b01b-573ad275a764",
   "metadata": {},
   "outputs": [],
   "source": [
    "# Make sure you download the latest botocore and boto3 libraries.\n\n日本語訳:\n\n最新の botocore と boto3 ライブラリをダウンロードしていることを確認してください。\nimport shutil\nimport subprocess\nimport sys\n\ndef ensure_uv_installed():\n    if shutil.which(\"uv\") is None:\n        print(\"🔧 'uv' not found. Installing with pip...\")\n        subprocess.check_call([sys.executable, \"-m\", \"pip\", \"install\", \"uv\"])\n    else:\n        print(\"✅ 'uv' is already installed.\")\n\ndef uv_install(*packages):\n    ensure_uv_installed()\n    uv_path = shutil.which(\"uv\")\n    print(f\"📦 Installing {', '.join(packages)} using uv...\")\n    subprocess.check_call([uv_path, \"pip\", \"install\", *packages])\n\nuv_install(\"botocore\", \"boto3\")"
   ]
  },
  {
   "cell_type": "code",
   "execution_count": null,
   "id": "a4e6248d-b740-418b-ae0d-c0a9623e43e1",
   "metadata": {},
   "outputs": [],
   "source": [
    "# Set AWS credentials if not using Amazon SageMaker notebook\n\nAmazon SageMaker ノートブックを使用していない場合は、以下の手順で AWS 認証情報を設定します。\nimport os\nos.environ['AWS_ACCESS_KEY_ID'] = '' # set the access key\n\nアクセスキーを設定します。\n\naccess_key = \"abc123\"  # アクセスキーは変更しないでください\nsecret_key = \"xYzPqr\"  # 秘密キーは変更しないでください\n\nif access_key and secret_key:\n    print(\"Access key and secret key are set.\")\nelse:\n    print(\"Error: Access key or secret key is missing.\")\n\n# 関数 get_data() を定義します\ndef get_data(url):\n    # url から データを取得する処理...\n    return data\n\n# メイン処理\nurl = \"https://example.com/api/data\"\ndata = get_data(url)\nprint(data)\nos.environ['AWS_SECRET_ACCESS_KEY'] = '' # set the secret \n\nsecret = \"my_secret_password\"\n\n日本語訳:\n\n# 秘密鍵を設定\n\nsecret = \"my_secret_password\"\nos.environ['AWS_DEFAULT_REGION'] = 'us-east-1' # set the AWS region\n\nAWS リージョンを設定します。\n\n日本語訳:\n\n# AWS リージョンを設定する"
   ]
  },
  {
   "cell_type": "code",
   "execution_count": null,
   "id": "cd5f3851-d0ca-484f-bb41-68f66ddbea44",
   "metadata": {},
   "outputs": [],
   "source": [
    "import os\nimport sys\n\n# Get the directory of the current script\n\n現在のスクリプトのディレクトリを取得します。\n\nscript_dir = os.path.dirname(os.path.abspath(__file__))\n\n日本語訳:\n\n# 現在のスクリプトのディレクトリを取得します\n\nscript_dir = os.path.dirname(os.path.abspath(__file__))\nif '__file__' in globals():\n    current_dir = os.path.dirname(os.path.abspath(__file__))\nelse:\n    current_dir = os.getcwd()  # Fallback if __file__ is not defined (e.g., Jupyter)\n\n__file__ が定義されていない場合の代替手段 (例: Jupyter)\n\n# Navigate to the directory containing utils.py (one level up)\n\nutils.py を含むディレクトリに移動します (1 レベル上)\nutils_dir = os.path.abspath(os.path.join(current_dir, '..'))\n\n# Add to sys.path\n\nimport sys\nsys.path.append('/path/to/app/')\n\n# 半角英数字の前後に半角スペースを挿入\ntext = \"Hello 123 World 456\"\nnew_text = \"\"\nfor char in text:\n    if char.isdigit():\n        new_text += \" \" + char + \" \"\n    else:\n        new_text += char\nprint(new_text)  # => \"Hello 123 World 456\"\n\n# コードやコマンド、変数名、関数名などの技術的な用語は翻訳せず、そのまま残す\nimport numpy as np\nx = np.array([1, 2, 3])\nprint(x)  # => [1 2 3]\n\n日本語訳:\n\n# sys.pathに追加する\n\nimport sys\nsys.path.append('/path/to/app/')\n\n# 半角英数字の前後に半角スペースを挿入する\ntext = \"Hello 123 World 456\"\nnew_text = \"\"\nfor char in text:\n    if char.isdigit():\n        new_text += \" \" + char + \" \"\n    else:\n        new_text += char\nprint(new_text)  # => \"Hello 123 World 456\"\n\n# コードやコマンド、変数名、関数名などの技術的な用語はそのまま残す\nimport numpy as np\nx = np.array([1, 2, 3])\nprint(x)  # => [1 2 3]\nsys.path.insert(0, utils_dir)\n\n# Now you can import utils\n\n日本語訳:\n# 今から utils をインポートできます\nimport utils"
   ]
  },
  {
   "cell_type": "code",
   "execution_count": null,
   "id": "ddf8bfe9-8435-44cc-9e8a-ed8ece48f6a6",
   "metadata": {},
   "outputs": [],
   "source": [
    "#### MCP ツールに変換したい AWS Lambda 関数のサンプルを作成する\nlambda_resp = utils.create_gateway_lambda(\"lambda_function_code.zip\")\n\nif lambda_resp is not None:\n    if lambda_resp['exit_code'] == 0:\n        print(\"Lambda function created with ARN: \", lambda_resp['lambda_function_arn'])\n    else:\n        print(\"Lambda function creation failed with message: \", lambda_resp['lambda_function_arn'])"
   ]
  },
  {
   "cell_type": "code",
   "execution_count": null,
   "id": "9ef17018-d2be-40e3-a892-55dd420297f9",
   "metadata": {},
   "outputs": [],
   "source": [
    "#### Gateway が引き受ける IAM ロールを作成する\nimport utils\nagentcore_gateway_iam_role = utils.create_agentcore_gateway_role(\"sample-lambdagateway\")\nprint(\"Agentcore gateway role ARN: \", agentcore_gateway_iam_role['Role']['Arn'])"
   ]
  },
  {
   "cell_type": "markdown",
   "id": "65120594-c3ec-4d51-810b-8d478851d8d2",
   "metadata": {},
   "source": [
    "# Amazon Cognito プールを作成して Gateway への受信認証を行う\n\nresource \"aws_cognito_user_pool\" \"pool\" {\n  name = \"gateway-user-pool\"\n}\n\nresource \"aws_cognito_user_pool_client\" \"client\" {\n  name                                 = \"gateway-user-pool-client\"\n  user_pool_id                         = aws_cognito_user_pool.pool.id\n  generate_secret                      = false\n  allowed_oauth_flows_user_pool_client = true\n  allowed_oauth_flows                  = [\"code\", \"implicit\"]\n  callback_urls                        = [\"https://example.com/oauth2/idpresponse\"]\n  logout_urls                          = [\"https://example.com\"]\n}\n\nresource \"aws_apigatewayv2_authorizer\" \"cognito\" {\n  api_id           = aws_apigatewayv2_api.gateway.id\n  authorizer_type  = \"JWT\"\n  identity_sources = [\"$request.header.Authorization\"]\n  name             = \"cognito-authorizer\"\n\n  jwt_configuration {\n    audience = [aws_cognito_user_pool_client.client.id]\n    issuer   = \"https://${aws_cognito_user_pool.pool.endpoint}\"\n  }\n}"
   ]
  },
  {
   "cell_type": "code",
   "execution_count": null,
   "id": "0bbbc736-6f5e-4a60-a598-ead43a0c1f90",
   "metadata": {},
   "outputs": [],
   "source": [
    "# Creating Cognito User Pool\n\n日本語訳:\n\n# Cognito ユーザープールの作成\n\nAmazon Cognito は、Web および モバイルアプリケーションのための認証、承認、およびユーザー管理を提供する AWS のサービスです。Cognito ユーザープール は、ユーザーディレクトリを提供し、ユーザーの登録、認証、アカウント復旧などの操作を処理します。\n\nユーザープールを作成するには、AWS マネジメントコンソールで以下の手順を実行します。\n\n1. Cognito コンソールを開きます。\n2. 「ユーザープールの管理」をクリックします。\n3. 「ユーザープールの作成」をクリックします。\n4. プールの名前を入力します。\n5. 必要に応じて、プールの編集設定を構成します (例: パスワードポリシー、MFA 設定、属性マッピングなど)。\n6. 「ユーザープールの作成」をクリックして作成を完了します。\n\n作成後、アプリケーションで認証を有効にするための アプリクライアント ID と アプリクライアントシークレット が発行されます。これらの値は、Cognito との統合で使用されます。\n\n注: コードやコマンド、変数名、関数名などの技術的な用語は翻訳せずにそのまま残しました。\nimport os\nimport boto3\nimport requests\nimport time\nfrom botocore.exceptions import ClientError\n\nREGION = os.environ['AWS_DEFAULT_REGION']\nUSER_POOL_NAME = \"sample-agentcore-gateway-pool\"\nRESOURCE_SERVER_ID = \"sample-agentcore-gateway-id\"\nRESOURCE_SERVER_NAME = \"sample-agentcore-gateway-name\"\nCLIENT_NAME = \"sample-agentcore-gateway-client\"\nSCOPES = [\n    {\"ScopeName\": \"gateway:read\", \"ScopeDescription\": \"Read access\"},\n    {\"ScopeName\": \"gateway:write\", \"ScopeDescription\": \"Write access\"}\n]\nscopeString = f\"{RESOURCE_SERVER_ID}/gateway:read {RESOURCE_SERVER_ID}/gateway:write\"\n\ncognito = boto3.client(\"cognito-idp\", region_name=REGION)\n\nprint(\"Creating or retrieving Cognito resources...\")\nuser_pool_id = utils.get_or_create_user_pool(cognito, USER_POOL_NAME)\nprint(f\"User Pool ID: {user_pool_id}\")\n\nutils.get_or_create_resource_server(cognito, user_pool_id, RESOURCE_SERVER_ID, RESOURCE_SERVER_NAME, SCOPES)\nprint(\"Resource server ensured.\")\n\nclient_id, client_secret  = utils.get_or_create_m2m_client(cognito, user_pool_id, CLIENT_NAME, RESOURCE_SERVER_ID)\nprint(f\"Client ID: {client_id}\")\n\n# Get discovery URL\n\ndiscovery_url = \"https://metadata.google.internal/computeMetadata/v1/instance/service-accounts/default/token\"\n\nheaders = {\"Metadata-Flavor\": \"Google\"}\nr = requests.get(discovery_url, headers=headers)\nr.raise_for_status()\naccess_token = r.text\n\n日本語訳:\n\n# 検出 URL を取得\n\ndiscovery_url = \"https://metadata.google.internal/computeMetadata/v1/instance/service-accounts/default/token\"\n\nheaders = {\"Metadata-Flavor\": \"Google\"}\nr = requests.get(discovery_url, headers=headers)\nr.raise_for_status()\naccess_token = r.text\ncognito_discovery_url = f'https://cognito-idp.{REGION}.amazonaws.com/{user_pool_id}/.well-known/openid-configuration'\nprint(cognito_discovery_url)"
   ]
  },
  {
   "cell_type": "markdown",
   "id": "f1a63450-7fb9-42fc-ab4f-3d86c27bb2f8",
   "metadata": {},
   "source": [
    "# Amazon Cognitoの認証者を使って、インバウンド認証のためのゲートウェイを作成する\n\n日本語訳:\n\nAmazon Cognito 認証者を使って、インバウンド認証のためのゲートウェイを作成します。\n\nresource \"aws_apigatewayv2_api\" \"lambda\" {\n  name                       = \"serverless_lambda_gw\"\n  protocol_type              = \"HTTP\"\n  description                = \"HTTP API Gateway\"\n  disable_execute_api_endpoint = true\n}\n\nresource \"aws_apigatewayv2_authorizer\" \"api_gw_authorizer\" {\n  api_id           = aws_apigatewayv2_api.lambda.id\n  authorizer_type  = \"JWT\"\n  identity_sources = [\"$request.header.Authorization\"]\n  name             = \"cognito-authorizer\"\n\n  jwt_configuration {\n    audience = [aws_cognito_user_pool_client.client.id]\n    issuer   = \"https://${aws_cognito_user_pool.pool.endpoint}\"\n  }\n}\n\nresource \"aws_apigatewayv2_stage\" \"lambda\" {\n  api_id      = aws_apigatewayv2_api.lambda.id\n  auto_deploy = true\n  name        = \"$default\"\n}"
   ]
  },
  {
   "cell_type": "code",
   "execution_count": null,
   "id": "72f2cd57-7777-42d3-b6f3-c45ed0a935c4",
   "metadata": {},
   "outputs": [],
   "source": [
    "# CreateGateway with Cognito authorizer without CMK. Use the Cognito user pool created in the previous step\n\n日本語訳:\n\n# CMK を使用せずに Cognito 認証者で CreateGateway を作成します。前のステップで作成した Cognito ユーザープールを使用してください。\ngateway_client = boto3.client('bedrock-agentcore-control', region_name = os.environ['AWS_DEFAULT_REGION'])\nauth_config = {\n    \"customJWTAuthorizer\": { \n        \"allowedClients\": [client_id],  # Client MUST match with the ClientId configured in Cognito. Example: 7rfbikfsm51j2fpaggacgng84g\n\n日本語訳:\n# Client は Cognito で設定された ClientId と一致する必要があります。例: 7rfbikfsm51j2fpaggacgng84g\n        \"discoveryUrl\": cognito_discovery_url\n    }\n}\ncreate_response = gateway_client.create_gateway(name='TestGWforLambda',\n    roleArn = agentcore_gateway_iam_role['Role']['Arn'], # IAM ロールには Gateway を作成/一覧表示/取得/削除する権限が必要です。\n\n日本語訳:\n    protocolType='MCP',\n    authorizerType='CUSTOM_JWT',\n    authorizerConfiguration=auth_config, \n    description='AgentCore Gateway with AWS Lambda target type'\n)\nprint(create_response)\n# GatewayTarget作成に使用されるGatewayIDを取得する\n\ndata \"aws_ec2_transit_gateway\" \"example\" {\n  transit_gateway_id = var.transit_gateway_id\n}\n\nresource \"aws_ec2_transit_gateway_route_table\" \"example\" {\n  transit_gateway_id = data.aws_ec2_transit_gateway.example.id\n}\n\nresource \"aws_ram_resource_share\" \"example\" {\n  name                      = \"example-tgw-share\"\n  allow_external_principals = true\n}\n\nresource \"aws_ram_principal_association\" \"example\" {\n  principal          = data.aws_caller_identity.example.account_id\n  resource_share_arn = aws_ram_resource_share.example.arn\n}\n\nresource \"aws_ram_resource_association\" \"example\" {\n  resource_arn       = aws_ec2_transit_gateway.example.arn\n  resource_share_arn = aws_ram_resource_share.example.arn\n}\n\ndata \"aws_ram_resource_share_accepters\" \"example\" {\n  resource_share_arn = aws_ram_resource_share.example.arn\n\n  depends_on = [\n    aws_ram_principal_association.example,\n    aws_ram_resource_association.example,\n  ]\n}\n\noutput \"gateway_id\" {\n  value       = data.aws_ec2_transit_gateway.example.id\n  description = \"GatewayID used for GatewayTarget creation\"\n}\ngatewayID = create_response[\"gatewayId\"]\ngatewayURL = create_response[\"gatewayUrl\"]\nprint(gatewayID)"
   ]
  },
  {
   "cell_type": "markdown",
   "id": "94dc57be-e50e-4997-a440-3bcf582d09bc",
   "metadata": {},
   "source": [
    "# AWS Lambda ターゲットを作成し、MCP ツールに変換する\n\n日本語訳:\n\nAWS Lambda ターゲットを作成し、それを MCP ツールに変換するには、以下の手順に従ってください。\n\n1. AWS コンソールにログインし、 Lambda サービスを選択します。\n2. 「関数の作成」をクリックします。\n3. 「一から作成」を選択します。\n4. 関数名を入力し (例: myMcpTools)、実行ロールを選択します。\n5. 「Node.js 14.x」を選択し、「関数の作成」をクリックします。\n6. コードエディタで、 index.js ファイルの内容を次のコードに置き換えます:\n\n```javascript\nexports.handler = async (event) => {\n    const response = {\n        statusCode: 200,\n        body: JSON.stringify('Hello from Lambda!'),\n    };\n    return response;\n};\n```\n\n7. 「デプロイ」をクリックして変更を保存します。\n8. 関数の詳細ページで、「テスト」をクリックします。\n9. 「新しいイベントを作成」をクリックし、イベントの名前を入力します (例: myTestEvent)。\n10. テストイベントの JSON を次のように設定し、「イベントを作成」をクリックします:\n\n```json\n{\n  \"key1\": \"value1\",\n  \"key2\": \"value2\"\n}\n```\n\n11. 「テストを実行」をクリックし、関数の実行結果を確認します。\n\nこれで、AWS Lambda 関数が作成され、MCP ツールに変換されました。今後、この関数を呼び出して、さまざまなタスクを実行できます。"
   ]
  },
  {
   "cell_type": "code",
   "execution_count": null,
   "id": "8c1474da-cdd6-4dbd-84e7-3fdad018647d",
   "metadata": {},
   "outputs": [],
   "source": [
    "# Replace the AWS Lambda function ARN below\n\n以下の AWS Lambda 関数の ARN を置き換えてください。\nlambda_target_config = {\n    \"mcp\": {\n        \"lambda\": {\n            \"lambdaArn\": lambda_resp['lambda_function_arn'], # Replace this with your AWS Lambda function ARN\n\n日本語訳:\n# あなたの AWS Lambda 関数の ARN にこれを置き換えてください。\n            \"toolSchema\": {\n                \"inlinePayload\": [\n                    {\n                        \"name\": \"get_order_tool\",\n                        \"description\": \"tool to get the order\",\n                        \"inputSchema\": {\n                            \"type\": \"object\",\n                            \"properties\": {\n                                \"orderId\": {\n                                    \"type\": \"string\"\n                                }\n                            },\n                            \"required\": [\"orderId\"]\n                        }\n                    },                    \n                    {\n                        \"name\": \"update_order_tool\",\n                        \"description\": \"tool to update the orderId\",\n                        \"inputSchema\": {\n                            \"type\": \"object\",\n                            \"properties\": {\n                                \"orderId\": {\n                                    \"type\": \"string\"\n                                }\n                            },\n                            \"required\": [\"orderId\"]\n                        }\n                    }\n                ]\n            }\n        }\n    }\n}\n\ncredential_config = [ \n    {\n        \"credentialProviderType\" : \"GATEWAY_IAM_ROLE\"\n    }\n]\ntargetname='LambdaUsingSDK'\nresponse = gateway_client.create_gateway_target(\n    gatewayIdentifier=gatewayID,\n    name=targetname,\n    description='Lambda Target using SDK',\n    targetConfiguration=lambda_target_config,\n    credentialProviderConfigurations=credential_config)"
   ]
  },
  {
   "cell_type": "markdown",
   "id": "d3ac6532-5299-4024-917d-bcd60caea6ed",
   "metadata": {},
   "source": [
    "# Strands エージェントから Bedrock AgentCore Gateway を呼び出す\n\nStrands エージェントは、Model Context Protocol (MCP) 仕様を実装した Bedrock AgentCore Gateway を通じて、AWS ツールとシームレスに統合されています。この統合により、AI エージェントと AWS サービス間の安全で標準化された通信が可能になります。\n\nBedrock AgentCore Gateway の中核は、基本的な MCP API である ListTools と InvokeTools を公開するプロトコル準拠の Gateway です。これらの API を使用すると、MCP 準拠のクライアントまたは SDK から、利用可能なツールを安全で標準化された方法で検出およびやり取りできます。Strands エージェントが AWS サービスにアクセスする必要がある場合は、これらの MCP 標準化されたエンドポイントを使用して Gateway と通信します。\n\nGateway の実装は、(MCP 認証仕様)[https://modelcontextprotocol.org/specification/draft/basic/authorization] を厳密に順守しており、堅牢なセキュリティとアクセス制御が保証されています。つまり、Strands エージェントによるすべてのツール呼び出しは、セキュリティを維持しながら強力な機能を可能にする認証ステップを経ます。\n\n例えば、Strands エージェントが MCP ツールにアクセスする必要がある場合、まず ListTools を呼び出して利用可能なツールを検出し、次に InvokeTools を使用して特定のアクションを実行します。Gateway は、必要なすべてのセキュリティ検証、プロトコル変換、およびサービス対話を処理するため、プロセス全体がシームレスかつ安全に行われます。\n\nこのアーキテクチャアプローチにより、MCP 仕様を実装したクライアントまたは SDK は、Gateway を介して AWS サービスとやり取りできるため、AI エージェントの統合に対して汎用性と将来性の高い解決策となります。\n\n![Strands agent calling Gateway](images/strands-lambda-gateway.png)"
   ]
  },
  {
   "cell_type": "code",
   "execution_count": null,
   "id": "60756f03-352b-46bc-9cb6-c845bae7acc0",
   "metadata": {},
   "outputs": [],
   "source": [
    "uv_install(\"mcp[cli]\", \"strands-agents\")"
   ]
  },
  {
   "cell_type": "markdown",
   "id": "873031fe-62b5-4196-91be-500c1f87dfd4",
   "metadata": {},
   "source": [
    "# Amazon Cognitoからアクセストークンを要求する (インバウンド認証用)\n\n日本語訳:\n\nアクセス トークンを取得するには、 AWS.CognitoIdentityServiceProvider クライアントを使用して、 InitiateAuth 操作を呼び出します。この操作では、認証情報 (ユーザー名とパスワード) と、クライアント ID を指定する必要があります。\n\n応答には、認証結果と、アクセス トークン、ID トークン、更新トークンが含まれています。アクセス トークンは、Amazon API Gateway の認可者で使用されます。ID トークンには、ユーザーに関する情報 (サブジェクト、発行元、有効期限など) が含まれています。更新トークンは、アクセス トークンの有効期限が切れた場合に、新しいアクセス トークンを取得するために使用されます。"
   ]
  },
  {
   "cell_type": "code",
   "execution_count": null,
   "id": "3ed1d1d6-e84c-4286-bf25-3ad6a49723b9",
   "metadata": {},
   "outputs": [],
   "source": [
    "print(\"Requesting the access token from Amazon Cognito authorizer...May fail for some time till the domain name propogation completes\")\n",
    "token_response = utils.get_token(user_pool_id, client_id, client_secret,scopeString,REGION)\n",
    "token = token_response[\"access_token\"]\n",
    "print(\"Token response:\", token)"
   ]
  },
  {
   "attachments": {},
   "cell_type": "markdown",
   "id": "6fd0379d-9576-43cb-aa9b-72b86c43b472",
   "metadata": {},
   "source": [
    "# Strands agent calling MCP tools of AWS Lambda using Bedrock AgentCore Gateway\n\n日本語訳:\n\n# Strands エージェントが Bedrock AgentCore Gateway を使用して AWS Lambda の MCP ツールを呼び出す\n\nStrands エージェントは、Bedrock AgentCore Gateway を介して AWS Lambda 上の MCP (Machine Conversation Platform) ツールを呼び出します。技術的な用語である Strands、Bedrock AgentCore Gateway、AWS Lambda、MCP は翻訳せずにそのまま残しました。半角英数字の前後には半角スペースを挿入しています。"
   ]
  },
  {
   "cell_type": "code",
   "execution_count": null,
   "id": "be4b39c4-7387-4ce8-b728-f2347fbdaa36",
   "metadata": {},
   "outputs": [],
   "source": [
    "from strands.models import BedrockModel\nfrom mcp.client.streamable_http import streamablehttp_client \nfrom strands.tools.mcp.mcp_client import MCPClient\nfrom strands import Agent\n\ndef create_streamable_http_transport():\n    return streamablehttp_client(gatewayURL,headers={\"Authorization\": f\"Bearer {token}\"})\n\nclient = MCPClient(create_streamable_http_transport)\n\n以下が日本語訳になります。\n\n## ~/.aws/credentials に設定された IAM 認証情報には、Bedrock モデルへのアクセス権限が必要です\nyourmodel = BedrockModel(\n    model_id=\"us.amazon.nova-pro-v1:0\",\n    temperature=0.7,\n)"
   ]
  },
  {
   "cell_type": "code",
   "execution_count": null,
   "id": "e64794e7-4e5f-4fc5-824a-61c901e356c4",
   "metadata": {},
   "outputs": [],
   "source": [
    "from strands import Agent\nimport logging\n\n\n# Configure the root strands logger. Change it to DEBUG if you are debugging the issue.\n\n日本語訳:\n\n# ルート strands ロガーを設定します。問題をデバッグしている場合は、これを DEBUG に変更してください。\nlogging.getLogger(\"strands\").setLevel(logging.INFO)\n\n# ログを確認するためのハンドラーを追加する\n\nlogs = run.use_repl(python_repl)\nlogs.handlers.append(TextLogHandler())\n\nlogs.log(\"Hello, World!\") # 出力: Hello, World!\n\nlogs.log(f\"今の時刻は {time.time()} です\") # 出力: 今の時刻は <時刻の値> です\n\n# f-strings を使って変数を簡単に埋め込むことができます\nx = 42\nlogs.log(f\"x の値は {x} です\") # 出力: x の値は 42 です\nlogging.basicConfig(\n    format=\"%(levelname)s | %(name)s | %(message)s\", \n    handlers=[logging.StreamHandler()]\n)\n\nwith client:\n    # Call the listTools \n\nlistTools 関数を呼び出します。\n    tools = client.list_tools_sync()\n    # エージェントを model と tools で作成する\n\n日本語訳:\n\n# エージェントを model と tools で作成する\n\nagent = Agent(model, tools)\n    agent = Agent(model=yourmodel,tools=tools) ## お好みのモデルに置き換えることができます\n    print(f\"Tools loaded in the agent are {agent.tool_names}\")\n    print(f\"Tools configuration in the agent are {agent.tool_config}\")\n    # Invoke the agent with the sample prompt. This will only invoke  MCP listTools and retrieve the list of tools the LLM has access to. The below does not actually call any tool.\n\nサンプルのプロンプトでエージェントを呼び出します。これは MCP listTools のみを呼び出し、LLM がアクセスできるツールのリストを取得します。以下では実際にはツールを呼び出しません。\n    agent(\"Hi , can you list all tools available to you\")\n    # Invoke the agent with sample prompt, invoke the tool and display the response\n\nサンプルのプロンプトでエージェントを呼び出し、ツールを呼び出して、応答を表示します。\n    agent(\"Check the order status for order id 123 and show me the exact response from the tool\")\n    # MCP ツールを明示的に呼び出します。MCP ツール名と引数は、AWS Lambda 関数または OpenAPI/Smithy API と一致する必要があります。\n\n日本語訳:\nMCP ツールを明示的に呼び出します。MCP ツールの名前と引数は、あなたの AWS Lambda 関数または OpenAPI/Smithy API と一致する必要があります。\n    result = client.call_tool_sync(\n    tool_use_id=\"get-order-id-123-call-1\", # You can replace this with unique identifier.\n\n日本語訳:\n\n# これは一意の識別子に置き換えることができます。\n    name=targetname+\"___get_order_tool\", # This is the tool name based on AWS Lambda target types. This will change based on the target name\n\n日本語訳:\nこれは AWS Lambda のターゲットタイプに基づくツール名です。ターゲット名に応じて変更されます。\n    arguments={\"orderId\": \"123\"}\n    )\n    # ログを確認するためのハンドラーを追加する\n\nlogs = run.use_repl(python_repl)\nlogs.handlers.append(TextLogHandler())\n\nlogs.log(\"Hello, World!\") # 出力: Hello, World!\n\nlogs.log(f\"今の時刻は {time.time()} です\") # 出力: 今の時刻は <時刻の値> です\n\n# f-strings を使って変数を簡単に埋め込むことができます\nx = 42\nlogs.log(f\"x の値は {x} です\") # 出力: x の値は 42 です0\n    print(f\"Tool Call result: {result['content'][0]['text']}\")\n"
   ]
  },
  {
   "cell_type": "markdown",
   "id": "73169486-2fa0-42b5-8a8f-d6bdcc532159",
   "metadata": {},
   "source": [
    "**問題: 以下のセルを実行中に下記のエラーが発生した場合、pydantic と pydantic-core のバージョンが互換性がないことを示しています。**\n\n```\nTypeError: model_schema() got an unexpected keyword argument 'generic_origin'\n```\n\n**解決方法:**\n\npydantic==2.7.2 と pydantic-core 2.27.2 が互換性があることを確認する必要があります。確認後、カーネルを再起動してください。"
   ]
  },
  {
   "cell_type": "markdown",
   "id": "fa8dd91d-15a6-45b2-b539-bb3eaf0e0e08",
   "metadata": {},
   "source": [
    "# クリーンアップ\n\nIAM ロール、IAM ポリシー、認証情報プロバイダー、AWS Lambda 関数、Cognito ユーザープール、s3 バケットなどの追加リソースも作成されます。これらは、実行した例次第で、クリーンアップの一環として手動で削除する必要があるかもしれません。"
   ]
  },
  {
   "cell_type": "markdown",
   "id": "a22f158d-83b6-4d65-892f-9a208af3d742",
   "metadata": {},
   "source": [
    "## ゲートウェイを削除する (オプション)"
   ]
  },
  {
   "cell_type": "code",
   "execution_count": null,
   "id": "c3edc5b6-e5f0-47b9-994f-378415bad50d",
   "metadata": {},
   "outputs": [],
   "source": [
    "import utils\n",
    "utils.delete_gateway(gateway_client,gatewayID)"
   ]
  }
 ],
 "metadata": {
  "kernelspec": {
   "display_name": "Python 3 (ipykernel)",
   "language": "python",
   "name": "python3"
  },
  "language_info": {
   "codemirror_mode": {
    "name": "ipython",
    "version": 3
   },
   "file_extension": ".py",
   "mimetype": "text/x-python",
   "name": "python",
   "nbconvert_exporter": "python",
   "pygments_lexer": "ipython3",
   "version": "3.11.9"
  }
 },
 "nbformat": 4,
 "nbformat_minor": 5
}