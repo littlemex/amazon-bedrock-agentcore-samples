{
 "cells": [
  {
   "cell_type": "markdown",
   "id": "4ba51a29-a566-4b5a-97f0-10e634567e40",
   "metadata": {
    "collapsed": true,
    "jupyter": {
     "outputs_hidden": true
    }
   },
   "source": [
    "# OpenAPI APIをBedrock AgentCore Gatewayを使ってMCPツールに変換する\n\n## 概要\nBedrock AgentCore Gatewayは、お客様が既存のAPIを完全に管理されたMCPサーバーに変換できるようにする方法を提供します。インフラストラクチャやホスティングを管理する必要はありません。お客様はOpenAPI仕様をJSONまたはYAMLで持ち込むことができます。OAuth2で保護されたエンタープライズサポートAPIを使用する顧客サービスエージェントを実演します。\n\nGatewayのワークフローには、エージェントを外部ツールに接続するための以下のステップが含まれます:\n* **Gatewayのツールを作成する** - OpenAPI仕様などのスキーマを使用してツールを定義します。OpenAPI仕様は、Amazon Bedrock AgentCoreによってパースされ、Gatewayが作成されます。\n* **Gatewayエンドポイントを作成する** - 受信認証付きのMCPエントリポイントとしてゲートウェイを作成します。\n* **Gatewayにターゲットを追加する** - ゲートウェイがリクエストを特定のツールにルーティングする方法を定義するOpenAPIターゲットを構成します。OpenAPIファイルの一部のすべてのAPIはMCP互換のツールになり、Gatewayエンドポイント URL を介して利用可能になります。各OpenAPI Gatewayターゲットに対して、OAuthを使用した送信認証を構成します。\n* **エージェントコードを更新する** - エージェントをGatewayエンドポイントに接続して、統一されたMCPインターフェースを介してすべての構成済みツールにアクセスします。\n\n![動作の仕組み](images/openapis-oauth-gateway.png)\n\n### チュートリアルの詳細\n\n| 情報                 | 詳細                                                      |\n|:---------------------|:----------------------------------------------------------|\n| チュートリアルの種類 | インタラクティブ                                          |\n| AgentCoreコンポーネント | AgentCore Gateway、AgentCore Identity                    |\n| Agentic Framework    | Strands Agent                                             |\n| ゲートウェイターゲットの種類 | OpenAPI                                                  |\n| エージェント         | カスタマーサポートエージェント                            |\n| 受信認証IdP          | Okta                                                     |\n| 送信認証             | OAuth                                                    |\n| LLMモデル            | Anthropic Claude Sonnet 3.7、Amazon Nova Pro             |\n| チュートリアルコンポーネント | AgentCore Gatewayの作成とAgentCore Gatewayの呼び出し     |\n| チュートリアルの分野 | 分野横断                                                 |\n| 例の複雑さ           | 簡単                                                     |\n| 使用したSDK          | boto3                                                    |\n\nチュートリアルの最初の部分では、いくつかのAmazonCore Gatewayターゲットを作成します。\n\n### チュートリアルのアーキテクチャ\nこのチュートリアルでは、OpenAPI yaml/jsonファイルで定義された操作をMCPツールに変換し、Bedrock AgentCore Gatewayでホストします。\nデモの目的で、サポートチケットに関する質問に答えるカスタマーサポートエージェントを構築します。このエージェントはZendeskサポートAPIのOpenAPIを使用します。この解決策では、Amazon Bedrock モデルを使用するLangchainエージェントを使用しています。"
   ]
  },
  {
   "cell_type": "markdown",
   "id": "5362e1ad-f027-4452-a8d9-0b861c0115c2",
   "metadata": {},
   "source": [
    "## 前提条件\n\nこのチュートリアルを実行するには、以下が必要です。\n* Python 3.10+ の Jupyter notebook\n* uv\n* AWS 認証情報\n* Okta\n    - client_id\n    - client_secret\n    - Okta ドメイン (例: dev-123456.okta.com)\n    - OAuth2 認可サーバー ID (通常はデフォルト)"
   ]
  },
  {
   "cell_type": "code",
   "execution_count": null,
   "id": "a17e1d70-9a76-42ce-b1ac-1c3a0bf4d12c",
   "metadata": {},
   "outputs": [],
   "source": [
    "# Make sure you download the latest botocore and boto3 libraries.\n\n日本語訳:\n\n最新の botocore と boto3 ライブラリをダウンロードしていることを確認してください。\nimport shutil\nimport subprocess\nimport sys\n\ndef ensure_uv_installed():\n    if shutil.which(\"uv\") is None:\n        print(\"🔧 'uv' not found. Installing with pip...\")\n        subprocess.check_call([sys.executable, \"-m\", \"pip\", \"install\", \"uv\"])\n    else:\n        print(\"✅ 'uv' is already installed.\")\n\ndef uv_install(*packages):\n    ensure_uv_installed()\n    uv_path = shutil.which(\"uv\")\n    print(f\"📦 Installing {', '.join(packages)} using uv...\")\n    subprocess.check_call([uv_path, \"pip\", \"install\", *packages])\n\nuv_install(\"botocore\", \"boto3\")"
   ]
  },
  {
   "cell_type": "code",
   "execution_count": null,
   "id": "a4e6248d-b740-418b-ae0d-c0a9623e43e1",
   "metadata": {},
   "outputs": [],
   "source": [
    "# Set AWS credentials if not using SageMaker notebooks\n\nSageMaker ノートブックを使用していない場合は、以下の手順で AWS 認証情報を設定します。\nimport os\nos.environ['AWS_ACCESS_KEY_ID'] = ''\nos.environ['AWS_SECRET_ACCESS_KEY'] = ''\nos.environ['AWS_DEFAULT_REGION'] = 'us-east-1'"
   ]
  },
  {
   "cell_type": "code",
   "execution_count": null,
   "id": "64829bf6-fba1-4d02-8bbf-451fc5deecc8",
   "metadata": {},
   "outputs": [],
   "source": [
    "import os\nimport sys\n\n# Get the directory of the current script\n\n現在のスクリプトのディレクトリを取得します。\n\nscript_dir = os.path.dirname(os.path.abspath(__file__))\n\n日本語訳:\n\n# 現在のスクリプトのディレクトリを取得します\n\nscript_dir = os.path.dirname(os.path.abspath(__file__))\nif '__file__' in globals():\n    current_dir = os.path.dirname(os.path.abspath(__file__))\nelse:\n    current_dir = os.getcwd()  # Fallback if __file__ is not defined (e.g., Jupyter)\n\n日本語訳:\n# __file__ が定義されていない場合の代替手段 (例: Jupyter)\n\n# Navigate to the directory containing utils.py (one level up)\n\nutils.py を含むディレクトリに移動します (1 レベル上)\nutils_dir = os.path.abspath(os.path.join(current_dir, '../..'))\n\n# Add to sys.path\n\nimport sys\nsys.path.append('/path/to/app/')\n\n# 半角英数字の前後に半角スペースを挿入\ntext = \"Hello 123 World 456\"\nnew_text = \"\"\nfor char in text:\n    if char.isdigit():\n        new_text += \" \" + char + \" \"\n    else:\n        new_text += char\nprint(new_text)  # => \"Hello 123 World 456\"\n\n# コードやコマンド、変数名、関数名などの技術的な用語は翻訳せず、そのまま残す\nimport numpy as np\nx = np.array([1, 2, 3])\nprint(x)  # => [1 2 3]\n\n日本語訳:\n\n# sys.pathに追加する\n\nimport sys\nsys.path.append('/path/to/app/')\n\n# 半角英数字の前後に半角スペースを挿入する\ntext = \"Hello 123 World 456\"\nnew_text = \"\"\nfor char in text:\n    if char.isdigit():\n        new_text += \" \" + char + \" \"\n    else:\n        new_text += char\nprint(new_text)  # => \"Hello 123 World 456\"\n\n# コードやコマンド、変数名、関数名などの技術的な用語はそのまま残す\nimport numpy as np\nx = np.array([1, 2, 3])\nprint(x)  # => [1 2 3]\nsys.path.insert(0, utils_dir)\n\n# Now you can import utils\n\n日本語訳:\n# 今から utils をインポートできます\nimport utils"
   ]
  },
  {
   "cell_type": "code",
   "execution_count": null,
   "id": "10518aa1-3ac3-4610-a0cc-39c9c2eafe2c",
   "metadata": {},
   "outputs": [],
   "source": [
    "#### Gateway が引き受ける IAM ロールを作成する\nimport utils\n\nagentcore_gateway_iam_role = utils.create_agentcore_gateway_role(\"sample-lambdagateway\")\nprint(\"Agentcore gateway role ARN: \", agentcore_gateway_iam_role['Role']['Arn'])"
   ]
  },
  {
   "cell_type": "markdown",
   "id": "65120594-c3ec-4d51-810b-8d478851d8d2",
   "metadata": {},
   "source": [
    "# Gateway への受信認証のための Okta の設定\n\nOkta OAuth 認可者を作成するための手順は以下の通りです。\n\n* [ここ](https://developer.okta.com/docs/guides/implement-grant-type/clientcreds/main/) の手順に従い、クライアント資格情報付与タイプのアプリケーションを作成します。Okta サブスクリプションをお持ちの場合は、管理コンソールにログインし、[ここ](https://developer.okta.com/docs/guides/implement-grant-type/clientcreds/main/) で概説されている手順に従ってください。Okta サブスクリプションをお持ちでない場合は、無料トライアルに登録する必要があります。\n* 管理 -> アプリケーション -> クライアントシークレットを持つクライアントを作成します。トークン要求で Demonstrating Proof of Possession (DPoP) ヘッダーを要求しない設定にします。\n* Okta 管理 -> セキュリティ -> API に移動します。デフォルトの認可サーバーを使用し、追加のスコープ (InvokeGateway など) で変更します。オプションでアクセスポリシーとクレームを追加できます。\n* カスタムスコープを定義します。認可サーバー名をクリックし、[Scopes] タブに移動し、[Add Scope] をクリックします。\n* 設定が完了したら、デフォルトの認可サーバー (別名 Discovery URI) の Metadata URI と ClientID/Secret が必要になります。これらは以下のように Gateway のカスタム JWT 認可者を設定するために使用します。"
   ]
  },
  {
   "cell_type": "markdown",
   "id": "f1a63450-7fb9-42fc-ab4f-3d86c27bb2f8",
   "metadata": {},
   "source": [
    "# Okta認証者による受信認証を使ってGatewayを作成する\n\n日本語訳:\nOkta 認証者を使って受信認証を行う Gateway を作成します。 resource \"aws_apigatewayv2_api\" \"lambda\" {\n  名前                   = \"serverless_lambda_gw\"\n  プロトコルタイプ         = \"HTTP\"\n}\n\nresource \"aws_apigatewayv2_stage\" \"lambda\" {\n  api_id = aws_apigatewayv2_api.lambda.id\n  名前        = \"$default\"\n  自動デプロイ = true\n\n  access_log_settings {\n    destination_arn = aws_cloudwatch_log_group.api_gw.arn\n    format = jsonencode({\n      requestId               = \"$context.requestId\"\n      sourceIp                = \"$context.identity.sourceIp\"\n      requestTime             = \"$context.requestTime\"\n      protocol                = \"$context.protocol\"\n      httpMethod              = \"$context.httpMethod\"\n      resourcePath            = \"$context.resourcePath\"\n      status                  = \"$context.status\"\n      responseLength          = \"$context.responseLength\"\n      integrationErrorMessage = \"$context.integrationErrorMessage\"\n    })\n  }\n}\n\nresource \"aws_apigatewayv2_authorizer\" \"lambda\" {\n  api_id           = aws_apigatewayv2_api.lambda.id\n  authorizer_type  = \"JWT\"\n  identity_sources = [\"$request.header.Authorization\"]\n  名前              = \"auth\"\n\n  jwt_configuration {\n    audience = [var.audience]\n    issuer   = \"https://${var.aws_region}.oktapreview.com/oauth2/default\"\n  }\n}\n\n技術的な用語は翻訳せずにそのまま残しました。半角英数字の前後には半角スペースを挿入しています。"
   ]
  },
  {
   "cell_type": "code",
   "execution_count": null,
   "id": "72f2cd57-7777-42d3-b6f3-c45ed0a935c4",
   "metadata": {},
   "outputs": [],
   "source": [
    "import boto3\nfrom pprint import pprint\ngateway_client = boto3.client('bedrock-agentcore-control', region_name = os.environ['AWS_DEFAULT_REGION'])\n\nOKTA_DISCOVERY_URL=\"https://<YOUR OKTA DOMAIN>/oauth2/<Your app>/.well-known/openid-configuration\"\nOKTA_AUDIENCE=\"<Your audience>\" # e.g. MCPGateway. It should match with your configuration in Okta\n\n日本語訳:\n\n# 例えば MCPGateway です。これは Okta の設定と一致する必要があります。\n\nauth_config = {\n        \"customJWTAuthorizer\": {\n            \"allowedAudience\": [OKTA_AUDIENCE],\n            \"discoveryUrl\": OKTA_DISCOVERY_URL\n        }\n}\ncreate_response = gateway_client.create_gateway(name='OpenAPIOktaGwy2',\n    roleArn = agentcore_gateway_iam_role['Role']['Arn'], # IAM ロールには Gateway を作成/一覧表示/取得/削除する権限が必要です\n\n日本語訳:\n\nIAM ロールには Gateway を 作成 / 一覧表示 / 取得 / 削除 する権限が必要です。\n    protocolType='MCP',\n    authorizerType='CUSTOM_JWT',\n    authorizerConfiguration=auth_config, \n    description='AgentCore Gateway created from sdk with Okta Authorizer'\n)\npprint(create_response)\n# GatewayTargetの作成に使用されるGatewayIDを取得する\n\ndata \"aws_ec2_transit_gateway\" \"example\" {\n  transit_gateway_id = var.transit_gateway_id\n}\n\nresource \"aws_ec2_transit_gateway_route_table\" \"example\" {\n  transit_gateway_id = data.aws_ec2_transit_gateway.example.id\n}\n\nresource \"aws_ram_resource_share\" \"example\" {\n  name                      = \"example-tgw-share\"\n  allow_external_principals = true\n}\n\nresource \"aws_ram_principal_association\" \"example\" {\n  principal          = data.aws_caller_identity.example.account_id\n  resource_share_arn = aws_ram_resource_share.example.arn\n}\n\nresource \"aws_ram_resource_association\" \"example\" {\n  resource_arn       = aws_ec2_transit_gateway.example.arn\n  resource_share_arn = aws_ram_resource_share.example.arn\n}\n\n# GatewayIDはこの値を使用してください\noutput \"gateway_id\" {\n  value = data.aws_ec2_transit_gateway.example.id\n}\ngatewayID = create_response[\"gatewayId\"]\ngatewayURL = create_response[\"gatewayUrl\"]"
   ]
  },
  {
   "cell_type": "markdown",
   "id": "1345c920-3921-40c7-9c00-110e8d02184b",
   "metadata": {},
   "source": [
    "# Transforming Zendesk support APIs into MCP tools using Bedrock AgentCore Gateway\n\nベッドロック AgentCore ゲートウェイを使用して、Zendesk サポート API を MCP ツールに変換する\n\nZendesk サポート API は、顧客サポートチームが顧客からのリクエストを管理するのに役立ちます。しかし、これらの API を直接使用するのは複雑で時間がかかる可能性があります。ベッドロック AgentCore ゲートウェイを使用すると、Zendesk API を簡単に MCP ツールに変換できます。\n\n1. ゲートウェイを起動し、 zendesk_config.json 構成ファイルをロードします。\n2. zendesk_tool.js スクリプトを実行して、 Zendesk API にアクセスします。\n3. get_tickets 関数を呼び出して、新しいチケットを取得します。\n4. process_ticket 関数を呼び出して、各チケットを処理します。\n5. update_ticket 関数を呼び出して、チケットの状態を更新します。\n\nこの方法で、Zendesk API の複雑さを隠し、簡単に MCP ツールから利用できます。AgentCore ゲートウェイは、他の API にも適用でき、ツールの開発を簡素化します。"
   ]
  },
  {
   "cell_type": "markdown",
   "id": "8ea26177-4637-4b1f-82bd-6d65bfe8dc85",
   "metadata": {},
   "source": [
    "### 発信認証資格情報プロバイダーを作成する\n\n日本語訳:\n\nKubernetes クラスターで外部サービスに接続するために、発信認証資格情報を作成する必要があります。これは、 `aws-auth` ConfigMap を編集することで行えます。\n\n1. クラスターの `aws-auth` ConfigMap を編集します。\n\n```\nkubectl edit -n kube-system configmap/aws-auth\n```\n\n2. `mapRoles` エントリに、以下のようなマッピングを追加します。\n\n```yaml\nmapRoles: |\n  - rolearn: <ARN of IAM role>\n    username: system:node:{{EC2PrivateDNSName}}\n    groups:\n      - system:bootstrappers\n      - system:nodes\n```\n\n`rolearn` の値は、ノードインスタンスロールの ARN に置き換えてください。 `username` と `groups` の値はそのまま残してください。\n\n3. ファイルを保存して終了します。\n\nこれで、ノードはクラスター内の IAM 認証情報を使用して AWS リソースに安全にアクセスできるようになります。"
   ]
  },
  {
   "cell_type": "code",
   "execution_count": null,
   "id": "64caa620-02ec-424a-a8b9-eb00b39289bf",
   "metadata": {},
   "outputs": [],
   "source": [
    "from botocore.config import Config\nZENDESK_DOMAIN=\"<Zendek domain url>\"\nZENDESK_AUTH_ENDPOINT=\"https://<Zendeskl-domain>/oauth/authorizations/new\"\nZENDESK_TOKEN_ENDPOINT=\"https://<Zendesk-domain>/oauth/tokens\"\nZENDESK_CLIENT_ID=\"\" # Your Zendesk OAuth client - client id\n\n日本語訳:\n\n# あなたの Zendesk OAuth クライアント - クライアント ID\nZENDESK_SECRET=\"\"  # Your Zendesk OAuth client - client id\n\n日本語訳:\n\n# あなたの Zendesk OAuth クライアント - クライアント ID\n\nsdk_config = Config(\n    region_name=os.environ['AWS_DEFAULT_REGION'],\n    retries={\"max_attempts\": 2, \"mode\": \"standard\"},\n)\n\nacps = boto3.client(\n    service_name=\"bedrock-agentcore-control\",\n    config=sdk_config,\n)\n\nprovider_config= {\n    \"customOauth2ProviderConfig\": {\n         \"oauthDiscovery\": {\n             \"authorizationServerMetadata\": {\n                 \"issuer\": ZENDESK_DOMAIN,\n                 \"authorizationEndpoint\": ZENDESK_AUTH_ENDPOINT,\n                 \"tokenEndpoint\": ZENDESK_TOKEN_ENDPOINT,\n                 \"responseTypes\": [\"token\"]\n             }\n         },\n         \"clientId\": ZENDESK_CLIENT_ID,\n         \"clientSecret\": ZENDESK_SECRET\n     }\n }\n\nresponse = acps.create_oauth2_credential_provider(\n    name=\"ZendeskOAuthTokenCfg\", \n    credentialProviderVendor=\"CustomOauth2\", \n    oauth2ProviderConfigInput=provider_config\n)\n\npprint(response)\ncredentialProviderARN = response['credentialProviderArn']\npprint(f\"Egress Credentials provider ARN, {credentialProviderARN}\")"
   ]
  },
  {
   "cell_type": "markdown",
   "id": "510b092f-be1d-4b31-abb7-1fb8cab887ef",
   "metadata": {},
   "source": [
    "### OpenAPI ターゲットを作成する\n\n日本語訳:\nOpenAPI は、API の設計と文書化のための業界標準の仕様です。AWS Lambda 関数を OpenAPI 定義に基づいて作成することができます。\n\n1. AWS Lambda コンソールで、 `Functions` ページを開きます。\n2. `Create function` を選択します。\n3. `Author from scratch` を選択します。\n4. `Function name` に関数名を入力します (例: `my-openapi-function`)。\n5. `Runtime` で、使用する言語のランタイムを選択します。\n6. `OpenAPI` を展開し、`Use OpenAPI` を選択します。\n7. `OpenAPI definition` ボックスに、OpenAPI 定義を入力するか、ファイルをアップロードします。\n8. `Create function` を選択して、関数を作成します。\n\nAWS Lambda は、OpenAPI 定義に基づいて関数を作成し、API Gateway を自動的に設定します。API Gateway は、OpenAPI 定義に従って API エンドポイントを公開します。"
   ]
  },
  {
   "cell_type": "markdown",
   "id": "c1cb1835-5aaf-471d-ac28-6f5fe78caf5a",
   "metadata": {},
   "source": [
    "#### S3 に Zendesk サポート OpenAPI yaml ファイルをアップロードする\n\n日本語訳:\n\n1. AWS コンソールにログインし、 S3 サービスを開きます。\n2. 適切な bucket を選択するか、新しい bucket を作成します。\n3. bucket 内に新しいフォルダーを作成します (例: `zendesk-openapi`)。\n4. `zendesk-openapi` フォルダーにローカルの `openapi.yaml` ファイルをアップロードします。\n5. アップロードが完了したら、ファイルを右クリックし、「オブジェクトの URL をコピー」を選択します。この URL は後で必要になります。\n\n注意: コード、コマンド、変数名、関数名などの技術的な用語は翻訳せず、そのままの英語表記を残しました。半角英数字の前後には半角スペースを挿入しています。"
   ]
  },
  {
   "cell_type": "code",
   "execution_count": null,
   "id": "a105be4e-ae05-4981-a609-01d410f66023",
   "metadata": {},
   "outputs": [],
   "source": [
    "# Create an S3 client\n\n日本語訳:\nS3 クライアントを作成します。\n\nimport boto3\n\ns3 = boto3.client('s3')\n\n# Upload a file to S3\ns3.upload_file('/tmp/sample_file.txt', 'my-bucket', 'sample_file.txt')\n\n# Download a file from S3\ns3.download_file('my-bucket', 'sample_file.txt', '/tmp/sample_file.txt')\nsession = boto3.session.Session()\ns3_client = session.client('s3')\nsts_client = session.client('sts')\n\n# AWS アカウント ID と リージョンを取得する\n\naccount_id = subprocess.run([\"aws\", \"sts\", \"get-caller-identity\", \"--query\", \"Account\", \"--output\", \"text\"], stdout=subprocess.PIPE).stdout.decode('utf-8').strip()\nregion = subprocess.run([\"aws\", \"configure\", \"get\", \"region\"], stdout=subprocess.PIPE).stdout.decode('utf-8').strip()\n\nprint(f\"AWS アカウント ID: {account_id}\")\nprint(f\"リージョン: {region}\")\naccount_id = sts_client.get_caller_identity()[\"Account\"]\nregion = session.region_name\n# Define parameters\n\nパラメータを定義する\n\n日本語訳:\n# パラメータを定義する\n\nlearning_rate = 0.001 # 学習率\nbatch_size = 32 # バッチサイズ\nnum_epochs = 10 # エポック数\n\n# コードやコマンド、変数名、関数名などの技術的な用語はそのまま残す\nbucket_name = '' # Your s3 bucket to upload the OpenAPI json file.\n\n日本語訳:\n\n# OpenAPI json ファイルをアップロードする s3 バケットを指定してください。\nfile_path = 'openapi-specs/Zendesk-support-apis.yaml'\nobject_key = 'Zendesk-support-apis.yaml'\n# ファイルをput_objectを使ってアップロードし、レスポンスを読む\n\n日本語訳:\n\nファイルを put_object を使ってアップロードし、レスポンスを読みます。\ntry:\n    with open(file_path, 'rb') as file_data:\n        response = s3_client.put_object(Bucket=bucket_name, Key=object_key, Body=file_data)\n\n    # アカウントIDとリージョンでアップロードされたオブジェクトの ARN を構築する\n\n日本語訳:\n\nアカウント ID と リージョンを使用して、アップロードされたオブジェクトの Amazon リソースネーム (ARN) を構築します。技術的な用語 (ARN など) はそのまま残しました。\n    openapi_s3_uri = f's3://{bucket_name}/{object_key}'\n    print(f'Uploaded object S3 URI: {openapi_s3_uri}')\nexcept Exception as e:\n    print(f'Error uploading file: {e}')"
   ]
  },
  {
   "cell_type": "markdown",
   "id": "715f371d-3118-4c7f-bb23-c90ab09e4284",
   "metadata": {},
   "source": [
    "#### ゲートウェイターゲットを作成する\n\n日本語訳:\n\nゲートウェイターゲットを作成するには、以下の手順に従います。\n\n1. AWS マネジメントコンソールにサインインし、 Amazon API Gateway コンソール (https://console.aws.amazon.com/apigateway) を開きます。\n\n2. 左側のナビゲーションペインで、 [ API ] を選択します。\n\n3. 作成した API を選択します。\n\n4. [ リソース ] ペインで、 [ リソース ] ツリーを展開し、 [ プロキシリソース ] を選択します。\n\n5. [ アクション ] ドロップダウンリストから [ インテグレーションの作成 ] を選択します。\n\n6. [ 新しいインテグレーションの設定 ] ダイアログボックスで、以下の操作を行います。\n\n   - [ インテグレーションタイプ ] で [ AWS サービス ] を選択します。\n   - [ AWS リージョン ] で、 Lambda 関数が存在する AWS リージョンを選択します。\n   - [ AWS サービス ] で [ Lambda 関数 ] を選択します。\n   - [ HTTP メソッド ] で [ POST ] を選択します。\n   - [ Lambda 関数 ] で、呼び出す Lambda 関数の名前を選択します。\n   - [ 実行ロール ] で、 API Gateway がその Lambda 関数を呼び出すために使用するロールを選択します。\n\n7. [ 保存 ] を選択して、インテグレーションを作成します。\n\nこれで、 API Gateway は指定した Lambda 関数を呼び出すように設定されました。"
   ]
  },
  {
   "cell_type": "markdown",
   "id": "65c74344-bcea-48be-8a47-86c6d05be7c0",
   "metadata": {},
   "source": [
    "以下が日本語訳になります。\n\nOpenAPI ファイル内の server URL が自身のエンドポイント URL を指しているか確認してください。Gateway は OpenAPI ファイルから server URL を読み取り、そのエンドポイントを呼び出します。s3 にアップロードする前に、この変更を行ってください。"
   ]
  },
  {
   "cell_type": "code",
   "execution_count": null,
   "id": "629945ac-d1c3-49ae-92f7-4b0e0ef6d2c8",
   "metadata": {},
   "outputs": [],
   "source": [
    "# S3 Uri for OpenAPI spec file\n\nS3 URI は OpenAPI 仕様ファイルのための URI です。\nopenapi_s3_target_config = {\n    \"mcp\": {\n          \"openApiSchema\": {\n              \"s3\": {\n                  \"uri\": openapi_s3_uri\n              }\n          }\n      }\n}\n\ncredential_config = [\n    {\n        \"credentialProviderType\" : \"OAUTH\",\n        \"credentialProvider\": {\n            \"oauthCredentialProvider\": {\n                \"providerArn\": credentialProviderARN, \n                \"scopes\": [\"tickets:read\", \"read\", \"tickets:write\", \"write\"] \n            }\n        }\n    }\n  ]\n\ntarget_name=\"DemoOpenAPIGW\"\nresponse = gateway_client.create_gateway_target(\n    gatewayIdentifier=gatewayID,\n    name=target_name,\n    description='OpenAPI Target with S3Uri using SDK',\n    targetConfiguration=openapi_s3_target_config,\n    credentialProviderConfigurations=credential_config)\n\n# リクエスト ID とタイムスタンプを出力します。不具合/欠陥を報告する際にこれらを含めてください。\n\n日本語訳:\n\nリクエスト ID とタイムスタンプを出力しています。不具合/欠陥を報告する際には、これらを含めてください。\nresponse_metadata = response['ResponseMetadata']"
   ]
  },
  {
   "cell_type": "markdown",
   "id": "d3ac6532-5299-4024-917d-bcd60caea6ed",
   "metadata": {},
   "source": [
    "# Strands エージェントから Bedrock AgentCore Gateway を呼び出す\n\nStrands エージェントは、Model Context Protocol (MCP) 仕様を実装する Bedrock AgentCore Gateway を通じて、AWS ツールとシームレスに統合されています。この統合により、AI エージェントと AWS サービス間の安全で標準化された通信が可能になります。\n\nBedrock AgentCore Gateway の中核は、基本的な MCP API である ListTools と InvokeTools を公開するプロトコル準拠の Gateway です。これらの API を使用すると、MCP 準拠のクライアントまたは SDK から、利用可能なツールを安全で標準化された方法で検出およびやり取りできます。Strands エージェントが AWS サービスにアクセスする必要がある場合は、これらの MCP 標準化されたエンドポイントを使用して Gateway と通信します。\n\nGateway の実装は、(MCP Authorization 仕様)[https://modelcontextprotocol.org/specification/draft/basic/authorization] を厳密に順守しており、堅牢なセキュリティとアクセス制御が保証されています。つまり、Strands エージェントによるすべてのツール呼び出しは、セキュリティを維持しながら強力な機能を可能にする認証ステップを経ます。\n\n例えば、Strands エージェントが MCP ツールにアクセスする必要がある場合、まず ListTools を呼び出して利用可能なツールを検出し、次に InvokeTools を使用して特定のアクションを実行します。Gateway は、必要なすべてのセキュリティ検証、プロトコル変換、およびサービス対話を処理するため、プロセス全体がシームレスかつ安全に行われます。\n\nこのアーキテクチャアプローチにより、MCP 仕様を実装するクライアントまたは SDK は、Gateway を介して AWS サービスとやり取りできるため、AI エージェントの統合に対して汎用性と将来性の高い解決策となります。"
   ]
  },
  {
   "cell_type": "code",
   "execution_count": null,
   "id": "3e3a7c36-d910-4651-9f1e-e2b5f605440a",
   "metadata": {},
   "outputs": [],
   "source": [
    "uv_install(\"mcp[cli]\", \"strands-agents\")"
   ]
  },
  {
   "cell_type": "markdown",
   "id": "873031fe-62b5-4196-91be-500c1f87dfd4",
   "metadata": {},
   "source": [
    "# Oktaからアクセストークンを要求する (inbound認証用)\n\n access_token_url = \"https://{ yourOktaDomain }/oauth2/default/v1/token\"\n headers = {\"Accept\": \"application/json\", \"Content-Type\": \"application/x-www-form-urlencoded\"}\n body = {\n     \"grant_type\": \"client_credentials\",\n     \"scope\": \"okta.token.getSelfPath\",\n     \"client_id\": \"{ clientID }\",\n     \"client_secret\": \"{ clientSecret }\"\n }\n\n access_token_response = requests.post(access_token_url, headers=headers, data=body)\n access_token_data = access_token_response.json()\n access_token = access_token_data[\"access_token\"]\n\n print(\"Access Token: \" + access_token)"
   ]
  },
  {
   "cell_type": "code",
   "execution_count": null,
   "id": "3ed1d1d6-e84c-4286-bf25-3ad6a49723b9",
   "metadata": {},
   "outputs": [],
   "source": [
    "print(\"Requesting the access token from Okta authorizer\")\nimport requests\nfrom requests.auth import HTTPBasicAuth\n\n# Replace with your actual values\n\n日本語訳:\n# 実際の値に置き換えてください\nOKTA_DOMAIN = \"Your Okta domain URL\"\nAUTH_SERVER_ID = \"Okta app id\"\nCLIENT_ID = \"<Okta client credentials client id>\"\nCLIENT_SECRET = \"<Okta client credentials secret>\"\n\nTOKEN_URL = f\"{OKTA_DOMAIN}/oauth2/{AUTH_SERVER_ID}/v1/token\"\n\nresponse = requests.post(\n    TOKEN_URL,\n    auth=HTTPBasicAuth(CLIENT_ID, CLIENT_SECRET),\n    headers={\"Content-Type\": \"application/x-www-form-urlencoded\"},\n    data={\"grant_type\": \"client_credentials\", \"scope\": \"InvokeGateway\"}\n)\n\nif response.status_code == 200:\n    token = response.json()[\"access_token\"]\n    print(\"Access Token:\", token)\nelse:\n    print(\"Failed to get token:\", response.status_code, response.text)"
   ]
  },
  {
   "cell_type": "markdown",
   "id": "6fd0379d-9576-43cb-aa9b-72b86c43b472",
   "metadata": {},
   "source": [
    "# Zendesk サポート API を使用して Bedrock AgentCore Gateway でカスタマーサポートエージェントに問い合わせる\n\nあなたは 翻訳 の 専門家 です。以下 の テキスト を 英語 から 日本語 に 翻訳 して ください。\n半角 英数字 の 前後 には 半角 スペース を 挿入 する。コード や コマンド、変数名、関数名 など の 技術的 な 用語 は 翻訳 せず、そのまま 残して ください。\n\n翻訳 する テキスト:\n# Ask customer support agent with Zendesk support APIs using Bedrock AgentCore Gateway\n\n日本語 訳:\n# Bedrock AgentCore Gateway を 使用 して Zendesk サポート API で カスタマー サポート エージェント に 問い合わせる"
   ]
  },
  {
   "cell_type": "code",
   "execution_count": null,
   "id": "be4b39c4-7387-4ce8-b728-f2347fbdaa36",
   "metadata": {},
   "outputs": [],
   "source": [
    "from strands.models import BedrockModel\nfrom mcp.client.streamable_http import streamablehttp_client \nfrom strands.tools.mcp.mcp_client import MCPClient\nfrom strands import Agent\n\ndef create_streamable_http_transport():\n    return streamablehttp_client(gatewayURL,headers={\"Authorization\": f\"Bearer {token}\"})\n\nclient = MCPClient(create_streamable_http_transport)\n\n以下が日本語訳になります。\n\n## ~/.aws/credentials に設定された IAM グループ/ユーザーは Bedrock モデルにアクセスできる必要があります\nyourmodel = BedrockModel(\n    model_id=\"us.amazon.nova-pro-v1:0\",\n    temperature=0.7,\n)"
   ]
  },
  {
   "cell_type": "code",
   "execution_count": null,
   "id": "e64794e7-4e5f-4fc5-824a-61c901e356c4",
   "metadata": {},
   "outputs": [],
   "source": [
    "from strands import Agent\nimport logging\n\n\n# Configure the root strands logger. Change it to DEBUG if you are debugging the issue.\n\n日本語訳:\n\n# ルート strands ロガーを設定します。問題をデバッグしている場合は、これを DEBUG に変更してください。\nlogging.getLogger(\"strands\").setLevel(logging.INFO)\n\n# ログを確認するためのハンドラーを追加する\n\nlogs = run.use_repl(python_repl)\nlogs.handlers.append(TextLogHandler(run))\n\nlogs.info('Hello, World!') \n\nrun.info('logs', logs)\n\n# 出力:\n# Hello, World!\n\nlogs.error(f'Failed to load data from {data_path}')\nlogs.warning('Deprecated function abc() is used')\n\nrun.info('logs', logs)\n\n# 出力:\n# Failed to load data from data/sample.csv\n# Deprecated function abc() is used\nlogging.basicConfig(\n    format=\"%(levelname)s | %(name)s | %(message)s\", \n    handlers=[logging.StreamHandler()]\n)\n\nwith client:\n    # Call the listTools \n\nlistTools 関数を呼び出します。\n    tools = client.list_tools_sync()\n    # エージェントを model と tools で作成する\n\nagent = Agent(model=model, tools=tools)\n    agent = Agent(model=yourmodel,tools=tools) ## お好みの モデル に置き換えることができます\n    #print(f\"Tools loaded in the agent are {agent.tool_names}\")\n    #print(f\"Tools configuration in the agent are {agent.tool_config}\")\n\nエージェントのツール設定は {agent.tool_config} です。\n    \n    # Invoke the agent with the sample prompt. This will only invoke  MCP listTools and retrieve the list of tools the LLM has access to. The below does not actually call any tool.\n\nサンプルのプロンプトでエージェントを呼び出します。これは MCP listTools を呼び出し、LLM がアクセスできるツールのリストを取得するだけです。以下では実際にはツールを呼び出しません。\n    #agent(\"Hi , can you list all tools available to you\")\n\n日本語訳:\n\nこんにちは、利用可能なすべてのツールを列挙できますか?\n    agent(\"Count the number of support tickets\")\n    # MCP ツールを明示的に呼び出します。MCP ツール名と引数は、AWS Lambda 関数または OpenAPI/Smithy API と一致する必要があります。\n\n日本語訳:\nMCP ツールを明示的に呼び出します。MCP ツールの名前と引数は、あなたの AWS Lambda 関数または OpenAPI/Smithy API と一致する必要があります。\n    result = client.call_tool_sync(\n    tool_use_id=\"count-tickets-1\", # ログを確認するためのハンドラーを追加する\n\nlogs = run.use_repl(python_repl)\nlogs.handlers.append(TextLogHandler(run))\n\nlogs.info('Hello, World!') \n\nrun.info('logs', logs)\n\n# 出力:\n# Hello, World!\n\nlogs.error(f'Failed to load data from {data_path}')\nlogs.warning('Deprecated function abc() is used')\n\nrun.info('logs', logs)\n\n# 出力:\n# Failed to load data from data/sample.csv\n# Deprecated function abc() is used0\n    name=\"DemoOpenAPIGW___CountTickets\", # ログを確認するためのハンドラーを追加する\n\nlogs = run.use_repl(python_repl)\nlogs.handlers.append(TextLogHandler(run))\n\nlogs.info('Hello, World!') \n\nrun.info('logs', logs)\n\n# 出力:\n# Hello, World!\n\nlogs.error(f'Failed to load data from {data_path}')\nlogs.warning('Deprecated function abc() is used')\n\nrun.info('logs', logs)\n\n# 出力:\n# Failed to load data from data/sample.csv\n# Deprecated function abc() is used1\n    )\n    # ログを確認するためのハンドラーを追加する\n\nlogs = run.use_repl(python_repl)\nlogs.handlers.append(TextLogHandler(run))\n\nlogs.info('Hello, World!') \n\nrun.info('logs', logs)\n\n# 出力:\n# Hello, World!\n\nlogs.error(f'Failed to load data from {data_path}')\nlogs.warning('Deprecated function abc() is used')\n\nrun.info('logs', logs)\n\n# 出力:\n# Failed to load data from data/sample.csv\n# Deprecated function abc() is used2\n    print(f\"Tool Call result: {result['content'][0]['text']}\")\n"
   ]
  },
  {
   "cell_type": "markdown",
   "id": "fa8dd91d-15a6-45b2-b539-bb3eaf0e0e08",
   "metadata": {},
   "source": [
    "# クリーンアップ\nIAM ロール、IAM ポリシー、認証情報プロバイダー、AWS Lambda 関数、Cognito ユーザープール、s3 バケットなどの追加リソースも作成されます。これらは、実行した例次第で、クリーンアップの一環として手動で削除する必要があるかもしれません。"
   ]
  },
  {
   "cell_type": "markdown",
   "id": "a22f158d-83b6-4d65-892f-9a208af3d742",
   "metadata": {},
   "source": [
    "## ゲートウェイを削除する (オプション)"
   ]
  },
  {
   "cell_type": "code",
   "execution_count": null,
   "id": "c3edc5b6-e5f0-47b9-994f-378415bad50d",
   "metadata": {},
   "outputs": [],
   "source": [
    "import utils\n",
    "utils.delete_gateway(gateway_client,gatewayID)"
   ]
  }
 ],
 "metadata": {
  "kernelspec": {
   "display_name": "Python 3 (ipykernel)",
   "language": "python",
   "name": "python3"
  },
  "language_info": {
   "codemirror_mode": {
    "name": "ipython",
    "version": 3
   },
   "file_extension": ".py",
   "mimetype": "text/x-python",
   "name": "python",
   "nbconvert_exporter": "python",
   "pygments_lexer": "ipython3",
   "version": "3.11.9"
  }
 },
 "nbformat": 4,
 "nbformat_minor": 5
}