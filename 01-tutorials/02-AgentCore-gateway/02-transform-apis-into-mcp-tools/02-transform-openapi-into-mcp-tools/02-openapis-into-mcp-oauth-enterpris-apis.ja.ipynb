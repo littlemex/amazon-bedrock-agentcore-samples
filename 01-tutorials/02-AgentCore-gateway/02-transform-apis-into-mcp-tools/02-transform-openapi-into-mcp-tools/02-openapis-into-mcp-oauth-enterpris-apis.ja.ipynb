{
 "cells": [
  {
   "cell_type": "markdown",
   "id": "4ba51a29-a566-4b5a-97f0-10e634567e40",
   "metadata": {
    "collapsed": true,
    "jupyter": {
     "outputs_hidden": true
    }
   },
   "source": [
    "# Bedrock AgentCore Gateway を使用して OpenAPI API を MCP ツールに変換する\n",
    "\n",
    "## 概要\n",
    "Bedrock AgentCore Gateway は、お客様がインフラやホスティングを管理することなく、既存の API を完全に管理された MCP サーバーに変換する方法を提供します。お客様は JSON または YAML 形式の OpenAPI 仕様を持ち込むことができます。OAuth2 で保護されたエンタープライズサポート API を使用するカスタマーサービスエージェントを実演します。\n",
    "\n",
    "Gateway ワークフローには、エージェントを外部ツールに接続するための以下のステップが含まれます：\n",
    "* **Gateway 用のツールを作成する** - REST API 用の OpenAPI 仕様などのスキーマを使用してツールを定義します。OpenAPI 仕様は Amazon Bedrock AgentCore によって解析され、Gateway が作成されます。\n",
    "* **Gateway エンドポイントを作成する** - インバウンド認証を備えた MCP エントリーポイントとして機能する gateway を作成します。\n",
    "* **Gateway にターゲットを追加する** - gateway がリクエストを特定のツールにルーティングする方法を定義する OpenAPI ターゲットを設定します。OpenAPI ファイルの一部であるすべての API は MCP 互換のツールになり、Gateway エンドポイント URL を通じて利用可能になります。各 OpenAPI Gateway ターゲットに対して OAuth を使用したアウトバウンド認証を設定します。\n",
    "* **エージェントコードを更新する** - 統合された MCP インターフェースを通じて設定されたすべてのツールにアクセスするために、エージェントを Gateway エンドポイントに接続します。\n",
    "\n",
    "![仕組み](images/openapis-oauth-gateway.png)\n",
    "\n",
    "### チュートリアルの詳細\n",
    "\n",
    "\n",
    "| 情報                 | 詳細                                                     |\n",
    "|:---------------------|:----------------------------------------------------------|\n",
    "| チュートリアルタイプ | インタラクティブ                                         |\n",
    "| AgentCore コンポーネント | AgentCore Gateway, AgentCore Identity                     |\n",
    "| エージェントフレームワーク | Strands Agent                                             |\n",
    "| Gateway ターゲットタイプ | OpenAPI                                                   |\n",
    "| エージェント         | カスタマーサポートエージェント                           |\n",
    "| インバウンド認証 IdP | Okta                                                      |\n",
    "| アウトバウンド認証   | OAuth                                                     |\n",
    "| LLM モデル           | Anthropic Claude Sonnet 3.7, Amazon Nova Pro              |\n",
    "| チュートリアルコンポーネント | AgentCore Gateway の作成と AgentCore Gateway の呼び出し |\n",
    "| チュートリアル業種   | 業種横断的                                               |\n",
    "| 例の複雑さ           | 簡単                                                     |\n",
    "| 使用 SDK             | boto3                                                     |\n",
    "\n",
    "チュートリアルの最初の部分では、いくつかの AmazonCore Gateway ターゲットを作成します\n",
    "\n",
    "### チュートリアルのアーキテクチャ\n",
    "このチュートリアルでは、OpenAPI yaml/json ファイルで定義された操作を MCP ツールに変換し、Bedrock AgentCore Gateway でホストします。\n",
    "デモンストレーションの目的で、サポートチケットに関連するクエリに回答するカスタマーサポートエージェントを構築します。エージェントは Zendesk サポート API の OpenAPI を使用します。このソリューションは Amazon Bedrock モデルを使用する Langchain エージェントを使用しています"
   ]
  },
  {
   "cell_type": "markdown",
   "id": "5362e1ad-f027-4452-a8d9-0b861c0115c2",
   "metadata": {},
   "source": [
    "## 前提条件\n",
    "\n",
    "このチュートリアルを実行するには以下が必要です：\n",
    "* Python 3.10+ を搭載した Jupyter notebook\n",
    "* uv\n",
    "* AWS 認証情報\n",
    "* Okta\n",
    "    - client_id\n",
    "    - client_secret\n",
    "    - あなたの Okta ドメイン（例：dev-123456.okta.com）\n",
    "    - OAuth2 認可サーバー ID（通常は default）"
   ]
  },
  {
   "cell_type": "code",
   "execution_count": null,
   "id": "a17e1d70-9a76-42ce-b1ac-1c3a0bf4d12c",
   "metadata": {},
   "outputs": [],
   "source": [
    "# 最新の botocore と boto3 ライブラリをダウンロードしていることを確認してください。\n",
    "import shutil\n",
    "import subprocess\n",
    "import sys\n",
    "\n",
    "def ensure_uv_installed():\n",
    "    if shutil.which(\"uv\") is None:\n",
    "        print(\"🔧 'uv' not found. Installing with pip...\")\n",
    "        subprocess.check_call([sys.executable, \"-m\", \"pip\", \"install\", \"uv\"])\n",
    "    else:\n",
    "        print(\"✅ 'uv' is already installed.\")\n",
    "\n",
    "def uv_install(*packages):\n",
    "    ensure_uv_installed()\n",
    "    uv_path = shutil.which(\"uv\")\n",
    "    print(f\"📦 Installing {', '.join(packages)} using uv...\")\n",
    "    subprocess.check_call([uv_path, \"pip\", \"install\", *packages])\n",
    "\n",
    "uv_install(\"botocore\", \"boto3\")"
   ]
  },
  {
   "cell_type": "code",
   "execution_count": null,
   "id": "a4e6248d-b740-418b-ae0d-c0a9623e43e1",
   "metadata": {},
   "outputs": [],
   "source": [
    "# SageMaker ノートブックを使用していない場合は AWS 認証情報を設定する\n",
    "import os\n",
    "os.environ['AWS_ACCESS_KEY_ID'] = ''\n",
    "os.environ['AWS_SECRET_ACCESS_KEY'] = ''\n",
    "os.environ['AWS_PROFILE'] = 'cline2'\n",
    "os.environ['AWS_DEFAULT_REGION'] = 'us-east-1'"
   ]
  },
  {
   "cell_type": "code",
   "execution_count": null,
   "id": "64829bf6-fba1-4d02-8bbf-451fc5deecc8",
   "metadata": {},
   "outputs": [],
   "source": [
    "import os\n",
    "import sys\n",
    "\n",
    "# 現在のスクリプトのディレクトリを取得する\n",
    "if '__file__' in globals():\n",
    "    current_dir = os.path.dirname(os.path.abspath(__file__))\n",
    "else:\n",
    "    current_dir = os.getcwd()  # __file__ が定義されていない場合のフォールバック（例：Jupyter）\n",
    "\n",
    "# utils.py があるディレクトリ（一つ上のレベル）に移動する\n",
    "utils_dir = os.path.abspath(os.path.join(current_dir, '../..'))\n",
    "\n",
    "# sys.path に追加する\n",
    "sys.path.insert(0, utils_dir)\n",
    "\n",
    "# 今、 utils をインポートできます\n",
    "import utils"
   ]
  },
  {
   "cell_type": "code",
   "execution_count": null,
   "id": "10518aa1-3ac3-4610-a0cc-39c9c2eafe2c",
   "metadata": {},
   "outputs": [],
   "source": [
    "#### Gateway が引き受ける IAM ロールを作成する\n",
    "import utils\n",
    "\n",
    "agentcore_gateway_iam_role = utils.create_agentcore_gateway_role(\"sample-lambdagateway\")\n",
    "print(\"Agentcore gateway role ARN: \", agentcore_gateway_iam_role['Role']['Arn'])"
   ]
  },
  {
   "cell_type": "markdown",
   "id": "65120594-c3ec-4d51-810b-8d478851d8d2",
   "metadata": {},
   "source": [
    "# Gateway へのインバウンド認証のための Okta の設定\n",
    "\n",
    "以下は Okta OAuth オーソライザーを作成するための手順です -\n",
    "\n",
    "* [こちら](https://developer.okta.com/docs/guides/implement-grant-type/clientcreds/main/) の指示に従い、クライアント認証情報付与タイプのアプリケーションを作成します。Okta サブスクリプションをお持ちの場合は、管理コンソールにログインして [こちら](https://developer.okta.com/docs/guides/implement-grant-type/clientcreds/main/) に概説されている手順に従ってください。Okta サブスクリプションをお持ちでない場合は、無料トライアルにサインアップする必要があります。\n",
    "* 管理者 -> アプリケーション -> シークレットを持つクライアントを作成します。トークンリクエストでの所有証明 (DPoP) ヘッダーの要求を無効にします\n",
    "* Okta 管理者 -> セキュリティ -> API に移動します。デフォルトの認可サーバーを使用し、追加のスコープ（例：InvokeGateway）で変更します。オプションでアクセスポリシーとクレームを追加できます\n",
    "* カスタムスコープを定義します。認可サーバー名をクリックし、スコープタブに移動して、「スコープを追加」をクリックします\n",
    "* 設定が完了したら、デフォルトの認可サーバー（別名ディスカバリー URI）のメタデータ URI と、以下に示すように Gateway を作成するためのカスタム JWT オーソライザーを設定するための ClientID/Secret が必要になります"
   ]
  },
  {
   "cell_type": "markdown",
   "id": "f1a63450-7fb9-42fc-ab4f-3d86c27bb2f8",
   "metadata": {},
   "source": [
    "# Okta オーソライザーを使用した受信認証のためのゲートウェイを作成する"
   ]
  },
  {
   "cell_type": "code",
   "execution_count": null,
   "id": "72f2cd57-7777-42d3-b6f3-c45ed0a935c4",
   "metadata": {},
   "outputs": [],
   "source": [
    "import boto3\n",
    "from pprint import pprint\n",
    "gateway_client = boto3.client('bedrock-agentcore-control', region_name = os.environ['AWS_DEFAULT_REGION'])\n",
    "\n",
    "OKTA_DISCOVERY_URL=\"https://<YOUR OKTA DOMAIN>/oauth2/<Your app>/.well-known/openid-configuration\"\n",
    "OKTA_AUDIENCE=\"<Your audience>\" # 例えば MCPGateway。Okta の設定と一致する必要があります\n",
    "\n",
    "auth_config = {\n",
    "        \"customJWTAuthorizer\": {\n",
    "            \"allowedAudience\": [OKTA_AUDIENCE],\n",
    "            \"discoveryUrl\": OKTA_DISCOVERY_URL\n",
    "        }\n",
    "}\n",
    "create_response = gateway_client.create_gateway(name='OpenAPIOktaGwy2',\n",
    "    roleArn = agentcore_gateway_iam_role['Role']['Arn'], # IAM ロールは Gateway の作成・一覧表示・取得・削除の権限を持っている必要があります\n",
    "    protocolType='MCP',\n",
    "    authorizerType='CUSTOM_JWT',\n",
    "    authorizerConfiguration=auth_config, \n",
    "    description='AgentCore Gateway created from sdk with Okta Authorizer'\n",
    ")\n",
    "pprint(create_response)\n",
    "# GatewayTarget 作成に使用される GatewayID を取得する\n",
    "gatewayID = create_response[\"gatewayId\"]\n",
    "gatewayURL = create_response[\"gatewayUrl\"]"
   ]
  },
  {
   "cell_type": "markdown",
   "id": "1345c920-3921-40c7-9c00-110e8d02184b",
   "metadata": {},
   "source": [
    "# Zendesk サポート API を Bedrock AgentCore Gateway を使用して MCP ツールに変換する"
   ]
  },
  {
   "cell_type": "markdown",
   "id": "8ea26177-4637-4b1f-82bd-6d65bfe8dc85",
   "metadata": {},
   "source": [
    "### アウトバウンド認証情報プロバイダーの作成"
   ]
  },
  {
   "cell_type": "code",
   "execution_count": null,
   "id": "64caa620-02ec-424a-a8b9-eb00b39289bf",
   "metadata": {},
   "outputs": [],
   "source": [
    "from botocore.config import Config\n",
    "ZENDESK_DOMAIN=\"<Zendek domain url>\"\n",
    "ZENDESK_AUTH_ENDPOINT=\"https://<Zendeskl-domain>/oauth/authorizations/new\"\n",
    "ZENDESK_TOKEN_ENDPOINT=\"https://<Zendesk-domain>/oauth/tokens\"\n",
    "ZENDESK_CLIENT_ID=\"\" # あなたの Zendesk OAuth クライアント - クライアント ID\n",
    "ZENDESK_SECRET=\"\"  # あなたの Zendesk OAuth クライアント - クライアント ID\n",
    "\n",
    "sdk_config = Config(\n",
    "    region_name=os.environ['AWS_DEFAULT_REGION'],\n",
    "    retries={\"max_attempts\": 2, \"mode\": \"standard\"},\n",
    ")\n",
    "\n",
    "acps = boto3.client(\n",
    "    service_name=\"bedrock-agentcore-control\",\n",
    "    config=sdk_config,\n",
    ")\n",
    "\n",
    "provider_config= {\n",
    "    \"customOauth2ProviderConfig\": {\n",
    "         \"oauthDiscovery\": {\n",
    "             \"authorizationServerMetadata\": {\n",
    "                 \"issuer\": ZENDESK_DOMAIN,\n",
    "                 \"authorizationEndpoint\": ZENDESK_AUTH_ENDPOINT,\n",
    "                 \"tokenEndpoint\": ZENDESK_TOKEN_ENDPOINT,\n",
    "                 \"responseTypes\": [\"token\"]\n",
    "             }\n",
    "         },\n",
    "         \"clientId\": ZENDESK_CLIENT_ID,\n",
    "         \"clientSecret\": ZENDESK_SECRET\n",
    "     }\n",
    " }\n",
    "\n",
    "response = acps.create_oauth2_credential_provider(\n",
    "    name=\"ZendeskOAuthTokenCfg\", \n",
    "    credentialProviderVendor=\"CustomOauth2\", \n",
    "    oauth2ProviderConfigInput=provider_config\n",
    ")\n",
    "\n",
    "pprint(response)\n",
    "credentialProviderARN = response['credentialProviderArn']\n",
    "pprint(f\"Egress Credentials provider ARN, {credentialProviderARN}\")"
   ]
  },
  {
   "cell_type": "markdown",
   "id": "510b092f-be1d-4b31-abb7-1fb8cab887ef",
   "metadata": {},
   "source": [
    "### OpenAPI ターゲットの作成"
   ]
  },
  {
   "cell_type": "markdown",
   "id": "c1cb1835-5aaf-471d-ac28-6f5fe78caf5a",
   "metadata": {},
   "source": [
    "#### Zendesk サポート OpenAPI yaml ファイルを S3 にアップロードする"
   ]
  },
  {
   "cell_type": "code",
   "execution_count": null,
   "id": "a105be4e-ae05-4981-a609-01d410f66023",
   "metadata": {},
   "outputs": [],
   "source": [
    "# S3 クライアントを作成する\n",
    "session = boto3.session.Session()\n",
    "s3_client = session.client('s3')\n",
    "sts_client = session.client('sts')\n",
    "\n",
    "# AWS アカウント ID とリージョンを取得する\n",
    "account_id = sts_client.get_caller_identity()[\"Account\"]\n",
    "region = session.region_name\n",
    "# Define parameters\n",
    "\n",
    "パラメータを定義する\n",
    "bucket_name = '' # OpenAPI json ファイルをアップロードする s3 バケット。\n",
    "file_path = 'openapi-specs/Zendesk-support-apis.yaml'\n",
    "object_key = 'Zendesk-support-apis.yaml'\n",
    "# ファイルを put_object を使用してアップロードし、レスポンスを読み取る\n",
    "try:\n",
    "    with open(file_path, 'rb') as file_data:\n",
    "        response = s3_client.put_object(Bucket=bucket_name, Key=object_key, Body=file_data)\n",
    "\n",
    "    # アップロードされたオブジェクトの ARN をアカウント ID とリージョンで構築する\n",
    "    openapi_s3_uri = f's3://{bucket_name}/{object_key}'\n",
    "    print(f'Uploaded object S3 URI: {openapi_s3_uri}')\n",
    "except Exception as e:\n",
    "    print(f'Error uploading file: {e}')"
   ]
  },
  {
   "cell_type": "markdown",
   "id": "715f371d-3118-4c7f-bb23-c90ab09e4284",
   "metadata": {},
   "source": [
    "#### ゲートウェイ ターゲットの作成"
   ]
  },
  {
   "cell_type": "markdown",
   "id": "65c74344-bcea-48be-8a47-86c6d05be7c0",
   "metadata": {},
   "source": [
    "OpenAPI ファイル内のサーバー URL が、あなた自身のエンドポイント URL を指していることを確認してください。Gateway は OpenAPI ファイルからサーバー URL を読み取り、そのエンドポイントを呼び出します。S3 にアップロードする前に、この変更を必ず行ってください。"
   ]
  },
  {
   "cell_type": "code",
   "execution_count": null,
   "id": "629945ac-d1c3-49ae-92f7-4b0e0ef6d2c8",
   "metadata": {},
   "outputs": [],
   "source": [
    "# S3 Uri for OpenAPI 仕様ファイル\n",
    "openapi_s3_target_config = {\n",
    "    \"mcp\": {\n",
    "          \"openApiSchema\": {\n",
    "              \"s3\": {\n",
    "                  \"uri\": openapi_s3_uri\n",
    "              }\n",
    "          }\n",
    "      }\n",
    "}\n",
    "\n",
    "credential_config = [\n",
    "    {\n",
    "        \"credentialProviderType\" : \"OAUTH\",\n",
    "        \"credentialProvider\": {\n",
    "            \"oauthCredentialProvider\": {\n",
    "                \"providerArn\": credentialProviderARN, \n",
    "                \"scopes\": [\"tickets:read\", \"read\", \"tickets:write\", \"write\"] \n",
    "            }\n",
    "        }\n",
    "    }\n",
    "  ]\n",
    "\n",
    "target_name=\"DemoOpenAPIGW\"\n",
    "response = gateway_client.create_gateway_target(\n",
    "    gatewayIdentifier=gatewayID,\n",
    "    name=target_name,\n",
    "    description='OpenAPI Target with S3Uri using SDK',\n",
    "    targetConfiguration=openapi_s3_target_config,\n",
    "    credentialProviderConfigurations=credential_config)\n",
    "\n",
    "# 不具合を報告するためのリクエスト ID とタイムスタンプを表示します。問題や不具合を報告する際には、これらを含めてください\n",
    "response_metadata = response['ResponseMetadata']"
   ]
  },
  {
   "cell_type": "markdown",
   "id": "d3ac6532-5299-4024-917d-bcd60caea6ed",
   "metadata": {},
   "source": [
    "# Strands エージェントから Bedrock AgentCore Gateway を呼び出す\n",
    "\n",
    "Strands エージェントは、Model Context Protocol (MCP) 仕様を実装する Bedrock AgentCore Gateway を通じて AWS ツールとシームレスに統合されています。この統合により、AI エージェントと AWS サービス間の安全で標準化された通信が可能になります。\n",
    "\n",
    "その核心部分として、Bedrock AgentCore Gateway は基本的な MCP API である ListTools と InvokeTools を公開するプロトコル準拠のゲートウェイとして機能します。これらの API により、MCP 準拠のクライアントや SDK は、安全で標準化された方法で利用可能なツールを発見し、対話することができます。Strands エージェントが AWS サービスにアクセスする必要がある場合、これらの MCP 標準化されたエンドポイントを使用してゲートウェイと通信します。\n",
    "\n",
    "ゲートウェイの実装は (MCP 認証仕様)[https://modelcontextprotocol.org/specification/draft/basic/authorization] に厳密に準拠しており、堅牢なセキュリティとアクセス制御を確保しています。これは、Strands エージェントによるすべてのツール呼び出しが認証ステップを経由することを意味し、強力な機能を提供しながらセキュリティを維持します。\n",
    "\n",
    "例えば、Strands エージェントが MCP ツールにアクセスする必要がある場合、まず ListTools を呼び出して利用可能なツールを発見し、次に InvokeTools を使用して特定のアクションを実行します。ゲートウェイはすべての必要なセキュリティ検証、プロトコル変換、サービス連携を処理し、プロセス全体をシームレスかつ安全にします。\n",
    "\n",
    "このアーキテクチャアプローチにより、MCP 仕様を実装するあらゆるクライアントや SDK がゲートウェイを通じて AWS サービスと対話できるようになり、AI エージェント統合のための汎用性と将来性のあるソリューションとなっています。"
   ]
  },
  {
   "cell_type": "code",
   "execution_count": null,
   "id": "3e3a7c36-d910-4651-9f1e-e2b5f605440a",
   "metadata": {},
   "outputs": [],
   "source": [
    "uv_install(\"mcp[cli]\", \"strands-agents\")"
   ]
  },
  {
   "cell_type": "markdown",
   "id": "873031fe-62b5-4196-91be-500c1f87dfd4",
   "metadata": {},
   "source": [
    "# Okta からインバウンド認証用のアクセストークンをリクエストする"
   ]
  },
  {
   "cell_type": "code",
   "execution_count": null,
   "id": "3ed1d1d6-e84c-4286-bf25-3ad6a49723b9",
   "metadata": {},
   "outputs": [],
   "source": [
    "print(\"Requesting the access token from Okta authorizer\")\n",
    "import requests\n",
    "from requests.auth import HTTPBasicAuth\n",
    "\n",
    "# 実際の値に置き換えてください\n",
    "OKTA_DOMAIN = \"Your Okta domain URL\"\n",
    "AUTH_SERVER_ID = \"Okta app id\"\n",
    "CLIENT_ID = \"<Okta client credentials client id>\"\n",
    "CLIENT_SECRET = \"<Okta client credentials secret>\"\n",
    "\n",
    "TOKEN_URL = f\"{OKTA_DOMAIN}/oauth2/{AUTH_SERVER_ID}/v1/token\"\n",
    "\n",
    "response = requests.post(\n",
    "    TOKEN_URL,\n",
    "    auth=HTTPBasicAuth(CLIENT_ID, CLIENT_SECRET),\n",
    "    headers={\"Content-Type\": \"application/x-www-form-urlencoded\"},\n",
    "    data={\"grant_type\": \"client_credentials\", \"scope\": \"InvokeGateway\"}\n",
    ")\n",
    "\n",
    "if response.status_code == 200:\n",
    "    token = response.json()[\"access_token\"]\n",
    "    print(\"Access Token:\", token)\n",
    "else:\n",
    "    print(\"Failed to get token:\", response.status_code, response.text)"
   ]
  },
  {
   "cell_type": "markdown",
   "id": "6fd0379d-9576-43cb-aa9b-72b86c43b472",
   "metadata": {},
   "source": [
    "# Zendesk サポート API を使用した Bedrock AgentCore Gateway によるカスタマーサポートエージェントへの問い合わせ"
   ]
  },
  {
   "cell_type": "code",
   "execution_count": null,
   "id": "be4b39c4-7387-4ce8-b728-f2347fbdaa36",
   "metadata": {},
   "outputs": [],
   "source": [
    "from strands.models import BedrockModel\n",
    "from mcp.client.streamable_http import streamablehttp_client \n",
    "from strands.tools.mcp.mcp_client import MCPClient\n",
    "from strands import Agent\n",
    "\n",
    "def create_streamable_http_transport():\n",
    "    return streamablehttp_client(gatewayURL,headers={\"Authorization\": f\"Bearer {token}\"})\n",
    "\n",
    "client = MCPClient(create_streamable_http_transport)\n",
    "\n",
    "## ~/.aws/credentials に設定された IAM グループ/ユーザーは Bedrock モデルへのアクセス権を持っている必要があります\n",
    "yourmodel = BedrockModel(\n",
    "    model_id=\"us.amazon.nova-pro-v1:0\",\n",
    "    temperature=0.7,\n",
    ")"
   ]
  },
  {
   "cell_type": "code",
   "execution_count": null,
   "id": "e64794e7-4e5f-4fc5-824a-61c901e356c4",
   "metadata": {},
   "outputs": [],
   "source": [
    "from strands import Agent\n",
    "import logging\n",
    "\n",
    "\n",
    "# ルートの strands ロガーを設定します。問題をデバッグしている場合は、DEBUG に変更してください。\n",
    "logging.getLogger(\"strands\").setLevel(logging.INFO)\n",
    "\n",
    "# ログを確認するためのハンドラーを追加する\n",
    "logging.basicConfig(\n",
    "    format=\"%(levelname)s | %(name)s | %(message)s\", \n",
    "    handlers=[logging.StreamHandler()]\n",
    ")\n",
    "\n",
    "with client:\n",
    "    # Call the listTools\n",
    "    tools = client.list_tools_sync()\n",
    "    # モデルとツールを使用したエージェントの作成\n",
    "    agent = Agent(model=yourmodel,tools=tools) ## あなたは任意のモデルに置き換えることができます\n",
    "    ```python\n",
    "#print(f\"エージェントに読み込まれたツールは {agent.tool_names} です\")\n",
    "```\n",
    "    ```python\n",
    "#print(f\"エージェント内のツール設定は {agent.tool_config} です\")\n",
    "```\n",
    "    \n",
    "    # エージェントをサンプルプロンプトで呼び出します。これは MCP listTools のみを呼び出し、LLM がアクセスできるツールのリストを取得します。以下は実際にはどのツールも呼び出しません。\n",
    "    #agent(\"こんにちは、あなたが利用できるすべてのツールをリストアップしてもらえますか\")\n",
    "    agent(\"Count the number of support tickets\")\n",
    "    # MCP ツールを明示的に呼び出します。MCP ツール名と引数は、AWS Lambda 関数または OpenAPI/Smithy API と一致する必要があります\n",
    "    result = client.call_tool_sync(\n",
    "    tool_use_id=\"count-tickets-1\", # ログを確認するためのハンドラーを追加する0\n",
    "    name=\"DemoOpenAPIGW___CountTickets\", # ログを確認するためのハンドラーを追加する1\n",
    "    )\n",
    "    # ログを確認するためのハンドラーを追加する2\n",
    "    print(f\"Tool Call result: {result['content'][0]['text']}\")\n"
   ]
  },
  {
   "cell_type": "markdown",
   "id": "fa8dd91d-15a6-45b2-b539-bb3eaf0e0e08",
   "metadata": {},
   "source": [
    "# クリーンアップ\n",
    "IAM ロール、IAM ポリシー、認証情報プロバイダー、AWS Lambda 関数、Cognito ユーザープール、S3 バケットなどの追加リソースも作成されており、クリーンアップの一環として手動で削除する必要があるかもしれません。これは実行する例によって異なります。"
   ]
  },
  {
   "cell_type": "markdown",
   "id": "a22f158d-83b6-4d65-892f-9a208af3d742",
   "metadata": {},
   "source": [
    "## ゲートウェイの削除 (オプション)"
   ]
  },
  {
   "cell_type": "code",
   "execution_count": null,
   "id": "c3edc5b6-e5f0-47b9-994f-378415bad50d",
   "metadata": {},
   "outputs": [],
   "source": [
    "import utils\n",
    "utils.delete_gateway(gateway_client,gatewayID)"
   ]
  }
 ],
 "metadata": {
  "kernelspec": {
   "display_name": "Python 3 (ipykernel)",
   "language": "python",
   "name": "python3"
  },
  "language_info": {
   "codemirror_mode": {
    "name": "ipython",
    "version": 3
   },
   "file_extension": ".py",
   "mimetype": "text/x-python",
   "name": "python",
   "nbconvert_exporter": "python",
   "pygments_lexer": "ipython3",
   "version": "3.11.9"
  }
 },
 "nbformat": 4,
 "nbformat_minor": 5
}
