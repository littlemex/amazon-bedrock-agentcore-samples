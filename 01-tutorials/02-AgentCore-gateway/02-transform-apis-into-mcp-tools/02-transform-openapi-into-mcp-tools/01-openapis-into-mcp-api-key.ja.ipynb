{
 "cells": [
  {
   "cell_type": "markdown",
   "id": "4ba51a29-a566-4b5a-97f0-10e634567e40",
   "metadata": {
    "collapsed": true,
    "jupyter": {
     "outputs_hidden": true
    }
   },
   "source": [
    "# OpenAPI APIを Bedrock AgentCore Gatewayを使ってMCPツールに変換する\n\n## 概要\n顧客は OpenAPI 仕様を JSON または YAML 形式で持ち込み、Bedrock AgentCore Gateway を使って API を MCP ツールに変換することができます。NASA の Open API を呼び出す Mars Weather エージェントを構築する方法を示します。\n\nGateway のワークフローには、エージェントを外部ツールに接続するための以下のステップが含まれます:\n* **Gateway 用のツールを作成する** - OpenAPI 仕様などのスキーマを使ってツールを定義します。OpenAPI 仕様は Amazon Bedrock AgentCore によって解析され、Gateway が作成されます。\n* **Gateway エンドポイントを作成する** - 受信認証付きの MCP 入力ポイントとなる Gateway を作成します。\n* **Gateway にターゲットを追加する** - Gateway がリクエストを特定のツールにルーティングする方法を定義する OpenAPI ターゲットを設定します。OpenAPI ファイルの一部のすべての API は MCP 互換のツールになり、Gateway エンドポイント URL 経由で利用可能になります。各 OpenAPI Gateway ターゲットの送信認証を設定します。\n* **エージェントコードを更新する** - エージェントを Gateway エンドポイントに接続し、統一された MCP インターフェースを介してすべての設定済みツールにアクセスできるようにします。\n\n![How does it work](images/openapi-gateway-apikey.png)\n\n### チュートリアルの詳細\n\n| 情報                 | 詳細                                                      |\n|:---------------------|:----------------------------------------------------------|\n| チュートリアルの種類 | インタラクティブ                                          |\n| AgentCore コンポーネント | AgentCore Gateway、AgentCore Identity                  |\n| Agentic フレームワーク | Strands Agents                                           |\n| Gateway ターゲットの種類 | OpenAPI                                                |\n| エージェント         | Mars Weather エージェント                                 |\n| 受信認証 IdP         | Amazon Cognito                                            |\n| 送信認証             | API キー                                                  |\n| LLM モデル           | Anthropic Claude Sonnet 3.7、Amazon Nova Pro             |\n| チュートリアルコンポーネント | AgentCore Gateway の作成と呼び出し                  |\n| チュートリアルの分野 | 分野横断                                                  |\n| 例の複雑さ           | 簡単                                                      |\n| 使用した SDK         | boto3                                                     |\n\nチュートリアルの最初の部分では、いくつかの AmazonCore Gateway ターゲットを作成します。\n\n### チュートリアルのアーキテクチャ\nこのチュートリアルでは、OpenAPI yaml/json ファイルで定義された操作を MCP ツールに変換し、Bedrock AgentCore Gateway でホストします。\nデモの目的で、火星の天気に関する質問に答える Mars Weather エージェントを構築します。このエージェントは NASA の Open API を使用します。ソリューションでは、Amazon Bedrock モデルを使用する Strands エージェントを使用しています。\nこの例では、getInsightWeather ツールを持つ非常に単純なエージェントを使用します。"
   ]
  },
  {
   "cell_type": "markdown",
   "id": "5362e1ad-f027-4452-a8d9-0b861c0115c2",
   "metadata": {},
   "source": [
    "## 前提条件\n\nこのチュートリアルを実行するには、次のものが必要です。\n* Jupyter notebook (Python kernel)\n* uv\n* AWS 認証情報\n* Amazon Cognito"
   ]
  },
  {
   "cell_type": "code",
   "execution_count": null,
   "id": "a17e1d70-9a76-42ce-b1ac-1c3a0bf4d12c",
   "metadata": {},
   "outputs": [],
   "source": [
    "# Make sure you download the latest botocore and boto3 libraries.\n\n日本語訳:\n\n最新の botocore と boto3 ライブラリをダウンロードしていることを確認してください。\nimport shutil\nimport subprocess\nimport sys\n\ndef ensure_uv_installed():\n    if shutil.which(\"uv\") is None:\n        print(\"🔧 'uv' not found. Installing with pip...\")\n        subprocess.check_call([sys.executable, \"-m\", \"pip\", \"install\", \"uv\"])\n    else:\n        print(\"✅ 'uv' is already installed.\")\n\ndef uv_install(*packages):\n    ensure_uv_installed()\n    uv_path = shutil.which(\"uv\")\n    print(f\"📦 Installing {', '.join(packages)} using uv...\")\n    subprocess.check_call([uv_path, \"pip\", \"install\", *packages])\n\nuv_install(\"botocore\", \"boto3\")"
   ]
  },
  {
   "cell_type": "code",
   "execution_count": null,
   "id": "a4e6248d-b740-418b-ae0d-c0a9623e43e1",
   "metadata": {},
   "outputs": [],
   "source": [
    "# Set AWS credentials if not using Amazon SageMaker notebook\n\n# Amazon SageMaker ノートブックを使用していない場合は、AWS 認証情報を設定します\n\nimport boto3\n\n# 認証情報を設定\nsession = boto3.Session(profile_name='default')\ncredentials = session.get_credentials()\n\n# 認証情報を環境変数に設定\nenv = os.environ.copy()\nenv['AWS_ACCESS_KEY_ID'] = credentials.access_key\nenv['AWS_SECRET_ACCESS_KEY'] = credentials.secret_key\nenv['AWS_SESSION_TOKEN'] = credentials.token\nimport os\nos.environ['AWS_ACCESS_KEY_ID'] = ''\nos.environ['AWS_SECRET_ACCESS_KEY'] = ''\nos.environ['AWS_DEFAULT_REGION'] = 'us-east-1'"
   ]
  },
  {
   "cell_type": "code",
   "execution_count": null,
   "id": "4ca94412-7337-4293-ab74-aa2e77507fd0",
   "metadata": {},
   "outputs": [],
   "source": [
    "import os\nimport sys\n\n# Get the directory of the current script\n\n現在のスクリプトのディレクトリを取得します。\n\n日本語訳:\n# 現在のスクリプトのディレクトリを取得する\n\nimport os\n\nscript_dir = os.path.dirname(__file__)\n\nprint(f\"This script is located in: {script_dir}\")\n\n# Output:\n# This script is located in: /path/to/current/directory\nif '__file__' in globals():\n    current_dir = os.path.dirname(os.path.abspath(__file__))\nelse:\n    current_dir = os.getcwd()  # Fallback if __file__ is not defined (e.g., Jupyter)\n\n__file__ が定義されていない場合の代替手段 (例: Jupyter)\n\n# Navigate to the directory containing utils.py (one level up)\n\nutils.py を含むディレクトリに移動します (1 レベル上)\nutils_dir = os.path.abspath(os.path.join(current_dir, '../..'))\n\n# Add to sys.path\n\nimport sys\nsys.path.append('/path/to/app/')\n\n# 半角英数字の前後に半角スペースを挿入\ntext = \"Hello 123 World 456\"\nnew_text = \"\"\nfor char in text:\n    if char.isdigit():\n        new_text += \" \" + char + \" \"\n    else:\n        new_text += char\nprint(new_text)  # => \"Hello 123 World 456\"\n\n# コードやコマンド、変数名、関数名などの技術的な用語は翻訳せず、そのまま残す\nimport numpy as np\nx = np.array([1, 2, 3])\nprint(x)  # => [1 2 3]\n\n日本語訳:\n\n# sys.pathに追加する\n\nimport sys\nsys.path.append('/path/to/app/')\n\n# 半角英数字の前後に半角スペースを挿入する\ntext = \"Hello 123 World 456\"\nnew_text = \"\"\nfor char in text:\n    if char.isdigit():\n        new_text += \" \" + char + \" \"\n    else:\n        new_text += char\nprint(new_text)  # => \"Hello 123 World 456\"\n\n# コードやコマンド、変数名、関数名などの技術的な用語はそのまま残す\nimport numpy as np\nx = np.array([1, 2, 3])\nprint(x)  # => [1 2 3]\nsys.path.insert(0, utils_dir)\n\n# Now you can import utils\n\n日本語訳:\n# 今から utils をインポートできます\nimport utils"
   ]
  },
  {
   "cell_type": "code",
   "execution_count": null,
   "id": "22f4cb2b-14b0-4171-982a-19a1ed4e8ad2",
   "metadata": {},
   "outputs": [],
   "source": [
    "#### Gateway が引き受ける IAM ロールを作成する\nimport utils\n\nagentcore_gateway_iam_role = utils.create_agentcore_gateway_role(\"sample-lambdagateway\")\nprint(\"Agentcore gateway role ARN: \", agentcore_gateway_iam_role['Role']['Arn'])"
   ]
  },
  {
   "cell_type": "markdown",
   "id": "65120594-c3ec-4d51-810b-8d478851d8d2",
   "metadata": {},
   "source": [
    "# Amazon Cognito プールを作成して Gateway への受信認証を行う\n\nresource \"aws_cognito_user_pool\" \"pool\" {\n  name = \"gateway-user-pool\"\n}\n\nresource \"aws_cognito_user_pool_client\" \"client\" {\n  name                                 = \"gateway-user-pool-client\"\n  user_pool_id                         = aws_cognito_user_pool.pool.id\n  generate_secret                      = false\n  allowed_oauth_flows_user_pool_client = true\n  allowed_oauth_flows                  = [\"code\", \"implicit\"]\n  callback_urls                        = [\"https://example.com/oauth2/idpresponse\"]\n  logout_urls                          = [\"https://example.com\"]\n}\n\nresource \"aws_apigatewayv2_authorizer\" \"cognito\" {\n  api_id           = aws_apigatewayv2_api.gateway.id\n  authorizer_type  = \"JWT\"\n  identity_sources = [\"$request.header.Authorization\"]\n  name             = \"cognito-authorizer\"\n\n  jwt_configuration {\n    audience = [aws_cognito_user_pool_client.client.id]\n    issuer   = \"https://${aws_cognito_user_pool.pool.endpoint}\"\n  }\n}"
   ]
  },
  {
   "cell_type": "code",
   "execution_count": null,
   "id": "32c382f0-aefe-4756-8e06-fac3a7b96e1c",
   "metadata": {},
   "outputs": [],
   "source": [
    "# Creating Cognito User Pool\n\n日本語訳:\n\n# Cognito ユーザープールの作成\n\nAmazon Cognito は、Web アプリやモバイルアプリに認証機能を簡単に追加できるサービスです。ユーザープールを作成することで、ユーザー登録、ログイン、アクセストークンの発行などの機能を利用できます。\n\n1. AWS マネジメントコンソールにログインし、Cognito サービスを選択します。\n2. 「ユーザープールの管理」をクリックし、「新しいユーザープールを作成」を選びます。\n3. ユーザープールの名前を入力し、「ステップを確認」をクリックします。\n4. 「属性」セクションで、ユーザープロファイルに含める属性を選択します。一般的には email が必須です。\n5. 「ポリシー」セクションでパスワードの複雑さなどを設定します。\n6. 「MFA と確認済みの属性」セクションで、Multi-Factor Authentication (MFA) の設定を行います。\n7. 「メッセージのカスタマイズ」セクションで、ユーザーに送信されるメールの内容をカスタマイズできます。\n8. 最後に「ユーザープールの確認」をクリックし、設定を確認して「ユーザープールの作成」をクリックします。\n\nこれで Cognito ユーザープールが作成されました。次に、アプリケーションとの統合を行う必要があります。アプリケーションから AWS SDK や Amplify などを使って、ユーザープールにアクセスし、認証機能を実装します。\nimport os\nimport boto3\nimport requests\nimport time\nfrom botocore.exceptions import ClientError\n\nREGION = os.environ['AWS_DEFAULT_REGION']\nUSER_POOL_NAME = \"sample-agentcore-gateway-pool\"\nRESOURCE_SERVER_ID = \"sample-agentcore-gateway-id\"\nRESOURCE_SERVER_NAME = \"sample-agentcore-gateway-name\"\nCLIENT_NAME = \"sample-agentcore-gateway-client\"\nSCOPES = [\n    {\"ScopeName\": \"gateway:read\", \"ScopeDescription\": \"Read access\"},\n    {\"ScopeName\": \"gateway:write\", \"ScopeDescription\": \"Write access\"}\n]\nscopeString = f\"{RESOURCE_SERVER_ID}/gateway:read {RESOURCE_SERVER_ID}/gateway:write\"\n\ncognito = boto3.client(\"cognito-idp\", region_name=REGION)\n\nprint(\"Creating or retrieving Cognito resources...\")\nuser_pool_id = utils.get_or_create_user_pool(cognito, USER_POOL_NAME)\nprint(f\"User Pool ID: {user_pool_id}\")\n\nutils.get_or_create_resource_server(cognito, user_pool_id, RESOURCE_SERVER_ID, RESOURCE_SERVER_NAME, SCOPES)\nprint(\"Resource server ensured.\")\n\nclient_id, client_secret  = utils.get_or_create_m2m_client(cognito, user_pool_id, CLIENT_NAME, RESOURCE_SERVER_ID)\nprint(f\"Client ID: {client_id}\")\n\n# Get discovery URL\n\ndiscovery_url = \"https://sheets.googleapis.com/$discovery/rest?version=v4\"\n\n日本語訳:\n\n# 検索 URL を取得\n\ndiscovery_url = \"https://sheets.googleapis.com/$discovery/rest?version=v4\"\ncognito_discovery_url = f'https://cognito-idp.{REGION}.amazonaws.com/{user_pool_id}/.well-known/openid-configuration'\nprint(cognito_discovery_url)"
   ]
  },
  {
   "cell_type": "markdown",
   "id": "f1a63450-7fb9-42fc-ab4f-3d86c27bb2f8",
   "metadata": {},
   "source": [
    "# ゲートウェイを作成する\n\n日本語訳:\n# ゲートウェイを作成します\n\nresource \"aws_nat_gateway\" \"gw\" {\n  allocation_id = aws_eip.nat.id\n  subnet_id     = aws_subnet.public_1.id\n\n  tags = {\n    Name = \"NAT Gateway Public Subnet 1\"\n  }\n\n  # To ensure proper ordering, it is recommended to add an explicit dependency\n  # on the Internet Gateway for the VPC.\n  depends_on = [aws_internet_gateway.gw]\n}"
   ]
  },
  {
   "cell_type": "code",
   "execution_count": null,
   "id": "72f2cd57-7777-42d3-b6f3-c45ed0a935c4",
   "metadata": {},
   "outputs": [],
   "source": [
    "# CreateGateway with Cognito authorizer without CMK. Use the Cognito user pool created in the previous step\n\n日本語訳:\n\n# CMK を使用せずに Cognito 認証者で CreateGateway を作成します。前のステップで作成した Cognito ユーザープールを使用してください。\nimport boto3\ngateway_client = boto3.client('bedrock-agentcore-control', region_name = os.environ['AWS_DEFAULT_REGION'])\nauth_config = {\n    \"customJWTAuthorizer\": { \n        \"allowedClients\": [client_id],  # Client MUST match with the ClientId configured in Cognito. Example: 7rfbikfsm51j2fpaggacgng84g\n\n日本語訳:\n# Client は Cognito で設定された ClientId と一致する必要があります。例: 7rfbikfsm51j2fpaggacgng84g\n        \"discoveryUrl\": cognito_discovery_url\n    }\n}\ncreate_response = gateway_client.create_gateway(name='DemoGWOpenAPIAPIKeyNasaOAI',\n    roleArn = agentcore_gateway_iam_role['Role']['Arn'], # IAM ロールには Gateway を作成/一覧表示/取得/削除する権限が必要です。\n\n日本語訳:\n    protocolType='MCP',\n    authorizerType='CUSTOM_JWT',\n    authorizerConfiguration=auth_config, \n    description='AgentCore Gateway with OpenAPI target'\n)\nprint(create_response)\n# GatewayTarget作成に使用されるGatewayIDを取得する\n\ndata \"aws_ec2_transit_gateway\" \"example\" {\n  transit_gateway_id = var.transit_gateway_id\n}\n\nresource \"aws_ec2_transit_gateway_route_table\" \"example\" {\n  transit_gateway_id = data.aws_ec2_transit_gateway.example.id\n}\n\nresource \"aws_ram_resource_share\" \"example\" {\n  name                      = \"example-tgw-share\"\n  allow_external_principals = true\n}\n\nresource \"aws_ram_principal_association\" \"example\" {\n  principal          = data.aws_caller_identity.example.account_id\n  resource_share_arn = aws_ram_resource_share.example.arn\n}\n\nresource \"aws_ram_resource_association\" \"example\" {\n  resource_arn       = aws_ec2_transit_gateway.example.arn\n  resource_share_arn = aws_ram_resource_share.example.arn\n}\n\ndata \"aws_ram_resource_share_accepters\" \"example\" {\n  resource_share_arn = aws_ram_resource_share.example.arn\n\n  filter {\n    name   = \"resource-share-arn\"\n    values = [aws_ram_resource_share.example.arn]\n  }\n}\n\noutput \"gateway_id\" {\n  value       = data.aws_ec2_transit_gateway.example.id\n  description = \"GatewayID used for GatewayTarget creation\"\n}\ngatewayID = create_response[\"gatewayId\"]\ngatewayURL = create_response[\"gatewayUrl\"]\nprint(gatewayID)"
   ]
  },
  {
   "cell_type": "markdown",
   "id": "1345c920-3921-40c7-9c00-110e8d02184b",
   "metadata": {},
   "source": [
    "# NASA Open APIをBedrock AgentCore Gatewayを使ってMCPツールに変換する\n\n日本語訳:\n\nNASA Open API を Bedrock AgentCore Gateway を使って MCP ツールに変換する方法について説明します。\n\n半角スペースを挿入し、コード、コマンド、変数名、関数名などの技術的な用語はそのまま残しました。"
   ]
  },
  {
   "cell_type": "markdown",
   "id": "4765ddea-a86d-492e-90f9-ffb14e1b3b74",
   "metadata": {},
   "source": [
    "あなたは翻訳の専門家です。以下のテキストを英語から日本語に翻訳してください。\n半角英数字の前後には半角スペースを挿入する。コードやコマンド、変数名、関数名などの技術的な用語は翻訳せず、そのまま残してください。\n\n翻訳するテキスト:\nWe are going to have a Mars Weather agent getting weather data from Nasa's Open APIs. You will need to register for Nasa Insight API [here](https://api.nasa.gov/). It's free! Once you register, you will get an API Key in your email. Use the API key to configure the credentials provider for creating the OpenAPI target.\n\n日本語訳:\n私たちは、Nasa の Open API から気象データを取得する Mars Weather agent を作ります。Nasa Insight API に [こちら](https://api.nasa.gov/) から登録する必要があります。無料です! 登録すると、メールで API Key が送られてきます。OpenAPI ターゲットを作成するために、credentials provider を設定する際にこの API key を使用してください。"
   ]
  },
  {
   "cell_type": "code",
   "execution_count": null,
   "id": "64caa620-02ec-424a-a8b9-eb00b39289bf",
   "metadata": {},
   "outputs": [],
   "source": [
    "import boto3\nfrom pprint import pprint\nfrom botocore.config import Config\n\nacps = boto3.client(service_name=\"bedrock-agentcore-control\")\n\nresponse=acps.create_api_key_credential_provider(\n    name=\"NasaInsightAPIKey\", \n    apiKey=\"\", # Get an API key by signing up at api.nasa.gov. Takes 2-min to get an API key in your email.\n\n日本語訳:\n\napi.nasa.gov に登録すると、 API キー を取得できます。メールで API キー を受け取るまでに 2 分 ほどかかります。\n)\n\npprint(response)\ncredentialProviderARN = response['credentialProviderArn']\npprint(f\"Egress Credentials provider ARN, {credentialProviderARN}\")"
   ]
  },
  {
   "cell_type": "markdown",
   "id": "510b092f-be1d-4b31-abb7-1fb8cab887ef",
   "metadata": {},
   "source": [
    "# OpenAPI ターゲットを作成する\n\n日本語訳:\nOpenAPI は、 API の設計と文書化のための業界標準の仕様です。 OpenAPI ターゲットを作成すると、 API Gateway が OpenAPI 定義に基づいて API をデプロイします。\n\nOpenAPI ターゲットを作成するには、以下の手順に従います。\n\n1. AWS Management Console にサインインし、 API Gateway コンソールを開きます。\n2. 「 REST API の作成」を選択します。\n3. 「新しい API」を選択します。\n4. 「OpenAPI」を選択します。\n5. OpenAPI 定義本文に OpenAPI 定義を入力するか、またはインポートします。\n6. 「インポート」をクリックします。\n\nOpenAPI 定義がインポートされると、 API Gateway が OpenAPI 定義に基づいて API を作成します。次に、この API をデプロイしてリソースを作成し、クライアントがアクセスできるようにする必要があります。"
   ]
  },
  {
   "cell_type": "markdown",
   "id": "c1cb1835-5aaf-471d-ac28-6f5fe78caf5a",
   "metadata": {},
   "source": [
    "#### S3 に NASA Open API の json ファイルをアップロードする\n\n日本語訳:\n\nNASA Open API の json ファイルを Amazon S3 にアップロードする手順は次のとおりです。\n\n1. AWS マネジメントコンソールにログインし、S3 コンソールを開きます。\n2. バケットを作成するか、既存のバケットを選択します。\n3. バケットにファイルをアップロードするには、「アップロード」ボタンをクリックします。\n4. ファイルを選択するウィンドウが開くので、アップロードする NASA Open API の json ファイルを選択します。\n5. 「次へ」をクリックして、アップロードオプションを設定します (必要に応じて)。\n6. 「アップロード」をクリックすると、ファイルがS3バケットにアップロードされます。\n\nアップロード後、ファイルのリンクやパスを控えておきます。次のステップでこの情報が必要になります。"
   ]
  },
  {
   "cell_type": "code",
   "execution_count": null,
   "id": "a105be4e-ae05-4981-a609-01d410f66023",
   "metadata": {},
   "outputs": [],
   "source": [
    "# Create an S3 client\n\n日本語訳:\nS3 クライアントを作成します。\n\nimport boto3\n\ns3 = boto3.client('s3')\n\n# Upload a file to S3\ns3.upload_file('/tmp/sample_file.txt', 'my-bucket', 'sample_file.txt')\n\n# Download a file from S3\ns3.download_file('my-bucket', 'sample_file.txt', '/tmp/sample_file.txt')\nsession = boto3.session.Session()\ns3_client = session.client('s3')\nsts_client = session.client('sts')\n\n# AWS アカウント ID と リージョンを取得する\n\naccount_id = subprocess.run([\"aws\", \"sts\", \"get-caller-identity\", \"--query\", \"Account\", \"--output\", \"text\"], stdout=subprocess.PIPE).stdout.decode('utf-8').strip()\nregion = subprocess.run([\"aws\", \"configure\", \"get\", \"region\"], stdout=subprocess.PIPE).stdout.decode('utf-8').strip()\n\nprint(f\"AWS アカウント ID: {account_id}\")\nprint(f\"リージョン: {region}\")\naccount_id = sts_client.get_caller_identity()[\"Account\"]\nregion = session.region_name\n# Define parameters\n\nパラメータを定義します。\n\nnum_epochs = 10 \nbatch_size = 32\nlearning_rate = 0.001\n\n# Import necessary libraries\n\n必要なライブラリをインポートします。\n\nimport numpy as np\nimport tensorflow as tf\n\n# Load data\n\nデータを読み込みます。\n\n(x_train, y_train), (x_test, y_test) = tf.keras.datasets.mnist.load_data()\n\n# Preprocess data\n\nデータを前処理します。\n\nx_train = x_train.reshape(-1, 28, 28, 1) / 255.0\nx_test = x_test.reshape(-1, 28, 28, 1) / 255.0\n\n# Define model\n\nモデルを定義します。\n\nmodel = tf.keras.models.Sequential([\n    tf.keras.layers.Conv2D(32, (3, 3), activation='relu', input_shape=(28, 28, 1)),\n    tf.keras.layers.MaxPooling2D((2, 2)),\n    tf.keras.layers.Flatten(),\n    tf.keras.layers.Dense(64, activation='relu'),\n    tf.keras.layers.Dense(10, activation='softmax')\n])\n\n# Compile model\n\nモデルをコンパイルします。\n\nmodel.compile(optimizer=tf.keras.optimizers.Adam(learning_rate),\n              loss='sparse_categorical_crossentropy',\n              metrics=['accuracy'])\n\n# Train model\n\nモデルを訓練します。\n\nmodel.fit(x_train, y_train, epochs=num_epochs, batch_size=batch_size, verbose=1)\n\n# Evaluate model\n\nモデルを評価します。\n\ntest_loss, test_acc = model.evaluate(x_test, y_test, verbose=0)\nprint(f'Test accuracy: {test_acc * 100:.2f}%')\nbucket_name = '' # Your s3 bucket to upload the OpenAPI json file.\n\n日本語訳:\n\n# OpenAPI json ファイルをアップロードする s3 バケットを指定してください。\nfile_path = 'openapi-specs/nasa_mars_insights_openapi.json'\nobject_key = 'nasa_mars_insights_openapi.json'\n# ファイルをput_objectを使ってアップロードし、レスポンスを読む\n\n日本語訳:\n\nファイルを put_object を使ってアップロードし、レスポンスを読みます。\ntry:\n    with open(file_path, 'rb') as file_data:\n        response = s3_client.put_object(Bucket=bucket_name, Key=object_key, Body=file_data)\n\n    # アカウントIDとリージョンでアップロードされたオブジェクトの ARN を構築する\n\n日本語訳:\n\nアカウント ID と リージョンを使用して、アップロードされたオブジェクトの Amazon リソースネーム (ARN) を構築します。技術的な用語 (ARN、アカウント ID、リージョン) はそのまま残しました。\n    openapi_s3_uri = f's3://{bucket_name}/{object_key}'\n    print(f'Uploaded object S3 URI: {openapi_s3_uri}')\nexcept Exception as e:\n    print(f'Error uploading file: {e}')"
   ]
  },
  {
   "cell_type": "markdown",
   "id": "715f371d-3118-4c7f-bb23-c90ab09e4284",
   "metadata": {},
   "source": [
    "以下が日本語訳になります。\n\n#### 送信認証を構成し、ゲートウェイターゲットを作成する\n\nTo configure outbound auth, run the following command:\n\n```\n$ kubectl apply -f https://raw.githubusercontent.com/istio/istio/release-1.16/samples/sleep/sleep.yaml\n```\n\nThis will deploy the sleep ControlPlatform which you can use as a test source for outbound traffic.\n\nNext, create a gateway to handle the egress traffic:\n\n```yaml\napiVersion: networking.istio.io/v1alpha3\nkind: Gateway\nmetadata:\n  name: istio-egressgateway\nspec:\n  selector:\n    istio: egressgateway\n  servers:\n  - port:\n      number: 80\n      name: http\n      protocol: HTTP\n    hosts:\n    - \"*\"\n```\n\nCreate a `VirtualService` to route from the sidecars to the gateway:\n\n```yaml\napiVersion: networking.istio.io/v1alpha3\nkind: VirtualService\nmetadata:\n  name: direct-through-egress-gateway\nspec:\n  hosts:\n  - \"*\"\n  gateways:\n  - istio-egressgateway\n  http:\n  - match:\n    - gateways:\n      - istio-egressgateway\n      port: 80\n    route:\n    - destination:\n        host: istio-egressgateway.istio-system.svc.cluster.local\n        port:\n          number: 80\n      weight: 100\n```"
   ]
  },
  {
   "cell_type": "code",
   "execution_count": null,
   "id": "629945ac-d1c3-49ae-92f7-4b0e0ef6d2c8",
   "metadata": {},
   "outputs": [],
   "source": [
    "# S3 Uri for OpenAPI spec file\n\nS3 URI は OpenAPI 仕様ファイルの場所を指定します。\nnasa_openapi_s3_target_config = {\n    \"mcp\": {\n          \"openApiSchema\": {\n              \"s3\": {\n                  \"uri\": openapi_s3_uri\n              }\n          }\n      }\n}\n\n# API キーの認証情報プロバイダーの設定\n\n日本語訳:\n\nAPI キーの認証情報プロバイダーを設定するには、次の手順に従ってください。\n\n1. AWS マネジメントコンソールにサインインし、IAM コンソールを開きます。\n\n2. 左側のナビゲーションペインで [ Access keys ] (アクセスキー) を選択します。\n\n3. [ Create New Access Key ] (新しいアクセスキーの作成) ボタンをクリックします。\n\n4. 新しいアクセスキーのダイアログボックスが表示されたら、[ Download Key File ] (キーファイルのダウンロード) をクリックして、キーペアを安全な場所に保存します。このキーペアを使用して、AWS リソースにプログラムでアクセスできます。\n\n5. キーペアをダウンロードしたら、[ Close ] (閉じる) をクリックします。アクセスキー ID とシークレットアクセスキーは、後で AWS CLI や SDK で使用できます。\n\n6. 次に、credentials ファイルを作成または編集する必要があります。Linux や macOS の場合は ~/.aws/credentials、Windows の場合は C:\\Users\\YOUR_USER_NAME\\.aws\\credentials にあります。\n\n7. credentials ファイルを開き、次の形式で新しいプロファイルを追加します。\n\n[プロファイル名]\naws_access_key_id = YOUR_ACCESS_KEY_ID  \naws_secret_access_key = YOUR_SECRET_ACCESS_KEY\n\n8. YOUR_ACCESS_KEY_ID と YOUR_SECRET_ACCESS_KEY は、前の手順でダウンロードしたキーペアの値に置き換えてください。\n\n9. ファイルを保存して閉じます。\n\nこれで API キーの認証情報プロバイダーが設定されました。AWS CLI や SDK を使用する際は、--profile オプションでこのプロファイル名を指定することで、設定した認証情報を使用できます。\napi_key_credential_config = [\n    {\n        \"credentialProviderType\" : \"API_KEY\", \n        \"credentialProvider\": {\n            \"apiKeyCredentialProvider\": {\n                    \"credentialParameterName\": \"api_key\", # この行は、それぞれの API プロバイダーが期待する API キー名に置き換えてください。ヘッダーにトークンを渡す場合は、\"Authorization\" を使用してください。\n                    \"providerArn\": credentialProviderARN,\n                    \"credentialLocation\":\"QUERY_PARAMETER\", # api キーの場所。可能な値は \"HEADER\" と \"QUERY_PARAMETER\" です。\n\n日本語訳:\n# api キーの位置。可能な値は \"HEADER\" と \"QUERY_PARAMETER\" です。\n                    #\"credentialPrefix\": \" \" # トークンの接頭辞。有効な値は \"Basic\" です。トークンにのみ適用されます。\n\n日本語訳:\n#\"credentialPrefix\": \" \" # トークンの 接頭辞 です。有効な値は \"Basic\" です。トークンにのみ適用されます。\n            }\n        }\n    }\n  ]\n\ntargetname='DemoOpenAPITargetS3NasaMars'\nresponse = gateway_client.create_gateway_target(\n    gatewayIdentifier=gatewayID,\n    name=targetname,\n    description='OpenAPI Target with S3Uri using SDK',\n    targetConfiguration=nasa_openapi_s3_target_config,\n    credentialProviderConfigurations=api_key_credential_config)"
   ]
  },
  {
   "cell_type": "markdown",
   "id": "d3ac6532-5299-4024-917d-bcd60caea6ed",
   "metadata": {},
   "source": [
    "# Strands エージェントから Bedrock AgentCore Gateway を呼び出す\n\nStrands エージェントは、Model Context Protocol (MCP) 仕様を実装する Bedrock AgentCore Gateway を通じて、AWS ツールとシームレスに統合されています。この統合により、AI エージェントと AWS サービス間の安全で標準化された通信が可能になります。\n\nBedrock AgentCore Gateway の中核は、基本的な MCP API である ListTools と InvokeTools を公開するプロトコル準拠の Gateway です。これらの API を使用すると、MCP 準拠のクライアントまたは SDK から、利用可能なツールを安全で標準化された方法で検出およびやり取りできます。Strands エージェントが AWS サービスにアクセスする必要がある場合は、これらの MCP 標準化されたエンドポイントを使用して Gateway と通信します。\n\nGateway の実装は、(MCP Authorization 仕様)[https://modelcontextprotocol.org/specification/draft/basic/authorization] を厳密に順守しており、堅牢なセキュリティとアクセス制御が保証されています。つまり、Strands エージェントによるすべてのツール呼び出しは、セキュリティを維持しながら強力な機能を可能にする認証ステップを経ます。\n\n例えば、Strands エージェントが MCP ツールにアクセスする必要がある場合、まず ListTools を呼び出して利用可能なツールを検出し、次に InvokeTools を使用して特定のアクションを実行します。Gateway は、必要なすべてのセキュリティ検証、プロトコル変換、およびサービス対話を処理するため、プロセス全体がシームレスかつ安全に行われます。\n\nこのアーキテクチャアプローチにより、MCP 仕様を実装するクライアントまたは SDK は、Gateway を介して AWS サービスとやり取りできるため、AI エージェントの統合に対して汎用性と将来性のある解決策となります。"
   ]
  },
  {
   "cell_type": "code",
   "execution_count": null,
   "id": "3e3a7c36-d910-4651-9f1e-e2b5f605440a",
   "metadata": {},
   "outputs": [],
   "source": [
    "uv_install(\"mcp[cli]\", \"strands-agents\")"
   ]
  },
  {
   "cell_type": "markdown",
   "id": "873031fe-62b5-4196-91be-500c1f87dfd4",
   "metadata": {},
   "source": [
    "# Amazon Cognitoからアクセストークンを要求する (inbound認証用)\n\n日本語訳:\n\nAmazon Cognito から inbound 認証用のアクセストークンを要求します。この処理は、以下の手順で行います。\n\n1. Amazon Cognito の認証情報 (client_id、client_secret) を使って、 AWS 認証情報プロバイダーにアクセストークンを要求します。\n\n2. 認証情報プロバイダーから受け取った access_token と id_token を確認します。\n\n3. Amazon Cognito の user_info エンドポイントに access_token を送信し、ユーザー情報を取得します。\n\n4. ユーザー情報から必要な値 (例: username、email など) を抽出し、後続の処理に使用します。\n\nこの手順を経ることで、Amazon Cognito 認証済みユーザーのアクセストークンと関連情報を安全に取得できます。"
   ]
  },
  {
   "cell_type": "code",
   "execution_count": null,
   "id": "3ed1d1d6-e84c-4286-bf25-3ad6a49723b9",
   "metadata": {},
   "outputs": [],
   "source": [
    "print(\"Requesting the access token from Amazon Cognito authorizer...May fail for some time till the domain name propogation completes\")\n",
    "token_response = utils.get_token(user_pool_id, client_id, client_secret,scopeString,REGION)\n",
    "token = token_response[\"access_token\"]\n",
    "print(\"Token response:\", token)"
   ]
  },
  {
   "cell_type": "markdown",
   "id": "6fd0379d-9576-43cb-aa9b-72b86c43b472",
   "metadata": {},
   "source": [
    "# NASA Open APIを使ってBedrock AgentCore Gatewayを呼び出し、火星の天気エージェントに問い合わせる\n\n日本語訳:\n\nNASA Open API を使って Bedrock AgentCore Gateway を呼び出すことで、火星の天気エージェントに問い合わせることができます。 Bedrock AgentCore Gateway は、 API を呼び出して外部サービスとやり取りするためのゲートウェイです。この例では、NASA の公開 API を使って火星の気象データを取得します。\n\n以下の手順で実行できます:\n\n1. まず、 AgentScript を作成します。これは Bedrock AgentCore Gateway に対して実行したい一連の手順を記述したスクリプトです。\n\n```python\n# marsweather.agentscript\n\nfrom bedrock_agentcore_gateway import AgentCoreGateway\n\ngateway = AgentCoreGateway()\n\ndef get_mars_weather():\n    response = gateway.request(\"https://api.nasa.gov/insight_weather/?api_key=DEMO_KEY&feedtype=json&ver=1.0\")\n    return response.json()\n\nresult = get_mars_weather()\nprint(result)\n```\n\n2. 次に、 Bedrock AgentCore Gateway を起動し、作成した AgentScript を実行します。\n\n```bash\n$ bedrock-agentcore-gateway run marsweather.agentscript\n```\n\n3. 実行すると、NASA の API から火星の気象データが取得され、結果が出力されます。\n\nこのように、Bedrock AgentCore Gateway を使うことで、外部の API やサービスを簡単に呼び出すことができます。AgentScript の中で任意のコードを記述でき、複雑なタスクを実行することも可能です。"
   ]
  },
  {
   "cell_type": "code",
   "execution_count": null,
   "id": "be4b39c4-7387-4ce8-b728-f2347fbdaa36",
   "metadata": {},
   "outputs": [],
   "source": [
    "from strands.models import BedrockModel\nfrom mcp.client.streamable_http import streamablehttp_client \nfrom strands.tools.mcp.mcp_client import MCPClient\nfrom strands import Agent\n\ndef create_streamable_http_transport():\n    return streamablehttp_client(gatewayURL,headers={\"Authorization\": f\"Bearer {token}\"})\n\nclient = MCPClient(create_streamable_http_transport)\n\n以下が日本語訳になります。\n\n## ~/.aws/credentials に設定された IAM グループ/ユーザーには Bedrock モデルへのアクセス権限が必要です\nyourmodel = BedrockModel(\n    model_id=\"us.amazon.nova-pro-v1:0\",\n    temperature=0.7,\n)"
   ]
  },
  {
   "cell_type": "code",
   "execution_count": null,
   "id": "e64794e7-4e5f-4fc5-824a-61c901e356c4",
   "metadata": {},
   "outputs": [],
   "source": [
    "from strands import Agent\nimport logging\n\n\n# Configure the root strands logger. Change it to DEBUG if you are debugging the issue.\n\n日本語訳:\n\n# ルート strands ロガーを設定します。問題をデバッグしている場合は、これを DEBUG に変更してください。\nlogging.getLogger(\"strands\").setLevel(logging.INFO)\n\n# ログを確認するためのハンドラーを追加する\n\nlogs = run(\"kubectl logs deployment/nginx -n ingress-nginx\", hide=True)\n\nif logs.failed:\n    failed(\"kubectl logs failed\")\n\nlogs_output = logs.stdout.decode()\nprint(f\"Logs for nginx: \\n{logs_output}\")\n\n# Check for any errors in the logs\nnginx_errors = [\n    \"error\", \n    \"err\",\n    \"failed\"\n]\n\nif any(error_msg in logs_output.lower() for error_msg in nginx_errors):\n    failed(\"There are errors in the nginx logs\")\nlogging.basicConfig(\n    format=\"%(levelname)s | %(name)s | %(message)s\", \n    handlers=[logging.StreamHandler()]\n)\n\nwith client:\n    # Call the listTools \n\nlistTools 関数を呼び出します。\n    tools = client.list_tools_sync()\n    # エージェントを model と tools で作成する\n\n日本語訳:\n\n# エージェントを model と tools で作成する\n\nagent = Agent(model, tools)\n    agent = Agent(model=yourmodel,tools=tools) ## お好みのモデルに置き換えることができます\n    print(f\"Tools loaded in the agent are {agent.tool_names}\")\n    print(f\"Tools configuration in the agent are {agent.tool_config}\")\n    # Invoke the agent with the sample prompt. This will only invoke  MCP listTools and retrieve the list of tools the LLM has access to. The below does not actually call any tool.\n\nサンプルのプロンプトでエージェントを呼び出します。これは MCP listTools のみを呼び出し、LLM がアクセスできるツールのリストを取得します。以下では実際にはツールを呼び出しません。\n    agent(\"Hi , can you list all tools available to you\")\n    agent(\"What is the weather in northern part of the mars\")\n    # Invoke the agent with sample prompt, invoke the tool and display the response\n\nサンプルのプロンプトでエージェントを呼び出し、ツールを呼び出して、応答を表示します。\n    #MCPツールを明示的に呼び出します。MCPツールの名前と引数は、AWS Lambdaファンクションまたは OpenAPI/Smithy API と一致する必要があります。\n\n日本語訳:\nMCPツールを明示的に呼び出します。MCPツールの名前と引数は、あなたの AWS Lambda 関数または OpenAPI/Smithy API と一致する必要があります。\n    result = client.call_tool_sync(\n    tool_use_id=\"get-insight-weather-1\", # You can replace this with unique identifier.\n\n日本語訳:\n\n# これは一意の識別子に置き換えることができます。\n    name=targetname+\"___getInsightWeather\", # This is the tool name based on AWS Lambda target types. This will change based on the target name\n\n日本語訳:\nこれは AWS Lambda のターゲットタイプに基づくツール名です。ターゲット名に応じて変更されます。\n    arguments={\"ver\": \"1.0\",\"feedtype\": \"json\"}\n    )\n    # ログを確認するためのハンドラーを追加する\n\nlogs = run(\"kubectl logs deployment/nginx -n ingress-nginx\", hide=True)\n\nif logs.failed:\n    failed(\"kubectl logs failed\")\n\nlogs_output = logs.stdout.decode()\nprint(f\"Logs for nginx: \\n{logs_output}\")\n\n# Check for any errors in the logs\nnginx_errors = [\n    \"error\", \n    \"err\",\n    \"failed\"\n]\n\nif any(error_msg in logs_output.lower() for error_msg in nginx_errors):\n    failed(\"There are errors in the nginx logs\")0\n    print(f\"Tool Call result: {result['content'][0]['text']}\")\n"
   ]
  },
  {
   "cell_type": "markdown",
   "id": "96f9ab38-fddc-454d-81fe-d6aa5c958292",
   "metadata": {},
   "source": [
    "**問題: 以下のセルを実行中に下記のエラーが発生した場合、pydantic と pydantic-core のバージョンが互換性がないことを示しています。**\n\n```\nTypeError: model_schema() got an unexpected keyword argument 'generic_origin'\n```\n\n**解決方法:**\n\npydantic==2.7.2 と pydantic-core 2.27.2 が互換性があることを確認する必要があります。確認後、カーネルを再起動してください。"
   ]
  },
  {
   "cell_type": "markdown",
   "id": "fa8dd91d-15a6-45b2-b539-bb3eaf0e0e08",
   "metadata": {},
   "source": [
    "# クリーンアップ\nIAM ロール、IAM ポリシー、認証情報プロバイダー、AWS Lambda 関数、Cognito ユーザープール、s3 バケットなどの追加リソースも作成されます。これらは、実行した例次第で、クリーンアップの一環として手動で削除する必要があるかもしれません。"
   ]
  },
  {
   "cell_type": "markdown",
   "id": "a22f158d-83b6-4d65-892f-9a208af3d742",
   "metadata": {},
   "source": [
    "## ゲートウェイを削除する (オプション)"
   ]
  },
  {
   "cell_type": "code",
   "execution_count": null,
   "id": "58d250fc-dd34-4eb3-8d5b-c9eac9de9c79",
   "metadata": {},
   "outputs": [],
   "source": [
    "import utils\n",
    "utils.delete_gateway(gateway_client,gatewayID)"
   ]
  }
 ],
 "metadata": {
  "kernelspec": {
   "display_name": "Python 3 (ipykernel)",
   "language": "python",
   "name": "python3"
  },
  "language_info": {
   "codemirror_mode": {
    "name": "ipython",
    "version": 3
   },
   "file_extension": ".py",
   "mimetype": "text/x-python",
   "name": "python",
   "nbconvert_exporter": "python",
   "pygments_lexer": "ipython3",
   "version": "3.11.9"
  }
 },
 "nbformat": 4,
 "nbformat_minor": 5
}