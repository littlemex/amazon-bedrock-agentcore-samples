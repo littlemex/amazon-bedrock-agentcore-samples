{
 "cells": [
  {
   "cell_type": "markdown",
   "id": "4ba51a29-a566-4b5a-97f0-10e634567e40",
   "metadata": {
    "collapsed": true,
    "jupyter": {
     "outputs_hidden": true
    }
   },
   "source": [
    "# Bedrock AgentCore Gateway を使用して OpenAPI API を MCP ツールに変換する\n",
    "\n",
    "## 概要\n",
    "お客様は JSON または YAML 形式の OpenAPI 仕様を持ち込み、Bedrock AgentCore Gateway を使用して API を MCP ツールに変換できます。NASA のオープン API を API キーを使用して呼び出す火星天気エージェントの構築を実演します。\n",
    "\n",
    "Gateway ワークフローでは、エージェントを外部ツールに接続するために以下の手順が含まれます：\n",
    "* **Gateway 用のツールを作成する** - REST API 用の OpenAPI 仕様などのスキーマを使用してツールを定義します。OpenAPI 仕様は Amazon Bedrock AgentCore によって解析され、Gateway が作成されます。\n",
    "* **Gateway エンドポイントを作成する** - インバウンド認証を備えた MCP エントリポイントとして機能する gateway を作成します。\n",
    "* **Gateway にターゲットを追加する** - gateway がリクエストを特定のツールにルーティングする方法を定義する OpenAPI ターゲットを設定します。OpenAPI ファイルの一部であるすべての API は MCP 互換のツールになり、Gateway エンドポイント URL を通じて利用可能になります。各 OpenAPI Gateway ターゲットのアウトバウンド認証を設定します。\n",
    "* **エージェントコードを更新する** - 統合された MCP インターフェースを通じてすべての設定済みツールにアクセスするために、エージェントを Gateway エンドポイントに接続します。\n",
    "\n",
    "![仕組み](images/openapi-gateway-apikey.png)\n",
    "\n",
    "### チュートリアルの詳細\n",
    "\n",
    "\n",
    "| 情報                 | 詳細                                                     |\n",
    "|:---------------------|:----------------------------------------------------------|\n",
    "| チュートリアルタイプ | インタラクティブ                                         |\n",
    "| AgentCore コンポーネント | AgentCore Gateway, AgentCore Identity                     |\n",
    "| エージェントフレームワーク | Strands Agents                                            |\n",
    "| Gateway ターゲットタイプ | OpenAPI                                                   |\n",
    "| エージェント         | 火星天気エージェント                                     |\n",
    "| インバウンド認証 IdP | Amazon Cognito                                            |\n",
    "| アウトバウンド認証   | API キー                                                  |\n",
    "| LLM モデル           | Anthropic Claude Sonnet 3.7, Amazon Nova Pro              |\n",
    "| チュートリアルコンポーネント | AgentCore Gateway の作成と AgentCore Gateway の呼び出し   |\n",
    "| チュートリアル分野   | 分野横断的                                               |\n",
    "| 例の複雑さ           | 簡単                                                     |\n",
    "| 使用 SDK             | boto3                                                     |\n",
    "\n",
    "チュートリアルの最初のパートでは、いくつかの AmazonCore Gateway ターゲットを作成します\n",
    "\n",
    "### チュートリアルのアーキテクチャ\n",
    "このチュートリアルでは、OpenAPI yaml/json ファイルで定義された操作を MCP ツールに変換し、Bedrock AgentCore Gateway でホストします。\n",
    "デモンストレーションのために、火星の天気に関するクエリに答える火星天気エージェントを構築します。このエージェントは NASA のオープン API を使用します。このソリューションは Amazon Bedrock モデルを使用する Strands Agent を使用しています。\n",
    "この例では、火星の天気のための getInsightWeather ツールを持つ非常にシンプルなエージェントを使用します。"
   ]
  },
  {
   "cell_type": "markdown",
   "id": "5362e1ad-f027-4452-a8d9-0b861c0115c2",
   "metadata": {},
   "source": [
    "## 前提条件\n",
    "\n",
    "このチュートリアルを実行するには、以下が必要です：\n",
    "* Jupyter notebook（Python カーネル）\n",
    "* uv\n",
    "* AWS 認証情報\n",
    "* Amazon Cognito"
   ]
  },
  {
   "cell_type": "code",
   "execution_count": null,
   "id": "a17e1d70-9a76-42ce-b1ac-1c3a0bf4d12c",
   "metadata": {},
   "outputs": [],
   "source": [
    "# 最新の botocore と boto3 ライブラリをダウンロードしていることを確認してください。\n",
    "import shutil\n",
    "import subprocess\n",
    "import sys\n",
    "\n",
    "def ensure_uv_installed():\n",
    "    if shutil.which(\"uv\") is None:\n",
    "        print(\"🔧 'uv' not found. Installing with pip...\")\n",
    "        subprocess.check_call([sys.executable, \"-m\", \"pip\", \"install\", \"uv\"])\n",
    "    else:\n",
    "        print(\"✅ 'uv' is already installed.\")\n",
    "\n",
    "def uv_install(*packages):\n",
    "    ensure_uv_installed()\n",
    "    uv_path = shutil.which(\"uv\")\n",
    "    print(f\"📦 Installing {', '.join(packages)} using uv...\")\n",
    "    subprocess.check_call([uv_path, \"pip\", \"install\", *packages])\n",
    "\n",
    "uv_install(\"botocore\", \"boto3\")"
   ]
  },
  {
   "cell_type": "code",
   "execution_count": null,
   "id": "a4e6248d-b740-418b-ae0d-c0a9623e43e1",
   "metadata": {},
   "outputs": [],
   "source": [
    "# Amazon SageMaker ノートブックを使用していない場合は AWS 認証情報を設定する\n",
    "import os\n",
    "os.environ['AWS_ACCESS_KEY_ID'] = ''\n",
    "os.environ['AWS_SECRET_ACCESS_KEY'] = ''\n",
    "os.environ['AWS_PROFILE'] = 'cline2'\n",
    "os.environ['AWS_DEFAULT_REGION'] = 'us-east-1'"
   ]
  },
  {
   "cell_type": "code",
   "execution_count": null,
   "id": "4ca94412-7337-4293-ab74-aa2e77507fd0",
   "metadata": {},
   "outputs": [],
   "source": [
    "import os\n",
    "import sys\n",
    "\n",
    "# 現在のスクリプトのディレクトリを取得する\n",
    "if '__file__' in globals():\n",
    "    current_dir = os.path.dirname(os.path.abspath(__file__))\n",
    "else:\n",
    "    current_dir = os.getcwd()  # __file__ が定義されていない場合のフォールバック（例：Jupyter）\n",
    "\n",
    "# utils.py を含むディレクトリ（一つ上のレベル）に移動する\n",
    "utils_dir = os.path.abspath(os.path.join(current_dir, '../..'))\n",
    "\n",
    "# sys.path に追加する\n",
    "sys.path.insert(0, utils_dir)\n",
    "\n",
    "# 今、あなたは utils をインポートできます\n",
    "import utils"
   ]
  },
  {
   "cell_type": "code",
   "execution_count": null,
   "id": "22f4cb2b-14b0-4171-982a-19a1ed4e8ad2",
   "metadata": {},
   "outputs": [],
   "source": [
    "#### Gateway が引き受ける IAM ロールを作成する\n",
    "import utils\n",
    "\n",
    "agentcore_gateway_iam_role = utils.create_agentcore_gateway_role(\"sample-lambdagateway\")\n",
    "print(\"Agentcore gateway role ARN: \", agentcore_gateway_iam_role['Role']['Arn'])"
   ]
  },
  {
   "cell_type": "markdown",
   "id": "65120594-c3ec-4d51-810b-8d478851d8d2",
   "metadata": {},
   "source": [
    "# Gateway へのインバウンド認証のための Amazon Cognito プールの作成"
   ]
  },
  {
   "cell_type": "code",
   "execution_count": null,
   "id": "32c382f0-aefe-4756-8e06-fac3a7b96e1c",
   "metadata": {},
   "outputs": [],
   "source": [
    "# Cognito ユーザープールの作成\n",
    "import os\n",
    "import boto3\n",
    "import requests\n",
    "import time\n",
    "from botocore.exceptions import ClientError\n",
    "\n",
    "REGION = os.environ['AWS_DEFAULT_REGION']\n",
    "USER_POOL_NAME = \"sample-agentcore-gateway-pool\"\n",
    "RESOURCE_SERVER_ID = \"sample-agentcore-gateway-id\"\n",
    "RESOURCE_SERVER_NAME = \"sample-agentcore-gateway-name\"\n",
    "CLIENT_NAME = \"sample-agentcore-gateway-client\"\n",
    "SCOPES = [\n",
    "    {\"ScopeName\": \"gateway:read\", \"ScopeDescription\": \"Read access\"},\n",
    "    {\"ScopeName\": \"gateway:write\", \"ScopeDescription\": \"Write access\"}\n",
    "]\n",
    "scopeString = f\"{RESOURCE_SERVER_ID}/gateway:read {RESOURCE_SERVER_ID}/gateway:write\"\n",
    "\n",
    "cognito = boto3.client(\"cognito-idp\", region_name=REGION)\n",
    "\n",
    "print(\"Creating or retrieving Cognito resources...\")\n",
    "user_pool_id = utils.get_or_create_user_pool(cognito, USER_POOL_NAME)\n",
    "print(f\"User Pool ID: {user_pool_id}\")\n",
    "\n",
    "utils.get_or_create_resource_server(cognito, user_pool_id, RESOURCE_SERVER_ID, RESOURCE_SERVER_NAME, SCOPES)\n",
    "print(\"Resource server ensured.\")\n",
    "\n",
    "client_id, client_secret  = utils.get_or_create_m2m_client(cognito, user_pool_id, CLIENT_NAME, RESOURCE_SERVER_ID)\n",
    "print(f\"Client ID: {client_id}\")\n",
    "\n",
    "# Get discovery URL\n",
    "\n",
    "cognito_discovery_url = f'https://cognito-idp.{REGION}.amazonaws.com/{user_pool_id}/.well-known/openid-configuration'\n",
    "print(cognito_discovery_url)"
   ]
  },
  {
   "cell_type": "markdown",
   "id": "f1a63450-7fb9-42fc-ab4f-3d86c27bb2f8",
   "metadata": {},
   "source": [
    "# ゲートウェイの作成"
   ]
  },
  {
   "cell_type": "code",
   "execution_count": null,
   "id": "72f2cd57-7777-42d3-b6f3-c45ed0a935c4",
   "metadata": {},
   "outputs": [],
   "source": [
    "# CMK なしで Cognito オーソライザーを使用して CreateGateway を行います。前のステップで作成した Cognito ユーザープールを使用します\n",
    "import boto3\n",
    "gateway_client = boto3.client('bedrock-agentcore-control', region_name = os.environ['AWS_DEFAULT_REGION'])\n",
    "auth_config = {\n",
    "    \"customJWTAuthorizer\": { \n",
    "        \"allowedClients\": [client_id],  # クライアントは Cognito で設定された ClientId と一致する必要があります。例： 7rfbikfsm51j2fpaggacgng84g\n",
    "        \"discoveryUrl\": cognito_discovery_url\n",
    "    }\n",
    "}\n",
    "create_response = gateway_client.create_gateway(name='DemoGWOpenAPIAPIKeyNasaOAI',\n",
    "    roleArn = agentcore_gateway_iam_role['Role']['Arn'], # IAM ロールは Gateway の作成・一覧表示・取得・削除の権限を持っている必要があります\n",
    "    protocolType='MCP',\n",
    "    authorizerType='CUSTOM_JWT',\n",
    "    authorizerConfiguration=auth_config, \n",
    "    description='AgentCore Gateway with OpenAPI target'\n",
    ")\n",
    "print(create_response)\n",
    "# GatewayTarget 作成に使用される GatewayID を取得する\n",
    "gatewayID = create_response[\"gatewayId\"]\n",
    "gatewayURL = create_response[\"gatewayUrl\"]\n",
    "print(gatewayID)"
   ]
  },
  {
   "cell_type": "markdown",
   "id": "1345c920-3921-40c7-9c00-110e8d02184b",
   "metadata": {},
   "source": [
    "# NASA オープン API を Bedrock AgentCore Gateway を使用して MCP ツールに変換する\n",
    "\n",
    "Japanese translation of the title \"Transforming NASA Open APIs into MCP tools using Bedrock AgentCore Gateway\"."
   ]
  },
  {
   "cell_type": "markdown",
   "id": "4765ddea-a86d-492e-90f9-ffb14e1b3b74",
   "metadata": {},
   "source": [
    "私たちは NASA のオープン API から気象データを取得する Mars Weather エージェントを作成します。NASA Insight API に[こちら](https://api.nasa.gov/)で登録する必要があります。登録は無料です！登録すると、メールで API キーが届きます。その API キーを使用して、OpenAPI ターゲットを作成するための認証情報プロバイダーを設定してください。"
   ]
  },
  {
   "cell_type": "code",
   "execution_count": null,
   "id": "64caa620-02ec-424a-a8b9-eb00b39289bf",
   "metadata": {},
   "outputs": [],
   "source": [
    "import boto3\n",
    "from pprint import pprint\n",
    "from botocore.config import Config\n",
    "\n",
    "acps = boto3.client(service_name=\"bedrock-agentcore-control\")\n",
    "\n",
    "response=acps.create_api_key_credential_provider(\n",
    "    name=\"NasaInsightAPIKey\", \n",
    "    apiKey=\"\", # api.nasa.gov でサインアップして API キーを取得してください。メールで API キーを取得するのにかかる時間は 2 分です。\n",
    ")\n",
    "\n",
    "pprint(response)\n",
    "credentialProviderARN = response['credentialProviderArn']\n",
    "pprint(f\"Egress Credentials provider ARN, {credentialProviderARN}\")"
   ]
  },
  {
   "cell_type": "markdown",
   "id": "510b092f-be1d-4b31-abb7-1fb8cab887ef",
   "metadata": {},
   "source": [
    "# OpenAPI ターゲットの作成"
   ]
  },
  {
   "cell_type": "markdown",
   "id": "c1cb1835-5aaf-471d-ac28-6f5fe78caf5a",
   "metadata": {},
   "source": [
    "#### NASA Open API の json ファイルを S3 にアップロードする"
   ]
  },
  {
   "cell_type": "code",
   "execution_count": null,
   "id": "a105be4e-ae05-4981-a609-01d410f66023",
   "metadata": {},
   "outputs": [],
   "source": [
    "# S3 クライアントを作成する\n",
    "session = boto3.session.Session()\n",
    "s3_client = session.client('s3')\n",
    "sts_client = session.client('sts')\n",
    "\n",
    "# AWS アカウント ID とリージョンの取得\n",
    "account_id = sts_client.get_caller_identity()[\"Account\"]\n",
    "region = session.region_name\n",
    "# パラメータを定義する\n",
    "bucket_name = '' # OpenAPI json ファイルをアップロードする s3 バケット。\n",
    "file_path = 'openapi-specs/nasa_mars_insights_openapi.json'\n",
    "object_key = 'nasa_mars_insights_openapi.json'\n",
    "# ファイルを put_object を使用してアップロードし、レスポンスを読み取る\n",
    "try:\n",
    "    with open(file_path, 'rb') as file_data:\n",
    "        response = s3_client.put_object(Bucket=bucket_name, Key=object_key, Body=file_data)\n",
    "\n",
    "    # アップロードされたオブジェクトの ARN をアカウント ID とリージョンで構築する\n",
    "    openapi_s3_uri = f's3://{bucket_name}/{object_key}'\n",
    "    print(f'Uploaded object S3 URI: {openapi_s3_uri}')\n",
    "except Exception as e:\n",
    "    print(f'Error uploading file: {e}')"
   ]
  },
  {
   "cell_type": "markdown",
   "id": "715f371d-3118-4c7f-bb23-c90ab09e4284",
   "metadata": {},
   "source": [
    "#### 送信認証を設定し、ゲートウェイターゲットを作成する"
   ]
  },
  {
   "cell_type": "code",
   "execution_count": null,
   "id": "629945ac-d1c3-49ae-92f7-4b0e0ef6d2c8",
   "metadata": {},
   "outputs": [],
   "source": [
    "# S3 Uri for OpenAPI 仕様ファイル\n",
    "nasa_openapi_s3_target_config = {\n",
    "    \"mcp\": {\n",
    "          \"openApiSchema\": {\n",
    "              \"s3\": {\n",
    "                  \"uri\": openapi_s3_uri\n",
    "              }\n",
    "          }\n",
    "      }\n",
    "}\n",
    "\n",
    "# API キー 認証情報プロバイダーの設定\n",
    "api_key_credential_config = [\n",
    "    {\n",
    "        \"credentialProviderType\" : \"API_KEY\", \n",
    "        \"credentialProvider\": {\n",
    "            \"apiKeyCredentialProvider\": {\n",
    "                    \"credentialParameterName\": \"api_key\", # API プロバイダーが期待する API キー名に置き換えてください。ヘッダーでトークンを渡す場合は \"Authorization\" を使用してください\n",
    "                    \"providerArn\": credentialProviderARN,\n",
    "                    \"credentialLocation\":\"QUERY_PARAMETER\", # API キーの場所。指定可能な値は \"HEADER\" と \"QUERY_PARAMETER\" です。\n",
    "            }\n",
    "        }\n",
    "    }\n",
    "  ]\n",
    "\n",
    "targetname='DemoOpenAPITargetS3NasaMars'\n",
    "response = gateway_client.create_gateway_target(\n",
    "    gatewayIdentifier=gatewayID,\n",
    "    name=targetname,\n",
    "    description='OpenAPI Target with S3Uri using SDK',\n",
    "    targetConfiguration=nasa_openapi_s3_target_config,\n",
    "    credentialProviderConfigurations=api_key_credential_config)"
   ]
  },
  {
   "cell_type": "markdown",
   "id": "d3ac6532-5299-4024-917d-bcd60caea6ed",
   "metadata": {},
   "source": [
    "# Strands エージェントから Bedrock AgentCore Gateway を呼び出す\n",
    "\n",
    "Strands エージェントは、Model Context Protocol (MCP) 仕様を実装する Bedrock AgentCore Gateway を通じて AWS ツールとシームレスに統合されています。この統合により、AI エージェントと AWS サービス間の安全で標準化された通信が可能になります。\n",
    "\n",
    "その核心部分として、Bedrock AgentCore Gateway は基本的な MCP API である ListTools と InvokeTools を公開するプロトコル準拠のゲートウェイとして機能します。これらの API により、MCP 準拠のクライアントや SDK は、安全で標準化された方法で利用可能なツールを発見し、対話することができます。Strands エージェントが AWS サービスにアクセスする必要がある場合、これらの MCP 標準化されたエンドポイントを使用してゲートウェイと通信します。\n",
    "\n",
    "ゲートウェイの実装は (MCP 認証仕様)[https://modelcontextprotocol.org/specification/draft/basic/authorization] に厳密に準拠しており、堅牢なセキュリティとアクセス制御を確保しています。これは、Strands エージェントによるすべてのツール呼び出しが認証ステップを経由することを意味し、強力な機能を提供しながらセキュリティを維持します。\n",
    "\n",
    "例えば、Strands エージェントが MCP ツールにアクセスする必要がある場合、まず ListTools を呼び出して利用可能なツールを発見し、次に InvokeTools を使用して特定のアクションを実行します。ゲートウェイは必要なすべてのセキュリティ検証、プロトコル変換、サービス連携を処理し、プロセス全体をシームレスかつ安全にします。\n",
    "\n",
    "このアーキテクチャアプローチにより、MCP 仕様を実装するあらゆるクライアントや SDK がゲートウェイを通じて AWS サービスと対話できるようになり、AI エージェント統合のための汎用性と将来性のあるソリューションとなっています。"
   ]
  },
  {
   "cell_type": "code",
   "execution_count": null,
   "id": "3e3a7c36-d910-4651-9f1e-e2b5f605440a",
   "metadata": {},
   "outputs": [],
   "source": [
    "uv_install(\"mcp[cli]\", \"strands-agents\")"
   ]
  },
  {
   "cell_type": "markdown",
   "id": "873031fe-62b5-4196-91be-500c1f87dfd4",
   "metadata": {},
   "source": [
    "# インバウンド認証のために Amazon Cognito からアクセストークンをリクエストする"
   ]
  },
  {
   "cell_type": "code",
   "execution_count": null,
   "id": "3ed1d1d6-e84c-4286-bf25-3ad6a49723b9",
   "metadata": {},
   "outputs": [],
   "source": [
    "print(\"Requesting the access token from Amazon Cognito authorizer...May fail for some time till the domain name propogation completes\")\n",
    "token_response = utils.get_token(user_pool_id, client_id, client_secret,scopeString,REGION)\n",
    "token = token_response[\"access_token\"]\n",
    "print(\"Token response:\", token)"
   ]
  },
  {
   "cell_type": "markdown",
   "id": "6fd0379d-9576-43cb-aa9b-72b86c43b472",
   "metadata": {},
   "source": [
    "# NASA Open API を使用して Bedrock AgentCore Gateway で火星の天気エージェントに問い合わせる"
   ]
  },
  {
   "cell_type": "code",
   "execution_count": null,
   "id": "be4b39c4-7387-4ce8-b728-f2347fbdaa36",
   "metadata": {},
   "outputs": [],
   "source": [
    "from strands.models import BedrockModel\n",
    "from mcp.client.streamable_http import streamablehttp_client \n",
    "from strands.tools.mcp.mcp_client import MCPClient\n",
    "from strands import Agent\n",
    "\n",
    "def create_streamable_http_transport():\n",
    "    return streamablehttp_client(gatewayURL,headers={\"Authorization\": f\"Bearer {token}\"})\n",
    "\n",
    "client = MCPClient(create_streamable_http_transport)\n",
    "\n",
    "## ~/.aws/credentials に設定された IAM グループ/ユーザーは Bedrock モデルへのアクセス権を持っている必要があります\n",
    "yourmodel = BedrockModel(\n",
    "    model_id=\"us.amazon.nova-pro-v1:0\",\n",
    "    temperature=0.7,\n",
    ")"
   ]
  },
  {
   "cell_type": "code",
   "execution_count": null,
   "id": "e64794e7-4e5f-4fc5-824a-61c901e356c4",
   "metadata": {},
   "outputs": [],
   "source": [
    "from strands import Agent\n",
    "import logging\n",
    "\n",
    "\n",
    "# ルートの strands ロガーを設定します。問題をデバッグしている場合は、DEBUG に変更してください。\n",
    "logging.getLogger(\"strands\").setLevel(logging.INFO)\n",
    "\n",
    "# ログを確認するためのハンドラーを追加する\n",
    "logging.basicConfig(\n",
    "    format=\"%(levelname)s | %(name)s | %(message)s\", \n",
    "    handlers=[logging.StreamHandler()]\n",
    ")\n",
    "\n",
    "with client:\n",
    "    # Call the listTools\n",
    "    tools = client.list_tools_sync()\n",
    "    # モデルとツールを使用してエージェントを作成する\n",
    "    agent = Agent(model=yourmodel,tools=tools) ## どのモデルでも好きなものに置き換えることができます\n",
    "    print(f\"Tools loaded in the agent are {agent.tool_names}\")\n",
    "    print(f\"Tools configuration in the agent are {agent.tool_config}\")\n",
    "    # エージェントをサンプルプロンプトで呼び出します。これは MCP listTools のみを呼び出し、LLM がアクセスできるツールのリストを取得します。以下は実際にはどのツールも呼び出しません。\n",
    "    agent(\"Hi , can you list all tools available to you\")\n",
    "    agent(\"What is the weather in northern part of the mars\")\n",
    "    # エージェントをサンプルプロンプトで呼び出し、ツールを実行して応答を表示する\n",
    "    # MCP ツールを明示的に呼び出します。MCP ツール名と引数は、AWS Lambda 関数または OpenAPI/Smithy API と一致する必要があります\n",
    "    result = client.call_tool_sync(\n",
    "    tool_use_id=\"get-insight-weather-1\", # あなたはこれを一意の識別子に置き換えることができます。\n",
    "    name=targetname+\"___getInsightWeather\", # これは AWS Lambda ターゲットタイプに基づくツール名です。ターゲット名に応じて変更されます\n",
    "    arguments={\"ver\": \"1.0\",\"feedtype\": \"json\"}\n",
    "    )\n",
    "    # ログを確認するためのハンドラーを追加する0\n",
    "    print(f\"Tool Call result: {result['content'][0]['text']}\")\n"
   ]
  },
  {
   "cell_type": "markdown",
   "id": "96f9ab38-fddc-454d-81fe-d6aa5c958292",
   "metadata": {},
   "source": [
    "**問題: 以下のセルを実行中に下記のエラーが表示される場合、pydantic と pydantic-core のバージョン間に互換性がないことを示しています。**\n",
    "\n",
    "```\n",
    "TypeError: model_schema() got an unexpected keyword argument 'generic_origin'\n",
    "```\n",
    "\n",
    "**解決方法は？**\n",
    "\n",
    "互換性のある pydantic==2.7.2 と pydantic-core 2.27.2 を確実にインストールする必要があります。インストール完了後、カーネルを再起動してください。"
   ]
  },
  {
   "cell_type": "markdown",
   "id": "fa8dd91d-15a6-45b2-b539-bb3eaf0e0e08",
   "metadata": {},
   "source": [
    "# クリーンアップ\n",
    "IAM ロール、IAM ポリシー、認証情報プロバイダー、AWS Lambda 関数、Cognito ユーザープール、S3 バケットなどの追加リソースも作成されており、クリーンアップの一環として手動で削除する必要があるかもしれません。これは実行する例によって異なります。"
   ]
  },
  {
   "cell_type": "markdown",
   "id": "a22f158d-83b6-4d65-892f-9a208af3d742",
   "metadata": {},
   "source": [
    "## ゲートウェイの削除 (オプション)"
   ]
  },
  {
   "cell_type": "code",
   "execution_count": null,
   "id": "58d250fc-dd34-4eb3-8d5b-c9eac9de9c79",
   "metadata": {},
   "outputs": [],
   "source": [
    "import utils\n",
    "utils.delete_gateway(gateway_client,gatewayID)"
   ]
  }
 ],
 "metadata": {
  "kernelspec": {
   "display_name": ".venv",
   "language": "python",
   "name": "python3"
  },
  "language_info": {
   "codemirror_mode": {
    "name": "ipython",
    "version": 3
   },
   "file_extension": ".py",
   "mimetype": "text/x-python",
   "name": "python",
   "nbconvert_exporter": "python",
   "pygments_lexer": "ipython3",
   "version": "3.10.18"
  }
 },
 "nbformat": 4,
 "nbformat_minor": 5
}
