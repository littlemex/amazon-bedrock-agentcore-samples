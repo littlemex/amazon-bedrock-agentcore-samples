{
 "cells": [
  {
   "cell_type": "markdown",
   "id": "4ba51a29-a566-4b5a-97f0-10e634567e40",
   "metadata": {
    "collapsed": true,
    "jp-MarkdownHeadingCollapsed": true,
    "jupyter": {
     "outputs_hidden": true
    }
   },
   "source": [
    "# Smithy API を Bedrock AgentCore Gateway を使用して MCP ツールに変換する\n",
    "\n",
    "## 概要\n",
    "Bedrock AgentCore Gateway は、お客様が既存の Smithy API をインフラやホスティングを管理することなく、完全に管理された MCP サーバーに変換する方法を提供します。お客様は Smithy 仕様を持ち込み、それらを MCP ツールに変換できます。このチュートリアルでは、Amazon S3 の Smithy モデルから MCP ツールを作成する方法を示します。エージェントはその後、Amazon S3 に対してクエリを実行し、それに関連する質問に回答できるようになります。\n",
    "\n",
    "Gateway ワークフローには、エージェントを外部ツールに接続するための以下のステップが含まれます：\n",
    "* **Gateway 用のツールを作成する** - Smithy 仕様を使用してツールを定義します。\n",
    "* **Gateway エンドポイントを作成する** - インバウンド認証を備えた MCP エントリポイントとして機能する Gateway を作成します。\n",
    "* **Gateway にターゲットを追加する** - Gateway が特定のツールにリクエストをルーティングする方法を定義する Smithy ターゲットを設定します。Smithy ファイルの一部であるすべての操作は MCP 互換のツールになり、Gateway エンドポイント URL を通じて利用可能になります。Smithy を介して Amazon S3 API を呼び出すための AWS IAM を使用してアウトバウンド認証を設定します。\n",
    "* **エージェントコードを更新する** - 統合された MCP インターフェースを通じて設定されたすべてのツールにアクセスするために、エージェントを Gateway エンドポイントに接続します。\n",
    "\n",
    "![仕組み](images/smithy-apis-gateway.png)\n",
    "\n",
    "### チュートリアルの詳細\n",
    "\n",
    "\n",
    "| 情報                 | 詳細                                                      |\n",
    "|:---------------------|:----------------------------------------------------------|\n",
    "| チュートリアルタイプ | インタラクティブ                                          |\n",
    "| AgentCore コンポーネント | AgentCore Gateway, AgentCore Identity                     |\n",
    "| エージェントフレームワーク | Strands Agents                                            |\n",
    "| Gateway ターゲットタイプ | Smithy                                                   |\n",
    "| エージェント         | インフラストラクチャエージェント                          |\n",
    "| インバウンド認証 IdP | Amazon Cognito                                            |\n",
    "| アウトバウンド認証   | IAM                                                       |\n",
    "| LLM モデル           | Anthropic Claude Sonnet 3.7, Amazon Nova Pro              |\n",
    "| チュートリアルコンポーネント | AgentCore Gateway の作成と呼び出し                       |\n",
    "| チュートリアル分野   | クロスバーティカル                                        |\n",
    "| 例の複雑さ           | 簡単                                                      |\n",
    "| 使用する SDK         | boto3                                                     |\n",
    "\n",
    "チュートリアルの最初の部分では、いくつかの AmazonCore Gateway ターゲットを作成します。\n",
    "\n",
    "### チュートリアルのアーキテクチャ\n",
    "このチュートリアルでは、Amazon S3 の Smithy 仕様で定義された操作を MCP ツールに変換し、Bedrock AgentCore Gateway でホストします。これにより、ユーザーは自分の AWS アカウントの Amazon S3 に関連するあらゆる質問をすることができるようになります。"
   ]
  },
  {
   "cell_type": "markdown",
   "id": "5362e1ad-f027-4452-a8d9-0b861c0115c2",
   "metadata": {},
   "source": [
    "## 前提条件\n",
    "\n",
    "このチュートリアルを実行するには以下が必要です：\n",
    "* Python 3.10+ を搭載した Jupyter notebook\n",
    "* uv\n",
    "* AWS 認証情報\n",
    "* Amazon Cognito"
   ]
  },
  {
   "cell_type": "code",
   "execution_count": null,
   "id": "a17e1d70-9a76-42ce-b1ac-1c3a0bf4d12c",
   "metadata": {},
   "outputs": [],
   "source": [
    "# 最新の botocore と boto3 ライブラリをダウンロードしていることを確認してください。\n",
    "import shutil\n",
    "import subprocess\n",
    "import sys\n",
    "\n",
    "def ensure_uv_installed():\n",
    "    if shutil.which(\"uv\") is None:\n",
    "        print(\"🔧 'uv' not found. Installing with pip...\")\n",
    "        subprocess.check_call([sys.executable, \"-m\", \"pip\", \"install\", \"uv\"])\n",
    "    else:\n",
    "        print(\"✅ 'uv' is already installed.\")\n",
    "\n",
    "def uv_install(*packages):\n",
    "    ensure_uv_installed()\n",
    "    uv_path = shutil.which(\"uv\")\n",
    "    print(f\"📦 Installing {', '.join(packages)} using uv...\")\n",
    "    subprocess.check_call([uv_path, \"pip\", \"install\", *packages])\n",
    "\n",
    "uv_install(\"botocore\", \"boto3\")"
   ]
  },
  {
   "cell_type": "code",
   "execution_count": null,
   "id": "a4e6248d-b740-418b-ae0d-c0a9623e43e1",
   "metadata": {},
   "outputs": [],
   "source": [
    "import os\n",
    "# SageMaker ノートブックを使用していない場合は AWS 認証情報を設定する\n",
    "os.environ['AWS_ACCESS_KEY_ID'] = ''\n",
    "os.environ['AWS_SECRET_ACCESS_KEY'] = ''\n",
    "os.environ['AWS_DEFAULT_REGION'] = 'us-east-1'"
   ]
  },
  {
   "cell_type": "code",
   "execution_count": null,
   "id": "4ca94412-7337-4293-ab74-aa2e77507fd0",
   "metadata": {},
   "outputs": [],
   "source": [
    "import os\n",
    "import sys\n",
    "\n",
    "# 現在のスクリプトのディレクトリを取得する\n",
    "if '__file__' in globals():\n",
    "    current_dir = os.path.dirname(os.path.abspath(__file__))\n",
    "else:\n",
    "    current_dir = os.getcwd()  # __file__ が定義されていない場合のフォールバック（例：Jupyter）\n",
    "\n",
    "# utils.py を含むディレクトリ（一つ上のレベル）に移動する\n",
    "utils_dir = os.path.abspath(os.path.join(current_dir, '../..'))\n",
    "\n",
    "# Add to sys.path\n",
    "sys.path.insert(0, utils_dir)\n",
    "\n",
    "# 今、 utils をインポートできます\n",
    "import utils"
   ]
  },
  {
   "cell_type": "code",
   "execution_count": null,
   "id": "22f4cb2b-14b0-4171-982a-19a1ed4e8ad2",
   "metadata": {},
   "outputs": [],
   "source": [
    "#### Gateway が引き受ける IAM ロールを作成する\n",
    "import utils\n",
    "\n",
    "agentcore_gateway_iam_role = utils.create_agentcore_gateway_role_s3_smithy(\"sample-lambdagateway\")\n",
    "print(\"Agentcore gateway role ARN: \", agentcore_gateway_iam_role['Role']['Arn'])"
   ]
  },
  {
   "cell_type": "markdown",
   "id": "65120594-c3ec-4d51-810b-8d478851d8d2",
   "metadata": {},
   "source": [
    "# Gateway へのインバウンド認証のための Amazon Cognito プールの作成"
   ]
  },
  {
   "cell_type": "code",
   "execution_count": null,
   "id": "32c382f0-aefe-4756-8e06-fac3a7b96e1c",
   "metadata": {},
   "outputs": [],
   "source": [
    "# Cognito ユーザープールの作成\n",
    "import os\n",
    "import boto3\n",
    "import requests\n",
    "import time\n",
    "from botocore.exceptions import ClientError\n",
    "\n",
    "REGION = os.environ['AWS_DEFAULT_REGION']\n",
    "USER_POOL_NAME = \"sample-agentcore-gateway-pool\"\n",
    "RESOURCE_SERVER_ID = \"sample-agentcore-gateway-id\"\n",
    "RESOURCE_SERVER_NAME = \"sample-agentcore-gateway-name\"\n",
    "CLIENT_NAME = \"sample-agentcore-gateway-client\"\n",
    "SCOPES = [\n",
    "    {\"ScopeName\": \"gateway:read\", \"ScopeDescription\": \"Read access\"},\n",
    "    {\"ScopeName\": \"gateway:write\", \"ScopeDescription\": \"Write access\"}\n",
    "]\n",
    "scopeString = f\"{RESOURCE_SERVER_ID}/gateway:read {RESOURCE_SERVER_ID}/gateway:write\"\n",
    "\n",
    "cognito = boto3.client(\"cognito-idp\", region_name=REGION)\n",
    "\n",
    "print(\"Creating or retrieving Cognito resources...\")\n",
    "user_pool_id = utils.get_or_create_user_pool(cognito, USER_POOL_NAME)\n",
    "print(f\"User Pool ID: {user_pool_id}\")\n",
    "\n",
    "utils.get_or_create_resource_server(cognito, user_pool_id, RESOURCE_SERVER_ID, RESOURCE_SERVER_NAME, SCOPES)\n",
    "print(\"Resource server ensured.\")\n",
    "\n",
    "client_id, client_secret  = utils.get_or_create_m2m_client(cognito, user_pool_id, CLIENT_NAME, RESOURCE_SERVER_ID)\n",
    "print(f\"Client ID: {client_id}\")\n",
    "\n",
    "# ディスカバリー URL の取得\n",
    "cognito_discovery_url = f'https://cognito-idp.{REGION}.amazonaws.com/{user_pool_id}/.well-known/openid-configuration'\n",
    "print(cognito_discovery_url)"
   ]
  },
  {
   "cell_type": "markdown",
   "id": "f1a63450-7fb9-42fc-ab4f-3d86c27bb2f8",
   "metadata": {},
   "source": [
    "# ゲートウェイの作成"
   ]
  },
  {
   "cell_type": "code",
   "execution_count": null,
   "id": "72f2cd57-7777-42d3-b6f3-c45ed0a935c4",
   "metadata": {},
   "outputs": [],
   "source": [
    "# CMK なしで Cognito オーソライザーを使用して CreateGateway を行う。前のステップで作成した Cognito ユーザープールを使用する\n",
    "import boto3\n",
    "gateway_client = boto3.client('bedrock-agentcore-control', region_name = os.environ['AWS_DEFAULT_REGION'])\n",
    "auth_config = {\n",
    "    \"customJWTAuthorizer\": { \n",
    "        \"allowedClients\": [client_id],  # クライアントは Cognito で設定された ClientId と一致する必要があります。例： 7rfbikfsm51j2fpaggacgng84g\n",
    "        \"discoveryUrl\": cognito_discovery_url\n",
    "    }\n",
    "}\n",
    "create_response = gateway_client.create_gateway(name='DemoS3Smithyv3',\n",
    "    roleArn = agentcore_gateway_iam_role['Role']['Arn'], # IAM ロールは Gateway の作成/一覧表示/取得/削除の権限を持っている必要があります\n",
    "    protocolType='MCP',\n",
    "    authorizerType='CUSTOM_JWT',\n",
    "    authorizerConfiguration=auth_config, \n",
    "    description='AgentCore Gateway with Smithy target'\n",
    ")\n",
    "print(create_response)\n",
    "# GatewayTarget 作成に使用される GatewayID を取得する\n",
    "gatewayID = create_response[\"gatewayId\"]\n",
    "gatewayURL = create_response[\"gatewayUrl\"]\n",
    "print(gatewayID)"
   ]
  },
  {
   "cell_type": "markdown",
   "id": "510b092f-be1d-4b31-abb7-1fb8cab887ef",
   "metadata": {},
   "source": [
    "# Amazon S3 仕様で Smithy ターゲットを作成する\n",
    "\n",
    "Amazon S3 API の smithy ゲートウェイターゲットを作成します。Amazon S3 の smithy json ファイルをインポートし、API を MCP ツールに変換します。"
   ]
  },
  {
   "cell_type": "markdown",
   "id": "c1cb1835-5aaf-471d-ac28-6f5fe78caf5a",
   "metadata": {},
   "source": [
    "#### S3 Smithy API の json ファイルを S3 にアップロードする"
   ]
  },
  {
   "cell_type": "code",
   "execution_count": null,
   "id": "a105be4e-ae05-4981-a609-01d410f66023",
   "metadata": {},
   "outputs": [],
   "source": [
    "# S3 クライアントを作成する\n",
    "session = boto3.session.Session()\n",
    "s3_client = session.client('s3')\n",
    "sts_client = session.client('sts')\n",
    "\n",
    "# AWS アカウント ID とリージョンを取得する\n",
    "account_id = sts_client.get_caller_identity()[\"Account\"]\n",
    "region = session.region_name\n",
    "# Define parameters\n",
    "\n",
    "パラメータを定義する\n",
    "bucket_name = '' # OpenAPI json ファイルをアップロードする s3 バケット。\n",
    "file_path = 'smithy-specs/s3-apis.json'\n",
    "object_key = 's3-apis.json'\n",
    "# ファイルを put_object を使用してアップロードし、レスポンスを読み取る\n",
    "try:\n",
    "    with open(file_path, 'rb') as file_data:\n",
    "        response = s3_client.put_object(Bucket=bucket_name, Key=object_key, Body=file_data)\n",
    "\n",
    "    # アップロードされたオブジェクトの ARN をアカウント ID とリージョンで構築する\n",
    "    smithy_s3_uri = f's3://{bucket_name}/{object_key}'\n",
    "    print(f'Uploaded object S3 URI: {smithy_s3_uri}')\n",
    "except Exception as e:\n",
    "    print(f'Error uploading file: {e}')"
   ]
  },
  {
   "cell_type": "markdown",
   "id": "715f371d-3118-4c7f-bb23-c90ab09e4284",
   "metadata": {},
   "source": [
    "#### ゲートウェイ ターゲットの作成"
   ]
  },
  {
   "cell_type": "code",
   "execution_count": null,
   "id": "629945ac-d1c3-49ae-92f7-4b0e0ef6d2c8",
   "metadata": {},
   "outputs": [],
   "source": [
    "# S3 Uri for Smithy 仕様ファイル\n",
    "smithy_s3_target_config = {\n",
    "    \"mcp\": {\n",
    "          \"smithyModel\": {\n",
    "              \"s3\": {\n",
    "                  \"uri\": smithy_s3_uri\n",
    "              }\n",
    "          }\n",
    "      }\n",
    "}\n",
    "\n",
    "# IAM 認証情報プロバイダーの設定\n",
    "credential_config  = {\n",
    "        \"credentialProviderType\" : \"GATEWAY_IAM_ROLE\"\n",
    "    }\n",
    "\n",
    "targetname='DemoSmithytargetForS3'\n",
    "response = gateway_client.create_gateway_target(\n",
    "    gatewayIdentifier=gatewayID,\n",
    "    name=targetname,\n",
    "    description='Smithy Target with S3Uri using SDK',\n",
    "    targetConfiguration=smithy_s3_target_config,\n",
    "    credentialProviderConfigurations=[credential_config])\n",
    "\n",
    "# 不具合を報告するためのリクエスト ID とタイムスタンプを表示します。問題や不具合を報告する際には、これらを含めてください\n",
    "response_metadata = response['ResponseMetadata']\n",
    "print(response_metadata)"
   ]
  },
  {
   "cell_type": "markdown",
   "id": "d3ac6532-5299-4024-917d-bcd60caea6ed",
   "metadata": {},
   "source": [
    "# Strands エージェントから Bedrock AgentCore Gateway を呼び出す\n",
    "\n",
    "Strands エージェントは、Model Context Protocol (MCP) 仕様を実装する Bedrock AgentCore Gateway を通じて AWS ツールとシームレスに統合されています。この統合により、AI エージェントと AWS サービス間の安全で標準化された通信が可能になります。\n",
    "\n",
    "その核心部分として、Bedrock AgentCore Gateway は基本的な MCP API である ListTools と InvokeTools を公開するプロトコル準拠のゲートウェイとして機能します。これらの API により、MCP 準拠のクライアントや SDK は、安全で標準化された方法で利用可能なツールを発見し、対話することができます。Strands エージェントが AWS サービスにアクセスする必要がある場合、これらの MCP 標準化されたエンドポイントを使用してゲートウェイと通信します。\n",
    "\n",
    "ゲートウェイの実装は (MCP 認証仕様)[https://modelcontextprotocol.org/specification/draft/basic/authorization] に厳密に準拠しており、堅牢なセキュリティとアクセス制御を確保しています。これは、Strands エージェントによるすべてのツール呼び出しが認証ステップを経由することを意味し、強力な機能を提供しながらセキュリティを維持します。\n",
    "\n",
    "例えば、Strands エージェントが MCP ツールにアクセスする必要がある場合、まず ListTools を呼び出して利用可能なツールを発見し、次に InvokeTools を使用して特定のアクションを実行します。ゲートウェイは必要なすべてのセキュリティ検証、プロトコル変換、サービス連携を処理し、プロセス全体をシームレスかつ安全にします。\n",
    "\n",
    "このアーキテクチャアプローチにより、MCP 仕様を実装するあらゆるクライアントや SDK がゲートウェイを通じて AWS サービスと対話できるようになり、AI エージェント統合のための汎用性と将来性のあるソリューションとなっています。"
   ]
  },
  {
   "cell_type": "code",
   "execution_count": null,
   "id": "3e3a7c36-d910-4651-9f1e-e2b5f605440a",
   "metadata": {},
   "outputs": [],
   "source": [
    "uv_install(\"mcp[cli]\", \"strands-agents\")"
   ]
  },
  {
   "cell_type": "markdown",
   "id": "873031fe-62b5-4196-91be-500c1f87dfd4",
   "metadata": {},
   "source": [
    "# インバウンド認証のために Amazon Cognito からアクセストークンをリクエストする"
   ]
  },
  {
   "cell_type": "code",
   "execution_count": null,
   "id": "3ed1d1d6-e84c-4286-bf25-3ad6a49723b9",
   "metadata": {},
   "outputs": [],
   "source": [
    "print(\"Requesting the access token from Amazon Cognito authorizer...May fail for some time till the domain name propogation completes\")\n",
    "token_response = utils.get_token(user_pool_id, client_id, client_secret,scopeString,REGION)\n",
    "token = token_response[\"access_token\"]\n",
    "print(\"Token response:\", token)"
   ]
  },
  {
   "cell_type": "markdown",
   "id": "6fd0379d-9576-43cb-aa9b-72b86c43b472",
   "metadata": {},
   "source": [
    "# AWS アカウントにある s3 リソースについて IT エージェントに質問する"
   ]
  },
  {
   "cell_type": "code",
   "execution_count": null,
   "id": "be4b39c4-7387-4ce8-b728-f2347fbdaa36",
   "metadata": {},
   "outputs": [],
   "source": [
    "from strands.models import BedrockModel\n",
    "from mcp.client.streamable_http import streamablehttp_client \n",
    "from strands.tools.mcp.mcp_client import MCPClient\n",
    "from strands import Agent\n",
    "\n",
    "def create_streamable_http_transport():\n",
    "    return streamablehttp_client(gatewayURL,headers={\"Authorization\": f\"Bearer {token}\"})\n",
    "\n",
    "client = MCPClient(create_streamable_http_transport)\n",
    "\n",
    "## ~/.aws/credentials に設定された IAM グループ/ユーザーは Bedrock モデルへのアクセス権を持っている必要があります\n",
    "yourmodel = BedrockModel(\n",
    "    model_id=\"us.amazon.nova-pro-v1:0\",\n",
    "    temperature=0.7,\n",
    ")"
   ]
  },
  {
   "cell_type": "code",
   "execution_count": null,
   "id": "e64794e7-4e5f-4fc5-824a-61c901e356c4",
   "metadata": {},
   "outputs": [],
   "source": [
    "from strands import Agent\n",
    "import logging\n",
    "\n",
    "\n",
    "# ルートの strands ロガーを設定します。問題をデバッグしている場合は、DEBUG に変更してください。\n",
    "logging.getLogger(\"strands\").setLevel(logging.INFO)\n",
    "\n",
    "# ログを確認するためのハンドラーを追加する\n",
    "logging.basicConfig(\n",
    "    format=\"%(levelname)s | %(name)s | %(message)s\", \n",
    "    handlers=[logging.StreamHandler()]\n",
    ")\n",
    "\n",
    "with client:\n",
    "    # Call the listTools \n",
    "\n",
    "# listTools を呼び出す\n",
    "    tools = client.list_tools_sync()\n",
    "    # モデルとツールを使用したエージェントの作成\n",
    "    agent = Agent(model=yourmodel,tools=tools) ## あなたは好きなモデルに置き換えることができます\n",
    "    #print(f\"エージェントに読み込まれたツールは {agent.tool_names} です\")\n",
    "\n",
    "    #print(f\"エージェント内のツール設定は {agent.tool_config} です\")\n",
    "\n",
    "    # エージェントをサンプルプロンプトで呼び出します。これは MCP listTools のみを呼び出し、LLM がアクセスできるツールのリストを取得します。以下は実際にはどのツールも呼び出しません。\n",
    "    agent(\"Hi , can you list all the s3 buckets. Locate the right tool and call the tool to get the answer\")    \n",
    "    #agent(\"火星の北部の天気はどうですか\")\n",
    "\n",
    "    # エージェントをサンプルプロンプトで呼び出し、ツールを実行して応答を表示する\n",
    "    # ログを確認するためのハンドラーを追加する0\n",
    "    # ログを確認するためのハンドラーを追加する1\n",
    "    result = client.call_tool_sync(\n",
    "        tool_use_id=\"get-insight-weather-1\", # ログを確認するためのハンドラーを追加する2\n",
    "        name=targetname+\"___ListBuckets\", # ログを確認するためのハンドラーを追加する3\n",
    "        # ログを確認するためのハンドラーを追加する4\n",
    "    )\n",
    "    # ログを確認するためのハンドラーを追加する5\n",
    "    print(f\"Tool Call result: {result['content'][0]['text']}\")\n"
   ]
  },
  {
   "cell_type": "markdown",
   "id": "fa8dd91d-15a6-45b2-b539-bb3eaf0e0e08",
   "metadata": {},
   "source": [
    "# クリーンアップ\n",
    "IAM ロール、IAM ポリシー、認証情報プロバイダー、AWS Lambda 関数、Cognito ユーザープール、S3 バケットなどの追加リソースも作成されており、クリーンアップの一環として手動で削除する必要があるかもしれません。これは実行する例によって異なります。"
   ]
  },
  {
   "cell_type": "markdown",
   "id": "a22f158d-83b6-4d65-892f-9a208af3d742",
   "metadata": {},
   "source": [
    "## ゲートウェイの削除 (オプション)"
   ]
  },
  {
   "cell_type": "code",
   "execution_count": null,
   "id": "58d250fc-dd34-4eb3-8d5b-c9eac9de9c79",
   "metadata": {},
   "outputs": [],
   "source": [
    "import utils\n",
    "utils.delete_gateway(gateway_client,gatewayID)"
   ]
  }
 ],
 "metadata": {
  "kernelspec": {
   "display_name": "Python 3 (ipykernel)",
   "language": "python",
   "name": "python3"
  },
  "language_info": {
   "codemirror_mode": {
    "name": "ipython",
    "version": 3
   },
   "file_extension": ".py",
   "mimetype": "text/x-python",
   "name": "python",
   "nbconvert_exporter": "python",
   "pygments_lexer": "ipython3",
   "version": "3.11.9"
  }
 },
 "nbformat": 4,
 "nbformat_minor": 5
}
