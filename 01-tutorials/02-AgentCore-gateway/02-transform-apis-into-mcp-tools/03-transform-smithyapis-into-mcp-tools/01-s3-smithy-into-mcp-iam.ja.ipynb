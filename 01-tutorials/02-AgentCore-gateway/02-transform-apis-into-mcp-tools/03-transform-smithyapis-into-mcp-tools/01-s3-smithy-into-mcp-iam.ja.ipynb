{
 "cells": [
  {
   "cell_type": "markdown",
   "id": "4ba51a29-a566-4b5a-97f0-10e634567e40",
   "metadata": {
    "collapsed": true,
    "jp-MarkdownHeadingCollapsed": true,
    "jupyter": {
     "outputs_hidden": true
    }
   },
   "source": [
    "# Smithy APIをBedrock AgentCore Gatewayを使ってMCPツールに変換する\n\n## 概要\nBedrock AgentCore Gatewayは、お客様が既存のSmithy APIを完全に管理されたMCPサーバーに変換する方法を提供します。インフラストラクチャやホスティングを管理する必要はありません。お客様はSmithy仕様を持ち込み、それをmcpツールに変換できます。Amazon S3のSmithy モデルからmcpツールを作成する方法を示します。その後、エージェントはAmazon S3を照会し、それに関する質問に答えることができます。\n\nGatewayのワークフローには、エージェントを外部ツールに接続するための以下のステップが含まれます。\n* **Gatewayのツールを作成する** - Smithy仕様を使ってツールを定義します。\n* **Gatewayエンドポイントを作成する** - 受信認証付きのMCPエントリポイントとして機能するゲートウェイを作成します。\n* **Gatewayにターゲットを追加する** - ゲートウェイがリクエストを特定のツールにルーティングする方法を定義するSmithy ターゲットを構成します。Smithy ファイルの一部であるすべての操作は、MCP互換のツールになり、Gateway エンドポイントURLを介して利用できるようになります。AWS IAMを使って、Smithy経由でAmazon S3 APIを呼び出すための発信認証を構成します。\n* **エージェントコードを更新する** - エージェントをGatewayエンドポイントに接続して、統一されたMCPインターフェースを介してすべての構成済みツールにアクセスできるようにします。\n\n![How does it work](images/smithy-apis-gateway.png)\n\n### チュートリアルの詳細\n\n| 情報                 | 詳細                                                      |\n|:----------------------|:----------------------------------------------------------|\n| チュートリアルの種類 | インタラクティブ                                          |\n| AgentCoreコンポーネント | AgentCore Gateway、AgentCore Identity                    |\n| Agenticフレームワーク | Strands Agents                                            |\n| ゲートウェイターゲットの種類 | Smithy                                             |\n| エージェント          | インフラストラクチャエージェント                         |\n| 受信認証IdP           | Amazon Cognito                                            |\n| 発信認証              | IAM                                                       |\n| LLMモデル             | Anthropic Claude Sonnet 3.7、Amazon Nova Pro              |\n| チュートリアルコンポーネント | AgentCore Gatewayの作成とAgentCore Gatewayの呼び出し |\n| チュートリアルの分野  | 分野横断                                                 |\n| 例の複雑さ            | 簡単                                                      |\n| 使用したSDK           | boto3                                                     |\n\nチュートリアルの最初の部分では、いくつかのAmazonCore Gatewayターゲットを作成します。\n\n### チュートリアルのアーキテクチャ\nこのチュートリアルでは、Amazon S3のSmithy仕様で定義された操作をMCPツールに変換し、Bedrock AgentCore Gatewayでホストします。これにより、ユーザーは自身のAWSアカウントのAmazon S3に関する質問をすることができます。"
   ]
  },
  {
   "cell_type": "markdown",
   "id": "5362e1ad-f027-4452-a8d9-0b861c0115c2",
   "metadata": {},
   "source": [
    "## 前提条件\n\nこのチュートリアルを実行するには、以下が必要です:\n* Python 3.10+ の Jupyter notebook\n* uv\n* AWS 認証情報\n* Amazon Cognito"
   ]
  },
  {
   "cell_type": "code",
   "execution_count": null,
   "id": "a17e1d70-9a76-42ce-b1ac-1c3a0bf4d12c",
   "metadata": {},
   "outputs": [],
   "source": [
    "# Make sure you download the latest botocore and boto3 libraries.\n\n日本語訳:\n\n最新の botocore と boto3 ライブラリをダウンロードしていることを確認してください。\nimport shutil\nimport subprocess\nimport sys\n\ndef ensure_uv_installed():\n    if shutil.which(\"uv\") is None:\n        print(\"🔧 'uv' not found. Installing with pip...\")\n        subprocess.check_call([sys.executable, \"-m\", \"pip\", \"install\", \"uv\"])\n    else:\n        print(\"✅ 'uv' is already installed.\")\n\ndef uv_install(*packages):\n    ensure_uv_installed()\n    uv_path = shutil.which(\"uv\")\n    print(f\"📦 Installing {', '.join(packages)} using uv...\")\n    subprocess.check_call([uv_path, \"pip\", \"install\", *packages])\n\nuv_install(\"botocore\", \"boto3\")"
   ]
  },
  {
   "cell_type": "code",
   "execution_count": null,
   "id": "a4e6248d-b740-418b-ae0d-c0a9623e43e1",
   "metadata": {},
   "outputs": [],
   "source": [
    "import os\n# Set AWS credentials if not using SageMaker notebook\n\n# SageMaker ノートブックを使用していない場合は、AWS 認証情報を設定します\n\nimport boto3\n\nsession = boto3.Session()\ncredentials = session.get_credentials()\n\ncurrent_credentials = session.get_credentials()\naws_access_key_id = current_credentials.access_key\naws_secret_access_key = current_credentials.secret_key\n\n# Enter your AWS Access Key ID and AWS Secret Access Key below\n# AWS アクセスキー ID と AWS シークレットアクセスキーを以下に入力してください\naws_access_key_id = ' YOUR_AWS_ACCESS_KEY_ID '\naws_secret_access_key = ' YOUR_AWS_SECRET_ACCESS_KEY '\nos.environ['AWS_ACCESS_KEY_ID'] = ''\nos.environ['AWS_SECRET_ACCESS_KEY'] = ''\nos.environ['AWS_DEFAULT_REGION'] = 'us-east-1'"
   ]
  },
  {
   "cell_type": "code",
   "execution_count": null,
   "id": "4ca94412-7337-4293-ab74-aa2e77507fd0",
   "metadata": {},
   "outputs": [],
   "source": [
    "import os\nimport sys\n\n# Get the directory of the current script\n\n現在のスクリプトのディレクトリを取得します。\n\n日本語訳:\n\n# 現在のスクリプトのディレクトリを取得する\n\nimport os\n\nscript_dir = os.path.dirname(__file__)\n\n# script_dir には、現在実行中のスクリプトが置かれているディレクトリのパスが格納されます。\n# たとえば、スクリプトが /home/user/scripts/my_script.py にある場合、\n# script_dir は '/home/user/scripts' になります。\n\nprint(f\"スクリプトのディレクトリ: {script_dir}\")\nif '__file__' in globals():\n    current_dir = os.path.dirname(os.path.abspath(__file__))\nelse:\n    current_dir = os.getcwd()  # Fallback if __file__ is not defined (e.g., Jupyter)\n\n__file__ が定義されていない場合の代替手段 (例: Jupyter)\n\n# Navigate to the directory containing utils.py (one level up)\n\nutils.py を含むディレクトリに移動します (1 レベル上)\nutils_dir = os.path.abspath(os.path.join(current_dir, '../..'))\n\n# Add to sys.path\n\nimport sys\nsys.path.append('/path/to/app/')\n\n# 半角英数字の前後に半角スペースを挿入\ntext = \"Hello 123 World 456\"\nnew_text = \"\"\nfor char in text:\n    if char.isdigit():\n        new_text += \" \" + char + \" \"\n    else:\n        new_text += char\nprint(new_text)  # => \"Hello 123 World 456\"\n\n# コードやコマンド、変数名、関数名などの技術的な用語は翻訳せず、そのまま残す\nimport numpy as np\nx = np.array([1, 2, 3])\nprint(x)  # => [1 2 3]\n\n日本語訳:\n\n# sys.pathに追加する\n\nimport sys\nsys.path.append('/path/to/app/')\n\n# 半角英数字の前後に半角スペースを挿入\ntext = \"Hello 123 World 456\"\nnew_text = \"\"\nfor char in text:\n    if char.isdigit():\n        new_text += \" \" + char + \" \"\n    else:\n        new_text += char\nprint(new_text)  # => \"Hello 123 World 456\"\n\n# コードやコマンド、変数名、関数名などの技術的な用語は翻訳せず、そのまま残す\nimport numpy as np\nx = np.array([1, 2, 3])\nprint(x)  # => [1 2 3]\nsys.path.insert(0, utils_dir)\n\n# Now you can import utils\n\n日本語訳:\n# 今から utils をインポートできます\nimport utils"
   ]
  },
  {
   "cell_type": "code",
   "execution_count": null,
   "id": "22f4cb2b-14b0-4171-982a-19a1ed4e8ad2",
   "metadata": {},
   "outputs": [],
   "source": [
    "#### Gateway が引き受ける IAM ロールを作成する\nimport utils\n\nagentcore_gateway_iam_role = utils.create_agentcore_gateway_role_s3_smithy(\"sample-lambdagateway\")\nprint(\"Agentcore gateway role ARN: \", agentcore_gateway_iam_role['Role']['Arn'])"
   ]
  },
  {
   "cell_type": "markdown",
   "id": "65120594-c3ec-4d51-810b-8d478851d8d2",
   "metadata": {},
   "source": [
    "# Amazon Cognito プールを作成して Gateway への受信認証を行う\n\nresource \"aws_cognito_user_pool\" \"pool\" {\n  name = \"gateway-user-pool\"\n}\n\nresource \"aws_cognito_user_pool_client\" \"client\" {\n  name                                 = \"gateway-user-pool-client\"\n  user_pool_id                         = aws_cognito_user_pool.pool.id\n  generate_secret                      = false\n  allowed_oauth_flows_user_pool_client = true\n  allowed_oauth_flows                  = [\"code\", \"implicit\"]\n  callback_urls                        = [\"https://example.com/oauth2/idpresponse\"]\n  logout_urls                          = [\"https://example.com\"]\n}\n\nresource \"aws_apigatewayv2_authorizer\" \"cognito\" {\n  api_id           = aws_apigatewayv2_api.gateway.id\n  authorizer_type  = \"JWT\"\n  identity_sources = [\"$request.header.Authorization\"]\n  name             = \"cognito-authorizer\"\n\n  jwt_configuration {\n    audience = [aws_cognito_user_pool_client.client.id]\n    issuer   = \"https://${aws_cognito_user_pool.pool.endpoint}\"\n  }\n}"
   ]
  },
  {
   "cell_type": "code",
   "execution_count": null,
   "id": "32c382f0-aefe-4756-8e06-fac3a7b96e1c",
   "metadata": {},
   "outputs": [],
   "source": [
    "# Creating Cognito User Pool\n\n日本語訳:\n\n# Cognito ユーザープールの作成\n\nAmazon Cognito は、Web および モバイルアプリケーションの認証、承認、ユーザー管理を容易にするサービスです。ユーザープールは、ユーザーディレクトリを提供します。ユーザープールを作成するには、以下の手順に従ってください。\n\n1. AWS マネジメントコンソールにサインインし、Cognito の画面に移動します。\n2. 「ユーザープールの管理」をクリックします。\n3. 「ユーザープールの作成」をクリックします。\n4. ユーザープールの名前を入力します (例: `my-user-pool`)。\n5. 次の手順で、必要に応じて設定を調整できます。\n    - パスワードポリシーの設定\n    - MFA (多要素認証) と верификация (確認) の設定\n    - メッセージのカスタマイズ\n    - デバイスの追跡\n    - 属性の設定\n    - その他の高度な設定\n6. 「ユーザープールの作成」をクリックして作成を完了します。\n\n作成したユーザープールは、ユーザーの サインアップ、サインイン、アカウント復旧などの機能を提供します。アプリケーションからは、AWS Amplify、AWS SDK、または Cognito の API を使用してユーザープールにアクセスできます。\nimport os\nimport boto3\nimport requests\nimport time\nfrom botocore.exceptions import ClientError\n\nREGION = os.environ['AWS_DEFAULT_REGION']\nUSER_POOL_NAME = \"sample-agentcore-gateway-pool\"\nRESOURCE_SERVER_ID = \"sample-agentcore-gateway-id\"\nRESOURCE_SERVER_NAME = \"sample-agentcore-gateway-name\"\nCLIENT_NAME = \"sample-agentcore-gateway-client\"\nSCOPES = [\n    {\"ScopeName\": \"gateway:read\", \"ScopeDescription\": \"Read access\"},\n    {\"ScopeName\": \"gateway:write\", \"ScopeDescription\": \"Write access\"}\n]\nscopeString = f\"{RESOURCE_SERVER_ID}/gateway:read {RESOURCE_SERVER_ID}/gateway:write\"\n\ncognito = boto3.client(\"cognito-idp\", region_name=REGION)\n\nprint(\"Creating or retrieving Cognito resources...\")\nuser_pool_id = utils.get_or_create_user_pool(cognito, USER_POOL_NAME)\nprint(f\"User Pool ID: {user_pool_id}\")\n\nutils.get_or_create_resource_server(cognito, user_pool_id, RESOURCE_SERVER_ID, RESOURCE_SERVER_NAME, SCOPES)\nprint(\"Resource server ensured.\")\n\nclient_id, client_secret  = utils.get_or_create_m2m_client(cognito, user_pool_id, CLIENT_NAME, RESOURCE_SERVER_ID)\nprint(f\"Client ID: {client_id}\")\n\n# Get discovery URL\n\ndiscovery_url = \"https://metadata.google.internal/computeMetadata/v1/instance/service-accounts/default/token\"\n\nheaders = {\"Metadata-Flavor\": \"Google\"}\nr = requests.get(discovery_url, headers=headers)\nr.raise_for_status()\naccess_token = r.text\n\n日本語訳:\n\n# 検出 URL を取得\n\ndiscovery_url = \"https://metadata.google.internal/computeMetadata/v1/instance/service-accounts/default/token\"\n\nheaders = {\"Metadata-Flavor\": \"Google\"}\nr = requests.get(discovery_url, headers=headers)\nr.raise_for_status()\naccess_token = r.text\ncognito_discovery_url = f'https://cognito-idp.{REGION}.amazonaws.com/{user_pool_id}/.well-known/openid-configuration'\nprint(cognito_discovery_url)"
   ]
  },
  {
   "cell_type": "markdown",
   "id": "f1a63450-7fb9-42fc-ab4f-3d86c27bb2f8",
   "metadata": {},
   "source": [
    "# ゲートウェイを作成する\n\n日本語訳:\n# ゲートウェイを作成します\n\nresource \"aws_nat_gateway\" \"gw\" {\n  allocation_id = aws_eip.nat.id\n  subnet_id     = aws_subnet.public_1.id\n\n  tags = {\n    Name = \"NAT Gateway Public Subnet 1\"\n  }\n\n  # To ensure proper ordering, it is recommended to add an explicit dependency\n  # on the Internet Gateway for the VPC.\n  depends_on = [aws_internet_gateway.gw]\n}"
   ]
  },
  {
   "cell_type": "code",
   "execution_count": null,
   "id": "72f2cd57-7777-42d3-b6f3-c45ed0a935c4",
   "metadata": {},
   "outputs": [],
   "source": [
    "# CreateGateway with Cognito authorizer without CMK. Use the Cognito user pool created in the previous step\n\n日本語訳:\n\n# CMK を使用せずに Cognito 認証者で CreateGateway を作成します。前のステップで作成した Cognito ユーザープールを使用してください。\nimport boto3\ngateway_client = boto3.client('bedrock-agentcore-control', region_name = os.environ['AWS_DEFAULT_REGION'])\nauth_config = {\n    \"customJWTAuthorizer\": { \n        \"allowedClients\": [client_id],  # Client MUST match with the ClientId configured in Cognito. Example: 7rfbikfsm51j2fpaggacgng84g\n\n日本語訳:\n# Client は Cognito で設定された ClientId と一致する必要があります。例: 7rfbikfsm51j2fpaggacgng84g\n        \"discoveryUrl\": cognito_discovery_url\n    }\n}\ncreate_response = gateway_client.create_gateway(name='DemoS3Smithyv3',\n    roleArn = agentcore_gateway_iam_role['Role']['Arn'], # IAM ロールには Gateway を作成/一覧表示/取得/削除する権限が必要です。\n\n日本語訳:\n    protocolType='MCP',\n    authorizerType='CUSTOM_JWT',\n    authorizerConfiguration=auth_config, \n    description='AgentCore Gateway with Smithy target'\n)\nprint(create_response)\n# Retrieve the GatewayID used for GatewayTarget creation\n\nゲートウェイターゲット作成に使用される GatewayID を取得します。\ngatewayID = create_response[\"gatewayId\"]\ngatewayURL = create_response[\"gatewayUrl\"]\nprint(gatewayID)"
   ]
  },
  {
   "cell_type": "markdown",
   "id": "510b092f-be1d-4b31-abb7-1fb8cab887ef",
   "metadata": {},
   "source": [
    "# Amazon S3 の仕様でSmithyターゲットを作成する\n\nAmazon S3 APIのSmithyゲートウェイターゲットを作成します。Amazon S3 の smithy json ファイルをインポートし、API を MCP ツールに変換します。\n\n日本語訳:\n\nAmazon S3 の仕様で Smithy ターゲットを作成します。Amazon S3 の smithy json ファイルをインポートし、API を MCP ツールに変換します。"
   ]
  },
  {
   "cell_type": "markdown",
   "id": "c1cb1835-5aaf-471d-ac28-6f5fe78caf5a",
   "metadata": {},
   "source": [
    "#### S3 Smithy API jsonファイルをS3にアップロードする\n\n日本語訳:\n\nS3 に S3 Smithy API json ファイルをアップロードするには、次の手順を実行します。\n\n1. AWS マネジメントコンソールにサインインし、 S3 コンソールを開きます。\n2. バケットを作成するか、既存のバケットを選択します。\n3. バケットに移動し、 `アップロード` ボタンをクリックします。\n4. ローカルマシンから S3 Smithy API json ファイルを選択し、 `アップロード` をクリックします。\n\nアップロードが完了すると、S3 バケット内に S3 Smithy API json ファイルが表示されます。後続の手順でこのファイルを使用して、AWS CloudFormation を使って API Gateway REST API をデプロイできます。"
   ]
  },
  {
   "cell_type": "code",
   "execution_count": null,
   "id": "a105be4e-ae05-4981-a609-01d410f66023",
   "metadata": {},
   "outputs": [],
   "source": [
    "# Create an S3 client\n\n日本語訳:\nS3 クライアントを作成します。\n\nimport boto3\n\ns3 = boto3.client('s3')\n\n# Upload a file to S3\ns3.upload_file('/tmp/sample_file.txt', 'my-bucket', 'sample_file.txt')\n\n# Download a file from S3\ns3.download_file('my-bucket', 'sample_file.txt', '/tmp/sample_file.txt')\nsession = boto3.session.Session()\ns3_client = session.client('s3')\nsts_client = session.client('sts')\n\n# AWS アカウント ID と リージョンを取得する\n\naccount_id = subprocess.run([\"aws\", \"sts\", \"get-caller-identity\", \"--query\", \"Account\", \"--output\", \"text\"], stdout=subprocess.PIPE).stdout.decode('utf-8').strip()\nregion = subprocess.run([\"aws\", \"configure\", \"get\", \"region\"], stdout=subprocess.PIPE).stdout.decode('utf-8').strip()\n\nprint(f\"AWS アカウント ID: {account_id}\")\nprint(f\"リージョン: {region}\")\naccount_id = sts_client.get_caller_identity()[\"Account\"]\nregion = session.region_name\n# Define parameters\n\nパラメータを定義します。\n\nnum_epochs = 10 \nbatch_size = 32\nlearning_rate = 0.001\n\n# Import necessary libraries\n\n必要なライブラリをインポートします。\n\nimport numpy as np\nimport tensorflow as tf\n\n# Load data\n\nデータを読み込みます。\n\n(x_train, y_train), (x_test, y_test) = tf.keras.datasets.mnist.load_data()\n\n# Preprocess data\n\nデータを前処理します。\n\nx_train = x_train.reshape(-1, 28, 28, 1) / 255.0\nx_test = x_test.reshape(-1, 28, 28, 1) / 255.0\n\n# Define model\n\nモデルを定義します。\n\nmodel = tf.keras.models.Sequential([\n    tf.keras.layers.Conv2D(32, (3, 3), activation='relu', input_shape=(28, 28, 1)),\n    tf.keras.layers.MaxPooling2D((2, 2)),\n    tf.keras.layers.Flatten(),\n    tf.keras.layers.Dense(64, activation='relu'),\n    tf.keras.layers.Dense(10, activation='softmax')\n])\n\n# Compile model\n\nモデルをコンパイルします。\n\nmodel.compile(optimizer=tf.keras.optimizers.Adam(learning_rate),\n              loss='sparse_categorical_crossentropy',\n              metrics=['accuracy'])\nbucket_name = '' # Your s3 bucket to upload the OpenAPI json file.\n\n日本語訳:\n\n# OpenAPI json ファイルをアップロードする s3 バケットを指定してください。\nfile_path = 'smithy-specs/s3-apis.json'\nobject_key = 's3-apis.json'\n# ファイルをput_objectを使ってアップロードし、レスポンスを読む\n\n日本語訳:\n\nファイルを put_object を使ってアップロードし、レスポンスを読む\ntry:\n    with open(file_path, 'rb') as file_data:\n        response = s3_client.put_object(Bucket=bucket_name, Key=object_key, Body=file_data)\n\n    # アカウントIDとリージョンでアップロードされたオブジェクトの ARN を構築する\n\n日本語訳:\n\nアカウント ID と リージョンを使用して、アップロードされたオブジェクトの Amazon リソースネーム (ARN) を構築します。技術的な用語 (ARN、アカウント ID、リージョン) はそのまま残しました。\n    smithy_s3_uri = f's3://{bucket_name}/{object_key}'\n    print(f'Uploaded object S3 URI: {smithy_s3_uri}')\nexcept Exception as e:\n    print(f'Error uploading file: {e}')"
   ]
  },
  {
   "cell_type": "markdown",
   "id": "715f371d-3118-4c7f-bb23-c90ab09e4284",
   "metadata": {},
   "source": [
    "#### ゲートウェイターゲットを作成する\n\n日本語訳:\n\nゲートウェイターゲットを作成するには、次の手順を実行します。\n\n1. AWS Management Console にサインインし、 Amazon API Gateway コンソールを開きます。\n\n2. 既存の REST API を選択するか、新しい API を作成します。\n\n3. リソースを作成します。この例では、リソースの名前を `mydemoresource` としています。\n\n4. `mydemoresource` リソースの下に新しい子リソースを作成します。この例では、子リソースの名前を `mydemoresourcechild` としています。\n\n5. `mydemoresourcechild` リソースに対して、HTTP メソッド要求を設定します。この例では、 GET メソッドを選択しています。\n\n6. 統合タイプとして、「 Lambda 関数」を選択します。\n\n7. Lambda 関数を選択するか、新しい関数を作成します。この例では、既存の関数 `lambda_function_name` を選択しています。\n\n8. 必要に応じて、その他の設定を行います。\n\n9. API Gateway コンソールで、「リソースポリシーの追加」を選択し、リソースポリシーを設定します。この例では、ワイルドカード (`/*`) を使用しています。\n\n10. 「デプロイ」を選択し、ステージ名 (例: `prod`) を入力して、API をデプロイします。\n\nこれで、 API Gateway 経由で Lambda 関数を呼び出すことができるようになりました。呼び出し URL は、 `https://{restapi_id}.execute-api.{region}.amazonaws.com/prod/mydemoresource/mydemoresourcechild` のようになります。"
   ]
  },
  {
   "cell_type": "code",
   "execution_count": null,
   "id": "629945ac-d1c3-49ae-92f7-4b0e0ef6d2c8",
   "metadata": {},
   "outputs": [],
   "source": [
    "# S3 Uri for Smithy spec file\n\n日本語訳:\n\n# Smithy 仕様ファイルの S3 URI\nsmithy_s3_target_config = {\n    \"mcp\": {\n          \"smithyModel\": {\n              \"s3\": {\n                  \"uri\": smithy_s3_uri\n              }\n          }\n      }\n}\n\n# IAM 認証情報プロバイダーの設定\n\n日本語訳:\ncredential_config  = {\n        \"credentialProviderType\" : \"GATEWAY_IAM_ROLE\"\n    }\n\ntargetname='DemoSmithytargetForS3'\nresponse = gateway_client.create_gateway_target(\n    gatewayIdentifier=gatewayID,\n    name=targetname,\n    description='Smithy Target with S3Uri using SDK',\n    targetConfiguration=smithy_s3_target_config,\n    credentialProviderConfigurations=[credential_config])\n\n# リクエスト ID とタイムスタンプを出力します。不具合/欠陥を報告する際にこれらを含めてください。\n\n日本語訳:\n\nリクエスト ID とタイムスタンプを出力しています。不具合/欠陥を報告する際には、これらを含めてください。\nresponse_metadata = response['ResponseMetadata']\nprint(response_metadata)"
   ]
  },
  {
   "cell_type": "markdown",
   "id": "d3ac6532-5299-4024-917d-bcd60caea6ed",
   "metadata": {},
   "source": [
    "# Strands エージェントから Bedrock AgentCore Gateway を呼び出す\n\nStrands エージェントは、Model Context Protocol (MCP) 仕様を実装する Bedrock AgentCore Gateway を通じて、AWS ツールとシームレスに統合されています。この統合により、AI エージェントと AWS サービス間の安全で標準化された通信が可能になります。\n\nBedrock AgentCore Gateway の中核は、基本的な MCP API である ListTools と InvokeTools を公開するプロトコル準拠の Gateway です。これらの API を使用すると、MCP 準拠のクライアントまたは SDK から、利用可能なツールを安全で標準化された方法で検出およびやり取りできます。Strands エージェントが AWS サービスにアクセスする必要がある場合は、これらの MCP 標準化されたエンドポイントを使用して Gateway と通信します。\n\nGateway の実装は、(MCP Authorization 仕様)[https://modelcontextprotocol.org/specification/draft/basic/authorization] を厳密に順守しており、堅牢なセキュリティとアクセス制御が保証されています。つまり、Strands エージェントによるすべてのツール呼び出しは、セキュリティを維持しながら強力な機能を可能にする認証ステップを経ます。\n\n例えば、Strands エージェントが MCP ツールにアクセスする必要がある場合、まず ListTools を呼び出して利用可能なツールを検出し、次に InvokeTools を使用して特定のアクションを実行します。Gateway は、必要なすべてのセキュリティ検証、プロトコル変換、およびサービス対話を処理するため、プロセス全体がシームレスかつ安全に行われます。\n\nこのアーキテクチャアプローチにより、MCP 仕様を実装するクライアントまたは SDK は、Gateway を介して AWS サービスとやり取りできるため、AI エージェントの統合に対して汎用性と将来性のある解決策となります。"
   ]
  },
  {
   "cell_type": "code",
   "execution_count": null,
   "id": "3e3a7c36-d910-4651-9f1e-e2b5f605440a",
   "metadata": {},
   "outputs": [],
   "source": [
    "uv_install(\"mcp[cli]\", \"strands-agents\")"
   ]
  },
  {
   "cell_type": "markdown",
   "id": "873031fe-62b5-4196-91be-500c1f87dfd4",
   "metadata": {},
   "source": [
    "# Amazon Cognitoからアクセストークンを要求して、インバウンド認証を行う\n\n日本語訳:\n\n access_token = aws_auth.get_access_token()  # アクセストークンを取得\n\n operation = 'PutItem'  # 実行する操作\n table_name = 'Employees'  # テーブル名\n key = {'EmpId': {'N': ' 123 '}}  # パーティションキー\n\n attribute_values = {\n     ':name': {'S': ' Jane Doe '},\n     ':job': {'S': ' Engineer '},\n     ':city': {'S': ' Seattle '}\n }\n\n condition_expression = 'attribute_not_exists(EmpId)'  # 条件式\n\n # DynamoDBにアイテムを追加するリクエスト\n response = dynamodb.meta.client.put_item(\n     TableName=table_name,\n     Item={\n         'EmpId': key['EmpId'],\n         'Name': attribute_values[':name'],\n         'JobTitle': attribute_values[':job'],\n         'City': attribute_values[':city']\n     },\n     ConditionExpression=condition_expression\n )\n\n print(response)"
   ]
  },
  {
   "cell_type": "code",
   "execution_count": null,
   "id": "3ed1d1d6-e84c-4286-bf25-3ad6a49723b9",
   "metadata": {},
   "outputs": [],
   "source": [
    "print(\"Requesting the access token from Amazon Cognito authorizer...May fail for some time till the domain name propogation completes\")\n",
    "token_response = utils.get_token(user_pool_id, client_id, client_secret,scopeString,REGION)\n",
    "token = token_response[\"access_token\"]\n",
    "print(\"Token response:\", token)"
   ]
  },
  {
   "cell_type": "markdown",
   "id": "6fd0379d-9576-43cb-aa9b-72b86c43b472",
   "metadata": {},
   "source": [
    "# AWS アカウントで保有している s3 リソースについて IT エージェントに尋ねる\n\n日本語訳:\nあなたの AWS アカウントで保有している s3 リソースについて IT エージェントに尋ねてください。"
   ]
  },
  {
   "cell_type": "code",
   "execution_count": null,
   "id": "be4b39c4-7387-4ce8-b728-f2347fbdaa36",
   "metadata": {},
   "outputs": [],
   "source": [
    "from strands.models import BedrockModel\nfrom mcp.client.streamable_http import streamablehttp_client \nfrom strands.tools.mcp.mcp_client import MCPClient\nfrom strands import Agent\n\ndef create_streamable_http_transport():\n    return streamablehttp_client(gatewayURL,headers={\"Authorization\": f\"Bearer {token}\"})\n\nclient = MCPClient(create_streamable_http_transport)\n\n以下が日本語訳になります。\n\n## ~/.aws/credentials に設定された IAM グループ/ユーザーは Bedrock モデルへのアクセス権限を持つ必要があります\nyourmodel = BedrockModel(\n    model_id=\"us.amazon.nova-pro-v1:0\",\n    temperature=0.7,\n)"
   ]
  },
  {
   "cell_type": "code",
   "execution_count": null,
   "id": "e64794e7-4e5f-4fc5-824a-61c901e356c4",
   "metadata": {},
   "outputs": [],
   "source": [
    "from strands import Agent\nimport logging\n\n\n# Configure the root strands logger. Change it to DEBUG if you are debugging the issue.\n\n日本語訳:\n\n# ルート strands ロガーを設定します。問題をデバッグしている場合は、これを DEBUG に変更してください。\nlogging.getLogger(\"strands\").setLevel(logging.INFO)\n\n# ログを確認するためのハンドラーを追加する\n\nlogs = run.use_repl(python_repl)\nlogs.handlers.append(TextLogHandler(run))\n\nlogs.info('Hello, World!') \n\nrun.info('logs', logs) # 出力: <Object logs>\n\n# 半角英数字の前後に半角スペースを挿入\nrun.info('42 is the answer') # 出力: 42 is the answer\nrun.info('sum = 6 * 7') # 出力: sum = 6 * 7\nlogging.basicConfig(\n    format=\"%(levelname)s | %(name)s | %(message)s\", \n    handlers=[logging.StreamHandler()]\n)\n\nwith client:\n    # Call the listTools \n\nlistTools を呼び出します。\n    tools = client.list_tools_sync()\n    # エージェントを model と tools で作成する\n\n日本語訳:\n\n# エージェントを model と tools で作成する\n\nagent = Agent(model, tools)\n    agent = Agent(model=yourmodel,tools=tools) ## お好みの モデル に置き換えることができます\n    #print(f\"Tools loaded in the agent are {agent.tool_names}\")\n\n日本語訳:\n\nエージェントに読み込まれたツールは { agent.tool_names } です\n    #print(f\"Tools configuration in the agent are {agent.tool_config}\")\n\nエージェントのツール設定は {agent.tool_config} です。\n    # Invoke the agent with the sample prompt. This will only invoke MCP listTools and retrieve the list of tools the LLM has access to. The below does not actually call any tool.\n\nサンプルのプロンプトでエージェントを呼び出します。これは MCP listTools のみを呼び出し、LLM がアクセスできるツールのリストを取得します。以下では実際にはツールを呼び出しません。\n    agent(\"Hi , can you list all the s3 buckets. Locate the right tool and call the tool to get the answer\")\n    #agent(\"What is the weather in northern part of the mars\")\n\n日本語訳:\n\n#agent(\"火星の北部の天気はどうですか\")\n    # Invoke the agent with sample prompt, invoke the tool and display the response\n\nサンプルのプロンプトでエージェントを呼び出し、ツールを呼び出して、レスポンスを表示します。\n    # ログを確認するためのハンドラーを追加する\n\nlogs = run.use_repl(python_repl)\nlogs.handlers.append(TextLogHandler(run))\n\nlogs.info('Hello, World!') \n\nrun.info('logs', logs) # 出力: <Object logs>\n\n# 半角英数字の前後に半角スペースを挿入\nrun.info('42 is the answer') # 出力: 42 is the answer\nrun.info('sum = 6 * 7') # 出力: sum = 6 * 70\n    # ログを確認するためのハンドラーを追加する\n\nlogs = run.use_repl(python_repl)\nlogs.handlers.append(TextLogHandler(run))\n\nlogs.info('Hello, World!') \n\nrun.info('logs', logs) # 出力: <Object logs>\n\n# 半角英数字の前後に半角スペースを挿入\nrun.info('42 is the answer') # 出力: 42 is the answer\nrun.info('sum = 6 * 7') # 出力: sum = 6 * 71\n    result = client.call_tool_sync(\n    tool_use_id=\"get-insight-weather-1\", # ログを確認するためのハンドラーを追加する\n\nlogs = run.use_repl(python_repl)\nlogs.handlers.append(TextLogHandler(run))\n\nlogs.info('Hello, World!') \n\nrun.info('logs', logs) # 出力: <Object logs>\n\n# 半角英数字の前後に半角スペースを挿入\nrun.info('42 is the answer') # 出力: 42 is the answer\nrun.info('sum = 6 * 7') # 出力: sum = 6 * 72\n    name=targetname+\"___ListBuckets\", # ログを確認するためのハンドラーを追加する\n\nlogs = run.use_repl(python_repl)\nlogs.handlers.append(TextLogHandler(run))\n\nlogs.info('Hello, World!') \n\nrun.info('logs', logs) # 出力: <Object logs>\n\n# 半角英数字の前後に半角スペースを挿入\nrun.info('42 is the answer') # 出力: 42 is the answer\nrun.info('sum = 6 * 7') # 出力: sum = 6 * 73\n    # ログを確認するためのハンドラーを追加する\n\nlogs = run.use_repl(python_repl)\nlogs.handlers.append(TextLogHandler(run))\n\nlogs.info('Hello, World!') \n\nrun.info('logs', logs) # 出力: <Object logs>\n\n# 半角英数字の前後に半角スペースを挿入\nrun.info('42 is the answer') # 出力: 42 is the answer\nrun.info('sum = 6 * 7') # 出力: sum = 6 * 74\n    )\n    # ログを確認するためのハンドラーを追加する\n\nlogs = run.use_repl(python_repl)\nlogs.handlers.append(TextLogHandler(run))\n\nlogs.info('Hello, World!') \n\nrun.info('logs', logs) # 出力: <Object logs>\n\n# 半角英数字の前後に半角スペースを挿入\nrun.info('42 is the answer') # 出力: 42 is the answer\nrun.info('sum = 6 * 7') # 出力: sum = 6 * 75\n    print(f\"Tool Call result: {result['content'][0]['text']}\")\n"
   ]
  },
  {
   "cell_type": "markdown",
   "id": "fa8dd91d-15a6-45b2-b539-bb3eaf0e0e08",
   "metadata": {},
   "source": [
    "# クリーンアップ\nIAM ロール、IAM ポリシー、認証情報プロバイダー、AWS Lambda 関数、Cognito ユーザープール、s3 バケットなどの追加リソースも作成されます。これらは、実行した例次第で、クリーンアップの一環として手動で削除する必要があるかもしれません。"
   ]
  },
  {
   "cell_type": "markdown",
   "id": "a22f158d-83b6-4d65-892f-9a208af3d742",
   "metadata": {},
   "source": [
    "## ゲートウェイを削除する (オプション)"
   ]
  },
  {
   "cell_type": "code",
   "execution_count": null,
   "id": "58d250fc-dd34-4eb3-8d5b-c9eac9de9c79",
   "metadata": {},
   "outputs": [],
   "source": [
    "import utils\n",
    "utils.delete_gateway(gateway_client,gatewayID)"
   ]
  }
 ],
 "metadata": {
  "kernelspec": {
   "display_name": "Python 3 (ipykernel)",
   "language": "python",
   "name": "python3"
  },
  "language_info": {
   "codemirror_mode": {
    "name": "ipython",
    "version": 3
   },
   "file_extension": ".py",
   "mimetype": "text/x-python",
   "name": "python",
   "nbconvert_exporter": "python",
   "pygments_lexer": "ipython3",
   "version": "3.11.9"
  }
 },
 "nbformat": 4,
 "nbformat_minor": 5
}