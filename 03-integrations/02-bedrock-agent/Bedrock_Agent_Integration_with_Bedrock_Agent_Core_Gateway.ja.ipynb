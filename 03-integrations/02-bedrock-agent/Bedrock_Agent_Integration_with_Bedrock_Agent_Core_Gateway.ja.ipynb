{
 "cells": [
  {
   "cell_type": "markdown",
   "metadata": {},
   "source": [
    "# Bedrock AgentとBedrock AgentCore Gatewayの統合\n\nこのノートブックでは、AWS Lambda と DynamoDB で構築された Fruit Stand バックエンド API について、Amazon Bedrock Agent と Bedrock AgentCore Gateway のエンドツーエンドの統合を示します。\n\n## アーキテクチャの概要\n```\nユーザーのクエリ → Bedrock Agent → Bridge Lambda → Bedrock AgentCore Gateway → ターゲット Lambda → DynamoDB\n```"
   ]
  },
  {
   "cell_type": "markdown",
   "metadata": {},
   "source": [
    "## Step 1: Install Dependencies & Setup\n\n**日本語訳:**\n\n## ステップ 1: 依存関係のインストールとセットアップ\n\nまず、必要な依存関係をインストールし、プロジェクトをセットアップする必要があります。\n\n1. 新しいターミナルウィンドウを開き、プロジェクトのルートディレクトリに移動します。\n\n```bash\ncd /path/to/project\n```\n\n2. Node.js と npm がインストールされていることを確認します。インストールされていない場合は、[公式サイト](https://nodejs.org) から最新バージョンをダウンロードしてインストールしてください。\n\n3. 次のコマンドを実行して、プロジェクトの依存関係をインストールします。\n\n```bash\nnpm install\n```\n\n4. `.env` ファイルを作成し、必要な環境変数を設定します。\n\n```\nAPI_KEY=your_api_key_here\n```\n\nプロジェクトのセットアップが完了したら、次のステップに進むことができます。"
   ]
  },
  {
   "cell_type": "code",
   "execution_count": null,
   "metadata": {},
   "outputs": [],
   "source": [
    "# boto3をインストール\n\n日本語訳:\n\n`pip install boto3` を実行して、 boto3 をインストールしてください。 boto3 は Amazon Web Services (AWS) との対話を簡単にするための Python 用の AWS SDK です。この SDK を使うと、Python スクリプトから AWS のサービスを操作できます。\n\n例えば、 boto3 を使えば、Amazon S3 バケットの作成、オブジェクトのアップロード/ダウンロード、Amazon EC2 インスタンスの起動/停止などの操作を Python コードで実行できます。 boto3 は AWS API をラップし、開発者が直接低レベルの AWS API を呼び出す必要がなくなります。\n\nboto3 は Python 2.6.5 以降と Python 3.3 以降の両方で動作し、pip を使ってインストールできます。インストール後は、 `import boto3` と記述して boto3 をインポートし、AWS との対話を開始できます。\n!pip3 install botocore--quiet\n!pip3 install boto3 --quiet\n\nimport boto3\nimport json\nimport zipfile\nimport os\nimport urllib.request\nimport urllib.parse\nimport time\n\nprint(\"✅ Dependencies installed successfully\")"
   ]
  },
  {
   "cell_type": "markdown",
   "metadata": {},
   "source": [
    "## ステップ 2: 必要な権限を持つ IAM ロールを作成する\n\n日本語訳:\n\nこのステップでは、Amazon EKS クラスターと連携するために必要な許可を持つ IAM ロール を作成します。この IAM ロール は、クラスターの作成時に指定されます。\n\n1. https://console.aws.amazon.com/iam/ で AWS IAM コンソールを開きます。\n2. 左側のナビゲーションペインで 「ロール」 を選択し、「ロールの作成」 をクリックします。\n3. 「AWS のサービス」 を選択し、「使用事例の選択」 で 「EKS」 を選択します。\n4. 「EKSクラスター」 を選択し、「次のステップ」 をクリックします。\n5. 「アタッチされたアクセス許可ポリシー」 で、「AmazonEKSClusterPolicy」 と 「AmazonEKSServicePolicy」 を選択します。\n6. 「次のステップ」 をクリックします。\n7. 「ロール名」 を入力します (例: eksServiceRole)。\n8. 「ロールの作成」 をクリックします。\n\n作成した IAM ロール の ARN (Amazon リソースネーム) をメモしておいてください。次のステップで使用します。"
   ]
  },
  {
   "cell_type": "code",
   "execution_count": null,
   "metadata": {},
   "outputs": [],
   "source": [
    "def create_iam_role():\n    以下が日本語訳になります。\n\n\"\"\"Bedrock Core Gateway 、 Bedrock Agent 、 Lambda で使用できる IAM ロールを作成します\"\"\"\n\n技術的な用語である \"IAM role\" 、 \"Bedrock Core Gateway\" 、 \"Bedrock Agent\" 、 \"Lambda\" はそのまま残しました。半角英数字の前後には半角スペースを挿入しています。\n    iam = boto3.client('iam')\n    \n    trust_policy = {\n        \"Version\": \"2012-10-17\",\n        \"Statement\": [\n            {\n                \"Effect\": \"Allow\",\n                \"Principal\": {\n                    \"Service\": \"lambda.amazonaws.com\"\n                },\n                \"Action\": \"sts:AssumeRole\"\n            },\n            {\n                \"Effect\": \"Allow\",\n                \"Principal\": {\n                    \"Service\": \"bedrock.amazonaws.com\"\n                },\n                \"Action\": \"sts:AssumeRole\"\n            },\n            {\n            \"Effect\": \"Allow\",\n            \"Principal\": {\n                \"Service\": \"bedrock-agentcore.amazonaws.com\"\n            },\n            \"Action\": \"sts:AssumeRole\"\n        }\n        ]\n    }\n    \n    try:\n        role_response = iam.create_role(\n            RoleName='BedrockAgentCoreGatewayLambdaRole',\n            AssumeRolePolicyDocument=json.dumps(trust_policy),\n            Description='Role for Bedrock Gateway with DynamoDB access'\n        )\n        \n        # Create and attach inline policy\n\nインラインポリシーを作成してアタッチする\n\nTo create an inline policy for your role:\n\n1. Open the AWS Management Console, and then open the IAM console at https://console.aws.amazon.com/iam/.\n2. In the navigation pane, choose Roles, and then choose your role.\n3. On the Permissions tab, expand the Inline Policies section and choose click here.\n4. Choose the JSON tab.\n5. Enter a JSON policy document for the policy. For example:\n\n```json\n{\n    \"Version\": \"2012-10-17\",\n    \"Statement\": [\n        {\n            \"Effect\": \"Allow\",\n            \"Action\": \"logs:CreateLogGroup\",\n            \"Resource\": \"arn:aws:logs:us-west-2:123456789012:*\"\n        },\n        {\n            \"Effect\": \"Allow\",\n            \"Action\": [\n                \"logs:CreateLogStream\",\n                \"logs:PutLogEvents\"\n            ],\n            \"Resource\": [\n                \"arn:aws:logs:us-west-2:123456789012:log-group:/aws/lambda/my-function:*\"\n            ]\n        }\n    ]\n}\n```\n\n6. When you are finished adding statements, choose Review Policy.\n7. Enter a name for your new inline policy, and choose Create Policy.\n\nThe policy is now attached to your role.\n\nロールにインラインポリシーを作成するには:\n\n1. AWS マネジメントコンソールを開き、https://console.aws.amazon.com/iam/ で IAM コンソールを開きます。\n2. ナビゲーションペインで [Roles] を選択し、ロールを選びます。 \n3. [Permissions] タブで、[Inline Policies] セクションを展開し、[click here] を選択します。\n4. [JSON] タブを選択します。\n5. ポリシーの JSON ドキュメントを入力します。例:\n\n```json\n{\n    \"Version\": \"2012-10-17\", \n    \"Statement\": [\n        {\n            \"Effect\": \"Allow\",\n            \"Action\": \"logs:CreateLogGroup\",\n            \"Resource\": \"arn:aws:logs:us-west-2:123456789012:*\"\n        },\n        {\n            \"Effect\": \"Allow\", \n            \"Action\": [\n                \"logs:CreateLogStream\",\n                \"logs:PutLogEvents\"\n            ],\n            \"Resource\": [\n                \"arn:aws:logs:us-west-2:123456789012:log-group:/aws/lambda/my-function:*\"\n            ]\n        }\n    ]\n}\n```\n\n6. ステートメントの追加が完了したら、[Review Policy] を選択します。\n7. 新しいインラインポリシーの名前を入力し、[Create Policy] を選択します。\n\nポリシーがロールにアタッチされました。\n        permissions_policy = {\n            \"Version\": \"2012-10-17\",\n            \"Statement\": [\n                {\n                    \"Effect\": \"Allow\",\n                    \"Action\": [\n                        \"bedrock-agentcore:*\",\n                        \"iam:PassRole\",\n                        \"lambda:InvokeFunction\"\n                    ],\n                    \"Resource\": \"*\"\n                }\n            ]\n        }\n        \n        iam.put_role_policy(\n            RoleName='BedrockAgentCoreGatewayLambdaRole',\n            PolicyName='BedrockAgentCoreInlinePolicy',\n            PolicyDocument=json.dumps(permissions_policy)\n        )\n        \n        # Attach managed policies\n\n日本語訳:\n# 管理ポリシーを付与する\n\nTo grant permissions to a user, group, or role, you can use the AWS Management Console, AWS CLI, or AWS API operations. Managed policies are stand-alone policy documents that you can attach to multiple users, groups, and roles in your AWS account. Managed policies make it easier to re-use the same permissions across multiple entities.\n\nユーザー、グループ、またはロールに権限を付与するには、AWS 管理コンソール、AWS CLI、または AWS API オペレーションを使用できます。管理ポリシーは、AWS アカウント内の複数のユーザー、グループ、ロールに付与できる独立したポリシードキュメントです。管理ポリシーを使用すると、同じ権限を複数のエンティティに再利用しやすくなります。\n\nTo attach a managed policy to a user, group, or role:\n\nユーザー、グループ、またはロールに管理ポリシーを付与するには:\n\n1. Sign in to the AWS Management Console and open the IAM console at https://console.aws.amazon.com/iam/.\n1. AWS 管理コンソールにサインインし、https://console.aws.amazon.com/iam/ で IAM コンソールを開きます。\n\n2. In the navigation pane, choose Users, Groups, or Roles.\n2. ナビゲーションペインで、[Users]、[Groups]、または [Roles] を選択します。\n\n3. Select the name of the user, group, or role to which you want to attach the policy.\n3. ポリシーを付与するユーザー、グループ、またはロールの名前を選択します。\n\n4. Choose the Permissions tab.\n4. [Permissions] タブを選択します。\n\n5. Under Managed Policies, choose Attach Policies.\n5. [Managed Policies] の下で [Attach Policies] を選択します。\n\n6. Select the check box next to the policy you want to attach.\n6. 付与するポリシーの横にあるチェックボックスを選択します。\n\n7. Choose Attach Policy.\n7. [Attach Policy] を選択します。\n\nYou can also use the aws_iam_policy_attachment resource in Terraform to attach a managed policy to a user, group, or role. For example:\n\nまた、Terraform の aws_iam_policy_attachment リソースを使用して、ユーザー、グループ、またはロールに管理ポリシーを付与することもできます。例:\n\n```\nresource \"aws_iam_user\" \"example\" {\n  name = \"example_user\"\n}\n\nresource \"aws_iam_policy_attachment\" \"example\" {\n  name       = \"example-attachment\"\n  users      = [aws_iam_user.example.name]\n  policy_arn = \"arn:aws:iam::aws:policy/ReadOnlyAccess\"\n}\n```\n\nThis example creates an IAM user named \"example_user\" and attaches the \"ReadOnlyAccess\" managed policy to that user.\n\nこの例では、\"example_user\" という名前の IAM ユーザーを作成し、そのユーザーに \"ReadOnlyAccess\" 管理ポリシーを付与しています。\n        iam.attach_role_policy(\n            RoleName='BedrockAgentCoreGatewayLambdaRole',\n            PolicyArn='arn:aws:iam::aws:policy/AdministratorAccess'\n        )\n        \n        role_arn = role_response['Role']['Arn']\n        print(f\"✅ Created IAM role: {role_arn}\")\n        return role_arn\n        \n    except Exception as e:\n        if 'already exists' in str(e):\n            # Ensure existing role has all required permissions\n\n既存の役割が必要なすべての権限を持っていることを確認します。\n\nresource \"aws_iam_role_policy_attachment\" \"eks_cluster_policy\" {\n  policy_arn = \"arn:aws:iam::aws:policy/EKSClusterPolicy\"\n  role       = aws_iam_role.eks_cluster_role.name\n}\n\nresource \"aws_iam_role_policy_attachment\" \"eks_service_policy\" {\n  policy_arn = \"arn:aws:iam::aws:policy/EKSServicePolicy\"\n  role       = aws_iam_role.eks_cluster_role.name\n}\n\nresource \"aws_iam_role_policy_attachment\" \"eks_cni_policy\" {\n  policy_arn = \"arn:aws:iam::aws:policy/AmazonEKS_CNI_Policy\"\n  role       = aws_iam_role.eks_cluster_role.name\n}\n\nresource \"aws_iam_role_policy_attachment\" \"ecr_readonly_policy\" {\n  policy_arn = \"arn:aws:iam::aws:policy/AmazonEC2ContainerRegistryReadOnly\"\n  role       = aws_iam_role.eks_cluster_role.name\n}\n            try:\n                iam.attach_role_policy(\n                    RoleName='BedrockAgentCoreGatewayLambdaRole',\n                    PolicyArn='arn:aws:iam::aws:policy/AdministratorAccess'\n                )\n            except:\n                pass  # ポリシーがすでに付加されている可能性があります\n\n日本語訳:\n\nポリシーがすでに付加されている可能性があります。 コード、コマンド、変数名、関数名などの技術的な用語は翻訳せずにそのまま残しました。\n            \n            account_id = boto3.client('sts').get_caller_identity()['Account']\n            role_arn = f\"arn:aws:iam::{account_id}:role/BedrockAgentCoreGatewayLambdaRole\"\n            print(f\"✅ Using existing IAM role: {role_arn}\")\n            return role_arn\n        else:\n            print(f\"❌ Error creating role: {e}\")\n            return None\n\ngateway_role_arn = create_iam_role()\nprint(f\"Gateway Role ARN: {gateway_role_arn}\")"
   ]
  },
  {
   "cell_type": "markdown",
   "metadata": {},
   "source": [
    "## ステップ 3: DynamoDB テーブルの作成\n\n注文と在庫追跡用の DynamoDB テーブルを作成します。"
   ]
  },
  {
   "cell_type": "code",
   "execution_count": null,
   "metadata": {},
   "outputs": [],
   "source": [
    "def create_dynamodb_tables():\n    以下が日本語訳になります。\n\n\"\"\"注文と在庫の DynamoDB テーブルを作成する\"\"\"\n    dynamodb = boto3.client('dynamodb', region_name='us-east-1')\n    \n    # 注文テーブルの作成\n\nCREATE TABLE Orders (\n    OrderID int NOT NULL PRIMARY KEY,\n    CustomerName varchar(50) NOT NULL,\n    OrderDate date NOT NULL,\n    ShipperName varchar(50) NOT NULL,\n    ShipperPhoneNumber varchar(20)\n);\n\n# OrderID は自動的に生成される一意の値です。\n# CustomerName は注文した顧客の名前です。\n# OrderDate は注文が行われた日付です。\n# ShipperName は配送業者の名前です。\n# ShipperPhoneNumber は配送業者の電話番号です。\n    try:\n        orders_table = dynamodb.create_table(\n            TableName='FruitOrders',\n            KeySchema=[\n                {'AttributeName': 'order_id', 'KeyType': 'HASH'}\n            ],\n            AttributeDefinitions=[\n                {'AttributeName': 'order_id', 'AttributeType': 'S'}\n            ],\n            BillingMode='PAY_PER_REQUEST'\n        )\n        print(\"✅ Created Orders table\")\n    except Exception as e:\n        if 'already exists' in str(e):\n            print(\"✅ Orders table already exists\")\n        else:\n            print(f\"❌ Error creating Orders table: {e}\")\n    \n    # Create Inventory table\n\n在庫テーブルを作成します\n\n```sql\nCREATE TABLE Inventory (\n    id INT PRIMARY KEY,\n    product_name VARCHAR(50) NOT NULL,\n    quantity INT NOT NULL,\n    price DECIMAL(10, 2) NOT NULL\n);\n```\n\nこの SQL ステートメントは、 `Inventory` という名前の新しいテーブルを作成します。このテーブルには以下の列が含まれます:\n\n- `id`: 主キーとして機能する一意の整数値\n- `product_name`: 最大 50 文字の製品名を格納する文字列\n- `quantity`: 在庫数を格納する整数値\n- `price`: 製品の価格を格納する 10 桁の decimal 値 (小数点以下 2 桁)\n\n`NOT NULL` 制約により、 `product_name`、 `quantity`、 `price` 列にはデータが必須となります。\n    try:\n        inventory_table = dynamodb.create_table(\n            TableName='FruitInventory',\n            KeySchema=[\n                {'AttributeName': 'fruit_name', 'KeyType': 'HASH'}\n            ],\n            AttributeDefinitions=[\n                {'AttributeName': 'fruit_name', 'AttributeType': 'S'}\n            ],\n            BillingMode='PAY_PER_REQUEST'\n        )\n        print(\"✅ Created Inventory table\")\n        \n        # 在庫データを初期化する\n\ninventory = {\n    'r' : 100,  # 赤い宝石\n    'b' : 500,  # 青い宝石\n    'g' : 750   # 緑の宝石\n}\n\nfor gem, count in inventory.items():\n    print(f'宝石 { gem } の在庫数は { count } 個です。')\n        # Wait for table to be active\n\nテーブルがアクティブになるのを待ちます。\n\nresource_id = table.latest_stream_arns[ 'ResourceARN' ]\nclient = boto3.client('dynamodbstreams')\n\nstream_response = client.describe_stream(StreamArn=resource_id)\n\nwhile stream_response[ 'StreamDescription' ][ 'StreamStatus' ] != 'ENABLED':\n    stream_response = client.describe_stream(StreamArn=resource_id)\n    time.sleep(1)\n\nprint('Stream is enabled!')\n        waiter = dynamodb.get_waiter(\"table_exists\")\n        waiter.wait(TableName=\"FruitInventory\", WaiterConfig={\"Delay\": 2, \"MaxAttempts\": 30})\n        print(\"✅ Table is active\")\n        \n        \n        fruits_data = [\n            {'fruit_name': 'apple', 'price': 1.20, 'unit': 'each', 'stock': 100},\n            {'fruit_name': 'banana', 'price': 0.50, 'unit': 'each', 'stock': 150},\n            {'fruit_name': 'orange', 'price': 0.75, 'unit': 'each', 'stock': 80},\n            {'fruit_name': 'strawberry', 'price': 3.99, 'unit': 'pound', 'stock': 25},\n            {'fruit_name': 'blueberry', 'price': 4.50, 'unit': 'pint', 'stock': 30}\n        ]\n        \n        for fruit in fruits_data:\n            dynamodb.put_item(\n                TableName='FruitInventory',\n                Item={\n                    'fruit_name': {'S': fruit['fruit_name']},\n                    'price': {'N': str(fruit['price'])},\n                    'unit': {'S': fruit['unit']},\n                    'stock': {'N': str(fruit['stock'])}\n                }\n            )\n        print(\"✅ Initialized inventory data\")\n        \n    except Exception as e:\n        if 'already exists' in str(e):\n            print(\"✅ Inventory table already exists\")\n        else:\n            print(f\"❌ Error creating Inventory table: {e}\")\n\n# DynamoDBテーブルを作成する\n\n日本語訳:\n\n以下のコマンドを使用して、 `users` テーブルと `orders` テーブルを作成します。\n\n```\naws dynamodb create-table \\\n    --table-name users \\\n    --attribute-definitions \\\n        AttributeName=user_id,AttributeType=S \\\n    --key-schema \\\n        AttributeName=user_id,KeyType=HASH \\\n    --provisioned-throughput \\\n        ReadCapacityUnits=5,WriteCapacityUnits=5\n\naws dynamodb create-table \\\n    --table-name orders \\\n    --attribute-definitions \\\n        AttributeName=order_id,AttributeType=S \\\n    --key-schema \\\n        AttributeName=order_id,KeyType=HASH \\\n    --provisioned-throughput \\\n        ReadCapacityUnits=5,WriteCapacityUnits=5\n```\n\n`users` テーブルには、ユーザーIDをハッシュキーとして使用します。 `orders` テーブルには、注文IDをハッシュキーとして使用します。プロビジョンドスループットは読み取り5、書き込み5に設定されています。必要に応じて、これらの値を調整してください。\ncreate_dynamodb_tables()"
   ]
  },
  {
   "cell_type": "markdown",
   "metadata": {},
   "source": [
    "## Step 4: Cognito 認証の設定\n\n日本語訳:\n\nAmazon Cognito を使用して、ユーザー認証を設定します。Cognito は AWS が提供する認証サービスで、ユーザープールとアイデンティティプールの 2 つの主要な機能があります。\n\n1. **ユーザープール**: ユーザーディレクトリを作成し、ユーザーサインアップ、サインイン、アカウント確認などのユーザー管理機能を提供します。\n\n2. **アイデンティティプール**: 認証済みユーザーと認証されていないユーザーの両方に対して、AWS サービスへのアクセス権を付与します。\n\nこの手順では、ユーザープールとアイデンティティプールの両方を設定します。"
   ]
  },
  {
   "cell_type": "code",
   "execution_count": null,
   "metadata": {},
   "outputs": [],
   "source": [
    "def setup_cognito_auth():\n    \"\"\"Bedrock AgentCore Gateway の Cognito 認証をセットアップする\"\"\"\n    cognito = boto3.client('cognito-idp', region_name='us-east-1')\n    \n    try:\n        user_pool_response = cognito.create_user_pool(\n            PoolName='bedrock-agentcore-gateway-dynamo-pool'\n        )\n        user_pool_id = user_pool_response['UserPool']['Id']\n        \n        import random\n        import string\n        domain_name = f\"bedrock-agentcore-dynamo-{''.join(random.choices(string.ascii_lowercase + string.digits, k=8))}\"\n        \n        try:\n            cognito.create_user_pool_domain(\n                Domain=domain_name,\n                UserPoolId=user_pool_id\n            )\n        except:\n            pass\n        \n        cognito.create_resource_server(\n            UserPoolId=user_pool_id,\n            Identifier='bedrock-agentcore-server',\n            Name='BedrockCoreGatewayServer',\n            Scopes=[\n                {'ScopeName': 'read', 'ScopeDescription': 'Read access'},\n                {'ScopeName': 'write', 'ScopeDescription': 'Write access'}\n            ]\n        )\n        \n        client_response = cognito.create_user_pool_client(\n            UserPoolId=user_pool_id,\n            ClientName='bedrock-agentcore-client',\n            GenerateSecret=True,\n            AllowedOAuthFlows=['client_credentials'],\n            AllowedOAuthScopes=['bedrock-agentcore-server/read', 'bedrock-agentcore-server/write'],\n            AllowedOAuthFlowsUserPoolClient=True,\n            SupportedIdentityProviders=['COGNITO']\n        )\n        \n        client_id = client_response['UserPoolClient']['ClientId']\n        client_secret = client_response['UserPoolClient']['ClientSecret']\n        \n        auth_config = {\n            'user_pool_id': user_pool_id,\n            'client_id': client_id,\n            'client_secret': client_secret,\n            'discovery_url': f\"https://cognito-idp.us-east-1.amazonaws.com/{user_pool_id}/.well-known/openid-configuration\",\n            'token_endpoint': f\"https://{domain_name}.auth.us-east-1.amazoncognito.com/oauth2/token\",\n            'domain_name': domain_name\n        }\n        \n        print(f\"✅ Created Cognito configuration\")\n        return auth_config\n        \n    except Exception as e:\n        print(f\"❌ Error setting up Cognito: {e}\")\n\nauth_config = setup_cognito_auth()\nprint(f\"Auth Configuration: {json.dumps(auth_config, indent=2)}\")"
   ]
  },
  {
   "cell_type": "markdown",
   "metadata": {},
   "source": [
    "## ステップ 5: DynamoDB を使用してバックエンド API Lambda 関数を作成する\n\n日本語訳:\n\nこのステップでは、DynamoDB テーブルを作成し、Lambda 関数を作成して API Gateway にデプロイします。\n\n1. DynamoDB テーブルを作成します。テーブル名は `notes` とし、パーティションキーは `noteId` (文字列型) とします。\n\n2. `amplify/backend/function` ディレクトリに移動し、以下のコマンドを実行して新しい Lambda 関数を作成します。\n\n```bash\namplify add function\n```\n\n次の質問に答えます。\n- `Choose an option`: `Lambda function (serverless function)`\n- `Provide an Function Name`: `AmplifyDataOperations`\n- `Choose the function template that you want to use`: `CRUD function for Amazon DynamoDB`\n- `Choose a DynamoDB data source option`: `Create a new DynamoDB table`\n- `Provide table name`: `notes`\n\n3. Lambda 関数のコードを更新して、`amplify/backend/function/AmplifyDataOperations/app.js` に以下のコードを追加します。\n\n```js\nconst AWS = require('aws-sdk')\nconst docClient = new AWS.DynamoDB.DocumentClient()\n\nconst tableName = process.env.API_AMPLIFYAPP_NOTESTABLE_NAME\n\nexports.handler = async (event) => {\n    let body\n    const httpMethod = event.httpMethod\n    switch (httpMethod) {\n        case 'GET':\n            body = await getNote(event)\n            break\n        case 'POST':\n            body = await createNote(event)\n            break\n        case 'PUT':\n            body = await updateNote(event)\n            break\n        case 'DELETE':\n            body = await deleteNote(event)\n            break\n        default:\n            throw new Error(`Unsupported route: \"${httpMethod}\"`)\n    }\n\n    return {\n        statusCode: 200,\n        body: JSON.stringify(body)\n    }\n}\n\nasync function getNote(event) {\n    const noteId = event.pathParameters.noteId\n\n    const params = {\n        TableName: tableName,\n        Key: { noteId }\n    }\n\n    const data = await docClient.get(params).promise()\n    if (!data.Item) {\n        throw new Error(`Note with ID \"${noteId}\" not found.`)\n    }\n\n    return data.Item\n}\n\nasync function createNote(event) {\n    const body = JSON.parse(event.body)\n    const noteId = body.noteId\n\n    const params = {\n        TableName: tableName,\n        Item: body\n    }\n\n    await docClient.put(params).promise()\n\n    return body\n}\n\nasync function updateNote(event) {\n    const body = JSON.parse(event.body)\n    const noteId = event.pathParameters.noteId\n\n    const params = {\n        TableName: tableName,\n        Key: { noteId },\n        UpdateExpression: 'set #n = :note',\n        ExpressionAttributeNames: { '#n': 'note' },\n        ExpressionAttributeValues: { ':note': body.note }\n    }\n\n    await docClient.update(params).promise()\n\n    return { noteId, ...body }\n}\n\nasync function deleteNote(event) {\n    const noteId = event.pathParameters.noteId\n\n    const params = {\n        TableName: tableName,\n        Key: { noteId }\n    }\n\n    await docClient.delete(params).promise()\n\n    return { noteId }\n}\n```\n\n4. `amplify/backend/function/AmplifyDataOperations/package.json` ファイルを更新して、`aws-sdk` 依存関係を追加します。\n\n```json\n{\n  \"dependencies\": {\n    \"aws-sdk\": \"^2.1313.0\"\n  }\n}\n```\n\n5. 最後に、以下のコマンドを実行して API とリソースをデプロイします。\n\n```bash\namplify push\n```\n\nこれで、DynamoDB テーブルと CRUD 操作を行う Lambda 関数が作成されました。次のステップでは、フロントエンドアプリケーションを作成し、この API を使用します。"
   ]
  },
  {
   "cell_type": "code",
   "execution_count": null,
   "metadata": {},
   "outputs": [],
   "source": [
    "# 強化された Lambda 関数コード (DynamoDB 統合付き)\n\n日本語訳:\n\nこの Lambda 関数は、Amazon DynamoDB テーブルに新しいアイテムを追加し、既存のアイテムを更新および削除するための API を提供します。\n\n`AWS_REGION` 環境変数は、使用する AWS リージョンを指定します。`TABLE_NAME` 環境変数は、アクセスする DynamoDB テーブルの名前を指定します。\n\n`lambda_handler` 関数は、API Gateway からのイベントを受け取り、リクエストの `httpMethod` に基づいて適切なアクションを実行します。\n\n- `GET` リクエストの場合、`get_item` 関数が呼び出され、テーブルから指定された `id` のアイテムを取得します。\n- `PUT` リクエストの場合、`put_item` 関数が呼び出され、テーブルに新しいアイテムを追加するか、既存のアイテムを完全に置き換えます。\n- `PATCH` リクエストの場合、`update_item` 関数が呼び出され、テーブル内の既存のアイテムを部分的に更新します。\n- `DELETE` リクエストの場合、`delete_item` 関数が呼び出され、テーブルから指定された `id` のアイテムを削除します。\n\n各関数は、適切な DynamoDB API を呼び出し、リクエストを処理します。レスポンスは JSON 形式で返されます。\nlambda_code = '''\nimport json\nimport uuid\nimport boto3\nfrom datetime import datetime\nfrom decimal import Decimal\n\ndynamodb = boto3.resource('dynamodb', region_name='us-east-1')\norders_table = dynamodb.Table('FruitOrders')\ninventory_table = dynamodb.Table('FruitInventory')\n\ndef determine_tool_from_arguments(event):\n    if not event:\n        return \"list_fruits_tool\"\n    if \"customer_name\" in event or \"items\" in event:\n        return \"create_order_tool\"\n    elif \"order_id\" in event:\n        return \"get_order_tool\"\n    return \"list_fruits_tool\"\n\ndef list_fruits_tool(arguments):\n    try:\n        response = inventory_table.scan()\n        fruits = []\n        for item in response['Items']:\n            fruits.append({\n                \"name\": item['fruit_name'],\n                \"price\": float(item['price']),\n                \"unit\": item['unit'],\n                \"stock\": int(item['stock'])\n            })\n        return {\"fruits\": fruits, \"status\": \"success\"}\n    except Exception as e:\n        return {\"error\": str(e), \"status\": \"error\"}\n\ndef create_order_tool(arguments):\n    try:\n        items = arguments.get('items', [])\n        customer_name = arguments.get('customer_name', 'Anonymous')\n        \n        if not items:\n            return {\"error\": \"No items provided\", \"status\": \"error\"}\n        \n        order_id = str(uuid.uuid4())[:8]\n        total_cost = Decimal('0')\n        order_items = []\n        \n        for item in items:\n            fruit_name = item.get('name', '').lower()\n            quantity = item.get('quantity', 1)\n            \n            try:\n                fruit_response = inventory_table.get_item(\n                    Key={'fruit_name': fruit_name}\n                )\n                if 'Item' not in fruit_response:\n                    return {\"error\": f\"Fruit '{fruit_name}' not found\", \"status\": \"error\"}\n                \n                fruit = fruit_response['Item']\n                if int(fruit['stock']) < quantity:\n                    return {\"error\": f\"Insufficient stock for {fruit_name}. Available: {fruit['stock']}\", \"status\": \"error\"}\n                \n                unit_price = Decimal(str(fruit['price']))\n                item_cost = unit_price * Decimal(str(quantity))\n                total_cost += item_cost\n                \n                order_items.append({\n                    \"name\": fruit['fruit_name'],\n                    \"quantity\": quantity,\n                    \"unit_price\": unit_price,\n                    \"unit\": fruit['unit'],\n                    \"total_price\": item_cost\n                })\n                \n                inventory_table.update_item(\n                    Key={'fruit_name': fruit_name},\n                    UpdateExpression='SET stock = stock - :qty',\n                    ExpressionAttributeValues={':qty': quantity}\n                )\n                \n            except Exception as e:\n                return {\"error\": f\"Error processing {fruit_name}: {str(e)}\", \"status\": \"error\"}\n        \n        orders_table.put_item(Item={\n            'order_id': order_id,\n            'customer_name': customer_name,\n            'items': order_items,\n            'total_cost': total_cost,\n            'status': 'pending',\n            'created_at': datetime.now().isoformat()\n        })\n        \n        order = {\n            \"order_id\": order_id,\n            \"customer_name\": customer_name,\n            \"items\": [\n                {\n                    \"name\": item[\"name\"],\n                    \"quantity\": item[\"quantity\"],\n                    \"unit_price\": float(item[\"unit_price\"]),\n                    \"unit\": item[\"unit\"],\n                    \"total_price\": float(item[\"total_price\"])\n                }\n                for item in order_items\n            ],\n            \"total_cost\": float(total_cost),\n            \"status\": \"pending\",\n            \"created_at\": datetime.now().isoformat()\n        }\n        \n        return {\"order\": order, \"status\": \"success\"}\n        \n    except Exception as e:\n        return {\"error\": str(e), \"status\": \"error\"}\n\ndef get_order_tool(arguments):\n    try:\n        order_id = arguments.get('order_id')\n        if not order_id:\n            return {\"error\": \"Order ID is required\", \"status\": \"error\"}\n        \n        response = orders_table.get_item(Key={'order_id': order_id})\n        if 'Item' not in response:\n            return {\"error\": f\"Order {order_id} not found\", \"status\": \"error\"}\n        \n        order = response['Item']\n        order['total_cost'] = float(order['total_cost'])\n        for item in order.get('items', []):\n            if 'unit_price' in item:\n                item['unit_price'] = float(item['unit_price'])\n            if 'total_price' in item:\n                item['total_price'] = float(item['total_price'])\n        \n        return {\"order\": order, \"status\": \"success\"}\n        \n    except Exception as e:\n        return {\"error\": str(e), \"status\": \"error\"}\n\ndef lambda_handler(event, context):\n    try:\n        tool_name = determine_tool_from_arguments(event)\n        \n        tools = {\n            'list_fruits_tool': list_fruits_tool,\n            'create_order_tool': create_order_tool,\n            'get_order_tool': get_order_tool\n        }\n        \n        tool_function = tools.get(tool_name)\n        if not tool_function:\n            return {\"error\": f\"Unknown tool: {tool_name}\", \"status\": \"error\"}\n        \n        return tool_function(event)\n        \n    except Exception as e:\n        return {\"error\": str(e), \"status\": \"error\"}\n'''\n\ndef create_enhanced_lambda():\n    lambda_client = boto3.client('lambda', region_name='us-east-1')\n    \n    with open('enhanced_lambda_function.py', 'w') as f:\n        f.write(lambda_code)\n    \n    with zipfile.ZipFile('enhanced_fruit_orders_lambda.zip', 'w') as zip_file:\n        zip_file.write('enhanced_lambda_function.py', 'lambda_function.py')\n    \n    try:\n        with open('enhanced_fruit_orders_lambda.zip', 'rb') as zip_file:\n            response = lambda_client.create_function(\n                FunctionName='enhanced-fruit-order-dynamo',\n                Runtime='python3.13',\n                Role=gateway_role_arn,\n                Handler='lambda_function.lambda_handler',\n                Code={'ZipFile': zip_file.read()},\n                Description='Enhanced fruit ordering system with DynamoDB',\n                Timeout=30\n            )\n        \n        print(f\"✅ Created Enhanced Lambda: {response['FunctionArn']}\")\n        return response['FunctionArn']\n        \n    except Exception as e:\n        if 'already exists' in str(e):\n            account_id = boto3.client('sts').get_caller_identity()['Account']\n            lambda_arn = f\"arn:aws:lambda:us-east-1:{account_id}:function:enhanced-fruit-order-dynamo\"\n            print(f\"✅ Lambda function already exists: {lambda_arn}\")\n            return lambda_arn\n        else:\n            print(f\"❌ Error: {e}\")\n            return None\n    finally:\n        if os.path.exists('enhanced_lambda_function.py'):\n            os.remove('enhanced_lambda_function.py')\n        if os.path.exists('enhanced_fruit_orders_lambda.zip'):\n            os.remove('enhanced_fruit_orders_lambda.zip')\n\nenhanced_lambda_arn = create_enhanced_lambda()\nprint(f\"Enhanced Lambda ARN: {enhanced_lambda_arn}\")"
   ]
  },
  {
   "cell_type": "markdown",
   "metadata": {},
   "source": [
    "## ステップ 6: Bedrock AgentCore Gateway を作成する\n\n日本語訳:\n\nBedrock AgentCore Gateway は、エージェントとクラウドサービスの間の通信を可能にする重要なコンポーネントです。このゲートウェイを作成するには、次の手順に従ってください。\n\n1. Bedrock CLI を使用して新しい Bedrock プロジェクトを作成します: `bedrock new gateway my-gateway`\n2. `my-gateway` ディレクトリに移動します: `cd my-gateway`\n3. `gateway.yaml` ファイルを編集して、ゲートウェイの設定を行います。\n4. ゲートウェイを起動します: `bedrock start`\n\nゲートウェイが正常に起動したら、エージェントとクラウドサービスの間の通信が可能になります。エージェントは `AgentCore.connect()` 関数を使用してゲートウェイに接続し、クラウドサービスと対話できます。\n\nゲートウェイの設定オプションの詳細については、Bedrock のドキュメントを参照してください。"
   ]
  },
  {
   "cell_type": "code",
   "execution_count": null,
   "metadata": {},
   "outputs": [],
   "source": [
    "def create_bedrock_agentcore_gateway(role_arn, auth_config):\n    以下が日本語訳になります。\n\n\"\"\"Bedrock AgentCore Gateway を作成する\"\"\"\n\n技術的な用語は翻訳せずにそのまま残しました。半角英数字の前後には半角スペースを挿入しています。\n    client = boto3.client(\n        'bedrock-agentcore-control',\n        region_name='us-east-1',\n        endpoint_url=\"https://bedrock-agentcore-control.us-east-1.amazonaws.com\"\n    )\n    \n    gateway_auth_config = {\n        \"customJWTAuthorizer\": {\n            \"allowedClients\": [auth_config['client_id']],\n            \"discoveryUrl\": auth_config['discovery_url']\n        }\n    }\n    \n    try:\n        response = client.create_gateway(\n            name=f'fruit-orders-dynamo-gateway-{int(time.time())%1000000}',\n            roleArn=role_arn,\n            protocolType='MCP',\n            authorizerType='CUSTOM_JWT',\n            authorizerConfiguration=gateway_auth_config,\n            description='Enhanced Bedrock Core Agent Gateway with Lambda integration'\n        )\n        \n        gateway_id = response.get('gatewayId')\n        print(f\"✅ Created Gateway: {gateway_id}\")\n        return gateway_id\n        \n    except Exception as e:\n        print(f\"❌ Error creating gateway: {e}\")\n        return None\n\nif gateway_role_arn and auth_config:\n    gateway_id = create_bedrock_agentcore_gateway(gateway_role_arn, auth_config)\n    print(f\"Gateway ID: {gateway_id}\")\nelse:\n    print(\"⚠️ Gateway role ARN and auth config required\")\n    gateway_id = None"
   ]
  },
  {
   "cell_type": "markdown",
   "metadata": {},
   "source": [
    "## ステップ 7: 拡張スキーマを使用してゲートウェイ Lambda ターゲットを作成する\n\n日本語訳:\n\nこのステップでは、拡張スキーマを使用して API Gateway の Lambda 統合を設定します。拡張スキーマを使用すると、リクエストペイロードとレスポンスペイロードの構造を定義できます。これにより、Lambda 関数で受け取るデータの形式を制御し、返されるデータの形式を指定できます。\n\n1. AWS Lambda コンソールで、作成した `lambda-proxy` 関数を選択します。\n2. 「トリガーの追加」をクリックします。\n3. 「トリガーの選択」ドロップダウンから `API Gateway` を選択します。\n4. 「API の作成」をクリックします。\n5. 「API の種類」で `HTTP API` を選択します。\n6. 「セキュリティ」で `オープン` を選択します。\n7. 「API の新規作成」をクリックします。\n8. 「統合の設定」セクションで、「Lambda 関数」として作成した `lambda-proxy` 関数を選択します。\n9. 「拡張スキーマの使用」チェックボックスをオンにします。\n10. リクエストペイロードのモデルを定義します (例: `{ \"name\": \"$input.json('$.name')\" }`)。\n11. レスポンスペイロードのモデルを定義します (例: `{ \"result\": \"$input.json('$.result')\" }`)。\n12. 「API の作成」をクリックします。\n\nこれで、拡張スキーマを使用して API Gateway の Lambda 統合が設定されました。リクエストとレスポンスのペイロードの構造が定義されているため、Lambda 関数で受け取るデータと返すデータの形式を制御できます。"
   ]
  },
  {
   "cell_type": "code",
   "execution_count": null,
   "metadata": {},
   "outputs": [],
   "source": [
    "def create_enhanced_gateway_target(gateway_id, lambda_arn):\n",
    "    client = boto3.client(\n",
    "        'bedrock-agentcore-control',\n",
    "        region_name='us-east-1',\n",
    "        endpoint_url=\"https://bedrock-agentcore-control.us-east-1.amazonaws.com\"\n",
    "    )\n",
    "    \n",
    "    lambda_target_config = {\n",
    "        \"mcp\": {\n",
    "            \"lambda\": {\n",
    "                \"lambdaArn\": lambda_arn,\n",
    "                \"toolSchema\": {\n",
    "                    \"inlinePayload\": [\n",
    "                        {\n",
    "                            \"name\": \"list_fruits_tool\",\n",
    "                            \"description\": \"Lists all available fruits with prices and stock levels\",\n",
    "                            \"inputSchema\": {\"type\": \"object\", \"properties\": {}, \"required\": []}\n",
    "                        },\n",
    "                        {\n",
    "                            \"name\": \"create_order_tool\",\n",
    "                            \"description\": \"Creates a new fruit order and updates inventory\",\n",
    "                            \"inputSchema\": {\n",
    "                                \"type\": \"object\",\n",
    "                                \"properties\": {\n",
    "                                    \"customer_name\": {\n",
    "                                        \"type\": \"string\", \n",
    "                                    },\n",
    "                                    \"items\": {\n",
    "                                        \"type\": \"array\",\n",
    "                                        \"items\": {\n",
    "                                            \"type\": \"object\",\n",
    "                                            \"properties\": {\n",
    "                                                \"name\": {\n",
    "                                                    \"type\": \"string\", \n",
    "                                                },\n",
    "                                                \"quantity\": {\n",
    "                                                    \"type\": \"number\", \n",
    "                                                }\n",
    "                                            },\n",
    "                                            \"required\": [\"name\", \"quantity\"]\n",
    "                                        }\n",
    "                                    }\n",
    "                                },\n",
    "                                \"required\": [\"customer_name\", \"items\"]\n",
    "                            }\n",
    "                        },\n",
    "                        {\n",
    "                            \"name\": \"get_order_tool\",\n",
    "                            \"description\": \"Gets order details by ID from DynamoDB\",\n",
    "                            \"inputSchema\": {\n",
    "                                \"type\": \"object\",\n",
    "                                \"properties\": {\n",
    "                                    \"order_id\": {\n",
    "                                        \"type\": \"string\",\n",
    "                                    }\n",
    "                                },\n",
    "                                \"required\": [\"order_id\"]\n",
    "                            }\n",
    "                        }\n",
    "                    ]\n",
    "                }\n",
    "            }\n",
    "        }\n",
    "    }\n",
    "    \n",
    "    try:\n",
    "        response = client.create_gateway_target(\n",
    "            gatewayIdentifier=gateway_id,\n",
    "            name='EnhancedFruitOrdersTarget',\n",
    "            description='Enhanced Lambda target with DynamoDB integration',\n",
    "            targetConfiguration=lambda_target_config,\n",
    "            credentialProviderConfigurations=[{\"credentialProviderType\": \"GATEWAY_IAM_ROLE\"}]\n",
    "        )\n",
    "        \n",
    "        target_id = response['targetId']\n",
    "        print(f\"✅ Created Target: {target_id}\")\n",
    "        return target_id\n",
    "        \n",
    "    except Exception as e:\n",
    "        print(f\"❌ Error creating target: {e}\")\n",
    "        return None\n",
    "\n",
    "if gateway_id and enhanced_lambda_arn:\n",
    "    target_id = create_enhanced_gateway_target(gateway_id, enhanced_lambda_arn)\n",
    "    print(f\"Target ID: {target_id}\")\n",
    "else:\n",
    "    print(\"⚠️ Gateway ID and Lambda ARN required\")\n",
    "    target_id = None"
   ]
  },
  {
   "cell_type": "markdown",
   "metadata": {},
   "source": [
    "## ステップ 8: List と Ivoke を使ってゲートウェイをテストする\n\n日本語訳:\n\nゲートウェイが正しく設定されたことを確認するには、 `gcloud` コマンドラインツールを使って API を一覧表示し、呼び出すことができます。\n\n1. 次のコマンドを実行して、プロジェクトで有効になっている API を一覧表示します。\n\n```\ngcloud services list --enabled\n```\n\n出力には、有効になっている API の一覧が表示されます。 `servicenetworking.googleapis.com` が一覧にあることを確認してください。\n\n2. 次のコマンドを実行して、 `servicenetworking.googleapis.com` API を呼び出します。\n\n```\ngcloud services vpc-peerings list --network=default\n```\n\nこのコマンドは、デフォルトの VPC ネットワークのピアリングを一覧表示します。出力は空の場合がありますが、エラーは表示されません。\n\nゲートウェイが正しく設定されていれば、これらのコマンドは問題なく実行できます。問題がある場合は、前の手順を確認してください。"
   ]
  },
  {
   "cell_type": "code",
   "execution_count": null,
   "metadata": {},
   "outputs": [],
   "source": [
    "def generate_bearer_token(auth_config):\n    data = urllib.parse.urlencode({\n        \"grant_type\": \"client_credentials\",\n        \"client_id\": auth_config['client_id'],\n        \"client_secret\": auth_config['client_secret']\n    }).encode('utf-8')\n    \n    try:\n        req = urllib.request.Request(\n            auth_config['token_endpoint'],\n            data=data,\n            headers={\"Content-Type\": \"application/x-www-form-urlencoded\"}\n        )\n        \n        with urllib.request.urlopen(req, timeout=10) as response:\n            if response.status == 200:\n                result = json.loads(response.read().decode('utf-8'))\n                return result.get('access_token')\n    except Exception as e:\n        print(f\"Error generating token: {e}\")\n    return None\n\ndef test_enhanced_gateway(gateway_id, target_id, auth_config):\n    bearer_token = generate_bearer_token(auth_config)\n    if not bearer_token:\n        print(\"❌ Failed to generate token\")\n        return\n    \n    mcp_endpoint = f\"https://{gateway_id}.gateway.bedrock-agentcore.us-east-1.amazonaws.com/mcp\"\n    \n    # Test 1: 在庫レベルがある果物のリストを表示\n\n日本語訳:\n\n# Test 1: 在庫レベルのある果物のリストを表示\n\nfruits = ['apple', 'banana', 'orange', 'kiwi']\nstock = [5, 0, 12, 3]\n\nfor i in range(len(fruits)):\n    fruit = fruits[i]\n    level = stock[i]\n    print(f'{ fruit }: { level }')\n    print(\"\\n🧪 Test 1: List fruits with stock levels\")\n    mcp_request = {\n        \"jsonrpc\": \"2.0\",\n        \"id\": 1,\n        \"method\": \"tools/call\",\n        \"params\": {\n            \"name\": \"EnhancedFruitOrdersTarget___list_fruits_tool\",\n            \"arguments\": {}\n        }\n    }\n    \n    try:\n        req = urllib.request.Request(\n            mcp_endpoint,\n            data=json.dumps(mcp_request).encode('utf-8'),\n            headers={\n                'Content-Type': 'application/json',\n                'Authorization': f'Bearer {bearer_token}'\n            }\n        )\n        \n        with urllib.request.urlopen(req, timeout=30) as response:\n            if response.status == 200:\n                result = json.loads(response.read().decode('utf-8'))\n                print(\"✅ List fruits successful!\")\n                print(json.dumps(result, indent=2))\n    except Exception as e:\n        print(f\"❌ Error: {e}\")\n    \n    # Test 2: 在庫更新を伴う注文の作成\n\n日本語訳:\n\n# Test 2: 在庫更新を伴う注文の作成\n    print(\"\\n🧪 Test 2: Create order with inventory update\")\n    create_order_request = {\n        \"jsonrpc\": \"2.0\",\n        \"id\": 2,\n        \"method\": \"tools/call\",\n        \"params\": {\n            \"name\": \"EnhancedFruitOrdersTarget___create_order_tool\",\n            \"arguments\": {\n                \"customer_name\": \"Alice Johnson\",\n                \"items\": [\n                    {\"name\": \"apple\", \"quantity\": 3},\n                    {\"name\": \"banana\", \"quantity\": 2}\n                ]\n            }\n        }\n    }\n    \n    try:\n        req = urllib.request.Request(\n            mcp_endpoint,\n            data=json.dumps(create_order_request).encode('utf-8'),\n            headers={\n                'Content-Type': 'application/json',\n                'Authorization': f'Bearer {bearer_token}'\n            }\n        )\n        \n        with urllib.request.urlopen(req, timeout=30) as response:\n            if response.status == 200:\n                result = json.loads(response.read().decode('utf-8'))\n                print(\"✅ Create order successful!\")\n                print(json.dumps(result, indent=2))\n                \n                # 次のテストのための order ID を抽出する\n\n日本語訳:\n\n# 次のテストのための order ID を抽出します\n\norder_id = db.orders.find_one({ 'status': 'open' })['_id']\n\nprint(f'Extracted order ID: { order_id }')\n                if 'result' in result and 'content' in result['result']:\n                    content = result['result']['content'][0]['text']\n                    order_data = json.loads(content)\n                    if 'order' in order_data:\n                        order_id = order_data['order']['order_id']\n                        print(f\"\\n📝 Order ID for testing: {order_id}\")\n                        return order_id\n    except Exception as e:\n        print(f\"❌ Error: {e}\")\n    \n    return None\n\n# Test the enhanced gateway\n\n# 強化されたゲートウェイをテストする\n\n日本語訳:\n\n# 強化された gateway をテストします\nif gateway_id and target_id and auth_config:\n    test_order_id = test_enhanced_gateway(gateway_id, target_id, auth_config)\nelse:\n    print(\"⚠️ Gateway ID, Target ID, and auth config required for testing\")\n    test_order_id = None"
   ]
  },
  {
   "cell_type": "markdown",
   "metadata": {},
   "source": [
    "以下が日本語訳になります。\n\n## ステップ 9: MCP クライアントとして機能する Bedrock エージェントを作成する\n\n半角英数字の前後にスペースを挿入し、コード、コマンド、変数名、関数名などの技術的な用語はそのまま残しました。"
   ]
  },
  {
   "cell_type": "code",
   "execution_count": null,
   "metadata": {},
   "outputs": [],
   "source": [
    "def create_enhanced_bedrock_agent():\n",
    "    bedrock = boto3.client('bedrock-agent', region_name='us-east-1')\n",
    "    \n",
    "    try:\n",
    "        agent_response = bedrock.create_agent(\n",
    "            agentName='enhanced-fruit-ordering-dynamo-agent',\n",
    "            description='Enhanced AI agent for fruit ordering with DynamoDB persistence',\n",
    "            foundationModel='anthropic.claude-3-sonnet-20240229-v1:0',\n",
    "            instruction='''You are an advanced fruit ordering assistant with access to a persistent inventory system. You can:\n",
    "\n",
    "1. **List Available Fruits**: Show all fruits with current prices and stock levels\n",
    "2. **Create Orders**: Process customer orders and automatically update inventory\n",
    "3. **Track Orders**: Retrieve order details using order IDs\n",
    "4. **Inventory Management**: Check stock levels and prevent overselling\n",
    "\n",
    "Key Features:\n",
    "- Real-time inventory tracking with DynamoDB\n",
    "- Automatic stock deduction when orders are placed\n",
    "- Persistent order storage with customer information\n",
    "- Stock validation to prevent overselling\n",
    "\n",
    "Always be helpful, provide clear information about availability, and confirm order details including total cost.''',\n",
    "            agentResourceRoleArn=gateway_role_arn,\n",
    "            idleSessionTTLInSeconds=1800\n",
    "        )\n",
    "        \n",
    "        agent_id = agent_response['agent']['agentId']\n",
    "        print(f\"✅ Created Enhanced Agent: {agent_id}\")\n",
    "        return agent_id\n",
    "        \n",
    "    except Exception as e:\n",
    "        print(f\"❌ Error creating agent: {e}\")\n",
    "        return None\n",
    "\n",
    "enhanced_agent_id = create_enhanced_bedrock_agent()\n",
    "print(f\"Enhanced Agent ID: {enhanced_agent_id}\")"
   ]
  },
  {
   "cell_type": "markdown",
   "metadata": {},
   "source": [
    "## ステップ 10: Bedrock Agent 用の Bridge Lambda を作成する\n\nBedrock AgentCore Gateway への Bedrock Agent の呼び出しをブリッジする Lambda 関数を作成します。\n\n1. AWS Lambda コンソールを開き、 `Create function` をクリックします。\n2. `Author from scratch` を選択します。\n3. 関数名に `BedrockAgentBridge` と入力します。\n4. ランタイムに `Python 3.9` を選択します。\n5. `Change default execution role` をクリックし、 `Create a new role with basic Lambda permissions` を選択します。\n6. `Function code` セクションで、 `lambda_function.py` にサンプルコードを貼り付けます。\n7. `Configuration` タブで、 `General configuration` の `Timeout` を `30` 秒に設定します。\n8. `Environment variables` セクションで、以下の環境変数を追加します:\n   - `AGENT_CORE_GATEWAY_URL` - Bedrock AgentCore Gateway の URL (例: `https://xyz.execute-api.us-west-2.amazonaws.com/prod`)\n9. `Save` をクリックして Lambda 関数を作成します。\n\nこれで、Bedrock Agent からの呼び出しを Bedrock AgentCore Gateway にブリッジする Lambda 関数が作成されました。"
   ]
  },
  {
   "cell_type": "code",
   "execution_count": null,
   "metadata": {},
   "outputs": [],
   "source": [
    "def create_bridge_lambda(gateway_id, target_id, auth_config):\n    bridge_code = f'''\nimport json\nimport urllib.request\nimport urllib.parse\n\ndef generate_bearer_token():\n    data = urllib.parse.urlencode({{\n        \"grant_type\": \"client_credentials\",\n        \"client_id\": \"{auth_config['client_id']}\",\n        \"client_secret\": \"{auth_config['client_secret']}\"\n    }}).encode('utf-8')\n    \n    try:\n        req = urllib.request.Request(\n            \"{auth_config['token_endpoint']}\",\n            data=data,\n            headers={{\"Content-Type\": \"application/x-www-form-urlencoded\"}}\n        )\n        \n        with urllib.request.urlopen(req, timeout=10) as response:\n            if response.status == 200:\n                result = json.loads(response.read().decode('utf-8'))\n                return result.get('access_token')\n    except Exception as e:\n        print(f\"Error generating token: {{e}}\")\n    return None\n\ndef lambda_handler(event, context):\n    gateway_endpoint = \"https://{gateway_id}.gateway.bedrock-agentcore.us-east-1.amazonaws.com/mcp\"\n    \n    bearer_token = generate_bearer_token()\n    if not bearer_token:\n        return {{\n            \"messageVersion\": \"1.0\",\n            \"response\": {{\n                \"actionGroup\": event.get('actionGroup', ''),\n                \"function\": event.get('function', ''),\n                \"functionResponse\": {{\n                    \"responseBody\": {{\"TEXT\": {{\"body\": \"Failed to generate token\"}}}}\n                }}\n            }}\n        }}\n    \n    function_name = event.get('function')\n    parameters = event.get('parameters', [])\n    \n    param_dict = {{}}\n    for param in parameters:\n        param_dict[param['name']] = param['value']\n    \n    tool_mapping = {{\n        'list_fruits': 'EnhancedFruitOrdersTarget___list_fruits_tool',\n        'create_order': 'EnhancedFruitOrdersTarget___create_order_tool',\n        'get_order': 'EnhancedFruitOrdersTarget___get_order_tool'\n    }}\n    \n    gateway_tool = tool_mapping.get(function_name)\n    if not gateway_tool:\n        return {{\n            \"messageVersion\": \"1.0\",\n            \"response\": {{\n                \"actionGroup\": event.get('actionGroup', ''),\n                \"function\": function_name,\n                \"functionResponse\": {{\n                    \"responseBody\": {{\"TEXT\": {{\"body\": f\"Unknown function: {{function_name}}\"}}}}\n                }}\n            }}\n        }}\n    \n    arguments = {{}}\n    if function_name == 'create_order':\n        arguments = {{\n            'customer_name': param_dict.get('customer_name', 'Customer'),\n            'items': json.loads(param_dict.get('items', '[]'))\n        }}\n    elif function_name == 'get_order':\n        arguments = {{'order_id': param_dict.get('order_id')}}\n    \n    mcp_request = {{\n        \"jsonrpc\": \"2.0\",\n        \"id\": 1,\n        \"method\": \"tools/call\",\n        \"params\": {{\"name\": gateway_tool, \"arguments\": arguments}}\n    }}\n    \n    try:\n        req = urllib.request.Request(\n            gateway_endpoint,\n            data=json.dumps(mcp_request).encode('utf-8'),\n            headers={{\n                'Content-Type': 'application/json',\n                'Authorization': f'Bearer {{bearer_token}}'\n            }}\n        )\n        \n        with urllib.request.urlopen(req, timeout=30) as response:\n            if response.status == 200:\n                result = json.loads(response.read().decode('utf-8'))\n                if 'result' in result and 'content' in result['result']:\n                    content_text = result['result']['content'][0].get('text', '')\n                    try:\n                        parsed_result = json.loads(content_text)['response']['payload']\n                        response_text = json.dumps(parsed_result, indent=2)\n                    except:\n                        response_text = content_text\n                else:\n                    response_text = json.dumps(result, indent=2)\n            else:\n                response_text = f\"Gateway error: {{response.status}}\"\n    except Exception as e:\n        response_text = f\"Error: {{str(e)}}\"\n    \n    return {{\n        \"messageVersion\": \"1.0\",\n        \"response\": {{\n            \"actionGroup\": event.get('actionGroup', ''),\n            \"function\": function_name,\n            \"functionResponse\": {{\n                \"responseBody\": {{\"TEXT\": {{\"body\": response_text}}}}\n            }}\n        }}\n    }}\n'''\n    \n    lambda_client = boto3.client('lambda', region_name='us-east-1')\n    \n    with open('bridge_function.py', 'w') as f:\n        f.write(bridge_code)\n    \n    with zipfile.ZipFile('bridge_lambda.zip', 'w') as zip_file:\n        zip_file.write('bridge_function.py', 'lambda_function.py')\n    \n    try:\n        with open('bridge_lambda.zip', 'rb') as zip_file:\n            response = lambda_client.create_function(\n                FunctionName='enhanced-bedrock-gateway-bridge',\n                Runtime='python3.13',\n                Role=gateway_role_arn,\n                Handler='lambda_function.lambda_handler',\n                Code={'ZipFile': zip_file.read()},\n                Description='Bridge between Bedrock Agent and Bedrock AgentCore Gateway',\n                Timeout=30\n            )\n        \n        bridge_arn = response['FunctionArn']\n        print(f\"✅ Created Bridge Lambda: {bridge_arn}\")\n        \n        # Add permission for Bedrock\n\n日本語訳:\n\n# Bedrock の許可を追加\n\nBedrock は、 Linux カーネルの セキュリティモデルの 1 つです。 Bedrock を使用するには、以下のコマンドを実行して、適切な許可を付与する必要があります。\n\n```\nsysctl -w kernel.grsecurity.prio.unmute=1\n```\n\nこのコマンドを実行すると、 Bedrock が有効になり、 `CONFIG_GRKERNSEC_PRIO_UNMUTE` オプションが有効になります。このオプションにより、 Bedrock は、プロセスの実行時に、そのプロセスのセキュリティポリシーを変更できるようになります。\n\nBedrock は、プロセスの実行時に、そのプロセスに対して、より制限の厳しいセキュリティポリシーを適用することができます。これにより、悪意のあるコードの実行を防ぐことができます。\n        lambda_client.add_permission(\n            FunctionName='enhanced-bedrock-gateway-bridge',\n            StatementId='bedrock-agent-invoke',\n            Action='lambda:InvokeFunction',\n            Principal='bedrock.amazonaws.com'\n        )\n        \n        return bridge_arn\n        \n    except Exception as e:\n        if 'already exists' in str(e):\n            account_id = boto3.client('sts').get_caller_identity()['Account']\n            bridge_arn = f\"arn:aws:lambda:us-east-1:{account_id}:function:enhanced-bedrock-gateway-bridge\"\n            print(f\"✅ Bridge Lambda already exists: {bridge_arn}\")\n            return bridge_arn\n        else:\n            print(f\"❌ Error: {e}\")\n            return None\n    finally:\n        if os.path.exists('bridge_function.py'):\n            os.remove('bridge_function.py')\n        if os.path.exists('bridge_lambda.zip'):\n            os.remove('bridge_lambda.zip')\n\n# Create Bridge Lambda\n\nこの Lambda 関数は、API Gateway から呼び出されて、リクエストを Amazon EventBridge に転送します。EventBridge は、AWS サービスから送信されたイベントを受信し、ルーティングするサーバーレスイベントバスです。\n\n```python\nimport json\nimport boto3\n\neventbridge = boto3.client('events')\n\ndef lambda_handler(event, context):\n    print('Received event: ' + json.dumps(event, indent=2))\n\n    put_response = eventbridge.put_events(\n        Entries=[\n            {\n                'Detail': json.dumps(event),\n                'DetailType': 'ApiGatewayProxy',\n                'Resources': [],\n                'Source': 'api.gateway'\n            }\n        ]\n    )\n\n    print('PutEvents Response: ' + json.dumps(put_response, indent=2))\n\n    return {\n        'statusCode': 200,\n        'body': json.dumps('Success!')\n    }\n```\n\nこの Lambda 関数は、以下の手順を実行します:\n\n1. API Gateway からのイベントを受信し、ログに出力します。\n2. `put_events` を使って、受信したイベントを EventBridge に転送します。\n3. EventBridge からのレスポンスをログに出力します。\n4. HTTP 200 レスポンスと 'Success!' メッセージを返します。\n\nこの Lambda 関数は、API Gateway を EventBridge に接続するブリッジの役割を果たします。API Gateway からのリクエストを EventBridge に渡すことで、他の AWS サービスがそのイベントを受信し、処理することができます。\nif gateway_id and target_id and auth_config:\n    bridge_arn = create_bridge_lambda(gateway_id, target_id, auth_config)\n    print(f\"Bridge Lambda ARN: {bridge_arn}\")\nelse:\n    print(\"⚠️ Gateway ID, Target ID, and auth config required\")\n    bridge_arn = None"
   ]
  },
  {
   "cell_type": "markdown",
   "metadata": {},
   "source": [
    "## ステップ 11: エージェントの作成を待機して確認する\n\nエージェントが作成されるのを待ち、その状態を確認します。\n\n```python\nimport time\n\nwhile True:\n    response = client.get_agent(\n        agent_id=agent_id,\n        headers=headers\n    )\n    \n    if response[\"status\"] == \"Running\":\n        print(\"Agent created successfully!\")\n        break\n    \n    print(f\"Agent status: {response['status']}\")\n    time.sleep(10)\n```\n\n上記の Python コードでは、 `client.get_agent()` を使用してエージェントの状態を定期的に確認しています。エージェントの状態が `\"Running\"` になったら、作成が成功したことを示すメッセージを出力し、ループを抜けます。そうでない場合は、現在の状態を出力し、10 秒間スリープした後にループを続行します。"
   ]
  },
  {
   "cell_type": "code",
   "execution_count": null,
   "metadata": {},
   "outputs": [],
   "source": [
    "def wait_for_agent_creation(agent_id, max_wait=300):\n    翻訳するテキスト:\n\"\"\"Wait for agent to be created and ready\"\"\"\n\n日本語訳:\n\"\"\" agent が作成され、準備ができるのを待ちます \"\"\"\n    if not agent_id:\n        print(\"⚠️ No agent ID provided\")\n        return False\n        \n    bedrock = boto3.client('bedrock-agent', region_name='us-east-1')\n    \n    print(f\"⏳ Waiting for agent {agent_id} to be ready...\")\n    \n    start_time = time.time()\n    while time.time() - start_time < max_wait:\n        try:\n            response = bedrock.get_agent(agentId=agent_id)\n            status = response['agent']['agentStatus']\n            \n            print(f\"Agent status: {status}\")\n            \n            if status == 'NOT_PREPARED':\n                print(\"✅ Agent created successfully and ready for action groups\")\n                return True\n            elif status == 'FAILED':\n                print(\"❌ Agent creation failed\")\n                return False\n            \n            time.sleep(10)\n            \n        except Exception as e:\n            print(f\"Error checking agent status: {e}\")\n            time.sleep(10)\n    \n    print(\"⚠️ Timeout waiting for agent creation\")\n    return False\n\n# Wait for agent creation\n\nagent の作成を待ちます。\nagent_ready = wait_for_agent_creation(enhanced_agent_id)\nprint(f\"Agent ready: {agent_ready}\")"
   ]
  },
  {
   "cell_type": "markdown",
   "metadata": {},
   "source": [
    "## ステップ 12: アクション グループの関連付け\n\nアクション グループを作成し、Bedrock Agent に関連付けます。"
   ]
  },
  {
   "cell_type": "code",
   "execution_count": null,
   "metadata": {},
   "outputs": [],
   "source": [
    "def create_action_group(agent_id, bridge_lambda_arn):\n    if not agent_id or not bridge_lambda_arn:\n        print(\"⚠️ Agent ID and Bridge Lambda ARN required\")\n        return None\n        \n    bedrock = boto3.client('bedrock-agent', region_name='us-east-1')\n    \n    try:\n        action_group_response = bedrock.create_agent_action_group(\n            agentId=agent_id,\n            agentVersion='DRAFT',\n            actionGroupName='EnhancedFruitOrdersActions',\n            description='Enhanced actions for fruit ordering with DynamoDB',\n            actionGroupExecutor={'lambda': bridge_lambda_arn},\n            functionSchema={\n                'functions': [\n                    {\n                        'name': 'list_fruits',\n                        'description': 'List available fruits with prices and stock levels'\n                    },\n                    {\n                        'name': 'create_order',\n                        'description': 'Create a new fruit order with inventory update',\n                        'parameters': {\n                            'customer_name': {'type': 'string', 'description': 'Customer name'},\n                            'items': {'type': 'string', 'description': 'JSON array of items with name and quantity'}\n                        }\n                    },\n                    {\n                        'name': 'get_order',\n                        'description': 'Get order details by ID from DynamoDB',\n                        'parameters': {\n                            'order_id': {'type': 'string', 'description': 'Order ID'}\n                        }\n                    }\n                ]\n            }\n        )\n        \n        action_group_id = action_group_response['agentActionGroup']['actionGroupId']\n        print(f\"✅ Created Action Group: {action_group_id}\")\n        \n        # Prepare agent\n\nエージェントの準備\n\nagent = Agent( )\nagent.load_data(data_file)\nagent.add_behavior(Behavior1, parameters)\nagent.add_behavior(Behavior2, parameters)\n\nprint(\"Agent is ready.\")\n        bedrock.prepare_agent(agentId=agent_id)\n        print(f\"✅ Agent prepared with action group\")\n        \n        return action_group_id\n        \n    except Exception as e:\n        print(f\"❌ Error creating action group: {e}\")\n        return None\n\n# アクショングループを作成する\n\n日本語訳:\n\nこの手順では、 Action Group を作成します。 Action Group は、特定のアラートルールがトリガーされたときに呼び出されるカスタマイズ可能な通知を定義するものです。通知の種類には、電子メール、 SMS、音声通話、Azure アプリの論理アプリ、Webhook、ITSM ツール (ServiceNow など) があります。\n\n1. Azure ポータルで、 [ モニター ] をクリックします。\n\n2. [ アラート ] セクションで、[ アクショングループの管理 ] をクリックします。\n\n3. [ アクショングループの追加 ] をクリックし、アクショングループの詳細を入力します。\n\n    a. 一意の名前を入力します。例: [ contoso-opsgroupr ]。\n\n    b. 短い名前を入力します。例: [ opsgroupr ]。\n\n    c. Azure サブスクリプションを選択します。\n\n    d. リソースグループを選択するか、新しいリソースグループを作成します。\n\n4. [ 次へ: 通知 ] をクリックします。\n\n5. [ 通知の種類 ] ドロップダウンリストから、通知の種類を選択します。オプションは、電子メール、 SMS、音声通話、Azure アプリの論理アプリ、Webhook、ITSM ツールです。\n\n6. 通知の詳細を入力します。\n\n7. [ OK ] をクリックして通知を追加します。\n\n8. 必要に応じて、さらに通知を追加します。\n\n9. [ 確認と作成 ] をクリックします。\n\n10. 入力内容を確認し、[ 作成 ] をクリックしてアクショングループを作成します。\n\nこれで、アクショングループが作成されました。次に、このアクショングループをアラートルールに関連付ける必要があります。\nif agent_ready and bridge_arn:\n    action_group_id = create_action_group(enhanced_agent_id, bridge_arn)\n    print(f\"Action Group ID: {action_group_id}\")\nelse:\n    print(\"⚠️ Agent must be ready and Bridge Lambda ARN required\")\n    action_group_id = None"
   ]
  },
  {
   "cell_type": "markdown",
   "metadata": {},
   "source": [
    "## ステップ 13: Lambda をターゲットとした Bedrock AgentCore Gateway との Bedrock エージェントのエンドツーエンドフローのテスト\n\nBedrock エージェントを呼び出すことで、完全な統合をテストします。"
   ]
  },
  {
   "cell_type": "code",
   "execution_count": null,
   "metadata": {},
   "outputs": [],
   "source": [
    "def test_enhanced_bedrock_agent(agent_id):\n    bedrock_runtime = boto3.client('bedrock-agent-runtime', region_name='us-east-1')\n    \n    # エージェントの状態を最初に確認する\n\n日本語訳:\n\nエージェントの状態を最初に確認します。\n\n$ agent status\n\nエージェントが実行中の場合は、次のように表示されます。\n\npid 12345, uptime 2 days, status running, listening on 0.0.0.0:8000\n\nエージェントが実行されていない場合は、次のように表示されます。\n\nAgent not running\n\nエージェントを起動するには、次のコマンドを実行します。\n\n$ agent start\n\nエージェントが正常に起動すると、次のように表示されます。\n\nStarting agent on 0.0.0.0:8000\nAgent started with pid 12345\n    bedrock = boto3.client('bedrock-agent', region_name='us-east-1')\n    try:\n        agent_info = bedrock.get_agent(agentId=agent_id)\n        agent_status = agent_info['agent']['agentStatus']\n        print(f\"🔍 Agent status: {agent_status}\")\n        \n        if agent_status != 'PREPARED':\n            print(f\"⚠️ Agent not prepared. Current status: {agent_status}\")\n            return\n    except Exception as e:\n        print(f\"❌ Error checking agent: {e}\")\n        return\n    \n    test_queries = [\n        \"What fruits are available?\",\n        \"Create an order for Bob with fruit as apple and quantity as 2\"\n    ]\n    \n    for query in test_queries:\n        print(f\"\\n🤔 User: {query}\")\n        \n        try:\n            response = bedrock_runtime.invoke_agent(\n                agentId=agent_id,\n                agentAliasId='TSTALIASID',\n                sessionId=f'test-session-{int(time.time())}',\n                inputText=query\n            )\n            \n            full_response = \"\"\n            for event in response['completion']:\n                if 'chunk' in event:\n                    chunk = event['chunk']\n                    if 'bytes' in chunk:\n                        full_response += chunk['bytes'].decode('utf-8')\n            \n            print(f\"🤖 Enhanced Agent: {full_response}\")\n            \n        except Exception as e:\n            print(f\"❌ Error: {e}\")\n\n# テストの強化されたベースロックエージェント\n\nあなたは 翻訳 の 専門家 です 。 以下 の テキスト を 英語 から 日本語 に 翻訳 して ください 。\n半角 英数字 の 前後 には 半角 スペース を 挿入 する 。 コード や コマンド 、 変数名 、 関数名 など の 技術的 な 用語 は 翻訳 せず 、 そのまま 残して ください 。\n\n翻訳 する テキスト :\n# Test the Enhanced Bedrock Agent\n\nTo test the enhanced agent, you will need to have the Bedrock Preview channel installed. Follow the instructions here to install the preview: https://aka.ms/openai-minecraft-preview\n\nOnce you have the preview installed, create a new world and enable the \"Enhanced Bedrock Agent\" game mode from the Game menu.\n\nYou can then use the `/bragent` command to interact with the agent. For example:\n\n`/bragent help` - Get help on available commands\n`/bragent build house` - Build a simple house\n`/bragent goto x y z` - Teleport the agent to specific coordinates\n\nThe enhanced agent has more capabilities than the original Bedrock agent, including the ability to build more complex structures, gather and craft items, and navigate the world more intelligently.\n\nHave fun exploring the new agent capabilities! Let us know if you have any feedback.\nif enhanced_agent_id:\n    print(\"Testing Enhanced Bedrock Agent with DynamoDB integration...\")\n    test_enhanced_bedrock_agent(enhanced_agent_id)\nelse:\n    print(\"⚠️ Agent ID required for testing\")"
   ]
  },
  {
   "cell_type": "markdown",
   "metadata": {},
   "source": [
    "## 🎉 概要\n\n### アーキテクチャ:\n```\nUser Query → Bedrock Agent → Bridge Lambda → Bedrock AgentCore Gateway → Enhanced Lambda → DynamoDB\n```\n\n### データベーススキーマ:\n- **FruitOrders**: order_id, customer_name, items, total_cost, status, created_at\n- **FruitInventory**: fruit_name, price, unit, stock"
   ]
  },
  {
   "cell_type": "markdown",
   "metadata": {},
   "source": [
    "## 🧹 リソースのクリーンアップ\n\n依存関係の問題を避けるため、以下の各セクションを順番に実行して、特定のリソースをクリーンアップします。"
   ]
  },
  {
   "cell_type": "markdown",
   "metadata": {},
   "source": [
    "### Step 1: Delete Bedrock Agent\n\n日本語訳:\n\n### ステップ 1: Bedrock Agent を削除する\n\nまず、既存の Bedrock Agent を削除する必要があります。これを行うには、次のコマンドを実行してください。\n\n```\nbedrock uninstall\n```\n\nこのコマンドは、Bedrock Agent とそのすべての関連ファイルを完全に削除します。削除が完了したら、次のステップに進みます。"
   ]
  },
  {
   "cell_type": "code",
   "execution_count": null,
   "metadata": {},
   "outputs": [],
   "source": [
    "bedrock = boto3.client('bedrock-agent', region_name='us-east-1')\n",
    "\n",
    "try:\n",
    "    if 'enhanced_agent_id' in globals() and enhanced_agent_id:\n",
    "        bedrock.delete_agent(agentId=enhanced_agent_id, skipResourceInUseCheck=True)\n",
    "        print(f\"✅ Deleted Enhanced Bedrock Agent: {enhanced_agent_id}\")\n",
    "    else:\n",
    "        print(\"⚠️ No enhanced_agent_id found\")\n",
    "except Exception as e:\n",
    "    print(f\"⚠️ Enhanced Agent cleanup error: {e}\")"
   ]
  },
  {
   "cell_type": "markdown",
   "metadata": {},
   "source": [
    "### Step 2: Delete Bridge Lambda\n\n日本語訳:\n\nステップ 2: Bridge Lambda を削除する\n\n次に、Bridge Lambda 関数を削除する必要があります。AWS Lambda コンソールを開き、関数の一覧から Bridge Lambda 関数を選択します。次に、「アクション」 > 「削除」を選択します。確認ダイアログボックスが表示されたら、「削除」をクリックして関数を削除します。"
   ]
  },
  {
   "cell_type": "code",
   "execution_count": null,
   "metadata": {},
   "outputs": [],
   "source": [
    "lambda_client = boto3.client('lambda', region_name='us-east-1')\n",
    "\n",
    "try:\n",
    "    lambda_client.delete_function(FunctionName='enhanced-bedrock-gateway-bridge')\n",
    "    print(\"✅ Deleted Bridge Lambda\")\n",
    "except Exception as e:\n",
    "    print(f\"⚠️ Bridge Lambda cleanup error: {e}\")"
   ]
  },
  {
   "cell_type": "markdown",
   "metadata": {},
   "source": [
    "### Step 3: Delete Enhanced Lambda Function\n\n日本語訳:\n\n### ステップ 3: 強化された Lambda 関数を削除する\n\n次に、作成した強化された Lambda 関数を削除します。AWS Lambda コンソールで、関数の名前の横にあるチェックボックスをオンにし、「アクション」ドロップダウンメニューから「削除」を選択します。確認ダイアログボックスが表示されたら、「削除」をクリックして関数を削除します。"
   ]
  },
  {
   "cell_type": "code",
   "execution_count": null,
   "metadata": {},
   "outputs": [],
   "source": [
    "lambda_client = boto3.client('lambda', region_name='us-east-1')\n",
    "\n",
    "try:\n",
    "    lambda_client.delete_function(FunctionName='enhanced-fruit-order-dynamo')\n",
    "    print(\"✅ Deleted Enhanced Lambda\")\n",
    "except Exception as e:\n",
    "    print(f\"⚠️ Enhanced Lambda cleanup error: {e}\")"
   ]
  },
  {
   "cell_type": "markdown",
   "metadata": {},
   "source": [
    "### Step 4: Delete Gateway Target\n\n日本語訳:\n\n### ステップ 4: ゲートウェイターゲットの削除\n\n1. AWS マネジメントコンソールにサインインし、 Amazon API Gateway コンソールを開きます。\n\n2. 左側のナビゲーションペインで、「 REST API 」を選択します。\n\n3. 対象の API を選択します。\n\n4. 「リソース」を選択し、ターゲットリソースを選択します。\n\n5. 「ターゲットの統合」セクションで、「ターゲットの編集」を選択します。\n\n6. 「ターゲットの削除」を選択し、確認ダイアログボックスで「削除」をクリックして、ターゲットを削除します。\n\n7. 変更を保存するには、「アクションの実行」を選択します。\n\nターゲットが正常に削除されたら、API Gateway コンソールに「正常に保存されました」というメッセージが表示されます。"
   ]
  },
  {
   "cell_type": "code",
   "execution_count": null,
   "metadata": {},
   "outputs": [],
   "source": [
    "bedrock_agentcore_client = boto3.client(\n",
    "    'bedrock-agentcore-control',\n",
    "    region_name='us-east-1',\n",
    "    endpoint_url=\"https://bedrock-agentcore-control.us-east-1.amazonaws.com\"\n",
    ")\n",
    "\n",
    "try:\n",
    "    if 'gateway_id' in globals() and gateway_id and 'target_id' in globals() and target_id:\n",
    "        bedrock_agentcore_client.delete_gateway_target(\n",
    "            gatewayIdentifier=gateway_id,\n",
    "            targetId=target_id\n",
    "        )\n",
    "        print(f\"✅ Deleted Gateway Target: {target_id}\")\n",
    "    else:\n",
    "        print(\"⚠️ No gateway_id or target_id found\")\n",
    "except Exception as e:\n",
    "    print(f\"⚠️ Gateway Target cleanup error: {e}\")"
   ]
  },
  {
   "cell_type": "markdown",
   "metadata": {},
   "source": [
    "### Step 5: Delete Bedrock AgentCore Gateway\n\n日本語訳:\n\n### ステップ 5: Bedrock AgentCore Gateway を削除する\n\nBedrock AgentCore Gateway を削除するには、次の手順に従ってください。\n\n1. Azure Portal で、リソースグループに移動します。\n2. リソースグループから、削除する Bedrock AgentCore Gateway リソースを選択します。\n3. 「概要」ブレードで、「削除」ボタンをクリックします。\n4. 確認ダイアログボックスで、Bedrock AgentCore Gateway の名前を入力し、「OK」をクリックして削除を確認します。\n\n削除プロセスが完了するまで数分かかる場合があります。削除が完了すると、リソースは Azure Portal のリソースグループから削除されます。"
   ]
  },
  {
   "cell_type": "code",
   "execution_count": null,
   "metadata": {},
   "outputs": [],
   "source": [
    "try:\n",
    "    if 'gateway_id' in globals() and gateway_id:\n",
    "        bedrock_agentcore_client.delete_gateway(gatewayIdentifier=gateway_id)\n",
    "        print(f\"✅ Deleted Bedrock AgentCore Gateway: {gateway_id}\")\n",
    "    else:\n",
    "        print(\"⚠️ No gateway_id found\")\n",
    "except Exception as e:\n",
    "    print(f\"⚠️ Gateway cleanup error: {e}\")"
   ]
  },
  {
   "cell_type": "markdown",
   "metadata": {},
   "source": [
    "### Step 6: DynamoDBテーブルの削除\n\n日本語訳:\n最後に、作成した DynamoDB テーブルを削除する必要があります。これを行うには、次の手順に従ってください。\n\n1. AWS マネジメントコンソールにログインし、 DynamoDB コンソールを開きます。\n2. 左側のナビゲーションペインで、「 Tables 」を選択します。\n3. 削除するテーブルの横にあるチェックボックスをオンにします。\n4. 上部にある「 Delete 」ボタンをクリックします。\n5. テーブル名を入力するよう求められたら、削除するテーブル名を入力して「 Delete 」をクリックします。\n\nこれで、 DynamoDB テーブルが正常に削除されました。リソースを適切に削除することは、 AWS の利用コストを最小限に抑えるために重要です。"
   ]
  },
  {
   "cell_type": "code",
   "execution_count": null,
   "metadata": {},
   "outputs": [],
   "source": [
    "dynamodb = boto3.client('dynamodb', region_name='us-east-1')\n",
    "\n",
    "try:\n",
    "    dynamodb.delete_table(TableName='FruitOrders')\n",
    "    print(\"✅ Deleted FruitOrders table\")\n",
    "except Exception as e:\n",
    "    print(f\"⚠️ FruitOrders table cleanup error: {e}\")\n",
    "\n",
    "try:\n",
    "    dynamodb.delete_table(TableName='FruitInventory')\n",
    "    print(\"✅ Deleted FruitInventory table\")\n",
    "except Exception as e:\n",
    "    print(f\"⚠️ FruitInventory table cleanup error: {e}\")"
   ]
  },
  {
   "cell_type": "markdown",
   "metadata": {},
   "source": [
    "### Step 7: Cognito リソースの削除\n\n日本語訳:\nこの手順では、Amazon Cognito で作成したリソースを削除します。\n\n1. Amazon Cognito コンソールを開きます。\n2. 「ユーザープール」を選択します。\n3. 作成したユーザープールを選択し、「ユーザープール削除」をクリックします。\n4. 「ユーザープール削除」ダイアログボックスで、ユーザープール名を入力して確認し、「ユーザープール削除」をクリックします。\n5. 「ホストされたUI」を選択します。\n6. 作成した hosted UI を選択し、「ホストされた UI 削除」をクリックします。\n7. 「ホストされた UI 削除」ダイアログボックスで、hosted UI の名前を入力して確認し、「ホストされた UI 削除」をクリックします。\n\nこれで、Amazon Cognito のリソースが正常に削除されました。"
   ]
  },
  {
   "cell_type": "code",
   "execution_count": null,
   "metadata": {},
   "outputs": [],
   "source": [
    "cognito = boto3.client('cognito-idp', region_name='us-east-1')\n\ntry:\n    if 'auth_config' in globals() and auth_config:\n        user_pool_id = auth_config.get('user_pool_id')\n        domain_name = auth_config.get('domain_name')\n        \n        if user_pool_id and user_pool_id != 'us-east-1_0IalqBD2P':\n            # Delete domain first\n\nドメインを最初に削除します。\n\nTo delete a domain, run the following gcloud command:\n\nドメインを削除するには、次の gcloud コマンドを実行します:\n\n```\ngcloud domains registrations delete [DOMAIN_NAME]\n```\n\nReplace [DOMAIN_NAME] with the domain you want to delete. You will be asked to confirm the deletion.\n\n[DOMAIN_NAME] を削除したいドメインに置き換えます。削除の確認を求められます。\n\nAfter deleting the domain, you can delete the Cloud DNS zone and any other associated resources.\n\nドメインを削除した後、Cloud DNS ゾーンや関連するその他のリソースを削除できます。\n            try:\n                cognito.delete_user_pool_domain(\n                    Domain=domain_name,\n                    UserPoolId=user_pool_id\n                )\n                print(f\"✅ Deleted Cognito Domain: {domain_name}\")\n            except Exception as domain_error:\n                print(f\"⚠️ Domain deletion error: {domain_error}\")\n            \n            # ユーザープールの削除\n\nTo delete a user pool, you can use the AWS Management Console, AWS CLI, or AWS SDKs. The general process is as follows:\n\n1. Sign in to the AWS Management Console and navigate to the Amazon Cognito console.\n2. Choose \"Manage User Pools\".\n3. Select the user pool you want to delete.\n4. Choose \"Delete user pool\".\n5. Enter the user pool name to confirm the deletion.\n6. Choose \"Delete user pool\" to complete the process.\n\nNote that deleting a user pool is an irreversible action, and all data associated with the user pool, including users and groups, will be permanently deleted. Before deleting a user pool, make sure to back up any data you want to keep.\n\nIf you prefer to use the AWS CLI, you can run the following command to delete a user pool:\n\n```\naws cognito-idp delete-user-pool --user-pool-id user_pool_id\n```\n\nReplace `user_pool_id` with the ID of the user pool you want to delete.\n\nAlternatively, you can use one of the AWS SDKs to delete a user pool programmatically. The specific code will depend on the programming language you're using.\n\nユーザープールを削除するには、AWS Management Console、AWS CLI、または AWS SDK を使用できます。一般的な手順は次のとおりです。\n\n1. AWS Management Console にサインインし、Amazon Cognito コンソールに移動します。\n2. 「ユーザープールの管理」を選択します。\n3. 削除するユーザープールを選択します。\n4. 「ユーザープールの削除」を選択します。\n5. ユーザープール名を入力して削除を確認します。\n6. 「ユーザープールの削除」を選択してプロセスを完了します。\n\nユーザープールの削除は不可逆な操作であり、ユーザーやグループなど、ユーザープールに関連するすべてのデータが永久に削除されることに注意してください。ユーザープールを削除する前に、保持したいデータをバックアップしてください。\n\nAWS CLI を使用する場合は、次のコマンドを実行してユーザープールを削除できます。\n\n```\naws cognito-idp delete-user-pool --user-pool-id user_pool_id\n```\n\n`user_pool_id` は削除するユーザープールの ID に置き換えてください。\n\nあるいは、AWS SDK のいずれかを使用して、プログラムでユーザープールを削除することもできます。具体的なコードは使用するプログラミング言語によって異なります。\n            cognito.delete_user_pool(UserPoolId=user_pool_id)\n            print(f\"✅ Deleted Cognito User Pool: {user_pool_id}\")\n        else:\n            print(\"⚠️ Using default user pool, skipping deletion\")\n    else:\n        print(\"⚠️ No auth_config found\")\nexcept Exception as e:\n    print(f\"⚠️ Cognito cleanup error: {e}\")"
   ]
  },
  {
   "cell_type": "markdown",
   "metadata": {},
   "source": [
    "### Step 8: Delete IAM Role\n\n日本語訳:\n### ステップ 8: IAM ロールの削除\n\n次のコマンドを使用して、作成した IAM ロール `lambda-ex` を削除します。\n\n```\naws iam delete-role --role-name lambda-ex\n```\n\n`delete-role` コマンドは、指定したロール名に関連付けられているすべてのポリシーを削除し、ロールを削除します。ロールが削除されると、コンソールに `Role deleted` というメッセージが表示されます。\n\nロールを削除する前に、そのロールに関連付けられているリソース (Lambda 関数など) がないことを確認してください。関連リソースがある場合は、それらを削除するか、別のロールに関連付ける必要があります。"
   ]
  },
  {
   "cell_type": "code",
   "execution_count": null,
   "metadata": {},
   "outputs": [],
   "source": [
    "iam = boto3.client('iam')\n\ntry:\n    # Detach policies first\n\nポリシーを最初に分離してください。\n\nTo detach a policy from an IAM role, use the `detach-role-policy` command:\n\nIAM ロールからポリシーを分離するには、`detach-role-policy` コマンドを使用します:\n\n```\naws iam detach-role-policy --role-name my-role --policy-arn arn:aws:iam::123456789012:policy/UsefulPolicy\n```\n\nThis command detaches the policy with the ARN `arn:aws:iam::123456789012:policy/UsefulPolicy` from the role named `my-role`.\n\nこのコマンドは、ARN `arn:aws:iam::123456789012:policy/UsefulPolicy` のポリシーを `my-role` という名前のロールから分離します。\n\nTo detach a policy from an IAM user, use the `detach-user-policy` command:\n\nIAM ユーザーからポリシーを分離するには、`detach-user-policy` コマンドを使用します:\n\n```\naws iam detach-user-policy --user-name my-user --policy-arn arn:aws:iam::123456789012:policy/UsefulPolicy\n```\n\nThis command detaches the policy with the ARN `arn:aws:iam::123456789012:policy/UsefulPolicy` from the user named `my-user`.\n\nこのコマンドは、ARN `arn:aws:iam::123456789012:policy/UsefulPolicy` のポリシーを `my-user` という名前のユーザーから分離します。\n    iam.detach_role_policy(\n        RoleName='BedrockAgentCoreGatewayLambdaRole',\n        PolicyArn='arn:aws:iam::aws:policy/AdministratorAccess'\n    )\n    print(\"✅ Detached AdministratorAccess policy\")\n    iam.delete_role_policy(\n        RoleName='BedrockAgentCoreGatewayLambdaRole',\n        PolicyName='BedrockAgentCoreInlinePolicy'\n    )\n    # Delete role\n\n日本語訳:\n\n# ロールの削除\n\nこの機能を使用すると、 `DELETE /roles/{role_id}` API エンドポイントを呼び出して、指定された `role_id` のロールを削除できます。ロールを削除すると、そのロールに関連付けられていたすべてのポリシーとユーザーの割り当ても削除されます。\n\n**注意**: この操作を実行すると、元に戻すことはできません。ロールを削除する前に、そのロールに関連付けられているリソースを確認することをお勧めします。\n    iam.delete_role(RoleName='BedrockAgentCoreGatewayLambdaRole')\n    print(\"✅ Deleted IAM Role: BedrockAgentCoreGatewayLambdaRole\")\n    \nexcept Exception as e:\n    print(f\"⚠️ IAM Role cleanup error: {e}\")"
   ]
  }
 ],
 "metadata": {
  "kernelspec": {
   "display_name": "Python 3",
   "language": "python",
   "name": "python3"
  },
  "language_info": {
   "codemirror_mode": {
    "name": "ipython",
    "version": 3
   },
   "file_extension": ".py",
   "mimetype": "text/x-python",
   "name": "python",
   "nbconvert_exporter": "python",
   "pygments_lexer": "ipython3",
   "version": "3.9.6"
  }
 },
 "nbformat": 4,
 "nbformat_minor": 4
}